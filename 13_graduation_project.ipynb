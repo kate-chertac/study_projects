{
 "cells": [
  {
   "cell_type": "markdown",
   "id": "3889a0af",
   "metadata": {},
   "source": [
    "## Questions to the customer"
   ]
  },
  {
   "cell_type": "markdown",
   "id": "269602aa",
   "metadata": {},
   "source": [
    "1. According to the conditions of the business task, it is necessary to determine the temperature as a target, but in the description of the stages of steel processing it is written that the cycles are repeated so that not only the temperature matches, but also the chemical composition. Is there a discrepancy here or can the chemical composition be neglected?\n",
    "2. Are there recommendations for quality metrics? Well, according to their borders.\n",
    "3. Are there any other special requests from the customer, besides the accuracy of the model? (How could it be without it)\n",
    "4. It begs me to group the data by batches so that there is a total power per batch and the number of cycles (although there are suspicions that the number of cycles will no longer be needed in the future). Am I moving in the right direction?\n",
    "5. Are the data on the supply of bulk materials mandatory input data according to the customer? There are a lot of gaps in them, if the data is needed, then do I understand correctly that if there are gaps, this means that this bulk material was not supplied and I can set 0?\n",
    "6. Can the Customer provide information on the calculation of power consumption? Perhaps there is some formula that contains calculations based on the received initial data?"
   ]
  },
  {
   "cell_type": "markdown",
   "id": "58ca4c81",
   "metadata": {},
   "source": [
    "# Industry"
   ]
  },
  {
   "cell_type": "markdown",
   "id": "7d73784f",
   "metadata": {},
   "source": [
    "<h1>Table of Contents<span class=\"tocSkip\"></span></h1>\n",
    "<br>\n",
    "<div class=\"toc\">\n",
    "  <ul class=\"toc-item\">\n",
    "    <li>\n",
    "      <span>\n",
    "        <a href=\"#Statement-of-the-problem\" data-toc-modified-id=\"Statement-of-the-problem-1\">\n",
    "          <span class=\"toc-item-num\">1&nbsp;&nbsp;</span>Statement of the problem\n",
    "        </a>\n",
    "      </span>\n",
    "    </li>\n",
    "    <li>\n",
    "      <span>\n",
    "        <a href=\"#Research-and-preparation-of-data\" data-toc-modified-id=\"Research-and-preparation-of-data-1\">\n",
    "          <span class=\"toc-item-num\">2&nbsp;&nbsp;</span>Research and preparation of data\n",
    "        </a>\n",
    "      </span>\n",
    "      <ul class=\"toc-item\">\n",
    "        <li>\n",
    "          <span>\n",
    "            <a href=\"#Data-exploration-and-preprocessing\" data-toc-modified-id=\"Data-exploration-and-preprocessing-2.1\">\n",
    "              <span class=\"toc-item-num\">2.1&nbsp;&nbsp;</span>Data exploration and preprocessing\n",
    "            </a>\n",
    "          </span>\n",
    "        </li>\n",
    "        <li>\n",
    "          <span>\n",
    "            <a href=\"#Data-aggregation\" data-toc-modified-id=\"Data-aggregation-2.2\">\n",
    "              <span class=\"toc-item-num\">2.2&nbsp;&nbsp;</span>Data aggregation\n",
    "            </a>\n",
    "          </span>\n",
    "        </li>\n",
    "        <li>\n",
    "          <span>\n",
    "            <a href=\"#Correlation\" data-toc-modified-id=\"Correlation-2.3\">\n",
    "              <span class=\"toc-item-num\">2.3&nbsp;&nbsp;</span>Correlation\n",
    "            </a>\n",
    "          </span>\n",
    "        </li>\n",
    "      </ul>\n",
    "    </li>\n",
    "    <li>\n",
    "      <span>\n",
    "        <a href=\"#Data-Analysis\" data-toc-modified-id=\"Data-Analysis-3\">\n",
    "          <span class=\"toc-item-num\">3&nbsp;&nbsp;</span>Data Analysis\n",
    "        </a>\n",
    "      </span>\n",
    "      <ul class=\"toc-item\">\n",
    "        <li>\n",
    "          <span>\n",
    "            <a href=\"#Preparing-data-for-model-training\" data-toc-modified-id=\"Preparing-data-for-model-training-3.1\">\n",
    "              <span class=\"toc-item-num\">3.1&nbsp;&nbsp;</span>Preparing data for model training\n",
    "            </a>\n",
    "          </span>\n",
    "        </li>\n",
    "        <li>\n",
    "          <span>\n",
    "            <a href=\"#Model-training\" data-toc-modified-id=\"Model-training-3.2\">\n",
    "              <span class=\"toc-item-num\">3.2&nbsp;&nbsp;</span>Model training\n",
    "            </a>\n",
    "          </span>\n",
    "        </li>\n",
    "        <li>\n",
    "          <span>\n",
    "            <a href=\"#Determination-of-the-best-model\" data-toc-modified-id=\"Determination-of-the-best-model-3.3\">\n",
    "              <span class=\"toc-item-num\">3.3&nbsp;&nbsp;</span>Determination of the best model\n",
    "            </a>\n",
    "          </span>\n",
    "        </li>\n",
    "      </ul>\n",
    "    </li>\n",
    "    <li>\n",
    "      <span>\n",
    "        <a href=\"#model\" data-toc-modified-id=\"model-4\">\n",
    "          <span class=\"toc-item-num\">4&nbsp;&nbsp;</span>model\n",
    "        </a>\n",
    "      </span>\n",
    "      <ul class=\"toc-item\">\n",
    "        <li>\n",
    "          <span>\n",
    "            <a href=\"#Checking-the-best-model-on-test-data\" data-toc-modified-id=\"Checking-the-best-model-on-test-data-4.1\">\n",
    "              <span class=\"toc-item-num\">4.1&nbsp;&nbsp;</span>Checking the best model on test data\n",
    "            </a>\n",
    "          </span>\n",
    "        </li>\n",
    "        <li>\n",
    "          <span>\n",
    "            <a href=\"#Identification-of-important-features\" data-toc-modified-id=\"Identification-of-important-features-4.2\">\n",
    "              <span class=\"toc-item-num\">4.2&nbsp;&nbsp;</span>Identification of important features\n",
    "            </a>\n",
    "          </span>\n",
    "        </li>\n",
    "        <li>\n",
    "          <span>\n",
    "            <a href=\"#Making-business-recommendations\" data-toc-modified-id=\"Making-business-recommendations-4.3\">\n",
    "              <span class=\"toc-item-num\">4.3&nbsp;&nbsp;</span>Making business recommendations\n",
    "            </a>\n",
    "          </span>\n",
    "        </li>\n",
    "      </ul>\n",
    "    </li>\n",
    "  </ul>\n",
    "</div>\n"
   ]
  },
  {
   "cell_type": "markdown",
   "id": "06e64d15",
   "metadata": {},
   "source": [
    "## Statement of the problem"
   ]
  },
  {
   "cell_type": "markdown",
   "id": "04bd9274",
   "metadata": {},
   "source": [
    "In order to optimize production costs, the metallurgical plant Tak Temper Steel LLC decided to reduce electricity consumption at the stage of steel processing. You have to build a model that predicts the temperature of the steel."
   ]
  },
  {
   "cell_type": "markdown",
   "id": "584fa852",
   "metadata": {},
   "source": [
    "### Description of the processing step\n",
    "\n",
    "Steel is processed in a metal ladle with a capacity of about 100 tons. In order for the ladle to withstand high temperatures, it is lined with refractory bricks from the inside. Molten steel is poured into a ladle and heated to the desired temperature with graphite electrodes. They are installed in the lid of the bucket.\n",
    "\n",
    "Sulfur is removed from the alloy (desulfurization), the chemical composition is corrected by adding impurities, and samples are taken. Steel is alloyed - its composition is changed - by feeding pieces of alloy from a bunker for bulk materials or wire through a special tribe apparatus.\n",
    "\n",
    "Before introducing alloying additives for the first time, the temperature of the steel is measured and its chemical analysis is carried out. Then the temperature is raised for several minutes, alloying materials are added and the alloy is purged with an inert gas. Then it is stirred and measured again. This cycle is repeated until the target chemical composition and optimum melting temperature are reached.\n",
    "\n",
    "Then the molten steel is sent to finish the metal or enters the continuous casting machine. From there, the finished product comes out in the form of slab blanks."
   ]
  },
  {
   "cell_type": "markdown",
   "id": "129dcc98",
   "metadata": {},
   "source": [
    "## Research and preparation of data"
   ]
  },
  {
   "cell_type": "code",
   "execution_count": 1,
   "id": "80291960",
   "metadata": {},
   "outputs": [],
   "source": [
    "import warnings\n",
    "warnings.filterwarnings(\"ignore\")\n",
    "import pandas as pd \n",
    "import matplotlib.pyplot as plt\n",
    "import numpy as np\n",
    "import seaborn as sns\n",
    "import math\n",
    "from scipy.stats import kstest\n",
    "from sklearn.model_selection import train_test_split, cross_val_score\n",
    "from sklearn.decomposition import PCA\n",
    "from sklearn.preprocessing import StandardScaler\n",
    "from lightgbm import LGBMRegressor\n",
    "from sklearn.linear_model import Ridge\n",
    "from sklearn.linear_model import LinearRegression\n",
    "import time\n",
    "from sklearn.pipeline import Pipeline\n",
    "from sklearn.pipeline import make_pipeline\n",
    "from sklearn.model_selection import GridSearchCV, cross_val_predict\n",
    "from sklearn.metrics import mean_absolute_error\n",
    "from catboost import CatBoostRegressor\n",
    "from sklearn.metrics import make_scorer\n",
    "from sklearn.preprocessing import MinMaxScaler\n",
    "from sklearn.tree import DecisionTreeRegressor\n",
    "from sklearn.dummy import DummyRegressor\n",
    "from sklearn.ensemble import GradientBoostingRegressor"
   ]
  },
  {
   "cell_type": "markdown",
   "id": "5331358f",
   "metadata": {},
   "source": [
    "### Data exploration and preprocessing"
   ]
  },
  {
   "cell_type": "markdown",
   "id": "ed807147",
   "metadata": {},
   "source": [
    "The data consists of files obtained from different sources:\n",
    "\n",
    "- `data_arc_new.csv` - data about electrodes;\n",
    "- `data_bulk_new.csv` - data on the supply of bulk materials (volume);\n",
    "- `data_bulk_time_new.csv` *—* data on the supply of bulk materials (time);\n",
    "- `data_gas_new.csv` — data on alloy gas purge;\n",
    "- `data_temp_new.csv` - temperature measurement results;\n",
    "- `data_wire_new.csv` - data on wire materials (volume);\n",
    "- `data_wire_time_new.csv` - data on wire materials (time).\n",
    "\n",
    "In all files, the `key` column contains the batch number. There can be several lines in files with the same `key` value: they correspond to different processing iterations."
   ]
  },
  {
   "cell_type": "markdown",
   "id": "4f69d169",
   "metadata": {},
   "source": [
    "### Table df_arc"
   ]
  },
  {
   "cell_type": "code",
   "execution_count": 2,
   "id": "1dbe314e",
   "metadata": {},
   "outputs": [
    {
     "data": {
      "text/html": [
       "<div>\n",
       "<style scoped>\n",
       "    .dataframe tbody tr th:only-of-type {\n",
       "        vertical-align: middle;\n",
       "    }\n",
       "\n",
       "    .dataframe tbody tr th {\n",
       "        vertical-align: top;\n",
       "    }\n",
       "\n",
       "    .dataframe thead th {\n",
       "        text-align: right;\n",
       "    }\n",
       "</style>\n",
       "<table border=\"1\" class=\"dataframe\">\n",
       "  <thead>\n",
       "    <tr style=\"text-align: right;\">\n",
       "      <th></th>\n",
       "      <th>key</th>\n",
       "      <th>Начало нагрева дугой</th>\n",
       "      <th>Конец нагрева дугой</th>\n",
       "      <th>Активная мощность</th>\n",
       "      <th>Реактивная мощность</th>\n",
       "    </tr>\n",
       "  </thead>\n",
       "  <tbody>\n",
       "    <tr>\n",
       "      <th>0</th>\n",
       "      <td>1</td>\n",
       "      <td>2019-05-03 11:02:14</td>\n",
       "      <td>2019-05-03 11:06:02</td>\n",
       "      <td>0.305130</td>\n",
       "      <td>0.211253</td>\n",
       "    </tr>\n",
       "    <tr>\n",
       "      <th>1</th>\n",
       "      <td>1</td>\n",
       "      <td>2019-05-03 11:07:28</td>\n",
       "      <td>2019-05-03 11:10:33</td>\n",
       "      <td>0.765658</td>\n",
       "      <td>0.477438</td>\n",
       "    </tr>\n",
       "    <tr>\n",
       "      <th>2</th>\n",
       "      <td>1</td>\n",
       "      <td>2019-05-03 11:11:44</td>\n",
       "      <td>2019-05-03 11:14:36</td>\n",
       "      <td>0.580313</td>\n",
       "      <td>0.430460</td>\n",
       "    </tr>\n",
       "    <tr>\n",
       "      <th>3</th>\n",
       "      <td>1</td>\n",
       "      <td>2019-05-03 11:18:14</td>\n",
       "      <td>2019-05-03 11:24:19</td>\n",
       "      <td>0.518496</td>\n",
       "      <td>0.379979</td>\n",
       "    </tr>\n",
       "    <tr>\n",
       "      <th>4</th>\n",
       "      <td>1</td>\n",
       "      <td>2019-05-03 11:26:09</td>\n",
       "      <td>2019-05-03 11:28:37</td>\n",
       "      <td>0.867133</td>\n",
       "      <td>0.643691</td>\n",
       "    </tr>\n",
       "    <tr>\n",
       "      <th>5</th>\n",
       "      <td>2</td>\n",
       "      <td>2019-05-03 11:34:14</td>\n",
       "      <td>2019-05-03 11:36:31</td>\n",
       "      <td>0.381124</td>\n",
       "      <td>0.220351</td>\n",
       "    </tr>\n",
       "    <tr>\n",
       "      <th>6</th>\n",
       "      <td>2</td>\n",
       "      <td>2019-05-03 11:38:50</td>\n",
       "      <td>2019-05-03 11:44:28</td>\n",
       "      <td>0.261665</td>\n",
       "      <td>0.205527</td>\n",
       "    </tr>\n",
       "    <tr>\n",
       "      <th>7</th>\n",
       "      <td>2</td>\n",
       "      <td>2019-05-03 11:46:19</td>\n",
       "      <td>2019-05-03 11:48:25</td>\n",
       "      <td>0.710297</td>\n",
       "      <td>0.484962</td>\n",
       "    </tr>\n",
       "    <tr>\n",
       "      <th>8</th>\n",
       "      <td>2</td>\n",
       "      <td>2019-05-03 11:49:48</td>\n",
       "      <td>2019-05-03 11:53:18</td>\n",
       "      <td>0.786322</td>\n",
       "      <td>0.542517</td>\n",
       "    </tr>\n",
       "    <tr>\n",
       "      <th>9</th>\n",
       "      <td>3</td>\n",
       "      <td>2019-05-03 12:06:54</td>\n",
       "      <td>2019-05-03 12:11:34</td>\n",
       "      <td>1.101678</td>\n",
       "      <td>0.820856</td>\n",
       "    </tr>\n",
       "  </tbody>\n",
       "</table>\n",
       "</div>"
      ],
      "text/plain": [
       "   key Начало нагрева дугой Конец нагрева дугой  Активная мощность  \\\n",
       "0    1  2019-05-03 11:02:14 2019-05-03 11:06:02           0.305130   \n",
       "1    1  2019-05-03 11:07:28 2019-05-03 11:10:33           0.765658   \n",
       "2    1  2019-05-03 11:11:44 2019-05-03 11:14:36           0.580313   \n",
       "3    1  2019-05-03 11:18:14 2019-05-03 11:24:19           0.518496   \n",
       "4    1  2019-05-03 11:26:09 2019-05-03 11:28:37           0.867133   \n",
       "5    2  2019-05-03 11:34:14 2019-05-03 11:36:31           0.381124   \n",
       "6    2  2019-05-03 11:38:50 2019-05-03 11:44:28           0.261665   \n",
       "7    2  2019-05-03 11:46:19 2019-05-03 11:48:25           0.710297   \n",
       "8    2  2019-05-03 11:49:48 2019-05-03 11:53:18           0.786322   \n",
       "9    3  2019-05-03 12:06:54 2019-05-03 12:11:34           1.101678   \n",
       "\n",
       "   Реактивная мощность  \n",
       "0             0.211253  \n",
       "1             0.477438  \n",
       "2             0.430460  \n",
       "3             0.379979  \n",
       "4             0.643691  \n",
       "5             0.220351  \n",
       "6             0.205527  \n",
       "7             0.484962  \n",
       "8             0.542517  \n",
       "9             0.820856  "
      ]
     },
     "execution_count": 2,
     "metadata": {},
     "output_type": "execute_result"
    }
   ],
   "source": [
    "#electrode data\n",
    "try:\n",
    "    df_arc = pd.read_csv('datasets/13_data_arc_new.csv', parse_dates=['Начало нагрева дугой', 'Конец нагрева дугой'])\n",
    "except FileNotFoundError:\n",
    "    df_arc = pd.read_csv('ya/Итоговый проект/data_arc_new.csv', parse_dates=['Начало нагрева дугой', 'Конец нагрева дугой'])\n",
    "\n",
    "df_arc.head(10)"
   ]
  },
  {
   "cell_type": "code",
   "execution_count": 3,
   "id": "68711b99",
   "metadata": {},
   "outputs": [
    {
     "data": {
      "text/html": [
       "<div>\n",
       "<style scoped>\n",
       "    .dataframe tbody tr th:only-of-type {\n",
       "        vertical-align: middle;\n",
       "    }\n",
       "\n",
       "    .dataframe tbody tr th {\n",
       "        vertical-align: top;\n",
       "    }\n",
       "\n",
       "    .dataframe thead th {\n",
       "        text-align: right;\n",
       "    }\n",
       "</style>\n",
       "<table border=\"1\" class=\"dataframe\">\n",
       "  <thead>\n",
       "    <tr style=\"text-align: right;\">\n",
       "      <th></th>\n",
       "      <th>key</th>\n",
       "      <th>Начало нагрева дугой</th>\n",
       "      <th>Конец нагрева дугой</th>\n",
       "      <th>Активная мощность</th>\n",
       "      <th>Реактивная мощность</th>\n",
       "    </tr>\n",
       "  </thead>\n",
       "  <tbody>\n",
       "    <tr>\n",
       "      <th>14871</th>\n",
       "      <td>3241</td>\n",
       "      <td>2019-09-06 16:49:05</td>\n",
       "      <td>2019-09-06 16:51:42</td>\n",
       "      <td>0.439735</td>\n",
       "      <td>0.299579</td>\n",
       "    </tr>\n",
       "    <tr>\n",
       "      <th>14872</th>\n",
       "      <td>3241</td>\n",
       "      <td>2019-09-06 16:55:11</td>\n",
       "      <td>2019-09-06 16:58:11</td>\n",
       "      <td>0.646498</td>\n",
       "      <td>0.458240</td>\n",
       "    </tr>\n",
       "    <tr>\n",
       "      <th>14873</th>\n",
       "      <td>3241</td>\n",
       "      <td>2019-09-06 17:06:48</td>\n",
       "      <td>2019-09-06 17:09:52</td>\n",
       "      <td>1.039726</td>\n",
       "      <td>0.769302</td>\n",
       "    </tr>\n",
       "    <tr>\n",
       "      <th>14874</th>\n",
       "      <td>3241</td>\n",
       "      <td>2019-09-06 17:21:58</td>\n",
       "      <td>2019-09-06 17:22:55</td>\n",
       "      <td>0.530267</td>\n",
       "      <td>0.361543</td>\n",
       "    </tr>\n",
       "    <tr>\n",
       "      <th>14875</th>\n",
       "      <td>3241</td>\n",
       "      <td>2019-09-06 17:24:54</td>\n",
       "      <td>2019-09-06 17:26:15</td>\n",
       "      <td>0.389057</td>\n",
       "      <td>0.251347</td>\n",
       "    </tr>\n",
       "  </tbody>\n",
       "</table>\n",
       "</div>"
      ],
      "text/plain": [
       "        key Начало нагрева дугой Конец нагрева дугой  Активная мощность  \\\n",
       "14871  3241  2019-09-06 16:49:05 2019-09-06 16:51:42           0.439735   \n",
       "14872  3241  2019-09-06 16:55:11 2019-09-06 16:58:11           0.646498   \n",
       "14873  3241  2019-09-06 17:06:48 2019-09-06 17:09:52           1.039726   \n",
       "14874  3241  2019-09-06 17:21:58 2019-09-06 17:22:55           0.530267   \n",
       "14875  3241  2019-09-06 17:24:54 2019-09-06 17:26:15           0.389057   \n",
       "\n",
       "       Реактивная мощность  \n",
       "14871             0.299579  \n",
       "14872             0.458240  \n",
       "14873             0.769302  \n",
       "14874             0.361543  \n",
       "14875             0.251347  "
      ]
     },
     "execution_count": 3,
     "metadata": {},
     "output_type": "execute_result"
    }
   ],
   "source": [
    "df_arc.tail()"
   ]
  },
  {
   "cell_type": "markdown",
   "id": "6c84c88e",
   "metadata": {},
   "source": [
    "The table contains five columns.\n",
    "- key contains the batch number\n",
    "- Start of arc heating\n",
    "- End of arc heating\n",
    "- Active power\n",
    "- Reactive power"
   ]
  },
  {
   "cell_type": "code",
   "execution_count": 4,
   "id": "f5af18f5",
   "metadata": {},
   "outputs": [
    {
     "data": {
      "text/html": [
       "<div>\n",
       "<style scoped>\n",
       "    .dataframe tbody tr th:only-of-type {\n",
       "        vertical-align: middle;\n",
       "    }\n",
       "\n",
       "    .dataframe tbody tr th {\n",
       "        vertical-align: top;\n",
       "    }\n",
       "\n",
       "    .dataframe thead th {\n",
       "        text-align: right;\n",
       "    }\n",
       "</style>\n",
       "<table border=\"1\" class=\"dataframe\">\n",
       "  <thead>\n",
       "    <tr style=\"text-align: right;\">\n",
       "      <th></th>\n",
       "      <th>Values</th>\n",
       "      <th>Data type</th>\n",
       "      <th>Unique values</th>\n",
       "      <th>Missing</th>\n",
       "      <th>Duplicates</th>\n",
       "    </tr>\n",
       "  </thead>\n",
       "  <tbody>\n",
       "    <tr>\n",
       "      <th>key</th>\n",
       "      <td>[1, 2, 3, 4, 5, 6, 7, 8, 9, 10, 11, 12, 13, 14...</td>\n",
       "      <td>int64</td>\n",
       "      <td>3214</td>\n",
       "      <td>0</td>\n",
       "      <td>0</td>\n",
       "    </tr>\n",
       "    <tr>\n",
       "      <th>Начало нагрева дугой</th>\n",
       "      <td>[2019-05-03T11:02:14.000000000, 2019-05-03T11:...</td>\n",
       "      <td>datetime64[ns]</td>\n",
       "      <td>14876</td>\n",
       "      <td>0</td>\n",
       "      <td>0</td>\n",
       "    </tr>\n",
       "    <tr>\n",
       "      <th>Конец нагрева дугой</th>\n",
       "      <td>[2019-05-03T11:06:02.000000000, 2019-05-03T11:...</td>\n",
       "      <td>datetime64[ns]</td>\n",
       "      <td>14876</td>\n",
       "      <td>0</td>\n",
       "      <td>0</td>\n",
       "    </tr>\n",
       "    <tr>\n",
       "      <th>Активная мощность</th>\n",
       "      <td>[0.30513, 0.765658, 0.580313, 0.518496, 0.8671...</td>\n",
       "      <td>float64</td>\n",
       "      <td>13846</td>\n",
       "      <td>0</td>\n",
       "      <td>0</td>\n",
       "    </tr>\n",
       "    <tr>\n",
       "      <th>Реактивная мощность</th>\n",
       "      <td>[0.211253, 0.477438, 0.43046, 0.379979, 0.6436...</td>\n",
       "      <td>float64</td>\n",
       "      <td>14707</td>\n",
       "      <td>0</td>\n",
       "      <td>0</td>\n",
       "    </tr>\n",
       "  </tbody>\n",
       "</table>\n",
       "</div>"
      ],
      "text/plain": [
       "                                                                 Values  \\\n",
       "key                   [1, 2, 3, 4, 5, 6, 7, 8, 9, 10, 11, 12, 13, 14...   \n",
       "Начало нагрева дугой  [2019-05-03T11:02:14.000000000, 2019-05-03T11:...   \n",
       "Конец нагрева дугой   [2019-05-03T11:06:02.000000000, 2019-05-03T11:...   \n",
       "Активная мощность     [0.30513, 0.765658, 0.580313, 0.518496, 0.8671...   \n",
       "Реактивная мощность   [0.211253, 0.477438, 0.43046, 0.379979, 0.6436...   \n",
       "\n",
       "                           Data type Unique values Missing Duplicates  \n",
       "key                            int64          3214       0          0  \n",
       "Начало нагрева дугой  datetime64[ns]         14876       0          0  \n",
       "Конец нагрева дугой   datetime64[ns]         14876       0          0  \n",
       "Активная мощность            float64         13846       0          0  \n",
       "Реактивная мощность          float64         14707       0          0  "
      ]
     },
     "execution_count": 4,
     "metadata": {},
     "output_type": "execute_result"
    }
   ],
   "source": [
    "# Description function\n",
    "def describe_colums(df):\n",
    "    \n",
    "     values = pd.DataFrame()\n",
    "    \n",
    "     for col in df.columns:\n",
    "         values[col] = [df_arc[col].unique(), df_arc[col].dtypes, df_arc[col].nunique(), df_arc[col].isnull().sum().sum(),\n",
    "                        df_arc.duplicated().sum()]\n",
    "        \n",
    "     return values.transpose().sort_values(by=1, ascending=False).rename(\n",
    "         {0: 'Values', 1: 'Data type', 2: 'Unique values', 3: 'Missing', 4: 'Duplicates'}, axis=1)\n",
    "describe_colums(df_arc)"
   ]
  },
  {
   "cell_type": "code",
   "execution_count": 5,
   "id": "1a163bff",
   "metadata": {},
   "outputs": [
    {
     "data": {
      "text/html": [
       "<div>\n",
       "<style scoped>\n",
       "    .dataframe tbody tr th:only-of-type {\n",
       "        vertical-align: middle;\n",
       "    }\n",
       "\n",
       "    .dataframe tbody tr th {\n",
       "        vertical-align: top;\n",
       "    }\n",
       "\n",
       "    .dataframe thead th {\n",
       "        text-align: right;\n",
       "    }\n",
       "</style>\n",
       "<table border=\"1\" class=\"dataframe\">\n",
       "  <thead>\n",
       "    <tr style=\"text-align: right;\">\n",
       "      <th></th>\n",
       "      <th>key</th>\n",
       "      <th>Активная мощность</th>\n",
       "      <th>Реактивная мощность</th>\n",
       "    </tr>\n",
       "  </thead>\n",
       "  <tbody>\n",
       "    <tr>\n",
       "      <th>count</th>\n",
       "      <td>14876.000000</td>\n",
       "      <td>14876.000000</td>\n",
       "      <td>14876.000000</td>\n",
       "    </tr>\n",
       "    <tr>\n",
       "      <th>mean</th>\n",
       "      <td>1615.220422</td>\n",
       "      <td>0.662752</td>\n",
       "      <td>0.438986</td>\n",
       "    </tr>\n",
       "    <tr>\n",
       "      <th>std</th>\n",
       "      <td>934.571502</td>\n",
       "      <td>0.258885</td>\n",
       "      <td>5.873485</td>\n",
       "    </tr>\n",
       "    <tr>\n",
       "      <th>min</th>\n",
       "      <td>1.000000</td>\n",
       "      <td>0.223120</td>\n",
       "      <td>-715.479924</td>\n",
       "    </tr>\n",
       "    <tr>\n",
       "      <th>25%</th>\n",
       "      <td>806.000000</td>\n",
       "      <td>0.467115</td>\n",
       "      <td>0.337175</td>\n",
       "    </tr>\n",
       "    <tr>\n",
       "      <th>50%</th>\n",
       "      <td>1617.000000</td>\n",
       "      <td>0.599587</td>\n",
       "      <td>0.441639</td>\n",
       "    </tr>\n",
       "    <tr>\n",
       "      <th>75%</th>\n",
       "      <td>2429.000000</td>\n",
       "      <td>0.830070</td>\n",
       "      <td>0.608201</td>\n",
       "    </tr>\n",
       "    <tr>\n",
       "      <th>max</th>\n",
       "      <td>3241.000000</td>\n",
       "      <td>1.463773</td>\n",
       "      <td>1.270284</td>\n",
       "    </tr>\n",
       "  </tbody>\n",
       "</table>\n",
       "</div>"
      ],
      "text/plain": [
       "                key  Активная мощность  Реактивная мощность\n",
       "count  14876.000000       14876.000000         14876.000000\n",
       "mean    1615.220422           0.662752             0.438986\n",
       "std      934.571502           0.258885             5.873485\n",
       "min        1.000000           0.223120          -715.479924\n",
       "25%      806.000000           0.467115             0.337175\n",
       "50%     1617.000000           0.599587             0.441639\n",
       "75%     2429.000000           0.830070             0.608201\n",
       "max     3241.000000           1.463773             1.270284"
      ]
     },
     "execution_count": 5,
     "metadata": {},
     "output_type": "execute_result"
    }
   ],
   "source": [
    "df_arc.describe()"
   ]
  },
  {
   "cell_type": "code",
   "execution_count": 6,
   "id": "08291408",
   "metadata": {},
   "outputs": [
    {
     "data": {
      "text/html": [
       "<div>\n",
       "<style scoped>\n",
       "    .dataframe tbody tr th:only-of-type {\n",
       "        vertical-align: middle;\n",
       "    }\n",
       "\n",
       "    .dataframe tbody tr th {\n",
       "        vertical-align: top;\n",
       "    }\n",
       "\n",
       "    .dataframe thead th {\n",
       "        text-align: right;\n",
       "    }\n",
       "</style>\n",
       "<table border=\"1\" class=\"dataframe\">\n",
       "  <thead>\n",
       "    <tr style=\"text-align: right;\">\n",
       "      <th></th>\n",
       "      <th>Начало нагрева дугой</th>\n",
       "      <th>Конец нагрева дугой</th>\n",
       "      <th>Активная мощность</th>\n",
       "      <th>Реактивная мощность</th>\n",
       "      <th>Количество циклов</th>\n",
       "    </tr>\n",
       "    <tr>\n",
       "      <th>key</th>\n",
       "      <th></th>\n",
       "      <th></th>\n",
       "      <th></th>\n",
       "      <th></th>\n",
       "      <th></th>\n",
       "    </tr>\n",
       "  </thead>\n",
       "  <tbody>\n",
       "    <tr>\n",
       "      <th>1689</th>\n",
       "      <td>2019-07-05 08:07:21</td>\n",
       "      <td>2019-07-05 14:38:46</td>\n",
       "      <td>12.375636</td>\n",
       "      <td>8.949049</td>\n",
       "      <td>15</td>\n",
       "    </tr>\n",
       "    <tr>\n",
       "      <th>1513</th>\n",
       "      <td>2019-06-29 05:41:30</td>\n",
       "      <td>2019-06-29 08:54:03</td>\n",
       "      <td>11.632350</td>\n",
       "      <td>8.572990</td>\n",
       "      <td>15</td>\n",
       "    </tr>\n",
       "    <tr>\n",
       "      <th>2108</th>\n",
       "      <td>2019-07-27 10:41:13</td>\n",
       "      <td>2019-07-27 16:33:58</td>\n",
       "      <td>10.706804</td>\n",
       "      <td>7.589489</td>\n",
       "      <td>16</td>\n",
       "    </tr>\n",
       "    <tr>\n",
       "      <th>46</th>\n",
       "      <td>2019-05-05 03:52:56</td>\n",
       "      <td>2019-05-05 07:16:34</td>\n",
       "      <td>9.180259</td>\n",
       "      <td>7.051945</td>\n",
       "      <td>13</td>\n",
       "    </tr>\n",
       "    <tr>\n",
       "      <th>322</th>\n",
       "      <td>2019-05-15 21:12:28</td>\n",
       "      <td>2019-05-15 23:03:35</td>\n",
       "      <td>8.914806</td>\n",
       "      <td>6.564143</td>\n",
       "      <td>13</td>\n",
       "    </tr>\n",
       "    <tr>\n",
       "      <th>...</th>\n",
       "      <td>...</td>\n",
       "      <td>...</td>\n",
       "      <td>...</td>\n",
       "      <td>...</td>\n",
       "      <td>...</td>\n",
       "    </tr>\n",
       "    <tr>\n",
       "      <th>343</th>\n",
       "      <td>2019-05-16 17:02:54</td>\n",
       "      <td>2019-05-16 17:05:42</td>\n",
       "      <td>0.303670</td>\n",
       "      <td>0.239620</td>\n",
       "      <td>1</td>\n",
       "    </tr>\n",
       "    <tr>\n",
       "      <th>1281</th>\n",
       "      <td>2019-06-20 19:26:26</td>\n",
       "      <td>2019-06-20 19:28:38</td>\n",
       "      <td>0.356664</td>\n",
       "      <td>0.236002</td>\n",
       "      <td>1</td>\n",
       "    </tr>\n",
       "    <tr>\n",
       "      <th>2738</th>\n",
       "      <td>2019-08-19 13:45:28</td>\n",
       "      <td>2019-08-19 13:47:36</td>\n",
       "      <td>0.279524</td>\n",
       "      <td>0.221883</td>\n",
       "      <td>1</td>\n",
       "    </tr>\n",
       "    <tr>\n",
       "      <th>2112</th>\n",
       "      <td>2019-07-27 23:54:41</td>\n",
       "      <td>2019-07-27 23:56:46</td>\n",
       "      <td>0.267676</td>\n",
       "      <td>0.196228</td>\n",
       "      <td>1</td>\n",
       "    </tr>\n",
       "    <tr>\n",
       "      <th>2116</th>\n",
       "      <td>2019-07-28 02:07:12</td>\n",
       "      <td>2019-07-28 02:30:18</td>\n",
       "      <td>2.636797</td>\n",
       "      <td>-713.966032</td>\n",
       "      <td>4</td>\n",
       "    </tr>\n",
       "  </tbody>\n",
       "</table>\n",
       "<p>3214 rows × 5 columns</p>\n",
       "</div>"
      ],
      "text/plain": [
       "     Начало нагрева дугой Конец нагрева дугой  Активная мощность  \\\n",
       "key                                                                \n",
       "1689  2019-07-05 08:07:21 2019-07-05 14:38:46          12.375636   \n",
       "1513  2019-06-29 05:41:30 2019-06-29 08:54:03          11.632350   \n",
       "2108  2019-07-27 10:41:13 2019-07-27 16:33:58          10.706804   \n",
       "46    2019-05-05 03:52:56 2019-05-05 07:16:34           9.180259   \n",
       "322   2019-05-15 21:12:28 2019-05-15 23:03:35           8.914806   \n",
       "...                   ...                 ...                ...   \n",
       "343   2019-05-16 17:02:54 2019-05-16 17:05:42           0.303670   \n",
       "1281  2019-06-20 19:26:26 2019-06-20 19:28:38           0.356664   \n",
       "2738  2019-08-19 13:45:28 2019-08-19 13:47:36           0.279524   \n",
       "2112  2019-07-27 23:54:41 2019-07-27 23:56:46           0.267676   \n",
       "2116  2019-07-28 02:07:12 2019-07-28 02:30:18           2.636797   \n",
       "\n",
       "      Реактивная мощность  Количество циклов  \n",
       "key                                           \n",
       "1689             8.949049                 15  \n",
       "1513             8.572990                 15  \n",
       "2108             7.589489                 16  \n",
       "46               7.051945                 13  \n",
       "322              6.564143                 13  \n",
       "...                   ...                ...  \n",
       "343              0.239620                  1  \n",
       "1281             0.236002                  1  \n",
       "2738             0.221883                  1  \n",
       "2112             0.196228                  1  \n",
       "2116          -713.966032                  4  \n",
       "\n",
       "[3214 rows x 5 columns]"
      ]
     },
     "execution_count": 6,
     "metadata": {},
     "output_type": "execute_result"
    }
   ],
   "source": [
    "grouped = df_arc.groupby('key').agg({'Начало нагрева дугой': 'first', 'Конец нагрева дугой': 'last', 'Активная мощность': 'sum', 'Реактивная мощность': 'sum'})\n",
    "grouped['Количество циклов'] = df_arc.groupby('key').size()\n",
    "grouped.sort_values('Реактивная мощность', ascending=False)"
   ]
  },
  {
   "cell_type": "code",
   "execution_count": 7,
   "id": "c798f3fc",
   "metadata": {},
   "outputs": [
    {
     "data": {
      "text/html": [
       "<div>\n",
       "<style scoped>\n",
       "    .dataframe tbody tr th:only-of-type {\n",
       "        vertical-align: middle;\n",
       "    }\n",
       "\n",
       "    .dataframe tbody tr th {\n",
       "        vertical-align: top;\n",
       "    }\n",
       "\n",
       "    .dataframe thead th {\n",
       "        text-align: right;\n",
       "    }\n",
       "</style>\n",
       "<table border=\"1\" class=\"dataframe\">\n",
       "  <thead>\n",
       "    <tr style=\"text-align: right;\">\n",
       "      <th></th>\n",
       "      <th>key</th>\n",
       "      <th>Начало нагрева дугой</th>\n",
       "      <th>Конец нагрева дугой</th>\n",
       "      <th>Активная мощность</th>\n",
       "      <th>Реактивная мощность</th>\n",
       "    </tr>\n",
       "  </thead>\n",
       "  <tbody>\n",
       "    <tr>\n",
       "      <th>9780</th>\n",
       "      <td>2116</td>\n",
       "      <td>2019-07-28 02:22:08</td>\n",
       "      <td>2019-07-28 02:23:57</td>\n",
       "      <td>0.705344</td>\n",
       "      <td>-715.479924</td>\n",
       "    </tr>\n",
       "  </tbody>\n",
       "</table>\n",
       "</div>"
      ],
      "text/plain": [
       "       key Начало нагрева дугой Конец нагрева дугой  Активная мощность  \\\n",
       "9780  2116  2019-07-28 02:22:08 2019-07-28 02:23:57           0.705344   \n",
       "\n",
       "      Реактивная мощность  \n",
       "9780          -715.479924  "
      ]
     },
     "execution_count": 7,
     "metadata": {},
     "output_type": "execute_result"
    }
   ],
   "source": [
    "df_arc[df_arc['Реактивная мощность'] < 0][['key', 'Начало нагрева дугой', 'Конец нагрева дугой', 'Активная мощность', 'Реактивная мощность']]"
   ]
  },
  {
   "cell_type": "code",
   "execution_count": 8,
   "id": "cfb78e7d",
   "metadata": {},
   "outputs": [
    {
     "data": {
      "text/html": [
       "<div>\n",
       "<style scoped>\n",
       "    .dataframe tbody tr th:only-of-type {\n",
       "        vertical-align: middle;\n",
       "    }\n",
       "\n",
       "    .dataframe tbody tr th {\n",
       "        vertical-align: top;\n",
       "    }\n",
       "\n",
       "    .dataframe thead th {\n",
       "        text-align: right;\n",
       "    }\n",
       "</style>\n",
       "<table border=\"1\" class=\"dataframe\">\n",
       "  <thead>\n",
       "    <tr style=\"text-align: right;\">\n",
       "      <th></th>\n",
       "      <th>key</th>\n",
       "      <th>Начало нагрева дугой</th>\n",
       "      <th>Конец нагрева дугой</th>\n",
       "      <th>Активная мощность</th>\n",
       "      <th>Реактивная мощность</th>\n",
       "    </tr>\n",
       "  </thead>\n",
       "  <tbody>\n",
       "    <tr>\n",
       "      <th>9778</th>\n",
       "      <td>2116</td>\n",
       "      <td>2019-07-28 02:07:12</td>\n",
       "      <td>2019-07-28 02:09:14</td>\n",
       "      <td>0.787549</td>\n",
       "      <td>0.693881</td>\n",
       "    </tr>\n",
       "    <tr>\n",
       "      <th>9779</th>\n",
       "      <td>2116</td>\n",
       "      <td>2019-07-28 02:13:10</td>\n",
       "      <td>2019-07-28 02:15:25</td>\n",
       "      <td>0.580263</td>\n",
       "      <td>0.411498</td>\n",
       "    </tr>\n",
       "    <tr>\n",
       "      <th>9780</th>\n",
       "      <td>2116</td>\n",
       "      <td>2019-07-28 02:22:08</td>\n",
       "      <td>2019-07-28 02:23:57</td>\n",
       "      <td>0.705344</td>\n",
       "      <td>0.513887</td>\n",
       "    </tr>\n",
       "    <tr>\n",
       "      <th>9781</th>\n",
       "      <td>2116</td>\n",
       "      <td>2019-07-28 02:29:11</td>\n",
       "      <td>2019-07-28 02:30:18</td>\n",
       "      <td>0.563641</td>\n",
       "      <td>0.408513</td>\n",
       "    </tr>\n",
       "  </tbody>\n",
       "</table>\n",
       "</div>"
      ],
      "text/plain": [
       "       key Начало нагрева дугой Конец нагрева дугой  Активная мощность  \\\n",
       "9778  2116  2019-07-28 02:07:12 2019-07-28 02:09:14           0.787549   \n",
       "9779  2116  2019-07-28 02:13:10 2019-07-28 02:15:25           0.580263   \n",
       "9780  2116  2019-07-28 02:22:08 2019-07-28 02:23:57           0.705344   \n",
       "9781  2116  2019-07-28 02:29:11 2019-07-28 02:30:18           0.563641   \n",
       "\n",
       "      Реактивная мощность  \n",
       "9778             0.693881  \n",
       "9779             0.411498  \n",
       "9780             0.513887  \n",
       "9781             0.408513  "
      ]
     },
     "execution_count": 8,
     "metadata": {},
     "output_type": "execute_result"
    }
   ],
   "source": [
    "#fill in the identified outlier by the average value of rows with similar\n",
    "\n",
    "# Select rows according to the given condition\n",
    "selected_rows = df_arc[(df_arc['Активная мощность'] > 0.705) & (df_arc['Активная мощность'] < 0.706) & (df_arc['key'] != 2116)]\n",
    "\n",
    "# Calculate the average value in the 'Active power' column for the selected rows\n",
    "mean_active_power = selected_rows['Реактивная мощность'].mean()\n",
    "\n",
    "# Replace the value in the 'Active power' column with the average value\n",
    "df_arc.loc[df_arc['Реактивная мощность'] < 0, ['Реактивная мощность']] = mean_active_power\n",
    "\n",
    "# Output the result\n",
    "df_arc[df_arc['key'] == 2116][['key', 'Начало нагрева дугой', 'Конец нагрева дугой', 'Активная мощность', 'Реактивная мощность']]\n"
   ]
  },
  {
   "cell_type": "code",
   "execution_count": 9,
   "id": "d387e2c3",
   "metadata": {},
   "outputs": [
    {
     "data": {
      "image/png": "[encoded data removed]",
      "text/plain": [
       "<Figure size 432x288 with 1 Axes>"
      ]
     },
     "metadata": {
      "needs_background": "light"
     },
     "output_type": "display_data"
    }
   ],
   "source": [
    "grouped_by_cycles = grouped.groupby('Количество циклов').size().reset_index(name='Частота')\n",
    "plt.bar(grouped_by_cycles['Количество циклов'], grouped_by_cycles['Частота'])\n",
    "plt.xlabel('Number of cycles')\n",
    "plt.ylabel('Frequency')\n",
    "plt.title('Distribution of the number of cycles')\n",
    "plt.show()"
   ]
  },
  {
   "cell_type": "markdown",
   "id": "2761bb2a",
   "metadata": {},
   "source": [
    "Most often there are several cycles at this stage of the technological process, the most common number of cycles is 3-6."
   ]
  },
  {
   "cell_type": "code",
   "execution_count": 10,
   "id": "421c578f",
   "metadata": {},
   "outputs": [
    {
     "data": {
      "image/png": "[encoded data removed]",
      "text/plain": [
       "<Figure size 1080x360 with 2 Axes>"
      ]
     },
     "metadata": {
      "needs_background": "light"
     },
     "output_type": "display_data"
    }
   ],
   "source": [
    "# Create a shared Figure and Axes object\n",
    "fig, axs = plt.subplots(ncols=2, figsize=(15, 5))\n",
    "\n",
    "# graph 1\n",
    "sns.histplot(ax=axs[0], data=grouped, x='Активная мощность', bins=50)\n",
    "axs[0].set_title('Total Active Power Distribution')\n",
    "axs[0].set_xlabel('Active power')\n",
    "axs[0].set_ylabel('Frequency')\n",
    "\n",
    "# graph 2\n",
    "sns.boxplot(ax=axs[1], data=df_arc, x='Активная мощность')\n",
    "axs[1].set_title('Active Power Distribution')\n",
    "\n",
    "# Display graphs\n",
    "plt.show()"
   ]
  },
  {
   "cell_type": "markdown",
   "id": "ff12ea36",
   "metadata": {},
   "source": [
    "- There are no gaps and duplicates in the table, which is good.\n",
    "- The number of unique key values is significantly less than strings. This means that several cycles in technology are allowed.\n",
    "- The columns have different styles of names, but we will change them already in the combined table.\n",
    "- The start and end of the arc heating have already been converted into a date format."
   ]
  },
  {
   "cell_type": "code",
   "execution_count": 11,
   "id": "6efa712c",
   "metadata": {},
   "outputs": [
    {
     "data": {
      "image/png": "[encoded data removed]",
      "text/plain": [
       "<Figure size 1080x360 with 2 Axes>"
      ]
     },
     "metadata": {
      "needs_background": "light"
     },
     "output_type": "display_data"
    }
   ],
   "source": [
    "# Создание общего объекта Figure и Axes\n",
    "fig, axs = plt.subplots(ncols=2, figsize=(15, 5))\n",
    "\n",
    "# График 1\n",
    "sns.histplot(ax=axs[0], data=grouped[grouped['Реактивная мощность'] > 0], x='Реактивная мощность', bins=50)\n",
    "axs[0].set_title('Reactive Power Distribution')\n",
    "axs[0].set_xlabel('Reactive power')\n",
    "axs[0].set_ylabel('Frequency')\n",
    "# График 2\n",
    "sns.boxplot(ax=axs[1], data=df_arc, x='Реактивная мощность')\n",
    "axs[1].set_title('Reactive power distribution')\n",
    "\n",
    "# Отображение графиков\n",
    "plt.show()"
   ]
  },
  {
   "cell_type": "markdown",
   "id": "b921c000",
   "metadata": {},
   "source": [
    "Графики выглядят нормальными с небольшими хвостами вправо. Ящики с усами показывают выбросы, от которых можно избавиться."
   ]
  },
  {
   "cell_type": "code",
   "execution_count": 12,
   "id": "92bccb7f",
   "metadata": {},
   "outputs": [
    {
     "name": "stdout",
     "output_type": "stream",
     "text": [
      "Number of outliers in column Reactive power: 55\n",
      "Number of outliers in column Active power: 75\n"
     ]
    }
   ],
   "source": [
    "count = (df_arc['Реактивная мощность'] > 1.1).sum()\n",
    "print('Number of outliers in column Reactive power:', count)\n",
    "count = (df_arc['Активная мощность'] > 1.37).sum()\n",
    "print('Number of outliers in column Active power:', count)"
   ]
  },
  {
   "cell_type": "code",
   "execution_count": 13,
   "id": "59bb59e6",
   "metadata": {},
   "outputs": [
    {
     "data": {
      "text/html": [
       "<div>\n",
       "<style scoped>\n",
       "    .dataframe tbody tr th:only-of-type {\n",
       "        vertical-align: middle;\n",
       "    }\n",
       "\n",
       "    .dataframe tbody tr th {\n",
       "        vertical-align: top;\n",
       "    }\n",
       "\n",
       "    .dataframe thead th {\n",
       "        text-align: right;\n",
       "    }\n",
       "</style>\n",
       "<table border=\"1\" class=\"dataframe\">\n",
       "  <thead>\n",
       "    <tr style=\"text-align: right;\">\n",
       "      <th></th>\n",
       "      <th>key</th>\n",
       "      <th>Начало нагрева дугой</th>\n",
       "      <th>Конец нагрева дугой</th>\n",
       "      <th>Активная мощность</th>\n",
       "      <th>Реактивная мощность</th>\n",
       "    </tr>\n",
       "  </thead>\n",
       "  <tbody>\n",
       "    <tr>\n",
       "      <th>171</th>\n",
       "      <td>38</td>\n",
       "      <td>2019-05-04 17:18:40</td>\n",
       "      <td>2019-05-04 17:21:07</td>\n",
       "      <td>1.336674</td>\n",
       "      <td>1.213404</td>\n",
       "    </tr>\n",
       "    <tr>\n",
       "      <th>681</th>\n",
       "      <td>147</td>\n",
       "      <td>2019-05-09 05:38:07</td>\n",
       "      <td>2019-05-09 05:40:09</td>\n",
       "      <td>1.356187</td>\n",
       "      <td>1.100693</td>\n",
       "    </tr>\n",
       "    <tr>\n",
       "      <th>715</th>\n",
       "      <td>154</td>\n",
       "      <td>2019-05-09 13:09:17</td>\n",
       "      <td>2019-05-09 13:12:23</td>\n",
       "      <td>1.385760</td>\n",
       "      <td>1.102745</td>\n",
       "    </tr>\n",
       "    <tr>\n",
       "      <th>1752</th>\n",
       "      <td>378</td>\n",
       "      <td>2019-05-18 04:02:47</td>\n",
       "      <td>2019-05-18 04:07:06</td>\n",
       "      <td>1.222224</td>\n",
       "      <td>1.142268</td>\n",
       "    </tr>\n",
       "    <tr>\n",
       "      <th>2430</th>\n",
       "      <td>524</td>\n",
       "      <td>2019-05-23 11:06:23</td>\n",
       "      <td>2019-05-23 11:09:30</td>\n",
       "      <td>1.296125</td>\n",
       "      <td>1.125178</td>\n",
       "    </tr>\n",
       "    <tr>\n",
       "      <th>2591</th>\n",
       "      <td>564</td>\n",
       "      <td>2019-05-24 23:02:49</td>\n",
       "      <td>2019-05-24 23:05:31</td>\n",
       "      <td>1.410455</td>\n",
       "      <td>1.270284</td>\n",
       "    </tr>\n",
       "    <tr>\n",
       "      <th>2674</th>\n",
       "      <td>582</td>\n",
       "      <td>2019-05-25 12:35:49</td>\n",
       "      <td>2019-05-25 12:37:18</td>\n",
       "      <td>1.421234</td>\n",
       "      <td>1.158825</td>\n",
       "    </tr>\n",
       "    <tr>\n",
       "      <th>2740</th>\n",
       "      <td>595</td>\n",
       "      <td>2019-05-26 01:04:21</td>\n",
       "      <td>2019-05-26 01:06:21</td>\n",
       "      <td>1.290193</td>\n",
       "      <td>1.111593</td>\n",
       "    </tr>\n",
       "    <tr>\n",
       "      <th>2768</th>\n",
       "      <td>601</td>\n",
       "      <td>2019-05-26 06:08:03</td>\n",
       "      <td>2019-05-26 06:12:53</td>\n",
       "      <td>1.386709</td>\n",
       "      <td>1.198990</td>\n",
       "    </tr>\n",
       "    <tr>\n",
       "      <th>2891</th>\n",
       "      <td>630</td>\n",
       "      <td>2019-05-27 13:06:54</td>\n",
       "      <td>2019-05-27 13:10:30</td>\n",
       "      <td>1.239881</td>\n",
       "      <td>1.132839</td>\n",
       "    </tr>\n",
       "  </tbody>\n",
       "</table>\n",
       "</div>"
      ],
      "text/plain": [
       "      key Начало нагрева дугой Конец нагрева дугой  Активная мощность  \\\n",
       "171    38  2019-05-04 17:18:40 2019-05-04 17:21:07           1.336674   \n",
       "681   147  2019-05-09 05:38:07 2019-05-09 05:40:09           1.356187   \n",
       "715   154  2019-05-09 13:09:17 2019-05-09 13:12:23           1.385760   \n",
       "1752  378  2019-05-18 04:02:47 2019-05-18 04:07:06           1.222224   \n",
       "2430  524  2019-05-23 11:06:23 2019-05-23 11:09:30           1.296125   \n",
       "2591  564  2019-05-24 23:02:49 2019-05-24 23:05:31           1.410455   \n",
       "2674  582  2019-05-25 12:35:49 2019-05-25 12:37:18           1.421234   \n",
       "2740  595  2019-05-26 01:04:21 2019-05-26 01:06:21           1.290193   \n",
       "2768  601  2019-05-26 06:08:03 2019-05-26 06:12:53           1.386709   \n",
       "2891  630  2019-05-27 13:06:54 2019-05-27 13:10:30           1.239881   \n",
       "\n",
       "      Реактивная мощность  \n",
       "171              1.213404  \n",
       "681              1.100693  \n",
       "715              1.102745  \n",
       "1752             1.142268  \n",
       "2430             1.125178  \n",
       "2591             1.270284  \n",
       "2674             1.158825  \n",
       "2740             1.111593  \n",
       "2768             1.198990  \n",
       "2891             1.132839  "
      ]
     },
     "execution_count": 13,
     "metadata": {},
     "output_type": "execute_result"
    }
   ],
   "source": [
    "df_arc.loc[df_arc['Реактивная мощность'] > 1.1].head(10)"
   ]
  },
  {
   "cell_type": "code",
   "execution_count": 14,
   "id": "818804e1",
   "metadata": {},
   "outputs": [
    {
     "data": {
      "text/html": [
       "<div>\n",
       "<style scoped>\n",
       "    .dataframe tbody tr th:only-of-type {\n",
       "        vertical-align: middle;\n",
       "    }\n",
       "\n",
       "    .dataframe tbody tr th {\n",
       "        vertical-align: top;\n",
       "    }\n",
       "\n",
       "    .dataframe thead th {\n",
       "        text-align: right;\n",
       "    }\n",
       "</style>\n",
       "<table border=\"1\" class=\"dataframe\">\n",
       "  <thead>\n",
       "    <tr style=\"text-align: right;\">\n",
       "      <th></th>\n",
       "      <th>key</th>\n",
       "      <th>Начало нагрева дугой</th>\n",
       "      <th>Конец нагрева дугой</th>\n",
       "      <th>Активная мощность</th>\n",
       "      <th>Реактивная мощность</th>\n",
       "    </tr>\n",
       "  </thead>\n",
       "  <tbody>\n",
       "    <tr>\n",
       "      <th>542</th>\n",
       "      <td>118</td>\n",
       "      <td>2019-05-08 01:44:53</td>\n",
       "      <td>2019-05-08 01:46:39</td>\n",
       "      <td>1.406450</td>\n",
       "      <td>0.855752</td>\n",
       "    </tr>\n",
       "    <tr>\n",
       "      <th>684</th>\n",
       "      <td>147</td>\n",
       "      <td>2019-05-09 06:05:20</td>\n",
       "      <td>2019-05-09 06:08:54</td>\n",
       "      <td>1.394768</td>\n",
       "      <td>0.918751</td>\n",
       "    </tr>\n",
       "    <tr>\n",
       "      <th>715</th>\n",
       "      <td>154</td>\n",
       "      <td>2019-05-09 13:09:17</td>\n",
       "      <td>2019-05-09 13:12:23</td>\n",
       "      <td>1.385760</td>\n",
       "      <td>1.102745</td>\n",
       "    </tr>\n",
       "    <tr>\n",
       "      <th>775</th>\n",
       "      <td>165</td>\n",
       "      <td>2019-05-09 23:00:14</td>\n",
       "      <td>2019-05-09 23:03:11</td>\n",
       "      <td>1.397799</td>\n",
       "      <td>1.081590</td>\n",
       "    </tr>\n",
       "    <tr>\n",
       "      <th>951</th>\n",
       "      <td>204</td>\n",
       "      <td>2019-05-11 08:16:29</td>\n",
       "      <td>2019-05-11 08:18:32</td>\n",
       "      <td>1.406975</td>\n",
       "      <td>0.936539</td>\n",
       "    </tr>\n",
       "    <tr>\n",
       "      <th>1054</th>\n",
       "      <td>228</td>\n",
       "      <td>2019-05-12 07:32:37</td>\n",
       "      <td>2019-05-12 07:35:21</td>\n",
       "      <td>1.419545</td>\n",
       "      <td>0.991214</td>\n",
       "    </tr>\n",
       "    <tr>\n",
       "      <th>1102</th>\n",
       "      <td>237</td>\n",
       "      <td>2019-05-12 16:05:44</td>\n",
       "      <td>2019-05-12 16:09:46</td>\n",
       "      <td>1.391735</td>\n",
       "      <td>0.899492</td>\n",
       "    </tr>\n",
       "    <tr>\n",
       "      <th>1358</th>\n",
       "      <td>296</td>\n",
       "      <td>2019-05-14 22:07:03</td>\n",
       "      <td>2019-05-14 22:09:22</td>\n",
       "      <td>1.390770</td>\n",
       "      <td>1.091180</td>\n",
       "    </tr>\n",
       "    <tr>\n",
       "      <th>1403</th>\n",
       "      <td>304</td>\n",
       "      <td>2019-05-15 05:24:44</td>\n",
       "      <td>2019-05-15 05:29:16</td>\n",
       "      <td>1.378677</td>\n",
       "      <td>0.848657</td>\n",
       "    </tr>\n",
       "    <tr>\n",
       "      <th>1467</th>\n",
       "      <td>317</td>\n",
       "      <td>2019-05-15 16:16:41</td>\n",
       "      <td>2019-05-15 16:18:18</td>\n",
       "      <td>1.381234</td>\n",
       "      <td>0.963517</td>\n",
       "    </tr>\n",
       "  </tbody>\n",
       "</table>\n",
       "</div>"
      ],
      "text/plain": [
       "      key Начало нагрева дугой Конец нагрева дугой  Активная мощность  \\\n",
       "542   118  2019-05-08 01:44:53 2019-05-08 01:46:39           1.406450   \n",
       "684   147  2019-05-09 06:05:20 2019-05-09 06:08:54           1.394768   \n",
       "715   154  2019-05-09 13:09:17 2019-05-09 13:12:23           1.385760   \n",
       "775   165  2019-05-09 23:00:14 2019-05-09 23:03:11           1.397799   \n",
       "951   204  2019-05-11 08:16:29 2019-05-11 08:18:32           1.406975   \n",
       "1054  228  2019-05-12 07:32:37 2019-05-12 07:35:21           1.419545   \n",
       "1102  237  2019-05-12 16:05:44 2019-05-12 16:09:46           1.391735   \n",
       "1358  296  2019-05-14 22:07:03 2019-05-14 22:09:22           1.390770   \n",
       "1403  304  2019-05-15 05:24:44 2019-05-15 05:29:16           1.378677   \n",
       "1467  317  2019-05-15 16:16:41 2019-05-15 16:18:18           1.381234   \n",
       "\n",
       "      Реактивная мощность  \n",
       "542              0.855752  \n",
       "684              0.918751  \n",
       "715              1.102745  \n",
       "775              1.081590  \n",
       "951              0.936539  \n",
       "1054             0.991214  \n",
       "1102             0.899492  \n",
       "1358             1.091180  \n",
       "1403             0.848657  \n",
       "1467             0.963517  "
      ]
     },
     "execution_count": 14,
     "metadata": {},
     "output_type": "execute_result"
    }
   ],
   "source": [
    "df_arc.loc[df_arc['Активная мощность'] > 1.37].head(10)"
   ]
  },
  {
   "cell_type": "markdown",
   "id": "56c47700",
   "metadata": {},
   "source": [
    "The number of outliers is insignificant, less than 1% of the sample, and their values look adequate. They can be left unchanged."
   ]
  },
  {
   "cell_type": "code",
   "execution_count": 15,
   "id": "ce367942",
   "metadata": {},
   "outputs": [
    {
     "data": {
      "text/html": [
       "<div>\n",
       "<style scoped>\n",
       "    .dataframe tbody tr th:only-of-type {\n",
       "        vertical-align: middle;\n",
       "    }\n",
       "\n",
       "    .dataframe tbody tr th {\n",
       "        vertical-align: top;\n",
       "    }\n",
       "\n",
       "    .dataframe thead th {\n",
       "        text-align: right;\n",
       "    }\n",
       "</style>\n",
       "<table border=\"1\" class=\"dataframe\">\n",
       "  <thead>\n",
       "    <tr style=\"text-align: right;\">\n",
       "      <th></th>\n",
       "      <th>key</th>\n",
       "      <th>Начало нагрева дугой</th>\n",
       "      <th>Конец нагрева дугой</th>\n",
       "      <th>Активная мощность</th>\n",
       "      <th>Реактивная мощность</th>\n",
       "      <th>Продолжительность</th>\n",
       "    </tr>\n",
       "  </thead>\n",
       "  <tbody>\n",
       "    <tr>\n",
       "      <th>0</th>\n",
       "      <td>1</td>\n",
       "      <td>2019-05-03 11:02:14</td>\n",
       "      <td>2019-05-03 11:06:02</td>\n",
       "      <td>0.305130</td>\n",
       "      <td>0.211253</td>\n",
       "      <td>228.0</td>\n",
       "    </tr>\n",
       "    <tr>\n",
       "      <th>1</th>\n",
       "      <td>1</td>\n",
       "      <td>2019-05-03 11:07:28</td>\n",
       "      <td>2019-05-03 11:10:33</td>\n",
       "      <td>0.765658</td>\n",
       "      <td>0.477438</td>\n",
       "      <td>185.0</td>\n",
       "    </tr>\n",
       "    <tr>\n",
       "      <th>2</th>\n",
       "      <td>1</td>\n",
       "      <td>2019-05-03 11:11:44</td>\n",
       "      <td>2019-05-03 11:14:36</td>\n",
       "      <td>0.580313</td>\n",
       "      <td>0.430460</td>\n",
       "      <td>172.0</td>\n",
       "    </tr>\n",
       "    <tr>\n",
       "      <th>3</th>\n",
       "      <td>1</td>\n",
       "      <td>2019-05-03 11:18:14</td>\n",
       "      <td>2019-05-03 11:24:19</td>\n",
       "      <td>0.518496</td>\n",
       "      <td>0.379979</td>\n",
       "      <td>365.0</td>\n",
       "    </tr>\n",
       "    <tr>\n",
       "      <th>4</th>\n",
       "      <td>1</td>\n",
       "      <td>2019-05-03 11:26:09</td>\n",
       "      <td>2019-05-03 11:28:37</td>\n",
       "      <td>0.867133</td>\n",
       "      <td>0.643691</td>\n",
       "      <td>148.0</td>\n",
       "    </tr>\n",
       "  </tbody>\n",
       "</table>\n",
       "</div>"
      ],
      "text/plain": [
       "   key Начало нагрева дугой Конец нагрева дугой  Активная мощность  \\\n",
       "0    1  2019-05-03 11:02:14 2019-05-03 11:06:02           0.305130   \n",
       "1    1  2019-05-03 11:07:28 2019-05-03 11:10:33           0.765658   \n",
       "2    1  2019-05-03 11:11:44 2019-05-03 11:14:36           0.580313   \n",
       "3    1  2019-05-03 11:18:14 2019-05-03 11:24:19           0.518496   \n",
       "4    1  2019-05-03 11:26:09 2019-05-03 11:28:37           0.867133   \n",
       "\n",
       "   Реактивная мощность  Продолжительность  \n",
       "0             0.211253              228.0  \n",
       "1             0.477438              185.0  \n",
       "2             0.430460              172.0  \n",
       "3             0.379979              365.0  \n",
       "4             0.643691              148.0  "
      ]
     },
     "execution_count": 15,
     "metadata": {},
     "output_type": "execute_result"
    }
   ],
   "source": [
    "#calculation of total time\n",
    "# Calculate cycle time\n",
    "df_arc['Продолжительность'] = (df_arc['Конец нагрева дугой'] - df_arc['Начало нагрева дугой']).dt.total_seconds()\n",
    "# Display the first 5 rows of the table with the cycle duration column added\n",
    "df_arc.head()"
   ]
  },
  {
   "cell_type": "markdown",
   "id": "b7655331",
   "metadata": {},
   "source": [
    "Now it is possible to calculate the total power consumption (Общая мощность):\n",
    "\n",
    "$$ S = \\sqrt{P^2 + Q^2} * t$$\n",
    "\n",
    "Where:\n",
    "- P - Active power,\n",
    "- Q - Reactive power,\n",
    "- t - Duration"
   ]
  },
  {
   "cell_type": "code",
   "execution_count": 16,
   "id": "73dc722e",
   "metadata": {},
   "outputs": [
    {
     "data": {
      "text/html": [
       "<div>\n",
       "<style scoped>\n",
       "    .dataframe tbody tr th:only-of-type {\n",
       "        vertical-align: middle;\n",
       "    }\n",
       "\n",
       "    .dataframe tbody tr th {\n",
       "        vertical-align: top;\n",
       "    }\n",
       "\n",
       "    .dataframe thead th {\n",
       "        text-align: right;\n",
       "    }\n",
       "</style>\n",
       "<table border=\"1\" class=\"dataframe\">\n",
       "  <thead>\n",
       "    <tr style=\"text-align: right;\">\n",
       "      <th></th>\n",
       "      <th>key</th>\n",
       "      <th>Начало нагрева дугой</th>\n",
       "      <th>Конец нагрева дугой</th>\n",
       "      <th>Активная мощность</th>\n",
       "      <th>Реактивная мощность</th>\n",
       "      <th>Продолжительность</th>\n",
       "      <th>Общая мощность</th>\n",
       "    </tr>\n",
       "  </thead>\n",
       "  <tbody>\n",
       "    <tr>\n",
       "      <th>13760</th>\n",
       "      <td>2985</td>\n",
       "      <td>2019-08-28 21:57:30</td>\n",
       "      <td>2019-08-28 22:08:37</td>\n",
       "      <td>1.346628</td>\n",
       "      <td>0.911802</td>\n",
       "      <td>667.0</td>\n",
       "      <td>1084.729420</td>\n",
       "    </tr>\n",
       "    <tr>\n",
       "      <th>7799</th>\n",
       "      <td>1689</td>\n",
       "      <td>2019-07-05 11:30:50</td>\n",
       "      <td>2019-07-05 11:45:57</td>\n",
       "      <td>0.966775</td>\n",
       "      <td>0.675200</td>\n",
       "      <td>907.0</td>\n",
       "      <td>1069.548361</td>\n",
       "    </tr>\n",
       "    <tr>\n",
       "      <th>12424</th>\n",
       "      <td>2701</td>\n",
       "      <td>2019-08-18 00:40:31</td>\n",
       "      <td>2019-08-18 00:54:17</td>\n",
       "      <td>1.027288</td>\n",
       "      <td>0.769083</td>\n",
       "      <td>826.0</td>\n",
       "      <td>1059.989839</td>\n",
       "    </tr>\n",
       "    <tr>\n",
       "      <th>2027</th>\n",
       "      <td>437</td>\n",
       "      <td>2019-05-20 02:40:51</td>\n",
       "      <td>2019-05-20 02:52:03</td>\n",
       "      <td>1.317476</td>\n",
       "      <td>0.856872</td>\n",
       "      <td>672.0</td>\n",
       "      <td>1056.125051</td>\n",
       "    </tr>\n",
       "    <tr>\n",
       "      <th>9182</th>\n",
       "      <td>1992</td>\n",
       "      <td>2019-07-23 02:35:50</td>\n",
       "      <td>2019-07-23 02:45:08</td>\n",
       "      <td>1.337070</td>\n",
       "      <td>1.000844</td>\n",
       "      <td>558.0</td>\n",
       "      <td>931.951029</td>\n",
       "    </tr>\n",
       "    <tr>\n",
       "      <th>...</th>\n",
       "      <td>...</td>\n",
       "      <td>...</td>\n",
       "      <td>...</td>\n",
       "      <td>...</td>\n",
       "      <td>...</td>\n",
       "      <td>...</td>\n",
       "      <td>...</td>\n",
       "    </tr>\n",
       "    <tr>\n",
       "      <th>4063</th>\n",
       "      <td>873</td>\n",
       "      <td>2019-06-06 12:25:13</td>\n",
       "      <td>2019-06-06 12:25:24</td>\n",
       "      <td>0.527412</td>\n",
       "      <td>0.384561</td>\n",
       "      <td>11.0</td>\n",
       "      <td>7.179981</td>\n",
       "    </tr>\n",
       "    <tr>\n",
       "      <th>7372</th>\n",
       "      <td>1601</td>\n",
       "      <td>2019-07-02 13:07:56</td>\n",
       "      <td>2019-07-02 13:08:07</td>\n",
       "      <td>0.510212</td>\n",
       "      <td>0.385029</td>\n",
       "      <td>11.0</td>\n",
       "      <td>7.031088</td>\n",
       "    </tr>\n",
       "    <tr>\n",
       "      <th>10210</th>\n",
       "      <td>2213</td>\n",
       "      <td>2019-07-31 06:30:24</td>\n",
       "      <td>2019-07-31 06:30:39</td>\n",
       "      <td>0.349767</td>\n",
       "      <td>0.256018</td>\n",
       "      <td>15.0</td>\n",
       "      <td>6.501807</td>\n",
       "    </tr>\n",
       "    <tr>\n",
       "      <th>508</th>\n",
       "      <td>110</td>\n",
       "      <td>2019-05-07 11:58:29</td>\n",
       "      <td>2019-05-07 11:58:47</td>\n",
       "      <td>0.293605</td>\n",
       "      <td>0.207924</td>\n",
       "      <td>18.0</td>\n",
       "      <td>6.475906</td>\n",
       "    </tr>\n",
       "    <tr>\n",
       "      <th>6590</th>\n",
       "      <td>1433</td>\n",
       "      <td>2019-06-26 06:46:07</td>\n",
       "      <td>2019-06-26 06:46:18</td>\n",
       "      <td>0.484169</td>\n",
       "      <td>0.324194</td>\n",
       "      <td>11.0</td>\n",
       "      <td>6.409531</td>\n",
       "    </tr>\n",
       "  </tbody>\n",
       "</table>\n",
       "<p>14876 rows × 7 columns</p>\n",
       "</div>"
      ],
      "text/plain": [
       "        key Начало нагрева дугой Конец нагрева дугой  Активная мощность  \\\n",
       "13760  2985  2019-08-28 21:57:30 2019-08-28 22:08:37           1.346628   \n",
       "7799   1689  2019-07-05 11:30:50 2019-07-05 11:45:57           0.966775   \n",
       "12424  2701  2019-08-18 00:40:31 2019-08-18 00:54:17           1.027288   \n",
       "2027    437  2019-05-20 02:40:51 2019-05-20 02:52:03           1.317476   \n",
       "9182   1992  2019-07-23 02:35:50 2019-07-23 02:45:08           1.337070   \n",
       "...     ...                  ...                 ...                ...   \n",
       "4063    873  2019-06-06 12:25:13 2019-06-06 12:25:24           0.527412   \n",
       "7372   1601  2019-07-02 13:07:56 2019-07-02 13:08:07           0.510212   \n",
       "10210  2213  2019-07-31 06:30:24 2019-07-31 06:30:39           0.349767   \n",
       "508     110  2019-05-07 11:58:29 2019-05-07 11:58:47           0.293605   \n",
       "6590   1433  2019-06-26 06:46:07 2019-06-26 06:46:18           0.484169   \n",
       "\n",
       "       Реактивная мощность  Продолжительность  Общая мощность  \n",
       "13760             0.911802              667.0     1084.729420  \n",
       "7799              0.675200              907.0     1069.548361  \n",
       "12424             0.769083              826.0     1059.989839  \n",
       "2027              0.856872              672.0     1056.125051  \n",
       "9182              1.000844              558.0      931.951029  \n",
       "...                    ...                ...             ...  \n",
       "4063              0.384561               11.0        7.179981  \n",
       "7372              0.385029               11.0        7.031088  \n",
       "10210             0.256018               15.0        6.501807  \n",
       "508               0.207924               18.0        6.475906  \n",
       "6590              0.324194               11.0        6.409531  \n",
       "\n",
       "[14876 rows x 7 columns]"
      ]
     },
     "execution_count": 16,
     "metadata": {},
     "output_type": "execute_result"
    }
   ],
   "source": [
    "df_arc['Общая мощность'] = np.sqrt(df_arc['Активная мощность']**2 + df_arc['Реактивная мощность']**2) * df_arc['Продолжительность']\n",
    "df_arc.sort_values(by='Общая мощность', ascending=False)"
   ]
  },
  {
   "cell_type": "code",
   "execution_count": 17,
   "id": "d59abd93",
   "metadata": {},
   "outputs": [
    {
     "data": {
      "text/html": [
       "<div>\n",
       "<style scoped>\n",
       "    .dataframe tbody tr th:only-of-type {\n",
       "        vertical-align: middle;\n",
       "    }\n",
       "\n",
       "    .dataframe tbody tr th {\n",
       "        vertical-align: top;\n",
       "    }\n",
       "\n",
       "    .dataframe thead th {\n",
       "        text-align: right;\n",
       "    }\n",
       "</style>\n",
       "<table border=\"1\" class=\"dataframe\">\n",
       "  <thead>\n",
       "    <tr style=\"text-align: right;\">\n",
       "      <th></th>\n",
       "      <th>Общая мощность</th>\n",
       "    </tr>\n",
       "    <tr>\n",
       "      <th>key</th>\n",
       "      <th></th>\n",
       "    </tr>\n",
       "  </thead>\n",
       "  <tbody>\n",
       "    <tr>\n",
       "      <th>1</th>\n",
       "      <td>770.282114</td>\n",
       "    </tr>\n",
       "    <tr>\n",
       "      <th>2</th>\n",
       "      <td>481.760005</td>\n",
       "    </tr>\n",
       "    <tr>\n",
       "      <th>3</th>\n",
       "      <td>722.837668</td>\n",
       "    </tr>\n",
       "    <tr>\n",
       "      <th>4</th>\n",
       "      <td>683.455597</td>\n",
       "    </tr>\n",
       "    <tr>\n",
       "      <th>5</th>\n",
       "      <td>512.169934</td>\n",
       "    </tr>\n",
       "    <tr>\n",
       "      <th>...</th>\n",
       "      <td>...</td>\n",
       "    </tr>\n",
       "    <tr>\n",
       "      <th>3237</th>\n",
       "      <td>630.503534</td>\n",
       "    </tr>\n",
       "    <tr>\n",
       "      <th>3238</th>\n",
       "      <td>286.052252</td>\n",
       "    </tr>\n",
       "    <tr>\n",
       "      <th>3239</th>\n",
       "      <td>941.538764</td>\n",
       "    </tr>\n",
       "    <tr>\n",
       "      <th>3240</th>\n",
       "      <td>657.439848</td>\n",
       "    </tr>\n",
       "    <tr>\n",
       "      <th>3241</th>\n",
       "      <td>538.258300</td>\n",
       "    </tr>\n",
       "  </tbody>\n",
       "</table>\n",
       "<p>3214 rows × 1 columns</p>\n",
       "</div>"
      ],
      "text/plain": [
       "      Общая мощность\n",
       "key                 \n",
       "1         770.282114\n",
       "2         481.760005\n",
       "3         722.837668\n",
       "4         683.455597\n",
       "5         512.169934\n",
       "...              ...\n",
       "3237      630.503534\n",
       "3238      286.052252\n",
       "3239      941.538764\n",
       "3240      657.439848\n",
       "3241      538.258300\n",
       "\n",
       "[3214 rows x 1 columns]"
      ]
     },
     "execution_count": 17,
     "metadata": {},
     "output_type": "execute_result"
    }
   ],
   "source": [
    "# Now group the data by key\n",
    "grouped_arc = df_arc.groupby('key').agg({'Общая мощность': 'sum'})\n",
    "grouped_arc"
   ]
  },
  {
   "cell_type": "code",
   "execution_count": 18,
   "id": "6ea6113b",
   "metadata": {},
   "outputs": [
    {
     "data": {
      "image/png": "[encoded data removed]",
      "text/plain": [
       "<Figure size 1080x360 with 2 Axes>"
      ]
     },
     "metadata": {
      "needs_background": "light"
     },
     "output_type": "display_data"
    }
   ],
   "source": [
    "# Create a shared Figure and Axes object\n",
    "fig, axs = plt.subplots(ncols=2, figsize=(15, 5))\n",
    "\n",
    "# Graph 1\n",
    "sns.histplot(ax=axs[0], data=grouped_arc, x='Общая мощность', bins=50)\n",
    "axs[0].set_title('Total power allocation')\n",
    "axs[0].set_xlabel('Power')\n",
    "axs[0].set_ylabel('Frequency')\n",
    "\n",
    "# Graph 2\n",
    "sns.boxplot(ax=axs[1], data=grouped_arc, x='Общая мощность')\n",
    "axs[1].set_title('Total power allocation')\n",
    "axs[1].set_xlabel('Power')\n",
    "\n",
    "# Graphs display\n",
    "plt.show()"
   ]
  },
  {
   "cell_type": "code",
   "execution_count": 19,
   "id": "8792b714",
   "metadata": {},
   "outputs": [
    {
     "name": "stdout",
     "output_type": "stream",
     "text": [
      "Number of outliers in column Total power allocation: 36\n"
     ]
    }
   ],
   "source": [
    "count = (grouped_arc['Общая мощность'] > 1500).sum()\n",
    "print('Number of outliers in column Total power allocation:', count)"
   ]
  },
  {
   "cell_type": "code",
   "execution_count": 20,
   "id": "42ad23d3",
   "metadata": {},
   "outputs": [
    {
     "data": {
      "text/html": [
       "<div>\n",
       "<style scoped>\n",
       "    .dataframe tbody tr th:only-of-type {\n",
       "        vertical-align: middle;\n",
       "    }\n",
       "\n",
       "    .dataframe tbody tr th {\n",
       "        vertical-align: top;\n",
       "    }\n",
       "\n",
       "    .dataframe thead th {\n",
       "        text-align: right;\n",
       "    }\n",
       "</style>\n",
       "<table border=\"1\" class=\"dataframe\">\n",
       "  <thead>\n",
       "    <tr style=\"text-align: right;\">\n",
       "      <th></th>\n",
       "      <th>Общая мощность</th>\n",
       "    </tr>\n",
       "    <tr>\n",
       "      <th>key</th>\n",
       "      <th></th>\n",
       "    </tr>\n",
       "  </thead>\n",
       "  <tbody>\n",
       "    <tr>\n",
       "      <th>1689</th>\n",
       "      <td>4546.405812</td>\n",
       "    </tr>\n",
       "    <tr>\n",
       "      <th>1513</th>\n",
       "      <td>2380.879281</td>\n",
       "    </tr>\n",
       "    <tr>\n",
       "      <th>46</th>\n",
       "      <td>2306.073920</td>\n",
       "    </tr>\n",
       "    <tr>\n",
       "      <th>437</th>\n",
       "      <td>2181.937459</td>\n",
       "    </tr>\n",
       "    <tr>\n",
       "      <th>2108</th>\n",
       "      <td>2151.752807</td>\n",
       "    </tr>\n",
       "    <tr>\n",
       "      <th>...</th>\n",
       "      <td>...</td>\n",
       "    </tr>\n",
       "    <tr>\n",
       "      <th>1773</th>\n",
       "      <td>50.454545</td>\n",
       "    </tr>\n",
       "    <tr>\n",
       "      <th>2738</th>\n",
       "      <td>45.681070</td>\n",
       "    </tr>\n",
       "    <tr>\n",
       "      <th>2112</th>\n",
       "      <td>41.487172</td>\n",
       "    </tr>\n",
       "    <tr>\n",
       "      <th>977</th>\n",
       "      <td>35.525857</td>\n",
       "    </tr>\n",
       "    <tr>\n",
       "      <th>943</th>\n",
       "      <td>33.430208</td>\n",
       "    </tr>\n",
       "  </tbody>\n",
       "</table>\n",
       "<p>3214 rows × 1 columns</p>\n",
       "</div>"
      ],
      "text/plain": [
       "      Общая мощность\n",
       "key                 \n",
       "1689     4546.405812\n",
       "1513     2380.879281\n",
       "46       2306.073920\n",
       "437      2181.937459\n",
       "2108     2151.752807\n",
       "...              ...\n",
       "1773       50.454545\n",
       "2738       45.681070\n",
       "2112       41.487172\n",
       "977        35.525857\n",
       "943        33.430208\n",
       "\n",
       "[3214 rows x 1 columns]"
      ]
     },
     "execution_count": 20,
     "metadata": {},
     "output_type": "execute_result"
    }
   ],
   "source": [
    "grouped_arc.sort_values(by='Общая мощность', ascending=False)"
   ]
  },
  {
   "cell_type": "code",
   "execution_count": 21,
   "id": "02c33bd1",
   "metadata": {},
   "outputs": [
    {
     "data": {
      "text/html": [
       "<div>\n",
       "<style scoped>\n",
       "    .dataframe tbody tr th:only-of-type {\n",
       "        vertical-align: middle;\n",
       "    }\n",
       "\n",
       "    .dataframe tbody tr th {\n",
       "        vertical-align: top;\n",
       "    }\n",
       "\n",
       "    .dataframe thead th {\n",
       "        text-align: right;\n",
       "    }\n",
       "</style>\n",
       "<table border=\"1\" class=\"dataframe\">\n",
       "  <thead>\n",
       "    <tr style=\"text-align: right;\">\n",
       "      <th></th>\n",
       "      <th>Общая мощность</th>\n",
       "    </tr>\n",
       "  </thead>\n",
       "  <tbody>\n",
       "    <tr>\n",
       "      <th>count</th>\n",
       "      <td>3214.000000</td>\n",
       "    </tr>\n",
       "    <tr>\n",
       "      <th>mean</th>\n",
       "      <td>655.598704</td>\n",
       "    </tr>\n",
       "    <tr>\n",
       "      <th>std</th>\n",
       "      <td>308.944411</td>\n",
       "    </tr>\n",
       "    <tr>\n",
       "      <th>min</th>\n",
       "      <td>33.430208</td>\n",
       "    </tr>\n",
       "    <tr>\n",
       "      <th>25%</th>\n",
       "      <td>444.626580</td>\n",
       "    </tr>\n",
       "    <tr>\n",
       "      <th>50%</th>\n",
       "      <td>620.101427</td>\n",
       "    </tr>\n",
       "    <tr>\n",
       "      <th>75%</th>\n",
       "      <td>827.671845</td>\n",
       "    </tr>\n",
       "    <tr>\n",
       "      <th>max</th>\n",
       "      <td>4546.405812</td>\n",
       "    </tr>\n",
       "  </tbody>\n",
       "</table>\n",
       "</div>"
      ],
      "text/plain": [
       "       Общая мощность\n",
       "count     3214.000000\n",
       "mean       655.598704\n",
       "std        308.944411\n",
       "min         33.430208\n",
       "25%        444.626580\n",
       "50%        620.101427\n",
       "75%        827.671845\n",
       "max       4546.405812"
      ]
     },
     "execution_count": 21,
     "metadata": {},
     "output_type": "execute_result"
    }
   ],
   "source": [
    "grouped_arc.describe()"
   ]
  },
  {
   "cell_type": "markdown",
   "id": "82aa9aff",
   "metadata": {},
   "source": [
    "At the output, we have only two key columns and the total power, the outliers are about 1%, while the spread of values is pretty smooth, except for key = 1689. This is a clear anomaly. It can be removed. Also, for the final table, it is better to bring the column names to the standard format. In general, according to the final table, the distribution can be considered close to normal."
   ]
  },
  {
   "cell_type": "code",
   "execution_count": 22,
   "id": "6127ef8b",
   "metadata": {},
   "outputs": [],
   "source": [
    "fin_arc = grouped_arc.rename(columns={'Общая мощность': 'total_power'})"
   ]
  },
  {
   "cell_type": "code",
   "execution_count": 23,
   "id": "44e775b2",
   "metadata": {},
   "outputs": [
    {
     "data": {
      "text/html": [
       "<div>\n",
       "<style scoped>\n",
       "    .dataframe tbody tr th:only-of-type {\n",
       "        vertical-align: middle;\n",
       "    }\n",
       "\n",
       "    .dataframe tbody tr th {\n",
       "        vertical-align: top;\n",
       "    }\n",
       "\n",
       "    .dataframe thead th {\n",
       "        text-align: right;\n",
       "    }\n",
       "</style>\n",
       "<table border=\"1\" class=\"dataframe\">\n",
       "  <thead>\n",
       "    <tr style=\"text-align: right;\">\n",
       "      <th></th>\n",
       "      <th>total_power</th>\n",
       "    </tr>\n",
       "    <tr>\n",
       "      <th>key</th>\n",
       "      <th></th>\n",
       "    </tr>\n",
       "  </thead>\n",
       "  <tbody>\n",
       "    <tr>\n",
       "      <th>1513</th>\n",
       "      <td>2380.879281</td>\n",
       "    </tr>\n",
       "    <tr>\n",
       "      <th>46</th>\n",
       "      <td>2306.073920</td>\n",
       "    </tr>\n",
       "    <tr>\n",
       "      <th>437</th>\n",
       "      <td>2181.937459</td>\n",
       "    </tr>\n",
       "    <tr>\n",
       "      <th>2108</th>\n",
       "      <td>2151.752807</td>\n",
       "    </tr>\n",
       "    <tr>\n",
       "      <th>460</th>\n",
       "      <td>2074.472552</td>\n",
       "    </tr>\n",
       "    <tr>\n",
       "      <th>...</th>\n",
       "      <td>...</td>\n",
       "    </tr>\n",
       "    <tr>\n",
       "      <th>1773</th>\n",
       "      <td>50.454545</td>\n",
       "    </tr>\n",
       "    <tr>\n",
       "      <th>2738</th>\n",
       "      <td>45.681070</td>\n",
       "    </tr>\n",
       "    <tr>\n",
       "      <th>2112</th>\n",
       "      <td>41.487172</td>\n",
       "    </tr>\n",
       "    <tr>\n",
       "      <th>977</th>\n",
       "      <td>35.525857</td>\n",
       "    </tr>\n",
       "    <tr>\n",
       "      <th>943</th>\n",
       "      <td>33.430208</td>\n",
       "    </tr>\n",
       "  </tbody>\n",
       "</table>\n",
       "<p>3213 rows × 1 columns</p>\n",
       "</div>"
      ],
      "text/plain": [
       "      total_power\n",
       "key              \n",
       "1513  2380.879281\n",
       "46    2306.073920\n",
       "437   2181.937459\n",
       "2108  2151.752807\n",
       "460   2074.472552\n",
       "...           ...\n",
       "1773    50.454545\n",
       "2738    45.681070\n",
       "2112    41.487172\n",
       "977     35.525857\n",
       "943     33.430208\n",
       "\n",
       "[3213 rows x 1 columns]"
      ]
     },
     "execution_count": 23,
     "metadata": {},
     "output_type": "execute_result"
    }
   ],
   "source": [
    "fin_arc = fin_arc.drop(fin_arc[fin_arc['total_power'] > 3000].index)\n",
    "fin_arc.sort_values(by='total_power', ascending=False)"
   ]
  },
  {
   "cell_type": "code",
   "execution_count": 24,
   "id": "d002e7a7",
   "metadata": {},
   "outputs": [
    {
     "data": {
      "text/html": [
       "<div>\n",
       "<style scoped>\n",
       "    .dataframe tbody tr th:only-of-type {\n",
       "        vertical-align: middle;\n",
       "    }\n",
       "\n",
       "    .dataframe tbody tr th {\n",
       "        vertical-align: top;\n",
       "    }\n",
       "\n",
       "    .dataframe thead th {\n",
       "        text-align: right;\n",
       "    }\n",
       "</style>\n",
       "<table border=\"1\" class=\"dataframe\">\n",
       "  <thead>\n",
       "    <tr style=\"text-align: right;\">\n",
       "      <th></th>\n",
       "      <th>total_power</th>\n",
       "    </tr>\n",
       "  </thead>\n",
       "  <tbody>\n",
       "    <tr>\n",
       "      <th>count</th>\n",
       "      <td>3213.000000</td>\n",
       "    </tr>\n",
       "    <tr>\n",
       "      <th>mean</th>\n",
       "      <td>654.387746</td>\n",
       "    </tr>\n",
       "    <tr>\n",
       "      <th>std</th>\n",
       "      <td>301.267038</td>\n",
       "    </tr>\n",
       "    <tr>\n",
       "      <th>min</th>\n",
       "      <td>33.430208</td>\n",
       "    </tr>\n",
       "    <tr>\n",
       "      <th>25%</th>\n",
       "      <td>444.547272</td>\n",
       "    </tr>\n",
       "    <tr>\n",
       "      <th>50%</th>\n",
       "      <td>620.091715</td>\n",
       "    </tr>\n",
       "    <tr>\n",
       "      <th>75%</th>\n",
       "      <td>827.333536</td>\n",
       "    </tr>\n",
       "    <tr>\n",
       "      <th>max</th>\n",
       "      <td>2380.879281</td>\n",
       "    </tr>\n",
       "  </tbody>\n",
       "</table>\n",
       "</div>"
      ],
      "text/plain": [
       "       total_power\n",
       "count  3213.000000\n",
       "mean    654.387746\n",
       "std     301.267038\n",
       "min      33.430208\n",
       "25%     444.547272\n",
       "50%     620.091715\n",
       "75%     827.333536\n",
       "max    2380.879281"
      ]
     },
     "execution_count": 24,
     "metadata": {},
     "output_type": "execute_result"
    }
   ],
   "source": [
    "fin_arc.describe()"
   ]
  },
  {
   "cell_type": "markdown",
   "id": "03515e79",
   "metadata": {},
   "source": []
  },
  {
   "cell_type": "markdown",
   "id": "ca9f1167",
   "metadata": {},
   "source": [
    "### Table df_bulk"
   ]
  },
  {
   "cell_type": "code",
   "execution_count": 25,
   "id": "e846d92c",
   "metadata": {},
   "outputs": [
    {
     "data": {
      "text/html": [
       "<div>\n",
       "<style scoped>\n",
       "    .dataframe tbody tr th:only-of-type {\n",
       "        vertical-align: middle;\n",
       "    }\n",
       "\n",
       "    .dataframe tbody tr th {\n",
       "        vertical-align: top;\n",
       "    }\n",
       "\n",
       "    .dataframe thead th {\n",
       "        text-align: right;\n",
       "    }\n",
       "</style>\n",
       "<table border=\"1\" class=\"dataframe\">\n",
       "  <thead>\n",
       "    <tr style=\"text-align: right;\">\n",
       "      <th></th>\n",
       "      <th>key</th>\n",
       "      <th>Bulk 1</th>\n",
       "      <th>Bulk 2</th>\n",
       "      <th>Bulk 3</th>\n",
       "      <th>Bulk 4</th>\n",
       "      <th>Bulk 5</th>\n",
       "      <th>Bulk 6</th>\n",
       "      <th>Bulk 7</th>\n",
       "      <th>Bulk 8</th>\n",
       "      <th>Bulk 9</th>\n",
       "      <th>Bulk 10</th>\n",
       "      <th>Bulk 11</th>\n",
       "      <th>Bulk 12</th>\n",
       "      <th>Bulk 13</th>\n",
       "      <th>Bulk 14</th>\n",
       "      <th>Bulk 15</th>\n",
       "    </tr>\n",
       "  </thead>\n",
       "  <tbody>\n",
       "    <tr>\n",
       "      <th>0</th>\n",
       "      <td>1</td>\n",
       "      <td>NaN</td>\n",
       "      <td>NaN</td>\n",
       "      <td>NaN</td>\n",
       "      <td>43.0</td>\n",
       "      <td>NaN</td>\n",
       "      <td>NaN</td>\n",
       "      <td>NaN</td>\n",
       "      <td>NaN</td>\n",
       "      <td>NaN</td>\n",
       "      <td>NaN</td>\n",
       "      <td>NaN</td>\n",
       "      <td>206.0</td>\n",
       "      <td>NaN</td>\n",
       "      <td>150.0</td>\n",
       "      <td>154.0</td>\n",
       "    </tr>\n",
       "    <tr>\n",
       "      <th>1</th>\n",
       "      <td>2</td>\n",
       "      <td>NaN</td>\n",
       "      <td>NaN</td>\n",
       "      <td>NaN</td>\n",
       "      <td>73.0</td>\n",
       "      <td>NaN</td>\n",
       "      <td>NaN</td>\n",
       "      <td>NaN</td>\n",
       "      <td>NaN</td>\n",
       "      <td>NaN</td>\n",
       "      <td>NaN</td>\n",
       "      <td>NaN</td>\n",
       "      <td>206.0</td>\n",
       "      <td>NaN</td>\n",
       "      <td>149.0</td>\n",
       "      <td>154.0</td>\n",
       "    </tr>\n",
       "    <tr>\n",
       "      <th>2</th>\n",
       "      <td>3</td>\n",
       "      <td>NaN</td>\n",
       "      <td>NaN</td>\n",
       "      <td>NaN</td>\n",
       "      <td>34.0</td>\n",
       "      <td>NaN</td>\n",
       "      <td>NaN</td>\n",
       "      <td>NaN</td>\n",
       "      <td>NaN</td>\n",
       "      <td>NaN</td>\n",
       "      <td>NaN</td>\n",
       "      <td>NaN</td>\n",
       "      <td>205.0</td>\n",
       "      <td>NaN</td>\n",
       "      <td>152.0</td>\n",
       "      <td>153.0</td>\n",
       "    </tr>\n",
       "    <tr>\n",
       "      <th>3</th>\n",
       "      <td>4</td>\n",
       "      <td>NaN</td>\n",
       "      <td>NaN</td>\n",
       "      <td>NaN</td>\n",
       "      <td>81.0</td>\n",
       "      <td>NaN</td>\n",
       "      <td>NaN</td>\n",
       "      <td>NaN</td>\n",
       "      <td>NaN</td>\n",
       "      <td>NaN</td>\n",
       "      <td>NaN</td>\n",
       "      <td>NaN</td>\n",
       "      <td>207.0</td>\n",
       "      <td>NaN</td>\n",
       "      <td>153.0</td>\n",
       "      <td>154.0</td>\n",
       "    </tr>\n",
       "    <tr>\n",
       "      <th>4</th>\n",
       "      <td>5</td>\n",
       "      <td>NaN</td>\n",
       "      <td>NaN</td>\n",
       "      <td>NaN</td>\n",
       "      <td>78.0</td>\n",
       "      <td>NaN</td>\n",
       "      <td>NaN</td>\n",
       "      <td>NaN</td>\n",
       "      <td>NaN</td>\n",
       "      <td>NaN</td>\n",
       "      <td>NaN</td>\n",
       "      <td>NaN</td>\n",
       "      <td>203.0</td>\n",
       "      <td>NaN</td>\n",
       "      <td>151.0</td>\n",
       "      <td>152.0</td>\n",
       "    </tr>\n",
       "  </tbody>\n",
       "</table>\n",
       "</div>"
      ],
      "text/plain": [
       "   key  Bulk 1  Bulk 2  Bulk 3  Bulk 4  Bulk 5  Bulk 6  Bulk 7  Bulk 8  \\\n",
       "0    1     NaN     NaN     NaN    43.0     NaN     NaN     NaN     NaN   \n",
       "1    2     NaN     NaN     NaN    73.0     NaN     NaN     NaN     NaN   \n",
       "2    3     NaN     NaN     NaN    34.0     NaN     NaN     NaN     NaN   \n",
       "3    4     NaN     NaN     NaN    81.0     NaN     NaN     NaN     NaN   \n",
       "4    5     NaN     NaN     NaN    78.0     NaN     NaN     NaN     NaN   \n",
       "\n",
       "   Bulk 9  Bulk 10  Bulk 11  Bulk 12  Bulk 13  Bulk 14  Bulk 15  \n",
       "0     NaN      NaN      NaN    206.0      NaN    150.0    154.0  \n",
       "1     NaN      NaN      NaN    206.0      NaN    149.0    154.0  \n",
       "2     NaN      NaN      NaN    205.0      NaN    152.0    153.0  \n",
       "3     NaN      NaN      NaN    207.0      NaN    153.0    154.0  \n",
       "4     NaN      NaN      NaN    203.0      NaN    151.0    152.0  "
      ]
     },
     "execution_count": 25,
     "metadata": {},
     "output_type": "execute_result"
    }
   ],
   "source": [
    "try:\n",
    "    df_bulk = pd.read_csv('datasets/13_data_bulk_new.csv')\n",
    "except FileNotFoundError:\n",
    "    df_bulk = pd.read_csv('ya/Итоговый проект/data_bulk_new.csv')\n",
    "\n",
    "df_bulk.head()"
   ]
  },
  {
   "cell_type": "code",
   "execution_count": 26,
   "id": "08010946",
   "metadata": {},
   "outputs": [],
   "source": [
    "# bring the column names to the correct format\n",
    "df_bulk.columns = ['key', 'bulk_1','bulk_2','bulk_3','bulk_4','bulk_5','bulk_6','bulk_7','bulk_8',\n",
    "                     'bulk_9','bulk_10','bulk_11','bulk_12','bulk_13','bulk_14','bulk_15']"
   ]
  },
  {
   "cell_type": "code",
   "execution_count": 27,
   "id": "beb8e679",
   "metadata": {
    "scrolled": false
   },
   "outputs": [
    {
     "data": {
      "text/html": [
       "<div>\n",
       "<style scoped>\n",
       "    .dataframe tbody tr th:only-of-type {\n",
       "        vertical-align: middle;\n",
       "    }\n",
       "\n",
       "    .dataframe tbody tr th {\n",
       "        vertical-align: top;\n",
       "    }\n",
       "\n",
       "    .dataframe thead th {\n",
       "        text-align: right;\n",
       "    }\n",
       "</style>\n",
       "<table border=\"1\" class=\"dataframe\">\n",
       "  <thead>\n",
       "    <tr style=\"text-align: right;\">\n",
       "      <th></th>\n",
       "      <th>Values</th>\n",
       "      <th>Data type</th>\n",
       "      <th>Unique values</th>\n",
       "      <th>Missing</th>\n",
       "      <th>Duplicates</th>\n",
       "    </tr>\n",
       "  </thead>\n",
       "  <tbody>\n",
       "    <tr>\n",
       "      <th>bulk_1</th>\n",
       "      <td>[nan, 46.0, 27.0, 48.0, 29.0, 78.0, 52.0, 69.0...</td>\n",
       "      <td>float64</td>\n",
       "      <td>47</td>\n",
       "      <td>2877</td>\n",
       "      <td>0</td>\n",
       "    </tr>\n",
       "    <tr>\n",
       "      <th>bulk_2</th>\n",
       "      <td>[nan, 228.0, 247.0, 232.0, 325.0, 257.0, 233.0...</td>\n",
       "      <td>float64</td>\n",
       "      <td>15</td>\n",
       "      <td>3107</td>\n",
       "      <td>0</td>\n",
       "    </tr>\n",
       "    <tr>\n",
       "      <th>bulk_3</th>\n",
       "      <td>[nan, 71.0, 151.0, 63.0, 89.0, 132.0, 67.0, 19...</td>\n",
       "      <td>float64</td>\n",
       "      <td>278</td>\n",
       "      <td>1831</td>\n",
       "      <td>0</td>\n",
       "    </tr>\n",
       "    <tr>\n",
       "      <th>bulk_4</th>\n",
       "      <td>[43.0, 73.0, 34.0, 81.0, 78.0, 117.0, 99.0, na...</td>\n",
       "      <td>float64</td>\n",
       "      <td>206</td>\n",
       "      <td>2115</td>\n",
       "      <td>0</td>\n",
       "    </tr>\n",
       "    <tr>\n",
       "      <th>bulk_5</th>\n",
       "      <td>[nan, 72.0, 79.0, 112.0, 83.0, 86.0, 74.0, 189...</td>\n",
       "      <td>float64</td>\n",
       "      <td>55</td>\n",
       "      <td>3052</td>\n",
       "      <td>0</td>\n",
       "    </tr>\n",
       "    <tr>\n",
       "      <th>bulk_6</th>\n",
       "      <td>[nan, 72.0, 77.0, 76.0, 219.0, 108.0, 88.0, 84...</td>\n",
       "      <td>float64</td>\n",
       "      <td>205</td>\n",
       "      <td>2553</td>\n",
       "      <td>0</td>\n",
       "    </tr>\n",
       "    <tr>\n",
       "      <th>bulk_7</th>\n",
       "      <td>[nan, 178.0, 406.0, 75.0, 155.0, 252.0, 47.0, ...</td>\n",
       "      <td>float64</td>\n",
       "      <td>25</td>\n",
       "      <td>3104</td>\n",
       "      <td>0</td>\n",
       "    </tr>\n",
       "    <tr>\n",
       "      <th>bulk_8</th>\n",
       "      <td>[nan, 49.0]</td>\n",
       "      <td>float64</td>\n",
       "      <td>1</td>\n",
       "      <td>3128</td>\n",
       "      <td>0</td>\n",
       "    </tr>\n",
       "    <tr>\n",
       "      <th>bulk_9</th>\n",
       "      <td>[nan, 63.0, 68.0, 65.0, 71.0, 66.0, 70.0, 147....</td>\n",
       "      <td>float64</td>\n",
       "      <td>10</td>\n",
       "      <td>3110</td>\n",
       "      <td>0</td>\n",
       "    </tr>\n",
       "    <tr>\n",
       "      <th>bulk_10</th>\n",
       "      <td>[nan, 56.0, 106.0, 105.0, 96.0, 57.0, 36.0, 54...</td>\n",
       "      <td>float64</td>\n",
       "      <td>77</td>\n",
       "      <td>2953</td>\n",
       "      <td>0</td>\n",
       "    </tr>\n",
       "    <tr>\n",
       "      <th>bulk_11</th>\n",
       "      <td>[nan, 23.0, 107.0, 25.0, 67.0, 211.0, 28.0, 22...</td>\n",
       "      <td>float64</td>\n",
       "      <td>101</td>\n",
       "      <td>2952</td>\n",
       "      <td>0</td>\n",
       "    </tr>\n",
       "    <tr>\n",
       "      <th>bulk_12</th>\n",
       "      <td>[206.0, 205.0, 207.0, 203.0, 204.0, 410.0, 107...</td>\n",
       "      <td>float64</td>\n",
       "      <td>331</td>\n",
       "      <td>679</td>\n",
       "      <td>0</td>\n",
       "    </tr>\n",
       "    <tr>\n",
       "      <th>bulk_13</th>\n",
       "      <td>[nan, 154.0, 159.0, 278.0, 155.0, 153.0, 157.0...</td>\n",
       "      <td>float64</td>\n",
       "      <td>14</td>\n",
       "      <td>3111</td>\n",
       "      <td>0</td>\n",
       "    </tr>\n",
       "    <tr>\n",
       "      <th>bulk_14</th>\n",
       "      <td>[150.0, 149.0, 152.0, 153.0, 151.0, 201.0, 252...</td>\n",
       "      <td>float64</td>\n",
       "      <td>284</td>\n",
       "      <td>323</td>\n",
       "      <td>0</td>\n",
       "    </tr>\n",
       "    <tr>\n",
       "      <th>bulk_15</th>\n",
       "      <td>[154.0, 153.0, 152.0, 203.0, 204.0, 202.0, nan...</td>\n",
       "      <td>float64</td>\n",
       "      <td>156</td>\n",
       "      <td>881</td>\n",
       "      <td>0</td>\n",
       "    </tr>\n",
       "    <tr>\n",
       "      <th>key</th>\n",
       "      <td>[1, 2, 3, 4, 5, 6, 7, 8, 9, 10, 11, 12, 13, 14...</td>\n",
       "      <td>int64</td>\n",
       "      <td>3129</td>\n",
       "      <td>0</td>\n",
       "      <td>0</td>\n",
       "    </tr>\n",
       "  </tbody>\n",
       "</table>\n",
       "</div>"
      ],
      "text/plain": [
       "                                                    Values Data type  \\\n",
       "bulk_1   [nan, 46.0, 27.0, 48.0, 29.0, 78.0, 52.0, 69.0...   float64   \n",
       "bulk_2   [nan, 228.0, 247.0, 232.0, 325.0, 257.0, 233.0...   float64   \n",
       "bulk_3   [nan, 71.0, 151.0, 63.0, 89.0, 132.0, 67.0, 19...   float64   \n",
       "bulk_4   [43.0, 73.0, 34.0, 81.0, 78.0, 117.0, 99.0, na...   float64   \n",
       "bulk_5   [nan, 72.0, 79.0, 112.0, 83.0, 86.0, 74.0, 189...   float64   \n",
       "bulk_6   [nan, 72.0, 77.0, 76.0, 219.0, 108.0, 88.0, 84...   float64   \n",
       "bulk_7   [nan, 178.0, 406.0, 75.0, 155.0, 252.0, 47.0, ...   float64   \n",
       "bulk_8                                         [nan, 49.0]   float64   \n",
       "bulk_9   [nan, 63.0, 68.0, 65.0, 71.0, 66.0, 70.0, 147....   float64   \n",
       "bulk_10  [nan, 56.0, 106.0, 105.0, 96.0, 57.0, 36.0, 54...   float64   \n",
       "bulk_11  [nan, 23.0, 107.0, 25.0, 67.0, 211.0, 28.0, 22...   float64   \n",
       "bulk_12  [206.0, 205.0, 207.0, 203.0, 204.0, 410.0, 107...   float64   \n",
       "bulk_13  [nan, 154.0, 159.0, 278.0, 155.0, 153.0, 157.0...   float64   \n",
       "bulk_14  [150.0, 149.0, 152.0, 153.0, 151.0, 201.0, 252...   float64   \n",
       "bulk_15  [154.0, 153.0, 152.0, 203.0, 204.0, 202.0, nan...   float64   \n",
       "key      [1, 2, 3, 4, 5, 6, 7, 8, 9, 10, 11, 12, 13, 14...     int64   \n",
       "\n",
       "        Unique values Missing Duplicates  \n",
       "bulk_1             47    2877          0  \n",
       "bulk_2             15    3107          0  \n",
       "bulk_3            278    1831          0  \n",
       "bulk_4            206    2115          0  \n",
       "bulk_5             55    3052          0  \n",
       "bulk_6            205    2553          0  \n",
       "bulk_7             25    3104          0  \n",
       "bulk_8              1    3128          0  \n",
       "bulk_9             10    3110          0  \n",
       "bulk_10            77    2953          0  \n",
       "bulk_11           101    2952          0  \n",
       "bulk_12           331     679          0  \n",
       "bulk_13            14    3111          0  \n",
       "bulk_14           284     323          0  \n",
       "bulk_15           156     881          0  \n",
       "key              3129       0          0  "
      ]
     },
     "execution_count": 27,
     "metadata": {},
     "output_type": "execute_result"
    }
   ],
   "source": [
    "# Description function\n",
    "def describe_colums(df):\n",
    "    \n",
    "    values = pd.DataFrame()\n",
    "    \n",
    "    for col in df.columns:\n",
    "        values[col] = [df_bulk[col].unique(), df_bulk[col].dtypes, df_bulk[col].nunique(), df_bulk[col].isnull().sum().sum(), \n",
    "                       df_bulk.duplicated().sum()]\n",
    "        \n",
    "    return values.transpose().sort_values(by=1, ascending=False).rename(\n",
    "        {0: 'Values', 1: 'Data type', 2: 'Unique values', 3: 'Missing', 4: 'Duplicates'}, axis=1)\n",
    "describe_colums(df_bulk)"
   ]
  },
  {
   "cell_type": "code",
   "execution_count": 28,
   "id": "820173db",
   "metadata": {},
   "outputs": [
    {
     "data": {
      "text/html": [
       "<div>\n",
       "<style scoped>\n",
       "    .dataframe tbody tr th:only-of-type {\n",
       "        vertical-align: middle;\n",
       "    }\n",
       "\n",
       "    .dataframe tbody tr th {\n",
       "        vertical-align: top;\n",
       "    }\n",
       "\n",
       "    .dataframe thead th {\n",
       "        text-align: right;\n",
       "    }\n",
       "</style>\n",
       "<table border=\"1\" class=\"dataframe\">\n",
       "  <thead>\n",
       "    <tr style=\"text-align: right;\">\n",
       "      <th></th>\n",
       "      <th>key</th>\n",
       "      <th>bulk_1</th>\n",
       "      <th>bulk_2</th>\n",
       "      <th>bulk_3</th>\n",
       "      <th>bulk_4</th>\n",
       "      <th>bulk_5</th>\n",
       "      <th>bulk_6</th>\n",
       "      <th>bulk_7</th>\n",
       "      <th>bulk_8</th>\n",
       "      <th>bulk_9</th>\n",
       "      <th>bulk_10</th>\n",
       "      <th>bulk_11</th>\n",
       "      <th>bulk_12</th>\n",
       "      <th>bulk_13</th>\n",
       "      <th>bulk_14</th>\n",
       "      <th>bulk_15</th>\n",
       "    </tr>\n",
       "  </thead>\n",
       "  <tbody>\n",
       "    <tr>\n",
       "      <th>count</th>\n",
       "      <td>3129.000000</td>\n",
       "      <td>252.000000</td>\n",
       "      <td>22.000000</td>\n",
       "      <td>1298.000000</td>\n",
       "      <td>1014.000000</td>\n",
       "      <td>77.000000</td>\n",
       "      <td>576.000000</td>\n",
       "      <td>25.000000</td>\n",
       "      <td>1.0</td>\n",
       "      <td>19.000000</td>\n",
       "      <td>176.000000</td>\n",
       "      <td>177.000000</td>\n",
       "      <td>2450.000000</td>\n",
       "      <td>18.000000</td>\n",
       "      <td>2806.000000</td>\n",
       "      <td>2248.000000</td>\n",
       "    </tr>\n",
       "    <tr>\n",
       "      <th>mean</th>\n",
       "      <td>1624.383509</td>\n",
       "      <td>39.242063</td>\n",
       "      <td>253.045455</td>\n",
       "      <td>113.879045</td>\n",
       "      <td>104.394477</td>\n",
       "      <td>107.025974</td>\n",
       "      <td>118.925347</td>\n",
       "      <td>305.600000</td>\n",
       "      <td>49.0</td>\n",
       "      <td>76.315789</td>\n",
       "      <td>83.284091</td>\n",
       "      <td>76.819209</td>\n",
       "      <td>260.471020</td>\n",
       "      <td>181.111111</td>\n",
       "      <td>170.284747</td>\n",
       "      <td>160.513345</td>\n",
       "    </tr>\n",
       "    <tr>\n",
       "      <th>std</th>\n",
       "      <td>933.337642</td>\n",
       "      <td>18.277654</td>\n",
       "      <td>21.180578</td>\n",
       "      <td>75.483494</td>\n",
       "      <td>48.184126</td>\n",
       "      <td>81.790646</td>\n",
       "      <td>72.057776</td>\n",
       "      <td>191.022904</td>\n",
       "      <td>NaN</td>\n",
       "      <td>21.720581</td>\n",
       "      <td>26.060347</td>\n",
       "      <td>59.655365</td>\n",
       "      <td>120.649269</td>\n",
       "      <td>46.088009</td>\n",
       "      <td>65.868652</td>\n",
       "      <td>51.765319</td>\n",
       "    </tr>\n",
       "    <tr>\n",
       "      <th>min</th>\n",
       "      <td>1.000000</td>\n",
       "      <td>10.000000</td>\n",
       "      <td>228.000000</td>\n",
       "      <td>6.000000</td>\n",
       "      <td>12.000000</td>\n",
       "      <td>11.000000</td>\n",
       "      <td>17.000000</td>\n",
       "      <td>47.000000</td>\n",
       "      <td>49.0</td>\n",
       "      <td>63.000000</td>\n",
       "      <td>24.000000</td>\n",
       "      <td>8.000000</td>\n",
       "      <td>53.000000</td>\n",
       "      <td>151.000000</td>\n",
       "      <td>16.000000</td>\n",
       "      <td>1.000000</td>\n",
       "    </tr>\n",
       "    <tr>\n",
       "      <th>25%</th>\n",
       "      <td>816.000000</td>\n",
       "      <td>27.000000</td>\n",
       "      <td>242.000000</td>\n",
       "      <td>58.000000</td>\n",
       "      <td>72.000000</td>\n",
       "      <td>70.000000</td>\n",
       "      <td>69.750000</td>\n",
       "      <td>155.000000</td>\n",
       "      <td>49.0</td>\n",
       "      <td>66.000000</td>\n",
       "      <td>64.000000</td>\n",
       "      <td>25.000000</td>\n",
       "      <td>204.000000</td>\n",
       "      <td>153.250000</td>\n",
       "      <td>119.000000</td>\n",
       "      <td>105.000000</td>\n",
       "    </tr>\n",
       "    <tr>\n",
       "      <th>50%</th>\n",
       "      <td>1622.000000</td>\n",
       "      <td>31.000000</td>\n",
       "      <td>251.500000</td>\n",
       "      <td>97.500000</td>\n",
       "      <td>102.000000</td>\n",
       "      <td>86.000000</td>\n",
       "      <td>100.000000</td>\n",
       "      <td>298.000000</td>\n",
       "      <td>49.0</td>\n",
       "      <td>68.000000</td>\n",
       "      <td>86.500000</td>\n",
       "      <td>64.000000</td>\n",
       "      <td>208.000000</td>\n",
       "      <td>155.500000</td>\n",
       "      <td>151.000000</td>\n",
       "      <td>160.000000</td>\n",
       "    </tr>\n",
       "    <tr>\n",
       "      <th>75%</th>\n",
       "      <td>2431.000000</td>\n",
       "      <td>46.000000</td>\n",
       "      <td>257.750000</td>\n",
       "      <td>152.000000</td>\n",
       "      <td>133.000000</td>\n",
       "      <td>132.000000</td>\n",
       "      <td>157.000000</td>\n",
       "      <td>406.000000</td>\n",
       "      <td>49.0</td>\n",
       "      <td>70.500000</td>\n",
       "      <td>102.000000</td>\n",
       "      <td>106.000000</td>\n",
       "      <td>316.000000</td>\n",
       "      <td>203.500000</td>\n",
       "      <td>205.750000</td>\n",
       "      <td>205.000000</td>\n",
       "    </tr>\n",
       "    <tr>\n",
       "      <th>max</th>\n",
       "      <td>3241.000000</td>\n",
       "      <td>185.000000</td>\n",
       "      <td>325.000000</td>\n",
       "      <td>454.000000</td>\n",
       "      <td>281.000000</td>\n",
       "      <td>603.000000</td>\n",
       "      <td>503.000000</td>\n",
       "      <td>772.000000</td>\n",
       "      <td>49.0</td>\n",
       "      <td>147.000000</td>\n",
       "      <td>159.000000</td>\n",
       "      <td>313.000000</td>\n",
       "      <td>1849.000000</td>\n",
       "      <td>305.000000</td>\n",
       "      <td>636.000000</td>\n",
       "      <td>405.000000</td>\n",
       "    </tr>\n",
       "  </tbody>\n",
       "</table>\n",
       "</div>"
      ],
      "text/plain": [
       "               key      bulk_1      bulk_2       bulk_3       bulk_4  \\\n",
       "count  3129.000000  252.000000   22.000000  1298.000000  1014.000000   \n",
       "mean   1624.383509   39.242063  253.045455   113.879045   104.394477   \n",
       "std     933.337642   18.277654   21.180578    75.483494    48.184126   \n",
       "min       1.000000   10.000000  228.000000     6.000000    12.000000   \n",
       "25%     816.000000   27.000000  242.000000    58.000000    72.000000   \n",
       "50%    1622.000000   31.000000  251.500000    97.500000   102.000000   \n",
       "75%    2431.000000   46.000000  257.750000   152.000000   133.000000   \n",
       "max    3241.000000  185.000000  325.000000   454.000000   281.000000   \n",
       "\n",
       "           bulk_5      bulk_6      bulk_7  bulk_8      bulk_9     bulk_10  \\\n",
       "count   77.000000  576.000000   25.000000     1.0   19.000000  176.000000   \n",
       "mean   107.025974  118.925347  305.600000    49.0   76.315789   83.284091   \n",
       "std     81.790646   72.057776  191.022904     NaN   21.720581   26.060347   \n",
       "min     11.000000   17.000000   47.000000    49.0   63.000000   24.000000   \n",
       "25%     70.000000   69.750000  155.000000    49.0   66.000000   64.000000   \n",
       "50%     86.000000  100.000000  298.000000    49.0   68.000000   86.500000   \n",
       "75%    132.000000  157.000000  406.000000    49.0   70.500000  102.000000   \n",
       "max    603.000000  503.000000  772.000000    49.0  147.000000  159.000000   \n",
       "\n",
       "          bulk_11      bulk_12     bulk_13      bulk_14      bulk_15  \n",
       "count  177.000000  2450.000000   18.000000  2806.000000  2248.000000  \n",
       "mean    76.819209   260.471020  181.111111   170.284747   160.513345  \n",
       "std     59.655365   120.649269   46.088009    65.868652    51.765319  \n",
       "min      8.000000    53.000000  151.000000    16.000000     1.000000  \n",
       "25%     25.000000   204.000000  153.250000   119.000000   105.000000  \n",
       "50%     64.000000   208.000000  155.500000   151.000000   160.000000  \n",
       "75%    106.000000   316.000000  203.500000   205.750000   205.000000  \n",
       "max    313.000000  1849.000000  305.000000   636.000000   405.000000  "
      ]
     },
     "execution_count": 28,
     "metadata": {},
     "output_type": "execute_result"
    }
   ],
   "source": [
    "df_bulk.describe()"
   ]
  },
  {
   "cell_type": "markdown",
   "id": "0a41b591",
   "metadata": {},
   "source": [
    "There are many gaps in this table, it is striking that in some columns only a few row values are filled. It is assumed that if the data is not filled, then these materials were not added and they can be filled with zero values."
   ]
  },
  {
   "cell_type": "code",
   "execution_count": 29,
   "id": "26bae511",
   "metadata": {},
   "outputs": [],
   "source": [
    "df_bulk = df_bulk.fillna(0)"
   ]
  },
  {
   "cell_type": "code",
   "execution_count": 30,
   "id": "4ae12efa",
   "metadata": {},
   "outputs": [],
   "source": [
    "df_bulk = df_bulk.astype(int)"
   ]
  },
  {
   "cell_type": "code",
   "execution_count": 31,
   "id": "fa520f6e",
   "metadata": {},
   "outputs": [
    {
     "data": {
      "image/png": "[encoded data removed]",
      "text/plain": [
       "<Figure size 1224x720 with 16 Axes>"
      ]
     },
     "metadata": {
      "needs_background": "light"
     },
     "output_type": "display_data"
    }
   ],
   "source": [
    "df_bulk.hist(figsize=(17, 10));"
   ]
  },
  {
   "cell_type": "markdown",
   "id": "730009bf",
   "metadata": {},
   "source": [
    "The data is far from a normal distribution, but the filled values are not enough for a more detailed analysis.\n",
    "Fifteen parameters is a lot, the model will be hard to train and there is a high probability of decreasing its accuracy.\n",
    "Let's leave as separate bulk columns in which gaps are less than 1000, the rest will be combined into one called bulk_other.\n",
    "Since the materials can be in different units of measurement and in incomparable volumes, we will translate the table into a Boolean value, either the material is supplied or not."
   ]
  },
  {
   "cell_type": "code",
   "execution_count": 32,
   "id": "1e98c812",
   "metadata": {},
   "outputs": [
    {
     "data": {
      "text/html": [
       "<div>\n",
       "<style scoped>\n",
       "    .dataframe tbody tr th:only-of-type {\n",
       "        vertical-align: middle;\n",
       "    }\n",
       "\n",
       "    .dataframe tbody tr th {\n",
       "        vertical-align: top;\n",
       "    }\n",
       "\n",
       "    .dataframe thead th {\n",
       "        text-align: right;\n",
       "    }\n",
       "</style>\n",
       "<table border=\"1\" class=\"dataframe\">\n",
       "  <thead>\n",
       "    <tr style=\"text-align: right;\">\n",
       "      <th></th>\n",
       "      <th>key</th>\n",
       "      <th>bulk_3</th>\n",
       "      <th>bulk_4</th>\n",
       "      <th>bulk_12</th>\n",
       "      <th>bulk_14</th>\n",
       "      <th>bulk_15</th>\n",
       "      <th>bulk_others</th>\n",
       "    </tr>\n",
       "  </thead>\n",
       "  <tbody>\n",
       "    <tr>\n",
       "      <th>0</th>\n",
       "      <td>1</td>\n",
       "      <td>0</td>\n",
       "      <td>1</td>\n",
       "      <td>1</td>\n",
       "      <td>1</td>\n",
       "      <td>1</td>\n",
       "      <td>0</td>\n",
       "    </tr>\n",
       "    <tr>\n",
       "      <th>1</th>\n",
       "      <td>2</td>\n",
       "      <td>0</td>\n",
       "      <td>1</td>\n",
       "      <td>1</td>\n",
       "      <td>1</td>\n",
       "      <td>1</td>\n",
       "      <td>0</td>\n",
       "    </tr>\n",
       "    <tr>\n",
       "      <th>2</th>\n",
       "      <td>3</td>\n",
       "      <td>0</td>\n",
       "      <td>1</td>\n",
       "      <td>1</td>\n",
       "      <td>1</td>\n",
       "      <td>1</td>\n",
       "      <td>0</td>\n",
       "    </tr>\n",
       "    <tr>\n",
       "      <th>3</th>\n",
       "      <td>4</td>\n",
       "      <td>0</td>\n",
       "      <td>1</td>\n",
       "      <td>1</td>\n",
       "      <td>1</td>\n",
       "      <td>1</td>\n",
       "      <td>0</td>\n",
       "    </tr>\n",
       "    <tr>\n",
       "      <th>4</th>\n",
       "      <td>5</td>\n",
       "      <td>0</td>\n",
       "      <td>1</td>\n",
       "      <td>1</td>\n",
       "      <td>1</td>\n",
       "      <td>1</td>\n",
       "      <td>0</td>\n",
       "    </tr>\n",
       "    <tr>\n",
       "      <th>...</th>\n",
       "      <td>...</td>\n",
       "      <td>...</td>\n",
       "      <td>...</td>\n",
       "      <td>...</td>\n",
       "      <td>...</td>\n",
       "      <td>...</td>\n",
       "      <td>...</td>\n",
       "    </tr>\n",
       "    <tr>\n",
       "      <th>3124</th>\n",
       "      <td>3237</td>\n",
       "      <td>1</td>\n",
       "      <td>0</td>\n",
       "      <td>1</td>\n",
       "      <td>1</td>\n",
       "      <td>1</td>\n",
       "      <td>0</td>\n",
       "    </tr>\n",
       "    <tr>\n",
       "      <th>3125</th>\n",
       "      <td>3238</td>\n",
       "      <td>1</td>\n",
       "      <td>0</td>\n",
       "      <td>1</td>\n",
       "      <td>1</td>\n",
       "      <td>1</td>\n",
       "      <td>0</td>\n",
       "    </tr>\n",
       "    <tr>\n",
       "      <th>3126</th>\n",
       "      <td>3239</td>\n",
       "      <td>0</td>\n",
       "      <td>0</td>\n",
       "      <td>1</td>\n",
       "      <td>1</td>\n",
       "      <td>1</td>\n",
       "      <td>1</td>\n",
       "    </tr>\n",
       "    <tr>\n",
       "      <th>3127</th>\n",
       "      <td>3240</td>\n",
       "      <td>0</td>\n",
       "      <td>0</td>\n",
       "      <td>0</td>\n",
       "      <td>1</td>\n",
       "      <td>1</td>\n",
       "      <td>1</td>\n",
       "    </tr>\n",
       "    <tr>\n",
       "      <th>3128</th>\n",
       "      <td>3241</td>\n",
       "      <td>0</td>\n",
       "      <td>0</td>\n",
       "      <td>0</td>\n",
       "      <td>1</td>\n",
       "      <td>1</td>\n",
       "      <td>0</td>\n",
       "    </tr>\n",
       "  </tbody>\n",
       "</table>\n",
       "<p>3129 rows × 7 columns</p>\n",
       "</div>"
      ],
      "text/plain": [
       "       key  bulk_3  bulk_4  bulk_12  bulk_14  bulk_15  bulk_others\n",
       "0        1       0       1        1        1        1            0\n",
       "1        2       0       1        1        1        1            0\n",
       "2        3       0       1        1        1        1            0\n",
       "3        4       0       1        1        1        1            0\n",
       "4        5       0       1        1        1        1            0\n",
       "...    ...     ...     ...      ...      ...      ...          ...\n",
       "3124  3237       1       0        1        1        1            0\n",
       "3125  3238       1       0        1        1        1            0\n",
       "3126  3239       0       0        1        1        1            1\n",
       "3127  3240       0       0        0        1        1            1\n",
       "3128  3241       0       0        0        1        1            0\n",
       "\n",
       "[3129 rows x 7 columns]"
      ]
     },
     "execution_count": 32,
     "metadata": {},
     "output_type": "execute_result"
    }
   ],
   "source": [
    "# create a new table\n",
    "fin_bulk = df_bulk[['key']].copy()  # copy the key column to the new table\n",
    "# create a list of columns where the value 0 occurs less than 2200 times\n",
    "cols_to_keep = [col for col in df_bulk.columns[1:] if df_bulk[col].value_counts()[0] < 2200]\n",
    "\n",
    "# add the columns to be saved to the new table\n",
    "for col in cols_to_keep:\n",
    "    fin_bulk[col] = df_bulk[col].apply(lambda x: 1 if x > 0 else 0)\n",
    "\n",
    "# concatenate remaining columns in bulk_others\n",
    "other_cols = [col for col in df_bulk.columns[1:] if col not in cols_to_keep]\n",
    "fin_bulk['bulk_others'] = df_bulk[other_cols].apply(lambda row: 1 if row.sum() > 0 else 0, axis=1)\n",
    "\n",
    "fin_bulk"
   ]
  },
  {
   "cell_type": "markdown",
   "id": "28cca653",
   "metadata": {},
   "source": [
    "### Table_df_wire"
   ]
  },
  {
   "cell_type": "code",
   "execution_count": 33,
   "id": "504937df",
   "metadata": {},
   "outputs": [
    {
     "data": {
      "text/html": [
       "<div>\n",
       "<style scoped>\n",
       "    .dataframe tbody tr th:only-of-type {\n",
       "        vertical-align: middle;\n",
       "    }\n",
       "\n",
       "    .dataframe tbody tr th {\n",
       "        vertical-align: top;\n",
       "    }\n",
       "\n",
       "    .dataframe thead th {\n",
       "        text-align: right;\n",
       "    }\n",
       "</style>\n",
       "<table border=\"1\" class=\"dataframe\">\n",
       "  <thead>\n",
       "    <tr style=\"text-align: right;\">\n",
       "      <th></th>\n",
       "      <th>key</th>\n",
       "      <th>Wire 1</th>\n",
       "      <th>Wire 2</th>\n",
       "      <th>Wire 3</th>\n",
       "      <th>Wire 4</th>\n",
       "      <th>Wire 5</th>\n",
       "      <th>Wire 6</th>\n",
       "      <th>Wire 7</th>\n",
       "      <th>Wire 8</th>\n",
       "      <th>Wire 9</th>\n",
       "    </tr>\n",
       "  </thead>\n",
       "  <tbody>\n",
       "    <tr>\n",
       "      <th>0</th>\n",
       "      <td>1</td>\n",
       "      <td>60.059998</td>\n",
       "      <td>NaN</td>\n",
       "      <td>NaN</td>\n",
       "      <td>NaN</td>\n",
       "      <td>NaN</td>\n",
       "      <td>NaN</td>\n",
       "      <td>NaN</td>\n",
       "      <td>NaN</td>\n",
       "      <td>NaN</td>\n",
       "    </tr>\n",
       "    <tr>\n",
       "      <th>1</th>\n",
       "      <td>2</td>\n",
       "      <td>96.052315</td>\n",
       "      <td>NaN</td>\n",
       "      <td>NaN</td>\n",
       "      <td>NaN</td>\n",
       "      <td>NaN</td>\n",
       "      <td>NaN</td>\n",
       "      <td>NaN</td>\n",
       "      <td>NaN</td>\n",
       "      <td>NaN</td>\n",
       "    </tr>\n",
       "    <tr>\n",
       "      <th>2</th>\n",
       "      <td>3</td>\n",
       "      <td>91.160157</td>\n",
       "      <td>NaN</td>\n",
       "      <td>NaN</td>\n",
       "      <td>NaN</td>\n",
       "      <td>NaN</td>\n",
       "      <td>NaN</td>\n",
       "      <td>NaN</td>\n",
       "      <td>NaN</td>\n",
       "      <td>NaN</td>\n",
       "    </tr>\n",
       "    <tr>\n",
       "      <th>3</th>\n",
       "      <td>4</td>\n",
       "      <td>89.063515</td>\n",
       "      <td>NaN</td>\n",
       "      <td>NaN</td>\n",
       "      <td>NaN</td>\n",
       "      <td>NaN</td>\n",
       "      <td>NaN</td>\n",
       "      <td>NaN</td>\n",
       "      <td>NaN</td>\n",
       "      <td>NaN</td>\n",
       "    </tr>\n",
       "    <tr>\n",
       "      <th>4</th>\n",
       "      <td>5</td>\n",
       "      <td>89.238236</td>\n",
       "      <td>9.11456</td>\n",
       "      <td>NaN</td>\n",
       "      <td>NaN</td>\n",
       "      <td>NaN</td>\n",
       "      <td>NaN</td>\n",
       "      <td>NaN</td>\n",
       "      <td>NaN</td>\n",
       "      <td>NaN</td>\n",
       "    </tr>\n",
       "  </tbody>\n",
       "</table>\n",
       "</div>"
      ],
      "text/plain": [
       "   key     Wire 1   Wire 2  Wire 3  Wire 4  Wire 5  Wire 6  Wire 7  Wire 8  \\\n",
       "0    1  60.059998      NaN     NaN     NaN     NaN     NaN     NaN     NaN   \n",
       "1    2  96.052315      NaN     NaN     NaN     NaN     NaN     NaN     NaN   \n",
       "2    3  91.160157      NaN     NaN     NaN     NaN     NaN     NaN     NaN   \n",
       "3    4  89.063515      NaN     NaN     NaN     NaN     NaN     NaN     NaN   \n",
       "4    5  89.238236  9.11456     NaN     NaN     NaN     NaN     NaN     NaN   \n",
       "\n",
       "   Wire 9  \n",
       "0     NaN  \n",
       "1     NaN  \n",
       "2     NaN  \n",
       "3     NaN  \n",
       "4     NaN  "
      ]
     },
     "execution_count": 33,
     "metadata": {},
     "output_type": "execute_result"
    }
   ],
   "source": [
    "#wire material data (volume)\n",
    "try:\n",
    "    df_wire = pd.read_csv('datasets/13_data_wire_new.csv')\n",
    "except FileNotFoundError:\n",
    "    df_wire = pd.read_csv('ya/Итоговый проект/data_wire_new.csv')\n",
    "    \n",
    "df_wire.head()"
   ]
  },
  {
   "cell_type": "code",
   "execution_count": 34,
   "id": "9c08b27d",
   "metadata": {},
   "outputs": [],
   "source": [
    "# bring the column names to the correct format\n",
    "df_wire.columns = ['key', 'wire_1','wire_2','wire_3','wire_4','wire_5','wire_6','wire_7','wire_8', 'wire_9']"
   ]
  },
  {
   "cell_type": "code",
   "execution_count": 35,
   "id": "9d7e1202",
   "metadata": {},
   "outputs": [
    {
     "data": {
      "text/html": [
       "<div>\n",
       "<style scoped>\n",
       "    .dataframe tbody tr th:only-of-type {\n",
       "        vertical-align: middle;\n",
       "    }\n",
       "\n",
       "    .dataframe tbody tr th {\n",
       "        vertical-align: top;\n",
       "    }\n",
       "\n",
       "    .dataframe thead th {\n",
       "        text-align: right;\n",
       "    }\n",
       "</style>\n",
       "<table border=\"1\" class=\"dataframe\">\n",
       "  <thead>\n",
       "    <tr style=\"text-align: right;\">\n",
       "      <th></th>\n",
       "      <th>Values</th>\n",
       "      <th>Data type</th>\n",
       "      <th>Unique values</th>\n",
       "      <th>Missing</th>\n",
       "      <th>Duplicates</th>\n",
       "    </tr>\n",
       "  </thead>\n",
       "  <tbody>\n",
       "    <tr>\n",
       "      <th>wire_1</th>\n",
       "      <td>[60.059998, 96.052315, 91.160157, 89.063515, 8...</td>\n",
       "      <td>float64</td>\n",
       "      <td>2251</td>\n",
       "      <td>26</td>\n",
       "      <td>0</td>\n",
       "    </tr>\n",
       "    <tr>\n",
       "      <th>wire_2</th>\n",
       "      <td>[nan, 9.11456, 9.143681, 12.376, 52.416003, 37...</td>\n",
       "      <td>float64</td>\n",
       "      <td>713</td>\n",
       "      <td>2002</td>\n",
       "      <td>0</td>\n",
       "    </tr>\n",
       "    <tr>\n",
       "      <th>wire_3</th>\n",
       "      <td>[nan, 250.041794, 276.324066, 96.047951, 88.64...</td>\n",
       "      <td>float64</td>\n",
       "      <td>56</td>\n",
       "      <td>3018</td>\n",
       "      <td>0</td>\n",
       "    </tr>\n",
       "    <tr>\n",
       "      <th>wire_4</th>\n",
       "      <td>[nan, 24.148801, 43.065361, 33.182243, 103.034...</td>\n",
       "      <td>float64</td>\n",
       "      <td>14</td>\n",
       "      <td>3067</td>\n",
       "      <td>0</td>\n",
       "    </tr>\n",
       "    <tr>\n",
       "      <th>wire_5</th>\n",
       "      <td>[nan, 15.132]</td>\n",
       "      <td>float64</td>\n",
       "      <td>1</td>\n",
       "      <td>3080</td>\n",
       "      <td>0</td>\n",
       "    </tr>\n",
       "    <tr>\n",
       "      <th>wire_6</th>\n",
       "      <td>[nan, 60.094322000000005, 54.122643, 64.212723...</td>\n",
       "      <td>float64</td>\n",
       "      <td>69</td>\n",
       "      <td>3008</td>\n",
       "      <td>0</td>\n",
       "    </tr>\n",
       "    <tr>\n",
       "      <th>wire_7</th>\n",
       "      <td>[nan, 5.035472, 8.49004, 1.053936, 0.234208, 1...</td>\n",
       "      <td>float64</td>\n",
       "      <td>10</td>\n",
       "      <td>3070</td>\n",
       "      <td>0</td>\n",
       "    </tr>\n",
       "    <tr>\n",
       "      <th>wire_8</th>\n",
       "      <td>[nan, 46.002319, 46.094879, 46.187439000000005...</td>\n",
       "      <td>float64</td>\n",
       "      <td>13</td>\n",
       "      <td>3062</td>\n",
       "      <td>0</td>\n",
       "    </tr>\n",
       "    <tr>\n",
       "      <th>wire_9</th>\n",
       "      <td>[nan, 35.0532, 4.622800000000001, 35.0168, 10....</td>\n",
       "      <td>float64</td>\n",
       "      <td>25</td>\n",
       "      <td>3052</td>\n",
       "      <td>0</td>\n",
       "    </tr>\n",
       "    <tr>\n",
       "      <th>key</th>\n",
       "      <td>[1, 2, 3, 4, 5, 6, 7, 8, 9, 10, 11, 12, 13, 14...</td>\n",
       "      <td>int64</td>\n",
       "      <td>3081</td>\n",
       "      <td>0</td>\n",
       "      <td>0</td>\n",
       "    </tr>\n",
       "  </tbody>\n",
       "</table>\n",
       "</div>"
      ],
      "text/plain": [
       "                                                   Values Data type  \\\n",
       "wire_1  [60.059998, 96.052315, 91.160157, 89.063515, 8...   float64   \n",
       "wire_2  [nan, 9.11456, 9.143681, 12.376, 52.416003, 37...   float64   \n",
       "wire_3  [nan, 250.041794, 276.324066, 96.047951, 88.64...   float64   \n",
       "wire_4  [nan, 24.148801, 43.065361, 33.182243, 103.034...   float64   \n",
       "wire_5                                      [nan, 15.132]   float64   \n",
       "wire_6  [nan, 60.094322000000005, 54.122643, 64.212723...   float64   \n",
       "wire_7  [nan, 5.035472, 8.49004, 1.053936, 0.234208, 1...   float64   \n",
       "wire_8  [nan, 46.002319, 46.094879, 46.187439000000005...   float64   \n",
       "wire_9  [nan, 35.0532, 4.622800000000001, 35.0168, 10....   float64   \n",
       "key     [1, 2, 3, 4, 5, 6, 7, 8, 9, 10, 11, 12, 13, 14...     int64   \n",
       "\n",
       "       Unique values Missing Duplicates  \n",
       "wire_1          2251      26          0  \n",
       "wire_2           713    2002          0  \n",
       "wire_3            56    3018          0  \n",
       "wire_4            14    3067          0  \n",
       "wire_5             1    3080          0  \n",
       "wire_6            69    3008          0  \n",
       "wire_7            10    3070          0  \n",
       "wire_8            13    3062          0  \n",
       "wire_9            25    3052          0  \n",
       "key             3081       0          0  "
      ]
     },
     "execution_count": 35,
     "metadata": {},
     "output_type": "execute_result"
    }
   ],
   "source": [
    "# Description function\n",
    "def describe_colums(df):\n",
    "    \n",
    "    values = pd.DataFrame()\n",
    "    \n",
    "    for col in df.columns:\n",
    "        values[col] = [df_wire[col].unique(), df_wire[col].dtypes, \n",
    "                       df_wire[col].nunique(), df_wire[col].isnull().sum().sum(), \n",
    "                       df_wire.duplicated().sum()]\n",
    "        \n",
    "    return values.transpose().sort_values(by=1, ascending=False).rename(\n",
    "        {0: 'Values', 1: 'Data type', 2: 'Unique values', 3: 'Missing', 4: 'Duplicates'}, axis=1)\n",
    "describe_colums(df_wire)"
   ]
  },
  {
   "cell_type": "code",
   "execution_count": 36,
   "id": "54abfa78",
   "metadata": {},
   "outputs": [
    {
     "data": {
      "text/html": [
       "<div>\n",
       "<style scoped>\n",
       "    .dataframe tbody tr th:only-of-type {\n",
       "        vertical-align: middle;\n",
       "    }\n",
       "\n",
       "    .dataframe tbody tr th {\n",
       "        vertical-align: top;\n",
       "    }\n",
       "\n",
       "    .dataframe thead th {\n",
       "        text-align: right;\n",
       "    }\n",
       "</style>\n",
       "<table border=\"1\" class=\"dataframe\">\n",
       "  <thead>\n",
       "    <tr style=\"text-align: right;\">\n",
       "      <th></th>\n",
       "      <th>key</th>\n",
       "      <th>wire_1</th>\n",
       "      <th>wire_2</th>\n",
       "      <th>wire_3</th>\n",
       "      <th>wire_4</th>\n",
       "      <th>wire_5</th>\n",
       "      <th>wire_6</th>\n",
       "      <th>wire_7</th>\n",
       "      <th>wire_8</th>\n",
       "      <th>wire_9</th>\n",
       "    </tr>\n",
       "  </thead>\n",
       "  <tbody>\n",
       "    <tr>\n",
       "      <th>count</th>\n",
       "      <td>3081.000000</td>\n",
       "      <td>3055.000000</td>\n",
       "      <td>1079.000000</td>\n",
       "      <td>63.000000</td>\n",
       "      <td>14.000000</td>\n",
       "      <td>1.000</td>\n",
       "      <td>73.000000</td>\n",
       "      <td>11.000000</td>\n",
       "      <td>19.000000</td>\n",
       "      <td>29.000000</td>\n",
       "    </tr>\n",
       "    <tr>\n",
       "      <th>mean</th>\n",
       "      <td>1623.426485</td>\n",
       "      <td>100.895853</td>\n",
       "      <td>50.577323</td>\n",
       "      <td>189.482681</td>\n",
       "      <td>57.442842</td>\n",
       "      <td>15.132</td>\n",
       "      <td>48.016974</td>\n",
       "      <td>10.039007</td>\n",
       "      <td>53.625193</td>\n",
       "      <td>34.155752</td>\n",
       "    </tr>\n",
       "    <tr>\n",
       "      <th>std</th>\n",
       "      <td>932.996726</td>\n",
       "      <td>42.012518</td>\n",
       "      <td>39.320216</td>\n",
       "      <td>99.513444</td>\n",
       "      <td>28.824667</td>\n",
       "      <td>NaN</td>\n",
       "      <td>33.919845</td>\n",
       "      <td>8.610584</td>\n",
       "      <td>16.881728</td>\n",
       "      <td>19.931616</td>\n",
       "    </tr>\n",
       "    <tr>\n",
       "      <th>min</th>\n",
       "      <td>1.000000</td>\n",
       "      <td>1.918800</td>\n",
       "      <td>0.030160</td>\n",
       "      <td>0.144144</td>\n",
       "      <td>24.148801</td>\n",
       "      <td>15.132</td>\n",
       "      <td>0.034320</td>\n",
       "      <td>0.234208</td>\n",
       "      <td>45.076721</td>\n",
       "      <td>4.622800</td>\n",
       "    </tr>\n",
       "    <tr>\n",
       "      <th>25%</th>\n",
       "      <td>823.000000</td>\n",
       "      <td>72.115684</td>\n",
       "      <td>20.193680</td>\n",
       "      <td>95.135044</td>\n",
       "      <td>40.807002</td>\n",
       "      <td>15.132</td>\n",
       "      <td>25.053600</td>\n",
       "      <td>6.762756</td>\n",
       "      <td>46.094879</td>\n",
       "      <td>22.058401</td>\n",
       "    </tr>\n",
       "    <tr>\n",
       "      <th>50%</th>\n",
       "      <td>1619.000000</td>\n",
       "      <td>100.158234</td>\n",
       "      <td>40.142956</td>\n",
       "      <td>235.194977</td>\n",
       "      <td>45.234282</td>\n",
       "      <td>15.132</td>\n",
       "      <td>42.076324</td>\n",
       "      <td>9.017009</td>\n",
       "      <td>46.279999</td>\n",
       "      <td>30.066399</td>\n",
       "    </tr>\n",
       "    <tr>\n",
       "      <th>75%</th>\n",
       "      <td>2434.000000</td>\n",
       "      <td>126.060483</td>\n",
       "      <td>70.227558</td>\n",
       "      <td>276.252014</td>\n",
       "      <td>76.124619</td>\n",
       "      <td>15.132</td>\n",
       "      <td>64.212723</td>\n",
       "      <td>11.886057</td>\n",
       "      <td>48.089603</td>\n",
       "      <td>43.862003</td>\n",
       "    </tr>\n",
       "    <tr>\n",
       "      <th>max</th>\n",
       "      <td>3241.000000</td>\n",
       "      <td>330.314424</td>\n",
       "      <td>282.780152</td>\n",
       "      <td>385.008668</td>\n",
       "      <td>113.231044</td>\n",
       "      <td>15.132</td>\n",
       "      <td>180.454575</td>\n",
       "      <td>32.847674</td>\n",
       "      <td>102.762401</td>\n",
       "      <td>90.053604</td>\n",
       "    </tr>\n",
       "  </tbody>\n",
       "</table>\n",
       "</div>"
      ],
      "text/plain": [
       "               key       wire_1       wire_2      wire_3      wire_4  wire_5  \\\n",
       "count  3081.000000  3055.000000  1079.000000   63.000000   14.000000   1.000   \n",
       "mean   1623.426485   100.895853    50.577323  189.482681   57.442842  15.132   \n",
       "std     932.996726    42.012518    39.320216   99.513444   28.824667     NaN   \n",
       "min       1.000000     1.918800     0.030160    0.144144   24.148801  15.132   \n",
       "25%     823.000000    72.115684    20.193680   95.135044   40.807002  15.132   \n",
       "50%    1619.000000   100.158234    40.142956  235.194977   45.234282  15.132   \n",
       "75%    2434.000000   126.060483    70.227558  276.252014   76.124619  15.132   \n",
       "max    3241.000000   330.314424   282.780152  385.008668  113.231044  15.132   \n",
       "\n",
       "           wire_6     wire_7      wire_8     wire_9  \n",
       "count   73.000000  11.000000   19.000000  29.000000  \n",
       "mean    48.016974  10.039007   53.625193  34.155752  \n",
       "std     33.919845   8.610584   16.881728  19.931616  \n",
       "min      0.034320   0.234208   45.076721   4.622800  \n",
       "25%     25.053600   6.762756   46.094879  22.058401  \n",
       "50%     42.076324   9.017009   46.279999  30.066399  \n",
       "75%     64.212723  11.886057   48.089603  43.862003  \n",
       "max    180.454575  32.847674  102.762401  90.053604  "
      ]
     },
     "execution_count": 36,
     "metadata": {},
     "output_type": "execute_result"
    }
   ],
   "source": [
    "df_wire.describe()"
   ]
  },
  {
   "cell_type": "markdown",
   "id": "83c69433",
   "metadata": {},
   "source": [
    "Unlike bulk, the data in the wire table is closer to each other in terms of values, there are also a lot of gaps, only wire_1 is almost completely filled and wire_2 is one third full. The remaining columns can be combined into one wire_others"
   ]
  },
  {
   "cell_type": "code",
   "execution_count": 37,
   "id": "4b2bf383",
   "metadata": {},
   "outputs": [],
   "source": [
    "df_wire = df_wire.fillna(0)"
   ]
  },
  {
   "cell_type": "code",
   "execution_count": 38,
   "id": "0678850b",
   "metadata": {},
   "outputs": [
    {
     "data": {
      "text/html": [
       "<div>\n",
       "<style scoped>\n",
       "    .dataframe tbody tr th:only-of-type {\n",
       "        vertical-align: middle;\n",
       "    }\n",
       "\n",
       "    .dataframe tbody tr th {\n",
       "        vertical-align: top;\n",
       "    }\n",
       "\n",
       "    .dataframe thead th {\n",
       "        text-align: right;\n",
       "    }\n",
       "</style>\n",
       "<table border=\"1\" class=\"dataframe\">\n",
       "  <thead>\n",
       "    <tr style=\"text-align: right;\">\n",
       "      <th></th>\n",
       "      <th>key</th>\n",
       "      <th>wire_1</th>\n",
       "      <th>wire_2</th>\n",
       "      <th>wire_others</th>\n",
       "    </tr>\n",
       "  </thead>\n",
       "  <tbody>\n",
       "    <tr>\n",
       "      <th>0</th>\n",
       "      <td>1</td>\n",
       "      <td>60.059998</td>\n",
       "      <td>0.00000</td>\n",
       "      <td>0.0</td>\n",
       "    </tr>\n",
       "    <tr>\n",
       "      <th>1</th>\n",
       "      <td>2</td>\n",
       "      <td>96.052315</td>\n",
       "      <td>0.00000</td>\n",
       "      <td>0.0</td>\n",
       "    </tr>\n",
       "    <tr>\n",
       "      <th>2</th>\n",
       "      <td>3</td>\n",
       "      <td>91.160157</td>\n",
       "      <td>0.00000</td>\n",
       "      <td>0.0</td>\n",
       "    </tr>\n",
       "    <tr>\n",
       "      <th>3</th>\n",
       "      <td>4</td>\n",
       "      <td>89.063515</td>\n",
       "      <td>0.00000</td>\n",
       "      <td>0.0</td>\n",
       "    </tr>\n",
       "    <tr>\n",
       "      <th>4</th>\n",
       "      <td>5</td>\n",
       "      <td>89.238236</td>\n",
       "      <td>9.11456</td>\n",
       "      <td>0.0</td>\n",
       "    </tr>\n",
       "  </tbody>\n",
       "</table>\n",
       "</div>"
      ],
      "text/plain": [
       "   key     wire_1   wire_2  wire_others\n",
       "0    1  60.059998  0.00000          0.0\n",
       "1    2  96.052315  0.00000          0.0\n",
       "2    3  91.160157  0.00000          0.0\n",
       "3    4  89.063515  0.00000          0.0\n",
       "4    5  89.238236  9.11456          0.0"
      ]
     },
     "execution_count": 38,
     "metadata": {},
     "output_type": "execute_result"
    }
   ],
   "source": [
    "# select desired columns\n",
    "fin_wire = df_wire[[\"key\", \"wire_1\", \"wire_2\"]].copy()\n",
    "\n",
    "# create a new column \"wire_others\" and fill it with the sum of the values of other columns\n",
    "fin_wire[\"wire_others\"] = df_wire.loc[:, \"wire_3\":\"wire_9\"].sum(axis=1)\n",
    "\n",
    "fin_wire.head()"
   ]
  },
  {
   "cell_type": "markdown",
   "id": "8525214d",
   "metadata": {},
   "source": [
    "### Tables df_bulk_time and df_wire_time"
   ]
  },
  {
   "cell_type": "code",
   "execution_count": 39,
   "id": "264a4667",
   "metadata": {},
   "outputs": [
    {
     "data": {
      "text/html": [
       "<div>\n",
       "<style scoped>\n",
       "    .dataframe tbody tr th:only-of-type {\n",
       "        vertical-align: middle;\n",
       "    }\n",
       "\n",
       "    .dataframe tbody tr th {\n",
       "        vertical-align: top;\n",
       "    }\n",
       "\n",
       "    .dataframe thead th {\n",
       "        text-align: right;\n",
       "    }\n",
       "</style>\n",
       "<table border=\"1\" class=\"dataframe\">\n",
       "  <thead>\n",
       "    <tr style=\"text-align: right;\">\n",
       "      <th></th>\n",
       "      <th>key</th>\n",
       "      <th>Bulk 1</th>\n",
       "      <th>Bulk 2</th>\n",
       "      <th>Bulk 3</th>\n",
       "      <th>Bulk 4</th>\n",
       "      <th>Bulk 5</th>\n",
       "      <th>Bulk 6</th>\n",
       "      <th>Bulk 7</th>\n",
       "      <th>Bulk 8</th>\n",
       "      <th>Bulk 9</th>\n",
       "      <th>Bulk 10</th>\n",
       "      <th>Bulk 11</th>\n",
       "      <th>Bulk 12</th>\n",
       "      <th>Bulk 13</th>\n",
       "      <th>Bulk 14</th>\n",
       "      <th>Bulk 15</th>\n",
       "    </tr>\n",
       "  </thead>\n",
       "  <tbody>\n",
       "    <tr>\n",
       "      <th>0</th>\n",
       "      <td>1</td>\n",
       "      <td>NaN</td>\n",
       "      <td>NaN</td>\n",
       "      <td>NaN</td>\n",
       "      <td>2019-05-03 11:28:48</td>\n",
       "      <td>NaN</td>\n",
       "      <td>NaN</td>\n",
       "      <td>NaN</td>\n",
       "      <td>NaN</td>\n",
       "      <td>NaN</td>\n",
       "      <td>NaN</td>\n",
       "      <td>NaN</td>\n",
       "      <td>2019-05-03 11:24:31</td>\n",
       "      <td>NaN</td>\n",
       "      <td>2019-05-03 11:14:50</td>\n",
       "      <td>2019-05-03 11:10:43</td>\n",
       "    </tr>\n",
       "    <tr>\n",
       "      <th>1</th>\n",
       "      <td>2</td>\n",
       "      <td>NaN</td>\n",
       "      <td>NaN</td>\n",
       "      <td>NaN</td>\n",
       "      <td>2019-05-03 11:36:50</td>\n",
       "      <td>NaN</td>\n",
       "      <td>NaN</td>\n",
       "      <td>NaN</td>\n",
       "      <td>NaN</td>\n",
       "      <td>NaN</td>\n",
       "      <td>NaN</td>\n",
       "      <td>NaN</td>\n",
       "      <td>2019-05-03 11:53:30</td>\n",
       "      <td>NaN</td>\n",
       "      <td>2019-05-03 11:48:37</td>\n",
       "      <td>2019-05-03 11:44:39</td>\n",
       "    </tr>\n",
       "    <tr>\n",
       "      <th>2</th>\n",
       "      <td>3</td>\n",
       "      <td>NaN</td>\n",
       "      <td>NaN</td>\n",
       "      <td>NaN</td>\n",
       "      <td>2019-05-03 12:32:39</td>\n",
       "      <td>NaN</td>\n",
       "      <td>NaN</td>\n",
       "      <td>NaN</td>\n",
       "      <td>NaN</td>\n",
       "      <td>NaN</td>\n",
       "      <td>NaN</td>\n",
       "      <td>NaN</td>\n",
       "      <td>2019-05-03 12:27:13</td>\n",
       "      <td>NaN</td>\n",
       "      <td>2019-05-03 12:21:01</td>\n",
       "      <td>2019-05-03 12:16:16</td>\n",
       "    </tr>\n",
       "    <tr>\n",
       "      <th>3</th>\n",
       "      <td>4</td>\n",
       "      <td>NaN</td>\n",
       "      <td>NaN</td>\n",
       "      <td>NaN</td>\n",
       "      <td>2019-05-03 12:43:22</td>\n",
       "      <td>NaN</td>\n",
       "      <td>NaN</td>\n",
       "      <td>NaN</td>\n",
       "      <td>NaN</td>\n",
       "      <td>NaN</td>\n",
       "      <td>NaN</td>\n",
       "      <td>NaN</td>\n",
       "      <td>2019-05-03 12:58:00</td>\n",
       "      <td>NaN</td>\n",
       "      <td>2019-05-03 12:51:11</td>\n",
       "      <td>2019-05-03 12:46:36</td>\n",
       "    </tr>\n",
       "    <tr>\n",
       "      <th>4</th>\n",
       "      <td>5</td>\n",
       "      <td>NaN</td>\n",
       "      <td>NaN</td>\n",
       "      <td>NaN</td>\n",
       "      <td>2019-05-03 13:30:47</td>\n",
       "      <td>NaN</td>\n",
       "      <td>NaN</td>\n",
       "      <td>NaN</td>\n",
       "      <td>NaN</td>\n",
       "      <td>NaN</td>\n",
       "      <td>NaN</td>\n",
       "      <td>NaN</td>\n",
       "      <td>2019-05-03 13:30:47</td>\n",
       "      <td>NaN</td>\n",
       "      <td>2019-05-03 13:34:12</td>\n",
       "      <td>2019-05-03 13:30:47</td>\n",
       "    </tr>\n",
       "  </tbody>\n",
       "</table>\n",
       "</div>"
      ],
      "text/plain": [
       "   key Bulk 1 Bulk 2 Bulk 3               Bulk 4 Bulk 5 Bulk 6 Bulk 7 Bulk 8  \\\n",
       "0    1    NaN    NaN    NaN  2019-05-03 11:28:48    NaN    NaN    NaN    NaN   \n",
       "1    2    NaN    NaN    NaN  2019-05-03 11:36:50    NaN    NaN    NaN    NaN   \n",
       "2    3    NaN    NaN    NaN  2019-05-03 12:32:39    NaN    NaN    NaN    NaN   \n",
       "3    4    NaN    NaN    NaN  2019-05-03 12:43:22    NaN    NaN    NaN    NaN   \n",
       "4    5    NaN    NaN    NaN  2019-05-03 13:30:47    NaN    NaN    NaN    NaN   \n",
       "\n",
       "  Bulk 9 Bulk 10 Bulk 11              Bulk 12 Bulk 13              Bulk 14  \\\n",
       "0    NaN     NaN     NaN  2019-05-03 11:24:31     NaN  2019-05-03 11:14:50   \n",
       "1    NaN     NaN     NaN  2019-05-03 11:53:30     NaN  2019-05-03 11:48:37   \n",
       "2    NaN     NaN     NaN  2019-05-03 12:27:13     NaN  2019-05-03 12:21:01   \n",
       "3    NaN     NaN     NaN  2019-05-03 12:58:00     NaN  2019-05-03 12:51:11   \n",
       "4    NaN     NaN     NaN  2019-05-03 13:30:47     NaN  2019-05-03 13:34:12   \n",
       "\n",
       "               Bulk 15  \n",
       "0  2019-05-03 11:10:43  \n",
       "1  2019-05-03 11:44:39  \n",
       "2  2019-05-03 12:16:16  \n",
       "3  2019-05-03 12:46:36  \n",
       "4  2019-05-03 13:30:47  "
      ]
     },
     "execution_count": 39,
     "metadata": {},
     "output_type": "execute_result"
    }
   ],
   "source": [
    "#данные о подаче сыпучих материалов (время)\n",
    "try:\n",
    "    df_bulk_time = pd.read_csv('datasets/13_data_bulk_time_new.csv')\n",
    "except FileNotFoundError:\n",
    "    df_bulk_time = pd.read_csv('ya/Итоговый проект/data_bulk_time_new.csv')\n",
    "\n",
    "df_bulk_time.head()"
   ]
  },
  {
   "cell_type": "code",
   "execution_count": 40,
   "id": "44150a71",
   "metadata": {},
   "outputs": [
    {
     "data": {
      "text/html": [
       "<div>\n",
       "<style scoped>\n",
       "    .dataframe tbody tr th:only-of-type {\n",
       "        vertical-align: middle;\n",
       "    }\n",
       "\n",
       "    .dataframe tbody tr th {\n",
       "        vertical-align: top;\n",
       "    }\n",
       "\n",
       "    .dataframe thead th {\n",
       "        text-align: right;\n",
       "    }\n",
       "</style>\n",
       "<table border=\"1\" class=\"dataframe\">\n",
       "  <thead>\n",
       "    <tr style=\"text-align: right;\">\n",
       "      <th></th>\n",
       "      <th>Values</th>\n",
       "      <th>Data type</th>\n",
       "      <th>Unique values</th>\n",
       "      <th>Missing</th>\n",
       "      <th>Duplicates</th>\n",
       "    </tr>\n",
       "  </thead>\n",
       "  <tbody>\n",
       "    <tr>\n",
       "      <th>Bulk 1</th>\n",
       "      <td>[nan, 2019-05-03 17:42:46, 2019-05-05 16:26:52...</td>\n",
       "      <td>object</td>\n",
       "      <td>252</td>\n",
       "      <td>2877</td>\n",
       "      <td>0</td>\n",
       "    </tr>\n",
       "    <tr>\n",
       "      <th>Bulk 2</th>\n",
       "      <td>[nan, 2019-05-07 15:39:35, 2019-05-07 16:16:34...</td>\n",
       "      <td>object</td>\n",
       "      <td>22</td>\n",
       "      <td>3107</td>\n",
       "      <td>0</td>\n",
       "    </tr>\n",
       "    <tr>\n",
       "      <th>Bulk 3</th>\n",
       "      <td>[nan, 2019-05-03 20:40:25, 2019-05-04 04:25:29...</td>\n",
       "      <td>object</td>\n",
       "      <td>1298</td>\n",
       "      <td>1831</td>\n",
       "      <td>0</td>\n",
       "    </tr>\n",
       "    <tr>\n",
       "      <th>Bulk 4</th>\n",
       "      <td>[2019-05-03 11:28:48, 2019-05-03 11:36:50, 201...</td>\n",
       "      <td>object</td>\n",
       "      <td>1014</td>\n",
       "      <td>2115</td>\n",
       "      <td>0</td>\n",
       "    </tr>\n",
       "    <tr>\n",
       "      <th>Bulk 5</th>\n",
       "      <td>[nan, 2019-05-07 15:19:17, 2019-05-07 16:46:56...</td>\n",
       "      <td>object</td>\n",
       "      <td>77</td>\n",
       "      <td>3052</td>\n",
       "      <td>0</td>\n",
       "    </tr>\n",
       "    <tr>\n",
       "      <th>Bulk 6</th>\n",
       "      <td>[nan, 2019-05-03 19:09:15, 2019-05-03 21:36:10...</td>\n",
       "      <td>object</td>\n",
       "      <td>576</td>\n",
       "      <td>2553</td>\n",
       "      <td>0</td>\n",
       "    </tr>\n",
       "    <tr>\n",
       "      <th>Bulk 7</th>\n",
       "      <td>[nan, 2019-05-07 18:11:01, 2019-05-15 22:42:51...</td>\n",
       "      <td>object</td>\n",
       "      <td>25</td>\n",
       "      <td>3104</td>\n",
       "      <td>0</td>\n",
       "    </tr>\n",
       "    <tr>\n",
       "      <th>Bulk 8</th>\n",
       "      <td>[nan, 2019-07-08 17:14:53]</td>\n",
       "      <td>object</td>\n",
       "      <td>1</td>\n",
       "      <td>3128</td>\n",
       "      <td>0</td>\n",
       "    </tr>\n",
       "    <tr>\n",
       "      <th>Bulk 9</th>\n",
       "      <td>[nan, 2019-05-14 11:57:58, 2019-05-14 12:35:40...</td>\n",
       "      <td>object</td>\n",
       "      <td>19</td>\n",
       "      <td>3110</td>\n",
       "      <td>0</td>\n",
       "    </tr>\n",
       "    <tr>\n",
       "      <th>Bulk 10</th>\n",
       "      <td>[nan, 2019-05-06 07:54:02, 2019-05-07 01:15:07...</td>\n",
       "      <td>object</td>\n",
       "      <td>176</td>\n",
       "      <td>2953</td>\n",
       "      <td>0</td>\n",
       "    </tr>\n",
       "    <tr>\n",
       "      <th>Bulk 11</th>\n",
       "      <td>[nan, 2019-05-05 23:43:24, 2019-05-06 16:18:00...</td>\n",
       "      <td>object</td>\n",
       "      <td>177</td>\n",
       "      <td>2952</td>\n",
       "      <td>0</td>\n",
       "    </tr>\n",
       "    <tr>\n",
       "      <th>Bulk 12</th>\n",
       "      <td>[2019-05-03 11:24:31, 2019-05-03 11:53:30, 201...</td>\n",
       "      <td>object</td>\n",
       "      <td>2450</td>\n",
       "      <td>679</td>\n",
       "      <td>0</td>\n",
       "    </tr>\n",
       "    <tr>\n",
       "      <th>Bulk 13</th>\n",
       "      <td>[nan, 2019-05-05 02:10:21, 2019-05-11 03:35:36...</td>\n",
       "      <td>object</td>\n",
       "      <td>18</td>\n",
       "      <td>3111</td>\n",
       "      <td>0</td>\n",
       "    </tr>\n",
       "    <tr>\n",
       "      <th>Bulk 14</th>\n",
       "      <td>[2019-05-03 11:14:50, 2019-05-03 11:48:37, 201...</td>\n",
       "      <td>object</td>\n",
       "      <td>2806</td>\n",
       "      <td>323</td>\n",
       "      <td>0</td>\n",
       "    </tr>\n",
       "    <tr>\n",
       "      <th>Bulk 15</th>\n",
       "      <td>[2019-05-03 11:10:43, 2019-05-03 11:44:39, 201...</td>\n",
       "      <td>object</td>\n",
       "      <td>2248</td>\n",
       "      <td>881</td>\n",
       "      <td>0</td>\n",
       "    </tr>\n",
       "    <tr>\n",
       "      <th>key</th>\n",
       "      <td>[1, 2, 3, 4, 5, 6, 7, 8, 9, 10, 11, 12, 13, 14...</td>\n",
       "      <td>int64</td>\n",
       "      <td>3129</td>\n",
       "      <td>0</td>\n",
       "      <td>0</td>\n",
       "    </tr>\n",
       "  </tbody>\n",
       "</table>\n",
       "</div>"
      ],
      "text/plain": [
       "                                                    Values Data type  \\\n",
       "Bulk 1   [nan, 2019-05-03 17:42:46, 2019-05-05 16:26:52...    object   \n",
       "Bulk 2   [nan, 2019-05-07 15:39:35, 2019-05-07 16:16:34...    object   \n",
       "Bulk 3   [nan, 2019-05-03 20:40:25, 2019-05-04 04:25:29...    object   \n",
       "Bulk 4   [2019-05-03 11:28:48, 2019-05-03 11:36:50, 201...    object   \n",
       "Bulk 5   [nan, 2019-05-07 15:19:17, 2019-05-07 16:46:56...    object   \n",
       "Bulk 6   [nan, 2019-05-03 19:09:15, 2019-05-03 21:36:10...    object   \n",
       "Bulk 7   [nan, 2019-05-07 18:11:01, 2019-05-15 22:42:51...    object   \n",
       "Bulk 8                          [nan, 2019-07-08 17:14:53]    object   \n",
       "Bulk 9   [nan, 2019-05-14 11:57:58, 2019-05-14 12:35:40...    object   \n",
       "Bulk 10  [nan, 2019-05-06 07:54:02, 2019-05-07 01:15:07...    object   \n",
       "Bulk 11  [nan, 2019-05-05 23:43:24, 2019-05-06 16:18:00...    object   \n",
       "Bulk 12  [2019-05-03 11:24:31, 2019-05-03 11:53:30, 201...    object   \n",
       "Bulk 13  [nan, 2019-05-05 02:10:21, 2019-05-11 03:35:36...    object   \n",
       "Bulk 14  [2019-05-03 11:14:50, 2019-05-03 11:48:37, 201...    object   \n",
       "Bulk 15  [2019-05-03 11:10:43, 2019-05-03 11:44:39, 201...    object   \n",
       "key      [1, 2, 3, 4, 5, 6, 7, 8, 9, 10, 11, 12, 13, 14...     int64   \n",
       "\n",
       "        Unique values Missing Duplicates  \n",
       "Bulk 1            252    2877          0  \n",
       "Bulk 2             22    3107          0  \n",
       "Bulk 3           1298    1831          0  \n",
       "Bulk 4           1014    2115          0  \n",
       "Bulk 5             77    3052          0  \n",
       "Bulk 6            576    2553          0  \n",
       "Bulk 7             25    3104          0  \n",
       "Bulk 8              1    3128          0  \n",
       "Bulk 9             19    3110          0  \n",
       "Bulk 10           176    2953          0  \n",
       "Bulk 11           177    2952          0  \n",
       "Bulk 12          2450     679          0  \n",
       "Bulk 13            18    3111          0  \n",
       "Bulk 14          2806     323          0  \n",
       "Bulk 15          2248     881          0  \n",
       "key              3129       0          0  "
      ]
     },
     "execution_count": 40,
     "metadata": {},
     "output_type": "execute_result"
    }
   ],
   "source": [
    "# Description function\n",
    "def describe_colums(df):\n",
    "    \n",
    "    values = pd.DataFrame()\n",
    "    \n",
    "    for col in df.columns:\n",
    "        values[col] = [df_bulk_time[col].unique(), df_bulk_time[col].dtypes, \n",
    "                       df_bulk_time[col].nunique(), df_bulk_time[col].isnull().sum().sum(), \n",
    "                       df_bulk_time.duplicated().sum()]\n",
    "        \n",
    "    return values.transpose().sort_values(by=1, ascending=False).rename(\n",
    "        {0: 'Values', 1: 'Data type', 2: 'Unique values', 3: 'Missing', 4: 'Duplicates'}, axis=1)\n",
    "describe_colums(df_bulk_time)"
   ]
  },
  {
   "cell_type": "code",
   "execution_count": 41,
   "id": "262e1dfa",
   "metadata": {},
   "outputs": [
    {
     "data": {
      "text/html": [
       "<div>\n",
       "<style scoped>\n",
       "    .dataframe tbody tr th:only-of-type {\n",
       "        vertical-align: middle;\n",
       "    }\n",
       "\n",
       "    .dataframe tbody tr th {\n",
       "        vertical-align: top;\n",
       "    }\n",
       "\n",
       "    .dataframe thead th {\n",
       "        text-align: right;\n",
       "    }\n",
       "</style>\n",
       "<table border=\"1\" class=\"dataframe\">\n",
       "  <thead>\n",
       "    <tr style=\"text-align: right;\">\n",
       "      <th></th>\n",
       "      <th>key</th>\n",
       "      <th>Wire 1</th>\n",
       "      <th>Wire 2</th>\n",
       "      <th>Wire 3</th>\n",
       "      <th>Wire 4</th>\n",
       "      <th>Wire 5</th>\n",
       "      <th>Wire 6</th>\n",
       "      <th>Wire 7</th>\n",
       "      <th>Wire 8</th>\n",
       "      <th>Wire 9</th>\n",
       "    </tr>\n",
       "  </thead>\n",
       "  <tbody>\n",
       "    <tr>\n",
       "      <th>0</th>\n",
       "      <td>1</td>\n",
       "      <td>2019-05-03 11:06:19</td>\n",
       "      <td>NaN</td>\n",
       "      <td>NaN</td>\n",
       "      <td>NaN</td>\n",
       "      <td>NaN</td>\n",
       "      <td>NaN</td>\n",
       "      <td>NaN</td>\n",
       "      <td>NaN</td>\n",
       "      <td>NaN</td>\n",
       "    </tr>\n",
       "    <tr>\n",
       "      <th>1</th>\n",
       "      <td>2</td>\n",
       "      <td>2019-05-03 11:36:50</td>\n",
       "      <td>NaN</td>\n",
       "      <td>NaN</td>\n",
       "      <td>NaN</td>\n",
       "      <td>NaN</td>\n",
       "      <td>NaN</td>\n",
       "      <td>NaN</td>\n",
       "      <td>NaN</td>\n",
       "      <td>NaN</td>\n",
       "    </tr>\n",
       "    <tr>\n",
       "      <th>2</th>\n",
       "      <td>3</td>\n",
       "      <td>2019-05-03 12:11:46</td>\n",
       "      <td>NaN</td>\n",
       "      <td>NaN</td>\n",
       "      <td>NaN</td>\n",
       "      <td>NaN</td>\n",
       "      <td>NaN</td>\n",
       "      <td>NaN</td>\n",
       "      <td>NaN</td>\n",
       "      <td>NaN</td>\n",
       "    </tr>\n",
       "    <tr>\n",
       "      <th>3</th>\n",
       "      <td>4</td>\n",
       "      <td>2019-05-03 12:43:22</td>\n",
       "      <td>NaN</td>\n",
       "      <td>NaN</td>\n",
       "      <td>NaN</td>\n",
       "      <td>NaN</td>\n",
       "      <td>NaN</td>\n",
       "      <td>NaN</td>\n",
       "      <td>NaN</td>\n",
       "      <td>NaN</td>\n",
       "    </tr>\n",
       "    <tr>\n",
       "      <th>4</th>\n",
       "      <td>5</td>\n",
       "      <td>2019-05-03 13:20:44</td>\n",
       "      <td>2019-05-03 13:15:34</td>\n",
       "      <td>NaN</td>\n",
       "      <td>NaN</td>\n",
       "      <td>NaN</td>\n",
       "      <td>NaN</td>\n",
       "      <td>NaN</td>\n",
       "      <td>NaN</td>\n",
       "      <td>NaN</td>\n",
       "    </tr>\n",
       "  </tbody>\n",
       "</table>\n",
       "</div>"
      ],
      "text/plain": [
       "   key               Wire 1               Wire 2 Wire 3 Wire 4 Wire 5 Wire 6  \\\n",
       "0    1  2019-05-03 11:06:19                  NaN    NaN    NaN    NaN    NaN   \n",
       "1    2  2019-05-03 11:36:50                  NaN    NaN    NaN    NaN    NaN   \n",
       "2    3  2019-05-03 12:11:46                  NaN    NaN    NaN    NaN    NaN   \n",
       "3    4  2019-05-03 12:43:22                  NaN    NaN    NaN    NaN    NaN   \n",
       "4    5  2019-05-03 13:20:44  2019-05-03 13:15:34    NaN    NaN    NaN    NaN   \n",
       "\n",
       "  Wire 7 Wire 8 Wire 9  \n",
       "0    NaN    NaN    NaN  \n",
       "1    NaN    NaN    NaN  \n",
       "2    NaN    NaN    NaN  \n",
       "3    NaN    NaN    NaN  \n",
       "4    NaN    NaN    NaN  "
      ]
     },
     "execution_count": 41,
     "metadata": {},
     "output_type": "execute_result"
    }
   ],
   "source": [
    "#wire material data (time)\n",
    "try:\n",
    "    df_wire_time = pd.read_csv('datasets/13_data_wire_time_new.csv')\n",
    "except FileNotFoundError:\n",
    "    df_wire_time = pd.read_csv('ya/Итоговый проект/data_wire_time_new.csv')\n",
    "    \n",
    "df_wire_time.head(5)"
   ]
  },
  {
   "cell_type": "code",
   "execution_count": 42,
   "id": "42c2bfe4",
   "metadata": {
    "scrolled": true
   },
   "outputs": [
    {
     "data": {
      "text/html": [
       "<div>\n",
       "<style scoped>\n",
       "    .dataframe tbody tr th:only-of-type {\n",
       "        vertical-align: middle;\n",
       "    }\n",
       "\n",
       "    .dataframe tbody tr th {\n",
       "        vertical-align: top;\n",
       "    }\n",
       "\n",
       "    .dataframe thead th {\n",
       "        text-align: right;\n",
       "    }\n",
       "</style>\n",
       "<table border=\"1\" class=\"dataframe\">\n",
       "  <thead>\n",
       "    <tr style=\"text-align: right;\">\n",
       "      <th></th>\n",
       "      <th>Values</th>\n",
       "      <th>Data type</th>\n",
       "      <th>Unique values</th>\n",
       "      <th>Missing</th>\n",
       "      <th>Duplicates</th>\n",
       "    </tr>\n",
       "  </thead>\n",
       "  <tbody>\n",
       "    <tr>\n",
       "      <th>Wire 1</th>\n",
       "      <td>[2019-05-03 11:06:19, 2019-05-03 11:36:50, 201...</td>\n",
       "      <td>object</td>\n",
       "      <td>3055</td>\n",
       "      <td>26</td>\n",
       "      <td>0</td>\n",
       "    </tr>\n",
       "    <tr>\n",
       "      <th>Wire 2</th>\n",
       "      <td>[nan, 2019-05-03 13:15:34, 2019-05-03 13:48:52...</td>\n",
       "      <td>object</td>\n",
       "      <td>1079</td>\n",
       "      <td>2002</td>\n",
       "      <td>0</td>\n",
       "    </tr>\n",
       "    <tr>\n",
       "      <th>Wire 3</th>\n",
       "      <td>[nan, 2019-05-04 04:34:27, 2019-05-04 05:41:29...</td>\n",
       "      <td>object</td>\n",
       "      <td>63</td>\n",
       "      <td>3018</td>\n",
       "      <td>0</td>\n",
       "    </tr>\n",
       "    <tr>\n",
       "      <th>Wire 4</th>\n",
       "      <td>[nan, 2019-05-07 15:19:17, 2019-05-07 16:46:56...</td>\n",
       "      <td>object</td>\n",
       "      <td>14</td>\n",
       "      <td>3067</td>\n",
       "      <td>0</td>\n",
       "    </tr>\n",
       "    <tr>\n",
       "      <th>Wire 5</th>\n",
       "      <td>[nan, 2019-08-13 06:14:30]</td>\n",
       "      <td>object</td>\n",
       "      <td>1</td>\n",
       "      <td>3080</td>\n",
       "      <td>0</td>\n",
       "    </tr>\n",
       "    <tr>\n",
       "      <th>Wire 6</th>\n",
       "      <td>[nan, 2019-05-07 14:46:05, 2019-05-07 16:16:34...</td>\n",
       "      <td>object</td>\n",
       "      <td>73</td>\n",
       "      <td>3008</td>\n",
       "      <td>0</td>\n",
       "    </tr>\n",
       "    <tr>\n",
       "      <th>Wire 7</th>\n",
       "      <td>[nan, 2019-07-27 05:49:05, 2019-07-27 07:56:34...</td>\n",
       "      <td>object</td>\n",
       "      <td>11</td>\n",
       "      <td>3070</td>\n",
       "      <td>0</td>\n",
       "    </tr>\n",
       "    <tr>\n",
       "      <th>Wire 8</th>\n",
       "      <td>[nan, 2019-05-14 11:29:24, 2019-05-14 12:18:01...</td>\n",
       "      <td>object</td>\n",
       "      <td>19</td>\n",
       "      <td>3062</td>\n",
       "      <td>0</td>\n",
       "    </tr>\n",
       "    <tr>\n",
       "      <th>Wire 9</th>\n",
       "      <td>[nan, 2019-05-04 17:21:27, 2019-06-02 15:42:11...</td>\n",
       "      <td>object</td>\n",
       "      <td>29</td>\n",
       "      <td>3052</td>\n",
       "      <td>0</td>\n",
       "    </tr>\n",
       "    <tr>\n",
       "      <th>key</th>\n",
       "      <td>[1, 2, 3, 4, 5, 6, 7, 8, 9, 10, 11, 12, 13, 14...</td>\n",
       "      <td>int64</td>\n",
       "      <td>3081</td>\n",
       "      <td>0</td>\n",
       "      <td>0</td>\n",
       "    </tr>\n",
       "  </tbody>\n",
       "</table>\n",
       "</div>"
      ],
      "text/plain": [
       "                                                   Values Data type  \\\n",
       "Wire 1  [2019-05-03 11:06:19, 2019-05-03 11:36:50, 201...    object   \n",
       "Wire 2  [nan, 2019-05-03 13:15:34, 2019-05-03 13:48:52...    object   \n",
       "Wire 3  [nan, 2019-05-04 04:34:27, 2019-05-04 05:41:29...    object   \n",
       "Wire 4  [nan, 2019-05-07 15:19:17, 2019-05-07 16:46:56...    object   \n",
       "Wire 5                         [nan, 2019-08-13 06:14:30]    object   \n",
       "Wire 6  [nan, 2019-05-07 14:46:05, 2019-05-07 16:16:34...    object   \n",
       "Wire 7  [nan, 2019-07-27 05:49:05, 2019-07-27 07:56:34...    object   \n",
       "Wire 8  [nan, 2019-05-14 11:29:24, 2019-05-14 12:18:01...    object   \n",
       "Wire 9  [nan, 2019-05-04 17:21:27, 2019-06-02 15:42:11...    object   \n",
       "key     [1, 2, 3, 4, 5, 6, 7, 8, 9, 10, 11, 12, 13, 14...     int64   \n",
       "\n",
       "       Unique values Missing Duplicates  \n",
       "Wire 1          3055      26          0  \n",
       "Wire 2          1079    2002          0  \n",
       "Wire 3            63    3018          0  \n",
       "Wire 4            14    3067          0  \n",
       "Wire 5             1    3080          0  \n",
       "Wire 6            73    3008          0  \n",
       "Wire 7            11    3070          0  \n",
       "Wire 8            19    3062          0  \n",
       "Wire 9            29    3052          0  \n",
       "key             3081       0          0  "
      ]
     },
     "execution_count": 42,
     "metadata": {},
     "output_type": "execute_result"
    }
   ],
   "source": [
    "# Description function\n",
    "def describe_colums(df):\n",
    "    \n",
    "    values = pd.DataFrame()\n",
    "    \n",
    "    for col in df.columns:\n",
    "        values[col] = [df_wire_time[col].unique(), df_wire_time[col].dtypes, \n",
    "                       df_wire_time[col].nunique(), df_wire_time[col].isnull().sum().sum(), \n",
    "                       df_wire_time.duplicated().sum()]\n",
    "        \n",
    "    return values.transpose().sort_values(by=1, ascending=False).rename(\n",
    "{0: 'Values', 1: 'Data type', 2: 'Unique values', 3: 'Missing', 4: 'Duplicates'}, axis=1)\n",
    "describe_colums(df_wire_time)"
   ]
  },
  {
   "cell_type": "markdown",
   "id": "f90415db",
   "metadata": {},
   "source": [
    "We do not need the data of the table, since we have combined uninformative columns, time most likely does not affect the overall picture."
   ]
  },
  {
   "cell_type": "markdown",
   "id": "4df276c4",
   "metadata": {},
   "source": [
    "### Table df_gas"
   ]
  },
  {
   "cell_type": "code",
   "execution_count": 43,
   "id": "fa14ee89",
   "metadata": {},
   "outputs": [
    {
     "data": {
      "text/html": [
       "<div>\n",
       "<style scoped>\n",
       "    .dataframe tbody tr th:only-of-type {\n",
       "        vertical-align: middle;\n",
       "    }\n",
       "\n",
       "    .dataframe tbody tr th {\n",
       "        vertical-align: top;\n",
       "    }\n",
       "\n",
       "    .dataframe thead th {\n",
       "        text-align: right;\n",
       "    }\n",
       "</style>\n",
       "<table border=\"1\" class=\"dataframe\">\n",
       "  <thead>\n",
       "    <tr style=\"text-align: right;\">\n",
       "      <th></th>\n",
       "      <th>key</th>\n",
       "      <th>Газ 1</th>\n",
       "    </tr>\n",
       "  </thead>\n",
       "  <tbody>\n",
       "    <tr>\n",
       "      <th>0</th>\n",
       "      <td>1</td>\n",
       "      <td>29.749986</td>\n",
       "    </tr>\n",
       "    <tr>\n",
       "      <th>1</th>\n",
       "      <td>2</td>\n",
       "      <td>12.555561</td>\n",
       "    </tr>\n",
       "    <tr>\n",
       "      <th>2</th>\n",
       "      <td>3</td>\n",
       "      <td>28.554793</td>\n",
       "    </tr>\n",
       "    <tr>\n",
       "      <th>3</th>\n",
       "      <td>4</td>\n",
       "      <td>18.841219</td>\n",
       "    </tr>\n",
       "    <tr>\n",
       "      <th>4</th>\n",
       "      <td>5</td>\n",
       "      <td>5.413692</td>\n",
       "    </tr>\n",
       "  </tbody>\n",
       "</table>\n",
       "</div>"
      ],
      "text/plain": [
       "   key      Газ 1\n",
       "0    1  29.749986\n",
       "1    2  12.555561\n",
       "2    3  28.554793\n",
       "3    4  18.841219\n",
       "4    5   5.413692"
      ]
     },
     "execution_count": 43,
     "metadata": {},
     "output_type": "execute_result"
    }
   ],
   "source": [
    "#data on alloy gas purge\n",
    "try:\n",
    "    df_gas = pd.read_csv('datasets/13_data_gas_new.csv')\n",
    "except FileNotFoundError:\n",
    "    df_gas = pd.read_csv('ya/Итоговый проект/data_gas_new.csv')\n",
    "df_gas.head()"
   ]
  },
  {
   "cell_type": "code",
   "execution_count": 44,
   "id": "154ec5cf",
   "metadata": {},
   "outputs": [
    {
     "data": {
      "text/html": [
       "<div>\n",
       "<style scoped>\n",
       "    .dataframe tbody tr th:only-of-type {\n",
       "        vertical-align: middle;\n",
       "    }\n",
       "\n",
       "    .dataframe tbody tr th {\n",
       "        vertical-align: top;\n",
       "    }\n",
       "\n",
       "    .dataframe thead th {\n",
       "        text-align: right;\n",
       "    }\n",
       "</style>\n",
       "<table border=\"1\" class=\"dataframe\">\n",
       "  <thead>\n",
       "    <tr style=\"text-align: right;\">\n",
       "      <th></th>\n",
       "      <th>Values</th>\n",
       "      <th>Data type</th>\n",
       "      <th>Unique values</th>\n",
       "      <th>Missing</th>\n",
       "      <th>Duplicates</th>\n",
       "    </tr>\n",
       "  </thead>\n",
       "  <tbody>\n",
       "    <tr>\n",
       "      <th>Газ 1</th>\n",
       "      <td>[29.7499859302, 12.5555609779, 28.5547926192, ...</td>\n",
       "      <td>float64</td>\n",
       "      <td>3239</td>\n",
       "      <td>0</td>\n",
       "      <td>0</td>\n",
       "    </tr>\n",
       "    <tr>\n",
       "      <th>key</th>\n",
       "      <td>[1, 2, 3, 4, 5, 6, 7, 8, 9, 10, 11, 12, 13, 14...</td>\n",
       "      <td>int64</td>\n",
       "      <td>3239</td>\n",
       "      <td>0</td>\n",
       "      <td>0</td>\n",
       "    </tr>\n",
       "  </tbody>\n",
       "</table>\n",
       "</div>"
      ],
      "text/plain": [
       "                                                  Values Data type  \\\n",
       "Газ 1  [29.7499859302, 12.5555609779, 28.5547926192, ...   float64   \n",
       "key    [1, 2, 3, 4, 5, 6, 7, 8, 9, 10, 11, 12, 13, 14...     int64   \n",
       "\n",
       "      Unique values Missing Duplicates  \n",
       "Газ 1          3239       0          0  \n",
       "key            3239       0          0  "
      ]
     },
     "execution_count": 44,
     "metadata": {},
     "output_type": "execute_result"
    }
   ],
   "source": [
    "# Description function\n",
    "def describe_colums(df):\n",
    "    \n",
    "    values = pd.DataFrame()\n",
    "    \n",
    "    for col in df.columns:\n",
    "        values[col] = [df_gas[col].unique(), df_gas[col].dtypes, \n",
    "                       df_gas[col].nunique(), df_gas[col].isnull().sum().sum(), \n",
    "                       df_gas.duplicated().sum()]\n",
    "        \n",
    "    return values.transpose().sort_values(by=1, ascending=False).rename(\n",
    "        {0: 'Values', 1: 'Data type', 2: 'Unique values', 3: 'Missing', 4: 'Duplicates'}, axis=1)\n",
    "describe_colums(df_gas)"
   ]
  },
  {
   "cell_type": "code",
   "execution_count": 45,
   "id": "bba6d997",
   "metadata": {},
   "outputs": [],
   "source": [
    "# bring the column names to the correct format\n",
    "df_gas.columns = ['key', 'gas']"
   ]
  },
  {
   "cell_type": "code",
   "execution_count": 46,
   "id": "26a5c3f3",
   "metadata": {},
   "outputs": [
    {
     "data": {
      "text/html": [
       "<div>\n",
       "<style scoped>\n",
       "    .dataframe tbody tr th:only-of-type {\n",
       "        vertical-align: middle;\n",
       "    }\n",
       "\n",
       "    .dataframe tbody tr th {\n",
       "        vertical-align: top;\n",
       "    }\n",
       "\n",
       "    .dataframe thead th {\n",
       "        text-align: right;\n",
       "    }\n",
       "</style>\n",
       "<table border=\"1\" class=\"dataframe\">\n",
       "  <thead>\n",
       "    <tr style=\"text-align: right;\">\n",
       "      <th></th>\n",
       "      <th>key</th>\n",
       "      <th>gas</th>\n",
       "    </tr>\n",
       "  </thead>\n",
       "  <tbody>\n",
       "    <tr>\n",
       "      <th>count</th>\n",
       "      <td>3239.000000</td>\n",
       "      <td>3239.000000</td>\n",
       "    </tr>\n",
       "    <tr>\n",
       "      <th>mean</th>\n",
       "      <td>1621.861377</td>\n",
       "      <td>11.002062</td>\n",
       "    </tr>\n",
       "    <tr>\n",
       "      <th>std</th>\n",
       "      <td>935.386334</td>\n",
       "      <td>6.220327</td>\n",
       "    </tr>\n",
       "    <tr>\n",
       "      <th>min</th>\n",
       "      <td>1.000000</td>\n",
       "      <td>0.008399</td>\n",
       "    </tr>\n",
       "    <tr>\n",
       "      <th>25%</th>\n",
       "      <td>812.500000</td>\n",
       "      <td>7.043089</td>\n",
       "    </tr>\n",
       "    <tr>\n",
       "      <th>50%</th>\n",
       "      <td>1622.000000</td>\n",
       "      <td>9.836267</td>\n",
       "    </tr>\n",
       "    <tr>\n",
       "      <th>75%</th>\n",
       "      <td>2431.500000</td>\n",
       "      <td>13.769915</td>\n",
       "    </tr>\n",
       "    <tr>\n",
       "      <th>max</th>\n",
       "      <td>3241.000000</td>\n",
       "      <td>77.995040</td>\n",
       "    </tr>\n",
       "  </tbody>\n",
       "</table>\n",
       "</div>"
      ],
      "text/plain": [
       "               key          gas\n",
       "count  3239.000000  3239.000000\n",
       "mean   1621.861377    11.002062\n",
       "std     935.386334     6.220327\n",
       "min       1.000000     0.008399\n",
       "25%     812.500000     7.043089\n",
       "50%    1622.000000     9.836267\n",
       "75%    2431.500000    13.769915\n",
       "max    3241.000000    77.995040"
      ]
     },
     "execution_count": 46,
     "metadata": {},
     "output_type": "execute_result"
    }
   ],
   "source": [
    "df_gas.describe()"
   ]
  },
  {
   "cell_type": "code",
   "execution_count": 47,
   "id": "edb1eaa8",
   "metadata": {},
   "outputs": [
    {
     "data": {
      "image/png": "[encoded data removed]",
      "text/plain": [
       "<Figure size 1080x360 with 2 Axes>"
      ]
     },
     "metadata": {
      "needs_background": "light"
     },
     "output_type": "display_data"
    }
   ],
   "source": [
    "# Create a shared Figure and Axes object\n",
    "fig, axs = plt.subplots(ncols=2, figsize=(15, 5))\n",
    "\n",
    "# Graph 1\n",
    "sns.histplot(ax=axs[0], data=df_gas, x='gas', bins=50)\n",
    "axs[0].set_title('Gas Distribution')\n",
    "axs[0].set_xlabel('Number')\n",
    "axs[0].set_ylabel('Frequency')\n",
    "\n",
    "# Graph 2\n",
    "sns.boxplot(ax=axs[1], data=df_gas, x='gas')\n",
    "axs[1].set_title('Gas Distribution')\n",
    "axs[1].set_xlabel('Number')\n",
    "axs[1].set_ylabel('Frequency')\n",
    "\n",
    "# Display graphs\n",
    "plt.show()"
   ]
  },
  {
   "cell_type": "code",
   "execution_count": 48,
   "id": "5c20b288",
   "metadata": {},
   "outputs": [
    {
     "name": "stdout",
     "output_type": "stream",
     "text": [
      "Number of outliers in the Gas column: 101\n"
     ]
    }
   ],
   "source": [
    "count = (df_gas['gas'] > 25).sum()\n",
    "print('Number of outliers in the Gas column:', count)"
   ]
  },
  {
   "cell_type": "code",
   "execution_count": 49,
   "id": "0b7c3b3e",
   "metadata": {},
   "outputs": [
    {
     "data": {
      "text/html": [
       "<div>\n",
       "<style scoped>\n",
       "    .dataframe tbody tr th:only-of-type {\n",
       "        vertical-align: middle;\n",
       "    }\n",
       "\n",
       "    .dataframe tbody tr th {\n",
       "        vertical-align: top;\n",
       "    }\n",
       "\n",
       "    .dataframe thead th {\n",
       "        text-align: right;\n",
       "    }\n",
       "</style>\n",
       "<table border=\"1\" class=\"dataframe\">\n",
       "  <thead>\n",
       "    <tr style=\"text-align: right;\">\n",
       "      <th></th>\n",
       "      <th>key</th>\n",
       "      <th>gas</th>\n",
       "    </tr>\n",
       "  </thead>\n",
       "  <tbody>\n",
       "    <tr>\n",
       "      <th>319</th>\n",
       "      <td>322</td>\n",
       "      <td>77.995040</td>\n",
       "    </tr>\n",
       "    <tr>\n",
       "      <th>277</th>\n",
       "      <td>280</td>\n",
       "      <td>60.935689</td>\n",
       "    </tr>\n",
       "    <tr>\n",
       "      <th>2107</th>\n",
       "      <td>2110</td>\n",
       "      <td>52.142373</td>\n",
       "    </tr>\n",
       "    <tr>\n",
       "      <th>2567</th>\n",
       "      <td>2570</td>\n",
       "      <td>51.380229</td>\n",
       "    </tr>\n",
       "    <tr>\n",
       "      <th>116</th>\n",
       "      <td>117</td>\n",
       "      <td>50.581035</td>\n",
       "    </tr>\n",
       "    <tr>\n",
       "      <th>2105</th>\n",
       "      <td>2108</td>\n",
       "      <td>45.638999</td>\n",
       "    </tr>\n",
       "    <tr>\n",
       "      <th>1461</th>\n",
       "      <td>1464</td>\n",
       "      <td>43.655411</td>\n",
       "    </tr>\n",
       "    <tr>\n",
       "      <th>660</th>\n",
       "      <td>663</td>\n",
       "      <td>41.854643</td>\n",
       "    </tr>\n",
       "    <tr>\n",
       "      <th>525</th>\n",
       "      <td>528</td>\n",
       "      <td>39.728826</td>\n",
       "    </tr>\n",
       "    <tr>\n",
       "      <th>610</th>\n",
       "      <td>613</td>\n",
       "      <td>39.425706</td>\n",
       "    </tr>\n",
       "  </tbody>\n",
       "</table>\n",
       "</div>"
      ],
      "text/plain": [
       "       key        gas\n",
       "319    322  77.995040\n",
       "277    280  60.935689\n",
       "2107  2110  52.142373\n",
       "2567  2570  51.380229\n",
       "116    117  50.581035\n",
       "2105  2108  45.638999\n",
       "1461  1464  43.655411\n",
       "660    663  41.854643\n",
       "525    528  39.728826\n",
       "610    613  39.425706"
      ]
     },
     "execution_count": 49,
     "metadata": {},
     "output_type": "execute_result"
    }
   ],
   "source": [
    "df_gas.sort_values(by='gas', ascending=False).head(10)"
   ]
  },
  {
   "cell_type": "markdown",
   "id": "055a8a57",
   "metadata": {},
   "source": [
    "The distribution tends to be normal. Up to 50 with a little there is a soft tail. There are 2 anomalous values. Which is better to remove, we will hold these events on the train"
   ]
  },
  {
   "cell_type": "code",
   "execution_count": 50,
   "id": "8e74d8d1",
   "metadata": {},
   "outputs": [
    {
     "data": {
      "text/html": [
       "<div>\n",
       "<style scoped>\n",
       "    .dataframe tbody tr th:only-of-type {\n",
       "        vertical-align: middle;\n",
       "    }\n",
       "\n",
       "    .dataframe tbody tr th {\n",
       "        vertical-align: top;\n",
       "    }\n",
       "\n",
       "    .dataframe thead th {\n",
       "        text-align: right;\n",
       "    }\n",
       "</style>\n",
       "<table border=\"1\" class=\"dataframe\">\n",
       "  <thead>\n",
       "    <tr style=\"text-align: right;\">\n",
       "      <th></th>\n",
       "      <th>key</th>\n",
       "      <th>gas</th>\n",
       "    </tr>\n",
       "  </thead>\n",
       "  <tbody>\n",
       "    <tr>\n",
       "      <th>count</th>\n",
       "      <td>3239.000000</td>\n",
       "      <td>3239.000000</td>\n",
       "    </tr>\n",
       "    <tr>\n",
       "      <th>mean</th>\n",
       "      <td>1621.861377</td>\n",
       "      <td>11.002062</td>\n",
       "    </tr>\n",
       "    <tr>\n",
       "      <th>std</th>\n",
       "      <td>935.386334</td>\n",
       "      <td>6.220327</td>\n",
       "    </tr>\n",
       "    <tr>\n",
       "      <th>min</th>\n",
       "      <td>1.000000</td>\n",
       "      <td>0.008399</td>\n",
       "    </tr>\n",
       "    <tr>\n",
       "      <th>25%</th>\n",
       "      <td>812.500000</td>\n",
       "      <td>7.043089</td>\n",
       "    </tr>\n",
       "    <tr>\n",
       "      <th>50%</th>\n",
       "      <td>1622.000000</td>\n",
       "      <td>9.836267</td>\n",
       "    </tr>\n",
       "    <tr>\n",
       "      <th>75%</th>\n",
       "      <td>2431.500000</td>\n",
       "      <td>13.769915</td>\n",
       "    </tr>\n",
       "    <tr>\n",
       "      <th>max</th>\n",
       "      <td>3241.000000</td>\n",
       "      <td>77.995040</td>\n",
       "    </tr>\n",
       "  </tbody>\n",
       "</table>\n",
       "</div>"
      ],
      "text/plain": [
       "               key          gas\n",
       "count  3239.000000  3239.000000\n",
       "mean   1621.861377    11.002062\n",
       "std     935.386334     6.220327\n",
       "min       1.000000     0.008399\n",
       "25%     812.500000     7.043089\n",
       "50%    1622.000000     9.836267\n",
       "75%    2431.500000    13.769915\n",
       "max    3241.000000    77.995040"
      ]
     },
     "execution_count": 50,
     "metadata": {},
     "output_type": "execute_result"
    }
   ],
   "source": [
    "df_gas.describe()"
   ]
  },
  {
   "cell_type": "code",
   "execution_count": 51,
   "id": "ae87de2c",
   "metadata": {},
   "outputs": [],
   "source": [
    "fin_gas = df_gas"
   ]
  },
  {
   "cell_type": "markdown",
   "id": "5d229bd5",
   "metadata": {},
   "source": [
    "#### 2.1.5 Таблица df_temp"
   ]
  },
  {
   "cell_type": "code",
   "execution_count": 52,
   "id": "7fef6220",
   "metadata": {},
   "outputs": [
    {
     "data": {
      "text/html": [
       "<div>\n",
       "<style scoped>\n",
       "    .dataframe tbody tr th:only-of-type {\n",
       "        vertical-align: middle;\n",
       "    }\n",
       "\n",
       "    .dataframe tbody tr th {\n",
       "        vertical-align: top;\n",
       "    }\n",
       "\n",
       "    .dataframe thead th {\n",
       "        text-align: right;\n",
       "    }\n",
       "</style>\n",
       "<table border=\"1\" class=\"dataframe\">\n",
       "  <thead>\n",
       "    <tr style=\"text-align: right;\">\n",
       "      <th></th>\n",
       "      <th>key</th>\n",
       "      <th>Время замера</th>\n",
       "      <th>Температура</th>\n",
       "    </tr>\n",
       "  </thead>\n",
       "  <tbody>\n",
       "    <tr>\n",
       "      <th>0</th>\n",
       "      <td>1</td>\n",
       "      <td>2019-05-03 11:02:04</td>\n",
       "      <td>1571.0</td>\n",
       "    </tr>\n",
       "    <tr>\n",
       "      <th>1</th>\n",
       "      <td>1</td>\n",
       "      <td>2019-05-03 11:07:18</td>\n",
       "      <td>1604.0</td>\n",
       "    </tr>\n",
       "    <tr>\n",
       "      <th>2</th>\n",
       "      <td>1</td>\n",
       "      <td>2019-05-03 11:11:34</td>\n",
       "      <td>1618.0</td>\n",
       "    </tr>\n",
       "    <tr>\n",
       "      <th>3</th>\n",
       "      <td>1</td>\n",
       "      <td>2019-05-03 11:18:04</td>\n",
       "      <td>1601.0</td>\n",
       "    </tr>\n",
       "    <tr>\n",
       "      <th>4</th>\n",
       "      <td>1</td>\n",
       "      <td>2019-05-03 11:25:59</td>\n",
       "      <td>1606.0</td>\n",
       "    </tr>\n",
       "    <tr>\n",
       "      <th>...</th>\n",
       "      <td>...</td>\n",
       "      <td>...</td>\n",
       "      <td>...</td>\n",
       "    </tr>\n",
       "    <tr>\n",
       "      <th>18087</th>\n",
       "      <td>3241</td>\n",
       "      <td>2019-09-06 16:55:01</td>\n",
       "      <td>NaN</td>\n",
       "    </tr>\n",
       "    <tr>\n",
       "      <th>18088</th>\n",
       "      <td>3241</td>\n",
       "      <td>2019-09-06 17:06:38</td>\n",
       "      <td>NaN</td>\n",
       "    </tr>\n",
       "    <tr>\n",
       "      <th>18089</th>\n",
       "      <td>3241</td>\n",
       "      <td>2019-09-06 17:21:48</td>\n",
       "      <td>NaN</td>\n",
       "    </tr>\n",
       "    <tr>\n",
       "      <th>18090</th>\n",
       "      <td>3241</td>\n",
       "      <td>2019-09-06 17:24:44</td>\n",
       "      <td>NaN</td>\n",
       "    </tr>\n",
       "    <tr>\n",
       "      <th>18091</th>\n",
       "      <td>3241</td>\n",
       "      <td>2019-09-06 17:30:05</td>\n",
       "      <td>NaN</td>\n",
       "    </tr>\n",
       "  </tbody>\n",
       "</table>\n",
       "<p>18092 rows × 3 columns</p>\n",
       "</div>"
      ],
      "text/plain": [
       "        key         Время замера  Температура\n",
       "0         1  2019-05-03 11:02:04       1571.0\n",
       "1         1  2019-05-03 11:07:18       1604.0\n",
       "2         1  2019-05-03 11:11:34       1618.0\n",
       "3         1  2019-05-03 11:18:04       1601.0\n",
       "4         1  2019-05-03 11:25:59       1606.0\n",
       "...     ...                  ...          ...\n",
       "18087  3241  2019-09-06 16:55:01          NaN\n",
       "18088  3241  2019-09-06 17:06:38          NaN\n",
       "18089  3241  2019-09-06 17:21:48          NaN\n",
       "18090  3241  2019-09-06 17:24:44          NaN\n",
       "18091  3241  2019-09-06 17:30:05          NaN\n",
       "\n",
       "[18092 rows x 3 columns]"
      ]
     },
     "execution_count": 52,
     "metadata": {},
     "output_type": "execute_result"
    }
   ],
   "source": [
    "# temperature measurement results\n",
    "try:\n",
    "    df_temp = pd.read_csv('datasets/13_data_temp_new.csv')\n",
    "except FileNotFoundError:\n",
    "    df_temp = pd.read_csv('ya/Итоговый проект/data_temp_new.csv')\n",
    "    \n",
    "df_temp"
   ]
  },
  {
   "cell_type": "code",
   "execution_count": 53,
   "id": "4e9f0a12",
   "metadata": {},
   "outputs": [
    {
     "data": {
      "text/html": [
       "<div>\n",
       "<style scoped>\n",
       "    .dataframe tbody tr th:only-of-type {\n",
       "        vertical-align: middle;\n",
       "    }\n",
       "\n",
       "    .dataframe tbody tr th {\n",
       "        vertical-align: top;\n",
       "    }\n",
       "\n",
       "    .dataframe thead th {\n",
       "        text-align: right;\n",
       "    }\n",
       "</style>\n",
       "<table border=\"1\" class=\"dataframe\">\n",
       "  <thead>\n",
       "    <tr style=\"text-align: right;\">\n",
       "      <th></th>\n",
       "      <th>Values</th>\n",
       "      <th>Data type</th>\n",
       "      <th>Unique values</th>\n",
       "      <th>Missing</th>\n",
       "      <th>Duplicates</th>\n",
       "    </tr>\n",
       "  </thead>\n",
       "  <tbody>\n",
       "    <tr>\n",
       "      <th>Время замера</th>\n",
       "      <td>[2019-05-03 11:02:04, 2019-05-03 11:07:18, 201...</td>\n",
       "      <td>object</td>\n",
       "      <td>18092</td>\n",
       "      <td>0</td>\n",
       "      <td>0</td>\n",
       "    </tr>\n",
       "    <tr>\n",
       "      <th>Температура</th>\n",
       "      <td>[1571.0, 1604.0, 1618.0, 1601.0, 1606.0, 1613....</td>\n",
       "      <td>float64</td>\n",
       "      <td>172</td>\n",
       "      <td>3427</td>\n",
       "      <td>0</td>\n",
       "    </tr>\n",
       "    <tr>\n",
       "      <th>key</th>\n",
       "      <td>[1, 2, 3, 4, 5, 6, 7, 8, 9, 10, 11, 12, 13, 14...</td>\n",
       "      <td>int64</td>\n",
       "      <td>3216</td>\n",
       "      <td>0</td>\n",
       "      <td>0</td>\n",
       "    </tr>\n",
       "  </tbody>\n",
       "</table>\n",
       "</div>"
      ],
      "text/plain": [
       "                                                         Values Data type  \\\n",
       "Время замера  [2019-05-03 11:02:04, 2019-05-03 11:07:18, 201...    object   \n",
       "Температура   [1571.0, 1604.0, 1618.0, 1601.0, 1606.0, 1613....   float64   \n",
       "key           [1, 2, 3, 4, 5, 6, 7, 8, 9, 10, 11, 12, 13, 14...     int64   \n",
       "\n",
       "             Unique values Missing Duplicates  \n",
       "Время замера         18092       0          0  \n",
       "Температура            172    3427          0  \n",
       "key                   3216       0          0  "
      ]
     },
     "execution_count": 53,
     "metadata": {},
     "output_type": "execute_result"
    }
   ],
   "source": [
    "# Description function\n",
    "def describe_colums(df):\n",
    "    \n",
    "    values = pd.DataFrame()\n",
    "    \n",
    "    for col in df.columns:\n",
    "        values[col] = [df_temp[col].unique(), df_temp[col].dtypes, \n",
    "                       df_temp[col].nunique(), df_temp[col].isnull().sum().sum(), \n",
    "                       df_temp.duplicated().sum()]\n",
    "        \n",
    "    return values.transpose().sort_values(by=1, ascending=False).rename(\n",
    "{0: 'Values', 1: 'Data type', 2: 'Unique values', 3: 'Missing', 4: 'Duplicates'}, axis=1)\n",
    "describe_colums(df_temp)"
   ]
  },
  {
   "cell_type": "markdown",
   "id": "8bc02a7a",
   "metadata": {},
   "source": [
    "It is necessary to bring the Measurement time to the desired date format."
   ]
  },
  {
   "cell_type": "code",
   "execution_count": 54,
   "id": "caa3a263",
   "metadata": {},
   "outputs": [
    {
     "data": {
      "text/html": [
       "<div>\n",
       "<style scoped>\n",
       "    .dataframe tbody tr th:only-of-type {\n",
       "        vertical-align: middle;\n",
       "    }\n",
       "\n",
       "    .dataframe tbody tr th {\n",
       "        vertical-align: top;\n",
       "    }\n",
       "\n",
       "    .dataframe thead tr th {\n",
       "        text-align: left;\n",
       "    }\n",
       "\n",
       "    .dataframe thead tr:last-of-type th {\n",
       "        text-align: right;\n",
       "    }\n",
       "</style>\n",
       "<table border=\"1\" class=\"dataframe\">\n",
       "  <thead>\n",
       "    <tr>\n",
       "      <th></th>\n",
       "      <th colspan=\"2\" halign=\"left\">Время замера</th>\n",
       "      <th colspan=\"2\" halign=\"left\">Температура</th>\n",
       "    </tr>\n",
       "    <tr>\n",
       "      <th></th>\n",
       "      <th>time_start</th>\n",
       "      <th>time_end</th>\n",
       "      <th>temp_start</th>\n",
       "      <th>temp_end</th>\n",
       "    </tr>\n",
       "    <tr>\n",
       "      <th>key</th>\n",
       "      <th></th>\n",
       "      <th></th>\n",
       "      <th></th>\n",
       "      <th></th>\n",
       "    </tr>\n",
       "  </thead>\n",
       "  <tbody>\n",
       "    <tr>\n",
       "      <th>1</th>\n",
       "      <td>2019-05-03 11:02:04</td>\n",
       "      <td>2019-05-03 11:30:38</td>\n",
       "      <td>1571.0</td>\n",
       "      <td>1613.0</td>\n",
       "    </tr>\n",
       "    <tr>\n",
       "      <th>2</th>\n",
       "      <td>2019-05-03 11:34:04</td>\n",
       "      <td>2019-05-03 11:55:09</td>\n",
       "      <td>1581.0</td>\n",
       "      <td>1602.0</td>\n",
       "    </tr>\n",
       "    <tr>\n",
       "      <th>3</th>\n",
       "      <td>2019-05-03 12:06:44</td>\n",
       "      <td>2019-05-03 12:35:57</td>\n",
       "      <td>1596.0</td>\n",
       "      <td>1599.0</td>\n",
       "    </tr>\n",
       "    <tr>\n",
       "      <th>4</th>\n",
       "      <td>2019-05-03 12:39:27</td>\n",
       "      <td>2019-05-03 12:59:47</td>\n",
       "      <td>1601.0</td>\n",
       "      <td>1625.0</td>\n",
       "    </tr>\n",
       "    <tr>\n",
       "      <th>5</th>\n",
       "      <td>2019-05-03 13:11:03</td>\n",
       "      <td>2019-05-03 13:36:39</td>\n",
       "      <td>1576.0</td>\n",
       "      <td>1602.0</td>\n",
       "    </tr>\n",
       "    <tr>\n",
       "      <th>...</th>\n",
       "      <td>...</td>\n",
       "      <td>...</td>\n",
       "      <td>...</td>\n",
       "      <td>...</td>\n",
       "    </tr>\n",
       "    <tr>\n",
       "      <th>3237</th>\n",
       "      <td>2019-09-06 11:31:15</td>\n",
       "      <td>2019-09-06 11:55:45</td>\n",
       "      <td>1569.0</td>\n",
       "      <td>NaN</td>\n",
       "    </tr>\n",
       "    <tr>\n",
       "      <th>3238</th>\n",
       "      <td>2019-09-06 12:16:15</td>\n",
       "      <td>2019-09-06 12:34:37</td>\n",
       "      <td>1584.0</td>\n",
       "      <td>NaN</td>\n",
       "    </tr>\n",
       "    <tr>\n",
       "      <th>3239</th>\n",
       "      <td>2019-09-06 14:16:50</td>\n",
       "      <td>2019-09-06 15:09:55</td>\n",
       "      <td>1598.0</td>\n",
       "      <td>NaN</td>\n",
       "    </tr>\n",
       "    <tr>\n",
       "      <th>3240</th>\n",
       "      <td>2019-09-06 15:25:21</td>\n",
       "      <td>2019-09-06 16:35:26</td>\n",
       "      <td>1617.0</td>\n",
       "      <td>NaN</td>\n",
       "    </tr>\n",
       "    <tr>\n",
       "      <th>3241</th>\n",
       "      <td>2019-09-06 16:48:55</td>\n",
       "      <td>2019-09-06 17:30:05</td>\n",
       "      <td>1586.0</td>\n",
       "      <td>NaN</td>\n",
       "    </tr>\n",
       "  </tbody>\n",
       "</table>\n",
       "<p>3216 rows × 4 columns</p>\n",
       "</div>"
      ],
      "text/plain": [
       "             Время замера                      Температура         \n",
       "               time_start             time_end  temp_start temp_end\n",
       "key                                                                \n",
       "1     2019-05-03 11:02:04  2019-05-03 11:30:38      1571.0   1613.0\n",
       "2     2019-05-03 11:34:04  2019-05-03 11:55:09      1581.0   1602.0\n",
       "3     2019-05-03 12:06:44  2019-05-03 12:35:57      1596.0   1599.0\n",
       "4     2019-05-03 12:39:27  2019-05-03 12:59:47      1601.0   1625.0\n",
       "5     2019-05-03 13:11:03  2019-05-03 13:36:39      1576.0   1602.0\n",
       "...                   ...                  ...         ...      ...\n",
       "3237  2019-09-06 11:31:15  2019-09-06 11:55:45      1569.0      NaN\n",
       "3238  2019-09-06 12:16:15  2019-09-06 12:34:37      1584.0      NaN\n",
       "3239  2019-09-06 14:16:50  2019-09-06 15:09:55      1598.0      NaN\n",
       "3240  2019-09-06 15:25:21  2019-09-06 16:35:26      1617.0      NaN\n",
       "3241  2019-09-06 16:48:55  2019-09-06 17:30:05      1586.0      NaN\n",
       "\n",
       "[3216 rows x 4 columns]"
      ]
     },
     "execution_count": 54,
     "metadata": {},
     "output_type": "execute_result"
    }
   ],
   "source": [
    "result = df_temp.groupby('key').agg({\n",
    "    'Время замера': [('time_start', 'min'), ('time_end', 'max')],\n",
    "    'Температура': [('temp_start', lambda x: x.iloc[0]), ('temp_end', lambda x: x.iloc[-1])]\n",
    "})\n",
    "result"
   ]
  },
  {
   "cell_type": "code",
   "execution_count": 55,
   "id": "0e65c2e0",
   "metadata": {},
   "outputs": [
    {
     "data": {
      "text/html": [
       "<div>\n",
       "<style scoped>\n",
       "    .dataframe tbody tr th:only-of-type {\n",
       "        vertical-align: middle;\n",
       "    }\n",
       "\n",
       "    .dataframe tbody tr th {\n",
       "        vertical-align: top;\n",
       "    }\n",
       "\n",
       "    .dataframe thead tr th {\n",
       "        text-align: left;\n",
       "    }\n",
       "</style>\n",
       "<table border=\"1\" class=\"dataframe\">\n",
       "  <thead>\n",
       "    <tr>\n",
       "      <th></th>\n",
       "      <th colspan=\"2\" halign=\"left\">Температура</th>\n",
       "    </tr>\n",
       "    <tr>\n",
       "      <th></th>\n",
       "      <th>temp_start</th>\n",
       "      <th>temp_end</th>\n",
       "    </tr>\n",
       "  </thead>\n",
       "  <tbody>\n",
       "    <tr>\n",
       "      <th>count</th>\n",
       "      <td>3216.000000</td>\n",
       "      <td>2477.000000</td>\n",
       "    </tr>\n",
       "    <tr>\n",
       "      <th>mean</th>\n",
       "      <td>1588.592040</td>\n",
       "      <td>1595.334275</td>\n",
       "    </tr>\n",
       "    <tr>\n",
       "      <th>std</th>\n",
       "      <td>29.137454</td>\n",
       "      <td>16.019339</td>\n",
       "    </tr>\n",
       "    <tr>\n",
       "      <th>min</th>\n",
       "      <td>1191.000000</td>\n",
       "      <td>1541.000000</td>\n",
       "    </tr>\n",
       "    <tr>\n",
       "      <th>25%</th>\n",
       "      <td>1572.000000</td>\n",
       "      <td>1587.000000</td>\n",
       "    </tr>\n",
       "    <tr>\n",
       "      <th>50%</th>\n",
       "      <td>1588.000000</td>\n",
       "      <td>1593.000000</td>\n",
       "    </tr>\n",
       "    <tr>\n",
       "      <th>75%</th>\n",
       "      <td>1606.000000</td>\n",
       "      <td>1599.000000</td>\n",
       "    </tr>\n",
       "    <tr>\n",
       "      <th>max</th>\n",
       "      <td>1684.000000</td>\n",
       "      <td>1700.000000</td>\n",
       "    </tr>\n",
       "  </tbody>\n",
       "</table>\n",
       "</div>"
      ],
      "text/plain": [
       "       Температура             \n",
       "        temp_start     temp_end\n",
       "count  3216.000000  2477.000000\n",
       "mean   1588.592040  1595.334275\n",
       "std      29.137454    16.019339\n",
       "min    1191.000000  1541.000000\n",
       "25%    1572.000000  1587.000000\n",
       "50%    1588.000000  1593.000000\n",
       "75%    1606.000000  1599.000000\n",
       "max    1684.000000  1700.000000"
      ]
     },
     "execution_count": 55,
     "metadata": {},
     "output_type": "execute_result"
    }
   ],
   "source": [
    "result.describe()"
   ]
  },
  {
   "cell_type": "code",
   "execution_count": 56,
   "id": "689a3f63",
   "metadata": {},
   "outputs": [
    {
     "data": {
      "text/html": [
       "<div>\n",
       "<style scoped>\n",
       "    .dataframe tbody tr th:only-of-type {\n",
       "        vertical-align: middle;\n",
       "    }\n",
       "\n",
       "    .dataframe tbody tr th {\n",
       "        vertical-align: top;\n",
       "    }\n",
       "\n",
       "    .dataframe thead th {\n",
       "        text-align: right;\n",
       "    }\n",
       "</style>\n",
       "<table border=\"1\" class=\"dataframe\">\n",
       "  <thead>\n",
       "    <tr style=\"text-align: right;\">\n",
       "      <th></th>\n",
       "      <th>temp_start</th>\n",
       "      <th>temp_end</th>\n",
       "    </tr>\n",
       "    <tr>\n",
       "      <th>key</th>\n",
       "      <th></th>\n",
       "      <th></th>\n",
       "    </tr>\n",
       "  </thead>\n",
       "  <tbody>\n",
       "    <tr>\n",
       "      <th>1</th>\n",
       "      <td>1571.0</td>\n",
       "      <td>1613.0</td>\n",
       "    </tr>\n",
       "    <tr>\n",
       "      <th>2</th>\n",
       "      <td>1581.0</td>\n",
       "      <td>1602.0</td>\n",
       "    </tr>\n",
       "    <tr>\n",
       "      <th>3</th>\n",
       "      <td>1596.0</td>\n",
       "      <td>1599.0</td>\n",
       "    </tr>\n",
       "    <tr>\n",
       "      <th>4</th>\n",
       "      <td>1601.0</td>\n",
       "      <td>1625.0</td>\n",
       "    </tr>\n",
       "    <tr>\n",
       "      <th>5</th>\n",
       "      <td>1576.0</td>\n",
       "      <td>1602.0</td>\n",
       "    </tr>\n",
       "    <tr>\n",
       "      <th>...</th>\n",
       "      <td>...</td>\n",
       "      <td>...</td>\n",
       "    </tr>\n",
       "    <tr>\n",
       "      <th>3237</th>\n",
       "      <td>1569.0</td>\n",
       "      <td>NaN</td>\n",
       "    </tr>\n",
       "    <tr>\n",
       "      <th>3238</th>\n",
       "      <td>1584.0</td>\n",
       "      <td>NaN</td>\n",
       "    </tr>\n",
       "    <tr>\n",
       "      <th>3239</th>\n",
       "      <td>1598.0</td>\n",
       "      <td>NaN</td>\n",
       "    </tr>\n",
       "    <tr>\n",
       "      <th>3240</th>\n",
       "      <td>1617.0</td>\n",
       "      <td>NaN</td>\n",
       "    </tr>\n",
       "    <tr>\n",
       "      <th>3241</th>\n",
       "      <td>1586.0</td>\n",
       "      <td>NaN</td>\n",
       "    </tr>\n",
       "  </tbody>\n",
       "</table>\n",
       "<p>3216 rows × 2 columns</p>\n",
       "</div>"
      ],
      "text/plain": [
       "      temp_start  temp_end\n",
       "key                       \n",
       "1         1571.0    1613.0\n",
       "2         1581.0    1602.0\n",
       "3         1596.0    1599.0\n",
       "4         1601.0    1625.0\n",
       "5         1576.0    1602.0\n",
       "...          ...       ...\n",
       "3237      1569.0       NaN\n",
       "3238      1584.0       NaN\n",
       "3239      1598.0       NaN\n",
       "3240      1617.0       NaN\n",
       "3241      1586.0       NaN\n",
       "\n",
       "[3216 rows x 2 columns]"
      ]
     },
     "execution_count": 56,
     "metadata": {},
     "output_type": "execute_result"
    }
   ],
   "source": [
    "fin_temp = result.loc[:, [('Температура', 'temp_start'), ('Температура', 'temp_end')]]\n",
    "fin_temp.columns = fin_temp.columns.droplevel()\n",
    "fin_temp"
   ]
  },
  {
   "cell_type": "markdown",
   "id": "b2707ee6",
   "metadata": {},
   "source": [
    "Outliers in the data should be removed as they are targets"
   ]
  },
  {
   "cell_type": "code",
   "execution_count": 57,
   "id": "4aa21a13",
   "metadata": {},
   "outputs": [
    {
     "data": {
      "text/html": [
       "<div>\n",
       "<style scoped>\n",
       "    .dataframe tbody tr th:only-of-type {\n",
       "        vertical-align: middle;\n",
       "    }\n",
       "\n",
       "    .dataframe tbody tr th {\n",
       "        vertical-align: top;\n",
       "    }\n",
       "\n",
       "    .dataframe thead th {\n",
       "        text-align: right;\n",
       "    }\n",
       "</style>\n",
       "<table border=\"1\" class=\"dataframe\">\n",
       "  <thead>\n",
       "    <tr style=\"text-align: right;\">\n",
       "      <th></th>\n",
       "      <th>temp_start</th>\n",
       "      <th>temp_end</th>\n",
       "    </tr>\n",
       "    <tr>\n",
       "      <th>key</th>\n",
       "      <th></th>\n",
       "      <th></th>\n",
       "    </tr>\n",
       "  </thead>\n",
       "  <tbody>\n",
       "    <tr>\n",
       "      <th>1</th>\n",
       "      <td>1571.0</td>\n",
       "      <td>1613.0</td>\n",
       "    </tr>\n",
       "    <tr>\n",
       "      <th>2</th>\n",
       "      <td>1581.0</td>\n",
       "      <td>1602.0</td>\n",
       "    </tr>\n",
       "    <tr>\n",
       "      <th>3</th>\n",
       "      <td>1596.0</td>\n",
       "      <td>1599.0</td>\n",
       "    </tr>\n",
       "    <tr>\n",
       "      <th>4</th>\n",
       "      <td>1601.0</td>\n",
       "      <td>1625.0</td>\n",
       "    </tr>\n",
       "    <tr>\n",
       "      <th>5</th>\n",
       "      <td>1576.0</td>\n",
       "      <td>1602.0</td>\n",
       "    </tr>\n",
       "    <tr>\n",
       "      <th>...</th>\n",
       "      <td>...</td>\n",
       "      <td>...</td>\n",
       "    </tr>\n",
       "    <tr>\n",
       "      <th>2495</th>\n",
       "      <td>1570.0</td>\n",
       "      <td>1591.0</td>\n",
       "    </tr>\n",
       "    <tr>\n",
       "      <th>2496</th>\n",
       "      <td>1554.0</td>\n",
       "      <td>1591.0</td>\n",
       "    </tr>\n",
       "    <tr>\n",
       "      <th>2497</th>\n",
       "      <td>1571.0</td>\n",
       "      <td>1589.0</td>\n",
       "    </tr>\n",
       "    <tr>\n",
       "      <th>2498</th>\n",
       "      <td>1591.0</td>\n",
       "      <td>1594.0</td>\n",
       "    </tr>\n",
       "    <tr>\n",
       "      <th>2499</th>\n",
       "      <td>1569.0</td>\n",
       "      <td>1603.0</td>\n",
       "    </tr>\n",
       "  </tbody>\n",
       "</table>\n",
       "<p>2477 rows × 2 columns</p>\n",
       "</div>"
      ],
      "text/plain": [
       "      temp_start  temp_end\n",
       "key                       \n",
       "1         1571.0    1613.0\n",
       "2         1581.0    1602.0\n",
       "3         1596.0    1599.0\n",
       "4         1601.0    1625.0\n",
       "5         1576.0    1602.0\n",
       "...          ...       ...\n",
       "2495      1570.0    1591.0\n",
       "2496      1554.0    1591.0\n",
       "2497      1571.0    1589.0\n",
       "2498      1591.0    1594.0\n",
       "2499      1569.0    1603.0\n",
       "\n",
       "[2477 rows x 2 columns]"
      ]
     },
     "execution_count": 57,
     "metadata": {},
     "output_type": "execute_result"
    }
   ],
   "source": [
    "fin_temp = fin_temp.dropna()\n",
    "fin_temp "
   ]
  },
  {
   "cell_type": "code",
   "execution_count": 58,
   "id": "ebeea388",
   "metadata": {},
   "outputs": [
    {
     "data": {
      "text/html": [
       "<div>\n",
       "<style scoped>\n",
       "    .dataframe tbody tr th:only-of-type {\n",
       "        vertical-align: middle;\n",
       "    }\n",
       "\n",
       "    .dataframe tbody tr th {\n",
       "        vertical-align: top;\n",
       "    }\n",
       "\n",
       "    .dataframe thead th {\n",
       "        text-align: right;\n",
       "    }\n",
       "</style>\n",
       "<table border=\"1\" class=\"dataframe\">\n",
       "  <thead>\n",
       "    <tr style=\"text-align: right;\">\n",
       "      <th></th>\n",
       "      <th>temp_start</th>\n",
       "      <th>temp_end</th>\n",
       "    </tr>\n",
       "  </thead>\n",
       "  <tbody>\n",
       "    <tr>\n",
       "      <th>count</th>\n",
       "      <td>2477.000000</td>\n",
       "      <td>2477.000000</td>\n",
       "    </tr>\n",
       "    <tr>\n",
       "      <th>mean</th>\n",
       "      <td>1588.405733</td>\n",
       "      <td>1595.334275</td>\n",
       "    </tr>\n",
       "    <tr>\n",
       "      <th>std</th>\n",
       "      <td>29.232904</td>\n",
       "      <td>16.019339</td>\n",
       "    </tr>\n",
       "    <tr>\n",
       "      <th>min</th>\n",
       "      <td>1191.000000</td>\n",
       "      <td>1541.000000</td>\n",
       "    </tr>\n",
       "    <tr>\n",
       "      <th>25%</th>\n",
       "      <td>1572.000000</td>\n",
       "      <td>1587.000000</td>\n",
       "    </tr>\n",
       "    <tr>\n",
       "      <th>50%</th>\n",
       "      <td>1588.000000</td>\n",
       "      <td>1593.000000</td>\n",
       "    </tr>\n",
       "    <tr>\n",
       "      <th>75%</th>\n",
       "      <td>1605.000000</td>\n",
       "      <td>1599.000000</td>\n",
       "    </tr>\n",
       "    <tr>\n",
       "      <th>max</th>\n",
       "      <td>1679.000000</td>\n",
       "      <td>1700.000000</td>\n",
       "    </tr>\n",
       "  </tbody>\n",
       "</table>\n",
       "</div>"
      ],
      "text/plain": [
       "        temp_start     temp_end\n",
       "count  2477.000000  2477.000000\n",
       "mean   1588.405733  1595.334275\n",
       "std      29.232904    16.019339\n",
       "min    1191.000000  1541.000000\n",
       "25%    1572.000000  1587.000000\n",
       "50%    1588.000000  1593.000000\n",
       "75%    1605.000000  1599.000000\n",
       "max    1679.000000  1700.000000"
      ]
     },
     "execution_count": 58,
     "metadata": {},
     "output_type": "execute_result"
    }
   ],
   "source": [
    "fin_temp.describe()"
   ]
  },
  {
   "cell_type": "markdown",
   "id": "82b75f2f",
   "metadata": {},
   "source": [
    "The average value is close to the 50% percentile of the dataset. The data is normally distributed. But still, you should look at the visualization."
   ]
  },
  {
   "cell_type": "code",
   "execution_count": 59,
   "id": "11abe394",
   "metadata": {},
   "outputs": [
    {
     "data": {
      "image/png": "[encoded data removed]",
      "text/plain": [
       "<Figure size 1152x720 with 1 Axes>"
      ]
     },
     "metadata": {
      "needs_background": "light"
     },
     "output_type": "display_data"
    }
   ],
   "source": [
    "import seaborn as sns\n",
    "import matplotlib.pyplot as plt\n",
    "\n",
    "plt.figure(figsize=(16, 10))\n",
    "\n",
    "sns.kdeplot(data=fin_temp['temp_start'], label='temp_start')\n",
    "sns.kdeplot(data=fin_temp['temp_end'], label='temp_end')\n",
    "\n",
    "plt.xlabel('Temperature')\n",
    "plt.ylabel('Density')\n",
    "plt.title('Temperature distribution')\n",
    "\n",
    "plt.legend()\n",
    "plt.show()\n"
   ]
  },
  {
   "cell_type": "markdown",
   "id": "e85c5b63",
   "metadata": {},
   "source": [
    "Temperatures below 1300 will clearly be an anomaly. Let's get rid of these values."
   ]
  },
  {
   "cell_type": "code",
   "execution_count": 60,
   "id": "e2e80a96",
   "metadata": {},
   "outputs": [],
   "source": [
    "fin_temp = fin_temp.drop(fin_temp[fin_temp['temp_start'] < 1400].index)\n",
    "fin_temp = fin_temp.drop(fin_temp[fin_temp['temp_end'] < 1400].index)"
   ]
  },
  {
   "cell_type": "code",
   "execution_count": 61,
   "id": "6a399976",
   "metadata": {},
   "outputs": [
    {
     "data": {
      "image/png": "[encoded data removed]",
      "text/plain": [
       "<Figure size 1152x720 with 1 Axes>"
      ]
     },
     "metadata": {
      "needs_background": "light"
     },
     "output_type": "display_data"
    }
   ],
   "source": [
    "plt.figure(figsize=(16,10))\n",
    "sns.boxplot(data=fin_temp[['temp_start', 'temp_end']])\n",
    "\n",
    "plt.xlabel('Temperature')\n",
    "plt.ylabel('Value')\n",
    "plt.title('Temperature distribution')\n",
    "\n",
    "plt.show()"
   ]
  },
  {
   "cell_type": "code",
   "execution_count": 62,
   "id": "31cb1329",
   "metadata": {},
   "outputs": [
    {
     "data": {
      "image/png": "[encoded data removed]",
      "text/plain": [
       "<Figure size 1224x720 with 1 Axes>"
      ]
     },
     "metadata": {
      "needs_background": "light"
     },
     "output_type": "display_data"
    }
   ],
   "source": [
    "fig, ax = plt.subplots(figsize=(17, 10))\n",
    "ax.set_ylim(1500, 1700)\n",
    "# column settings\n",
    "width = 0.9\n",
    "alpha = 0.5\n",
    "\n",
    "# draw columns\n",
    "ax.bar(fin_temp.index, fin_temp['temp_start'], width=width, color='yellow', alpha=alpha, label='temp_start')\n",
    "ax.bar(fin_temp.index + width, fin_temp['temp_end'], width=width, color='green', alpha=alpha, label='temp_end')\n",
    "\n",
    "# add average lines\n",
    "mean_temp_start = fin_temp['temp_start'].mean()\n",
    "mean_temp_end = fin_temp['temp_end'].mean()\n",
    "ax.axhline(mean_temp_start, color='red', linestyle='--', label=f'mean_temp_start={mean_temp_start:.2f}')\n",
    "ax.axhline(mean_temp_end, color='blue', linestyle='--', label=f'mean_temp_end={mean_temp_end:.2f}')\n",
    "\n",
    "# add axis labels and legend\n",
    "ax.set_xlabel('key')\n",
    "ax.set_ylabel('Temperature')\n",
    "ax.set_title('Temperature at start and end of process')\n",
    "ax.legend()\n",
    "\n",
    "# remove chart frame\n",
    "for spine in ax.spines.values():\n",
    "    spine.set_visible(False)\n",
    "\n",
    "plt.show()"
   ]
  },
  {
   "cell_type": "markdown",
   "id": "57015fed",
   "metadata": {},
   "source": [
    "The graph above reflects that our operating data is a reflection of real conditions, the averages show the optimal values, and the spreads are relative to their real picture of what is happening. At this stage, we will try to leave it as it is."
   ]
  },
  {
   "cell_type": "markdown",
   "id": "c3d5a1c6",
   "metadata": {},
   "source": [
    "### Data aggregation"
   ]
  },
  {
   "cell_type": "code",
   "execution_count": 63,
   "id": "10af6ea0",
   "metadata": {},
   "outputs": [
    {
     "data": {
      "text/html": [
       "<div>\n",
       "<style scoped>\n",
       "    .dataframe tbody tr th:only-of-type {\n",
       "        vertical-align: middle;\n",
       "    }\n",
       "\n",
       "    .dataframe tbody tr th {\n",
       "        vertical-align: top;\n",
       "    }\n",
       "\n",
       "    .dataframe thead th {\n",
       "        text-align: right;\n",
       "    }\n",
       "</style>\n",
       "<table border=\"1\" class=\"dataframe\">\n",
       "  <thead>\n",
       "    <tr style=\"text-align: right;\">\n",
       "      <th></th>\n",
       "      <th>key</th>\n",
       "      <th>total_power</th>\n",
       "      <th>bulk_3</th>\n",
       "      <th>bulk_4</th>\n",
       "      <th>bulk_12</th>\n",
       "      <th>bulk_14</th>\n",
       "      <th>bulk_15</th>\n",
       "      <th>bulk_others</th>\n",
       "      <th>wire_1</th>\n",
       "      <th>wire_2</th>\n",
       "      <th>wire_others</th>\n",
       "      <th>gas</th>\n",
       "      <th>temp_start</th>\n",
       "      <th>temp_end</th>\n",
       "    </tr>\n",
       "  </thead>\n",
       "  <tbody>\n",
       "    <tr>\n",
       "      <th>0</th>\n",
       "      <td>1</td>\n",
       "      <td>770.282114</td>\n",
       "      <td>0</td>\n",
       "      <td>1</td>\n",
       "      <td>1</td>\n",
       "      <td>1</td>\n",
       "      <td>1</td>\n",
       "      <td>0</td>\n",
       "      <td>60.059998</td>\n",
       "      <td>0.00000</td>\n",
       "      <td>0.0</td>\n",
       "      <td>29.749986</td>\n",
       "      <td>1571.0</td>\n",
       "      <td>1613.0</td>\n",
       "    </tr>\n",
       "    <tr>\n",
       "      <th>1</th>\n",
       "      <td>2</td>\n",
       "      <td>481.760005</td>\n",
       "      <td>0</td>\n",
       "      <td>1</td>\n",
       "      <td>1</td>\n",
       "      <td>1</td>\n",
       "      <td>1</td>\n",
       "      <td>0</td>\n",
       "      <td>96.052315</td>\n",
       "      <td>0.00000</td>\n",
       "      <td>0.0</td>\n",
       "      <td>12.555561</td>\n",
       "      <td>1581.0</td>\n",
       "      <td>1602.0</td>\n",
       "    </tr>\n",
       "    <tr>\n",
       "      <th>2</th>\n",
       "      <td>3</td>\n",
       "      <td>722.837668</td>\n",
       "      <td>0</td>\n",
       "      <td>1</td>\n",
       "      <td>1</td>\n",
       "      <td>1</td>\n",
       "      <td>1</td>\n",
       "      <td>0</td>\n",
       "      <td>91.160157</td>\n",
       "      <td>0.00000</td>\n",
       "      <td>0.0</td>\n",
       "      <td>28.554793</td>\n",
       "      <td>1596.0</td>\n",
       "      <td>1599.0</td>\n",
       "    </tr>\n",
       "    <tr>\n",
       "      <th>3</th>\n",
       "      <td>4</td>\n",
       "      <td>683.455597</td>\n",
       "      <td>0</td>\n",
       "      <td>1</td>\n",
       "      <td>1</td>\n",
       "      <td>1</td>\n",
       "      <td>1</td>\n",
       "      <td>0</td>\n",
       "      <td>89.063515</td>\n",
       "      <td>0.00000</td>\n",
       "      <td>0.0</td>\n",
       "      <td>18.841219</td>\n",
       "      <td>1601.0</td>\n",
       "      <td>1625.0</td>\n",
       "    </tr>\n",
       "    <tr>\n",
       "      <th>4</th>\n",
       "      <td>5</td>\n",
       "      <td>512.169934</td>\n",
       "      <td>0</td>\n",
       "      <td>1</td>\n",
       "      <td>1</td>\n",
       "      <td>1</td>\n",
       "      <td>1</td>\n",
       "      <td>0</td>\n",
       "      <td>89.238236</td>\n",
       "      <td>9.11456</td>\n",
       "      <td>0.0</td>\n",
       "      <td>5.413692</td>\n",
       "      <td>1576.0</td>\n",
       "      <td>1602.0</td>\n",
       "    </tr>\n",
       "    <tr>\n",
       "      <th>...</th>\n",
       "      <td>...</td>\n",
       "      <td>...</td>\n",
       "      <td>...</td>\n",
       "      <td>...</td>\n",
       "      <td>...</td>\n",
       "      <td>...</td>\n",
       "      <td>...</td>\n",
       "      <td>...</td>\n",
       "      <td>...</td>\n",
       "      <td>...</td>\n",
       "      <td>...</td>\n",
       "      <td>...</td>\n",
       "      <td>...</td>\n",
       "      <td>...</td>\n",
       "    </tr>\n",
       "    <tr>\n",
       "      <th>2319</th>\n",
       "      <td>2495</td>\n",
       "      <td>694.177326</td>\n",
       "      <td>1</td>\n",
       "      <td>0</td>\n",
       "      <td>1</td>\n",
       "      <td>1</td>\n",
       "      <td>1</td>\n",
       "      <td>1</td>\n",
       "      <td>89.150879</td>\n",
       "      <td>0.00000</td>\n",
       "      <td>0.0</td>\n",
       "      <td>7.125735</td>\n",
       "      <td>1570.0</td>\n",
       "      <td>1591.0</td>\n",
       "    </tr>\n",
       "    <tr>\n",
       "      <th>2320</th>\n",
       "      <td>2496</td>\n",
       "      <td>815.818538</td>\n",
       "      <td>0</td>\n",
       "      <td>1</td>\n",
       "      <td>1</td>\n",
       "      <td>1</td>\n",
       "      <td>1</td>\n",
       "      <td>1</td>\n",
       "      <td>114.179527</td>\n",
       "      <td>0.00000</td>\n",
       "      <td>0.0</td>\n",
       "      <td>9.412616</td>\n",
       "      <td>1554.0</td>\n",
       "      <td>1591.0</td>\n",
       "    </tr>\n",
       "    <tr>\n",
       "      <th>2321</th>\n",
       "      <td>2497</td>\n",
       "      <td>823.020520</td>\n",
       "      <td>0</td>\n",
       "      <td>1</td>\n",
       "      <td>1</td>\n",
       "      <td>1</td>\n",
       "      <td>1</td>\n",
       "      <td>0</td>\n",
       "      <td>94.086723</td>\n",
       "      <td>9.04800</td>\n",
       "      <td>0.0</td>\n",
       "      <td>6.271699</td>\n",
       "      <td>1571.0</td>\n",
       "      <td>1589.0</td>\n",
       "    </tr>\n",
       "    <tr>\n",
       "      <th>2322</th>\n",
       "      <td>2498</td>\n",
       "      <td>581.810739</td>\n",
       "      <td>1</td>\n",
       "      <td>0</td>\n",
       "      <td>1</td>\n",
       "      <td>1</td>\n",
       "      <td>1</td>\n",
       "      <td>1</td>\n",
       "      <td>118.110717</td>\n",
       "      <td>0.00000</td>\n",
       "      <td>0.0</td>\n",
       "      <td>14.953657</td>\n",
       "      <td>1591.0</td>\n",
       "      <td>1594.0</td>\n",
       "    </tr>\n",
       "    <tr>\n",
       "      <th>2323</th>\n",
       "      <td>2499</td>\n",
       "      <td>532.386183</td>\n",
       "      <td>1</td>\n",
       "      <td>0</td>\n",
       "      <td>1</td>\n",
       "      <td>1</td>\n",
       "      <td>1</td>\n",
       "      <td>0</td>\n",
       "      <td>110.160958</td>\n",
       "      <td>50.00528</td>\n",
       "      <td>0.0</td>\n",
       "      <td>11.336151</td>\n",
       "      <td>1569.0</td>\n",
       "      <td>1603.0</td>\n",
       "    </tr>\n",
       "  </tbody>\n",
       "</table>\n",
       "<p>2324 rows × 14 columns</p>\n",
       "</div>"
      ],
      "text/plain": [
       "       key  total_power  bulk_3  bulk_4  bulk_12  bulk_14  bulk_15  \\\n",
       "0        1   770.282114       0       1        1        1        1   \n",
       "1        2   481.760005       0       1        1        1        1   \n",
       "2        3   722.837668       0       1        1        1        1   \n",
       "3        4   683.455597       0       1        1        1        1   \n",
       "4        5   512.169934       0       1        1        1        1   \n",
       "...    ...          ...     ...     ...      ...      ...      ...   \n",
       "2319  2495   694.177326       1       0        1        1        1   \n",
       "2320  2496   815.818538       0       1        1        1        1   \n",
       "2321  2497   823.020520       0       1        1        1        1   \n",
       "2322  2498   581.810739       1       0        1        1        1   \n",
       "2323  2499   532.386183       1       0        1        1        1   \n",
       "\n",
       "      bulk_others      wire_1    wire_2  wire_others        gas  temp_start  \\\n",
       "0               0   60.059998   0.00000          0.0  29.749986      1571.0   \n",
       "1               0   96.052315   0.00000          0.0  12.555561      1581.0   \n",
       "2               0   91.160157   0.00000          0.0  28.554793      1596.0   \n",
       "3               0   89.063515   0.00000          0.0  18.841219      1601.0   \n",
       "4               0   89.238236   9.11456          0.0   5.413692      1576.0   \n",
       "...           ...         ...       ...          ...        ...         ...   \n",
       "2319            1   89.150879   0.00000          0.0   7.125735      1570.0   \n",
       "2320            1  114.179527   0.00000          0.0   9.412616      1554.0   \n",
       "2321            0   94.086723   9.04800          0.0   6.271699      1571.0   \n",
       "2322            1  118.110717   0.00000          0.0  14.953657      1591.0   \n",
       "2323            0  110.160958  50.00528          0.0  11.336151      1569.0   \n",
       "\n",
       "      temp_end  \n",
       "0       1613.0  \n",
       "1       1602.0  \n",
       "2       1599.0  \n",
       "3       1625.0  \n",
       "4       1602.0  \n",
       "...        ...  \n",
       "2319    1591.0  \n",
       "2320    1591.0  \n",
       "2321    1589.0  \n",
       "2322    1594.0  \n",
       "2323    1603.0  \n",
       "\n",
       "[2324 rows x 14 columns]"
      ]
     },
     "execution_count": 63,
     "metadata": {},
     "output_type": "execute_result"
    }
   ],
   "source": [
    "df = (fin_arc.merge(fin_bulk, how = 'inner', on = 'key')\n",
    "                 .merge(fin_wire, how = 'inner', on = 'key')\n",
    "                 .merge(fin_gas, how = 'inner', on = 'key')\n",
    "                 .merge(fin_temp, how = 'inner', on = 'key')\n",
    "       )\n",
    "df"
   ]
  },
  {
   "cell_type": "code",
   "execution_count": 64,
   "id": "bf0d4b4e",
   "metadata": {},
   "outputs": [
    {
     "data": {
      "text/html": [
       "<div>\n",
       "<style scoped>\n",
       "    .dataframe tbody tr th:only-of-type {\n",
       "        vertical-align: middle;\n",
       "    }\n",
       "\n",
       "    .dataframe tbody tr th {\n",
       "        vertical-align: top;\n",
       "    }\n",
       "\n",
       "    .dataframe thead th {\n",
       "        text-align: right;\n",
       "    }\n",
       "</style>\n",
       "<table border=\"1\" class=\"dataframe\">\n",
       "  <thead>\n",
       "    <tr style=\"text-align: right;\">\n",
       "      <th></th>\n",
       "      <th>Values</th>\n",
       "      <th>Data type</th>\n",
       "      <th>Unique values</th>\n",
       "      <th>Missing</th>\n",
       "      <th>Duplicates</th>\n",
       "    </tr>\n",
       "  </thead>\n",
       "  <tbody>\n",
       "    <tr>\n",
       "      <th>total_power</th>\n",
       "      <td>[770.2821138742119, 481.7600047978601, 722.837...</td>\n",
       "      <td>float64</td>\n",
       "      <td>2324</td>\n",
       "      <td>0</td>\n",
       "      <td>0</td>\n",
       "    </tr>\n",
       "    <tr>\n",
       "      <th>wire_1</th>\n",
       "      <td>[60.059998, 96.052315, 91.160157, 89.063515, 8...</td>\n",
       "      <td>float64</td>\n",
       "      <td>1809</td>\n",
       "      <td>0</td>\n",
       "      <td>0</td>\n",
       "    </tr>\n",
       "    <tr>\n",
       "      <th>wire_2</th>\n",
       "      <td>[0.0, 9.11456, 9.143681, 12.376, 52.416003, 37...</td>\n",
       "      <td>float64</td>\n",
       "      <td>563</td>\n",
       "      <td>0</td>\n",
       "      <td>0</td>\n",
       "    </tr>\n",
       "    <tr>\n",
       "      <th>wire_others</th>\n",
       "      <td>[0.0, 250.041794, 276.324066, 35.0532, 180.291...</td>\n",
       "      <td>float64</td>\n",
       "      <td>98</td>\n",
       "      <td>0</td>\n",
       "      <td>0</td>\n",
       "    </tr>\n",
       "    <tr>\n",
       "      <th>gas</th>\n",
       "      <td>[29.7499859302, 12.5555609779, 28.5547926192, ...</td>\n",
       "      <td>float64</td>\n",
       "      <td>2324</td>\n",
       "      <td>0</td>\n",
       "      <td>0</td>\n",
       "    </tr>\n",
       "    <tr>\n",
       "      <th>temp_start</th>\n",
       "      <td>[1571.0, 1581.0, 1596.0, 1601.0, 1576.0, 1543....</td>\n",
       "      <td>float64</td>\n",
       "      <td>133</td>\n",
       "      <td>0</td>\n",
       "      <td>0</td>\n",
       "    </tr>\n",
       "    <tr>\n",
       "      <th>temp_end</th>\n",
       "      <td>[1613.0, 1602.0, 1599.0, 1625.0, 1596.0, 1598....</td>\n",
       "      <td>float64</td>\n",
       "      <td>75</td>\n",
       "      <td>0</td>\n",
       "      <td>0</td>\n",
       "    </tr>\n",
       "    <tr>\n",
       "      <th>key</th>\n",
       "      <td>[1, 2, 3, 4, 5, 6, 7, 8, 9, 10, 11, 12, 13, 14...</td>\n",
       "      <td>int64</td>\n",
       "      <td>2324</td>\n",
       "      <td>0</td>\n",
       "      <td>0</td>\n",
       "    </tr>\n",
       "    <tr>\n",
       "      <th>bulk_3</th>\n",
       "      <td>[0, 1]</td>\n",
       "      <td>int64</td>\n",
       "      <td>2</td>\n",
       "      <td>0</td>\n",
       "      <td>0</td>\n",
       "    </tr>\n",
       "    <tr>\n",
       "      <th>bulk_4</th>\n",
       "      <td>[1, 0]</td>\n",
       "      <td>int64</td>\n",
       "      <td>2</td>\n",
       "      <td>0</td>\n",
       "      <td>0</td>\n",
       "    </tr>\n",
       "    <tr>\n",
       "      <th>bulk_12</th>\n",
       "      <td>[1, 0]</td>\n",
       "      <td>int64</td>\n",
       "      <td>2</td>\n",
       "      <td>0</td>\n",
       "      <td>0</td>\n",
       "    </tr>\n",
       "    <tr>\n",
       "      <th>bulk_14</th>\n",
       "      <td>[1, 0]</td>\n",
       "      <td>int64</td>\n",
       "      <td>2</td>\n",
       "      <td>0</td>\n",
       "      <td>0</td>\n",
       "    </tr>\n",
       "    <tr>\n",
       "      <th>bulk_15</th>\n",
       "      <td>[1, 0]</td>\n",
       "      <td>int64</td>\n",
       "      <td>2</td>\n",
       "      <td>0</td>\n",
       "      <td>0</td>\n",
       "    </tr>\n",
       "    <tr>\n",
       "      <th>bulk_others</th>\n",
       "      <td>[0, 1]</td>\n",
       "      <td>int64</td>\n",
       "      <td>2</td>\n",
       "      <td>0</td>\n",
       "      <td>0</td>\n",
       "    </tr>\n",
       "  </tbody>\n",
       "</table>\n",
       "</div>"
      ],
      "text/plain": [
       "                                                        Values Data type  \\\n",
       "total_power  [770.2821138742119, 481.7600047978601, 722.837...   float64   \n",
       "wire_1       [60.059998, 96.052315, 91.160157, 89.063515, 8...   float64   \n",
       "wire_2       [0.0, 9.11456, 9.143681, 12.376, 52.416003, 37...   float64   \n",
       "wire_others  [0.0, 250.041794, 276.324066, 35.0532, 180.291...   float64   \n",
       "gas          [29.7499859302, 12.5555609779, 28.5547926192, ...   float64   \n",
       "temp_start   [1571.0, 1581.0, 1596.0, 1601.0, 1576.0, 1543....   float64   \n",
       "temp_end     [1613.0, 1602.0, 1599.0, 1625.0, 1596.0, 1598....   float64   \n",
       "key          [1, 2, 3, 4, 5, 6, 7, 8, 9, 10, 11, 12, 13, 14...     int64   \n",
       "bulk_3                                                  [0, 1]     int64   \n",
       "bulk_4                                                  [1, 0]     int64   \n",
       "bulk_12                                                 [1, 0]     int64   \n",
       "bulk_14                                                 [1, 0]     int64   \n",
       "bulk_15                                                 [1, 0]     int64   \n",
       "bulk_others                                             [0, 1]     int64   \n",
       "\n",
       "            Unique values Missing Duplicates  \n",
       "total_power          2324       0          0  \n",
       "wire_1               1809       0          0  \n",
       "wire_2                563       0          0  \n",
       "wire_others            98       0          0  \n",
       "gas                  2324       0          0  \n",
       "temp_start            133       0          0  \n",
       "temp_end               75       0          0  \n",
       "key                  2324       0          0  \n",
       "bulk_3                  2       0          0  \n",
       "bulk_4                  2       0          0  \n",
       "bulk_12                 2       0          0  \n",
       "bulk_14                 2       0          0  \n",
       "bulk_15                 2       0          0  \n",
       "bulk_others             2       0          0  "
      ]
     },
     "execution_count": 64,
     "metadata": {},
     "output_type": "execute_result"
    }
   ],
   "source": [
    "# Description function\n",
    "def describe_colums(df):\n",
    "    \n",
    "    values = pd.DataFrame()\n",
    "    \n",
    "    for col in df.columns:\n",
    "        values[col] = [df[col].unique(), df[col].dtypes, df[col].nunique(), df[col].isnull().sum().sum(), \n",
    "                       df.duplicated().sum()]\n",
    "        \n",
    "    return values.transpose().sort_values(by=1, ascending=False).rename(\n",
    "        {0: 'Values', 1: 'Data type', 2: 'Unique values', 3: 'Missing', 4: 'Duplicates'}, axis=1)\n",
    "describe_colums(df)"
   ]
  },
  {
   "cell_type": "code",
   "execution_count": 65,
   "id": "b5e71f38",
   "metadata": {},
   "outputs": [],
   "source": [
    "#key can now be removed as the batch id itself does not affect the smelting process\n",
    "df = df.drop(\"key\", axis=1)"
   ]
  },
  {
   "cell_type": "markdown",
   "id": "2d0fccac",
   "metadata": {},
   "source": [
    "### Correlation"
   ]
  },
  {
   "cell_type": "code",
   "execution_count": 66,
   "id": "39cbb2b1",
   "metadata": {},
   "outputs": [
    {
     "data": {
      "text/plain": [
       "<AxesSubplot:>"
      ]
     },
     "execution_count": 66,
     "metadata": {},
     "output_type": "execute_result"
    },
    {
     "data": {
      "image/png": "[encoded data removed]",
      "text/plain": [
       "<Figure size 1224x1080 with 2 Axes>"
      ]
     },
     "metadata": {
      "needs_background": "light"
     },
     "output_type": "display_data"
    }
   ],
   "source": [
    "plt.rcParams['figure.figsize'] = (17.0, 15.0)\n",
    "sns.heatmap(df.corr(), cmap='Greens', annot=True, linewidths=3, linecolor='white')"
   ]
  },
  {
   "cell_type": "markdown",
   "id": "bfa843ec",
   "metadata": {},
   "source": [
    "In general, the dataset has good correlations with a moderate impact on the temp_end target. However, there is a strong relationship between bulk_12 and bulk 15, and a moderate relationship between bulk_12 and bulk_14 and bulk_14 and bulk_15. To do this, we will remove the bulk_12 column, since it has a stronger effect on temp_end."
   ]
  },
  {
   "cell_type": "code",
   "execution_count": 67,
   "id": "9cf85187",
   "metadata": {},
   "outputs": [],
   "source": [
    "#remove the bulk_12 column and clear df from indexes\n",
    "df = df.drop('bulk_12', axis=1)\n",
    "df = df.reset_index(drop=True)"
   ]
  },
  {
   "cell_type": "markdown",
   "id": "8368cf26",
   "metadata": {},
   "source": [
    "## Data Analysis"
   ]
  },
  {
   "cell_type": "markdown",
   "id": "6fb40e1b",
   "metadata": {},
   "source": [
    "### Preparing data for model training"
   ]
  },
  {
   "cell_type": "code",
   "execution_count": 68,
   "id": "7a6d0bf3",
   "metadata": {},
   "outputs": [],
   "source": [
    "#set the constants and divide the samples into training and test\n",
    "random_state = 240423\n",
    "cv = 5\n",
    "train, test = train_test_split(df, test_size = 0.25, random_state = random_state)"
   ]
  },
  {
   "cell_type": "code",
   "execution_count": 69,
   "id": "858e844d",
   "metadata": {},
   "outputs": [
    {
     "data": {
      "text/html": [
       "<div>\n",
       "<style scoped>\n",
       "    .dataframe tbody tr th:only-of-type {\n",
       "        vertical-align: middle;\n",
       "    }\n",
       "\n",
       "    .dataframe tbody tr th {\n",
       "        vertical-align: top;\n",
       "    }\n",
       "\n",
       "    .dataframe thead th {\n",
       "        text-align: right;\n",
       "    }\n",
       "</style>\n",
       "<table border=\"1\" class=\"dataframe\">\n",
       "  <thead>\n",
       "    <tr style=\"text-align: right;\">\n",
       "      <th></th>\n",
       "      <th>total_power</th>\n",
       "      <th>bulk_3</th>\n",
       "      <th>bulk_4</th>\n",
       "      <th>bulk_14</th>\n",
       "      <th>bulk_15</th>\n",
       "      <th>bulk_others</th>\n",
       "      <th>wire_1</th>\n",
       "      <th>wire_2</th>\n",
       "      <th>wire_others</th>\n",
       "      <th>gas</th>\n",
       "      <th>temp_start</th>\n",
       "      <th>temp_end</th>\n",
       "    </tr>\n",
       "  </thead>\n",
       "  <tbody>\n",
       "    <tr>\n",
       "      <th>376</th>\n",
       "      <td>612.548975</td>\n",
       "      <td>1</td>\n",
       "      <td>0</td>\n",
       "      <td>1</td>\n",
       "      <td>1</td>\n",
       "      <td>0</td>\n",
       "      <td>181.350006</td>\n",
       "      <td>0.000000</td>\n",
       "      <td>0.000000</td>\n",
       "      <td>14.244007</td>\n",
       "      <td>1598.0</td>\n",
       "      <td>1592.0</td>\n",
       "    </tr>\n",
       "    <tr>\n",
       "      <th>363</th>\n",
       "      <td>632.408291</td>\n",
       "      <td>0</td>\n",
       "      <td>0</td>\n",
       "      <td>1</td>\n",
       "      <td>0</td>\n",
       "      <td>0</td>\n",
       "      <td>129.261596</td>\n",
       "      <td>108.515679</td>\n",
       "      <td>279.783508</td>\n",
       "      <td>16.194449</td>\n",
       "      <td>1554.0</td>\n",
       "      <td>1589.0</td>\n",
       "    </tr>\n",
       "    <tr>\n",
       "      <th>444</th>\n",
       "      <td>545.075730</td>\n",
       "      <td>0</td>\n",
       "      <td>1</td>\n",
       "      <td>1</td>\n",
       "      <td>1</td>\n",
       "      <td>0</td>\n",
       "      <td>92.149200</td>\n",
       "      <td>0.000000</td>\n",
       "      <td>0.000000</td>\n",
       "      <td>7.093691</td>\n",
       "      <td>1621.0</td>\n",
       "      <td>1595.0</td>\n",
       "    </tr>\n",
       "    <tr>\n",
       "      <th>1790</th>\n",
       "      <td>700.813199</td>\n",
       "      <td>1</td>\n",
       "      <td>0</td>\n",
       "      <td>1</td>\n",
       "      <td>1</td>\n",
       "      <td>0</td>\n",
       "      <td>194.244949</td>\n",
       "      <td>0.000000</td>\n",
       "      <td>280.215942</td>\n",
       "      <td>17.335384</td>\n",
       "      <td>1583.0</td>\n",
       "      <td>1577.0</td>\n",
       "    </tr>\n",
       "    <tr>\n",
       "      <th>1553</th>\n",
       "      <td>823.876573</td>\n",
       "      <td>0</td>\n",
       "      <td>0</td>\n",
       "      <td>1</td>\n",
       "      <td>1</td>\n",
       "      <td>1</td>\n",
       "      <td>50.122799</td>\n",
       "      <td>155.293831</td>\n",
       "      <td>0.000000</td>\n",
       "      <td>11.595789</td>\n",
       "      <td>1562.0</td>\n",
       "      <td>1576.0</td>\n",
       "    </tr>\n",
       "    <tr>\n",
       "      <th>...</th>\n",
       "      <td>...</td>\n",
       "      <td>...</td>\n",
       "      <td>...</td>\n",
       "      <td>...</td>\n",
       "      <td>...</td>\n",
       "      <td>...</td>\n",
       "      <td>...</td>\n",
       "      <td>...</td>\n",
       "      <td>...</td>\n",
       "      <td>...</td>\n",
       "      <td>...</td>\n",
       "      <td>...</td>\n",
       "    </tr>\n",
       "    <tr>\n",
       "      <th>637</th>\n",
       "      <td>1089.400004</td>\n",
       "      <td>1</td>\n",
       "      <td>0</td>\n",
       "      <td>1</td>\n",
       "      <td>1</td>\n",
       "      <td>0</td>\n",
       "      <td>137.919601</td>\n",
       "      <td>0.000000</td>\n",
       "      <td>0.000000</td>\n",
       "      <td>22.911746</td>\n",
       "      <td>1629.0</td>\n",
       "      <td>1587.0</td>\n",
       "    </tr>\n",
       "    <tr>\n",
       "      <th>1682</th>\n",
       "      <td>1045.474337</td>\n",
       "      <td>0</td>\n",
       "      <td>1</td>\n",
       "      <td>1</td>\n",
       "      <td>1</td>\n",
       "      <td>0</td>\n",
       "      <td>147.607193</td>\n",
       "      <td>0.000000</td>\n",
       "      <td>0.000000</td>\n",
       "      <td>9.106938</td>\n",
       "      <td>1577.0</td>\n",
       "      <td>1605.0</td>\n",
       "    </tr>\n",
       "    <tr>\n",
       "      <th>1365</th>\n",
       "      <td>799.826396</td>\n",
       "      <td>0</td>\n",
       "      <td>1</td>\n",
       "      <td>1</td>\n",
       "      <td>0</td>\n",
       "      <td>1</td>\n",
       "      <td>155.095200</td>\n",
       "      <td>0.000000</td>\n",
       "      <td>0.000000</td>\n",
       "      <td>20.018412</td>\n",
       "      <td>1550.0</td>\n",
       "      <td>1585.0</td>\n",
       "    </tr>\n",
       "    <tr>\n",
       "      <th>1</th>\n",
       "      <td>481.760005</td>\n",
       "      <td>0</td>\n",
       "      <td>1</td>\n",
       "      <td>1</td>\n",
       "      <td>1</td>\n",
       "      <td>0</td>\n",
       "      <td>96.052315</td>\n",
       "      <td>0.000000</td>\n",
       "      <td>0.000000</td>\n",
       "      <td>12.555561</td>\n",
       "      <td>1581.0</td>\n",
       "      <td>1602.0</td>\n",
       "    </tr>\n",
       "    <tr>\n",
       "      <th>1884</th>\n",
       "      <td>1291.256056</td>\n",
       "      <td>0</td>\n",
       "      <td>1</td>\n",
       "      <td>1</td>\n",
       "      <td>1</td>\n",
       "      <td>1</td>\n",
       "      <td>121.168319</td>\n",
       "      <td>0.000000</td>\n",
       "      <td>0.000000</td>\n",
       "      <td>12.496255</td>\n",
       "      <td>1596.0</td>\n",
       "      <td>1596.0</td>\n",
       "    </tr>\n",
       "  </tbody>\n",
       "</table>\n",
       "<p>1743 rows × 12 columns</p>\n",
       "</div>"
      ],
      "text/plain": [
       "      total_power  bulk_3  bulk_4  bulk_14  bulk_15  bulk_others      wire_1  \\\n",
       "376    612.548975       1       0        1        1            0  181.350006   \n",
       "363    632.408291       0       0        1        0            0  129.261596   \n",
       "444    545.075730       0       1        1        1            0   92.149200   \n",
       "1790   700.813199       1       0        1        1            0  194.244949   \n",
       "1553   823.876573       0       0        1        1            1   50.122799   \n",
       "...           ...     ...     ...      ...      ...          ...         ...   \n",
       "637   1089.400004       1       0        1        1            0  137.919601   \n",
       "1682  1045.474337       0       1        1        1            0  147.607193   \n",
       "1365   799.826396       0       1        1        0            1  155.095200   \n",
       "1      481.760005       0       1        1        1            0   96.052315   \n",
       "1884  1291.256056       0       1        1        1            1  121.168319   \n",
       "\n",
       "          wire_2  wire_others        gas  temp_start  temp_end  \n",
       "376     0.000000     0.000000  14.244007      1598.0    1592.0  \n",
       "363   108.515679   279.783508  16.194449      1554.0    1589.0  \n",
       "444     0.000000     0.000000   7.093691      1621.0    1595.0  \n",
       "1790    0.000000   280.215942  17.335384      1583.0    1577.0  \n",
       "1553  155.293831     0.000000  11.595789      1562.0    1576.0  \n",
       "...          ...          ...        ...         ...       ...  \n",
       "637     0.000000     0.000000  22.911746      1629.0    1587.0  \n",
       "1682    0.000000     0.000000   9.106938      1577.0    1605.0  \n",
       "1365    0.000000     0.000000  20.018412      1550.0    1585.0  \n",
       "1       0.000000     0.000000  12.555561      1581.0    1602.0  \n",
       "1884    0.000000     0.000000  12.496255      1596.0    1596.0  \n",
       "\n",
       "[1743 rows x 12 columns]"
      ]
     },
     "execution_count": 69,
     "metadata": {},
     "output_type": "execute_result"
    }
   ],
   "source": [
    "train"
   ]
  },
  {
   "cell_type": "code",
   "execution_count": 70,
   "id": "f3e84e54",
   "metadata": {},
   "outputs": [],
   "source": [
    "#remove gas outlier from train\n",
    "train = train.drop(train[train['gas'] > 50].index)"
   ]
  },
  {
   "cell_type": "code",
   "execution_count": 71,
   "id": "68ea0470",
   "metadata": {},
   "outputs": [],
   "source": [
    "x_train = train.drop(['temp_end'], axis = 1)\n",
    "y_train = train['temp_end']\n",
    "x_test = test.drop(['temp_end'], axis = 1)\n",
    "y_test = test['temp_end']"
   ]
  },
  {
   "cell_type": "code",
   "execution_count": 72,
   "id": "38f8ff56",
   "metadata": {},
   "outputs": [
    {
     "data": {
      "text/plain": [
       "((1742, 11), (581, 11))"
      ]
     },
     "execution_count": 72,
     "metadata": {},
     "output_type": "execute_result"
    }
   ],
   "source": [
    "# shape check\n",
    "x_train.shape, x_test.shape\n"
   ]
  },
  {
   "cell_type": "markdown",
   "id": "4f6b718f",
   "metadata": {},
   "source": [
    "Data ready for modeling"
   ]
  },
  {
   "cell_type": "markdown",
   "id": "865b9726",
   "metadata": {},
   "source": [
    "### Model training"
   ]
  },
  {
   "cell_type": "markdown",
   "id": "37305f86",
   "metadata": {},
   "source": [
    "#### DecisionTreeRegressor"
   ]
  },
  {
   "cell_type": "code",
   "execution_count": 75,
   "id": "f285ecf8",
   "metadata": {},
   "outputs": [],
   "source": [
    "# Set the random state for the model\n",
    "random_state = 240423\n",
    "\n",
    "# Create the Decision Tree model\n",
    "model_dt = DecisionTreeRegressor(random_state=random_state)\n",
    "\n",
    "# Create a new pipeline with scaler and trained model\n",
    "pipeline_dt = Pipeline([\n",
    "    ('scaler', MinMaxScaler()),\n",
    "    ('model', model_dt)\n",
    "])\n",
    "\n",
    "# Set the grid of hyperparameters to enumerate\n",
    "param_grid_dt = {\n",
    "    'model__max_depth': [2, 4, 6, 8, 10, 20, 30],\n",
    "    'model__min_samples_split': [2, 4, 8, 16, 32, 64]\n",
    "}\n",
    "\n",
    "# Run hyperparameter enumeration with cross-validation and MAE estimation\n",
    "gs_dt_pl = GridSearchCV(\n",
    "    pipeline_dt,\n",
    "    param_grid=param_grid_dt,\n",
    "    scoring='neg_mean_absolute_error',\n",
    "    cv=cv,\n",
    "    n_jobs=-1\n",
    ")"
   ]
  },
  {
   "cell_type": "code",
   "execution_count": 76,
   "id": "b5734d89",
   "metadata": {},
   "outputs": [],
   "source": [
    "# Measure training time with GridSearchCV\n",
    "start_time = time.time()\n",
    "gs_dt_pl.fit(x_train, y_train)\n",
    "training_time_dt = time.time() - start_time"
   ]
  },
  {
   "cell_type": "code",
   "execution_count": 79,
   "id": "b337785d",
   "metadata": {},
   "outputs": [],
   "source": [
    "# Get the best model and its MAE on cross-validation\n",
    "best_tree_model = gs_dt_pl.best_estimator_\n",
    "best_tree_mae = -gs_dt_pl.best_score_"
   ]
  },
  {
   "cell_type": "code",
   "execution_count": 78,
   "id": "5b466ccb",
   "metadata": {
    "scrolled": true
   },
   "outputs": [
    {
     "name": "stdout",
     "output_type": "stream",
     "text": [
      "Best model: Pipeline(steps=[('scaler', MinMaxScaler()),\n",
      "                ('model',\n",
      "                 DecisionTreeRegressor(max_depth=6, min_samples_split=32,\n",
      "                                       random_state=240423))])\n",
      "MAE on CV: 7.23\n"
     ]
    }
   ],
   "source": [
    "print(f\"Best model: {best_tree_model}\")\n",
    "print(f\"MAE on CV: {best_tree_mae:.2f}\")"
   ]
  },
  {
   "cell_type": "markdown",
   "id": "43070b28",
   "metadata": {},
   "source": [
    "#### LinearRegression"
   ]
  },
  {
   "cell_type": "code",
   "execution_count": 83,
   "id": "4c8c346d",
   "metadata": {},
   "outputs": [
    {
     "name": "stdout",
     "output_type": "stream",
     "text": [
      "Best model: Pipeline(steps=[('scaler', MinMaxScaler()),\n",
      "                ('model', LinearRegression(normalize=True))])\n",
      "MAE on CV: 6.70\n"
     ]
    }
   ],
   "source": [
    "# Set the random state for the model\n",
    "random_state = 240423\n",
    "\n",
    "# Create the Linear Regression model\n",
    "model_lr = LinearRegression()\n",
    "\n",
    "# Create a new pipeline with scaler and trained model\n",
    "pipeline_lr = Pipeline([\n",
    "    ('scaler', MinMaxScaler()),\n",
    "    ('model', model_lr)\n",
    "])\n",
    "\n",
    "# Set the grid of hyperparameters to enumerate\n",
    "param_grid_lr = {\n",
    "    'model__normalize': [True, False],\n",
    "    'model__fit_intercept': [True, False]\n",
    "}\n",
    "\n",
    "# Run hyperparameter enumeration with cross-validation and MAE estimation\n",
    "gs_lr_pl = GridSearchCV(\n",
    "    pipeline_lr,\n",
    "    param_grid=param_grid_lr,\n",
    "    scoring='neg_mean_absolute_error',\n",
    "    cv=cv,\n",
    "    n_jobs=-1\n",
    ")\n",
    "\n",
    "# Measure training time with GridSearchCV\n",
    "start_time = time.time()\n",
    "gs_lr_pl.fit(x_train, y_train)\n",
    "training_time_lr = time.time() - start_time\n",
    "\n",
    "# Get the best model and its MAE on cross-validation\n",
    "best_lr_model = gs_lr_pl.best_estimator_\n",
    "best_lr_mae = -gs_lr_pl.best_score_\n",
    "\n",
    "print(f\"Best model: {best_lr_model}\")\n",
    "print(f\"MAE on CV: {best_lr_mae:.2f}\")\n"
   ]
  },
  {
   "cell_type": "markdown",
   "id": "e8651b3b",
   "metadata": {},
   "source": [
    "#### CatBoostRegressor"
   ]
  },
  {
   "cell_type": "code",
   "execution_count": 86,
   "id": "72d498c6",
   "metadata": {},
   "outputs": [],
   "source": [
    "# Set random_state for CatBoostRegressor\n",
    "model_cb = CatBoostRegressor(random_seed=42, verbose=True)\n",
    "\n",
    "# Create a new pipeline with transformer and trained model\n",
    "pipeline_cb = Pipeline([\n",
    "    ('scaler', MinMaxScaler()),\n",
    "    ('model', model_cb)\n",
    "])\n",
    "\n",
    "# Set the grid of hyperparameters to enumerate\n",
    "param_grid_cb = {\n",
    "    'model__depth': [2, 4, 6, 8, 10],\n",
    "    'model__learning_rate': [0.001, 0.01, 0.1, 1],\n",
    "    'model__iterations': [100, 500, 1000],\n",
    "}\n",
    "\n",
    "# Run hyperparameter enumeration with cross-validation and MAE estimation\n",
    "gs_cb_pl = GridSearchCV(\n",
    "    pipeline_cb,\n",
    "    param_grid=param_grid_cb,\n",
    "    scoring='neg_mean_absolute_error',\n",
    "    cv=cv,\n",
    "    n_jobs=-1\n",
    ")"
   ]
  },
  {
   "cell_type": "code",
   "execution_count": 87,
   "id": "5817eb46",
   "metadata": {},
   "outputs": [
    {
     "name": "stdout",
     "output_type": "stream",
     "text": [
      "0:\tlearn: 11.1856380\ttotal: 146ms\tremaining: 2m 25s\n",
      "10:\tlearn: 10.9417919\ttotal: 169ms\tremaining: 15.2s\n",
      "20:\tlearn: 10.7136573\ttotal: 189ms\tremaining: 8.82s\n",
      "30:\tlearn: 10.5069634\ttotal: 212ms\tremaining: 6.63s\n",
      "40:\tlearn: 10.3115320\ttotal: 234ms\tremaining: 5.47s\n",
      "50:\tlearn: 10.1387877\ttotal: 256ms\tremaining: 4.77s\n",
      "60:\tlearn: 9.9792706\ttotal: 278ms\tremaining: 4.28s\n",
      "70:\tlearn: 9.8392118\ttotal: 301ms\tremaining: 3.94s\n",
      "80:\tlearn: 9.7028480\ttotal: 325ms\tremaining: 3.68s\n",
      "90:\tlearn: 9.5742782\ttotal: 349ms\tremaining: 3.48s\n",
      "100:\tlearn: 9.4689764\ttotal: 373ms\tremaining: 3.32s\n",
      "110:\tlearn: 9.3651653\ttotal: 396ms\tremaining: 3.17s\n",
      "120:\tlearn: 9.2712905\ttotal: 420ms\tremaining: 3.05s\n",
      "130:\tlearn: 9.1873053\ttotal: 444ms\tremaining: 2.94s\n",
      "140:\tlearn: 9.1011392\ttotal: 466ms\tremaining: 2.84s\n",
      "150:\tlearn: 9.0237008\ttotal: 489ms\tremaining: 2.75s\n",
      "160:\tlearn: 8.9522958\ttotal: 512ms\tremaining: 2.67s\n",
      "170:\tlearn: 8.8821543\ttotal: 536ms\tremaining: 2.6s\n",
      "180:\tlearn: 8.8240280\ttotal: 561ms\tremaining: 2.54s\n",
      "190:\tlearn: 8.7682684\ttotal: 584ms\tremaining: 2.48s\n",
      "200:\tlearn: 8.7129222\ttotal: 606ms\tremaining: 2.41s\n",
      "210:\tlearn: 8.6627343\ttotal: 629ms\tremaining: 2.35s\n",
      "220:\tlearn: 8.6129696\ttotal: 653ms\tremaining: 2.3s\n",
      "230:\tlearn: 8.5691889\ttotal: 675ms\tremaining: 2.25s\n",
      "240:\tlearn: 8.5298573\ttotal: 698ms\tremaining: 2.2s\n",
      "250:\tlearn: 8.4897549\ttotal: 722ms\tremaining: 2.15s\n",
      "260:\tlearn: 8.4529960\ttotal: 744ms\tremaining: 2.1s\n",
      "270:\tlearn: 8.4178137\ttotal: 767ms\tremaining: 2.06s\n",
      "280:\tlearn: 8.3835687\ttotal: 789ms\tremaining: 2.02s\n",
      "290:\tlearn: 8.3502384\ttotal: 812ms\tremaining: 1.98s\n",
      "300:\tlearn: 8.3169636\ttotal: 834ms\tremaining: 1.94s\n",
      "310:\tlearn: 8.2866616\ttotal: 855ms\tremaining: 1.89s\n",
      "320:\tlearn: 8.2579905\ttotal: 878ms\tremaining: 1.86s\n",
      "330:\tlearn: 8.2313328\ttotal: 901ms\tremaining: 1.82s\n",
      "340:\tlearn: 8.2059557\ttotal: 924ms\tremaining: 1.79s\n",
      "350:\tlearn: 8.1823200\ttotal: 948ms\tremaining: 1.75s\n",
      "360:\tlearn: 8.1585618\ttotal: 971ms\tremaining: 1.72s\n",
      "370:\tlearn: 8.1347963\ttotal: 994ms\tremaining: 1.68s\n",
      "380:\tlearn: 8.1122947\ttotal: 1.02s\tremaining: 1.65s\n",
      "390:\tlearn: 8.0917231\ttotal: 1.04s\tremaining: 1.62s\n",
      "400:\tlearn: 8.0684893\ttotal: 1.06s\tremaining: 1.59s\n",
      "410:\tlearn: 8.0465892\ttotal: 1.09s\tremaining: 1.56s\n",
      "420:\tlearn: 8.0267922\ttotal: 1.11s\tremaining: 1.53s\n",
      "430:\tlearn: 8.0080148\ttotal: 1.14s\tremaining: 1.51s\n",
      "440:\tlearn: 7.9860980\ttotal: 1.17s\tremaining: 1.48s\n",
      "450:\tlearn: 7.9684934\ttotal: 1.19s\tremaining: 1.45s\n",
      "460:\tlearn: 7.9494974\ttotal: 1.22s\tremaining: 1.43s\n",
      "470:\tlearn: 7.9314940\ttotal: 1.25s\tremaining: 1.4s\n",
      "480:\tlearn: 7.9126908\ttotal: 1.27s\tremaining: 1.37s\n",
      "490:\tlearn: 7.8976931\ttotal: 1.3s\tremaining: 1.34s\n",
      "500:\tlearn: 7.8827658\ttotal: 1.32s\tremaining: 1.32s\n",
      "510:\tlearn: 7.8675807\ttotal: 1.35s\tremaining: 1.29s\n",
      "520:\tlearn: 7.8520063\ttotal: 1.38s\tremaining: 1.26s\n",
      "530:\tlearn: 7.8362367\ttotal: 1.4s\tremaining: 1.24s\n",
      "540:\tlearn: 7.8194402\ttotal: 1.43s\tremaining: 1.21s\n",
      "550:\tlearn: 7.8064557\ttotal: 1.45s\tremaining: 1.18s\n",
      "560:\tlearn: 7.7925316\ttotal: 1.48s\tremaining: 1.15s\n",
      "570:\tlearn: 7.7795249\ttotal: 1.5s\tremaining: 1.13s\n",
      "580:\tlearn: 7.7656041\ttotal: 1.52s\tremaining: 1.1s\n",
      "590:\tlearn: 7.7521921\ttotal: 1.55s\tremaining: 1.07s\n",
      "600:\tlearn: 7.7388477\ttotal: 1.58s\tremaining: 1.05s\n",
      "610:\tlearn: 7.7267913\ttotal: 1.6s\tremaining: 1.02s\n",
      "620:\tlearn: 7.7106035\ttotal: 1.63s\tremaining: 994ms\n",
      "630:\tlearn: 7.6945767\ttotal: 1.65s\tremaining: 966ms\n",
      "640:\tlearn: 7.6827719\ttotal: 1.68s\tremaining: 940ms\n",
      "650:\tlearn: 7.6683082\ttotal: 1.7s\tremaining: 912ms\n",
      "660:\tlearn: 7.6545327\ttotal: 1.73s\tremaining: 886ms\n",
      "670:\tlearn: 7.6431672\ttotal: 1.75s\tremaining: 857ms\n",
      "680:\tlearn: 7.6322057\ttotal: 1.77s\tremaining: 829ms\n",
      "690:\tlearn: 7.6183040\ttotal: 1.79s\tremaining: 801ms\n",
      "700:\tlearn: 7.6063755\ttotal: 1.81s\tremaining: 773ms\n",
      "710:\tlearn: 7.5924708\ttotal: 1.83s\tremaining: 746ms\n",
      "720:\tlearn: 7.5799569\ttotal: 1.86s\tremaining: 718ms\n",
      "730:\tlearn: 7.5684977\ttotal: 1.88s\tremaining: 692ms\n",
      "740:\tlearn: 7.5582485\ttotal: 1.91s\tremaining: 666ms\n",
      "750:\tlearn: 7.5462770\ttotal: 1.93s\tremaining: 641ms\n",
      "760:\tlearn: 7.5334138\ttotal: 1.96s\tremaining: 615ms\n",
      "770:\tlearn: 7.5211866\ttotal: 1.98s\tremaining: 589ms\n",
      "780:\tlearn: 7.5105928\ttotal: 2s\tremaining: 562ms\n",
      "790:\tlearn: 7.4993098\ttotal: 2.03s\tremaining: 536ms\n",
      "800:\tlearn: 7.4892081\ttotal: 2.05s\tremaining: 510ms\n",
      "810:\tlearn: 7.4759391\ttotal: 2.07s\tremaining: 484ms\n",
      "820:\tlearn: 7.4666834\ttotal: 2.1s\tremaining: 458ms\n",
      "830:\tlearn: 7.4577146\ttotal: 2.12s\tremaining: 432ms\n",
      "840:\tlearn: 7.4485665\ttotal: 2.15s\tremaining: 406ms\n",
      "850:\tlearn: 7.4364247\ttotal: 2.17s\tremaining: 381ms\n",
      "860:\tlearn: 7.4273675\ttotal: 2.2s\tremaining: 355ms\n",
      "870:\tlearn: 7.4192875\ttotal: 2.22s\tremaining: 329ms\n",
      "880:\tlearn: 7.4102068\ttotal: 2.24s\tremaining: 303ms\n",
      "890:\tlearn: 7.3994098\ttotal: 2.27s\tremaining: 277ms\n",
      "900:\tlearn: 7.3887832\ttotal: 2.29s\tremaining: 252ms\n",
      "910:\tlearn: 7.3788375\ttotal: 2.31s\tremaining: 226ms\n",
      "920:\tlearn: 7.3686580\ttotal: 2.34s\tremaining: 200ms\n",
      "930:\tlearn: 7.3581783\ttotal: 2.36s\tremaining: 175ms\n",
      "940:\tlearn: 7.3480330\ttotal: 2.39s\tremaining: 150ms\n",
      "950:\tlearn: 7.3396790\ttotal: 2.41s\tremaining: 124ms\n",
      "960:\tlearn: 7.3319200\ttotal: 2.44s\tremaining: 98.8ms\n",
      "970:\tlearn: 7.3217721\ttotal: 2.46s\tremaining: 73.5ms\n",
      "980:\tlearn: 7.3116411\ttotal: 2.48s\tremaining: 48.1ms\n",
      "990:\tlearn: 7.2997247\ttotal: 2.51s\tremaining: 22.8ms\n",
      "999:\tlearn: 7.2907438\ttotal: 2.53s\tremaining: 0us\n",
      "Best model: Pipeline(steps=[('scaler', MinMaxScaler()),\n",
      "                ('model',\n",
      "                 <catboost.core.CatBoostRegressor object at 0x0000016EF34555B0>)])\n",
      "MAE on CV: 6.59\n"
     ]
    }
   ],
   "source": [
    "# Measure training time with GridSearchCV\n",
    "gs_cb_pl.fit(x_train, y_train, model__early_stopping_rounds=10, model__verbose=10)\n",
    "\n",
    "# Get the best model and its MAE on cross-validation\n",
    "best_cb_model = gs_cb_pl.best_estimator_\n",
    "best_cb_mae = -gs_cb_pl.best_score_\n",
    "\n",
    "print(f\"Best model: {best_cb_model}\")\n",
    "print(f\"MAE on CV: {best_cb_mae:.2f}\")"
   ]
  },
  {
   "cell_type": "markdown",
   "id": "3c2a1d11",
   "metadata": {},
   "source": [
    "#### Ridge"
   ]
  },
  {
   "cell_type": "code",
   "execution_count": 88,
   "id": "d575c468",
   "metadata": {},
   "outputs": [
    {
     "name": "stdout",
     "output_type": "stream",
     "text": [
      "Best model: Pipeline(steps=[('scaler', MinMaxScaler()),\n",
      "                ('model',\n",
      "                 Ridge(alpha=1, normalize=False, random_state=240423))])\n",
      "MAE on CV: 6.69\n"
     ]
    }
   ],
   "source": [
    "# Set random_state for Ridge regression\n",
    "model_ridge = Ridge(random_state=random_state)\n",
    "\n",
    "# Create a new pipeline with transformer and trained model\n",
    "pipeline_ridge = Pipeline([\n",
    "    ('scaler', MinMaxScaler()),\n",
    "    ('model', model_ridge)])\n",
    "\n",
    "# Set the grid of hyperparameters to enumerate\n",
    "param_grid_ridge = {\n",
    "    'model__alpha': [0.001, 0.01, 0.1, 1, 10, 100],\n",
    "    'model__normalize': [True, False],\n",
    "    'model__fit_intercept': [True, False]\n",
    "}\n",
    "\n",
    "# Run hyperparameter enumeration with cross-validation and MAE estimation\n",
    "gs_ridge_pl = GridSearchCV(\n",
    "    pipeline_ridge,\n",
    "    param_grid=param_grid_ridge,\n",
    "    scoring='neg_mean_absolute_error',\n",
    "    cv=cv,\n",
    "    n_jobs=-1\n",
    ") \n",
    "\n",
    "# Measure training time with GridSearchCV\n",
    "start_time = time.time()\n",
    "gs_ridge_pl.fit(x_train, y_train)\n",
    "training_time_ridge = time.time() - start_time \n",
    "\n",
    "# Get the best model and its MAE on cross-validation\n",
    "best_ridge_model = gs_ridge_pl.best_estimator_\n",
    "best_ridge_mae = -gs_ridge_pl.best_score_ \n",
    "\n",
    "print(f\"Best model: {best_ridge_model}\")\n",
    "print(f\"MAE on CV: {best_ridge_mae:.2f}\")\n"
   ]
  },
  {
   "cell_type": "markdown",
   "id": "667acb04",
   "metadata": {},
   "source": [
    "### Determination of the best model"
   ]
  },
  {
   "cell_type": "code",
   "execution_count": 89,
   "id": "7dc310a9",
   "metadata": {},
   "outputs": [
    {
     "data": {
      "text/html": [
       "<div>\n",
       "<style scoped>\n",
       "    .dataframe tbody tr th:only-of-type {\n",
       "        vertical-align: middle;\n",
       "    }\n",
       "\n",
       "    .dataframe tbody tr th {\n",
       "        vertical-align: top;\n",
       "    }\n",
       "\n",
       "    .dataframe thead th {\n",
       "        text-align: right;\n",
       "    }\n",
       "</style>\n",
       "<table border=\"1\" class=\"dataframe\">\n",
       "  <thead>\n",
       "    <tr style=\"text-align: right;\">\n",
       "      <th></th>\n",
       "      <th>MAE</th>\n",
       "    </tr>\n",
       "  </thead>\n",
       "  <tbody>\n",
       "    <tr>\n",
       "      <th>DecisionTreeRegressor</th>\n",
       "      <td>7.230893</td>\n",
       "    </tr>\n",
       "    <tr>\n",
       "      <th>LinearRegression</th>\n",
       "      <td>6.697192</td>\n",
       "    </tr>\n",
       "    <tr>\n",
       "      <th>CatBoostRegressor</th>\n",
       "      <td>6.592641</td>\n",
       "    </tr>\n",
       "    <tr>\n",
       "      <th>Ridge</th>\n",
       "      <td>6.694494</td>\n",
       "    </tr>\n",
       "  </tbody>\n",
       "</table>\n",
       "</div>"
      ],
      "text/plain": [
       "                            MAE\n",
       "DecisionTreeRegressor  7.230893\n",
       "LinearRegression       6.697192\n",
       "CatBoostRegressor      6.592641\n",
       "Ridge                  6.694494"
      ]
     },
     "execution_count": 89,
     "metadata": {},
     "output_type": "execute_result"
    }
   ],
   "source": [
    "index = ['DecisionTreeRegressor',\n",
    "         'LinearRegression',\n",
    "         'CatBoostRegressor',\n",
    "         'Ridge']\n",
    "table = {'MAE':[best_tree_mae, \n",
    "                best_lr_mae,\n",
    "                best_cb_mae,\n",
    "                best_ridge_mae]}\n",
    "\n",
    "scores_table = pd.DataFrame(data=table, index=index)\n",
    "\n",
    "scores_table"
   ]
  },
  {
   "cell_type": "markdown",
   "id": "c1ce1392",
   "metadata": {},
   "source": [
    "Based on the results of considering 4 models, the most accurate is CatBoostRegressor. Compared to other models, it takes longer to train. However, there were no requirements from the customer in this regard. Passing grade - MAE <= 6.8. Therefore, in addition to CatBoostRegressor, LinearRegression and Ridge also fit the requirements."
   ]
  },
  {
   "cell_type": "markdown",
   "id": "05965362",
   "metadata": {},
   "source": [
    "### Checking the best model on test data"
   ]
  },
  {
   "cell_type": "code",
   "execution_count": 90,
   "id": "d3fa9f3a",
   "metadata": {},
   "outputs": [
    {
     "name": "stdout",
     "output_type": "stream",
     "text": [
      "0:\tlearn: 11.1856380\ttotal: 1.75ms\tremaining: 1.75s\n",
      "1:\tlearn: 11.1621967\ttotal: 3.44ms\tremaining: 1.72s\n",
      "2:\tlearn: 11.1362560\ttotal: 5.28ms\tremaining: 1.75s\n",
      "3:\tlearn: 11.1108111\ttotal: 7.01ms\tremaining: 1.75s\n",
      "4:\tlearn: 11.0840410\ttotal: 8.49ms\tremaining: 1.69s\n",
      "5:\tlearn: 11.0618964\ttotal: 10.1ms\tremaining: 1.68s\n",
      "6:\tlearn: 11.0349071\ttotal: 11.9ms\tremaining: 1.69s\n",
      "7:\tlearn: 11.0124068\ttotal: 13.6ms\tremaining: 1.69s\n",
      "8:\tlearn: 10.9866849\ttotal: 15.3ms\tremaining: 1.69s\n",
      "9:\tlearn: 10.9635783\ttotal: 17ms\tremaining: 1.68s\n",
      "10:\tlearn: 10.9417919\ttotal: 18.7ms\tremaining: 1.69s\n",
      "11:\tlearn: 10.9154388\ttotal: 20.5ms\tremaining: 1.69s\n",
      "12:\tlearn: 10.8908460\ttotal: 22.7ms\tremaining: 1.72s\n",
      "13:\tlearn: 10.8710067\ttotal: 24.7ms\tremaining: 1.74s\n",
      "14:\tlearn: 10.8499703\ttotal: 26.4ms\tremaining: 1.74s\n",
      "15:\tlearn: 10.8278711\ttotal: 28.3ms\tremaining: 1.74s\n",
      "16:\tlearn: 10.8045105\ttotal: 30ms\tremaining: 1.73s\n",
      "17:\tlearn: 10.7827154\ttotal: 31.7ms\tremaining: 1.73s\n",
      "18:\tlearn: 10.7593185\ttotal: 33.3ms\tremaining: 1.72s\n",
      "19:\tlearn: 10.7369400\ttotal: 35ms\tremaining: 1.72s\n",
      "20:\tlearn: 10.7136573\ttotal: 36.8ms\tremaining: 1.71s\n",
      "21:\tlearn: 10.6929784\ttotal: 38.7ms\tremaining: 1.72s\n",
      "22:\tlearn: 10.6735802\ttotal: 40.8ms\tremaining: 1.73s\n",
      "23:\tlearn: 10.6497596\ttotal: 42.5ms\tremaining: 1.73s\n",
      "24:\tlearn: 10.6300750\ttotal: 44.5ms\tremaining: 1.73s\n",
      "25:\tlearn: 10.6052518\ttotal: 46.2ms\tremaining: 1.73s\n",
      "26:\tlearn: 10.5886157\ttotal: 47.6ms\tremaining: 1.72s\n",
      "27:\tlearn: 10.5676758\ttotal: 49.2ms\tremaining: 1.71s\n",
      "28:\tlearn: 10.5494416\ttotal: 50.6ms\tremaining: 1.69s\n",
      "29:\tlearn: 10.5287106\ttotal: 52.1ms\tremaining: 1.68s\n",
      "30:\tlearn: 10.5069634\ttotal: 53.5ms\tremaining: 1.67s\n",
      "31:\tlearn: 10.4886388\ttotal: 55.2ms\tremaining: 1.67s\n",
      "32:\tlearn: 10.4701301\ttotal: 56.8ms\tremaining: 1.66s\n",
      "33:\tlearn: 10.4512142\ttotal: 58.6ms\tremaining: 1.66s\n",
      "34:\tlearn: 10.4303786\ttotal: 60ms\tremaining: 1.65s\n",
      "35:\tlearn: 10.4090567\ttotal: 61.4ms\tremaining: 1.65s\n",
      "36:\tlearn: 10.3916921\ttotal: 62.9ms\tremaining: 1.64s\n",
      "37:\tlearn: 10.3705251\ttotal: 64.2ms\tremaining: 1.62s\n",
      "38:\tlearn: 10.3515318\ttotal: 65.5ms\tremaining: 1.61s\n",
      "39:\tlearn: 10.3318684\ttotal: 66.8ms\tremaining: 1.6s\n",
      "40:\tlearn: 10.3115320\ttotal: 68.3ms\tremaining: 1.6s\n",
      "41:\tlearn: 10.2923967\ttotal: 69.6ms\tremaining: 1.59s\n",
      "42:\tlearn: 10.2766817\ttotal: 71.4ms\tremaining: 1.59s\n",
      "43:\tlearn: 10.2597770\ttotal: 72.9ms\tremaining: 1.58s\n",
      "44:\tlearn: 10.2428686\ttotal: 74.3ms\tremaining: 1.58s\n",
      "45:\tlearn: 10.2242954\ttotal: 75.6ms\tremaining: 1.57s\n",
      "46:\tlearn: 10.2063335\ttotal: 77ms\tremaining: 1.56s\n",
      "47:\tlearn: 10.1879505\ttotal: 78.3ms\tremaining: 1.55s\n",
      "48:\tlearn: 10.1716858\ttotal: 79.7ms\tremaining: 1.55s\n",
      "49:\tlearn: 10.1564458\ttotal: 81ms\tremaining: 1.54s\n",
      "50:\tlearn: 10.1387877\ttotal: 82.4ms\tremaining: 1.53s\n",
      "51:\tlearn: 10.1218626\ttotal: 83.8ms\tremaining: 1.53s\n",
      "52:\tlearn: 10.1050407\ttotal: 85.2ms\tremaining: 1.52s\n",
      "53:\tlearn: 10.0886289\ttotal: 86.8ms\tremaining: 1.52s\n",
      "54:\tlearn: 10.0766810\ttotal: 88.2ms\tremaining: 1.51s\n",
      "55:\tlearn: 10.0591320\ttotal: 89.6ms\tremaining: 1.51s\n",
      "56:\tlearn: 10.0454668\ttotal: 90.9ms\tremaining: 1.5s\n",
      "57:\tlearn: 10.0278361\ttotal: 92.2ms\tremaining: 1.5s\n",
      "58:\tlearn: 10.0121230\ttotal: 93.5ms\tremaining: 1.49s\n",
      "59:\tlearn: 9.9971822\ttotal: 94.9ms\tremaining: 1.49s\n",
      "60:\tlearn: 9.9792706\ttotal: 96.2ms\tremaining: 1.48s\n",
      "61:\tlearn: 9.9640637\ttotal: 97.7ms\tremaining: 1.48s\n",
      "62:\tlearn: 9.9484086\ttotal: 99ms\tremaining: 1.47s\n",
      "63:\tlearn: 9.9341521\ttotal: 100ms\tremaining: 1.47s\n",
      "64:\tlearn: 9.9204173\ttotal: 102ms\tremaining: 1.47s\n",
      "65:\tlearn: 9.9099502\ttotal: 104ms\tremaining: 1.46s\n",
      "66:\tlearn: 9.8963850\ttotal: 105ms\tremaining: 1.46s\n",
      "67:\tlearn: 9.8827827\ttotal: 106ms\tremaining: 1.46s\n",
      "68:\tlearn: 9.8677007\ttotal: 108ms\tremaining: 1.45s\n",
      "69:\tlearn: 9.8535784\ttotal: 109ms\tremaining: 1.45s\n",
      "70:\tlearn: 9.8392118\ttotal: 110ms\tremaining: 1.44s\n",
      "71:\tlearn: 9.8242585\ttotal: 112ms\tremaining: 1.44s\n",
      "72:\tlearn: 9.8108182\ttotal: 113ms\tremaining: 1.44s\n",
      "73:\tlearn: 9.7974858\ttotal: 115ms\tremaining: 1.43s\n",
      "74:\tlearn: 9.7843285\ttotal: 116ms\tremaining: 1.43s\n",
      "75:\tlearn: 9.7717231\ttotal: 117ms\tremaining: 1.43s\n",
      "76:\tlearn: 9.7576462\ttotal: 119ms\tremaining: 1.43s\n",
      "77:\tlearn: 9.7435755\ttotal: 120ms\tremaining: 1.42s\n",
      "78:\tlearn: 9.7289987\ttotal: 122ms\tremaining: 1.42s\n",
      "79:\tlearn: 9.7169051\ttotal: 123ms\tremaining: 1.42s\n",
      "80:\tlearn: 9.7028480\ttotal: 124ms\tremaining: 1.41s\n",
      "81:\tlearn: 9.6887948\ttotal: 126ms\tremaining: 1.41s\n",
      "82:\tlearn: 9.6733238\ttotal: 127ms\tremaining: 1.41s\n",
      "83:\tlearn: 9.6602153\ttotal: 129ms\tremaining: 1.4s\n",
      "84:\tlearn: 9.6466384\ttotal: 130ms\tremaining: 1.4s\n",
      "85:\tlearn: 9.6354640\ttotal: 131ms\tremaining: 1.4s\n",
      "86:\tlearn: 9.6214041\ttotal: 133ms\tremaining: 1.39s\n",
      "87:\tlearn: 9.6095351\ttotal: 134ms\tremaining: 1.39s\n",
      "88:\tlearn: 9.5977305\ttotal: 136ms\tremaining: 1.39s\n",
      "89:\tlearn: 9.5852990\ttotal: 137ms\tremaining: 1.38s\n",
      "90:\tlearn: 9.5742782\ttotal: 138ms\tremaining: 1.38s\n",
      "91:\tlearn: 9.5650220\ttotal: 140ms\tremaining: 1.38s\n",
      "92:\tlearn: 9.5544618\ttotal: 141ms\tremaining: 1.37s\n",
      "93:\tlearn: 9.5431633\ttotal: 142ms\tremaining: 1.37s\n",
      "94:\tlearn: 9.5328970\ttotal: 144ms\tremaining: 1.37s\n",
      "95:\tlearn: 9.5236025\ttotal: 145ms\tremaining: 1.37s\n",
      "96:\tlearn: 9.5129004\ttotal: 147ms\tremaining: 1.37s\n",
      "97:\tlearn: 9.5017811\ttotal: 148ms\tremaining: 1.36s\n",
      "98:\tlearn: 9.4906054\ttotal: 150ms\tremaining: 1.36s\n",
      "99:\tlearn: 9.4798067\ttotal: 151ms\tremaining: 1.36s\n",
      "100:\tlearn: 9.4689764\ttotal: 152ms\tremaining: 1.36s\n",
      "101:\tlearn: 9.4593774\ttotal: 154ms\tremaining: 1.35s\n",
      "102:\tlearn: 9.4472400\ttotal: 155ms\tremaining: 1.35s\n",
      "103:\tlearn: 9.4373324\ttotal: 157ms\tremaining: 1.35s\n",
      "104:\tlearn: 9.4257170\ttotal: 158ms\tremaining: 1.34s\n",
      "105:\tlearn: 9.4167834\ttotal: 159ms\tremaining: 1.34s\n",
      "106:\tlearn: 9.4064390\ttotal: 161ms\tremaining: 1.34s\n",
      "107:\tlearn: 9.3970880\ttotal: 162ms\tremaining: 1.34s\n",
      "108:\tlearn: 9.3862661\ttotal: 164ms\tremaining: 1.34s\n",
      "109:\tlearn: 9.3757766\ttotal: 165ms\tremaining: 1.33s\n",
      "110:\tlearn: 9.3651653\ttotal: 166ms\tremaining: 1.33s\n",
      "111:\tlearn: 9.3544188\ttotal: 168ms\tremaining: 1.33s\n",
      "112:\tlearn: 9.3463057\ttotal: 170ms\tremaining: 1.33s\n",
      "113:\tlearn: 9.3391555\ttotal: 171ms\tremaining: 1.33s\n",
      "114:\tlearn: 9.3287790\ttotal: 173ms\tremaining: 1.33s\n",
      "115:\tlearn: 9.3184162\ttotal: 174ms\tremaining: 1.33s\n",
      "116:\tlearn: 9.3082751\ttotal: 176ms\tremaining: 1.32s\n",
      "117:\tlearn: 9.2992368\ttotal: 177ms\tremaining: 1.32s\n",
      "118:\tlearn: 9.2892562\ttotal: 179ms\tremaining: 1.32s\n",
      "119:\tlearn: 9.2806687\ttotal: 180ms\tremaining: 1.32s\n",
      "120:\tlearn: 9.2712905\ttotal: 182ms\tremaining: 1.32s\n",
      "121:\tlearn: 9.2620812\ttotal: 183ms\tremaining: 1.32s\n",
      "122:\tlearn: 9.2528522\ttotal: 185ms\tremaining: 1.32s\n",
      "123:\tlearn: 9.2434274\ttotal: 187ms\tremaining: 1.32s\n",
      "124:\tlearn: 9.2370413\ttotal: 189ms\tremaining: 1.32s\n",
      "125:\tlearn: 9.2279147\ttotal: 191ms\tremaining: 1.32s\n",
      "126:\tlearn: 9.2189253\ttotal: 193ms\tremaining: 1.32s\n",
      "127:\tlearn: 9.2094687\ttotal: 194ms\tremaining: 1.32s\n",
      "128:\tlearn: 9.2032857\ttotal: 196ms\tremaining: 1.32s\n",
      "129:\tlearn: 9.1930883\ttotal: 197ms\tremaining: 1.32s\n",
      "130:\tlearn: 9.1873053\ttotal: 199ms\tremaining: 1.32s\n",
      "131:\tlearn: 9.1767938\ttotal: 200ms\tremaining: 1.32s\n",
      "132:\tlearn: 9.1680178\ttotal: 202ms\tremaining: 1.31s\n",
      "133:\tlearn: 9.1579721\ttotal: 203ms\tremaining: 1.31s\n",
      "134:\tlearn: 9.1502063\ttotal: 204ms\tremaining: 1.31s\n",
      "135:\tlearn: 9.1415712\ttotal: 206ms\tremaining: 1.31s\n",
      "136:\tlearn: 9.1334109\ttotal: 208ms\tremaining: 1.31s\n",
      "137:\tlearn: 9.1235343\ttotal: 210ms\tremaining: 1.31s\n",
      "138:\tlearn: 9.1164159\ttotal: 212ms\tremaining: 1.31s\n",
      "139:\tlearn: 9.1079124\ttotal: 214ms\tremaining: 1.31s\n",
      "140:\tlearn: 9.1011392\ttotal: 215ms\tremaining: 1.31s\n",
      "141:\tlearn: 9.0934902\ttotal: 217ms\tremaining: 1.31s\n",
      "142:\tlearn: 9.0838617\ttotal: 218ms\tremaining: 1.31s\n",
      "143:\tlearn: 9.0745832\ttotal: 220ms\tremaining: 1.31s\n",
      "144:\tlearn: 9.0692343\ttotal: 221ms\tremaining: 1.3s\n",
      "145:\tlearn: 9.0616972\ttotal: 223ms\tremaining: 1.3s\n",
      "146:\tlearn: 9.0547370\ttotal: 225ms\tremaining: 1.3s\n",
      "147:\tlearn: 9.0472174\ttotal: 226ms\tremaining: 1.3s\n",
      "148:\tlearn: 9.0404197\ttotal: 228ms\tremaining: 1.3s\n",
      "149:\tlearn: 9.0314522\ttotal: 229ms\tremaining: 1.3s\n",
      "150:\tlearn: 9.0237008\ttotal: 231ms\tremaining: 1.3s\n",
      "151:\tlearn: 9.0191907\ttotal: 232ms\tremaining: 1.29s\n",
      "152:\tlearn: 9.0111843\ttotal: 233ms\tremaining: 1.29s\n",
      "153:\tlearn: 9.0030575\ttotal: 235ms\tremaining: 1.29s\n",
      "154:\tlearn: 8.9953413\ttotal: 236ms\tremaining: 1.29s\n",
      "155:\tlearn: 8.9876165\ttotal: 238ms\tremaining: 1.28s\n",
      "156:\tlearn: 8.9823607\ttotal: 239ms\tremaining: 1.28s\n",
      "157:\tlearn: 8.9764322\ttotal: 241ms\tremaining: 1.28s\n",
      "158:\tlearn: 8.9671242\ttotal: 242ms\tremaining: 1.28s\n",
      "159:\tlearn: 8.9604177\ttotal: 244ms\tremaining: 1.28s\n",
      "160:\tlearn: 8.9522958\ttotal: 245ms\tremaining: 1.28s\n",
      "161:\tlearn: 8.9448673\ttotal: 246ms\tremaining: 1.27s\n",
      "162:\tlearn: 8.9379040\ttotal: 248ms\tremaining: 1.27s\n",
      "163:\tlearn: 8.9319213\ttotal: 249ms\tremaining: 1.27s\n",
      "164:\tlearn: 8.9243753\ttotal: 251ms\tremaining: 1.27s\n",
      "165:\tlearn: 8.9160179\ttotal: 252ms\tremaining: 1.27s\n",
      "166:\tlearn: 8.9097325\ttotal: 254ms\tremaining: 1.27s\n",
      "167:\tlearn: 8.9015129\ttotal: 255ms\tremaining: 1.26s\n",
      "168:\tlearn: 8.8945187\ttotal: 257ms\tremaining: 1.26s\n",
      "169:\tlearn: 8.8877525\ttotal: 258ms\tremaining: 1.26s\n",
      "170:\tlearn: 8.8821543\ttotal: 259ms\tremaining: 1.26s\n",
      "171:\tlearn: 8.8773214\ttotal: 261ms\tremaining: 1.25s\n",
      "172:\tlearn: 8.8722919\ttotal: 262ms\tremaining: 1.25s\n",
      "173:\tlearn: 8.8650491\ttotal: 264ms\tremaining: 1.25s\n",
      "174:\tlearn: 8.8577507\ttotal: 265ms\tremaining: 1.25s\n",
      "175:\tlearn: 8.8518227\ttotal: 266ms\tremaining: 1.25s\n",
      "176:\tlearn: 8.8462332\ttotal: 268ms\tremaining: 1.25s\n",
      "177:\tlearn: 8.8410063\ttotal: 269ms\tremaining: 1.24s\n",
      "178:\tlearn: 8.8356419\ttotal: 271ms\tremaining: 1.24s\n",
      "179:\tlearn: 8.8293153\ttotal: 272ms\tremaining: 1.24s\n",
      "180:\tlearn: 8.8240280\ttotal: 274ms\tremaining: 1.24s\n",
      "181:\tlearn: 8.8184464\ttotal: 275ms\tremaining: 1.24s\n",
      "182:\tlearn: 8.8142481\ttotal: 276ms\tremaining: 1.23s\n",
      "183:\tlearn: 8.8078388\ttotal: 278ms\tremaining: 1.23s\n",
      "184:\tlearn: 8.8019666\ttotal: 279ms\tremaining: 1.23s\n",
      "185:\tlearn: 8.7969150\ttotal: 281ms\tremaining: 1.23s\n",
      "186:\tlearn: 8.7906114\ttotal: 282ms\tremaining: 1.23s\n",
      "187:\tlearn: 8.7849474\ttotal: 283ms\tremaining: 1.22s\n",
      "188:\tlearn: 8.7802795\ttotal: 285ms\tremaining: 1.22s\n",
      "189:\tlearn: 8.7749292\ttotal: 287ms\tremaining: 1.22s\n",
      "190:\tlearn: 8.7682684\ttotal: 288ms\tremaining: 1.22s\n",
      "191:\tlearn: 8.7638736\ttotal: 289ms\tremaining: 1.22s\n",
      "192:\tlearn: 8.7566407\ttotal: 291ms\tremaining: 1.22s\n",
      "193:\tlearn: 8.7507287\ttotal: 292ms\tremaining: 1.21s\n",
      "194:\tlearn: 8.7458633\ttotal: 294ms\tremaining: 1.21s\n",
      "195:\tlearn: 8.7389633\ttotal: 295ms\tremaining: 1.21s\n",
      "196:\tlearn: 8.7336209\ttotal: 297ms\tremaining: 1.21s\n",
      "197:\tlearn: 8.7289754\ttotal: 298ms\tremaining: 1.21s\n",
      "198:\tlearn: 8.7242649\ttotal: 300ms\tremaining: 1.21s\n",
      "199:\tlearn: 8.7177778\ttotal: 301ms\tremaining: 1.21s\n",
      "200:\tlearn: 8.7129222\ttotal: 303ms\tremaining: 1.2s\n",
      "201:\tlearn: 8.7094990\ttotal: 305ms\tremaining: 1.2s\n",
      "202:\tlearn: 8.7035396\ttotal: 306ms\tremaining: 1.2s\n",
      "203:\tlearn: 8.6977078\ttotal: 308ms\tremaining: 1.2s\n",
      "204:\tlearn: 8.6918980\ttotal: 309ms\tremaining: 1.2s\n",
      "205:\tlearn: 8.6877985\ttotal: 311ms\tremaining: 1.2s\n",
      "206:\tlearn: 8.6833318\ttotal: 312ms\tremaining: 1.2s\n",
      "207:\tlearn: 8.6791671\ttotal: 313ms\tremaining: 1.19s\n",
      "208:\tlearn: 8.6730745\ttotal: 315ms\tremaining: 1.19s\n",
      "209:\tlearn: 8.6680355\ttotal: 317ms\tremaining: 1.19s\n",
      "210:\tlearn: 8.6627343\ttotal: 318ms\tremaining: 1.19s\n",
      "211:\tlearn: 8.6570169\ttotal: 320ms\tremaining: 1.19s\n",
      "212:\tlearn: 8.6518545\ttotal: 321ms\tremaining: 1.19s\n",
      "213:\tlearn: 8.6463612\ttotal: 322ms\tremaining: 1.18s\n",
      "214:\tlearn: 8.6411066\ttotal: 324ms\tremaining: 1.18s\n",
      "215:\tlearn: 8.6363225\ttotal: 325ms\tremaining: 1.18s\n",
      "216:\tlearn: 8.6311828\ttotal: 326ms\tremaining: 1.18s\n",
      "217:\tlearn: 8.6270739\ttotal: 328ms\tremaining: 1.18s\n",
      "218:\tlearn: 8.6223260\ttotal: 330ms\tremaining: 1.18s\n",
      "219:\tlearn: 8.6174876\ttotal: 331ms\tremaining: 1.17s\n",
      "220:\tlearn: 8.6129696\ttotal: 333ms\tremaining: 1.17s\n",
      "221:\tlearn: 8.6081545\ttotal: 335ms\tremaining: 1.17s\n",
      "222:\tlearn: 8.6045096\ttotal: 336ms\tremaining: 1.17s\n"
     ]
    },
    {
     "name": "stdout",
     "output_type": "stream",
     "text": [
      "223:\tlearn: 8.6002512\ttotal: 338ms\tremaining: 1.17s\n",
      "224:\tlearn: 8.5954276\ttotal: 339ms\tremaining: 1.17s\n",
      "225:\tlearn: 8.5900220\ttotal: 341ms\tremaining: 1.17s\n",
      "226:\tlearn: 8.5847812\ttotal: 342ms\tremaining: 1.16s\n",
      "227:\tlearn: 8.5808239\ttotal: 344ms\tremaining: 1.16s\n",
      "228:\tlearn: 8.5766147\ttotal: 345ms\tremaining: 1.16s\n",
      "229:\tlearn: 8.5734300\ttotal: 347ms\tremaining: 1.16s\n",
      "230:\tlearn: 8.5691889\ttotal: 348ms\tremaining: 1.16s\n",
      "231:\tlearn: 8.5664407\ttotal: 350ms\tremaining: 1.16s\n",
      "232:\tlearn: 8.5616844\ttotal: 351ms\tremaining: 1.16s\n",
      "233:\tlearn: 8.5573948\ttotal: 353ms\tremaining: 1.15s\n",
      "234:\tlearn: 8.5531763\ttotal: 354ms\tremaining: 1.15s\n",
      "235:\tlearn: 8.5491420\ttotal: 355ms\tremaining: 1.15s\n",
      "236:\tlearn: 8.5451806\ttotal: 357ms\tremaining: 1.15s\n",
      "237:\tlearn: 8.5418934\ttotal: 358ms\tremaining: 1.15s\n",
      "238:\tlearn: 8.5381954\ttotal: 360ms\tremaining: 1.15s\n",
      "239:\tlearn: 8.5346903\ttotal: 362ms\tremaining: 1.15s\n",
      "240:\tlearn: 8.5298573\ttotal: 363ms\tremaining: 1.14s\n",
      "241:\tlearn: 8.5260536\ttotal: 365ms\tremaining: 1.14s\n",
      "242:\tlearn: 8.5219685\ttotal: 367ms\tremaining: 1.14s\n",
      "243:\tlearn: 8.5181713\ttotal: 369ms\tremaining: 1.14s\n",
      "244:\tlearn: 8.5138277\ttotal: 370ms\tremaining: 1.14s\n",
      "245:\tlearn: 8.5104972\ttotal: 372ms\tremaining: 1.14s\n",
      "246:\tlearn: 8.5067992\ttotal: 373ms\tremaining: 1.14s\n",
      "247:\tlearn: 8.5023045\ttotal: 375ms\tremaining: 1.14s\n",
      "248:\tlearn: 8.4996774\ttotal: 376ms\tremaining: 1.13s\n",
      "249:\tlearn: 8.4939361\ttotal: 378ms\tremaining: 1.13s\n",
      "250:\tlearn: 8.4897549\ttotal: 380ms\tremaining: 1.13s\n",
      "251:\tlearn: 8.4861249\ttotal: 381ms\tremaining: 1.13s\n",
      "252:\tlearn: 8.4822007\ttotal: 382ms\tremaining: 1.13s\n",
      "253:\tlearn: 8.4778423\ttotal: 384ms\tremaining: 1.13s\n",
      "254:\tlearn: 8.4754935\ttotal: 385ms\tremaining: 1.13s\n",
      "255:\tlearn: 8.4712646\ttotal: 386ms\tremaining: 1.12s\n",
      "256:\tlearn: 8.4675294\ttotal: 388ms\tremaining: 1.12s\n",
      "257:\tlearn: 8.4646283\ttotal: 389ms\tremaining: 1.12s\n",
      "258:\tlearn: 8.4602942\ttotal: 391ms\tremaining: 1.12s\n",
      "259:\tlearn: 8.4565630\ttotal: 393ms\tremaining: 1.12s\n",
      "260:\tlearn: 8.4529960\ttotal: 394ms\tremaining: 1.12s\n",
      "261:\tlearn: 8.4490611\ttotal: 396ms\tremaining: 1.11s\n",
      "262:\tlearn: 8.4464803\ttotal: 397ms\tremaining: 1.11s\n",
      "263:\tlearn: 8.4436641\ttotal: 399ms\tremaining: 1.11s\n",
      "264:\tlearn: 8.4395457\ttotal: 400ms\tremaining: 1.11s\n",
      "265:\tlearn: 8.4356349\ttotal: 401ms\tremaining: 1.11s\n",
      "266:\tlearn: 8.4328222\ttotal: 403ms\tremaining: 1.1s\n",
      "267:\tlearn: 8.4299436\ttotal: 404ms\tremaining: 1.1s\n",
      "268:\tlearn: 8.4252877\ttotal: 406ms\tremaining: 1.1s\n",
      "269:\tlearn: 8.4213515\ttotal: 408ms\tremaining: 1.1s\n",
      "270:\tlearn: 8.4178137\ttotal: 409ms\tremaining: 1.1s\n",
      "271:\tlearn: 8.4143965\ttotal: 411ms\tremaining: 1.1s\n",
      "272:\tlearn: 8.4102778\ttotal: 412ms\tremaining: 1.1s\n",
      "273:\tlearn: 8.4061815\ttotal: 413ms\tremaining: 1.09s\n",
      "274:\tlearn: 8.4036266\ttotal: 415ms\tremaining: 1.09s\n",
      "275:\tlearn: 8.3991705\ttotal: 416ms\tremaining: 1.09s\n",
      "276:\tlearn: 8.3959341\ttotal: 418ms\tremaining: 1.09s\n",
      "277:\tlearn: 8.3928555\ttotal: 419ms\tremaining: 1.09s\n",
      "278:\tlearn: 8.3888903\ttotal: 421ms\tremaining: 1.09s\n",
      "279:\tlearn: 8.3863514\ttotal: 422ms\tremaining: 1.08s\n",
      "280:\tlearn: 8.3835687\ttotal: 424ms\tremaining: 1.08s\n",
      "281:\tlearn: 8.3786614\ttotal: 425ms\tremaining: 1.08s\n",
      "282:\tlearn: 8.3760500\ttotal: 427ms\tremaining: 1.08s\n",
      "283:\tlearn: 8.3730795\ttotal: 428ms\tremaining: 1.08s\n",
      "284:\tlearn: 8.3715595\ttotal: 430ms\tremaining: 1.08s\n",
      "285:\tlearn: 8.3679611\ttotal: 431ms\tremaining: 1.07s\n",
      "286:\tlearn: 8.3641540\ttotal: 432ms\tremaining: 1.07s\n",
      "287:\tlearn: 8.3609548\ttotal: 434ms\tremaining: 1.07s\n",
      "288:\tlearn: 8.3574234\ttotal: 435ms\tremaining: 1.07s\n",
      "289:\tlearn: 8.3543905\ttotal: 437ms\tremaining: 1.07s\n",
      "290:\tlearn: 8.3502384\ttotal: 438ms\tremaining: 1.07s\n",
      "291:\tlearn: 8.3458821\ttotal: 440ms\tremaining: 1.07s\n",
      "292:\tlearn: 8.3428214\ttotal: 441ms\tremaining: 1.06s\n",
      "293:\tlearn: 8.3390901\ttotal: 443ms\tremaining: 1.06s\n",
      "294:\tlearn: 8.3371261\ttotal: 444ms\tremaining: 1.06s\n",
      "295:\tlearn: 8.3335338\ttotal: 445ms\tremaining: 1.06s\n",
      "296:\tlearn: 8.3313463\ttotal: 447ms\tremaining: 1.06s\n",
      "297:\tlearn: 8.3281353\ttotal: 448ms\tremaining: 1.05s\n",
      "298:\tlearn: 8.3245067\ttotal: 449ms\tremaining: 1.05s\n",
      "299:\tlearn: 8.3205654\ttotal: 451ms\tremaining: 1.05s\n",
      "300:\tlearn: 8.3169636\ttotal: 452ms\tremaining: 1.05s\n",
      "301:\tlearn: 8.3141260\ttotal: 454ms\tremaining: 1.05s\n",
      "302:\tlearn: 8.3116180\ttotal: 455ms\tremaining: 1.05s\n",
      "303:\tlearn: 8.3086641\ttotal: 457ms\tremaining: 1.04s\n",
      "304:\tlearn: 8.3063820\ttotal: 458ms\tremaining: 1.04s\n",
      "305:\tlearn: 8.3030158\ttotal: 460ms\tremaining: 1.04s\n",
      "306:\tlearn: 8.2999786\ttotal: 461ms\tremaining: 1.04s\n",
      "307:\tlearn: 8.2966309\ttotal: 462ms\tremaining: 1.04s\n",
      "308:\tlearn: 8.2927521\ttotal: 464ms\tremaining: 1.04s\n",
      "309:\tlearn: 8.2900541\ttotal: 465ms\tremaining: 1.03s\n",
      "310:\tlearn: 8.2866616\ttotal: 467ms\tremaining: 1.03s\n",
      "311:\tlearn: 8.2840713\ttotal: 469ms\tremaining: 1.03s\n",
      "312:\tlearn: 8.2809113\ttotal: 470ms\tremaining: 1.03s\n",
      "313:\tlearn: 8.2774325\ttotal: 472ms\tremaining: 1.03s\n",
      "314:\tlearn: 8.2748462\ttotal: 473ms\tremaining: 1.03s\n",
      "315:\tlearn: 8.2720784\ttotal: 474ms\tremaining: 1.03s\n",
      "316:\tlearn: 8.2694412\ttotal: 476ms\tremaining: 1.02s\n",
      "317:\tlearn: 8.2673150\ttotal: 477ms\tremaining: 1.02s\n",
      "318:\tlearn: 8.2635668\ttotal: 479ms\tremaining: 1.02s\n",
      "319:\tlearn: 8.2603631\ttotal: 480ms\tremaining: 1.02s\n",
      "320:\tlearn: 8.2579905\ttotal: 482ms\tremaining: 1.02s\n",
      "321:\tlearn: 8.2556954\ttotal: 483ms\tremaining: 1.02s\n",
      "322:\tlearn: 8.2534082\ttotal: 485ms\tremaining: 1.01s\n",
      "323:\tlearn: 8.2503937\ttotal: 486ms\tremaining: 1.01s\n",
      "324:\tlearn: 8.2462855\ttotal: 488ms\tremaining: 1.01s\n",
      "325:\tlearn: 8.2438678\ttotal: 489ms\tremaining: 1.01s\n",
      "326:\tlearn: 8.2413705\ttotal: 490ms\tremaining: 1.01s\n",
      "327:\tlearn: 8.2391220\ttotal: 492ms\tremaining: 1.01s\n",
      "328:\tlearn: 8.2359330\ttotal: 493ms\tremaining: 1s\n",
      "329:\tlearn: 8.2333722\ttotal: 495ms\tremaining: 1s\n",
      "330:\tlearn: 8.2313328\ttotal: 496ms\tremaining: 1s\n",
      "331:\tlearn: 8.2292957\ttotal: 498ms\tremaining: 1s\n",
      "332:\tlearn: 8.2265125\ttotal: 500ms\tremaining: 1s\n",
      "333:\tlearn: 8.2245376\ttotal: 501ms\tremaining: 999ms\n",
      "334:\tlearn: 8.2215766\ttotal: 502ms\tremaining: 997ms\n",
      "335:\tlearn: 8.2188596\ttotal: 504ms\tremaining: 996ms\n",
      "336:\tlearn: 8.2164965\ttotal: 505ms\tremaining: 994ms\n",
      "337:\tlearn: 8.2138752\ttotal: 507ms\tremaining: 992ms\n",
      "338:\tlearn: 8.2114238\ttotal: 508ms\tremaining: 991ms\n",
      "339:\tlearn: 8.2087960\ttotal: 510ms\tremaining: 990ms\n",
      "340:\tlearn: 8.2059557\ttotal: 512ms\tremaining: 989ms\n",
      "341:\tlearn: 8.2026516\ttotal: 513ms\tremaining: 987ms\n",
      "342:\tlearn: 8.1999835\ttotal: 514ms\tremaining: 985ms\n",
      "343:\tlearn: 8.1970516\ttotal: 516ms\tremaining: 984ms\n",
      "344:\tlearn: 8.1948424\ttotal: 517ms\tremaining: 982ms\n",
      "345:\tlearn: 8.1926732\ttotal: 519ms\tremaining: 981ms\n",
      "346:\tlearn: 8.1911773\ttotal: 520ms\tremaining: 979ms\n",
      "347:\tlearn: 8.1889665\ttotal: 522ms\tremaining: 978ms\n",
      "348:\tlearn: 8.1871663\ttotal: 523ms\tremaining: 976ms\n",
      "349:\tlearn: 8.1851973\ttotal: 525ms\tremaining: 975ms\n",
      "350:\tlearn: 8.1823200\ttotal: 526ms\tremaining: 973ms\n",
      "351:\tlearn: 8.1800770\ttotal: 528ms\tremaining: 973ms\n",
      "352:\tlearn: 8.1770012\ttotal: 530ms\tremaining: 972ms\n",
      "353:\tlearn: 8.1736812\ttotal: 532ms\tremaining: 971ms\n",
      "354:\tlearn: 8.1724735\ttotal: 533ms\tremaining: 969ms\n",
      "355:\tlearn: 8.1706678\ttotal: 535ms\tremaining: 968ms\n",
      "356:\tlearn: 8.1688158\ttotal: 536ms\tremaining: 966ms\n",
      "357:\tlearn: 8.1661100\ttotal: 538ms\tremaining: 965ms\n",
      "358:\tlearn: 8.1645881\ttotal: 539ms\tremaining: 963ms\n",
      "359:\tlearn: 8.1613335\ttotal: 541ms\tremaining: 961ms\n",
      "360:\tlearn: 8.1585618\ttotal: 543ms\tremaining: 961ms\n",
      "361:\tlearn: 8.1552312\ttotal: 545ms\tremaining: 961ms\n",
      "362:\tlearn: 8.1528940\ttotal: 547ms\tremaining: 959ms\n",
      "363:\tlearn: 8.1505207\ttotal: 548ms\tremaining: 958ms\n",
      "364:\tlearn: 8.1492965\ttotal: 550ms\tremaining: 956ms\n",
      "365:\tlearn: 8.1464658\ttotal: 551ms\tremaining: 954ms\n",
      "366:\tlearn: 8.1434708\ttotal: 552ms\tremaining: 953ms\n",
      "367:\tlearn: 8.1410369\ttotal: 554ms\tremaining: 951ms\n",
      "368:\tlearn: 8.1390239\ttotal: 555ms\tremaining: 949ms\n",
      "369:\tlearn: 8.1371497\ttotal: 557ms\tremaining: 948ms\n",
      "370:\tlearn: 8.1347963\ttotal: 558ms\tremaining: 947ms\n",
      "371:\tlearn: 8.1334853\ttotal: 560ms\tremaining: 945ms\n",
      "372:\tlearn: 8.1313035\ttotal: 561ms\tremaining: 944ms\n",
      "373:\tlearn: 8.1282089\ttotal: 563ms\tremaining: 942ms\n",
      "374:\tlearn: 8.1263949\ttotal: 564ms\tremaining: 940ms\n",
      "375:\tlearn: 8.1239670\ttotal: 566ms\tremaining: 939ms\n",
      "376:\tlearn: 8.1224732\ttotal: 567ms\tremaining: 937ms\n",
      "377:\tlearn: 8.1201439\ttotal: 568ms\tremaining: 935ms\n",
      "378:\tlearn: 8.1175301\ttotal: 570ms\tremaining: 934ms\n",
      "379:\tlearn: 8.1152904\ttotal: 571ms\tremaining: 932ms\n",
      "380:\tlearn: 8.1122947\ttotal: 573ms\tremaining: 931ms\n",
      "381:\tlearn: 8.1101237\ttotal: 575ms\tremaining: 930ms\n",
      "382:\tlearn: 8.1074212\ttotal: 576ms\tremaining: 928ms\n",
      "383:\tlearn: 8.1045768\ttotal: 578ms\tremaining: 927ms\n",
      "384:\tlearn: 8.1026919\ttotal: 579ms\tremaining: 925ms\n",
      "385:\tlearn: 8.1008769\ttotal: 581ms\tremaining: 924ms\n",
      "386:\tlearn: 8.0991219\ttotal: 582ms\tremaining: 922ms\n",
      "387:\tlearn: 8.0976427\ttotal: 583ms\tremaining: 920ms\n",
      "388:\tlearn: 8.0961131\ttotal: 585ms\tremaining: 919ms\n",
      "389:\tlearn: 8.0947185\ttotal: 586ms\tremaining: 917ms\n",
      "390:\tlearn: 8.0917231\ttotal: 588ms\tremaining: 916ms\n",
      "391:\tlearn: 8.0889351\ttotal: 590ms\tremaining: 915ms\n",
      "392:\tlearn: 8.0869011\ttotal: 592ms\tremaining: 914ms\n",
      "393:\tlearn: 8.0843096\ttotal: 593ms\tremaining: 912ms\n",
      "394:\tlearn: 8.0822478\ttotal: 594ms\tremaining: 910ms\n",
      "395:\tlearn: 8.0799633\ttotal: 596ms\tremaining: 909ms\n",
      "396:\tlearn: 8.0782236\ttotal: 597ms\tremaining: 907ms\n",
      "397:\tlearn: 8.0747310\ttotal: 599ms\tremaining: 906ms\n",
      "398:\tlearn: 8.0728444\ttotal: 600ms\tremaining: 904ms\n",
      "399:\tlearn: 8.0704546\ttotal: 602ms\tremaining: 903ms\n",
      "400:\tlearn: 8.0684893\ttotal: 604ms\tremaining: 902ms\n",
      "401:\tlearn: 8.0668493\ttotal: 605ms\tremaining: 900ms\n",
      "402:\tlearn: 8.0646263\ttotal: 607ms\tremaining: 899ms\n",
      "403:\tlearn: 8.0622355\ttotal: 608ms\tremaining: 897ms\n",
      "404:\tlearn: 8.0604514\ttotal: 610ms\tremaining: 896ms\n",
      "405:\tlearn: 8.0579712\ttotal: 611ms\tremaining: 894ms\n",
      "406:\tlearn: 8.0561239\ttotal: 612ms\tremaining: 892ms\n",
      "407:\tlearn: 8.0537158\ttotal: 614ms\tremaining: 891ms\n",
      "408:\tlearn: 8.0508848\ttotal: 615ms\tremaining: 889ms\n",
      "409:\tlearn: 8.0487889\ttotal: 617ms\tremaining: 887ms\n",
      "410:\tlearn: 8.0465892\ttotal: 618ms\tremaining: 886ms\n",
      "411:\tlearn: 8.0449851\ttotal: 620ms\tremaining: 885ms\n",
      "412:\tlearn: 8.0424945\ttotal: 622ms\tremaining: 884ms\n",
      "413:\tlearn: 8.0405125\ttotal: 623ms\tremaining: 882ms\n",
      "414:\tlearn: 8.0387853\ttotal: 625ms\tremaining: 881ms\n",
      "415:\tlearn: 8.0369090\ttotal: 626ms\tremaining: 879ms\n",
      "416:\tlearn: 8.0348129\ttotal: 628ms\tremaining: 878ms\n",
      "417:\tlearn: 8.0329891\ttotal: 629ms\tremaining: 876ms\n",
      "418:\tlearn: 8.0311912\ttotal: 631ms\tremaining: 874ms\n",
      "419:\tlearn: 8.0292075\ttotal: 632ms\tremaining: 873ms\n",
      "420:\tlearn: 8.0267922\ttotal: 634ms\tremaining: 872ms\n",
      "421:\tlearn: 8.0238712\ttotal: 635ms\tremaining: 870ms\n",
      "422:\tlearn: 8.0214681\ttotal: 637ms\tremaining: 869ms\n",
      "423:\tlearn: 8.0205897\ttotal: 638ms\tremaining: 867ms\n",
      "424:\tlearn: 8.0186518\ttotal: 640ms\tremaining: 866ms\n",
      "425:\tlearn: 8.0165696\ttotal: 641ms\tremaining: 864ms\n",
      "426:\tlearn: 8.0150207\ttotal: 643ms\tremaining: 862ms\n",
      "427:\tlearn: 8.0129497\ttotal: 644ms\tremaining: 861ms\n",
      "428:\tlearn: 8.0110921\ttotal: 645ms\tremaining: 859ms\n",
      "429:\tlearn: 8.0094552\ttotal: 647ms\tremaining: 858ms\n",
      "430:\tlearn: 8.0080148\ttotal: 649ms\tremaining: 857ms\n",
      "431:\tlearn: 8.0052527\ttotal: 651ms\tremaining: 855ms\n",
      "432:\tlearn: 8.0033735\ttotal: 652ms\tremaining: 854ms\n",
      "433:\tlearn: 8.0011676\ttotal: 654ms\tremaining: 852ms\n",
      "434:\tlearn: 7.9992830\ttotal: 655ms\tremaining: 851ms\n",
      "435:\tlearn: 7.9975182\ttotal: 656ms\tremaining: 849ms\n",
      "436:\tlearn: 7.9952886\ttotal: 658ms\tremaining: 847ms\n",
      "437:\tlearn: 7.9924332\ttotal: 659ms\tremaining: 846ms\n",
      "438:\tlearn: 7.9894222\ttotal: 661ms\tremaining: 844ms\n",
      "439:\tlearn: 7.9885946\ttotal: 662ms\tremaining: 843ms\n",
      "440:\tlearn: 7.9860980\ttotal: 664ms\tremaining: 842ms\n",
      "441:\tlearn: 7.9843817\ttotal: 666ms\tremaining: 841ms\n",
      "442:\tlearn: 7.9829007\ttotal: 667ms\tremaining: 839ms\n",
      "443:\tlearn: 7.9808641\ttotal: 669ms\tremaining: 837ms\n",
      "444:\tlearn: 7.9783128\ttotal: 670ms\tremaining: 836ms\n",
      "445:\tlearn: 7.9765397\ttotal: 672ms\tremaining: 834ms\n",
      "446:\tlearn: 7.9754399\ttotal: 673ms\tremaining: 833ms\n",
      "447:\tlearn: 7.9733816\ttotal: 675ms\tremaining: 831ms\n",
      "448:\tlearn: 7.9717637\ttotal: 676ms\tremaining: 829ms\n",
      "449:\tlearn: 7.9702708\ttotal: 677ms\tremaining: 828ms\n"
     ]
    },
    {
     "name": "stdout",
     "output_type": "stream",
     "text": [
      "450:\tlearn: 7.9684934\ttotal: 680ms\tremaining: 827ms\n",
      "451:\tlearn: 7.9664145\ttotal: 682ms\tremaining: 826ms\n",
      "452:\tlearn: 7.9651313\ttotal: 683ms\tremaining: 825ms\n",
      "453:\tlearn: 7.9639292\ttotal: 685ms\tremaining: 823ms\n",
      "454:\tlearn: 7.9621946\ttotal: 686ms\tremaining: 822ms\n",
      "455:\tlearn: 7.9599505\ttotal: 688ms\tremaining: 820ms\n",
      "456:\tlearn: 7.9573369\ttotal: 689ms\tremaining: 819ms\n",
      "457:\tlearn: 7.9546598\ttotal: 690ms\tremaining: 817ms\n",
      "458:\tlearn: 7.9527448\ttotal: 692ms\tremaining: 816ms\n",
      "459:\tlearn: 7.9514122\ttotal: 693ms\tremaining: 814ms\n",
      "460:\tlearn: 7.9494974\ttotal: 695ms\tremaining: 813ms\n",
      "461:\tlearn: 7.9473695\ttotal: 697ms\tremaining: 811ms\n",
      "462:\tlearn: 7.9455981\ttotal: 698ms\tremaining: 810ms\n",
      "463:\tlearn: 7.9442308\ttotal: 700ms\tremaining: 809ms\n",
      "464:\tlearn: 7.9422607\ttotal: 702ms\tremaining: 807ms\n",
      "465:\tlearn: 7.9407321\ttotal: 703ms\tremaining: 806ms\n",
      "466:\tlearn: 7.9391298\ttotal: 705ms\tremaining: 804ms\n",
      "467:\tlearn: 7.9375125\ttotal: 706ms\tremaining: 803ms\n",
      "468:\tlearn: 7.9358636\ttotal: 708ms\tremaining: 801ms\n",
      "469:\tlearn: 7.9337534\ttotal: 709ms\tremaining: 800ms\n",
      "470:\tlearn: 7.9314940\ttotal: 711ms\tremaining: 799ms\n",
      "471:\tlearn: 7.9293922\ttotal: 713ms\tremaining: 797ms\n",
      "472:\tlearn: 7.9274022\ttotal: 714ms\tremaining: 796ms\n",
      "473:\tlearn: 7.9257915\ttotal: 716ms\tremaining: 794ms\n",
      "474:\tlearn: 7.9246525\ttotal: 717ms\tremaining: 793ms\n",
      "475:\tlearn: 7.9222747\ttotal: 719ms\tremaining: 791ms\n",
      "476:\tlearn: 7.9208073\ttotal: 720ms\tremaining: 790ms\n",
      "477:\tlearn: 7.9192427\ttotal: 722ms\tremaining: 788ms\n",
      "478:\tlearn: 7.9169036\ttotal: 723ms\tremaining: 786ms\n",
      "479:\tlearn: 7.9145722\ttotal: 725ms\tremaining: 785ms\n",
      "480:\tlearn: 7.9126908\ttotal: 726ms\tremaining: 784ms\n",
      "481:\tlearn: 7.9115402\ttotal: 728ms\tremaining: 782ms\n",
      "482:\tlearn: 7.9095161\ttotal: 729ms\tremaining: 781ms\n",
      "483:\tlearn: 7.9081050\ttotal: 731ms\tremaining: 779ms\n",
      "484:\tlearn: 7.9067501\ttotal: 732ms\tremaining: 777ms\n",
      "485:\tlearn: 7.9056611\ttotal: 734ms\tremaining: 776ms\n",
      "486:\tlearn: 7.9039656\ttotal: 735ms\tremaining: 774ms\n",
      "487:\tlearn: 7.9028560\ttotal: 737ms\tremaining: 773ms\n",
      "488:\tlearn: 7.9007277\ttotal: 738ms\tremaining: 771ms\n",
      "489:\tlearn: 7.8997408\ttotal: 739ms\tremaining: 770ms\n",
      "490:\tlearn: 7.8976931\ttotal: 741ms\tremaining: 768ms\n",
      "491:\tlearn: 7.8962589\ttotal: 743ms\tremaining: 767ms\n",
      "492:\tlearn: 7.8949746\ttotal: 744ms\tremaining: 765ms\n",
      "493:\tlearn: 7.8935529\ttotal: 746ms\tremaining: 764ms\n",
      "494:\tlearn: 7.8907434\ttotal: 747ms\tremaining: 762ms\n",
      "495:\tlearn: 7.8892399\ttotal: 748ms\tremaining: 761ms\n",
      "496:\tlearn: 7.8884769\ttotal: 750ms\tremaining: 759ms\n",
      "497:\tlearn: 7.8868868\ttotal: 751ms\tremaining: 757ms\n",
      "498:\tlearn: 7.8857914\ttotal: 753ms\tremaining: 756ms\n",
      "499:\tlearn: 7.8841785\ttotal: 754ms\tremaining: 754ms\n",
      "500:\tlearn: 7.8827658\ttotal: 756ms\tremaining: 753ms\n",
      "501:\tlearn: 7.8811604\ttotal: 758ms\tremaining: 752ms\n",
      "502:\tlearn: 7.8789166\ttotal: 759ms\tremaining: 750ms\n",
      "503:\tlearn: 7.8769477\ttotal: 761ms\tremaining: 749ms\n",
      "504:\tlearn: 7.8760206\ttotal: 762ms\tremaining: 747ms\n",
      "505:\tlearn: 7.8743687\ttotal: 764ms\tremaining: 745ms\n",
      "506:\tlearn: 7.8733118\ttotal: 765ms\tremaining: 744ms\n",
      "507:\tlearn: 7.8718107\ttotal: 766ms\tremaining: 742ms\n",
      "508:\tlearn: 7.8703677\ttotal: 768ms\tremaining: 740ms\n",
      "509:\tlearn: 7.8693370\ttotal: 769ms\tremaining: 739ms\n",
      "510:\tlearn: 7.8675807\ttotal: 771ms\tremaining: 738ms\n",
      "511:\tlearn: 7.8663399\ttotal: 772ms\tremaining: 736ms\n",
      "512:\tlearn: 7.8652679\ttotal: 774ms\tremaining: 735ms\n",
      "513:\tlearn: 7.8628598\ttotal: 775ms\tremaining: 733ms\n",
      "514:\tlearn: 7.8615432\ttotal: 777ms\tremaining: 731ms\n",
      "515:\tlearn: 7.8599409\ttotal: 778ms\tremaining: 730ms\n",
      "516:\tlearn: 7.8585839\ttotal: 780ms\tremaining: 728ms\n",
      "517:\tlearn: 7.8573984\ttotal: 781ms\tremaining: 727ms\n",
      "518:\tlearn: 7.8558239\ttotal: 782ms\tremaining: 725ms\n",
      "519:\tlearn: 7.8541587\ttotal: 784ms\tremaining: 724ms\n",
      "520:\tlearn: 7.8520063\ttotal: 785ms\tremaining: 722ms\n",
      "521:\tlearn: 7.8497302\ttotal: 787ms\tremaining: 721ms\n",
      "522:\tlearn: 7.8485649\ttotal: 789ms\tremaining: 719ms\n",
      "523:\tlearn: 7.8470577\ttotal: 790ms\tremaining: 718ms\n",
      "524:\tlearn: 7.8457998\ttotal: 792ms\tremaining: 716ms\n",
      "525:\tlearn: 7.8438431\ttotal: 793ms\tremaining: 715ms\n",
      "526:\tlearn: 7.8428073\ttotal: 794ms\tremaining: 713ms\n",
      "527:\tlearn: 7.8409614\ttotal: 796ms\tremaining: 711ms\n",
      "528:\tlearn: 7.8394739\ttotal: 797ms\tremaining: 710ms\n",
      "529:\tlearn: 7.8382826\ttotal: 799ms\tremaining: 708ms\n",
      "530:\tlearn: 7.8362367\ttotal: 800ms\tremaining: 706ms\n",
      "531:\tlearn: 7.8345435\ttotal: 802ms\tremaining: 705ms\n",
      "532:\tlearn: 7.8331208\ttotal: 803ms\tremaining: 704ms\n",
      "533:\tlearn: 7.8315142\ttotal: 805ms\tremaining: 702ms\n",
      "534:\tlearn: 7.8302590\ttotal: 806ms\tremaining: 701ms\n",
      "535:\tlearn: 7.8290854\ttotal: 808ms\tremaining: 699ms\n",
      "536:\tlearn: 7.8257553\ttotal: 809ms\tremaining: 698ms\n",
      "537:\tlearn: 7.8244414\ttotal: 810ms\tremaining: 696ms\n",
      "538:\tlearn: 7.8230856\ttotal: 812ms\tremaining: 694ms\n",
      "539:\tlearn: 7.8210428\ttotal: 813ms\tremaining: 693ms\n",
      "540:\tlearn: 7.8194402\ttotal: 815ms\tremaining: 691ms\n",
      "541:\tlearn: 7.8174936\ttotal: 817ms\tremaining: 690ms\n",
      "542:\tlearn: 7.8164154\ttotal: 818ms\tremaining: 689ms\n",
      "543:\tlearn: 7.8155061\ttotal: 820ms\tremaining: 687ms\n",
      "544:\tlearn: 7.8143090\ttotal: 821ms\tremaining: 685ms\n",
      "545:\tlearn: 7.8129125\ttotal: 822ms\tremaining: 684ms\n",
      "546:\tlearn: 7.8114496\ttotal: 824ms\tremaining: 682ms\n",
      "547:\tlearn: 7.8103991\ttotal: 825ms\tremaining: 681ms\n",
      "548:\tlearn: 7.8088125\ttotal: 827ms\tremaining: 679ms\n",
      "549:\tlearn: 7.8071152\ttotal: 828ms\tremaining: 678ms\n",
      "550:\tlearn: 7.8064557\ttotal: 830ms\tremaining: 676ms\n",
      "551:\tlearn: 7.8050043\ttotal: 831ms\tremaining: 674ms\n",
      "552:\tlearn: 7.8036575\ttotal: 833ms\tremaining: 673ms\n",
      "553:\tlearn: 7.8026867\ttotal: 834ms\tremaining: 672ms\n",
      "554:\tlearn: 7.8014932\ttotal: 836ms\tremaining: 670ms\n",
      "555:\tlearn: 7.7999654\ttotal: 837ms\tremaining: 669ms\n",
      "556:\tlearn: 7.7994293\ttotal: 839ms\tremaining: 667ms\n",
      "557:\tlearn: 7.7974823\ttotal: 840ms\tremaining: 665ms\n",
      "558:\tlearn: 7.7958110\ttotal: 841ms\tremaining: 664ms\n",
      "559:\tlearn: 7.7938884\ttotal: 843ms\tremaining: 662ms\n",
      "560:\tlearn: 7.7925316\ttotal: 844ms\tremaining: 661ms\n",
      "561:\tlearn: 7.7915641\ttotal: 846ms\tremaining: 659ms\n",
      "562:\tlearn: 7.7903909\ttotal: 848ms\tremaining: 658ms\n",
      "563:\tlearn: 7.7889645\ttotal: 849ms\tremaining: 656ms\n",
      "564:\tlearn: 7.7874896\ttotal: 851ms\tremaining: 655ms\n",
      "565:\tlearn: 7.7860733\ttotal: 853ms\tremaining: 654ms\n",
      "566:\tlearn: 7.7846889\ttotal: 854ms\tremaining: 652ms\n",
      "567:\tlearn: 7.7836462\ttotal: 856ms\tremaining: 651ms\n",
      "568:\tlearn: 7.7826840\ttotal: 857ms\tremaining: 649ms\n",
      "569:\tlearn: 7.7811506\ttotal: 859ms\tremaining: 648ms\n",
      "570:\tlearn: 7.7795249\ttotal: 860ms\tremaining: 646ms\n",
      "571:\tlearn: 7.7779556\ttotal: 862ms\tremaining: 645ms\n",
      "572:\tlearn: 7.7764775\ttotal: 864ms\tremaining: 644ms\n",
      "573:\tlearn: 7.7754739\ttotal: 865ms\tremaining: 642ms\n",
      "574:\tlearn: 7.7744747\ttotal: 869ms\tremaining: 642ms\n",
      "575:\tlearn: 7.7728411\ttotal: 874ms\tremaining: 643ms\n",
      "576:\tlearn: 7.7713712\ttotal: 878ms\tremaining: 644ms\n",
      "577:\tlearn: 7.7703184\ttotal: 880ms\tremaining: 643ms\n",
      "578:\tlearn: 7.7687489\ttotal: 883ms\tremaining: 642ms\n",
      "579:\tlearn: 7.7666712\ttotal: 885ms\tremaining: 641ms\n",
      "580:\tlearn: 7.7656041\ttotal: 886ms\tremaining: 639ms\n",
      "581:\tlearn: 7.7644691\ttotal: 888ms\tremaining: 638ms\n",
      "582:\tlearn: 7.7634729\ttotal: 889ms\tremaining: 636ms\n",
      "583:\tlearn: 7.7617242\ttotal: 891ms\tremaining: 634ms\n",
      "584:\tlearn: 7.7607539\ttotal: 892ms\tremaining: 633ms\n",
      "585:\tlearn: 7.7600770\ttotal: 894ms\tremaining: 632ms\n",
      "586:\tlearn: 7.7585996\ttotal: 895ms\tremaining: 630ms\n",
      "587:\tlearn: 7.7565246\ttotal: 897ms\tremaining: 628ms\n",
      "588:\tlearn: 7.7554147\ttotal: 898ms\tremaining: 627ms\n",
      "589:\tlearn: 7.7545091\ttotal: 900ms\tremaining: 625ms\n",
      "590:\tlearn: 7.7521921\ttotal: 901ms\tremaining: 624ms\n",
      "591:\tlearn: 7.7509724\ttotal: 903ms\tremaining: 622ms\n",
      "592:\tlearn: 7.7499545\ttotal: 904ms\tremaining: 620ms\n",
      "593:\tlearn: 7.7486809\ttotal: 905ms\tremaining: 619ms\n",
      "594:\tlearn: 7.7477989\ttotal: 907ms\tremaining: 617ms\n",
      "595:\tlearn: 7.7461974\ttotal: 908ms\tremaining: 616ms\n",
      "596:\tlearn: 7.7444528\ttotal: 910ms\tremaining: 614ms\n",
      "597:\tlearn: 7.7431616\ttotal: 911ms\tremaining: 613ms\n",
      "598:\tlearn: 7.7415499\ttotal: 913ms\tremaining: 611ms\n",
      "599:\tlearn: 7.7402234\ttotal: 914ms\tremaining: 610ms\n",
      "600:\tlearn: 7.7388477\ttotal: 916ms\tremaining: 608ms\n",
      "601:\tlearn: 7.7379561\ttotal: 917ms\tremaining: 606ms\n",
      "602:\tlearn: 7.7363682\ttotal: 919ms\tremaining: 605ms\n",
      "603:\tlearn: 7.7352690\ttotal: 920ms\tremaining: 603ms\n",
      "604:\tlearn: 7.7340699\ttotal: 922ms\tremaining: 602ms\n",
      "605:\tlearn: 7.7319603\ttotal: 924ms\tremaining: 601ms\n",
      "606:\tlearn: 7.7315401\ttotal: 926ms\tremaining: 599ms\n",
      "607:\tlearn: 7.7304326\ttotal: 927ms\tremaining: 598ms\n",
      "608:\tlearn: 7.7293786\ttotal: 929ms\tremaining: 596ms\n",
      "609:\tlearn: 7.7281358\ttotal: 931ms\tremaining: 595ms\n",
      "610:\tlearn: 7.7267913\ttotal: 932ms\tremaining: 593ms\n",
      "611:\tlearn: 7.7244349\ttotal: 934ms\tremaining: 592ms\n",
      "612:\tlearn: 7.7229928\ttotal: 935ms\tremaining: 590ms\n",
      "613:\tlearn: 7.7209288\ttotal: 937ms\tremaining: 589ms\n",
      "614:\tlearn: 7.7192414\ttotal: 938ms\tremaining: 587ms\n",
      "615:\tlearn: 7.7180459\ttotal: 940ms\tremaining: 586ms\n",
      "616:\tlearn: 7.7164244\ttotal: 942ms\tremaining: 584ms\n",
      "617:\tlearn: 7.7150087\ttotal: 943ms\tremaining: 583ms\n",
      "618:\tlearn: 7.7135056\ttotal: 944ms\tremaining: 581ms\n",
      "619:\tlearn: 7.7122087\ttotal: 946ms\tremaining: 580ms\n",
      "620:\tlearn: 7.7106035\ttotal: 948ms\tremaining: 578ms\n",
      "621:\tlearn: 7.7093394\ttotal: 949ms\tremaining: 577ms\n",
      "622:\tlearn: 7.7082477\ttotal: 951ms\tremaining: 575ms\n",
      "623:\tlearn: 7.7067497\ttotal: 953ms\tremaining: 574ms\n",
      "624:\tlearn: 7.7046186\ttotal: 955ms\tremaining: 573ms\n",
      "625:\tlearn: 7.7026337\ttotal: 956ms\tremaining: 571ms\n",
      "626:\tlearn: 7.7012257\ttotal: 958ms\tremaining: 570ms\n",
      "627:\tlearn: 7.6999972\ttotal: 959ms\tremaining: 568ms\n",
      "628:\tlearn: 7.6986094\ttotal: 961ms\tremaining: 567ms\n",
      "629:\tlearn: 7.6958572\ttotal: 963ms\tremaining: 566ms\n",
      "630:\tlearn: 7.6945767\ttotal: 965ms\tremaining: 564ms\n",
      "631:\tlearn: 7.6931921\ttotal: 966ms\tremaining: 562ms\n",
      "632:\tlearn: 7.6913936\ttotal: 968ms\tremaining: 561ms\n",
      "633:\tlearn: 7.6903156\ttotal: 970ms\tremaining: 560ms\n",
      "634:\tlearn: 7.6893522\ttotal: 971ms\tremaining: 558ms\n",
      "635:\tlearn: 7.6886235\ttotal: 973ms\tremaining: 557ms\n",
      "636:\tlearn: 7.6874464\ttotal: 975ms\tremaining: 555ms\n",
      "637:\tlearn: 7.6855728\ttotal: 976ms\tremaining: 554ms\n",
      "638:\tlearn: 7.6844448\ttotal: 978ms\tremaining: 552ms\n",
      "639:\tlearn: 7.6835277\ttotal: 979ms\tremaining: 551ms\n",
      "640:\tlearn: 7.6827719\ttotal: 981ms\tremaining: 549ms\n",
      "641:\tlearn: 7.6808850\ttotal: 982ms\tremaining: 548ms\n",
      "642:\tlearn: 7.6801447\ttotal: 983ms\tremaining: 546ms\n",
      "643:\tlearn: 7.6786713\ttotal: 985ms\tremaining: 545ms\n",
      "644:\tlearn: 7.6774346\ttotal: 987ms\tremaining: 543ms\n",
      "645:\tlearn: 7.6753214\ttotal: 988ms\tremaining: 542ms\n",
      "646:\tlearn: 7.6744964\ttotal: 990ms\tremaining: 540ms\n",
      "647:\tlearn: 7.6728481\ttotal: 991ms\tremaining: 538ms\n",
      "648:\tlearn: 7.6711408\ttotal: 993ms\tremaining: 537ms\n",
      "649:\tlearn: 7.6693440\ttotal: 994ms\tremaining: 535ms\n",
      "650:\tlearn: 7.6683082\ttotal: 996ms\tremaining: 534ms\n",
      "651:\tlearn: 7.6674383\ttotal: 998ms\tremaining: 532ms\n",
      "652:\tlearn: 7.6664689\ttotal: 1000ms\tremaining: 531ms\n",
      "653:\tlearn: 7.6655498\ttotal: 1s\tremaining: 530ms\n",
      "654:\tlearn: 7.6645726\ttotal: 1s\tremaining: 528ms\n",
      "655:\tlearn: 7.6627829\ttotal: 1s\tremaining: 527ms\n",
      "656:\tlearn: 7.6617146\ttotal: 1.01s\tremaining: 525ms\n",
      "657:\tlearn: 7.6596729\ttotal: 1.01s\tremaining: 524ms\n",
      "658:\tlearn: 7.6588793\ttotal: 1.01s\tremaining: 522ms\n",
      "659:\tlearn: 7.6574318\ttotal: 1.01s\tremaining: 521ms\n",
      "660:\tlearn: 7.6545327\ttotal: 1.01s\tremaining: 519ms\n",
      "661:\tlearn: 7.6537747\ttotal: 1.01s\tremaining: 518ms\n",
      "662:\tlearn: 7.6527253\ttotal: 1.01s\tremaining: 516ms\n",
      "663:\tlearn: 7.6511016\ttotal: 1.02s\tremaining: 515ms\n",
      "664:\tlearn: 7.6504793\ttotal: 1.02s\tremaining: 513ms\n",
      "665:\tlearn: 7.6490322\ttotal: 1.02s\tremaining: 512ms\n",
      "666:\tlearn: 7.6483436\ttotal: 1.02s\tremaining: 510ms\n",
      "667:\tlearn: 7.6472475\ttotal: 1.02s\tremaining: 509ms\n",
      "668:\tlearn: 7.6452577\ttotal: 1.03s\tremaining: 508ms\n"
     ]
    },
    {
     "name": "stdout",
     "output_type": "stream",
     "text": [
      "669:\tlearn: 7.6441705\ttotal: 1.03s\tremaining: 506ms\n",
      "670:\tlearn: 7.6431672\ttotal: 1.03s\tremaining: 505ms\n",
      "671:\tlearn: 7.6421274\ttotal: 1.03s\tremaining: 504ms\n",
      "672:\tlearn: 7.6410597\ttotal: 1.03s\tremaining: 502ms\n",
      "673:\tlearn: 7.6399392\ttotal: 1.03s\tremaining: 501ms\n",
      "674:\tlearn: 7.6385593\ttotal: 1.04s\tremaining: 499ms\n",
      "675:\tlearn: 7.6377016\ttotal: 1.04s\tremaining: 498ms\n",
      "676:\tlearn: 7.6367822\ttotal: 1.04s\tremaining: 496ms\n",
      "677:\tlearn: 7.6351588\ttotal: 1.04s\tremaining: 495ms\n",
      "678:\tlearn: 7.6339246\ttotal: 1.04s\tremaining: 494ms\n",
      "679:\tlearn: 7.6330284\ttotal: 1.05s\tremaining: 492ms\n",
      "680:\tlearn: 7.6322057\ttotal: 1.05s\tremaining: 491ms\n",
      "681:\tlearn: 7.6307282\ttotal: 1.05s\tremaining: 489ms\n",
      "682:\tlearn: 7.6298577\ttotal: 1.05s\tremaining: 488ms\n",
      "683:\tlearn: 7.6284745\ttotal: 1.05s\tremaining: 486ms\n",
      "684:\tlearn: 7.6271209\ttotal: 1.05s\tremaining: 485ms\n",
      "685:\tlearn: 7.6254819\ttotal: 1.06s\tremaining: 484ms\n",
      "686:\tlearn: 7.6238857\ttotal: 1.06s\tremaining: 483ms\n",
      "687:\tlearn: 7.6224687\ttotal: 1.06s\tremaining: 481ms\n",
      "688:\tlearn: 7.6212173\ttotal: 1.06s\tremaining: 480ms\n",
      "689:\tlearn: 7.6204941\ttotal: 1.06s\tremaining: 479ms\n",
      "690:\tlearn: 7.6183040\ttotal: 1.07s\tremaining: 477ms\n",
      "691:\tlearn: 7.6166756\ttotal: 1.07s\tremaining: 476ms\n",
      "692:\tlearn: 7.6158715\ttotal: 1.07s\tremaining: 474ms\n",
      "693:\tlearn: 7.6149560\ttotal: 1.07s\tremaining: 473ms\n",
      "694:\tlearn: 7.6137166\ttotal: 1.07s\tremaining: 471ms\n",
      "695:\tlearn: 7.6122660\ttotal: 1.07s\tremaining: 470ms\n",
      "696:\tlearn: 7.6113283\ttotal: 1.08s\tremaining: 468ms\n",
      "697:\tlearn: 7.6097629\ttotal: 1.08s\tremaining: 467ms\n",
      "698:\tlearn: 7.6088527\ttotal: 1.08s\tremaining: 465ms\n",
      "699:\tlearn: 7.6078615\ttotal: 1.08s\tremaining: 464ms\n",
      "700:\tlearn: 7.6063755\ttotal: 1.08s\tremaining: 462ms\n",
      "701:\tlearn: 7.6051960\ttotal: 1.08s\tremaining: 461ms\n",
      "702:\tlearn: 7.6043110\ttotal: 1.09s\tremaining: 459ms\n",
      "703:\tlearn: 7.6031807\ttotal: 1.09s\tremaining: 458ms\n",
      "704:\tlearn: 7.6021092\ttotal: 1.09s\tremaining: 457ms\n",
      "705:\tlearn: 7.6013608\ttotal: 1.09s\tremaining: 456ms\n",
      "706:\tlearn: 7.5991492\ttotal: 1.09s\tremaining: 454ms\n",
      "707:\tlearn: 7.5974022\ttotal: 1.1s\tremaining: 453ms\n",
      "708:\tlearn: 7.5954543\ttotal: 1.1s\tremaining: 451ms\n",
      "709:\tlearn: 7.5940055\ttotal: 1.1s\tremaining: 450ms\n",
      "710:\tlearn: 7.5924708\ttotal: 1.1s\tremaining: 448ms\n",
      "711:\tlearn: 7.5909968\ttotal: 1.1s\tremaining: 447ms\n",
      "712:\tlearn: 7.5899835\ttotal: 1.11s\tremaining: 445ms\n",
      "713:\tlearn: 7.5891660\ttotal: 1.11s\tremaining: 444ms\n",
      "714:\tlearn: 7.5873490\ttotal: 1.11s\tremaining: 442ms\n",
      "715:\tlearn: 7.5862793\ttotal: 1.11s\tremaining: 441ms\n",
      "716:\tlearn: 7.5852754\ttotal: 1.11s\tremaining: 440ms\n",
      "717:\tlearn: 7.5833049\ttotal: 1.12s\tremaining: 438ms\n",
      "718:\tlearn: 7.5822675\ttotal: 1.12s\tremaining: 437ms\n",
      "719:\tlearn: 7.5811054\ttotal: 1.12s\tremaining: 435ms\n",
      "720:\tlearn: 7.5799569\ttotal: 1.12s\tremaining: 434ms\n",
      "721:\tlearn: 7.5788614\ttotal: 1.12s\tremaining: 433ms\n",
      "722:\tlearn: 7.5777275\ttotal: 1.13s\tremaining: 431ms\n",
      "723:\tlearn: 7.5769003\ttotal: 1.13s\tremaining: 430ms\n",
      "724:\tlearn: 7.5757203\ttotal: 1.13s\tremaining: 428ms\n",
      "725:\tlearn: 7.5747304\ttotal: 1.13s\tremaining: 427ms\n",
      "726:\tlearn: 7.5734084\ttotal: 1.13s\tremaining: 425ms\n",
      "727:\tlearn: 7.5725892\ttotal: 1.13s\tremaining: 424ms\n",
      "728:\tlearn: 7.5714626\ttotal: 1.14s\tremaining: 422ms\n",
      "729:\tlearn: 7.5701620\ttotal: 1.14s\tremaining: 421ms\n",
      "730:\tlearn: 7.5684977\ttotal: 1.14s\tremaining: 419ms\n",
      "731:\tlearn: 7.5675511\ttotal: 1.14s\tremaining: 418ms\n",
      "732:\tlearn: 7.5666660\ttotal: 1.14s\tremaining: 416ms\n",
      "733:\tlearn: 7.5658568\ttotal: 1.14s\tremaining: 414ms\n",
      "734:\tlearn: 7.5652663\ttotal: 1.15s\tremaining: 413ms\n",
      "735:\tlearn: 7.5644695\ttotal: 1.15s\tremaining: 412ms\n",
      "736:\tlearn: 7.5632784\ttotal: 1.15s\tremaining: 410ms\n",
      "737:\tlearn: 7.5618736\ttotal: 1.15s\tremaining: 409ms\n",
      "738:\tlearn: 7.5604266\ttotal: 1.15s\tremaining: 408ms\n",
      "739:\tlearn: 7.5597492\ttotal: 1.16s\tremaining: 406ms\n",
      "740:\tlearn: 7.5582485\ttotal: 1.16s\tremaining: 405ms\n",
      "741:\tlearn: 7.5570882\ttotal: 1.16s\tremaining: 403ms\n",
      "742:\tlearn: 7.5560755\ttotal: 1.16s\tremaining: 401ms\n",
      "743:\tlearn: 7.5548374\ttotal: 1.16s\tremaining: 400ms\n",
      "744:\tlearn: 7.5535623\ttotal: 1.16s\tremaining: 398ms\n",
      "745:\tlearn: 7.5527069\ttotal: 1.17s\tremaining: 397ms\n",
      "746:\tlearn: 7.5514120\ttotal: 1.17s\tremaining: 395ms\n",
      "747:\tlearn: 7.5506965\ttotal: 1.17s\tremaining: 394ms\n",
      "748:\tlearn: 7.5489069\ttotal: 1.17s\tremaining: 392ms\n",
      "749:\tlearn: 7.5476148\ttotal: 1.17s\tremaining: 391ms\n",
      "750:\tlearn: 7.5462770\ttotal: 1.17s\tremaining: 389ms\n",
      "751:\tlearn: 7.5452907\ttotal: 1.17s\tremaining: 387ms\n",
      "752:\tlearn: 7.5441245\ttotal: 1.18s\tremaining: 386ms\n",
      "753:\tlearn: 7.5429167\ttotal: 1.18s\tremaining: 385ms\n",
      "754:\tlearn: 7.5412828\ttotal: 1.18s\tremaining: 383ms\n",
      "755:\tlearn: 7.5402956\ttotal: 1.18s\tremaining: 382ms\n",
      "756:\tlearn: 7.5392374\ttotal: 1.18s\tremaining: 380ms\n",
      "757:\tlearn: 7.5384728\ttotal: 1.19s\tremaining: 379ms\n",
      "758:\tlearn: 7.5363144\ttotal: 1.19s\tremaining: 377ms\n",
      "759:\tlearn: 7.5345838\ttotal: 1.19s\tremaining: 376ms\n",
      "760:\tlearn: 7.5334138\ttotal: 1.19s\tremaining: 375ms\n",
      "761:\tlearn: 7.5323956\ttotal: 1.2s\tremaining: 373ms\n",
      "762:\tlearn: 7.5317565\ttotal: 1.2s\tremaining: 372ms\n",
      "763:\tlearn: 7.5305490\ttotal: 1.2s\tremaining: 370ms\n",
      "764:\tlearn: 7.5292576\ttotal: 1.2s\tremaining: 369ms\n",
      "765:\tlearn: 7.5280958\ttotal: 1.2s\tremaining: 367ms\n",
      "766:\tlearn: 7.5267830\ttotal: 1.2s\tremaining: 366ms\n",
      "767:\tlearn: 7.5256042\ttotal: 1.21s\tremaining: 364ms\n",
      "768:\tlearn: 7.5245899\ttotal: 1.21s\tremaining: 362ms\n",
      "769:\tlearn: 7.5230022\ttotal: 1.21s\tremaining: 361ms\n",
      "770:\tlearn: 7.5211866\ttotal: 1.21s\tremaining: 360ms\n",
      "771:\tlearn: 7.5205381\ttotal: 1.21s\tremaining: 358ms\n",
      "772:\tlearn: 7.5193268\ttotal: 1.22s\tremaining: 357ms\n",
      "773:\tlearn: 7.5181519\ttotal: 1.22s\tremaining: 356ms\n",
      "774:\tlearn: 7.5167802\ttotal: 1.22s\tremaining: 354ms\n",
      "775:\tlearn: 7.5151812\ttotal: 1.22s\tremaining: 353ms\n",
      "776:\tlearn: 7.5137074\ttotal: 1.23s\tremaining: 352ms\n",
      "777:\tlearn: 7.5127408\ttotal: 1.23s\tremaining: 350ms\n",
      "778:\tlearn: 7.5116231\ttotal: 1.23s\tremaining: 349ms\n",
      "779:\tlearn: 7.5112050\ttotal: 1.23s\tremaining: 347ms\n",
      "780:\tlearn: 7.5105928\ttotal: 1.23s\tremaining: 346ms\n",
      "781:\tlearn: 7.5090581\ttotal: 1.23s\tremaining: 344ms\n",
      "782:\tlearn: 7.5076679\ttotal: 1.24s\tremaining: 343ms\n",
      "783:\tlearn: 7.5070801\ttotal: 1.24s\tremaining: 341ms\n",
      "784:\tlearn: 7.5057771\ttotal: 1.24s\tremaining: 340ms\n",
      "785:\tlearn: 7.5047129\ttotal: 1.24s\tremaining: 338ms\n",
      "786:\tlearn: 7.5035401\ttotal: 1.24s\tremaining: 337ms\n",
      "787:\tlearn: 7.5025155\ttotal: 1.25s\tremaining: 335ms\n",
      "788:\tlearn: 7.5015278\ttotal: 1.25s\tremaining: 334ms\n",
      "789:\tlearn: 7.5000422\ttotal: 1.25s\tremaining: 332ms\n",
      "790:\tlearn: 7.4993098\ttotal: 1.25s\tremaining: 330ms\n",
      "791:\tlearn: 7.4980451\ttotal: 1.25s\tremaining: 329ms\n",
      "792:\tlearn: 7.4970614\ttotal: 1.25s\tremaining: 328ms\n",
      "793:\tlearn: 7.4949783\ttotal: 1.26s\tremaining: 326ms\n",
      "794:\tlearn: 7.4941171\ttotal: 1.26s\tremaining: 325ms\n",
      "795:\tlearn: 7.4927929\ttotal: 1.26s\tremaining: 323ms\n",
      "796:\tlearn: 7.4920554\ttotal: 1.26s\tremaining: 322ms\n",
      "797:\tlearn: 7.4914497\ttotal: 1.26s\tremaining: 320ms\n",
      "798:\tlearn: 7.4908376\ttotal: 1.27s\tremaining: 319ms\n",
      "799:\tlearn: 7.4899561\ttotal: 1.27s\tremaining: 317ms\n",
      "800:\tlearn: 7.4892081\ttotal: 1.27s\tremaining: 316ms\n",
      "801:\tlearn: 7.4879265\ttotal: 1.27s\tremaining: 314ms\n",
      "802:\tlearn: 7.4858413\ttotal: 1.27s\tremaining: 312ms\n",
      "803:\tlearn: 7.4844168\ttotal: 1.27s\tremaining: 311ms\n",
      "804:\tlearn: 7.4835105\ttotal: 1.28s\tremaining: 309ms\n",
      "805:\tlearn: 7.4817326\ttotal: 1.28s\tremaining: 308ms\n",
      "806:\tlearn: 7.4812225\ttotal: 1.28s\tremaining: 306ms\n",
      "807:\tlearn: 7.4798675\ttotal: 1.28s\tremaining: 305ms\n",
      "808:\tlearn: 7.4789717\ttotal: 1.28s\tremaining: 303ms\n",
      "809:\tlearn: 7.4781467\ttotal: 1.28s\tremaining: 302ms\n",
      "810:\tlearn: 7.4759391\ttotal: 1.29s\tremaining: 300ms\n",
      "811:\tlearn: 7.4753549\ttotal: 1.29s\tremaining: 298ms\n",
      "812:\tlearn: 7.4749086\ttotal: 1.29s\tremaining: 297ms\n",
      "813:\tlearn: 7.4744550\ttotal: 1.29s\tremaining: 295ms\n",
      "814:\tlearn: 7.4733906\ttotal: 1.29s\tremaining: 294ms\n",
      "815:\tlearn: 7.4715361\ttotal: 1.29s\tremaining: 292ms\n",
      "816:\tlearn: 7.4702381\ttotal: 1.3s\tremaining: 290ms\n",
      "817:\tlearn: 7.4696879\ttotal: 1.3s\tremaining: 289ms\n",
      "818:\tlearn: 7.4684771\ttotal: 1.3s\tremaining: 287ms\n",
      "819:\tlearn: 7.4678075\ttotal: 1.3s\tremaining: 286ms\n",
      "820:\tlearn: 7.4666834\ttotal: 1.3s\tremaining: 284ms\n",
      "821:\tlearn: 7.4659078\ttotal: 1.3s\tremaining: 283ms\n",
      "822:\tlearn: 7.4649863\ttotal: 1.31s\tremaining: 281ms\n",
      "823:\tlearn: 7.4637746\ttotal: 1.31s\tremaining: 280ms\n",
      "824:\tlearn: 7.4628232\ttotal: 1.31s\tremaining: 278ms\n",
      "825:\tlearn: 7.4617050\ttotal: 1.31s\tremaining: 276ms\n",
      "826:\tlearn: 7.4609965\ttotal: 1.31s\tremaining: 275ms\n",
      "827:\tlearn: 7.4600937\ttotal: 1.32s\tremaining: 273ms\n",
      "828:\tlearn: 7.4595288\ttotal: 1.32s\tremaining: 272ms\n",
      "829:\tlearn: 7.4586751\ttotal: 1.32s\tremaining: 270ms\n",
      "830:\tlearn: 7.4577146\ttotal: 1.32s\tremaining: 269ms\n",
      "831:\tlearn: 7.4565328\ttotal: 1.32s\tremaining: 267ms\n",
      "832:\tlearn: 7.4562345\ttotal: 1.32s\tremaining: 266ms\n",
      "833:\tlearn: 7.4547877\ttotal: 1.33s\tremaining: 264ms\n",
      "834:\tlearn: 7.4530463\ttotal: 1.33s\tremaining: 262ms\n",
      "835:\tlearn: 7.4525904\ttotal: 1.33s\tremaining: 261ms\n",
      "836:\tlearn: 7.4518104\ttotal: 1.33s\tremaining: 259ms\n",
      "837:\tlearn: 7.4511004\ttotal: 1.33s\tremaining: 258ms\n",
      "838:\tlearn: 7.4501015\ttotal: 1.33s\tremaining: 256ms\n",
      "839:\tlearn: 7.4492615\ttotal: 1.34s\tremaining: 255ms\n",
      "840:\tlearn: 7.4485665\ttotal: 1.34s\tremaining: 253ms\n",
      "841:\tlearn: 7.4468750\ttotal: 1.34s\tremaining: 251ms\n",
      "842:\tlearn: 7.4457691\ttotal: 1.34s\tremaining: 250ms\n",
      "843:\tlearn: 7.4447290\ttotal: 1.34s\tremaining: 248ms\n",
      "844:\tlearn: 7.4432020\ttotal: 1.35s\tremaining: 247ms\n",
      "845:\tlearn: 7.4421438\ttotal: 1.35s\tremaining: 245ms\n",
      "846:\tlearn: 7.4409333\ttotal: 1.35s\tremaining: 244ms\n",
      "847:\tlearn: 7.4401436\ttotal: 1.35s\tremaining: 242ms\n",
      "848:\tlearn: 7.4377639\ttotal: 1.35s\tremaining: 241ms\n",
      "849:\tlearn: 7.4368504\ttotal: 1.35s\tremaining: 239ms\n",
      "850:\tlearn: 7.4364247\ttotal: 1.36s\tremaining: 237ms\n",
      "851:\tlearn: 7.4353504\ttotal: 1.36s\tremaining: 236ms\n"
     ]
    },
    {
     "name": "stdout",
     "output_type": "stream",
     "text": [
      "852:\tlearn: 7.4348632\ttotal: 1.36s\tremaining: 234ms\n",
      "853:\tlearn: 7.4340456\ttotal: 1.36s\tremaining: 233ms\n",
      "854:\tlearn: 7.4331707\ttotal: 1.36s\tremaining: 231ms\n",
      "855:\tlearn: 7.4325447\ttotal: 1.36s\tremaining: 230ms\n",
      "856:\tlearn: 7.4320131\ttotal: 1.37s\tremaining: 228ms\n",
      "857:\tlearn: 7.4307512\ttotal: 1.37s\tremaining: 227ms\n",
      "858:\tlearn: 7.4294652\ttotal: 1.37s\tremaining: 225ms\n",
      "859:\tlearn: 7.4286217\ttotal: 1.37s\tremaining: 224ms\n",
      "860:\tlearn: 7.4273675\ttotal: 1.38s\tremaining: 222ms\n",
      "861:\tlearn: 7.4260598\ttotal: 1.38s\tremaining: 221ms\n",
      "862:\tlearn: 7.4256023\ttotal: 1.38s\tremaining: 219ms\n",
      "863:\tlearn: 7.4249341\ttotal: 1.38s\tremaining: 217ms\n",
      "864:\tlearn: 7.4240115\ttotal: 1.38s\tremaining: 216ms\n",
      "865:\tlearn: 7.4235648\ttotal: 1.39s\tremaining: 214ms\n",
      "866:\tlearn: 7.4231123\ttotal: 1.39s\tremaining: 213ms\n",
      "867:\tlearn: 7.4227228\ttotal: 1.39s\tremaining: 211ms\n",
      "868:\tlearn: 7.4219798\ttotal: 1.39s\tremaining: 210ms\n",
      "869:\tlearn: 7.4208664\ttotal: 1.39s\tremaining: 208ms\n",
      "870:\tlearn: 7.4192875\ttotal: 1.4s\tremaining: 207ms\n",
      "871:\tlearn: 7.4186522\ttotal: 1.4s\tremaining: 205ms\n",
      "872:\tlearn: 7.4178417\ttotal: 1.4s\tremaining: 203ms\n",
      "873:\tlearn: 7.4159878\ttotal: 1.4s\tremaining: 202ms\n",
      "874:\tlearn: 7.4151347\ttotal: 1.4s\tremaining: 200ms\n",
      "875:\tlearn: 7.4140781\ttotal: 1.4s\tremaining: 199ms\n",
      "876:\tlearn: 7.4139136\ttotal: 1.41s\tremaining: 197ms\n",
      "877:\tlearn: 7.4122026\ttotal: 1.41s\tremaining: 196ms\n",
      "878:\tlearn: 7.4116096\ttotal: 1.41s\tremaining: 194ms\n",
      "879:\tlearn: 7.4109210\ttotal: 1.41s\tremaining: 192ms\n",
      "880:\tlearn: 7.4102068\ttotal: 1.41s\tremaining: 191ms\n",
      "881:\tlearn: 7.4090965\ttotal: 1.41s\tremaining: 189ms\n",
      "882:\tlearn: 7.4079574\ttotal: 1.42s\tremaining: 188ms\n",
      "883:\tlearn: 7.4068548\ttotal: 1.42s\tremaining: 186ms\n",
      "884:\tlearn: 7.4061754\ttotal: 1.42s\tremaining: 184ms\n",
      "885:\tlearn: 7.4052283\ttotal: 1.42s\tremaining: 183ms\n",
      "886:\tlearn: 7.4041477\ttotal: 1.42s\tremaining: 181ms\n",
      "887:\tlearn: 7.4026572\ttotal: 1.42s\tremaining: 180ms\n",
      "888:\tlearn: 7.4014072\ttotal: 1.43s\tremaining: 178ms\n",
      "889:\tlearn: 7.4005315\ttotal: 1.43s\tremaining: 176ms\n",
      "890:\tlearn: 7.3994098\ttotal: 1.43s\tremaining: 175ms\n",
      "891:\tlearn: 7.3986243\ttotal: 1.43s\tremaining: 173ms\n",
      "892:\tlearn: 7.3970069\ttotal: 1.43s\tremaining: 172ms\n",
      "893:\tlearn: 7.3958177\ttotal: 1.43s\tremaining: 170ms\n",
      "894:\tlearn: 7.3942605\ttotal: 1.44s\tremaining: 169ms\n",
      "895:\tlearn: 7.3932799\ttotal: 1.44s\tremaining: 167ms\n",
      "896:\tlearn: 7.3928987\ttotal: 1.44s\tremaining: 165ms\n",
      "897:\tlearn: 7.3918490\ttotal: 1.44s\tremaining: 164ms\n",
      "898:\tlearn: 7.3909902\ttotal: 1.44s\tremaining: 162ms\n",
      "899:\tlearn: 7.3902627\ttotal: 1.44s\tremaining: 161ms\n",
      "900:\tlearn: 7.3887832\ttotal: 1.45s\tremaining: 159ms\n",
      "901:\tlearn: 7.3879365\ttotal: 1.45s\tremaining: 157ms\n",
      "902:\tlearn: 7.3864653\ttotal: 1.45s\tremaining: 156ms\n",
      "903:\tlearn: 7.3850481\ttotal: 1.45s\tremaining: 154ms\n",
      "904:\tlearn: 7.3837471\ttotal: 1.45s\tremaining: 153ms\n",
      "905:\tlearn: 7.3833289\ttotal: 1.46s\tremaining: 151ms\n",
      "906:\tlearn: 7.3828937\ttotal: 1.46s\tremaining: 149ms\n",
      "907:\tlearn: 7.3817924\ttotal: 1.46s\tremaining: 148ms\n",
      "908:\tlearn: 7.3807260\ttotal: 1.46s\tremaining: 146ms\n",
      "909:\tlearn: 7.3794549\ttotal: 1.46s\tremaining: 145ms\n",
      "910:\tlearn: 7.3788375\ttotal: 1.46s\tremaining: 143ms\n",
      "911:\tlearn: 7.3773119\ttotal: 1.47s\tremaining: 141ms\n",
      "912:\tlearn: 7.3756364\ttotal: 1.47s\tremaining: 140ms\n",
      "913:\tlearn: 7.3747368\ttotal: 1.47s\tremaining: 138ms\n",
      "914:\tlearn: 7.3736801\ttotal: 1.47s\tremaining: 137ms\n",
      "915:\tlearn: 7.3724747\ttotal: 1.47s\tremaining: 135ms\n",
      "916:\tlearn: 7.3720676\ttotal: 1.47s\tremaining: 133ms\n",
      "917:\tlearn: 7.3712204\ttotal: 1.48s\tremaining: 132ms\n",
      "918:\tlearn: 7.3700841\ttotal: 1.48s\tremaining: 130ms\n",
      "919:\tlearn: 7.3697911\ttotal: 1.48s\tremaining: 129ms\n",
      "920:\tlearn: 7.3686580\ttotal: 1.48s\tremaining: 127ms\n",
      "921:\tlearn: 7.3676982\ttotal: 1.48s\tremaining: 125ms\n",
      "922:\tlearn: 7.3667094\ttotal: 1.48s\tremaining: 124ms\n",
      "923:\tlearn: 7.3654526\ttotal: 1.49s\tremaining: 122ms\n",
      "924:\tlearn: 7.3648896\ttotal: 1.49s\tremaining: 121ms\n",
      "925:\tlearn: 7.3633575\ttotal: 1.49s\tremaining: 119ms\n",
      "926:\tlearn: 7.3622197\ttotal: 1.49s\tremaining: 117ms\n",
      "927:\tlearn: 7.3618137\ttotal: 1.49s\tremaining: 116ms\n",
      "928:\tlearn: 7.3604508\ttotal: 1.5s\tremaining: 114ms\n",
      "929:\tlearn: 7.3595885\ttotal: 1.5s\tremaining: 113ms\n",
      "930:\tlearn: 7.3581783\ttotal: 1.5s\tremaining: 111ms\n",
      "931:\tlearn: 7.3565705\ttotal: 1.5s\tremaining: 109ms\n",
      "932:\tlearn: 7.3551598\ttotal: 1.5s\tremaining: 108ms\n",
      "933:\tlearn: 7.3546186\ttotal: 1.5s\tremaining: 106ms\n",
      "934:\tlearn: 7.3536825\ttotal: 1.5s\tremaining: 105ms\n",
      "935:\tlearn: 7.3531240\ttotal: 1.51s\tremaining: 103ms\n",
      "936:\tlearn: 7.3522617\ttotal: 1.51s\tremaining: 101ms\n",
      "937:\tlearn: 7.3513074\ttotal: 1.51s\tremaining: 99.9ms\n",
      "938:\tlearn: 7.3497948\ttotal: 1.51s\tremaining: 98.3ms\n",
      "939:\tlearn: 7.3487333\ttotal: 1.51s\tremaining: 96.6ms\n",
      "940:\tlearn: 7.3480330\ttotal: 1.51s\tremaining: 95ms\n",
      "941:\tlearn: 7.3465927\ttotal: 1.52s\tremaining: 93.4ms\n",
      "942:\tlearn: 7.3456367\ttotal: 1.52s\tremaining: 91.8ms\n",
      "943:\tlearn: 7.3448046\ttotal: 1.52s\tremaining: 90.2ms\n",
      "944:\tlearn: 7.3442077\ttotal: 1.52s\tremaining: 88.7ms\n",
      "945:\tlearn: 7.3438335\ttotal: 1.52s\tremaining: 87.1ms\n",
      "946:\tlearn: 7.3435386\ttotal: 1.53s\tremaining: 85.5ms\n",
      "947:\tlearn: 7.3425115\ttotal: 1.53s\tremaining: 83.9ms\n",
      "948:\tlearn: 7.3411196\ttotal: 1.53s\tremaining: 82.3ms\n",
      "949:\tlearn: 7.3407288\ttotal: 1.53s\tremaining: 80.7ms\n",
      "950:\tlearn: 7.3396790\ttotal: 1.53s\tremaining: 79.1ms\n",
      "951:\tlearn: 7.3389122\ttotal: 1.54s\tremaining: 77.5ms\n",
      "952:\tlearn: 7.3382665\ttotal: 1.54s\tremaining: 76ms\n",
      "953:\tlearn: 7.3377203\ttotal: 1.54s\tremaining: 74.4ms\n",
      "954:\tlearn: 7.3371158\ttotal: 1.54s\tremaining: 72.7ms\n",
      "955:\tlearn: 7.3356908\ttotal: 1.54s\tremaining: 71.2ms\n",
      "956:\tlearn: 7.3346807\ttotal: 1.55s\tremaining: 69.6ms\n",
      "957:\tlearn: 7.3340269\ttotal: 1.55s\tremaining: 68ms\n",
      "958:\tlearn: 7.3334706\ttotal: 1.55s\tremaining: 66.4ms\n",
      "959:\tlearn: 7.3324176\ttotal: 1.55s\tremaining: 64.8ms\n",
      "960:\tlearn: 7.3319200\ttotal: 1.56s\tremaining: 63.2ms\n",
      "961:\tlearn: 7.3314108\ttotal: 1.56s\tremaining: 61.6ms\n",
      "962:\tlearn: 7.3302151\ttotal: 1.56s\tremaining: 60ms\n",
      "963:\tlearn: 7.3288037\ttotal: 1.56s\tremaining: 58.3ms\n",
      "964:\tlearn: 7.3275966\ttotal: 1.56s\tremaining: 56.7ms\n",
      "965:\tlearn: 7.3268864\ttotal: 1.56s\tremaining: 55.1ms\n",
      "966:\tlearn: 7.3261490\ttotal: 1.57s\tremaining: 53.5ms\n",
      "967:\tlearn: 7.3248152\ttotal: 1.57s\tremaining: 51.9ms\n",
      "968:\tlearn: 7.3233267\ttotal: 1.57s\tremaining: 50.3ms\n",
      "969:\tlearn: 7.3226049\ttotal: 1.57s\tremaining: 48.7ms\n",
      "970:\tlearn: 7.3217721\ttotal: 1.57s\tremaining: 47ms\n",
      "971:\tlearn: 7.3212800\ttotal: 1.58s\tremaining: 45.4ms\n",
      "972:\tlearn: 7.3209676\ttotal: 1.58s\tremaining: 43.8ms\n",
      "973:\tlearn: 7.3205038\ttotal: 1.58s\tremaining: 42.2ms\n",
      "974:\tlearn: 7.3185788\ttotal: 1.58s\tremaining: 40.5ms\n",
      "975:\tlearn: 7.3182370\ttotal: 1.58s\tremaining: 38.9ms\n",
      "976:\tlearn: 7.3168841\ttotal: 1.58s\tremaining: 37.3ms\n",
      "977:\tlearn: 7.3156518\ttotal: 1.59s\tremaining: 35.7ms\n",
      "978:\tlearn: 7.3142582\ttotal: 1.59s\tremaining: 34.1ms\n",
      "979:\tlearn: 7.3132953\ttotal: 1.59s\tremaining: 32.5ms\n",
      "980:\tlearn: 7.3116411\ttotal: 1.59s\tremaining: 30.8ms\n",
      "981:\tlearn: 7.3103717\ttotal: 1.59s\tremaining: 29.2ms\n",
      "982:\tlearn: 7.3094726\ttotal: 1.59s\tremaining: 27.6ms\n",
      "983:\tlearn: 7.3091164\ttotal: 1.6s\tremaining: 26ms\n",
      "984:\tlearn: 7.3085281\ttotal: 1.6s\tremaining: 24.4ms\n",
      "985:\tlearn: 7.3074509\ttotal: 1.6s\tremaining: 22.7ms\n",
      "986:\tlearn: 7.3059473\ttotal: 1.6s\tremaining: 21.1ms\n",
      "987:\tlearn: 7.3051336\ttotal: 1.6s\tremaining: 19.5ms\n",
      "988:\tlearn: 7.3039847\ttotal: 1.61s\tremaining: 17.9ms\n",
      "989:\tlearn: 7.3013621\ttotal: 1.61s\tremaining: 16.2ms\n",
      "990:\tlearn: 7.2997247\ttotal: 1.61s\tremaining: 14.6ms\n",
      "991:\tlearn: 7.2985154\ttotal: 1.61s\tremaining: 13ms\n",
      "992:\tlearn: 7.2975382\ttotal: 1.61s\tremaining: 11.4ms\n",
      "993:\tlearn: 7.2972279\ttotal: 1.61s\tremaining: 9.75ms\n",
      "994:\tlearn: 7.2959909\ttotal: 1.62s\tremaining: 8.13ms\n",
      "995:\tlearn: 7.2944896\ttotal: 1.62s\tremaining: 6.5ms\n",
      "996:\tlearn: 7.2936273\ttotal: 1.62s\tremaining: 4.88ms\n",
      "997:\tlearn: 7.2925418\ttotal: 1.62s\tremaining: 3.25ms\n",
      "998:\tlearn: 7.2918670\ttotal: 1.62s\tremaining: 1.63ms\n",
      "999:\tlearn: 7.2907438\ttotal: 1.63s\tremaining: 0us\n",
      "MAE on test set: 6.63\n"
     ]
    }
   ],
   "source": [
    "# Train the model on all available training data with the best hyperparameters\n",
    "best_cb_model.fit(x_train, y_train)\n",
    "\n",
    "# Make predictions on test data\n",
    "y_pred = best_cb_model.predict(x_test)\n",
    "\n",
    "# Evaluate model quality on test data using MAE\n",
    "test_mae = mean_absolute_error(y_test, y_pred)\n",
    "print(f\"MAE on test set: {test_mae:.2f}\")"
   ]
  },
  {
   "cell_type": "markdown",
   "id": "d775cd5f",
   "metadata": {},
   "source": [
    "MAE on test data also shows a good result."
   ]
  },
  {
   "cell_type": "code",
   "execution_count": 91,
   "id": "51f281e9",
   "metadata": {},
   "outputs": [
    {
     "name": "stdout",
     "output_type": "stream",
     "text": [
      "DummyRegressor MAE on test set: 7.98\n",
      "Best model MAE on test set: 6.63\n"
     ]
    }
   ],
   "source": [
    "# Train DummyRegressor on training data\n",
    "dummy_model = DummyRegressor(strategy='mean')\n",
    "dummy_model.fit(x_train, y_train)\n",
    "\n",
    "# Get DummyRegressor predictions on test data\n",
    "dummy_preds = dummy_model.predict(x_test)\n",
    "\n",
    "# Get predictions of the best model on test data\n",
    "best_model_preds = best_cb_model.predict(x_test)\n",
    "\n",
    "# Compute MAE for DummyRegressor and best model on test data\n",
    "dummy_mae = mean_absolute_error(y_test, dummy_preds)\n",
    "best_model_mae = mean_absolute_error(y_test, best_model_preds)\n",
    "\n",
    "print(f\"DummyRegressor MAE on test set: {dummy_mae:.2f}\")\n",
    "print(f\"Best model MAE on test set: {best_model_mae:.2f}\")"
   ]
  },
  {
   "cell_type": "markdown",
   "id": "0d5f5d31",
   "metadata": {},
   "source": [
    "Comparing the results of DummyRegressor and the best model shows that the best model did a better job of regressing on the test dataset than a simple model that always predicts the mean of the target variable.\n",
    "\n",
    "This suggests that a better model can be used to predict the target variable on new data."
   ]
  },
  {
   "cell_type": "markdown",
   "id": "46afad7c",
   "metadata": {},
   "source": [
    "### Defination of important features"
   ]
  },
  {
   "cell_type": "code",
   "execution_count": 95,
   "id": "f601db87",
   "metadata": {},
   "outputs": [],
   "source": [
    "x_df = df.drop(['temp_end'], axis = 1)"
   ]
  },
  {
   "cell_type": "code",
   "execution_count": 93,
   "id": "7bc9b36f",
   "metadata": {},
   "outputs": [
    {
     "data": {
      "text/html": [
       "<div>\n",
       "<style scoped>\n",
       "    .dataframe tbody tr th:only-of-type {\n",
       "        vertical-align: middle;\n",
       "    }\n",
       "\n",
       "    .dataframe tbody tr th {\n",
       "        vertical-align: top;\n",
       "    }\n",
       "\n",
       "    .dataframe thead th {\n",
       "        text-align: right;\n",
       "    }\n",
       "</style>\n",
       "<table border=\"1\" class=\"dataframe\">\n",
       "  <thead>\n",
       "    <tr style=\"text-align: right;\">\n",
       "      <th></th>\n",
       "      <th>feature</th>\n",
       "      <th>importance</th>\n",
       "    </tr>\n",
       "  </thead>\n",
       "  <tbody>\n",
       "    <tr>\n",
       "      <th>0</th>\n",
       "      <td>total_power</td>\n",
       "      <td>28.444646</td>\n",
       "    </tr>\n",
       "    <tr>\n",
       "      <th>10</th>\n",
       "      <td>temp_start</td>\n",
       "      <td>28.235981</td>\n",
       "    </tr>\n",
       "    <tr>\n",
       "      <th>6</th>\n",
       "      <td>wire_1</td>\n",
       "      <td>11.180500</td>\n",
       "    </tr>\n",
       "    <tr>\n",
       "      <th>7</th>\n",
       "      <td>wire_2</td>\n",
       "      <td>7.260959</td>\n",
       "    </tr>\n",
       "    <tr>\n",
       "      <th>5</th>\n",
       "      <td>bulk_others</td>\n",
       "      <td>5.899813</td>\n",
       "    </tr>\n",
       "    <tr>\n",
       "      <th>9</th>\n",
       "      <td>gas</td>\n",
       "      <td>5.604562</td>\n",
       "    </tr>\n",
       "    <tr>\n",
       "      <th>4</th>\n",
       "      <td>bulk_15</td>\n",
       "      <td>4.353092</td>\n",
       "    </tr>\n",
       "    <tr>\n",
       "      <th>8</th>\n",
       "      <td>wire_others</td>\n",
       "      <td>3.394752</td>\n",
       "    </tr>\n",
       "    <tr>\n",
       "      <th>2</th>\n",
       "      <td>bulk_4</td>\n",
       "      <td>3.347580</td>\n",
       "    </tr>\n",
       "    <tr>\n",
       "      <th>3</th>\n",
       "      <td>bulk_14</td>\n",
       "      <td>1.220080</td>\n",
       "    </tr>\n",
       "    <tr>\n",
       "      <th>1</th>\n",
       "      <td>bulk_3</td>\n",
       "      <td>1.058035</td>\n",
       "    </tr>\n",
       "  </tbody>\n",
       "</table>\n",
       "</div>"
      ],
      "text/plain": [
       "        feature  importance\n",
       "0   total_power   28.444646\n",
       "10   temp_start   28.235981\n",
       "6        wire_1   11.180500\n",
       "7        wire_2    7.260959\n",
       "5   bulk_others    5.899813\n",
       "9           gas    5.604562\n",
       "4       bulk_15    4.353092\n",
       "8   wire_others    3.394752\n",
       "2        bulk_4    3.347580\n",
       "3       bulk_14    1.220080\n",
       "1        bulk_3    1.058035"
      ]
     },
     "execution_count": 93,
     "metadata": {},
     "output_type": "execute_result"
    }
   ],
   "source": [
    "# Get an array with feature importances\n",
    "importances = best_cb_model.named_steps['model'].feature_importances_\n",
    "\n",
    "# Create a dataframe with feature names and their importance, sorted in descending order of importance\n",
    "feature_importances_df = pd.DataFrame({'feature': x_df.columns, 'importance': importances}).sort_values('importance', ascending=False)\n",
    "\n",
    "# Display the 10 most important features\n",
    "feature_importances_df"
   ]
  },
  {
   "cell_type": "code",
   "execution_count": 94,
   "id": "3e089bbb",
   "metadata": {},
   "outputs": [
    {
     "data": {
      "image/png": "[encoded data removed]",
      "text/plain": [
       "<Figure size 720x576 with 1 Axes>"
      ]
     },
     "metadata": {
      "needs_background": "light"
     },
     "output_type": "display_data"
    }
   ],
   "source": [
    "#visualize the importance of features\n",
    "\n",
    "indices = np.argsort(importances)[::-1]\n",
    "\n",
    "plt.figure(figsize=(10, 8))\n",
    "plt.title(\"Feature importances\")\n",
    "plt.bar(range(x_train.shape[1]), importances[indices],\n",
    "         color=\"r\", align=\"center\")\n",
    "plt.xticks(range(x_train.shape[1]), x_train.columns[indices], rotation=90)\n",
    "plt.xlim([-1, x_train.shape[1]])\n",
    "plt.show()"
   ]
  },
  {
   "cell_type": "markdown",
   "id": "7a6cc8f0",
   "metadata": {},
   "source": [
    "On the graph, each bar corresponds to one feature, and its height determines the importance of this feature for the model. The higher the column, the more important the feature."
   ]
  },
  {
   "cell_type": "markdown",
   "id": "074cc54e",
   "metadata": {},
   "source": [
    "### Making business recommendations"
   ]
  },
  {
   "cell_type": "markdown",
   "id": "85d0d88e",
   "metadata": {},
   "source": [
    "The customer is offered the CatBoostRegressor model, as the most accurate one, the deviation in degrees is only 6.6.\n",
    "If an error of a few hundredths of a degree is not critical, then it is possible to choose both LinearRegression and Ridge, which also pass by the declared metric (no more than 6.8).\n",
    "Recommendations beyond the task:\n",
    "\n",
    "The most important features that affect the result are the power and temperature of the start of heating:\n",
    "\n",
    "- There are outliers in the data, practically at all stages of the technological process, they are not large, but the excess of standard values can reach more than 5 times.\n",
    "\n",
    "An example of such a super-violation can be ladle 1689, where, with the average and median values of the sample in the region of 650, 4536 kW of metal melting power was spent in it. And even if this is considered an outlier, then periodically there are also significant costs of capacities of more than 2000 kW. The number of cycles in a normal distribution is in the range from 3 to 6, however, in some cases, the process can perform up to 16 cycles.\n",
    "\n",
    "- The melting point of the metal is in the region of 1500 degrees, however, the spread in measurements was clearly exceeded, in almost half of the cases.\n",
    "\n",
    "If the customer wants to reduce energy costs, this should be taken into account."
   ]
  },
  {
   "cell_type": "code",
   "execution_count": null,
   "id": "c82c150e",
   "metadata": {},
   "outputs": [],
   "source": []
  }
 ],
 "metadata": {
  "ExecuteTimeLog": [
   {
    "duration": 1231,
    "start_time": "2023-04-25T20:21:12.072Z"
   },
   {
    "duration": 66,
    "start_time": "2023-04-25T20:21:16.821Z"
   },
   {
    "duration": 9,
    "start_time": "2023-04-25T20:21:17.438Z"
   },
   {
    "duration": 62,
    "start_time": "2023-04-25T20:21:17.943Z"
   },
   {
    "duration": 22,
    "start_time": "2023-04-25T20:21:18.250Z"
   },
   {
    "duration": 23,
    "start_time": "2023-04-25T20:21:18.408Z"
   },
   {
    "duration": 13,
    "start_time": "2023-04-25T20:21:18.559Z"
   },
   {
    "duration": 18,
    "start_time": "2023-04-25T20:21:18.699Z"
   },
   {
    "duration": 155,
    "start_time": "2023-04-25T20:21:18.858Z"
   },
   {
    "duration": 297,
    "start_time": "2023-04-25T20:21:19.174Z"
   },
   {
    "duration": 319,
    "start_time": "2023-04-25T20:21:19.473Z"
   },
   {
    "duration": 5,
    "start_time": "2023-04-25T20:21:19.794Z"
   },
   {
    "duration": 25,
    "start_time": "2023-04-25T20:21:19.801Z"
   },
   {
    "duration": 13,
    "start_time": "2023-04-25T20:21:19.940Z"
   },
   {
    "duration": 74,
    "start_time": "2023-04-25T20:21:20.089Z"
   },
   {
    "duration": 185,
    "start_time": "2023-04-25T20:21:20.403Z"
   },
   {
    "duration": 12,
    "start_time": "2023-04-25T20:21:20.698Z"
   },
   {
    "duration": 145,
    "start_time": "2023-04-25T20:21:21.001Z"
   },
   {
    "duration": 112,
    "start_time": "2023-04-25T20:21:21.150Z"
   },
   {
    "duration": 102,
    "start_time": "2023-04-25T20:21:22.286Z"
   },
   {
    "duration": 27,
    "start_time": "2023-04-25T20:21:22.464Z"
   },
   {
    "duration": 85,
    "start_time": "2023-04-25T20:21:22.776Z"
   },
   {
    "duration": 40,
    "start_time": "2023-04-25T20:21:23.358Z"
   },
   {
    "duration": 107,
    "start_time": "2023-04-25T20:21:23.707Z"
   },
   {
    "duration": 51,
    "start_time": "2023-04-25T20:21:23.879Z"
   },
   {
    "duration": 73,
    "start_time": "2023-04-25T20:21:24.179Z"
   },
   {
    "duration": 12,
    "start_time": "2023-04-25T20:21:24.558Z"
   },
   {
    "duration": 14,
    "start_time": "2023-04-25T20:23:55.462Z"
   },
   {
    "duration": 1361,
    "start_time": "2023-04-27T07:36:43.630Z"
   },
   {
    "duration": 110,
    "start_time": "2023-04-27T07:36:46.908Z"
   },
   {
    "duration": 9,
    "start_time": "2023-04-27T07:36:47.348Z"
   },
   {
    "duration": 64,
    "start_time": "2023-04-27T07:36:50.191Z"
   },
   {
    "duration": 19,
    "start_time": "2023-04-27T07:36:52.551Z"
   },
   {
    "duration": 18,
    "start_time": "2023-04-27T07:36:53.465Z"
   },
   {
    "duration": 11,
    "start_time": "2023-04-27T07:36:58.969Z"
   },
   {
    "duration": 10,
    "start_time": "2023-04-27T07:37:50.731Z"
   },
   {
    "duration": 11,
    "start_time": "2023-04-27T07:38:09.492Z"
   },
   {
    "duration": 235,
    "start_time": "2023-04-27T07:38:41.994Z"
   },
   {
    "duration": 776,
    "start_time": "2023-04-27T07:38:55.393Z"
   },
   {
    "duration": 12,
    "start_time": "2023-04-27T07:39:19.478Z"
   },
   {
    "duration": 16,
    "start_time": "2023-04-27T07:39:31.754Z"
   },
   {
    "duration": 141,
    "start_time": "2023-04-27T07:39:36.778Z"
   },
   {
    "duration": 262,
    "start_time": "2023-04-27T07:39:41.761Z"
   },
   {
    "duration": 275,
    "start_time": "2023-04-27T07:39:52.663Z"
   },
   {
    "duration": 297,
    "start_time": "2023-04-27T07:43:45.482Z"
   },
   {
    "duration": 83,
    "start_time": "2023-04-27T07:48:56.527Z"
   },
   {
    "duration": 9,
    "start_time": "2023-04-27T07:49:18.902Z"
   },
   {
    "duration": 881,
    "start_time": "2023-04-27T07:51:09.517Z"
   },
   {
    "duration": 158,
    "start_time": "2023-04-27T07:51:26.068Z"
   },
   {
    "duration": 142,
    "start_time": "2023-04-27T07:51:46.056Z"
   },
   {
    "duration": 149,
    "start_time": "2023-04-27T07:53:00.775Z"
   },
   {
    "duration": 12,
    "start_time": "2023-04-27T07:55:47.089Z"
   },
   {
    "duration": 3,
    "start_time": "2023-04-27T08:06:17.745Z"
   },
   {
    "duration": 6,
    "start_time": "2023-04-27T08:06:46.017Z"
   },
   {
    "duration": 5,
    "start_time": "2023-04-27T08:09:18.723Z"
   },
   {
    "duration": 6,
    "start_time": "2023-04-27T08:11:59.665Z"
   },
   {
    "duration": 7,
    "start_time": "2023-04-27T08:12:26.220Z"
   },
   {
    "duration": 6,
    "start_time": "2023-04-27T08:12:45.303Z"
   },
   {
    "duration": 5,
    "start_time": "2023-04-27T08:12:53.146Z"
   },
   {
    "duration": 5,
    "start_time": "2023-04-27T08:13:03.642Z"
   },
   {
    "duration": 9,
    "start_time": "2023-04-27T08:13:44.232Z"
   },
   {
    "duration": 7,
    "start_time": "2023-04-27T08:13:47.900Z"
   },
   {
    "duration": 8,
    "start_time": "2023-04-27T08:14:05.471Z"
   },
   {
    "duration": 6,
    "start_time": "2023-04-27T08:14:09.050Z"
   },
   {
    "duration": 7,
    "start_time": "2023-04-27T08:14:13.863Z"
   },
   {
    "duration": 3,
    "start_time": "2023-04-27T08:15:18.790Z"
   },
   {
    "duration": 3,
    "start_time": "2023-04-27T08:16:08.806Z"
   },
   {
    "duration": 61,
    "start_time": "2023-04-27T08:16:10.028Z"
   },
   {
    "duration": 9,
    "start_time": "2023-04-27T08:16:10.250Z"
   },
   {
    "duration": 56,
    "start_time": "2023-04-27T08:16:10.804Z"
   },
   {
    "duration": 18,
    "start_time": "2023-04-27T08:16:12.325Z"
   },
   {
    "duration": 27,
    "start_time": "2023-04-27T08:16:12.794Z"
   },
   {
    "duration": 16,
    "start_time": "2023-04-27T08:16:13.582Z"
   },
   {
    "duration": 15,
    "start_time": "2023-04-27T08:16:14.836Z"
   },
   {
    "duration": 134,
    "start_time": "2023-04-27T08:16:17.804Z"
   },
   {
    "duration": 308,
    "start_time": "2023-04-27T08:16:20.833Z"
   },
   {
    "duration": 107,
    "start_time": "2023-04-27T08:17:03.361Z"
   },
   {
    "duration": 15,
    "start_time": "2023-04-27T08:17:15.379Z"
   },
   {
    "duration": 8,
    "start_time": "2023-04-27T08:17:24.245Z"
   },
   {
    "duration": 7,
    "start_time": "2023-04-27T08:18:47.472Z"
   },
   {
    "duration": 6,
    "start_time": "2023-04-27T08:18:49.356Z"
   },
   {
    "duration": 6,
    "start_time": "2023-04-27T08:19:16.612Z"
   },
   {
    "duration": 6,
    "start_time": "2023-04-27T08:19:17.248Z"
   },
   {
    "duration": 3,
    "start_time": "2023-04-27T08:20:59.096Z"
   },
   {
    "duration": 55,
    "start_time": "2023-04-27T08:21:00.452Z"
   },
   {
    "duration": 10,
    "start_time": "2023-04-27T08:21:00.690Z"
   },
   {
    "duration": 167,
    "start_time": "2023-04-27T08:21:01.204Z"
   },
   {
    "duration": 20,
    "start_time": "2023-04-27T08:21:01.867Z"
   },
   {
    "duration": 27,
    "start_time": "2023-04-27T08:21:02.089Z"
   },
   {
    "duration": 14,
    "start_time": "2023-04-27T08:21:02.311Z"
   },
   {
    "duration": 23,
    "start_time": "2023-04-27T08:21:02.821Z"
   },
   {
    "duration": 186,
    "start_time": "2023-04-27T08:21:04.291Z"
   },
   {
    "duration": 330,
    "start_time": "2023-04-27T08:21:05.509Z"
   },
   {
    "duration": 288,
    "start_time": "2023-04-27T08:21:07.248Z"
   },
   {
    "duration": 118,
    "start_time": "2023-04-27T08:24:26.149Z"
   },
   {
    "duration": 52,
    "start_time": "2023-04-27T08:24:36.648Z"
   },
   {
    "duration": 13,
    "start_time": "2023-04-27T08:29:51.832Z"
   },
   {
    "duration": 5,
    "start_time": "2023-04-27T08:30:23.246Z"
   },
   {
    "duration": 15,
    "start_time": "2023-04-27T08:32:27.904Z"
   },
   {
    "duration": 12,
    "start_time": "2023-04-27T08:32:52.319Z"
   },
   {
    "duration": 11,
    "start_time": "2023-04-27T08:33:02.039Z"
   },
   {
    "duration": 4899,
    "start_time": "2023-04-27T08:33:35.685Z"
   },
   {
    "duration": 12,
    "start_time": "2023-04-27T08:33:44.207Z"
   },
   {
    "duration": 11,
    "start_time": "2023-04-27T08:36:43.863Z"
   },
   {
    "duration": 120,
    "start_time": "2023-04-27T08:37:47.725Z"
   },
   {
    "duration": 81,
    "start_time": "2023-04-27T08:38:12.910Z"
   },
   {
    "duration": 115,
    "start_time": "2023-04-27T08:38:54.803Z"
   },
   {
    "duration": 54,
    "start_time": "2023-04-27T08:38:56.352Z"
   },
   {
    "duration": 12,
    "start_time": "2023-04-27T08:52:09.062Z"
   },
   {
    "duration": 10,
    "start_time": "2023-04-27T08:52:25.350Z"
   },
   {
    "duration": 13,
    "start_time": "2023-04-27T08:52:34.577Z"
   },
   {
    "duration": 16,
    "start_time": "2023-04-27T08:53:20.549Z"
   },
   {
    "duration": 13,
    "start_time": "2023-04-27T08:53:53.458Z"
   },
   {
    "duration": 18,
    "start_time": "2023-04-27T08:53:55.265Z"
   },
   {
    "duration": 3,
    "start_time": "2023-04-27T08:54:45.643Z"
   },
   {
    "duration": 59,
    "start_time": "2023-04-27T08:54:46.694Z"
   },
   {
    "duration": 9,
    "start_time": "2023-04-27T08:54:46.998Z"
   },
   {
    "duration": 90,
    "start_time": "2023-04-27T08:54:47.531Z"
   },
   {
    "duration": 22,
    "start_time": "2023-04-27T08:54:48.336Z"
   },
   {
    "duration": 19,
    "start_time": "2023-04-27T08:54:48.645Z"
   },
   {
    "duration": 10,
    "start_time": "2023-04-27T08:54:48.919Z"
   },
   {
    "duration": 15,
    "start_time": "2023-04-27T08:54:49.186Z"
   },
   {
    "duration": 143,
    "start_time": "2023-04-27T08:54:50.204Z"
   },
   {
    "duration": 290,
    "start_time": "2023-04-27T08:54:50.834Z"
   },
   {
    "duration": 259,
    "start_time": "2023-04-27T08:54:51.448Z"
   },
   {
    "duration": 6,
    "start_time": "2023-04-27T08:54:53.539Z"
   },
   {
    "duration": 10,
    "start_time": "2023-04-27T08:54:54.367Z"
   },
   {
    "duration": 10,
    "start_time": "2023-04-27T08:54:55.031Z"
   },
   {
    "duration": 12,
    "start_time": "2023-04-27T08:54:56.864Z"
   },
   {
    "duration": 15,
    "start_time": "2023-04-27T08:54:57.683Z"
   },
   {
    "duration": 66,
    "start_time": "2023-04-27T08:54:58.502Z"
   },
   {
    "duration": 17,
    "start_time": "2023-04-27T08:56:57.801Z"
   },
   {
    "duration": 52,
    "start_time": "2023-04-27T08:57:57.571Z"
   },
   {
    "duration": 53,
    "start_time": "2023-04-27T08:59:43.868Z"
   },
   {
    "duration": 466,
    "start_time": "2023-04-27T09:03:06.278Z"
   },
   {
    "duration": 18,
    "start_time": "2023-04-27T09:08:35.476Z"
   },
   {
    "duration": 12,
    "start_time": "2023-04-27T09:08:51.877Z"
   },
   {
    "duration": 102,
    "start_time": "2023-04-27T09:09:32.428Z"
   },
   {
    "duration": 133,
    "start_time": "2023-04-27T09:09:36.999Z"
   },
   {
    "duration": 11,
    "start_time": "2023-04-27T09:10:16.700Z"
   },
   {
    "duration": 5,
    "start_time": "2023-04-27T09:11:20.903Z"
   },
   {
    "duration": 14,
    "start_time": "2023-04-27T09:11:50.857Z"
   },
   {
    "duration": 5,
    "start_time": "2023-04-27T09:11:58.300Z"
   },
   {
    "duration": 13,
    "start_time": "2023-04-27T09:16:30.151Z"
   },
   {
    "duration": 16,
    "start_time": "2023-04-27T09:17:00.341Z"
   },
   {
    "duration": 6,
    "start_time": "2023-04-27T09:19:10.643Z"
   },
   {
    "duration": 20,
    "start_time": "2023-04-27T09:19:13.722Z"
   },
   {
    "duration": 5,
    "start_time": "2023-04-27T09:21:00.943Z"
   },
   {
    "duration": 5,
    "start_time": "2023-04-27T09:31:10.737Z"
   },
   {
    "duration": 6,
    "start_time": "2023-04-27T09:33:04.595Z"
   },
   {
    "duration": 35,
    "start_time": "2023-04-27T09:33:05.073Z"
   },
   {
    "duration": 82,
    "start_time": "2023-04-27T09:36:01.630Z"
   },
   {
    "duration": 100,
    "start_time": "2023-04-27T09:37:52.476Z"
   },
   {
    "duration": 76,
    "start_time": "2023-04-27T09:37:58.804Z"
   },
   {
    "duration": 220,
    "start_time": "2023-04-27T09:39:55.775Z"
   },
   {
    "duration": 111,
    "start_time": "2023-04-27T09:40:12.542Z"
   },
   {
    "duration": 99,
    "start_time": "2023-04-27T09:40:20.661Z"
   },
   {
    "duration": 91,
    "start_time": "2023-04-27T09:40:39.320Z"
   },
   {
    "duration": 83,
    "start_time": "2023-04-27T09:40:46.982Z"
   },
   {
    "duration": 5,
    "start_time": "2023-04-27T09:49:16.014Z"
   },
   {
    "duration": 76,
    "start_time": "2023-04-27T09:49:41.062Z"
   },
   {
    "duration": 16,
    "start_time": "2023-04-27T09:49:50.320Z"
   },
   {
    "duration": 16,
    "start_time": "2023-04-27T09:50:28.103Z"
   },
   {
    "duration": 233,
    "start_time": "2023-04-27T09:52:20.212Z"
   },
   {
    "duration": 261,
    "start_time": "2023-04-27T09:52:29.525Z"
   },
   {
    "duration": 22,
    "start_time": "2023-04-27T09:56:51.022Z"
   },
   {
    "duration": 276,
    "start_time": "2023-04-27T09:57:31.288Z"
   },
   {
    "duration": 2362,
    "start_time": "2023-04-27T09:59:41.643Z"
   },
   {
    "duration": 4,
    "start_time": "2023-04-27T09:59:56.295Z"
   },
   {
    "duration": 20,
    "start_time": "2023-04-27T10:06:07.577Z"
   },
   {
    "duration": 13,
    "start_time": "2023-04-27T10:06:32.394Z"
   },
   {
    "duration": 15,
    "start_time": "2023-04-27T10:06:47.855Z"
   },
   {
    "duration": 4,
    "start_time": "2023-04-27T10:23:08.326Z"
   },
   {
    "duration": 4,
    "start_time": "2023-04-27T10:23:36.623Z"
   },
   {
    "duration": 4,
    "start_time": "2023-04-27T10:24:08.527Z"
   },
   {
    "duration": 273,
    "start_time": "2023-04-27T10:24:18.485Z"
   },
   {
    "duration": 5,
    "start_time": "2023-04-27T10:24:55.972Z"
   },
   {
    "duration": 11,
    "start_time": "2023-04-27T10:28:28.421Z"
   },
   {
    "duration": 344,
    "start_time": "2023-04-27T10:28:44.812Z"
   },
   {
    "duration": 4,
    "start_time": "2023-04-27T10:28:50.957Z"
   },
   {
    "duration": 8,
    "start_time": "2023-04-27T10:32:21.597Z"
   },
   {
    "duration": 1660,
    "start_time": "2023-04-27T10:38:48.153Z"
   },
   {
    "duration": 3,
    "start_time": "2023-04-27T10:39:17.673Z"
   },
   {
    "duration": 2047,
    "start_time": "2023-04-27T10:39:24.123Z"
   },
   {
    "duration": 10,
    "start_time": "2023-04-27T10:39:42.259Z"
   },
   {
    "duration": 4,
    "start_time": "2023-04-27T10:43:58.899Z"
   },
   {
    "duration": 75,
    "start_time": "2023-04-27T10:44:02.474Z"
   },
   {
    "duration": 64,
    "start_time": "2023-04-27T10:45:30.250Z"
   },
   {
    "duration": 10,
    "start_time": "2023-04-27T10:45:30.557Z"
   },
   {
    "duration": 60,
    "start_time": "2023-04-27T10:45:31.169Z"
   },
   {
    "duration": 17,
    "start_time": "2023-04-27T10:45:34.683Z"
   },
   {
    "duration": 23,
    "start_time": "2023-04-27T10:45:35.477Z"
   },
   {
    "duration": 12,
    "start_time": "2023-04-27T10:45:35.995Z"
   },
   {
    "duration": 18,
    "start_time": "2023-04-27T10:45:36.291Z"
   },
   {
    "duration": 173,
    "start_time": "2023-04-27T10:45:36.916Z"
   },
   {
    "duration": 382,
    "start_time": "2023-04-27T10:45:38.193Z"
   },
   {
    "duration": 284,
    "start_time": "2023-04-27T10:45:39.573Z"
   },
   {
    "duration": 6,
    "start_time": "2023-04-27T10:45:43.554Z"
   },
   {
    "duration": 12,
    "start_time": "2023-04-27T10:45:44.581Z"
   },
   {
    "duration": 15,
    "start_time": "2023-04-27T10:45:45.328Z"
   },
   {
    "duration": 15,
    "start_time": "2023-04-27T10:45:48.151Z"
   },
   {
    "duration": 20,
    "start_time": "2023-04-27T10:45:49.956Z"
   },
   {
    "duration": 11,
    "start_time": "2023-04-27T10:45:50.705Z"
   },
   {
    "duration": 282,
    "start_time": "2023-04-27T10:45:51.723Z"
   },
   {
    "duration": 4,
    "start_time": "2023-04-27T10:45:54.209Z"
   },
   {
    "duration": 14,
    "start_time": "2023-04-27T10:45:57.424Z"
   },
   {
    "duration": 7,
    "start_time": "2023-04-27T10:46:13.548Z"
   },
   {
    "duration": 12,
    "start_time": "2023-04-27T10:46:14.181Z"
   },
   {
    "duration": 48,
    "start_time": "2023-04-27T10:47:54.078Z"
   },
   {
    "duration": 88,
    "start_time": "2023-04-27T10:49:02.703Z"
   },
   {
    "duration": 52,
    "start_time": "2023-04-27T10:49:27.403Z"
   },
   {
    "duration": 5,
    "start_time": "2023-04-27T10:50:13.103Z"
   },
   {
    "duration": 93,
    "start_time": "2023-04-27T10:50:17.289Z"
   },
   {
    "duration": 20,
    "start_time": "2023-04-27T10:54:28.525Z"
   },
   {
    "duration": 98,
    "start_time": "2023-04-27T10:56:03.980Z"
   },
   {
    "duration": 1516,
    "start_time": "2023-04-27T10:57:32.300Z"
   },
   {
    "duration": 4,
    "start_time": "2023-04-27T10:57:41.678Z"
   },
   {
    "duration": 3,
    "start_time": "2023-04-27T10:57:44.264Z"
   },
   {
    "duration": 100,
    "start_time": "2023-04-27T11:00:05.788Z"
   },
   {
    "duration": 132,
    "start_time": "2023-04-27T11:00:14.135Z"
   },
   {
    "duration": 99,
    "start_time": "2023-04-27T11:00:35.777Z"
   },
   {
    "duration": 1889,
    "start_time": "2023-04-27T11:01:24.390Z"
   },
   {
    "duration": 1813,
    "start_time": "2023-04-27T11:01:52.752Z"
   },
   {
    "duration": 1765,
    "start_time": "2023-04-27T11:02:05.119Z"
   },
   {
    "duration": 49,
    "start_time": "2023-04-27T11:23:08.201Z"
   },
   {
    "duration": 4,
    "start_time": "2023-04-27T11:23:08.993Z"
   },
   {
    "duration": 87,
    "start_time": "2023-04-27T11:23:09.794Z"
   },
   {
    "duration": 12,
    "start_time": "2023-04-27T11:27:31.038Z"
   },
   {
    "duration": 11,
    "start_time": "2023-04-27T11:27:38.768Z"
   },
   {
    "duration": 10,
    "start_time": "2023-04-27T11:27:44.447Z"
   },
   {
    "duration": 72,
    "start_time": "2023-04-27T11:27:51.573Z"
   },
   {
    "duration": 1963,
    "start_time": "2023-04-27T11:30:07.606Z"
   },
   {
    "duration": 31,
    "start_time": "2023-04-27T11:38:45.048Z"
   },
   {
    "duration": 37,
    "start_time": "2023-04-27T11:39:40.401Z"
   },
   {
    "duration": 45,
    "start_time": "2023-04-27T11:45:47.170Z"
   },
   {
    "duration": 4,
    "start_time": "2023-04-27T11:45:48.299Z"
   },
   {
    "duration": 93,
    "start_time": "2023-04-27T11:45:50.922Z"
   },
   {
    "duration": 48,
    "start_time": "2023-04-27T11:45:52.107Z"
   },
   {
    "duration": 4,
    "start_time": "2023-04-27T11:45:54.401Z"
   },
   {
    "duration": 3,
    "start_time": "2023-04-27T11:45:55.228Z"
   },
   {
    "duration": 1480,
    "start_time": "2023-04-27T11:45:56.758Z"
   },
   {
    "duration": 18,
    "start_time": "2023-04-27T11:45:58.256Z"
   },
   {
    "duration": 28,
    "start_time": "2023-04-27T11:46:45.751Z"
   },
   {
    "duration": 11,
    "start_time": "2023-04-27T11:50:29.978Z"
   },
   {
    "duration": 4,
    "start_time": "2023-04-27T11:51:52.882Z"
   },
   {
    "duration": 18,
    "start_time": "2023-04-27T11:51:53.331Z"
   },
   {
    "duration": 12,
    "start_time": "2023-04-27T11:51:53.835Z"
   },
   {
    "duration": 48,
    "start_time": "2023-04-27T11:52:32.807Z"
   },
   {
    "duration": 4,
    "start_time": "2023-04-27T11:52:33.351Z"
   },
   {
    "duration": 195,
    "start_time": "2023-04-27T11:52:34.120Z"
   },
   {
    "duration": 49,
    "start_time": "2023-04-27T11:52:35.554Z"
   },
   {
    "duration": 3,
    "start_time": "2023-04-27T11:52:42.584Z"
   },
   {
    "duration": 4,
    "start_time": "2023-04-27T11:52:43.707Z"
   },
   {
    "duration": 1798,
    "start_time": "2023-04-27T11:52:47.661Z"
   },
   {
    "duration": 16,
    "start_time": "2023-04-27T12:01:57.152Z"
   },
   {
    "duration": 22,
    "start_time": "2023-04-27T12:02:47.176Z"
   },
   {
    "duration": 16,
    "start_time": "2023-04-27T12:03:50.038Z"
   },
   {
    "duration": 55,
    "start_time": "2023-04-27T12:04:03.464Z"
   },
   {
    "duration": 4,
    "start_time": "2023-04-27T12:04:03.781Z"
   },
   {
    "duration": 106,
    "start_time": "2023-04-27T12:04:04.064Z"
   },
   {
    "duration": 49,
    "start_time": "2023-04-27T12:04:04.342Z"
   },
   {
    "duration": 4,
    "start_time": "2023-04-27T12:04:05.306Z"
   },
   {
    "duration": 13,
    "start_time": "2023-04-27T12:04:05.932Z"
   },
   {
    "duration": 1708,
    "start_time": "2023-04-27T12:04:06.303Z"
   },
   {
    "duration": 13,
    "start_time": "2023-04-27T12:04:15.674Z"
   },
   {
    "duration": 17,
    "start_time": "2023-04-27T12:05:02.648Z"
   },
   {
    "duration": 22,
    "start_time": "2023-04-27T12:05:11.652Z"
   },
   {
    "duration": 11,
    "start_time": "2023-04-27T12:06:39.906Z"
   },
   {
    "duration": 15,
    "start_time": "2023-04-27T12:06:47.228Z"
   },
   {
    "duration": 15,
    "start_time": "2023-04-27T12:10:46.267Z"
   },
   {
    "duration": 52,
    "start_time": "2023-04-27T12:11:20.851Z"
   },
   {
    "duration": 61,
    "start_time": "2023-04-27T12:11:48.466Z"
   },
   {
    "duration": 4,
    "start_time": "2023-04-27T12:12:12.724Z"
   },
   {
    "duration": 9,
    "start_time": "2023-04-27T12:12:13.244Z"
   },
   {
    "duration": 1763,
    "start_time": "2023-04-27T12:12:13.982Z"
   },
   {
    "duration": 18,
    "start_time": "2023-04-27T12:12:17.843Z"
   },
   {
    "duration": 32,
    "start_time": "2023-04-27T12:26:24.075Z"
   },
   {
    "duration": 58,
    "start_time": "2023-04-27T12:30:01.802Z"
   },
   {
    "duration": 118,
    "start_time": "2023-04-27T12:39:34.508Z"
   },
   {
    "duration": 726,
    "start_time": "2023-04-27T12:39:56.030Z"
   },
   {
    "duration": 50,
    "start_time": "2023-04-27T12:41:26.081Z"
   },
   {
    "duration": 3,
    "start_time": "2023-04-27T12:41:28.797Z"
   },
   {
    "duration": 69,
    "start_time": "2023-04-27T12:41:29.579Z"
   },
   {
    "duration": 48,
    "start_time": "2023-04-27T12:41:32.631Z"
   },
   {
    "duration": 3,
    "start_time": "2023-04-27T12:41:33.802Z"
   },
   {
    "duration": 3,
    "start_time": "2023-04-27T12:41:34.520Z"
   },
   {
    "duration": 1399,
    "start_time": "2023-04-27T12:41:35.420Z"
   },
   {
    "duration": 119,
    "start_time": "2023-04-27T12:41:37.601Z"
   },
   {
    "duration": 40,
    "start_time": "2023-04-27T12:44:48.730Z"
   },
   {
    "duration": 57,
    "start_time": "2023-04-27T12:44:50.251Z"
   },
   {
    "duration": 11,
    "start_time": "2023-04-27T12:50:43.448Z"
   },
   {
    "duration": 69,
    "start_time": "2023-04-27T12:50:49.342Z"
   },
   {
    "duration": 513,
    "start_time": "2023-04-27T12:50:50.634Z"
   },
   {
    "duration": 3,
    "start_time": "2023-04-27T12:51:12.132Z"
   },
   {
    "duration": 45,
    "start_time": "2023-04-27T12:51:16.720Z"
   },
   {
    "duration": 9,
    "start_time": "2023-04-27T12:53:21.826Z"
   },
   {
    "duration": 1224,
    "start_time": "2023-04-27T12:53:30.403Z"
   },
   {
    "duration": 33,
    "start_time": "2023-04-27T12:53:58.455Z"
   },
   {
    "duration": 22,
    "start_time": "2023-04-27T12:55:18.795Z"
   },
   {
    "duration": 116,
    "start_time": "2023-04-27T12:56:43.399Z"
   },
   {
    "duration": 120,
    "start_time": "2023-04-27T12:57:02.924Z"
   },
   {
    "duration": 119,
    "start_time": "2023-04-27T12:57:16.097Z"
   },
   {
    "duration": 118,
    "start_time": "2023-04-27T12:57:27.136Z"
   },
   {
    "duration": 139,
    "start_time": "2023-04-27T12:59:06.793Z"
   },
   {
    "duration": 28,
    "start_time": "2023-04-27T12:59:20.116Z"
   },
   {
    "duration": 87,
    "start_time": "2023-04-27T13:00:32.999Z"
   },
   {
    "duration": 580,
    "start_time": "2023-04-27T13:00:59.005Z"
   },
   {
    "duration": 12,
    "start_time": "2023-04-27T13:36:40.554Z"
   },
   {
    "duration": 9,
    "start_time": "2023-04-27T13:36:50.899Z"
   },
   {
    "duration": 3,
    "start_time": "2023-04-27T13:36:57.108Z"
   },
   {
    "duration": 11,
    "start_time": "2023-04-27T13:36:59.295Z"
   },
   {
    "duration": 13,
    "start_time": "2023-04-27T13:37:00.218Z"
   },
   {
    "duration": 8,
    "start_time": "2023-04-27T13:37:04.555Z"
   },
   {
    "duration": 3,
    "start_time": "2023-04-27T13:43:02.580Z"
   },
   {
    "duration": 10,
    "start_time": "2023-04-27T13:49:45.944Z"
   },
   {
    "duration": 16,
    "start_time": "2023-04-27T13:50:01.853Z"
   },
   {
    "duration": 17,
    "start_time": "2023-04-27T13:50:43.651Z"
   },
   {
    "duration": 18,
    "start_time": "2023-04-27T13:51:10.307Z"
   },
   {
    "duration": 15,
    "start_time": "2023-04-27T13:51:26.412Z"
   },
   {
    "duration": 324,
    "start_time": "2023-04-27T13:52:03.631Z"
   },
   {
    "duration": 10,
    "start_time": "2023-04-27T13:55:00.802Z"
   },
   {
    "duration": 110,
    "start_time": "2023-04-27T13:55:06.073Z"
   },
   {
    "duration": 20,
    "start_time": "2023-04-27T13:55:07.044Z"
   },
   {
    "duration": 3,
    "start_time": "2023-04-27T13:55:07.976Z"
   },
   {
    "duration": 9,
    "start_time": "2023-04-27T13:55:25.297Z"
   },
   {
    "duration": 15,
    "start_time": "2023-04-27T13:55:32.543Z"
   },
   {
    "duration": 527,
    "start_time": "2023-04-27T13:57:21.434Z"
   },
   {
    "duration": 1518,
    "start_time": "2023-04-27T14:00:32.459Z"
   },
   {
    "duration": 5,
    "start_time": "2023-04-27T14:00:43.876Z"
   },
   {
    "duration": 13,
    "start_time": "2023-04-27T14:01:53.965Z"
   },
   {
    "duration": 17,
    "start_time": "2023-04-27T14:02:04.427Z"
   },
   {
    "duration": 10,
    "start_time": "2023-04-27T14:03:30.764Z"
   },
   {
    "duration": 9,
    "start_time": "2023-04-27T14:03:46.036Z"
   },
   {
    "duration": 5,
    "start_time": "2023-04-27T14:08:01.764Z"
   },
   {
    "duration": 18,
    "start_time": "2023-04-27T14:08:17.410Z"
   },
   {
    "duration": 147,
    "start_time": "2023-04-27T14:09:38.329Z"
   },
   {
    "duration": 45,
    "start_time": "2023-04-27T14:09:50.466Z"
   },
   {
    "duration": 43,
    "start_time": "2023-04-27T14:11:29.629Z"
   },
   {
    "duration": 4,
    "start_time": "2023-04-27T14:21:04.511Z"
   },
   {
    "duration": 16,
    "start_time": "2023-04-27T14:21:05.442Z"
   },
   {
    "duration": 9,
    "start_time": "2023-04-27T14:21:43.930Z"
   },
   {
    "duration": 13,
    "start_time": "2023-04-27T14:21:44.813Z"
   },
   {
    "duration": 4,
    "start_time": "2023-04-27T14:21:52.333Z"
   },
   {
    "duration": 5947,
    "start_time": "2023-04-27T14:21:53.139Z"
   },
   {
    "duration": 3,
    "start_time": "2023-04-27T14:22:42.729Z"
   },
   {
    "duration": 3,
    "start_time": "2023-04-27T14:23:11.338Z"
   },
   {
    "duration": 11,
    "start_time": "2023-04-27T14:23:46.814Z"
   },
   {
    "duration": 4,
    "start_time": "2023-04-27T14:23:54.941Z"
   },
   {
    "duration": 3,
    "start_time": "2023-04-27T14:23:56.014Z"
   },
   {
    "duration": 7594,
    "start_time": "2023-04-27T14:23:57.613Z"
   },
   {
    "duration": 3,
    "start_time": "2023-04-27T14:29:07.811Z"
   },
   {
    "duration": 4,
    "start_time": "2023-04-27T14:30:21.075Z"
   },
   {
    "duration": 12,
    "start_time": "2023-04-27T14:30:47.337Z"
   },
   {
    "duration": 4,
    "start_time": "2023-04-27T14:33:10.479Z"
   },
   {
    "duration": 50,
    "start_time": "2023-04-27T14:33:50.912Z"
   },
   {
    "duration": 35,
    "start_time": "2023-04-27T14:33:52.021Z"
   },
   {
    "duration": 4,
    "start_time": "2023-04-27T14:33:56.714Z"
   },
   {
    "duration": 4,
    "start_time": "2023-04-27T14:33:59.214Z"
   },
   {
    "duration": 16,
    "start_time": "2023-04-27T14:34:00.957Z"
   },
   {
    "duration": 6,
    "start_time": "2023-04-27T14:34:46.251Z"
   },
   {
    "duration": 3196,
    "start_time": "2023-04-27T14:34:47.410Z"
   },
   {
    "duration": 6,
    "start_time": "2023-04-27T14:35:36.084Z"
   },
   {
    "duration": 3553,
    "start_time": "2023-04-27T14:35:37.317Z"
   },
   {
    "duration": 11,
    "start_time": "2023-04-27T14:36:53.123Z"
   },
   {
    "duration": 15,
    "start_time": "2023-04-27T14:37:09.433Z"
   },
   {
    "duration": 605,
    "start_time": "2023-04-27T14:37:17.832Z"
   },
   {
    "duration": 495,
    "start_time": "2023-04-27T14:37:32.842Z"
   },
   {
    "duration": 58,
    "start_time": "2023-04-27T14:38:26.908Z"
   },
   {
    "duration": 18,
    "start_time": "2023-04-27T14:40:28.027Z"
   },
   {
    "duration": 45,
    "start_time": "2023-04-27T14:59:26.714Z"
   },
   {
    "duration": 503,
    "start_time": "2023-04-27T15:00:51.067Z"
   },
   {
    "duration": 3509,
    "start_time": "2023-04-27T15:03:45.011Z"
   },
   {
    "duration": 2539,
    "start_time": "2023-04-27T15:04:06.450Z"
   },
   {
    "duration": 521,
    "start_time": "2023-04-27T15:04:17.228Z"
   },
   {
    "duration": 16,
    "start_time": "2023-04-27T15:16:15.384Z"
   },
   {
    "duration": 16,
    "start_time": "2023-04-27T15:16:40.355Z"
   },
   {
    "duration": 317,
    "start_time": "2023-04-27T15:17:48.867Z"
   },
   {
    "duration": 8,
    "start_time": "2023-04-27T15:18:18.765Z"
   },
   {
    "duration": 14,
    "start_time": "2023-04-27T15:18:27.051Z"
   },
   {
    "duration": 13,
    "start_time": "2023-04-27T15:19:19.802Z"
   },
   {
    "duration": 15,
    "start_time": "2023-04-27T15:20:38.240Z"
   },
   {
    "duration": 5,
    "start_time": "2023-04-27T15:23:53.173Z"
   },
   {
    "duration": 11,
    "start_time": "2023-04-27T15:24:08.139Z"
   },
   {
    "duration": 1621,
    "start_time": "2023-04-27T15:25:55.122Z"
   },
   {
    "duration": 6,
    "start_time": "2023-04-27T15:26:15.900Z"
   },
   {
    "duration": 10,
    "start_time": "2023-04-27T15:26:35.848Z"
   },
   {
    "duration": 8911,
    "start_time": "2023-04-27T15:32:27.072Z"
   },
   {
    "duration": 12,
    "start_time": "2023-04-27T15:34:25.992Z"
   },
   {
    "duration": 10214,
    "start_time": "2023-04-27T15:34:42.510Z"
   },
   {
    "duration": 20,
    "start_time": "2023-04-27T15:36:19.588Z"
   },
   {
    "duration": 8863,
    "start_time": "2023-04-27T15:37:49.679Z"
   },
   {
    "duration": 9556,
    "start_time": "2023-04-27T15:38:21.642Z"
   },
   {
    "duration": 9929,
    "start_time": "2023-04-27T15:40:31.190Z"
   },
   {
    "duration": 10334,
    "start_time": "2023-04-27T15:41:36.433Z"
   },
   {
    "duration": 10188,
    "start_time": "2023-04-27T15:43:10.070Z"
   },
   {
    "duration": 10631,
    "start_time": "2023-04-27T15:44:17.985Z"
   },
   {
    "duration": 1355,
    "start_time": "2023-04-27T15:45:55.873Z"
   },
   {
    "duration": 300,
    "start_time": "2023-04-27T15:46:34.411Z"
   },
   {
    "duration": 472,
    "start_time": "2023-04-27T18:40:13.187Z"
   },
   {
    "duration": 1433,
    "start_time": "2023-04-27T18:42:13.170Z"
   },
   {
    "duration": 463,
    "start_time": "2023-04-27T18:42:30.357Z"
   },
   {
    "duration": 175,
    "start_time": "2023-04-27T18:42:54.593Z"
   },
   {
    "duration": 1261,
    "start_time": "2023-05-01T07:04:43.322Z"
   },
   {
    "duration": 97,
    "start_time": "2023-05-01T07:04:44.585Z"
   },
   {
    "duration": 9,
    "start_time": "2023-05-01T07:04:44.683Z"
   },
   {
    "duration": 69,
    "start_time": "2023-05-01T07:04:44.693Z"
   },
   {
    "duration": 22,
    "start_time": "2023-05-01T07:04:44.783Z"
   },
   {
    "duration": 30,
    "start_time": "2023-05-01T07:04:44.807Z"
   },
   {
    "duration": 14,
    "start_time": "2023-05-01T07:04:44.840Z"
   },
   {
    "duration": 38,
    "start_time": "2023-05-01T07:04:44.856Z"
   },
   {
    "duration": 177,
    "start_time": "2023-05-01T07:04:44.896Z"
   },
   {
    "duration": 285,
    "start_time": "2023-05-01T07:04:45.076Z"
   },
   {
    "duration": 271,
    "start_time": "2023-05-01T07:04:45.364Z"
   },
   {
    "duration": 6,
    "start_time": "2023-05-01T07:04:45.636Z"
   },
   {
    "duration": 12,
    "start_time": "2023-05-01T07:04:45.643Z"
   },
   {
    "duration": 31,
    "start_time": "2023-05-01T07:04:45.657Z"
   },
   {
    "duration": 12,
    "start_time": "2023-05-01T07:04:45.690Z"
   },
   {
    "duration": 17,
    "start_time": "2023-05-01T07:04:45.704Z"
   },
   {
    "duration": 10,
    "start_time": "2023-05-01T07:04:45.723Z"
   },
   {
    "duration": 277,
    "start_time": "2023-05-01T07:04:45.735Z"
   },
   {
    "duration": 4,
    "start_time": "2023-05-01T07:04:46.014Z"
   },
   {
    "duration": 28,
    "start_time": "2023-05-01T07:04:46.020Z"
   },
   {
    "duration": 4,
    "start_time": "2023-05-01T07:04:46.049Z"
   },
   {
    "duration": 10,
    "start_time": "2023-05-01T07:04:46.055Z"
   },
   {
    "duration": 23,
    "start_time": "2023-05-01T07:04:46.067Z"
   },
   {
    "duration": 112,
    "start_time": "2023-05-01T07:04:46.092Z"
   },
   {
    "duration": 3,
    "start_time": "2023-05-01T07:04:46.206Z"
   },
   {
    "duration": 76,
    "start_time": "2023-05-01T07:04:46.210Z"
   },
   {
    "duration": 51,
    "start_time": "2023-05-01T07:04:46.288Z"
   },
   {
    "duration": 2,
    "start_time": "2023-05-01T07:04:46.343Z"
   },
   {
    "duration": 6,
    "start_time": "2023-05-01T07:04:46.347Z"
   },
   {
    "duration": 1068,
    "start_time": "2023-05-01T07:04:46.354Z"
   },
   {
    "duration": 141,
    "start_time": "2023-05-01T07:04:47.424Z"
   },
   {
    "duration": 67,
    "start_time": "2023-05-01T07:04:47.568Z"
   },
   {
    "duration": 4,
    "start_time": "2023-05-01T07:04:47.637Z"
   },
   {
    "duration": 64,
    "start_time": "2023-05-01T07:04:47.643Z"
   },
   {
    "duration": 33,
    "start_time": "2023-05-01T07:04:47.708Z"
   },
   {
    "duration": 3,
    "start_time": "2023-05-01T07:04:47.743Z"
   },
   {
    "duration": 19,
    "start_time": "2023-05-01T07:04:47.747Z"
   },
   {
    "duration": 88,
    "start_time": "2023-05-01T07:04:47.784Z"
   },
   {
    "duration": 139,
    "start_time": "2023-05-01T07:04:47.874Z"
   },
   {
    "duration": 98,
    "start_time": "2023-05-01T07:04:48.015Z"
   },
   {
    "duration": 60,
    "start_time": "2023-05-01T07:04:48.115Z"
   },
   {
    "duration": 64,
    "start_time": "2023-05-01T07:04:48.177Z"
   },
   {
    "duration": 20,
    "start_time": "2023-05-01T07:04:48.242Z"
   },
   {
    "duration": 3,
    "start_time": "2023-05-01T07:04:48.264Z"
   },
   {
    "duration": 20,
    "start_time": "2023-05-01T07:04:48.268Z"
   },
   {
    "duration": 285,
    "start_time": "2023-05-01T07:04:48.290Z"
   },
   {
    "duration": 9,
    "start_time": "2023-05-01T07:04:48.576Z"
   },
   {
    "duration": 16,
    "start_time": "2023-05-01T07:04:48.586Z"
   },
   {
    "duration": 4,
    "start_time": "2023-05-01T07:04:48.604Z"
   },
   {
    "duration": 15,
    "start_time": "2023-05-01T07:04:48.609Z"
   },
   {
    "duration": 124,
    "start_time": "2023-05-01T07:04:48.626Z"
   },
   {
    "duration": 33,
    "start_time": "2023-05-01T07:04:48.751Z"
   },
   {
    "duration": 581,
    "start_time": "2023-05-01T07:04:48.786Z"
   },
   {
    "duration": 25,
    "start_time": "2023-05-01T07:04:49.368Z"
   },
   {
    "duration": 14,
    "start_time": "2023-05-01T07:04:49.395Z"
   },
   {
    "duration": 18,
    "start_time": "2023-05-01T07:04:49.411Z"
   },
   {
    "duration": 20,
    "start_time": "2023-05-01T07:04:49.431Z"
   },
   {
    "duration": 521,
    "start_time": "2023-05-01T07:04:49.453Z"
   },
   {
    "duration": 249,
    "start_time": "2023-05-01T07:04:49.976Z"
   },
   {
    "duration": 9713,
    "start_time": "2023-05-01T07:04:50.227Z"
   },
   {
    "duration": 8,
    "start_time": "2023-05-01T07:08:28.513Z"
   },
   {
    "duration": 196,
    "start_time": "2023-05-01T07:08:30.418Z"
   },
   {
    "duration": 10599,
    "start_time": "2023-05-01T07:09:31.436Z"
   },
   {
    "duration": 46,
    "start_time": "2023-05-01T07:27:38.919Z"
   },
   {
    "duration": 6,
    "start_time": "2023-05-01T07:28:08.687Z"
   },
   {
    "duration": 1132,
    "start_time": "2023-05-01T07:28:24.998Z"
   },
   {
    "duration": 64,
    "start_time": "2023-05-01T07:28:27.696Z"
   },
   {
    "duration": 9,
    "start_time": "2023-05-01T07:28:27.884Z"
   },
   {
    "duration": 61,
    "start_time": "2023-05-01T07:28:28.496Z"
   },
   {
    "duration": 19,
    "start_time": "2023-05-01T07:28:29.185Z"
   },
   {
    "duration": 18,
    "start_time": "2023-05-01T07:28:29.406Z"
   },
   {
    "duration": 12,
    "start_time": "2023-05-01T07:28:29.641Z"
   },
   {
    "duration": 16,
    "start_time": "2023-05-01T07:28:29.900Z"
   },
   {
    "duration": 157,
    "start_time": "2023-05-01T07:28:30.336Z"
   },
   {
    "duration": 290,
    "start_time": "2023-05-01T07:28:30.850Z"
   },
   {
    "duration": 286,
    "start_time": "2023-05-01T07:28:31.318Z"
   },
   {
    "duration": 6,
    "start_time": "2023-05-01T07:28:32.614Z"
   },
   {
    "duration": 12,
    "start_time": "2023-05-01T07:28:32.853Z"
   },
   {
    "duration": 11,
    "start_time": "2023-05-01T07:28:33.070Z"
   },
   {
    "duration": 12,
    "start_time": "2023-05-01T07:28:33.569Z"
   },
   {
    "duration": 19,
    "start_time": "2023-05-01T07:28:34.076Z"
   },
   {
    "duration": 11,
    "start_time": "2023-05-01T07:28:34.322Z"
   },
   {
    "duration": 287,
    "start_time": "2023-05-01T07:28:34.544Z"
   },
   {
    "duration": 5,
    "start_time": "2023-05-01T07:28:34.880Z"
   },
   {
    "duration": 9,
    "start_time": "2023-05-01T07:28:38.554Z"
   },
   {
    "duration": 4,
    "start_time": "2023-05-01T07:28:40.219Z"
   },
   {
    "duration": 12,
    "start_time": "2023-05-01T07:28:40.641Z"
   },
   {
    "duration": 12,
    "start_time": "2023-05-01T07:28:41.290Z"
   },
   {
    "duration": 41,
    "start_time": "2023-05-01T07:28:42.090Z"
   },
   {
    "duration": 3,
    "start_time": "2023-05-01T07:28:42.316Z"
   },
   {
    "duration": 83,
    "start_time": "2023-05-01T07:28:42.570Z"
   },
   {
    "duration": 53,
    "start_time": "2023-05-01T07:28:42.856Z"
   },
   {
    "duration": 3,
    "start_time": "2023-05-01T07:28:43.232Z"
   },
   {
    "duration": 3,
    "start_time": "2023-05-01T07:28:43.478Z"
   },
   {
    "duration": 1574,
    "start_time": "2023-05-01T07:28:43.696Z"
   },
   {
    "duration": 144,
    "start_time": "2023-05-01T07:28:45.272Z"
   },
   {
    "duration": 36,
    "start_time": "2023-05-01T07:28:51.400Z"
   },
   {
    "duration": 3,
    "start_time": "2023-05-01T07:28:51.736Z"
   },
   {
    "duration": 45,
    "start_time": "2023-05-01T07:28:51.988Z"
   },
   {
    "duration": 34,
    "start_time": "2023-05-01T07:28:52.214Z"
   },
   {
    "duration": 3,
    "start_time": "2023-05-01T07:28:52.750Z"
   },
   {
    "duration": 18,
    "start_time": "2023-05-01T07:28:53.002Z"
   },
   {
    "duration": 46,
    "start_time": "2023-05-01T07:28:53.474Z"
   },
   {
    "duration": 117,
    "start_time": "2023-05-01T07:28:53.768Z"
   },
   {
    "duration": 28,
    "start_time": "2023-05-01T07:28:53.969Z"
   },
   {
    "duration": 62,
    "start_time": "2023-05-01T07:28:54.208Z"
   },
   {
    "duration": 54,
    "start_time": "2023-05-01T07:28:54.894Z"
   },
   {
    "duration": 19,
    "start_time": "2023-05-01T07:28:55.132Z"
   },
   {
    "duration": 4,
    "start_time": "2023-05-01T07:28:55.405Z"
   },
   {
    "duration": 19,
    "start_time": "2023-05-01T07:28:55.661Z"
   },
   {
    "duration": 299,
    "start_time": "2023-05-01T07:28:55.905Z"
   },
   {
    "duration": 4,
    "start_time": "2023-05-01T07:28:56.206Z"
   },
   {
    "duration": 12,
    "start_time": "2023-05-01T07:28:56.401Z"
   },
   {
    "duration": 5,
    "start_time": "2023-05-01T07:28:56.889Z"
   },
   {
    "duration": 13,
    "start_time": "2023-05-01T07:28:57.150Z"
   },
   {
    "duration": 44,
    "start_time": "2023-05-01T07:28:57.648Z"
   },
   {
    "duration": 37,
    "start_time": "2023-05-01T07:28:57.912Z"
   },
   {
    "duration": 552,
    "start_time": "2023-05-01T07:28:58.484Z"
   },
   {
    "duration": 19,
    "start_time": "2023-05-01T07:28:59.039Z"
   },
   {
    "duration": 34,
    "start_time": "2023-05-01T07:28:59.060Z"
   },
   {
    "duration": 11,
    "start_time": "2023-05-01T07:28:59.558Z"
   },
   {
    "duration": 18,
    "start_time": "2023-05-01T07:28:59.806Z"
   },
   {
    "duration": 677,
    "start_time": "2023-05-01T07:29:00.364Z"
   },
   {
    "duration": 7,
    "start_time": "2023-05-01T07:29:01.366Z"
   },
   {
    "duration": 171,
    "start_time": "2023-05-01T07:29:01.706Z"
   },
   {
    "duration": 9884,
    "start_time": "2023-05-01T07:29:02.410Z"
   },
   {
    "duration": 34,
    "start_time": "2023-05-01T07:29:12.296Z"
   },
   {
    "duration": 65,
    "start_time": "2023-05-01T07:31:16.996Z"
   },
   {
    "duration": 6,
    "start_time": "2023-05-01T07:33:54.091Z"
   },
   {
    "duration": 101,
    "start_time": "2023-05-01T07:39:13.818Z"
   },
   {
    "duration": 142267,
    "start_time": "2023-05-01T07:43:33.905Z"
   },
   {
    "duration": 148599,
    "start_time": "2023-05-01T07:53:04.404Z"
   },
   {
    "duration": 150325,
    "start_time": "2023-05-01T07:58:19.499Z"
   },
   {
    "duration": 1394,
    "start_time": "2023-05-01T08:02:13.717Z"
   },
   {
    "duration": 1472,
    "start_time": "2023-05-01T08:02:26.073Z"
   },
   {
    "duration": 1515,
    "start_time": "2023-05-01T08:02:57.256Z"
   },
   {
    "duration": 81,
    "start_time": "2023-05-01T08:17:40.499Z"
   },
   {
    "duration": 1118,
    "start_time": "2023-05-02T05:55:07.637Z"
   },
   {
    "duration": 63,
    "start_time": "2023-05-02T05:55:08.756Z"
   },
   {
    "duration": 9,
    "start_time": "2023-05-02T05:55:08.821Z"
   },
   {
    "duration": 57,
    "start_time": "2023-05-02T05:55:09.533Z"
   },
   {
    "duration": 17,
    "start_time": "2023-05-02T05:55:11.582Z"
   },
   {
    "duration": 16,
    "start_time": "2023-05-02T05:55:11.973Z"
   },
   {
    "duration": 16,
    "start_time": "2023-05-02T05:55:12.408Z"
   },
   {
    "duration": 21,
    "start_time": "2023-05-02T05:55:12.781Z"
   },
   {
    "duration": 154,
    "start_time": "2023-05-02T05:55:13.166Z"
   },
   {
    "duration": 259,
    "start_time": "2023-05-02T05:55:13.537Z"
   },
   {
    "duration": 258,
    "start_time": "2023-05-02T05:55:13.956Z"
   },
   {
    "duration": 6,
    "start_time": "2023-05-02T05:57:45.215Z"
   },
   {
    "duration": 12,
    "start_time": "2023-05-02T05:57:45.921Z"
   },
   {
    "duration": 11,
    "start_time": "2023-05-02T05:57:46.976Z"
   },
   {
    "duration": 11,
    "start_time": "2023-05-02T05:57:49.462Z"
   },
   {
    "duration": 19,
    "start_time": "2023-05-02T05:57:53.909Z"
   },
   {
    "duration": 11,
    "start_time": "2023-05-02T05:57:57.078Z"
   },
   {
    "duration": 231,
    "start_time": "2023-05-02T05:59:28.346Z"
   },
   {
    "duration": 4,
    "start_time": "2023-05-02T05:59:29.670Z"
   },
   {
    "duration": 9,
    "start_time": "2023-05-02T05:59:35.106Z"
   },
   {
    "duration": 4,
    "start_time": "2023-05-02T05:59:36.417Z"
   },
   {
    "duration": 11,
    "start_time": "2023-05-02T05:59:37.396Z"
   },
   {
    "duration": 11,
    "start_time": "2023-05-02T05:59:37.966Z"
   },
   {
    "duration": 42,
    "start_time": "2023-05-02T05:59:39.222Z"
   },
   {
    "duration": 3,
    "start_time": "2023-05-02T05:59:39.398Z"
   },
   {
    "duration": 66,
    "start_time": "2023-05-02T05:59:39.594Z"
   },
   {
    "duration": 47,
    "start_time": "2023-05-02T05:59:39.769Z"
   },
   {
    "duration": 3,
    "start_time": "2023-05-02T05:59:40.075Z"
   },
   {
    "duration": 2,
    "start_time": "2023-05-02T05:59:40.238Z"
   },
   {
    "duration": 1287,
    "start_time": "2023-05-02T05:59:40.423Z"
   },
   {
    "duration": 134,
    "start_time": "2023-05-02T05:59:41.712Z"
   },
   {
    "duration": 36,
    "start_time": "2023-05-02T05:59:41.847Z"
   },
   {
    "duration": 2,
    "start_time": "2023-05-02T05:59:41.885Z"
   },
   {
    "duration": 45,
    "start_time": "2023-05-02T05:59:41.889Z"
   },
   {
    "duration": 33,
    "start_time": "2023-05-02T05:59:41.935Z"
   },
   {
    "duration": 3,
    "start_time": "2023-05-02T05:59:42.043Z"
   },
   {
    "duration": 13,
    "start_time": "2023-05-02T05:59:42.211Z"
   },
   {
    "duration": 32,
    "start_time": "2023-05-02T05:59:42.602Z"
   },
   {
    "duration": 104,
    "start_time": "2023-05-02T05:59:42.817Z"
   },
   {
    "duration": 39,
    "start_time": "2023-05-02T05:59:42.936Z"
   },
   {
    "duration": 54,
    "start_time": "2023-05-02T05:59:43.280Z"
   },
   {
    "duration": 42,
    "start_time": "2023-05-02T05:59:43.796Z"
   },
   {
    "duration": 20,
    "start_time": "2023-05-02T05:59:43.973Z"
   },
   {
    "duration": 3,
    "start_time": "2023-05-02T05:59:44.167Z"
   },
   {
    "duration": 16,
    "start_time": "2023-05-02T05:59:44.335Z"
   },
   {
    "duration": 301,
    "start_time": "2023-05-02T05:59:44.508Z"
   },
   {
    "duration": 4,
    "start_time": "2023-05-02T05:59:44.811Z"
   },
   {
    "duration": 9,
    "start_time": "2023-05-02T05:59:44.876Z"
   },
   {
    "duration": 5,
    "start_time": "2023-05-02T05:59:45.218Z"
   },
   {
    "duration": 14,
    "start_time": "2023-05-02T05:59:45.393Z"
   },
   {
    "duration": 52,
    "start_time": "2023-05-02T05:59:45.731Z"
   },
   {
    "duration": 34,
    "start_time": "2023-05-02T05:59:45.892Z"
   },
   {
    "duration": 576,
    "start_time": "2023-05-02T05:59:46.228Z"
   },
   {
    "duration": 18,
    "start_time": "2023-05-02T05:59:46.806Z"
   },
   {
    "duration": 28,
    "start_time": "2023-05-02T05:59:46.834Z"
   },
   {
    "duration": 10,
    "start_time": "2023-05-02T05:59:46.933Z"
   },
   {
    "duration": 13,
    "start_time": "2023-05-02T05:59:47.066Z"
   },
   {
    "duration": 572,
    "start_time": "2023-05-02T05:59:47.429Z"
   },
   {
    "duration": 6,
    "start_time": "2023-05-02T05:59:49.911Z"
   },
   {
    "duration": 171,
    "start_time": "2023-05-02T05:59:50.580Z"
   },
   {
    "duration": 9105,
    "start_time": "2023-05-02T05:59:52.199Z"
   },
   {
    "duration": 37,
    "start_time": "2023-05-02T06:00:01.306Z"
   },
   {
    "duration": 124,
    "start_time": "2023-05-02T06:00:01.345Z"
   },
   {
    "duration": 1308,
    "start_time": "2023-05-02T06:00:02.659Z"
   },
   {
    "duration": 52,
    "start_time": "2023-05-02T06:40:39.919Z"
   },
   {
    "duration": 1768,
    "start_time": "2023-05-02T06:45:18.264Z"
   },
   {
    "duration": 167,
    "start_time": "2023-05-02T06:45:20.040Z"
   },
   {
    "duration": 28,
    "start_time": "2023-05-02T06:45:20.210Z"
   },
   {
    "duration": 87,
    "start_time": "2023-05-02T06:45:20.244Z"
   },
   {
    "duration": 24,
    "start_time": "2023-05-02T06:45:20.822Z"
   },
   {
    "duration": 35,
    "start_time": "2023-05-02T06:45:21.028Z"
   },
   {
    "duration": 21,
    "start_time": "2023-05-02T06:45:21.248Z"
   },
   {
    "duration": 25,
    "start_time": "2023-05-02T06:45:21.473Z"
   },
   {
    "duration": 236,
    "start_time": "2023-05-02T06:45:21.954Z"
   },
   {
    "duration": 441,
    "start_time": "2023-05-02T06:45:22.541Z"
   },
   {
    "duration": 389,
    "start_time": "2023-05-02T06:45:22.985Z"
   },
   {
    "duration": 10,
    "start_time": "2023-05-02T06:45:24.458Z"
   },
   {
    "duration": 20,
    "start_time": "2023-05-02T06:45:24.741Z"
   },
   {
    "duration": 14,
    "start_time": "2023-05-02T06:45:25.131Z"
   },
   {
    "duration": 45,
    "start_time": "2023-05-02T06:45:25.591Z"
   },
   {
    "duration": 30,
    "start_time": "2023-05-02T06:45:26.041Z"
   },
   {
    "duration": 20,
    "start_time": "2023-05-02T06:45:26.291Z"
   },
   {
    "duration": 444,
    "start_time": "2023-05-02T06:45:27.633Z"
   },
   {
    "duration": 8,
    "start_time": "2023-05-02T06:45:28.335Z"
   },
   {
    "duration": 17,
    "start_time": "2023-05-02T06:45:28.834Z"
   },
   {
    "duration": 5,
    "start_time": "2023-05-02T06:45:29.637Z"
   },
   {
    "duration": 17,
    "start_time": "2023-05-02T06:45:30.730Z"
   },
   {
    "duration": 16,
    "start_time": "2023-05-02T06:45:31.261Z"
   },
   {
    "duration": 129,
    "start_time": "2023-05-02T06:45:32.337Z"
   },
   {
    "duration": 10,
    "start_time": "2023-05-02T06:45:32.589Z"
   },
   {
    "duration": 131,
    "start_time": "2023-05-02T06:45:32.835Z"
   },
   {
    "duration": 83,
    "start_time": "2023-05-02T06:45:33.082Z"
   },
   {
    "duration": 9,
    "start_time": "2023-05-02T06:45:33.887Z"
   },
   {
    "duration": 4,
    "start_time": "2023-05-02T06:45:34.429Z"
   },
   {
    "duration": 1807,
    "start_time": "2023-05-02T06:45:34.678Z"
   },
   {
    "duration": 214,
    "start_time": "2023-05-02T06:45:36.488Z"
   },
   {
    "duration": 88,
    "start_time": "2023-05-02T06:45:36.704Z"
   },
   {
    "duration": 7,
    "start_time": "2023-05-02T06:45:36.801Z"
   },
   {
    "duration": 83,
    "start_time": "2023-05-02T06:45:36.935Z"
   },
   {
    "duration": 51,
    "start_time": "2023-05-02T06:45:37.250Z"
   },
   {
    "duration": 3,
    "start_time": "2023-05-02T06:45:38.631Z"
   },
   {
    "duration": 16,
    "start_time": "2023-05-02T06:45:39.527Z"
   },
   {
    "duration": 174,
    "start_time": "2023-05-02T06:45:40.091Z"
   },
   {
    "duration": 187,
    "start_time": "2023-05-02T06:45:40.390Z"
   },
   {
    "duration": 83,
    "start_time": "2023-05-02T06:45:40.691Z"
   },
   {
    "duration": 113,
    "start_time": "2023-05-02T06:45:40.956Z"
   },
   {
    "duration": 116,
    "start_time": "2023-05-02T06:45:41.828Z"
   },
   {
    "duration": 31,
    "start_time": "2023-05-02T06:45:42.125Z"
   },
   {
    "duration": 9,
    "start_time": "2023-05-02T06:45:42.322Z"
   },
   {
    "duration": 21,
    "start_time": "2023-05-02T06:45:42.590Z"
   },
   {
    "duration": 342,
    "start_time": "2023-05-02T06:45:42.826Z"
   },
   {
    "duration": 5,
    "start_time": "2023-05-02T06:45:43.170Z"
   },
   {
    "duration": 10,
    "start_time": "2023-05-02T06:45:43.355Z"
   },
   {
    "duration": 23,
    "start_time": "2023-05-02T06:45:44.626Z"
   },
   {
    "duration": 104,
    "start_time": "2023-05-02T06:45:45.830Z"
   },
   {
    "duration": 41,
    "start_time": "2023-05-02T06:45:46.843Z"
   },
   {
    "duration": 691,
    "start_time": "2023-05-02T06:45:47.347Z"
   },
   {
    "duration": 25,
    "start_time": "2023-05-02T06:45:48.044Z"
   },
   {
    "duration": 42,
    "start_time": "2023-05-02T06:45:48.071Z"
   },
   {
    "duration": 18,
    "start_time": "2023-05-02T06:45:50.528Z"
   },
   {
    "duration": 37,
    "start_time": "2023-05-02T06:45:51.090Z"
   },
   {
    "duration": 755,
    "start_time": "2023-05-02T06:45:52.890Z"
   },
   {
    "duration": 7,
    "start_time": "2023-05-02T06:46:04.563Z"
   },
   {
    "duration": 225,
    "start_time": "2023-05-02T06:46:05.430Z"
   },
   {
    "duration": 12654,
    "start_time": "2023-05-02T06:46:07.232Z"
   },
   {
    "duration": 148,
    "start_time": "2023-05-02T06:46:19.888Z"
   },
   {
    "duration": 3,
    "start_time": "2023-05-02T06:47:17.488Z"
   },
   {
    "duration": 49,
    "start_time": "2023-05-02T06:47:24.860Z"
   },
   {
    "duration": 114,
    "start_time": "2023-05-02T06:47:30.238Z"
   },
   {
    "duration": 2155,
    "start_time": "2023-05-02T06:47:31.257Z"
   },
   {
    "duration": 21,
    "start_time": "2023-05-02T06:49:16.026Z"
   },
   {
    "duration": 695,
    "start_time": "2023-05-02T06:49:59.079Z"
   },
   {
    "duration": 9,
    "start_time": "2023-05-02T06:50:10.160Z"
   },
   {
    "duration": 4,
    "start_time": "2023-05-02T06:50:56.635Z"
   },
   {
    "duration": 19,
    "start_time": "2023-05-02T06:51:11.632Z"
   },
   {
    "duration": 3,
    "start_time": "2023-05-02T06:51:31.151Z"
   },
   {
    "duration": 13,
    "start_time": "2023-05-02T06:51:32.058Z"
   },
   {
    "duration": 62,
    "start_time": "2023-05-02T06:51:55.728Z"
   },
   {
    "duration": 8,
    "start_time": "2023-05-02T06:52:10.165Z"
   },
   {
    "duration": 1670,
    "start_time": "2023-05-02T06:53:54.532Z"
   },
   {
    "duration": 71,
    "start_time": "2023-05-02T06:53:56.205Z"
   },
   {
    "duration": 10,
    "start_time": "2023-05-02T06:53:56.278Z"
   },
   {
    "duration": 77,
    "start_time": "2023-05-02T06:53:56.438Z"
   },
   {
    "duration": 24,
    "start_time": "2023-05-02T06:53:57.127Z"
   },
   {
    "duration": 22,
    "start_time": "2023-05-02T06:53:57.347Z"
   },
   {
    "duration": 17,
    "start_time": "2023-05-02T06:53:57.588Z"
   },
   {
    "duration": 25,
    "start_time": "2023-05-02T06:53:57.828Z"
   },
   {
    "duration": 227,
    "start_time": "2023-05-02T06:53:58.328Z"
   },
   {
    "duration": 387,
    "start_time": "2023-05-02T06:53:58.750Z"
   },
   {
    "duration": 361,
    "start_time": "2023-05-02T06:53:59.291Z"
   },
   {
    "duration": 16,
    "start_time": "2023-05-02T06:54:00.822Z"
   },
   {
    "duration": 18,
    "start_time": "2023-05-02T06:54:01.036Z"
   },
   {
    "duration": 21,
    "start_time": "2023-05-02T06:54:01.286Z"
   },
   {
    "duration": 14,
    "start_time": "2023-05-02T06:54:01.745Z"
   },
   {
    "duration": 22,
    "start_time": "2023-05-02T06:54:02.236Z"
   },
   {
    "duration": 34,
    "start_time": "2023-05-02T06:54:02.489Z"
   },
   {
    "duration": 465,
    "start_time": "2023-05-02T06:54:02.989Z"
   },
   {
    "duration": 5,
    "start_time": "2023-05-02T06:54:03.456Z"
   },
   {
    "duration": 10,
    "start_time": "2023-05-02T06:54:03.782Z"
   },
   {
    "duration": 4,
    "start_time": "2023-05-02T06:54:04.681Z"
   },
   {
    "duration": 16,
    "start_time": "2023-05-02T06:54:04.952Z"
   },
   {
    "duration": 16,
    "start_time": "2023-05-02T06:54:05.253Z"
   },
   {
    "duration": 39,
    "start_time": "2023-05-02T06:54:06.031Z"
   },
   {
    "duration": 4,
    "start_time": "2023-05-02T06:54:06.338Z"
   },
   {
    "duration": 111,
    "start_time": "2023-05-02T06:54:06.569Z"
   },
   {
    "duration": 57,
    "start_time": "2023-05-02T06:54:06.832Z"
   },
   {
    "duration": 8,
    "start_time": "2023-05-02T06:54:07.822Z"
   },
   {
    "duration": 4,
    "start_time": "2023-05-02T06:54:08.082Z"
   },
   {
    "duration": 1699,
    "start_time": "2023-05-02T06:54:08.347Z"
   },
   {
    "duration": 193,
    "start_time": "2023-05-02T06:54:10.048Z"
   },
   {
    "duration": 32,
    "start_time": "2023-05-02T06:54:10.243Z"
   },
   {
    "duration": 4,
    "start_time": "2023-05-02T06:54:10.278Z"
   },
   {
    "duration": 74,
    "start_time": "2023-05-02T06:54:10.485Z"
   },
   {
    "duration": 38,
    "start_time": "2023-05-02T06:54:10.734Z"
   },
   {
    "duration": 6,
    "start_time": "2023-05-02T06:54:11.722Z"
   },
   {
    "duration": 18,
    "start_time": "2023-05-02T06:54:12.245Z"
   },
   {
    "duration": 53,
    "start_time": "2023-05-02T06:54:12.929Z"
   },
   {
    "duration": 154,
    "start_time": "2023-05-02T06:54:13.251Z"
   },
   {
    "duration": 25,
    "start_time": "2023-05-02T06:54:13.629Z"
   },
   {
    "duration": 85,
    "start_time": "2023-05-02T06:54:13.848Z"
   },
   {
    "duration": 51,
    "start_time": "2023-05-02T06:54:14.690Z"
   },
   {
    "duration": 23,
    "start_time": "2023-05-02T06:54:15.023Z"
   },
   {
    "duration": 3,
    "start_time": "2023-05-02T06:54:15.353Z"
   },
   {
    "duration": 37,
    "start_time": "2023-05-02T06:54:15.688Z"
   },
   {
    "duration": 499,
    "start_time": "2023-05-02T06:54:16.029Z"
   },
   {
    "duration": 7,
    "start_time": "2023-05-02T06:54:16.530Z"
   },
   {
    "duration": 13,
    "start_time": "2023-05-02T06:54:16.543Z"
   },
   {
    "duration": 16,
    "start_time": "2023-05-02T06:54:17.461Z"
   },
   {
    "duration": 7,
    "start_time": "2023-05-02T06:54:18.324Z"
   },
   {
    "duration": 43,
    "start_time": "2023-05-02T06:54:20.043Z"
   },
   {
    "duration": 44,
    "start_time": "2023-05-02T06:54:21.132Z"
   },
   {
    "duration": 1195,
    "start_time": "2023-05-02T06:54:21.824Z"
   },
   {
    "duration": 31,
    "start_time": "2023-05-02T06:54:23.028Z"
   },
   {
    "duration": 17,
    "start_time": "2023-05-02T06:54:23.061Z"
   },
   {
    "duration": 15,
    "start_time": "2023-05-02T06:54:24.948Z"
   },
   {
    "duration": 17,
    "start_time": "2023-05-02T06:54:27.437Z"
   },
   {
    "duration": 666,
    "start_time": "2023-05-02T06:54:30.379Z"
   },
   {
    "duration": 10,
    "start_time": "2023-05-02T06:54:32.185Z"
   },
   {
    "duration": 240,
    "start_time": "2023-05-02T06:54:33.330Z"
   },
   {
    "duration": 12280,
    "start_time": "2023-05-02T06:54:34.555Z"
   },
   {
    "duration": 35,
    "start_time": "2023-05-02T06:54:46.839Z"
   },
   {
    "duration": 396,
    "start_time": "2023-05-02T06:54:46.876Z"
   },
   {
    "duration": 1847,
    "start_time": "2023-05-02T06:54:47.274Z"
   },
   {
    "duration": 6,
    "start_time": "2023-05-02T06:56:08.852Z"
   },
   {
    "duration": 20,
    "start_time": "2023-05-02T06:56:17.258Z"
   },
   {
    "duration": 1788,
    "start_time": "2023-05-02T06:56:55.583Z"
   },
   {
    "duration": 21,
    "start_time": "2023-05-02T06:58:51.533Z"
   },
   {
    "duration": 5,
    "start_time": "2023-05-02T06:58:57.631Z"
   },
   {
    "duration": 4,
    "start_time": "2023-05-02T07:08:48.726Z"
   },
   {
    "duration": 1408,
    "start_time": "2023-05-02T07:08:52.138Z"
   },
   {
    "duration": 30,
    "start_time": "2023-05-02T07:11:52.411Z"
   },
   {
    "duration": 1721,
    "start_time": "2023-05-02T07:22:33.823Z"
   },
   {
    "duration": 137,
    "start_time": "2023-05-02T07:23:00.020Z"
   },
   {
    "duration": 1819,
    "start_time": "2023-05-02T07:23:04.988Z"
   },
   {
    "duration": 5,
    "start_time": "2023-05-02T07:23:14.160Z"
   },
   {
    "duration": 20,
    "start_time": "2023-05-02T07:23:19.820Z"
   },
   {
    "duration": 6,
    "start_time": "2023-05-02T07:23:35.129Z"
   },
   {
    "duration": 5,
    "start_time": "2023-05-02T07:23:55.602Z"
   },
   {
    "duration": 5,
    "start_time": "2023-05-02T07:31:12.089Z"
   },
   {
    "duration": 4,
    "start_time": "2023-05-02T07:32:44.850Z"
   },
   {
    "duration": 13,
    "start_time": "2023-05-02T07:34:19.738Z"
   },
   {
    "duration": 5,
    "start_time": "2023-05-02T07:34:43.019Z"
   },
   {
    "duration": 773,
    "start_time": "2023-05-02T07:34:45.184Z"
   },
   {
    "duration": 4,
    "start_time": "2023-05-02T07:37:55.549Z"
   },
   {
    "duration": 891,
    "start_time": "2023-05-02T07:37:56.265Z"
   },
   {
    "duration": 6,
    "start_time": "2023-05-02T07:38:16.906Z"
   },
   {
    "duration": 18,
    "start_time": "2023-05-02T07:38:17.849Z"
   },
   {
    "duration": 5,
    "start_time": "2023-05-02T07:38:21.505Z"
   },
   {
    "duration": 4,
    "start_time": "2023-05-02T07:38:22.118Z"
   },
   {
    "duration": 986,
    "start_time": "2023-05-02T07:38:23.024Z"
   },
   {
    "duration": 5,
    "start_time": "2023-05-02T07:38:35.020Z"
   },
   {
    "duration": 9,
    "start_time": "2023-05-02T07:39:05.153Z"
   },
   {
    "duration": 1257,
    "start_time": "2023-05-02T07:39:27.320Z"
   },
   {
    "duration": 8,
    "start_time": "2023-05-02T07:40:10.929Z"
   },
   {
    "duration": 9,
    "start_time": "2023-05-02T07:41:17.861Z"
   },
   {
    "duration": 10,
    "start_time": "2023-05-02T07:41:25.515Z"
   },
   {
    "duration": 10,
    "start_time": "2023-05-02T07:44:55.130Z"
   },
   {
    "duration": 4,
    "start_time": "2023-05-02T07:48:34.119Z"
   },
   {
    "duration": 10,
    "start_time": "2023-05-02T07:49:30.224Z"
   },
   {
    "duration": 29,
    "start_time": "2023-05-02T07:50:12.726Z"
   },
   {
    "duration": 5,
    "start_time": "2023-05-02T07:50:21.315Z"
   },
   {
    "duration": 12,
    "start_time": "2023-05-02T07:53:31.619Z"
   },
   {
    "duration": 4,
    "start_time": "2023-05-02T07:57:37.020Z"
   },
   {
    "duration": 3,
    "start_time": "2023-05-02T07:59:30.811Z"
   },
   {
    "duration": 2594,
    "start_time": "2023-05-02T07:59:31.808Z"
   },
   {
    "duration": 198,
    "start_time": "2023-05-02T07:59:34.495Z"
   },
   {
    "duration": 94,
    "start_time": "2023-05-02T07:59:34.699Z"
   },
   {
    "duration": 4,
    "start_time": "2023-05-02T07:59:34.859Z"
   },
   {
    "duration": 4,
    "start_time": "2023-05-02T08:01:49.919Z"
   },
   {
    "duration": 34,
    "start_time": "2023-05-02T08:02:13.141Z"
   },
   {
    "duration": 22,
    "start_time": "2023-05-02T08:03:10.629Z"
   },
   {
    "duration": 13,
    "start_time": "2023-05-02T08:03:54.124Z"
   },
   {
    "duration": 42,
    "start_time": "2023-05-02T08:04:01.128Z"
   },
   {
    "duration": 13,
    "start_time": "2023-05-02T08:05:29.129Z"
   },
   {
    "duration": 5,
    "start_time": "2023-05-02T08:07:16.231Z"
   },
   {
    "duration": 13,
    "start_time": "2023-05-02T08:07:24.245Z"
   },
   {
    "duration": 58,
    "start_time": "2023-05-02T08:08:00.418Z"
   },
   {
    "duration": 0,
    "start_time": "2023-05-02T08:12:02.464Z"
   },
   {
    "duration": 247979,
    "start_time": "2023-05-02T08:12:14.760Z"
   },
   {
    "duration": 0,
    "start_time": "2023-05-02T08:24:36.632Z"
   },
   {
    "duration": 223673,
    "start_time": "2023-05-02T08:24:47.525Z"
   },
   {
    "duration": 217987,
    "start_time": "2023-05-02T08:32:41.417Z"
   },
   {
    "duration": 5,
    "start_time": "2023-05-02T08:39:34.759Z"
   },
   {
    "duration": 226108,
    "start_time": "2023-05-02T08:39:47.866Z"
   },
   {
    "duration": 8,
    "start_time": "2023-05-02T08:44:49.511Z"
   },
   {
    "duration": 4,
    "start_time": "2023-05-02T08:44:52.315Z"
   },
   {
    "duration": 4,
    "start_time": "2023-05-02T08:44:54.726Z"
   },
   {
    "duration": 66735,
    "start_time": "2023-05-02T08:55:49.361Z"
   },
   {
    "duration": 212,
    "start_time": "2023-05-02T08:57:54.451Z"
   },
   {
    "duration": 6,
    "start_time": "2023-05-02T08:58:34.487Z"
   },
   {
    "duration": 458,
    "start_time": "2023-05-02T08:58:41.365Z"
   },
   {
    "duration": 96627,
    "start_time": "2023-05-02T09:00:42.383Z"
   },
   {
    "duration": 6,
    "start_time": "2023-05-02T09:04:18.173Z"
   },
   {
    "duration": 18,
    "start_time": "2023-05-02T09:04:18.918Z"
   },
   {
    "duration": 5,
    "start_time": "2023-05-02T09:04:34.750Z"
   },
   {
    "duration": 11,
    "start_time": "2023-05-02T09:04:55.118Z"
   },
   {
    "duration": 6,
    "start_time": "2023-05-02T09:05:24.719Z"
   },
   {
    "duration": 21,
    "start_time": "2023-05-02T09:05:34.246Z"
   },
   {
    "duration": 15,
    "start_time": "2023-05-02T09:05:56.230Z"
   },
   {
    "duration": 7,
    "start_time": "2023-05-02T09:06:19.639Z"
   },
   {
    "duration": 111,
    "start_time": "2023-05-02T09:06:35.482Z"
   },
   {
    "duration": 3,
    "start_time": "2023-05-02T09:10:05.230Z"
   },
   {
    "duration": 3,
    "start_time": "2023-05-02T09:10:05.826Z"
   },
   {
    "duration": 1692,
    "start_time": "2023-05-02T09:10:06.234Z"
   },
   {
    "duration": 70,
    "start_time": "2023-05-02T09:10:07.928Z"
   },
   {
    "duration": 0,
    "start_time": "2023-05-02T09:10:08.004Z"
   },
   {
    "duration": 41,
    "start_time": "2023-05-02T09:10:32.883Z"
   },
   {
    "duration": 4,
    "start_time": "2023-05-02T09:10:35.555Z"
   },
   {
    "duration": 4,
    "start_time": "2023-05-02T09:10:36.331Z"
   },
   {
    "duration": 4,
    "start_time": "2023-05-02T09:11:32.472Z"
   },
   {
    "duration": 5,
    "start_time": "2023-05-02T09:13:10.847Z"
   },
   {
    "duration": 19,
    "start_time": "2023-05-02T09:13:11.739Z"
   },
   {
    "duration": 5,
    "start_time": "2023-05-02T09:13:16.279Z"
   },
   {
    "duration": 6,
    "start_time": "2023-05-02T09:22:27.957Z"
   },
   {
    "duration": 21,
    "start_time": "2023-05-02T09:22:28.528Z"
   },
   {
    "duration": 5,
    "start_time": "2023-05-02T09:22:30.331Z"
   },
   {
    "duration": 5,
    "start_time": "2023-05-02T09:22:50.014Z"
   },
   {
    "duration": 8,
    "start_time": "2023-05-02T09:24:00.085Z"
   },
   {
    "duration": 26,
    "start_time": "2023-05-02T09:24:32.320Z"
   },
   {
    "duration": 449,
    "start_time": "2023-05-02T09:26:39.714Z"
   },
   {
    "duration": 11,
    "start_time": "2023-05-02T09:27:14.828Z"
   },
   {
    "duration": 1296,
    "start_time": "2023-05-02T09:28:34.113Z"
   },
   {
    "duration": 25,
    "start_time": "2023-05-02T09:52:19.228Z"
   },
   {
    "duration": 24,
    "start_time": "2023-05-02T09:53:26.929Z"
   },
   {
    "duration": 3162,
    "start_time": "2023-05-02T09:53:52.415Z"
   },
   {
    "duration": 80,
    "start_time": "2023-05-02T09:53:55.579Z"
   },
   {
    "duration": 9,
    "start_time": "2023-05-02T09:53:55.660Z"
   },
   {
    "duration": 108,
    "start_time": "2023-05-02T09:53:55.672Z"
   },
   {
    "duration": 31,
    "start_time": "2023-05-02T09:53:55.782Z"
   },
   {
    "duration": 31,
    "start_time": "2023-05-02T09:53:55.815Z"
   },
   {
    "duration": 33,
    "start_time": "2023-05-02T09:53:55.848Z"
   },
   {
    "duration": 24,
    "start_time": "2023-05-02T09:53:56.109Z"
   },
   {
    "duration": 205,
    "start_time": "2023-05-02T09:53:56.536Z"
   },
   {
    "duration": 387,
    "start_time": "2023-05-02T09:53:57.022Z"
   },
   {
    "duration": 448,
    "start_time": "2023-05-02T09:53:57.525Z"
   },
   {
    "duration": 8,
    "start_time": "2023-05-02T09:53:59.046Z"
   },
   {
    "duration": 14,
    "start_time": "2023-05-02T09:53:59.418Z"
   },
   {
    "duration": 26,
    "start_time": "2023-05-02T09:53:59.719Z"
   },
   {
    "duration": 26,
    "start_time": "2023-05-02T09:54:00.196Z"
   },
   {
    "duration": 23,
    "start_time": "2023-05-02T09:54:00.657Z"
   },
   {
    "duration": 14,
    "start_time": "2023-05-02T09:54:00.868Z"
   },
   {
    "duration": 348,
    "start_time": "2023-05-02T09:54:01.322Z"
   },
   {
    "duration": 4,
    "start_time": "2023-05-02T09:54:01.672Z"
   },
   {
    "duration": 11,
    "start_time": "2023-05-02T09:54:02.041Z"
   },
   {
    "duration": 4,
    "start_time": "2023-05-02T09:54:02.732Z"
   },
   {
    "duration": 22,
    "start_time": "2023-05-02T09:54:03.017Z"
   },
   {
    "duration": 15,
    "start_time": "2023-05-02T09:54:03.248Z"
   },
   {
    "duration": 41,
    "start_time": "2023-05-02T09:54:04.019Z"
   },
   {
    "duration": 10,
    "start_time": "2023-05-02T09:54:04.318Z"
   },
   {
    "duration": 116,
    "start_time": "2023-05-02T09:54:05.210Z"
   },
   {
    "duration": 57,
    "start_time": "2023-05-02T09:54:05.428Z"
   },
   {
    "duration": 3,
    "start_time": "2023-05-02T09:54:06.255Z"
   },
   {
    "duration": 4,
    "start_time": "2023-05-02T09:54:06.518Z"
   },
   {
    "duration": 1821,
    "start_time": "2023-05-02T09:54:06.786Z"
   },
   {
    "duration": 167,
    "start_time": "2023-05-02T09:54:08.609Z"
   },
   {
    "duration": 52,
    "start_time": "2023-05-02T09:54:08.778Z"
   },
   {
    "duration": 4,
    "start_time": "2023-05-02T09:54:08.831Z"
   },
   {
    "duration": 48,
    "start_time": "2023-05-02T09:54:08.836Z"
   },
   {
    "duration": 53,
    "start_time": "2023-05-02T09:54:09.018Z"
   },
   {
    "duration": 4,
    "start_time": "2023-05-02T09:54:10.314Z"
   },
   {
    "duration": 18,
    "start_time": "2023-05-02T09:54:10.620Z"
   },
   {
    "duration": 60,
    "start_time": "2023-05-02T09:54:11.218Z"
   },
   {
    "duration": 151,
    "start_time": "2023-05-02T09:54:11.622Z"
   },
   {
    "duration": 40,
    "start_time": "2023-05-02T09:54:11.838Z"
   },
   {
    "duration": 94,
    "start_time": "2023-05-02T09:54:12.118Z"
   },
   {
    "duration": 54,
    "start_time": "2023-05-02T09:54:12.914Z"
   },
   {
    "duration": 29,
    "start_time": "2023-05-02T09:54:13.237Z"
   },
   {
    "duration": 4,
    "start_time": "2023-05-02T09:54:13.555Z"
   },
   {
    "duration": 17,
    "start_time": "2023-05-02T09:54:14.038Z"
   },
   {
    "duration": 429,
    "start_time": "2023-05-02T09:54:15.052Z"
   },
   {
    "duration": 11,
    "start_time": "2023-05-02T09:54:15.828Z"
   },
   {
    "duration": 11,
    "start_time": "2023-05-02T09:54:16.380Z"
   },
   {
    "duration": 18,
    "start_time": "2023-05-02T09:54:17.564Z"
   },
   {
    "duration": 3,
    "start_time": "2023-05-02T09:54:18.038Z"
   },
   {
    "duration": 44,
    "start_time": "2023-05-02T09:54:19.157Z"
   },
   {
    "duration": 60,
    "start_time": "2023-05-02T09:54:20.158Z"
   },
   {
    "duration": 965,
    "start_time": "2023-05-02T09:54:23.126Z"
   },
   {
    "duration": 54,
    "start_time": "2023-05-02T09:54:24.095Z"
   },
   {
    "duration": 18,
    "start_time": "2023-05-02T09:54:25.962Z"
   },
   {
    "duration": 19,
    "start_time": "2023-05-02T09:54:30.026Z"
   },
   {
    "duration": 24,
    "start_time": "2023-05-02T09:54:32.010Z"
   },
   {
    "duration": 683,
    "start_time": "2023-05-02T09:54:33.426Z"
   },
   {
    "duration": 6,
    "start_time": "2023-05-02T09:54:35.565Z"
   },
   {
    "duration": 226,
    "start_time": "2023-05-02T09:54:36.748Z"
   },
   {
    "duration": 13458,
    "start_time": "2023-05-02T09:54:38.157Z"
   },
   {
    "duration": 49,
    "start_time": "2023-05-02T09:54:51.624Z"
   },
   {
    "duration": 97,
    "start_time": "2023-05-02T09:54:51.675Z"
   },
   {
    "duration": 10,
    "start_time": "2023-05-02T09:54:52.425Z"
   },
   {
    "duration": 1549,
    "start_time": "2023-05-02T09:54:56.636Z"
   },
   {
    "duration": 5,
    "start_time": "2023-05-02T09:54:58.657Z"
   },
   {
    "duration": 8,
    "start_time": "2023-05-02T09:55:33.918Z"
   },
   {
    "duration": 28,
    "start_time": "2023-05-02T09:55:35.518Z"
   },
   {
    "duration": 5,
    "start_time": "2023-05-02T09:55:40.649Z"
   },
   {
    "duration": 6,
    "start_time": "2023-05-02T09:56:00.763Z"
   },
   {
    "duration": 15,
    "start_time": "2023-05-02T09:56:04.425Z"
   },
   {
    "duration": 1310,
    "start_time": "2023-05-02T09:56:06.318Z"
   },
   {
    "duration": 170,
    "start_time": "2023-05-02T09:56:56.412Z"
   },
   {
    "duration": 17,
    "start_time": "2023-05-02T09:57:11.606Z"
   },
   {
    "duration": 2,
    "start_time": "2023-05-02T09:57:21.643Z"
   },
   {
    "duration": 4,
    "start_time": "2023-05-02T09:57:22.206Z"
   },
   {
    "duration": 3266,
    "start_time": "2023-05-02T09:57:22.737Z"
   },
   {
    "duration": 182,
    "start_time": "2023-05-02T09:57:26.011Z"
   },
   {
    "duration": 16,
    "start_time": "2023-05-02T09:57:26.195Z"
   },
   {
    "duration": 4,
    "start_time": "2023-05-02T09:57:27.315Z"
   },
   {
    "duration": 13,
    "start_time": "2023-05-02T09:58:53.952Z"
   },
   {
    "duration": 68,
    "start_time": "2023-05-02T09:59:30.641Z"
   },
   {
    "duration": 5,
    "start_time": "2023-05-02T10:00:55.707Z"
   },
   {
    "duration": 4,
    "start_time": "2023-05-02T10:01:03.319Z"
   },
   {
    "duration": 65,
    "start_time": "2023-05-02T10:01:22.928Z"
   },
   {
    "duration": 4,
    "start_time": "2023-05-02T10:01:47.536Z"
   },
   {
    "duration": 141142,
    "start_time": "2023-05-02T10:02:06.465Z"
   },
   {
    "duration": 10,
    "start_time": "2023-05-02T10:04:27.609Z"
   },
   {
    "duration": 11,
    "start_time": "2023-05-02T10:04:50.240Z"
   },
   {
    "duration": 10,
    "start_time": "2023-05-02T10:04:57.808Z"
   },
   {
    "duration": 13,
    "start_time": "2023-05-02T10:05:17.302Z"
   },
   {
    "duration": 5,
    "start_time": "2023-05-02T10:05:39.898Z"
   },
   {
    "duration": 9,
    "start_time": "2023-05-02T10:05:40.958Z"
   },
   {
    "duration": 8,
    "start_time": "2023-05-02T10:06:02.906Z"
   },
   {
    "duration": 6,
    "start_time": "2023-05-02T10:06:10.297Z"
   },
   {
    "duration": 10,
    "start_time": "2023-05-02T10:06:10.835Z"
   },
   {
    "duration": 5,
    "start_time": "2023-05-02T10:08:25.015Z"
   },
   {
    "duration": 70452,
    "start_time": "2023-05-02T10:08:25.801Z"
   },
   {
    "duration": 5,
    "start_time": "2023-05-02T10:09:36.254Z"
   },
   {
    "duration": 20,
    "start_time": "2023-05-02T10:09:36.261Z"
   },
   {
    "duration": 0,
    "start_time": "2023-05-02T10:15:32.348Z"
   },
   {
    "duration": 4,
    "start_time": "2023-05-02T10:15:38.107Z"
   },
   {
    "duration": 1863084,
    "start_time": "2023-05-02T10:15:40.351Z"
   },
   {
    "duration": 0,
    "start_time": "2023-05-02T10:46:43.437Z"
   },
   {
    "duration": 0,
    "start_time": "2023-05-02T10:46:43.438Z"
   },
   {
    "duration": 0,
    "start_time": "2023-05-02T10:46:43.440Z"
   },
   {
    "duration": 0,
    "start_time": "2023-05-02T10:46:43.441Z"
   },
   {
    "duration": 0,
    "start_time": "2023-05-02T10:46:43.443Z"
   },
   {
    "duration": 0,
    "start_time": "2023-05-02T10:46:43.444Z"
   },
   {
    "duration": 7951,
    "start_time": "2023-05-02T10:47:00.967Z"
   },
   {
    "duration": 15,
    "start_time": "2023-05-02T10:47:14.288Z"
   },
   {
    "duration": 573127,
    "start_time": "2023-05-02T10:49:20.787Z"
   },
   {
    "duration": 0,
    "start_time": "2023-05-02T10:58:53.916Z"
   },
   {
    "duration": 51,
    "start_time": "2023-05-02T10:58:57.964Z"
   },
   {
    "duration": 53,
    "start_time": "2023-05-02T10:59:26.215Z"
   },
   {
    "duration": 11,
    "start_time": "2023-05-02T10:59:34.418Z"
   },
   {
    "duration": 19,
    "start_time": "2023-05-02T11:00:00.664Z"
   },
   {
    "duration": 14,
    "start_time": "2023-05-02T11:00:10.247Z"
   },
   {
    "duration": 12,
    "start_time": "2023-05-02T11:06:30.287Z"
   },
   {
    "duration": 5,
    "start_time": "2023-05-02T11:06:45.165Z"
   },
   {
    "duration": 47,
    "start_time": "2023-05-02T11:06:46.414Z"
   },
   {
    "duration": 6,
    "start_time": "2023-05-02T11:07:23.835Z"
   },
   {
    "duration": 444,
    "start_time": "2023-05-02T11:07:27.700Z"
   },
   {
    "duration": 3,
    "start_time": "2023-05-02T11:07:32.954Z"
   },
   {
    "duration": 14,
    "start_time": "2023-05-02T11:07:34.697Z"
   },
   {
    "duration": 18,
    "start_time": "2023-05-02T11:08:30.813Z"
   },
   {
    "duration": 1581,
    "start_time": "2023-05-02T11:08:31.837Z"
   },
   {
    "duration": 3,
    "start_time": "2023-05-02T11:08:40.429Z"
   },
   {
    "duration": 7,
    "start_time": "2023-05-02T11:08:41.223Z"
   },
   {
    "duration": 5,
    "start_time": "2023-05-02T11:10:39.353Z"
   },
   {
    "duration": 85,
    "start_time": "2023-05-02T11:10:40.413Z"
   },
   {
    "duration": 11,
    "start_time": "2023-05-02T11:10:40.611Z"
   },
   {
    "duration": 68,
    "start_time": "2023-05-02T11:10:41.054Z"
   },
   {
    "duration": 324,
    "start_time": "2023-05-02T11:10:47.375Z"
   },
   {
    "duration": 6,
    "start_time": "2023-05-02T11:10:48.941Z"
   },
   {
    "duration": 22,
    "start_time": "2023-05-02T11:10:49.185Z"
   },
   {
    "duration": 16,
    "start_time": "2023-05-02T11:10:49.428Z"
   },
   {
    "duration": 17,
    "start_time": "2023-05-02T11:10:49.814Z"
   },
   {
    "duration": 24,
    "start_time": "2023-05-02T11:10:50.283Z"
   },
   {
    "duration": 17,
    "start_time": "2023-05-02T11:10:50.511Z"
   },
   {
    "duration": 348,
    "start_time": "2023-05-02T11:10:51.012Z"
   },
   {
    "duration": 5,
    "start_time": "2023-05-02T11:10:51.363Z"
   },
   {
    "duration": 11,
    "start_time": "2023-05-02T11:10:52.285Z"
   },
   {
    "duration": 1606,
    "start_time": "2023-05-02T11:11:15.173Z"
   },
   {
    "duration": 70,
    "start_time": "2023-05-02T11:11:18.394Z"
   },
   {
    "duration": 12,
    "start_time": "2023-05-02T11:11:18.638Z"
   },
   {
    "duration": 69,
    "start_time": "2023-05-02T11:11:19.076Z"
   },
   {
    "duration": 20,
    "start_time": "2023-05-02T11:11:19.541Z"
   },
   {
    "duration": 31,
    "start_time": "2023-05-02T11:11:19.751Z"
   },
   {
    "duration": 20,
    "start_time": "2023-05-02T11:11:19.991Z"
   },
   {
    "duration": 17,
    "start_time": "2023-05-02T11:11:20.216Z"
   },
   {
    "duration": 200,
    "start_time": "2023-05-02T11:11:20.703Z"
   },
   {
    "duration": 400,
    "start_time": "2023-05-02T11:11:21.775Z"
   },
   {
    "duration": 399,
    "start_time": "2023-05-02T11:11:22.667Z"
   },
   {
    "duration": 7,
    "start_time": "2023-05-02T11:11:24.328Z"
   },
   {
    "duration": 13,
    "start_time": "2023-05-02T11:11:24.560Z"
   },
   {
    "duration": 13,
    "start_time": "2023-05-02T11:11:24.813Z"
   },
   {
    "duration": 23,
    "start_time": "2023-05-02T11:11:25.292Z"
   },
   {
    "duration": 21,
    "start_time": "2023-05-02T11:11:25.772Z"
   },
   {
    "duration": 13,
    "start_time": "2023-05-02T11:11:26.015Z"
   },
   {
    "duration": 368,
    "start_time": "2023-05-02T11:11:26.592Z"
   },
   {
    "duration": 5,
    "start_time": "2023-05-02T11:11:32.934Z"
   },
   {
    "duration": 14,
    "start_time": "2023-05-02T11:11:46.110Z"
   },
   {
    "duration": 3,
    "start_time": "2023-05-02T11:11:47.644Z"
   },
   {
    "duration": 12,
    "start_time": "2023-05-02T11:11:48.173Z"
   },
   {
    "duration": 12,
    "start_time": "2023-05-02T11:11:48.769Z"
   },
   {
    "duration": 68,
    "start_time": "2023-05-02T11:11:50.927Z"
   },
   {
    "duration": 4,
    "start_time": "2023-05-02T11:11:51.371Z"
   },
   {
    "duration": 104,
    "start_time": "2023-05-02T11:11:51.822Z"
   },
   {
    "duration": 58,
    "start_time": "2023-05-02T11:11:52.411Z"
   },
   {
    "duration": 3,
    "start_time": "2023-05-02T11:11:54.138Z"
   },
   {
    "duration": 4,
    "start_time": "2023-05-02T11:11:54.671Z"
   },
   {
    "duration": 1646,
    "start_time": "2023-05-02T11:11:55.069Z"
   },
   {
    "duration": 167,
    "start_time": "2023-05-02T11:11:59.872Z"
   },
   {
    "duration": 59,
    "start_time": "2023-05-02T11:12:01.413Z"
   },
   {
    "duration": 3,
    "start_time": "2023-05-02T11:12:02.022Z"
   },
   {
    "duration": 71,
    "start_time": "2023-05-02T11:12:02.728Z"
   },
   {
    "duration": 53,
    "start_time": "2023-05-02T11:12:03.276Z"
   },
   {
    "duration": 4,
    "start_time": "2023-05-02T11:12:05.413Z"
   },
   {
    "duration": 14,
    "start_time": "2023-05-02T11:12:06.385Z"
   },
   {
    "duration": 130,
    "start_time": "2023-05-02T11:12:07.173Z"
   },
   {
    "duration": 136,
    "start_time": "2023-05-02T11:12:07.432Z"
   },
   {
    "duration": 52,
    "start_time": "2023-05-02T11:12:07.682Z"
   },
   {
    "duration": 88,
    "start_time": "2023-05-02T11:12:07.914Z"
   },
   {
    "duration": 75,
    "start_time": "2023-05-02T11:12:08.662Z"
   },
   {
    "duration": 27,
    "start_time": "2023-05-02T11:12:08.914Z"
   },
   {
    "duration": 4,
    "start_time": "2023-05-02T11:12:09.363Z"
   },
   {
    "duration": 20,
    "start_time": "2023-05-02T11:12:09.711Z"
   },
   {
    "duration": 308,
    "start_time": "2023-05-02T11:12:10.019Z"
   },
   {
    "duration": 5,
    "start_time": "2023-05-02T11:12:10.328Z"
   },
   {
    "duration": 9,
    "start_time": "2023-05-02T11:12:10.620Z"
   },
   {
    "duration": 17,
    "start_time": "2023-05-02T11:12:12.841Z"
   },
   {
    "duration": 3,
    "start_time": "2023-05-02T11:12:43.442Z"
   },
   {
    "duration": 69,
    "start_time": "2023-05-02T11:12:44.178Z"
   },
   {
    "duration": 40,
    "start_time": "2023-05-02T11:12:44.468Z"
   },
   {
    "duration": 635,
    "start_time": "2023-05-02T11:12:45.145Z"
   },
   {
    "duration": 23,
    "start_time": "2023-05-02T11:12:45.782Z"
   },
   {
    "duration": 15,
    "start_time": "2023-05-02T11:12:45.865Z"
   },
   {
    "duration": 13,
    "start_time": "2023-05-02T11:12:46.433Z"
   },
   {
    "duration": 15,
    "start_time": "2023-05-02T11:12:46.947Z"
   },
   {
    "duration": 515,
    "start_time": "2023-05-02T11:12:47.610Z"
   },
   {
    "duration": 8,
    "start_time": "2023-05-02T11:12:48.614Z"
   },
   {
    "duration": 181,
    "start_time": "2023-05-02T11:12:49.441Z"
   },
   {
    "duration": 10747,
    "start_time": "2023-05-02T11:12:50.011Z"
   },
   {
    "duration": 49,
    "start_time": "2023-05-02T11:13:00.761Z"
   },
   {
    "duration": 93,
    "start_time": "2023-05-02T11:13:00.812Z"
   },
   {
    "duration": 9,
    "start_time": "2023-05-02T11:13:00.907Z"
   },
   {
    "duration": 1487,
    "start_time": "2023-05-02T11:13:00.918Z"
   },
   {
    "duration": 5,
    "start_time": "2023-05-02T11:13:02.407Z"
   },
   {
    "duration": 44,
    "start_time": "2023-05-02T11:13:02.413Z"
   },
   {
    "duration": 48,
    "start_time": "2023-05-02T11:13:02.459Z"
   },
   {
    "duration": 5,
    "start_time": "2023-05-02T11:13:11.313Z"
   },
   {
    "duration": 5,
    "start_time": "2023-05-02T11:13:12.124Z"
   },
   {
    "duration": 1595,
    "start_time": "2023-05-02T11:13:40.482Z"
   },
   {
    "duration": 61,
    "start_time": "2023-05-02T11:13:42.079Z"
   },
   {
    "duration": 9,
    "start_time": "2023-05-02T11:13:42.141Z"
   },
   {
    "duration": 68,
    "start_time": "2023-05-02T11:13:42.488Z"
   },
   {
    "duration": 20,
    "start_time": "2023-05-02T11:13:42.880Z"
   },
   {
    "duration": 21,
    "start_time": "2023-05-02T11:13:43.090Z"
   },
   {
    "duration": 12,
    "start_time": "2023-05-02T11:13:43.274Z"
   },
   {
    "duration": 17,
    "start_time": "2023-05-02T11:13:43.469Z"
   },
   {
    "duration": 157,
    "start_time": "2023-05-02T11:13:43.848Z"
   },
   {
    "duration": 310,
    "start_time": "2023-05-02T11:13:44.273Z"
   },
   {
    "duration": 396,
    "start_time": "2023-05-02T11:13:44.885Z"
   },
   {
    "duration": 6,
    "start_time": "2023-05-02T11:13:46.179Z"
   },
   {
    "duration": 12,
    "start_time": "2023-05-02T11:13:46.804Z"
   },
   {
    "duration": 13,
    "start_time": "2023-05-02T11:13:46.818Z"
   },
   {
    "duration": 13,
    "start_time": "2023-05-02T11:13:47.034Z"
   },
   {
    "duration": 20,
    "start_time": "2023-05-02T11:13:47.511Z"
   },
   {
    "duration": 11,
    "start_time": "2023-05-02T11:13:47.763Z"
   },
   {
    "duration": 280,
    "start_time": "2023-05-02T11:13:48.257Z"
   },
   {
    "duration": 6,
    "start_time": "2023-05-02T11:13:48.540Z"
   },
   {
    "duration": 10,
    "start_time": "2023-05-02T11:13:48.987Z"
   },
   {
    "duration": 5,
    "start_time": "2023-05-02T11:13:49.787Z"
   },
   {
    "duration": 11,
    "start_time": "2023-05-02T11:13:50.094Z"
   },
   {
    "duration": 13,
    "start_time": "2023-05-02T11:13:50.308Z"
   },
   {
    "duration": 42,
    "start_time": "2023-05-02T11:13:51.192Z"
   },
   {
    "duration": 4,
    "start_time": "2023-05-02T11:13:51.421Z"
   },
   {
    "duration": 79,
    "start_time": "2023-05-02T11:13:51.658Z"
   },
   {
    "duration": 73,
    "start_time": "2023-05-02T11:13:51.876Z"
   },
   {
    "duration": 3,
    "start_time": "2023-05-02T11:13:52.509Z"
   },
   {
    "duration": 4,
    "start_time": "2023-05-02T11:13:52.710Z"
   },
   {
    "duration": 1558,
    "start_time": "2023-05-02T11:13:52.928Z"
   },
   {
    "duration": 151,
    "start_time": "2023-05-02T11:13:54.488Z"
   },
   {
    "duration": 33,
    "start_time": "2023-05-02T11:13:54.641Z"
   },
   {
    "duration": 3,
    "start_time": "2023-05-02T11:13:54.812Z"
   },
   {
    "duration": 50,
    "start_time": "2023-05-02T11:13:55.144Z"
   },
   {
    "duration": 39,
    "start_time": "2023-05-02T11:13:55.711Z"
   },
   {
    "duration": 3,
    "start_time": "2023-05-02T11:13:57.210Z"
   },
   {
    "duration": 15,
    "start_time": "2023-05-02T11:13:57.490Z"
   },
   {
    "duration": 41,
    "start_time": "2023-05-02T11:13:58.490Z"
   },
   {
    "duration": 131,
    "start_time": "2023-05-02T11:13:58.712Z"
   },
   {
    "duration": 27,
    "start_time": "2023-05-02T11:13:59.023Z"
   },
   {
    "duration": 66,
    "start_time": "2023-05-02T11:13:59.220Z"
   },
   {
    "duration": 43,
    "start_time": "2023-05-02T11:13:59.849Z"
   },
   {
    "duration": 22,
    "start_time": "2023-05-02T11:14:00.475Z"
   },
   {
    "duration": 3,
    "start_time": "2023-05-02T11:14:00.735Z"
   },
   {
    "duration": 19,
    "start_time": "2023-05-02T11:14:00.936Z"
   },
   {
    "duration": 312,
    "start_time": "2023-05-02T11:14:01.114Z"
   },
   {
    "duration": 5,
    "start_time": "2023-05-02T11:14:01.428Z"
   },
   {
    "duration": 55,
    "start_time": "2023-05-02T11:14:01.459Z"
   },
   {
    "duration": 22,
    "start_time": "2023-05-02T11:14:02.057Z"
   },
   {
    "duration": 4,
    "start_time": "2023-05-02T11:14:02.274Z"
   },
   {
    "duration": 40,
    "start_time": "2023-05-02T11:14:02.740Z"
   },
   {
    "duration": 39,
    "start_time": "2023-05-02T11:14:02.953Z"
   },
   {
    "duration": 598,
    "start_time": "2023-05-02T11:14:03.288Z"
   },
   {
    "duration": 19,
    "start_time": "2023-05-02T11:14:03.892Z"
   },
   {
    "duration": 19,
    "start_time": "2023-05-02T11:14:03.913Z"
   },
   {
    "duration": 13,
    "start_time": "2023-05-02T11:14:04.158Z"
   },
   {
    "duration": 16,
    "start_time": "2023-05-02T11:14:04.576Z"
   },
   {
    "duration": 546,
    "start_time": "2023-05-02T11:14:05.010Z"
   },
   {
    "duration": 7,
    "start_time": "2023-05-02T11:14:06.412Z"
   },
   {
    "duration": 181,
    "start_time": "2023-05-02T11:14:07.211Z"
   },
   {
    "duration": 10724,
    "start_time": "2023-05-02T11:14:07.794Z"
   },
   {
    "duration": 35,
    "start_time": "2023-05-02T11:14:18.520Z"
   },
   {
    "duration": 96,
    "start_time": "2023-05-02T11:14:18.558Z"
   },
   {
    "duration": 5,
    "start_time": "2023-05-02T11:14:18.657Z"
   },
   {
    "duration": 1461,
    "start_time": "2023-05-02T11:14:18.664Z"
   },
   {
    "duration": 5,
    "start_time": "2023-05-02T11:14:20.127Z"
   },
   {
    "duration": 17,
    "start_time": "2023-05-02T11:14:20.133Z"
   },
   {
    "duration": 23,
    "start_time": "2023-05-02T11:14:20.152Z"
   },
   {
    "duration": 5,
    "start_time": "2023-05-02T11:14:27.026Z"
   },
   {
    "duration": 7,
    "start_time": "2023-05-02T11:14:28.369Z"
   },
   {
    "duration": 5,
    "start_time": "2023-05-02T11:15:17.709Z"
   },
   {
    "duration": 2338,
    "start_time": "2023-05-02T11:15:18.570Z"
   },
   {
    "duration": 3,
    "start_time": "2023-05-02T11:15:20.911Z"
   },
   {
    "duration": 11,
    "start_time": "2023-05-02T11:15:20.915Z"
   },
   {
    "duration": 42,
    "start_time": "2023-05-02T11:17:46.133Z"
   },
   {
    "duration": 117,
    "start_time": "2023-05-02T11:17:56.978Z"
   },
   {
    "duration": 6,
    "start_time": "2023-05-02T11:18:11.713Z"
   },
   {
    "duration": 13,
    "start_time": "2023-05-02T11:18:19.515Z"
   },
   {
    "duration": 770,
    "start_time": "2023-05-02T11:18:30.525Z"
   },
   {
    "duration": 3175,
    "start_time": "2023-05-02T11:20:19.146Z"
   },
   {
    "duration": 2998,
    "start_time": "2023-05-02T11:20:37.119Z"
   },
   {
    "duration": 148311,
    "start_time": "2023-05-02T11:22:40.866Z"
   },
   {
    "duration": 5,
    "start_time": "2023-05-02T11:25:21.577Z"
   },
   {
    "duration": 25432,
    "start_time": "2023-05-02T11:25:53.046Z"
   },
   {
    "duration": 5,
    "start_time": "2023-05-02T11:26:20.325Z"
   },
   {
    "duration": 42853,
    "start_time": "2023-05-02T11:26:20.651Z"
   },
   {
    "duration": 0,
    "start_time": "2023-05-02T11:27:56.026Z"
   },
   {
    "duration": 0,
    "start_time": "2023-05-02T11:27:56.027Z"
   },
   {
    "duration": 11,
    "start_time": "2023-05-02T11:28:16.257Z"
   },
   {
    "duration": 5,
    "start_time": "2023-05-02T11:29:08.741Z"
   },
   {
    "duration": 1671,
    "start_time": "2023-05-02T11:29:10.530Z"
   },
   {
    "duration": 8,
    "start_time": "2023-05-02T11:29:30.301Z"
   },
   {
    "duration": 143229,
    "start_time": "2023-05-02T11:29:31.261Z"
   },
   {
    "duration": 0,
    "start_time": "2023-05-02T11:31:54.492Z"
   },
   {
    "duration": 4,
    "start_time": "2023-05-02T11:31:57.722Z"
   },
   {
    "duration": 52238,
    "start_time": "2023-05-02T11:31:59.014Z"
   },
   {
    "duration": 944246,
    "start_time": "2023-05-02T11:33:29.908Z"
   },
   {
    "duration": 8,
    "start_time": "2023-05-02T11:56:20.679Z"
   },
   {
    "duration": 3738,
    "start_time": "2023-05-02T12:04:09.551Z"
   },
   {
    "duration": 6,
    "start_time": "2023-05-02T12:06:18.663Z"
   },
   {
    "duration": 18,
    "start_time": "2023-05-02T12:06:39.925Z"
   },
   {
    "duration": 37,
    "start_time": "2023-05-02T12:10:18.182Z"
   },
   {
    "duration": 12,
    "start_time": "2023-05-02T12:12:18.748Z"
   },
   {
    "duration": 26,
    "start_time": "2023-05-02T12:12:19.322Z"
   },
   {
    "duration": 50,
    "start_time": "2023-05-02T12:12:33.837Z"
   },
   {
    "duration": 14,
    "start_time": "2023-05-02T12:12:39.916Z"
   },
   {
    "duration": 22,
    "start_time": "2023-05-02T12:13:52.319Z"
   },
   {
    "duration": 254,
    "start_time": "2023-05-02T12:14:07.485Z"
   },
   {
    "duration": 20,
    "start_time": "2023-05-02T12:15:25.087Z"
   },
   {
    "duration": 32,
    "start_time": "2023-05-02T12:15:36.087Z"
   },
   {
    "duration": 277,
    "start_time": "2023-05-02T12:15:57.268Z"
   },
   {
    "duration": 268,
    "start_time": "2023-05-02T12:16:34.668Z"
   },
   {
    "duration": 2115,
    "start_time": "2023-05-02T12:19:11.128Z"
   },
   {
    "duration": 141,
    "start_time": "2023-05-02T12:19:13.250Z"
   },
   {
    "duration": 24,
    "start_time": "2023-05-02T12:19:13.403Z"
   },
   {
    "duration": 120,
    "start_time": "2023-05-02T12:19:13.436Z"
   },
   {
    "duration": 31,
    "start_time": "2023-05-02T12:19:13.562Z"
   },
   {
    "duration": 40,
    "start_time": "2023-05-02T12:19:13.640Z"
   },
   {
    "duration": 18,
    "start_time": "2023-05-02T12:19:13.861Z"
   },
   {
    "duration": 29,
    "start_time": "2023-05-02T12:19:14.049Z"
   },
   {
    "duration": 278,
    "start_time": "2023-05-02T12:19:14.433Z"
   },
   {
    "duration": 515,
    "start_time": "2023-05-02T12:19:14.856Z"
   },
   {
    "duration": 624,
    "start_time": "2023-05-02T12:19:15.539Z"
   },
   {
    "duration": 17,
    "start_time": "2023-05-02T12:19:16.788Z"
   },
   {
    "duration": 24,
    "start_time": "2023-05-02T12:19:17.016Z"
   },
   {
    "duration": 28,
    "start_time": "2023-05-02T12:19:17.222Z"
   },
   {
    "duration": 17,
    "start_time": "2023-05-02T12:19:17.665Z"
   },
   {
    "duration": 44,
    "start_time": "2023-05-02T12:19:18.125Z"
   },
   {
    "duration": 25,
    "start_time": "2023-05-02T12:19:18.352Z"
   },
   {
    "duration": 412,
    "start_time": "2023-05-02T12:19:18.749Z"
   },
   {
    "duration": 5,
    "start_time": "2023-05-02T12:19:19.164Z"
   },
   {
    "duration": 13,
    "start_time": "2023-05-02T12:19:19.456Z"
   },
   {
    "duration": 10,
    "start_time": "2023-05-02T12:19:20.037Z"
   },
   {
    "duration": 17,
    "start_time": "2023-05-02T12:19:20.232Z"
   },
   {
    "duration": 17,
    "start_time": "2023-05-02T12:19:20.441Z"
   },
   {
    "duration": 48,
    "start_time": "2023-05-02T12:19:21.038Z"
   },
   {
    "duration": 19,
    "start_time": "2023-05-02T12:19:21.288Z"
   },
   {
    "duration": 125,
    "start_time": "2023-05-02T12:19:21.461Z"
   },
   {
    "duration": 68,
    "start_time": "2023-05-02T12:19:21.667Z"
   },
   {
    "duration": 9,
    "start_time": "2023-05-02T12:19:22.291Z"
   },
   {
    "duration": 22,
    "start_time": "2023-05-02T12:19:22.506Z"
   },
   {
    "duration": 2429,
    "start_time": "2023-05-02T12:19:22.739Z"
   },
   {
    "duration": 282,
    "start_time": "2023-05-02T12:19:25.170Z"
   },
   {
    "duration": 85,
    "start_time": "2023-05-02T12:19:25.454Z"
   },
   {
    "duration": 7,
    "start_time": "2023-05-02T12:19:25.544Z"
   },
   {
    "duration": 77,
    "start_time": "2023-05-02T12:19:25.554Z"
   },
   {
    "duration": 59,
    "start_time": "2023-05-02T12:19:25.639Z"
   },
   {
    "duration": 5,
    "start_time": "2023-05-02T12:19:25.703Z"
   },
   {
    "duration": 22,
    "start_time": "2023-05-02T12:19:25.715Z"
   },
   {
    "duration": 50,
    "start_time": "2023-05-02T12:19:25.741Z"
   },
   {
    "duration": 200,
    "start_time": "2023-05-02T12:19:25.820Z"
   },
   {
    "duration": 53,
    "start_time": "2023-05-02T12:19:26.027Z"
   },
   {
    "duration": 173,
    "start_time": "2023-05-02T12:19:26.262Z"
   },
   {
    "duration": 102,
    "start_time": "2023-05-02T12:19:26.741Z"
   },
   {
    "duration": 53,
    "start_time": "2023-05-02T12:19:26.960Z"
   },
   {
    "duration": 4,
    "start_time": "2023-05-02T12:19:27.186Z"
   },
   {
    "duration": 39,
    "start_time": "2023-05-02T12:19:27.380Z"
   },
   {
    "duration": 525,
    "start_time": "2023-05-02T12:19:27.565Z"
   },
   {
    "duration": 17,
    "start_time": "2023-05-02T12:19:28.095Z"
   },
   {
    "duration": 25,
    "start_time": "2023-05-02T12:19:28.114Z"
   },
   {
    "duration": 33,
    "start_time": "2023-05-02T12:19:28.623Z"
   },
   {
    "duration": 4,
    "start_time": "2023-05-02T12:19:28.830Z"
   },
   {
    "duration": 106,
    "start_time": "2023-05-02T12:19:29.263Z"
   },
   {
    "duration": 91,
    "start_time": "2023-05-02T12:19:29.477Z"
   },
   {
    "duration": 961,
    "start_time": "2023-05-02T12:19:29.925Z"
   },
   {
    "duration": 33,
    "start_time": "2023-05-02T12:19:30.893Z"
   },
   {
    "duration": 49,
    "start_time": "2023-05-02T12:19:30.936Z"
   },
   {
    "duration": 30,
    "start_time": "2023-05-02T12:19:30.999Z"
   },
   {
    "duration": 46,
    "start_time": "2023-05-02T12:19:31.176Z"
   },
   {
    "duration": 1052,
    "start_time": "2023-05-02T12:19:31.629Z"
   },
   {
    "duration": 28,
    "start_time": "2023-05-02T12:19:32.684Z"
   },
   {
    "duration": 347,
    "start_time": "2023-05-02T12:19:32.720Z"
   },
   {
    "duration": 16802,
    "start_time": "2023-05-02T12:19:33.080Z"
   },
   {
    "duration": 52,
    "start_time": "2023-05-02T12:19:49.885Z"
   },
   {
    "duration": 108,
    "start_time": "2023-05-02T12:19:49.939Z"
   },
   {
    "duration": 6,
    "start_time": "2023-05-02T12:19:50.054Z"
   },
   {
    "duration": 1898,
    "start_time": "2023-05-02T12:19:50.064Z"
   },
   {
    "duration": 13,
    "start_time": "2023-05-02T12:19:51.969Z"
   },
   {
    "duration": 30,
    "start_time": "2023-05-02T12:19:51.985Z"
   },
   {
    "duration": 45,
    "start_time": "2023-05-02T12:19:52.017Z"
   },
   {
    "duration": 24,
    "start_time": "2023-05-02T12:19:52.064Z"
   },
   {
    "duration": 48,
    "start_time": "2023-05-02T12:19:52.092Z"
   },
   {
    "duration": 7,
    "start_time": "2023-05-02T12:19:52.143Z"
   },
   {
    "duration": 22,
    "start_time": "2023-05-02T12:19:52.153Z"
   },
   {
    "duration": 3236,
    "start_time": "2023-05-02T12:19:52.179Z"
   },
   {
    "duration": 6,
    "start_time": "2023-05-02T12:19:55.419Z"
   },
   {
    "duration": 37,
    "start_time": "2023-05-02T12:19:55.426Z"
   },
   {
    "duration": 693,
    "start_time": "2023-05-02T12:19:55.466Z"
   },
   {
    "duration": 20,
    "start_time": "2023-05-02T12:19:56.207Z"
   },
   {
    "duration": 1357321,
    "start_time": "2023-05-02T12:19:56.235Z"
   },
   {
    "duration": 3164,
    "start_time": "2023-05-02T12:42:33.558Z"
   },
   {
    "duration": 23,
    "start_time": "2023-05-02T12:42:36.736Z"
   },
   {
    "duration": 4290,
    "start_time": "2023-05-02T12:42:36.761Z"
   },
   {
    "duration": 12,
    "start_time": "2023-05-02T12:42:41.053Z"
   },
   {
    "duration": 4,
    "start_time": "2023-05-02T12:42:41.067Z"
   },
   {
    "duration": 8,
    "start_time": "2023-05-02T12:42:41.073Z"
   },
   {
    "duration": 247,
    "start_time": "2023-05-02T12:42:41.083Z"
   },
   {
    "duration": 25,
    "start_time": "2023-05-02T12:42:41.340Z"
   },
   {
    "duration": 4749214,
    "start_time": "2023-05-02T12:42:41.368Z"
   },
   {
    "duration": 0,
    "start_time": "2023-05-02T14:01:50.584Z"
   },
   {
    "duration": 87,
    "start_time": "2023-05-02T14:02:08.362Z"
   },
   {
    "duration": 165048,
    "start_time": "2023-05-02T14:02:19.822Z"
   },
   {
    "duration": 13,
    "start_time": "2023-05-02T14:05:20.672Z"
   },
   {
    "duration": 84281,
    "start_time": "2023-05-02T14:05:35.364Z"
   },
   {
    "duration": 0,
    "start_time": "2023-05-02T14:06:59.648Z"
   },
   {
    "duration": 4,
    "start_time": "2023-05-02T14:07:02.182Z"
   },
   {
    "duration": 9,
    "start_time": "2023-05-02T14:07:13.629Z"
   },
   {
    "duration": 21,
    "start_time": "2023-05-02T14:16:15.426Z"
   },
   {
    "duration": 56,
    "start_time": "2023-05-03T14:51:43.579Z"
   },
   {
    "duration": 47,
    "start_time": "2023-05-03T14:52:03.123Z"
   },
   {
    "duration": 49,
    "start_time": "2023-05-03T14:52:43.420Z"
   },
   {
    "duration": 49,
    "start_time": "2023-05-03T14:53:21.459Z"
   }
  ],
  "kernelspec": {
   "display_name": "Python 3 (ipykernel)",
   "language": "python",
   "name": "python3"
  },
  "language_info": {
   "codemirror_mode": {
    "name": "ipython",
    "version": 3
   },
   "file_extension": ".py",
   "mimetype": "text/x-python",
   "name": "python",
   "nbconvert_exporter": "python",
   "pygments_lexer": "ipython3",
   "version": "3.9.12"
  },
  "toc": {
   "base_numbering": 1,
   "nav_menu": {},
   "number_sections": true,
   "sideBar": true,
   "skip_h1_title": true,
   "title_cell": "Table of Contents",
   "title_sidebar": "Contents",
   "toc_cell": false,
   "toc_position": {},
   "toc_section_display": true,
   "toc_window_display": false
  }
 },
 "nbformat": 4,
 "nbformat_minor": 5
}
