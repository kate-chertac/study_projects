{
 "cells": [
  {
   "cell_type": "markdown",
   "metadata": {},
   "source": [
    "# Choosing the location for the well"
   ]
  },
  {
   "cell_type": "markdown",
   "metadata": {},
   "source": [
    "## Project Description\n",
    "The project was carried out in the extraction company \"MainRussianStateOil\" with the aim of determining the most profitable region for drilling a new oil well. Samples of oil were provided in each of the three regions, with measured values of quality and reserves volume for 10,000 deposits. A machine learning model was built using the Bootstrap technique to analyze the potential profit and risks.\n",
    "\n",
    "Steps taken to select a drilling location:\n",
    "\n",
    "1. In the preferred region, all deposits were analyzed, and the feature values related to oil quality and reserves volume were determined for each deposit.\n",
    "\n",
    "2. Model construction: Based on the available data, a machine learning model was built to predict the oil reserves volume based on the given features. Various machine learning algorithms such as linear regression, random forest, or gradient boosting may have been used.\n",
    "\n",
    "3. Evaluation and selection of deposits: After the model was built, deposits with the highest estimated reserves volume values were selected. The number of selected deposits depended on the company's budget and the cost of developing a single well.\n",
    "\n",
    "4. Profit calculation: The total profit was determined as the sum of profits from the selected deposits. Profit was calculated based on the predicted oil reserves volume and the current oil price.\n",
    "\n",
    "5. The Bootstrap technique was used to assess the potential profit and risks. It allows for random sampling from the available data to estimate the statistical significance and confidence intervals for the expected profit. This helped in making a decision on the selection of the most promising region for drilling a well, considering the expected profit and potential risks."
   ]
  },
  {
   "cell_type": "code",
   "execution_count": 1,
   "metadata": {},
   "outputs": [],
   "source": [
    "import pandas as pd\n",
    "import numpy as np\n",
    "import random\n",
    "import matplotlib.pyplot as plt\n",
    "import seaborn as sns\n",
    "\n",
    "from sklearn.model_selection import train_test_split\n",
    "\n",
    "from sklearn.tree import DecisionTreeClassifier\n",
    "from sklearn.ensemble import RandomForestClassifier\n",
    "from sklearn.linear_model import LogisticRegression\n",
    "from sklearn.linear_model import LinearRegression\n",
    "\n",
    "from sklearn.metrics import accuracy_score\n",
    "\n",
    "from sklearn.model_selection import train_test_split\n",
    "from sklearn.preprocessing import StandardScaler\n",
    "from sklearn.model_selection import GridSearchCV\n",
    "from sklearn.ensemble import RandomForestClassifier, GradientBoostingClassifier\n",
    "from sklearn.metrics import accuracy_score,roc_auc_score,f1_score,precision_score, recall_score, roc_auc_score, roc_curve, mean_squared_error\n",
    "from sklearn.dummy import DummyClassifier\n",
    "from sklearn.utils import shuffle\n",
    "from sklearn.inspection import permutation_importance"
   ]
  },
  {
   "cell_type": "markdown",
   "metadata": {},
   "source": [
    "## Загрузка и подготовка данных"
   ]
  },
  {
   "cell_type": "code",
   "execution_count": 2,
   "metadata": {},
   "outputs": [],
   "source": [
    "gd_0 = pd.read_csv(r'datasets/07_geo_data_0.csv')\n",
    "gd_1 = pd.read_csv(r'datasets/07_geo_data_1.csv')\n",
    "gd_2 = pd.read_csv(r'datasets/07_geo_data_2.csv')"
   ]
  },
  {
   "cell_type": "code",
   "execution_count": 3,
   "metadata": {},
   "outputs": [
    {
     "data": {
      "text/plain": [
       "(      id        f0        f1        f2     product\n",
       " 0  txEyH  0.705745 -0.497823  1.221170  105.280062\n",
       " 1  2acmU  1.334711 -0.340164  4.365080   73.037750\n",
       " 2  409Wp  1.022732  0.151990  1.419926   85.265647\n",
       " 3  iJLyR -0.032172  0.139033  2.978566  168.620776\n",
       " 4  Xdl7t  1.988431  0.155413  4.751769  154.036647,\n",
       "       id         f0         f1        f2     product\n",
       " 0  kBEdx -15.001348  -8.276000 -0.005876    3.179103\n",
       " 1  62mP7  14.272088  -3.475083  0.999183   26.953261\n",
       " 2  vyE1P   6.263187  -5.948386  5.001160  134.766305\n",
       " 3  KcrkZ -13.081196 -11.506057  4.999415  137.945408\n",
       " 4  AHL4O  12.702195  -8.147433  5.004363  134.766305,\n",
       "       id        f0        f1        f2     product\n",
       " 0  fwXo0 -1.146987  0.963328 -0.828965   27.758673\n",
       " 1  WJtFt  0.262778  0.269839 -2.530187   56.069697\n",
       " 2  ovLUW  0.194587  0.289035 -5.586433   62.871910\n",
       " 3  q6cA6  2.236060 -0.553760  0.930038  114.572842\n",
       " 4  WPMUX -0.515993  1.716266  5.899011  149.600746)"
      ]
     },
     "execution_count": 3,
     "metadata": {},
     "output_type": "execute_result"
    }
   ],
   "source": [
    "gd_0.head(), gd_1.head(), gd_2.head()"
   ]
  },
  {
   "cell_type": "code",
   "execution_count": 4,
   "metadata": {},
   "outputs": [],
   "source": [
    "gd_0 = gd_0.drop(['id'], axis=1)\n",
    "gd_1 = gd_1.drop(['id'], axis=1)\n",
    "gd_2 = gd_2.drop(['id'], axis=1)"
   ]
  },
  {
   "cell_type": "markdown",
   "metadata": {},
   "source": [
    "We discard the data by the identifier, since it has no effect on the target attribute"
   ]
  },
  {
   "cell_type": "markdown",
   "metadata": {},
   "source": [
    "All three datasets have the same number of columns with the same names. It is impossible to assess the correctness of the data at first glance, since it is not known which signs are encrypted under f0-f2."
   ]
  },
  {
   "cell_type": "markdown",
   "metadata": {},
   "source": [
    "Data description:\n",
    "- id — unique well identifier;\n",
    "- f0, f1, f2 — three signs of dots (it doesn't matter what they mean, but the signs themselves are significant);\n",
    "- product — the volume of reserves in the well (thousand barrels)."
   ]
  },
  {
   "cell_type": "code",
   "execution_count": 7,
   "metadata": {},
   "outputs": [
    {
     "data": {
      "text/html": [
       "<div>\n",
       "<style scoped>\n",
       "    .dataframe tbody tr th:only-of-type {\n",
       "        vertical-align: middle;\n",
       "    }\n",
       "\n",
       "    .dataframe tbody tr th {\n",
       "        vertical-align: top;\n",
       "    }\n",
       "\n",
       "    .dataframe thead th {\n",
       "        text-align: right;\n",
       "    }\n",
       "</style>\n",
       "<table border=\"1\" class=\"dataframe\">\n",
       "  <thead>\n",
       "    <tr style=\"text-align: right;\">\n",
       "      <th></th>\n",
       "      <th>Values</th>\n",
       "      <th>Data Type</th>\n",
       "      <th>Unique Values</th>\n",
       "      <th>Omissions</th>\n",
       "      <th>Duplicates</th>\n",
       "    </tr>\n",
       "  </thead>\n",
       "  <tbody>\n",
       "    <tr>\n",
       "      <th>f0</th>\n",
       "      <td>[0.7057449842080644, 1.3347112926051892, 1.022...</td>\n",
       "      <td>float64</td>\n",
       "      <td>100000</td>\n",
       "      <td>0</td>\n",
       "      <td>0</td>\n",
       "    </tr>\n",
       "    <tr>\n",
       "      <th>f1</th>\n",
       "      <td>[-0.4978225001976334, -0.3401642528583136, 0.1...</td>\n",
       "      <td>float64</td>\n",
       "      <td>100000</td>\n",
       "      <td>0</td>\n",
       "      <td>0</td>\n",
       "    </tr>\n",
       "    <tr>\n",
       "      <th>f2</th>\n",
       "      <td>[1.22116994843607, 4.3650803324282, 1.41992623...</td>\n",
       "      <td>float64</td>\n",
       "      <td>100000</td>\n",
       "      <td>0</td>\n",
       "      <td>0</td>\n",
       "    </tr>\n",
       "    <tr>\n",
       "      <th>product</th>\n",
       "      <td>[105.28006184349584, 73.03775026515737, 85.265...</td>\n",
       "      <td>float64</td>\n",
       "      <td>100000</td>\n",
       "      <td>0</td>\n",
       "      <td>0</td>\n",
       "    </tr>\n",
       "  </tbody>\n",
       "</table>\n",
       "</div>"
      ],
      "text/plain": [
       "                                                    Values Data Type  \\\n",
       "f0       [0.7057449842080644, 1.3347112926051892, 1.022...   float64   \n",
       "f1       [-0.4978225001976334, -0.3401642528583136, 0.1...   float64   \n",
       "f2       [1.22116994843607, 4.3650803324282, 1.41992623...   float64   \n",
       "product  [105.28006184349584, 73.03775026515737, 85.265...   float64   \n",
       "\n",
       "        Unique Values Omissions Duplicates  \n",
       "f0             100000         0          0  \n",
       "f1             100000         0          0  \n",
       "f2             100000         0          0  \n",
       "product        100000         0          0  "
      ]
     },
     "execution_count": 7,
     "metadata": {},
     "output_type": "execute_result"
    }
   ],
   "source": [
    "# Description function\n",
    "def descripe_colums(gd_0):\n",
    "\n",
    "    values = pd.DataFrame()\n",
    "\n",
    "    for col in gd_0.columns:\n",
    "        values[col] = [gd_0[col].unique(), gd_0[col].dtypes, gd_0[col].nunique(), gd_0[col].isnull().sum().sum(), gd_0.duplicated().sum()]\n",
    "\n",
    "    return values.transpose().sort_values(by=1, ascending=True).rename(\n",
    "        {0: 'Values', 1: 'Data Type', 2: 'Unique Values', 3: 'Omissions', 4: 'Duplicates'}, axis=1)\n",
    "descripe_colums(gd_0)"
   ]
  },
  {
   "cell_type": "code",
   "execution_count": 8,
   "metadata": {},
   "outputs": [
    {
     "data": {
      "text/html": [
       "<div>\n",
       "<style scoped>\n",
       "    .dataframe tbody tr th:only-of-type {\n",
       "        vertical-align: middle;\n",
       "    }\n",
       "\n",
       "    .dataframe tbody tr th {\n",
       "        vertical-align: top;\n",
       "    }\n",
       "\n",
       "    .dataframe thead th {\n",
       "        text-align: right;\n",
       "    }\n",
       "</style>\n",
       "<table border=\"1\" class=\"dataframe\">\n",
       "  <thead>\n",
       "    <tr style=\"text-align: right;\">\n",
       "      <th></th>\n",
       "      <th>Values</th>\n",
       "      <th>Data Type</th>\n",
       "      <th>Unique Values</th>\n",
       "      <th>Omissions</th>\n",
       "      <th>Duplicates</th>\n",
       "    </tr>\n",
       "  </thead>\n",
       "  <tbody>\n",
       "    <tr>\n",
       "      <th>f0</th>\n",
       "      <td>[-15.00134818249185, 14.272087811011149, 6.263...</td>\n",
       "      <td>float64</td>\n",
       "      <td>100000</td>\n",
       "      <td>0</td>\n",
       "      <td>0</td>\n",
       "    </tr>\n",
       "    <tr>\n",
       "      <th>f1</th>\n",
       "      <td>[-8.275999947188001, -3.47508321506002, -5.948...</td>\n",
       "      <td>float64</td>\n",
       "      <td>100000</td>\n",
       "      <td>0</td>\n",
       "      <td>0</td>\n",
       "    </tr>\n",
       "    <tr>\n",
       "      <th>f2</th>\n",
       "      <td>[-0.0058760136933206, 0.9991827365665829, 5.00...</td>\n",
       "      <td>float64</td>\n",
       "      <td>100000</td>\n",
       "      <td>0</td>\n",
       "      <td>0</td>\n",
       "    </tr>\n",
       "    <tr>\n",
       "      <th>product</th>\n",
       "      <td>[3.179102583207246, 26.95326103153969, 134.766...</td>\n",
       "      <td>float64</td>\n",
       "      <td>12</td>\n",
       "      <td>0</td>\n",
       "      <td>0</td>\n",
       "    </tr>\n",
       "  </tbody>\n",
       "</table>\n",
       "</div>"
      ],
      "text/plain": [
       "                                                    Values Data Type  \\\n",
       "f0       [-15.00134818249185, 14.272087811011149, 6.263...   float64   \n",
       "f1       [-8.275999947188001, -3.47508321506002, -5.948...   float64   \n",
       "f2       [-0.0058760136933206, 0.9991827365665829, 5.00...   float64   \n",
       "product  [3.179102583207246, 26.95326103153969, 134.766...   float64   \n",
       "\n",
       "        Unique Values Omissions Duplicates  \n",
       "f0             100000         0          0  \n",
       "f1             100000         0          0  \n",
       "f2             100000         0          0  \n",
       "product            12         0          0  "
      ]
     },
     "execution_count": 8,
     "metadata": {},
     "output_type": "execute_result"
    }
   ],
   "source": [
    "# Description function\n",
    "def descripe_colums(gd_0):\n",
    "\n",
    "    values = pd.DataFrame()\n",
    "\n",
    "    for col in gd_0.columns:\n",
    "        values[col] = [gd_1[col].unique(), gd_1[col].dtypes, gd_1[col].nunique(), gd_1[col].isnull().sum().sum(), gd_1.duplicated().sum()]\n",
    "\n",
    "    return values.transpose().sort_values(by=1, ascending=True).rename(\n",
    "        {0: 'Values', 1: 'Data Type', 2: 'Unique Values', 3: 'Omissions', 4: 'Duplicates'}, axis=1)\n",
    "descripe_colums(gd_1)"
   ]
  },
  {
   "cell_type": "code",
   "execution_count": 9,
   "metadata": {},
   "outputs": [
    {
     "data": {
      "text/html": [
       "<div>\n",
       "<style scoped>\n",
       "    .dataframe tbody tr th:only-of-type {\n",
       "        vertical-align: middle;\n",
       "    }\n",
       "\n",
       "    .dataframe tbody tr th {\n",
       "        vertical-align: top;\n",
       "    }\n",
       "\n",
       "    .dataframe thead th {\n",
       "        text-align: right;\n",
       "    }\n",
       "</style>\n",
       "<table border=\"1\" class=\"dataframe\">\n",
       "  <thead>\n",
       "    <tr style=\"text-align: right;\">\n",
       "      <th></th>\n",
       "      <th>Values</th>\n",
       "      <th>Data Type</th>\n",
       "      <th>Unique Values</th>\n",
       "      <th>Omissions</th>\n",
       "      <th>Duplicates</th>\n",
       "    </tr>\n",
       "  </thead>\n",
       "  <tbody>\n",
       "    <tr>\n",
       "      <th>f0</th>\n",
       "      <td>[-1.1469870984179529, 0.2627779016539684, 0.19...</td>\n",
       "      <td>float64</td>\n",
       "      <td>100000</td>\n",
       "      <td>0</td>\n",
       "      <td>0</td>\n",
       "    </tr>\n",
       "    <tr>\n",
       "      <th>f1</th>\n",
       "      <td>[0.9633279217162892, 0.2698389572803021, 0.289...</td>\n",
       "      <td>float64</td>\n",
       "      <td>100000</td>\n",
       "      <td>0</td>\n",
       "      <td>0</td>\n",
       "    </tr>\n",
       "    <tr>\n",
       "      <th>f2</th>\n",
       "      <td>[-0.8289649221710994, -2.530186515492004, -5.5...</td>\n",
       "      <td>float64</td>\n",
       "      <td>100000</td>\n",
       "      <td>0</td>\n",
       "      <td>0</td>\n",
       "    </tr>\n",
       "    <tr>\n",
       "      <th>product</th>\n",
       "      <td>[27.75867323073004, 56.06969663239464, 62.8719...</td>\n",
       "      <td>float64</td>\n",
       "      <td>100000</td>\n",
       "      <td>0</td>\n",
       "      <td>0</td>\n",
       "    </tr>\n",
       "  </tbody>\n",
       "</table>\n",
       "</div>"
      ],
      "text/plain": [
       "                                                    Values Data Type  \\\n",
       "f0       [-1.1469870984179529, 0.2627779016539684, 0.19...   float64   \n",
       "f1       [0.9633279217162892, 0.2698389572803021, 0.289...   float64   \n",
       "f2       [-0.8289649221710994, -2.530186515492004, -5.5...   float64   \n",
       "product  [27.75867323073004, 56.06969663239464, 62.8719...   float64   \n",
       "\n",
       "        Unique Values Omissions Duplicates  \n",
       "f0             100000         0          0  \n",
       "f1             100000         0          0  \n",
       "f2             100000         0          0  \n",
       "product        100000         0          0  "
      ]
     },
     "execution_count": 9,
     "metadata": {},
     "output_type": "execute_result"
    }
   ],
   "source": [
    "# Description function\n",
    "def descripe_colums(gd_2):\n",
    "\n",
    "    values = pd.DataFrame()\n",
    "\n",
    "    for col in gd_0.columns:\n",
    "        values[col] = [gd_2[col].unique(), gd_2[col].dtypes, gd_2[col].nunique(), gd_2[col].isnull().sum().sum(), gd_2.duplicated().sum()]\n",
    "\n",
    "    return values.transpose().sort_values(by=1, ascending=True).rename(\n",
    "        {0: 'Values', 1: 'Data Type', 2: 'Unique Values', 3: 'Omissions', 4: 'Duplicates'}, axis=1)\n",
    "descripe_colums(gd_2)"
   ]
  },
  {
   "cell_type": "markdown",
   "metadata": {},
   "source": [
    "All three datasets do not contain omissions, duplicates, all signs and the target value of product are represented by the float data type. It is not clear why gd_1 has only 12 unique values for the product. Perhaps they are obtained by means of an algorithm, since they are synthetic data."
   ]
  },
  {
   "cell_type": "code",
   "execution_count": 10,
   "metadata": {},
   "outputs": [
    {
     "data": {
      "text/html": [
       "<div>\n",
       "<style scoped>\n",
       "    .dataframe tbody tr th:only-of-type {\n",
       "        vertical-align: middle;\n",
       "    }\n",
       "\n",
       "    .dataframe tbody tr th {\n",
       "        vertical-align: top;\n",
       "    }\n",
       "\n",
       "    .dataframe thead th {\n",
       "        text-align: right;\n",
       "    }\n",
       "</style>\n",
       "<table border=\"1\" class=\"dataframe\">\n",
       "  <thead>\n",
       "    <tr style=\"text-align: right;\">\n",
       "      <th></th>\n",
       "      <th>f0</th>\n",
       "      <th>f1</th>\n",
       "      <th>f2</th>\n",
       "      <th>product</th>\n",
       "    </tr>\n",
       "  </thead>\n",
       "  <tbody>\n",
       "    <tr>\n",
       "      <th>count</th>\n",
       "      <td>100000.000000</td>\n",
       "      <td>100000.000000</td>\n",
       "      <td>100000.000000</td>\n",
       "      <td>100000.000000</td>\n",
       "    </tr>\n",
       "    <tr>\n",
       "      <th>mean</th>\n",
       "      <td>0.500419</td>\n",
       "      <td>0.250143</td>\n",
       "      <td>2.502647</td>\n",
       "      <td>92.500000</td>\n",
       "    </tr>\n",
       "    <tr>\n",
       "      <th>std</th>\n",
       "      <td>0.871832</td>\n",
       "      <td>0.504433</td>\n",
       "      <td>3.248248</td>\n",
       "      <td>44.288691</td>\n",
       "    </tr>\n",
       "    <tr>\n",
       "      <th>min</th>\n",
       "      <td>-1.408605</td>\n",
       "      <td>-0.848218</td>\n",
       "      <td>-12.088328</td>\n",
       "      <td>0.000000</td>\n",
       "    </tr>\n",
       "    <tr>\n",
       "      <th>25%</th>\n",
       "      <td>-0.072580</td>\n",
       "      <td>-0.200881</td>\n",
       "      <td>0.287748</td>\n",
       "      <td>56.497507</td>\n",
       "    </tr>\n",
       "    <tr>\n",
       "      <th>50%</th>\n",
       "      <td>0.502360</td>\n",
       "      <td>0.250252</td>\n",
       "      <td>2.515969</td>\n",
       "      <td>91.849972</td>\n",
       "    </tr>\n",
       "    <tr>\n",
       "      <th>75%</th>\n",
       "      <td>1.073581</td>\n",
       "      <td>0.700646</td>\n",
       "      <td>4.715088</td>\n",
       "      <td>128.564089</td>\n",
       "    </tr>\n",
       "    <tr>\n",
       "      <th>max</th>\n",
       "      <td>2.362331</td>\n",
       "      <td>1.343769</td>\n",
       "      <td>16.003790</td>\n",
       "      <td>185.364347</td>\n",
       "    </tr>\n",
       "  </tbody>\n",
       "</table>\n",
       "</div>"
      ],
      "text/plain": [
       "                  f0             f1             f2        product\n",
       "count  100000.000000  100000.000000  100000.000000  100000.000000\n",
       "mean        0.500419       0.250143       2.502647      92.500000\n",
       "std         0.871832       0.504433       3.248248      44.288691\n",
       "min        -1.408605      -0.848218     -12.088328       0.000000\n",
       "25%        -0.072580      -0.200881       0.287748      56.497507\n",
       "50%         0.502360       0.250252       2.515969      91.849972\n",
       "75%         1.073581       0.700646       4.715088     128.564089\n",
       "max         2.362331       1.343769      16.003790     185.364347"
      ]
     },
     "metadata": {},
     "output_type": "display_data"
    },
    {
     "data": {
      "text/html": [
       "<div>\n",
       "<style scoped>\n",
       "    .dataframe tbody tr th:only-of-type {\n",
       "        vertical-align: middle;\n",
       "    }\n",
       "\n",
       "    .dataframe tbody tr th {\n",
       "        vertical-align: top;\n",
       "    }\n",
       "\n",
       "    .dataframe thead th {\n",
       "        text-align: right;\n",
       "    }\n",
       "</style>\n",
       "<table border=\"1\" class=\"dataframe\">\n",
       "  <thead>\n",
       "    <tr style=\"text-align: right;\">\n",
       "      <th></th>\n",
       "      <th>f0</th>\n",
       "      <th>f1</th>\n",
       "      <th>f2</th>\n",
       "      <th>product</th>\n",
       "    </tr>\n",
       "  </thead>\n",
       "  <tbody>\n",
       "    <tr>\n",
       "      <th>count</th>\n",
       "      <td>100000.000000</td>\n",
       "      <td>100000.000000</td>\n",
       "      <td>100000.000000</td>\n",
       "      <td>100000.000000</td>\n",
       "    </tr>\n",
       "    <tr>\n",
       "      <th>mean</th>\n",
       "      <td>1.141296</td>\n",
       "      <td>-4.796579</td>\n",
       "      <td>2.494541</td>\n",
       "      <td>68.825000</td>\n",
       "    </tr>\n",
       "    <tr>\n",
       "      <th>std</th>\n",
       "      <td>8.965932</td>\n",
       "      <td>5.119872</td>\n",
       "      <td>1.703572</td>\n",
       "      <td>45.944423</td>\n",
       "    </tr>\n",
       "    <tr>\n",
       "      <th>min</th>\n",
       "      <td>-31.609576</td>\n",
       "      <td>-26.358598</td>\n",
       "      <td>-0.018144</td>\n",
       "      <td>0.000000</td>\n",
       "    </tr>\n",
       "    <tr>\n",
       "      <th>25%</th>\n",
       "      <td>-6.298551</td>\n",
       "      <td>-8.267985</td>\n",
       "      <td>1.000021</td>\n",
       "      <td>26.953261</td>\n",
       "    </tr>\n",
       "    <tr>\n",
       "      <th>50%</th>\n",
       "      <td>1.153055</td>\n",
       "      <td>-4.813172</td>\n",
       "      <td>2.011479</td>\n",
       "      <td>57.085625</td>\n",
       "    </tr>\n",
       "    <tr>\n",
       "      <th>75%</th>\n",
       "      <td>8.621015</td>\n",
       "      <td>-1.332816</td>\n",
       "      <td>3.999904</td>\n",
       "      <td>107.813044</td>\n",
       "    </tr>\n",
       "    <tr>\n",
       "      <th>max</th>\n",
       "      <td>29.421755</td>\n",
       "      <td>18.734063</td>\n",
       "      <td>5.019721</td>\n",
       "      <td>137.945408</td>\n",
       "    </tr>\n",
       "  </tbody>\n",
       "</table>\n",
       "</div>"
      ],
      "text/plain": [
       "                  f0             f1             f2        product\n",
       "count  100000.000000  100000.000000  100000.000000  100000.000000\n",
       "mean        1.141296      -4.796579       2.494541      68.825000\n",
       "std         8.965932       5.119872       1.703572      45.944423\n",
       "min       -31.609576     -26.358598      -0.018144       0.000000\n",
       "25%        -6.298551      -8.267985       1.000021      26.953261\n",
       "50%         1.153055      -4.813172       2.011479      57.085625\n",
       "75%         8.621015      -1.332816       3.999904     107.813044\n",
       "max        29.421755      18.734063       5.019721     137.945408"
      ]
     },
     "metadata": {},
     "output_type": "display_data"
    },
    {
     "data": {
      "text/html": [
       "<div>\n",
       "<style scoped>\n",
       "    .dataframe tbody tr th:only-of-type {\n",
       "        vertical-align: middle;\n",
       "    }\n",
       "\n",
       "    .dataframe tbody tr th {\n",
       "        vertical-align: top;\n",
       "    }\n",
       "\n",
       "    .dataframe thead th {\n",
       "        text-align: right;\n",
       "    }\n",
       "</style>\n",
       "<table border=\"1\" class=\"dataframe\">\n",
       "  <thead>\n",
       "    <tr style=\"text-align: right;\">\n",
       "      <th></th>\n",
       "      <th>f0</th>\n",
       "      <th>f1</th>\n",
       "      <th>f2</th>\n",
       "      <th>product</th>\n",
       "    </tr>\n",
       "  </thead>\n",
       "  <tbody>\n",
       "    <tr>\n",
       "      <th>count</th>\n",
       "      <td>100000.000000</td>\n",
       "      <td>100000.000000</td>\n",
       "      <td>100000.000000</td>\n",
       "      <td>100000.000000</td>\n",
       "    </tr>\n",
       "    <tr>\n",
       "      <th>mean</th>\n",
       "      <td>0.002023</td>\n",
       "      <td>-0.002081</td>\n",
       "      <td>2.495128</td>\n",
       "      <td>95.000000</td>\n",
       "    </tr>\n",
       "    <tr>\n",
       "      <th>std</th>\n",
       "      <td>1.732045</td>\n",
       "      <td>1.730417</td>\n",
       "      <td>3.473445</td>\n",
       "      <td>44.749921</td>\n",
       "    </tr>\n",
       "    <tr>\n",
       "      <th>min</th>\n",
       "      <td>-8.760004</td>\n",
       "      <td>-7.084020</td>\n",
       "      <td>-11.970335</td>\n",
       "      <td>0.000000</td>\n",
       "    </tr>\n",
       "    <tr>\n",
       "      <th>25%</th>\n",
       "      <td>-1.162288</td>\n",
       "      <td>-1.174820</td>\n",
       "      <td>0.130359</td>\n",
       "      <td>59.450441</td>\n",
       "    </tr>\n",
       "    <tr>\n",
       "      <th>50%</th>\n",
       "      <td>0.009424</td>\n",
       "      <td>-0.009482</td>\n",
       "      <td>2.484236</td>\n",
       "      <td>94.925613</td>\n",
       "    </tr>\n",
       "    <tr>\n",
       "      <th>75%</th>\n",
       "      <td>1.158535</td>\n",
       "      <td>1.163678</td>\n",
       "      <td>4.858794</td>\n",
       "      <td>130.595027</td>\n",
       "    </tr>\n",
       "    <tr>\n",
       "      <th>max</th>\n",
       "      <td>7.238262</td>\n",
       "      <td>7.844801</td>\n",
       "      <td>16.739402</td>\n",
       "      <td>190.029838</td>\n",
       "    </tr>\n",
       "  </tbody>\n",
       "</table>\n",
       "</div>"
      ],
      "text/plain": [
       "                  f0             f1             f2        product\n",
       "count  100000.000000  100000.000000  100000.000000  100000.000000\n",
       "mean        0.002023      -0.002081       2.495128      95.000000\n",
       "std         1.732045       1.730417       3.473445      44.749921\n",
       "min        -8.760004      -7.084020     -11.970335       0.000000\n",
       "25%        -1.162288      -1.174820       0.130359      59.450441\n",
       "50%         0.009424      -0.009482       2.484236      94.925613\n",
       "75%         1.158535       1.163678       4.858794     130.595027\n",
       "max         7.238262       7.844801      16.739402     190.029838"
      ]
     },
     "metadata": {},
     "output_type": "display_data"
    }
   ],
   "source": [
    "display(gd_0.describe())\n",
    "display(gd_1.describe())\n",
    "display(gd_2.describe())"
   ]
  },
  {
   "cell_type": "markdown",
   "metadata": {},
   "source": [
    "The release of the product in region 0 is similar to the release in the Region 2 - 25%, 50%, 75% and the maximum median values differ from each other insignificantly. The distribution of data on the basis of f2 is also interesting - the values of Regions 0 and 2 are close to each other, while the target indicator has a significant gap. Data scaling is not required."
   ]
  },
  {
   "cell_type": "markdown",
   "metadata": {},
   "source": [
    "## Model training and validation"
   ]
  },
  {
   "cell_type": "markdown",
   "metadata": {},
   "source": [
    "### Divide the data into training and validation samples in a ratio of 75:25."
   ]
  },
  {
   "cell_type": "code",
   "execution_count": 11,
   "metadata": {},
   "outputs": [],
   "source": [
    "#let's write a function to divide the data into samples and scale\n",
    "def split_gd(gd, target):\n",
    "    features = gd.drop([target] , axis=1)\n",
    "    target = gd[target]\n",
    "\n",
    "    features_train, features_valid, target_train, target_valid = train_test_split(\n",
    "    features, target, test_size=0.25, random_state=12345)\n",
    "    \n",
    "    return features_train, features_valid, target_train, target_valid"
   ]
  },
  {
   "cell_type": "code",
   "execution_count": 12,
   "metadata": {},
   "outputs": [],
   "source": [
    "features_train_0, features_valid_0, target_train_0, target_valid_0 = split_gd(gd_0, 'product')\n",
    "features_train_1, features_valid_1, target_train_1, target_valid_1 = split_gd(gd_1, 'product')\n",
    "features_train_2, features_valid_2, target_train_2, target_valid_2 = split_gd(gd_2, 'product')"
   ]
  },
  {
   "cell_type": "code",
   "execution_count": 13,
   "metadata": {},
   "outputs": [
    {
     "name": "stdout",
     "output_type": "stream",
     "text": [
      "(75000, 3)\n",
      "(25000, 3)\n",
      "(75000,)\n",
      "(25000,)\n"
     ]
    }
   ],
   "source": [
    "# let's check the function on one of the regions\n",
    "print(features_train_0.shape)\n",
    "print(features_valid_0.shape)\n",
    "print(target_train_0.shape)\n",
    "print(target_valid_0.shape)"
   ]
  },
  {
   "cell_type": "code",
   "execution_count": 14,
   "metadata": {},
   "outputs": [
    {
     "data": {
      "text/html": [
       "<div>\n",
       "<style scoped>\n",
       "    .dataframe tbody tr th:only-of-type {\n",
       "        vertical-align: middle;\n",
       "    }\n",
       "\n",
       "    .dataframe tbody tr th {\n",
       "        vertical-align: top;\n",
       "    }\n",
       "\n",
       "    .dataframe thead th {\n",
       "        text-align: right;\n",
       "    }\n",
       "</style>\n",
       "<table border=\"1\" class=\"dataframe\">\n",
       "  <thead>\n",
       "    <tr style=\"text-align: right;\">\n",
       "      <th></th>\n",
       "      <th>f0</th>\n",
       "      <th>f1</th>\n",
       "      <th>f2</th>\n",
       "    </tr>\n",
       "  </thead>\n",
       "  <tbody>\n",
       "    <tr>\n",
       "      <th>count</th>\n",
       "      <td>75000.000000</td>\n",
       "      <td>75000.000000</td>\n",
       "      <td>75000.000000</td>\n",
       "    </tr>\n",
       "    <tr>\n",
       "      <th>mean</th>\n",
       "      <td>0.497441</td>\n",
       "      <td>0.250064</td>\n",
       "      <td>2.505917</td>\n",
       "    </tr>\n",
       "    <tr>\n",
       "      <th>std</th>\n",
       "      <td>0.871824</td>\n",
       "      <td>0.504203</td>\n",
       "      <td>3.249684</td>\n",
       "    </tr>\n",
       "    <tr>\n",
       "      <th>min</th>\n",
       "      <td>-1.408605</td>\n",
       "      <td>-0.848218</td>\n",
       "      <td>-10.138341</td>\n",
       "    </tr>\n",
       "    <tr>\n",
       "      <th>25%</th>\n",
       "      <td>-0.075827</td>\n",
       "      <td>-0.199952</td>\n",
       "      <td>0.296284</td>\n",
       "    </tr>\n",
       "    <tr>\n",
       "      <th>50%</th>\n",
       "      <td>0.499079</td>\n",
       "      <td>0.249690</td>\n",
       "      <td>2.519854</td>\n",
       "    </tr>\n",
       "    <tr>\n",
       "      <th>75%</th>\n",
       "      <td>1.070328</td>\n",
       "      <td>0.700239</td>\n",
       "      <td>4.725356</td>\n",
       "    </tr>\n",
       "    <tr>\n",
       "      <th>max</th>\n",
       "      <td>2.362331</td>\n",
       "      <td>1.343769</td>\n",
       "      <td>16.003790</td>\n",
       "    </tr>\n",
       "  </tbody>\n",
       "</table>\n",
       "</div>"
      ],
      "text/plain": [
       "                 f0            f1            f2\n",
       "count  75000.000000  75000.000000  75000.000000\n",
       "mean       0.497441      0.250064      2.505917\n",
       "std        0.871824      0.504203      3.249684\n",
       "min       -1.408605     -0.848218    -10.138341\n",
       "25%       -0.075827     -0.199952      0.296284\n",
       "50%        0.499079      0.249690      2.519854\n",
       "75%        1.070328      0.700239      4.725356\n",
       "max        2.362331      1.343769     16.003790"
      ]
     },
     "execution_count": 14,
     "metadata": {},
     "output_type": "execute_result"
    }
   ],
   "source": [
    "features_train_0.describe()"
   ]
  },
  {
   "cell_type": "markdown",
   "metadata": {},
   "source": [
    "### Let's train the model and make predictions on the validation sample."
   ]
  },
  {
   "cell_type": "code",
   "execution_count": 15,
   "metadata": {},
   "outputs": [],
   "source": [
    "def model_prediction(gd, features_train, features_valid, target_train, target_valid):\n",
    "    model = LinearRegression() \n",
    "    model.fit(features_train, target_train)\n",
    "    predicted_valid = model.predict(features_valid)\n",
    "    mse = mean_squared_error(target_valid, predicted_valid)\n",
    "    rmse = mse**0.5\n",
    "    r2 = model.score(features_train, target_train)\n",
    "    mean_product = predicted_valid.mean()\n",
    "    \n",
    "\n",
    "    return rmse, mean_product, predicted_valid"
   ]
  },
  {
   "cell_type": "markdown",
   "metadata": {},
   "source": [
    "### Let's save the predictions and correct answers on the validation sample."
   ]
  },
  {
   "cell_type": "code",
   "execution_count": 16,
   "metadata": {},
   "outputs": [],
   "source": [
    "rmse_0, mean_product_0, predicted_valid_0 = model_prediction(gd_0, features_train_0, features_valid_0, target_train_0, target_valid_0)\n",
    "predicted_valid_0 = pd.Series(predicted_valid_0)"
   ]
  },
  {
   "cell_type": "code",
   "execution_count": 17,
   "metadata": {},
   "outputs": [],
   "source": [
    "rmse_1, mean_product_1, predicted_valid_1 = model_prediction(gd_1, features_train_1, features_valid_1, target_train_1, target_valid_1)\n",
    "predicted_valid_1 = pd.Series(predicted_valid_1)"
   ]
  },
  {
   "cell_type": "code",
   "execution_count": 18,
   "metadata": {},
   "outputs": [],
   "source": [
    "rmse_2, mean_product_2, predicted_valid_2 = model_prediction(gd_2, features_train_2, features_valid_2, target_train_2, target_valid_2)\n",
    "predicted_valid_2 = pd.Series(predicted_valid_2)"
   ]
  },
  {
   "cell_type": "markdown",
   "metadata": {},
   "source": [
    "### Let's print on the screen the average stock of the predicted raw materials and the RMSE of the model"
   ]
  },
  {
   "cell_type": "code",
   "execution_count": 19,
   "metadata": {},
   "outputs": [
    {
     "name": "stdout",
     "output_type": "stream",
     "text": [
      "Region 0. Average product stock: 92.59256778438035\n",
      "Region 0. RMSE = 37.5794217150813\n",
      "Region 1. Average product stock: 68.72854689544602\n",
      "Region 1. RMSE = 0.8930992867756168\n",
      "Region 1. Average product stock: 94.96504596800489\n",
      "Region 1. RMSE = 40.02970873393434\n"
     ]
    }
   ],
   "source": [
    "print('Region 0. Average product stock:', mean_product_0)\n",
    "print('Region 0. RMSE =', rmse_0)\n",
    "print('Region 1. Average product stock:', mean_product_1)\n",
    "print('Region 1. RMSE =', rmse_1)\n",
    "print('Region 1. Average product stock:', mean_product_2)\n",
    "print('Region 1. RMSE =', rmse_2)"
   ]
  },
  {
   "cell_type": "code",
   "execution_count": 20,
   "metadata": {},
   "outputs": [
    {
     "name": "stdout",
     "output_type": "stream",
     "text": [
      "Region 0. Average stock on validation sample 92.07859674082941\n",
      "Region 1. The average stock on the validation sample 68.72313602437494\n",
      "Region 2. The average margin on the validation sample 94.88423280885489\n"
     ]
    }
   ],
   "source": [
    "#We conduct a reconciliation with the validation sample\n",
    "print('Region 0. Average stock on validation sample', target_valid_0.mean())\n",
    "print('Region 1. The average stock on the validation sample', target_valid_1.mean())\n",
    "print('Region 2. The average margin on the validation sample', target_valid_2.mean())"
   ]
  },
  {
   "cell_type": "markdown",
   "metadata": {},
   "source": [
    "Despite the smallest average stock of the product, the best indicator for RMSE Region 1."
   ]
  },
  {
   "cell_type": "markdown",
   "metadata": {},
   "source": [
    "### Analysis of results"
   ]
  },
  {
   "cell_type": "code",
   "execution_count": 21,
   "metadata": {},
   "outputs": [
    {
     "data": {
      "image/png": "[encoded data removed]",
      "text/plain": [
       "<Figure size 432x288 with 2 Axes>"
      ]
     },
     "metadata": {
      "needs_background": "light"
     },
     "output_type": "display_data"
    },
    {
     "data": {
      "image/png": "[encoded data removed]",
      "text/plain": [
       "<Figure size 432x288 with 2 Axes>"
      ]
     },
     "metadata": {
      "needs_background": "light"
     },
     "output_type": "display_data"
    },
    {
     "data": {
      "image/png": "[encoded data removed]",
      "text/plain": [
       "<Figure size 432x288 with 2 Axes>"
      ]
     },
     "metadata": {
      "needs_background": "light"
     },
     "output_type": "display_data"
    }
   ],
   "source": [
    "#\n",
    "gd_all = [gd_0, gd_1, gd_2]\n",
    "for i in range(len(gd_all)):\n",
    "    ax = plt.axes()\n",
    "    sns.heatmap(gd_all[i].corr(), annot = True, cmap=\"crest\")\n",
    "    ax.set_title('Region ' + str(i))\n",
    "    plt.show()"
   ]
  },
  {
   "cell_type": "markdown",
   "metadata": {},
   "source": [
    "All 3 values showed a result close to the valid sample. At the same time, the best RMSE indicator corresponds to Region 1, in Regions 0 and 2, the RMSE indicators are close in values. For Region 1, there is a direct dependence of the product on the attribute f2. This is also due to the lower RMSE value. This is possible if the volume of the product in this region is directly determined by the sign f2. If there was such a connection between the features, then the duplicate feature would have to be removed.\n",
    "\n",
    "Earlier, we found similar values in Region 0 and Region 2 on the basis of f2. When considering the correlation, we really see that this attribute has the most significant impact on the result (product) and the value of its influence is also at level 1. f0 and f1, on the contrary, show insignificant influence."
   ]
  },
  {
   "cell_type": "markdown",
   "metadata": {},
   "source": [
    "## Preparation for profit calculation"
   ]
  },
  {
   "cell_type": "markdown",
   "metadata": {},
   "source": [
    "### Save all key values for calculations in separate variables"
   ]
  },
  {
   "cell_type": "code",
   "execution_count": 23,
   "metadata": {},
   "outputs": [],
   "source": [
    "BUDGET = 10*10**9 # Budget for developing 200 wells in the region\n",
    "ALL_WELLS = 500 # 500 points are explored during the region's exploration\n",
    "BEST_WELLS = 200 # 200 best wells are selected for development using machine learning\n",
    "PRICE_ONE_BARREL = 450000 # At current prices, one barrel of resources generates a revenue of 450 rubles. The revenue per unit is 450,000 rubles, as the volume is given in thousands of barrels.\n",
    "MAX_RISK = 0.025 # Maximum acceptable risk"
   ]
  },
  {
   "cell_type": "markdown",
   "metadata": {},
   "source": [
    "### Рассчитайте достаточный объём сырья для безубыточной разработки новой скважины. Сравните полученный объём сырья со средним запасом в каждом регионе. "
   ]
  },
  {
   "cell_type": "code",
   "execution_count": 24,
   "metadata": {},
   "outputs": [
    {
     "name": "stdout",
     "output_type": "stream",
     "text": [
      "Budget for the development of one well: 50000000.0\n"
     ]
    }
   ],
   "source": [
    "BUDGET_ONE_WELL = BUDGET / BEST_WELLS\n",
    "print('Budget for the development of one well:', BUDGET_ONE_WELL)"
   ]
  },
  {
   "cell_type": "code",
   "execution_count": 26,
   "metadata": {},
   "outputs": [
    {
     "name": "stdout",
     "output_type": "stream",
     "text": [
      "Minimum resource volume per well: 111.11111111111111\n"
     ]
    }
   ],
   "source": [
    "MIN_RESOURCE_ONE_WELL = BUDGET_ONE_WELL / PRICE_ONE_BARREL\n",
    "print('Minimum resource volume per well:', MIN_RESOURCE_ONE_WELL)"
   ]
  },
  {
   "cell_type": "code",
   "execution_count": 27,
   "metadata": {},
   "outputs": [
    {
     "name": "stdout",
     "output_type": "stream",
     "text": [
      "Region 0. Average product stock: 92.59256778438035\n",
      "Region 1. Average product stock: 68.72854689544602\n",
      "Region 2. Average product stock: 94.96504596800489\n"
     ]
    }
   ],
   "source": [
    "print('Region 0. Average product stock:', mean_product_0)\n",
    "print('Region 1. Average product stock:', mean_product_1)\n",
    "print('Region 2. Average product stock:', mean_product_2)"
   ]
  },
  {
   "cell_type": "markdown",
   "metadata": {},
   "source": [
    "### Conclusions on the stage of preparation of profit calculation."
   ]
  },
  {
   "cell_type": "markdown",
   "metadata": {},
   "source": [
    "The average values for all three regions are below breaking even. This means that it is impossible to select random wells from the best region. It is necessary to train a model that predicts suitable wells for development.\n",
    "\n",
    "In each region, the average volume of raw materials is less than enough to break even.\n",
    "There are 25,000 points, from which 200 should be selected as a result. As a result, among these wells there may be wells with sufficient and insufficient supply of raw materials.\n",
    "\n",
    "There is a \"Bootstrap\" technique that allows you to assess the risk of losses with a random selection of points. 1000 times randomly selecting points, we consider which% of cases will bring losses."
   ]
  },
  {
   "cell_type": "markdown",
   "metadata": {},
   "source": [
    "## Calculation of profit and risks"
   ]
  },
  {
   "cell_type": "markdown",
   "metadata": {},
   "source": [
    "### The function for calculating the profit for the selected wells and the predictions of the model:\n",
    "1. We select wells with the maximum values of predictions.\n",
    "2. Sum up the target value of the volume of raw materials corresponding to these predictions.\n",
    "3. Calculate the profit for the received volume of raw materials"
   ]
  },
  {
   "cell_type": "code",
   "execution_count": 31,
   "metadata": {},
   "outputs": [],
   "source": [
    "def income(target_valid, predictions_valid):\n",
    "    predictions_top_all = predictions_valid.sort_values(ascending=False).head(200) \n",
    "    income = predictions_top_all.sum() * PRICE_ONE_BARREL\n",
    "    return income"
   ]
  },
  {
   "cell_type": "code",
   "execution_count": 32,
   "metadata": {},
   "outputs": [
    {
     "name": "stdout",
     "output_type": "stream",
     "text": [
      "Profit calculation for selected 200 wells and model predictions:\n",
      "Region 0: 3996.048877 million rubles\n",
      "Region 1: 2485.712051 million rubles\n",
      "Region 2: 3321.754396 million rubles\n"
     ]
    }
   ],
   "source": [
    "print('Profit calculation for selected 200 wells and model predictions:')\n",
    "print('Region 0:', int(income(target_valid_0, predicted_valid_0) - BUDGET)/1000000, 'million rubles')\n",
    "print('Region 1:', int(income(target_valid_1, predicted_valid_1) - BUDGET)/1000000, 'million rubles')\n",
    "print('Region 2:', int(income(target_valid_2, predicted_valid_2) - BUDGET)/1000000, 'million rubles')"
   ]
  },
  {
   "cell_type": "markdown",
   "metadata": {},
   "source": [
    "The volume of the predicted income is enormous, provided that we select among 25 thousand points, according to the task we need to select only 500 of them."
   ]
  },
  {
   "cell_type": "markdown",
   "metadata": {},
   "source": [
    "### Consider the risks and profits for each region:\n",
    "- Let's use the Bootstrap technique with 1000 samples to find the profit distribution.\n",
    "- Determine the average profit, the 95% confidence interval and the risk of losses."
   ]
  },
  {
   "cell_type": "code",
   "execution_count": 33,
   "metadata": {},
   "outputs": [],
   "source": [
    "def profit(target, predictions, count):\n",
    "    target = pd.Series(target).reset_index(drop=True)\n",
    "    predictions = pd.Series(predictions).reset_index(drop=True)\n",
    "    predictions_top = predictions.sort_values(ascending=False)[:count].index\n",
    "    selected = target[predictions_top]\n",
    "    return  selected.sum() "
   ]
  },
  {
   "cell_type": "code",
   "execution_count": 36,
   "metadata": {},
   "outputs": [],
   "source": [
    "def bootstrap(target, probabilities, iterations, sample_size):\n",
    "    state = np.random.RandomState(12345)\n",
    "    values = []\n",
    "    for i in range(iterations):\n",
    "        target_subsample = target.sample(n=sample_size, random_state=state, replace=True)\n",
    "        probs_subsample = probabilities[target_subsample.index]\n",
    "        values.append(PRICE_ONE_BARREL * profit(target_subsample, probs_subsample, BEST_WELLS) - BUDGET)\n",
    "\n",
    "    values = pd.Series(values)\n",
    "    mean = values.mean()\n",
    "    risk = (values < 0).mean()\n",
    "    \n",
    "    lower = values.quantile(0.025)\n",
    "    upper = values.quantile(0.975)\n",
    "    return round(mean,2), round(risk, 2), lower, upper"
   ]
  },
  {
   "cell_type": "code",
   "execution_count": 37,
   "metadata": {},
   "outputs": [
    {
     "name": "stdout",
     "output_type": "stream",
     "text": [
      "Region 0:\n",
      "Average product stock 396164984.8\n",
      "95% confidence interval from -111215545.89049526 to 909766941.5534226\n",
      "Risk of loss: 0.07\n"
     ]
    }
   ],
   "source": [
    "mean_0, risk_0, lower_0, upper_0 = bootstrap(target_valid_0.reset_index(drop=True), predicted_valid_0, 1000, 500)\n",
    "print('Region 0:')\n",
    "print('Average product stock', mean_0)\n",
    "print('95% confidence interval from', lower_0, 'to', upper_0)\n",
    "print('Risk of loss:', risk_0)"
   ]
  },
  {
   "cell_type": "code",
   "execution_count": 38,
   "metadata": {},
   "outputs": [
    {
     "name": "stdout",
     "output_type": "stream",
     "text": [
      "Region 1:\n",
      "Average product stock 456045105.79\n",
      "95% confidence interval from 33820509.39898363 to 852289453.866036\n",
      "Risk of loss: 0.02\n"
     ]
    }
   ],
   "source": [
    "mean_1, risk_1, lower_1, upper_1 = bootstrap(target_valid_1.reset_index(drop=True), predicted_valid_1, 1000, 500)\n",
    "print('Region 1:')\n",
    "print('Average product stock', mean_1)\n",
    "print('95% confidence interval from', lower_1, 'to', upper_1)\n",
    "print('Risk of loss:', risk_1)"
   ]
  },
  {
   "cell_type": "code",
   "execution_count": 39,
   "metadata": {},
   "outputs": [
    {
     "name": "stdout",
     "output_type": "stream",
     "text": [
      "Region 2:\n",
      "Average product stock 404403866.57\n",
      "95% confidence interval from -163350413.39560106 to 950359574.9237995\n",
      "Risk of loss: 0.08\n"
     ]
    }
   ],
   "source": [
    "mean_2, risk_2, lower_2, upper_2 = bootstrap(target_valid_2.reset_index(drop=True), predicted_valid_2, 1000, 500)\n",
    "print('Region 2:')\n",
    "print('Average product stock', mean_2)\n",
    "print('95% confidence interval from', lower_2, 'to', upper_2)\n",
    "print('Risk of loss:', risk_2)"
   ]
  },
  {
   "cell_type": "markdown",
   "metadata": {},
   "source": [
    "### Conclusion"
   ]
  },
  {
   "cell_type": "markdown",
   "metadata": {},
   "source": [
    "Based on the data provided and the research conducted, as well as taking into account the limitations of 500 explored deposits and the selection of the top 200, as well as taking into account the limitations in risks of no more than 2.5%, preference should be given to Region 1 - despite the smaller amount of the average product reserve for the region as a whole.\n",
    "\n",
    "At the same time, attention should be paid to the influence of factor 2 on the volume of products and on a total of 12 unique values for the release of the product in the region, it is necessary to double-check the adequacy of the embedded algorithm, which gives a 100 correlation between the factor and the receipt of the product, given that in the other two regions such a strong relationship has not been revealed."
   ]
  },
  {
   "cell_type": "code",
   "execution_count": null,
   "metadata": {},
   "outputs": [],
   "source": []
  }
 ],
 "metadata": {
  "ExecuteTimeLog": [
   {
    "duration": 1676,
    "start_time": "2023-01-07T10:09:31.193Z"
   },
   {
    "duration": 743,
    "start_time": "2023-01-07T10:11:27.031Z"
   },
   {
    "duration": 16,
    "start_time": "2023-01-07T10:11:56.635Z"
   },
   {
    "duration": 12,
    "start_time": "2023-01-07T10:12:15.219Z"
   },
   {
    "duration": 10,
    "start_time": "2023-01-07T10:12:26.268Z"
   },
   {
    "duration": 10,
    "start_time": "2023-01-07T10:12:38.470Z"
   },
   {
    "duration": 10,
    "start_time": "2023-01-07T10:12:49.783Z"
   },
   {
    "duration": 10,
    "start_time": "2023-01-07T10:14:46.543Z"
   },
   {
    "duration": 9,
    "start_time": "2023-01-07T10:14:53.752Z"
   },
   {
    "duration": 12,
    "start_time": "2023-01-07T10:15:03.670Z"
   },
   {
    "duration": 15,
    "start_time": "2023-01-07T10:19:20.862Z"
   },
   {
    "duration": 17,
    "start_time": "2023-01-07T10:19:26.342Z"
   },
   {
    "duration": 19,
    "start_time": "2023-01-07T10:19:30.800Z"
   },
   {
    "duration": 141,
    "start_time": "2023-01-07T10:26:00.403Z"
   },
   {
    "duration": 14,
    "start_time": "2023-01-07T10:26:20.834Z"
   },
   {
    "duration": 84,
    "start_time": "2023-01-07T10:26:41.626Z"
   },
   {
    "duration": 78,
    "start_time": "2023-01-07T10:28:19.798Z"
   },
   {
    "duration": 99,
    "start_time": "2023-01-07T10:29:12.303Z"
   },
   {
    "duration": 16,
    "start_time": "2023-01-07T10:31:28.549Z"
   },
   {
    "duration": 31,
    "start_time": "2023-01-07T10:31:45.328Z"
   },
   {
    "duration": 9,
    "start_time": "2023-01-07T10:35:24.381Z"
   },
   {
    "duration": 144,
    "start_time": "2023-01-07T10:35:59.294Z"
   },
   {
    "duration": 51,
    "start_time": "2023-01-07T10:40:45.616Z"
   },
   {
    "duration": 12,
    "start_time": "2023-01-07T10:41:09.033Z"
   },
   {
    "duration": 3,
    "start_time": "2023-01-07T10:48:55.241Z"
   },
   {
    "duration": 4,
    "start_time": "2023-01-07T10:50:13.329Z"
   },
   {
    "duration": 17,
    "start_time": "2023-01-07T10:50:36.244Z"
   },
   {
    "duration": 40,
    "start_time": "2023-01-07T10:51:57.192Z"
   },
   {
    "duration": 3,
    "start_time": "2023-01-07T10:55:09.997Z"
   },
   {
    "duration": 13,
    "start_time": "2023-01-07T10:57:33.476Z"
   },
   {
    "duration": 18,
    "start_time": "2023-01-07T10:57:50.264Z"
   },
   {
    "duration": 5,
    "start_time": "2023-01-07T10:59:31.838Z"
   },
   {
    "duration": 14,
    "start_time": "2023-01-07T10:59:32.762Z"
   },
   {
    "duration": 5,
    "start_time": "2023-01-07T11:00:05.795Z"
   },
   {
    "duration": 43,
    "start_time": "2023-01-07T11:00:06.538Z"
   },
   {
    "duration": 4,
    "start_time": "2023-01-07T11:00:07.966Z"
   },
   {
    "duration": 17,
    "start_time": "2023-01-07T11:00:08.771Z"
   },
   {
    "duration": 4,
    "start_time": "2023-01-07T11:05:58.329Z"
   },
   {
    "duration": 10,
    "start_time": "2023-01-07T11:08:09.546Z"
   },
   {
    "duration": 10,
    "start_time": "2023-01-07T11:09:21.659Z"
   },
   {
    "duration": 1858,
    "start_time": "2023-01-07T11:10:52.849Z"
   },
   {
    "duration": 600,
    "start_time": "2023-01-07T11:10:54.709Z"
   },
   {
    "duration": 28,
    "start_time": "2023-01-07T11:10:55.324Z"
   },
   {
    "duration": 91,
    "start_time": "2023-01-07T11:10:55.354Z"
   },
   {
    "duration": 275,
    "start_time": "2023-01-07T11:10:55.450Z"
   },
   {
    "duration": 0,
    "start_time": "2023-01-07T11:10:55.726Z"
   },
   {
    "duration": 0,
    "start_time": "2023-01-07T11:10:55.727Z"
   },
   {
    "duration": 0,
    "start_time": "2023-01-07T11:10:55.728Z"
   },
   {
    "duration": 0,
    "start_time": "2023-01-07T11:10:55.729Z"
   },
   {
    "duration": 0,
    "start_time": "2023-01-07T11:10:55.730Z"
   },
   {
    "duration": 199,
    "start_time": "2023-01-07T11:11:16.883Z"
   },
   {
    "duration": 43,
    "start_time": "2023-01-07T11:11:28.251Z"
   },
   {
    "duration": 24,
    "start_time": "2023-01-07T11:11:39.877Z"
   },
   {
    "duration": 1671,
    "start_time": "2023-01-07T11:12:01.031Z"
   },
   {
    "duration": 499,
    "start_time": "2023-01-07T11:12:02.704Z"
   },
   {
    "duration": 35,
    "start_time": "2023-01-07T11:12:03.205Z"
   },
   {
    "duration": 82,
    "start_time": "2023-01-07T11:12:03.242Z"
   },
   {
    "duration": 149,
    "start_time": "2023-01-07T11:12:03.327Z"
   },
   {
    "duration": 16,
    "start_time": "2023-01-07T11:12:03.478Z"
   },
   {
    "duration": 24,
    "start_time": "2023-01-07T11:12:03.496Z"
   },
   {
    "duration": 151,
    "start_time": "2023-01-07T11:12:03.521Z"
   },
   {
    "duration": 0,
    "start_time": "2023-01-07T11:12:03.674Z"
   },
   {
    "duration": 0,
    "start_time": "2023-01-07T11:12:03.676Z"
   },
   {
    "duration": 95,
    "start_time": "2023-01-07T11:13:20.719Z"
   },
   {
    "duration": 14,
    "start_time": "2023-01-07T11:13:43.742Z"
   },
   {
    "duration": 43,
    "start_time": "2023-01-07T11:14:06.549Z"
   },
   {
    "duration": 9,
    "start_time": "2023-01-07T11:14:07.947Z"
   },
   {
    "duration": 29,
    "start_time": "2023-01-07T11:14:53.552Z"
   },
   {
    "duration": 41,
    "start_time": "2023-01-07T11:15:04.201Z"
   },
   {
    "duration": 5,
    "start_time": "2023-01-07T11:28:08.245Z"
   },
   {
    "duration": 26,
    "start_time": "2023-01-07T11:28:09.664Z"
   },
   {
    "duration": 15,
    "start_time": "2023-01-07T11:28:10.413Z"
   },
   {
    "duration": 24,
    "start_time": "2023-01-07T11:28:11.454Z"
   },
   {
    "duration": 5,
    "start_time": "2023-01-07T11:29:30.644Z"
   },
   {
    "duration": 31,
    "start_time": "2023-01-07T11:29:31.390Z"
   },
   {
    "duration": 4,
    "start_time": "2023-01-07T11:29:31.996Z"
   },
   {
    "duration": 40,
    "start_time": "2023-01-07T11:29:32.910Z"
   },
   {
    "duration": 4,
    "start_time": "2023-01-07T11:30:07.956Z"
   },
   {
    "duration": 12,
    "start_time": "2023-01-07T11:30:08.650Z"
   },
   {
    "duration": 4,
    "start_time": "2023-01-07T11:31:04.354Z"
   },
   {
    "duration": 22,
    "start_time": "2023-01-07T11:31:05.906Z"
   },
   {
    "duration": 89,
    "start_time": "2023-01-07T11:32:21.942Z"
   },
   {
    "duration": 5,
    "start_time": "2023-01-07T11:32:35.635Z"
   },
   {
    "duration": 26,
    "start_time": "2023-01-07T11:32:39.046Z"
   },
   {
    "duration": 3,
    "start_time": "2023-01-07T11:35:28.504Z"
   },
   {
    "duration": 4,
    "start_time": "2023-01-07T11:37:25.452Z"
   },
   {
    "duration": 10,
    "start_time": "2023-01-07T11:37:28.251Z"
   },
   {
    "duration": 4,
    "start_time": "2023-01-07T11:38:01.194Z"
   },
   {
    "duration": 10,
    "start_time": "2023-01-07T11:38:03.058Z"
   },
   {
    "duration": 10,
    "start_time": "2023-01-07T11:39:10.044Z"
   },
   {
    "duration": 16,
    "start_time": "2023-01-07T11:39:29.941Z"
   },
   {
    "duration": 5,
    "start_time": "2023-01-07T11:40:06.448Z"
   },
   {
    "duration": 25,
    "start_time": "2023-01-07T11:40:07.252Z"
   },
   {
    "duration": 3,
    "start_time": "2023-01-07T11:40:09.803Z"
   },
   {
    "duration": 27,
    "start_time": "2023-01-07T11:40:12.523Z"
   },
   {
    "duration": 10,
    "start_time": "2023-01-07T11:41:24.903Z"
   },
   {
    "duration": 5,
    "start_time": "2023-01-07T11:42:38.569Z"
   },
   {
    "duration": 20,
    "start_time": "2023-01-07T11:42:39.505Z"
   },
   {
    "duration": 3,
    "start_time": "2023-01-07T11:50:37.645Z"
   },
   {
    "duration": 13,
    "start_time": "2023-01-07T11:50:38.229Z"
   },
   {
    "duration": 5,
    "start_time": "2023-01-07T11:51:14.626Z"
   },
   {
    "duration": 14,
    "start_time": "2023-01-07T11:51:15.424Z"
   },
   {
    "duration": 4,
    "start_time": "2023-01-07T11:51:48.137Z"
   },
   {
    "duration": 52,
    "start_time": "2023-01-07T11:51:55.879Z"
   },
   {
    "duration": 6,
    "start_time": "2023-01-07T11:52:43.423Z"
   },
   {
    "duration": 6,
    "start_time": "2023-01-07T11:52:52.523Z"
   },
   {
    "duration": 18,
    "start_time": "2023-01-07T11:52:53.380Z"
   },
   {
    "duration": 103,
    "start_time": "2023-01-07T11:54:00.249Z"
   },
   {
    "duration": 48,
    "start_time": "2023-01-07T11:54:04.972Z"
   },
   {
    "duration": 4,
    "start_time": "2023-01-07T11:54:22.649Z"
   },
   {
    "duration": 106,
    "start_time": "2023-01-07T11:54:23.322Z"
   },
   {
    "duration": 24,
    "start_time": "2023-01-07T11:54:45.408Z"
   },
   {
    "duration": 12,
    "start_time": "2023-01-07T11:55:19.370Z"
   },
   {
    "duration": 17,
    "start_time": "2023-01-07T11:55:35.237Z"
   },
   {
    "duration": 85,
    "start_time": "2023-01-07T11:56:46.934Z"
   },
   {
    "duration": 31,
    "start_time": "2023-01-07T11:56:56.507Z"
   },
   {
    "duration": 17,
    "start_time": "2023-01-07T11:57:45.647Z"
   },
   {
    "duration": 8,
    "start_time": "2023-01-07T12:03:11.280Z"
   },
   {
    "duration": 92,
    "start_time": "2023-01-07T12:16:18.600Z"
   },
   {
    "duration": 83,
    "start_time": "2023-01-07T12:17:38.012Z"
   },
   {
    "duration": 88,
    "start_time": "2023-01-07T12:17:39.314Z"
   },
   {
    "duration": 69,
    "start_time": "2023-01-07T12:17:50.238Z"
   },
   {
    "duration": 73,
    "start_time": "2023-01-07T12:18:01.719Z"
   },
   {
    "duration": 36,
    "start_time": "2023-01-07T12:21:28.048Z"
   },
   {
    "duration": 39,
    "start_time": "2023-01-07T12:21:39.245Z"
   },
   {
    "duration": 33,
    "start_time": "2023-01-07T12:21:54.039Z"
   },
   {
    "duration": 100,
    "start_time": "2023-01-07T12:22:06.521Z"
   },
   {
    "duration": 39,
    "start_time": "2023-01-07T12:23:56.767Z"
   },
   {
    "duration": 253,
    "start_time": "2023-01-07T12:24:19.081Z"
   },
   {
    "duration": 196,
    "start_time": "2023-01-07T12:26:21.884Z"
   },
   {
    "duration": 183,
    "start_time": "2023-01-07T12:26:48.291Z"
   },
   {
    "duration": 87,
    "start_time": "2023-01-07T12:26:49.822Z"
   },
   {
    "duration": 209,
    "start_time": "2023-01-07T12:27:04.955Z"
   },
   {
    "duration": 82,
    "start_time": "2023-01-07T12:27:06.961Z"
   },
   {
    "duration": 45,
    "start_time": "2023-01-07T14:24:57.878Z"
   },
   {
    "duration": 1471,
    "start_time": "2023-01-07T14:25:05.657Z"
   },
   {
    "duration": 726,
    "start_time": "2023-01-07T14:25:07.130Z"
   },
   {
    "duration": 14,
    "start_time": "2023-01-07T14:25:07.858Z"
   },
   {
    "duration": 267,
    "start_time": "2023-01-07T14:25:07.874Z"
   },
   {
    "duration": 261,
    "start_time": "2023-01-07T14:25:08.143Z"
   },
   {
    "duration": 261,
    "start_time": "2023-01-07T14:25:08.406Z"
   },
   {
    "duration": 93,
    "start_time": "2023-01-07T14:25:08.669Z"
   },
   {
    "duration": 12,
    "start_time": "2023-01-07T14:25:08.764Z"
   },
   {
    "duration": 6,
    "start_time": "2023-01-07T14:25:08.778Z"
   },
   {
    "duration": 31,
    "start_time": "2023-01-07T14:25:08.798Z"
   },
   {
    "duration": 4,
    "start_time": "2023-01-07T14:25:08.830Z"
   },
   {
    "duration": 33,
    "start_time": "2023-01-07T14:25:08.836Z"
   },
   {
    "duration": 3,
    "start_time": "2023-01-07T14:25:08.870Z"
   },
   {
    "duration": 125,
    "start_time": "2023-01-07T14:25:08.875Z"
   },
   {
    "duration": 101,
    "start_time": "2023-01-07T14:25:09.003Z"
   },
   {
    "duration": 204,
    "start_time": "2023-01-07T14:25:09.106Z"
   },
   {
    "duration": 94,
    "start_time": "2023-01-07T14:25:09.315Z"
   },
   {
    "duration": 155,
    "start_time": "2023-01-07T14:26:14.760Z"
   },
   {
    "duration": 1342,
    "start_time": "2023-01-07T14:27:09.967Z"
   },
   {
    "duration": 361,
    "start_time": "2023-01-07T14:27:11.310Z"
   },
   {
    "duration": 14,
    "start_time": "2023-01-07T14:27:11.672Z"
   },
   {
    "duration": 15,
    "start_time": "2023-01-07T14:27:11.698Z"
   },
   {
    "duration": 160,
    "start_time": "2023-01-07T14:27:11.715Z"
   },
   {
    "duration": 123,
    "start_time": "2023-01-07T14:27:11.877Z"
   },
   {
    "duration": 109,
    "start_time": "2023-01-07T14:27:12.001Z"
   },
   {
    "duration": 148,
    "start_time": "2023-01-07T14:27:12.111Z"
   },
   {
    "duration": 3,
    "start_time": "2023-01-07T14:27:12.261Z"
   },
   {
    "duration": 42,
    "start_time": "2023-01-07T14:27:12.266Z"
   },
   {
    "duration": 3,
    "start_time": "2023-01-07T14:27:12.310Z"
   },
   {
    "duration": 44,
    "start_time": "2023-01-07T14:27:12.315Z"
   },
   {
    "duration": 4,
    "start_time": "2023-01-07T14:27:12.363Z"
   },
   {
    "duration": 36,
    "start_time": "2023-01-07T14:27:12.368Z"
   },
   {
    "duration": 194,
    "start_time": "2023-01-07T14:27:12.407Z"
   },
   {
    "duration": 205,
    "start_time": "2023-01-07T14:27:12.603Z"
   },
   {
    "duration": 93,
    "start_time": "2023-01-07T14:27:12.810Z"
   },
   {
    "duration": 1262,
    "start_time": "2023-01-07T14:27:42.837Z"
   },
   {
    "duration": 363,
    "start_time": "2023-01-07T14:27:44.101Z"
   },
   {
    "duration": 14,
    "start_time": "2023-01-07T14:27:44.466Z"
   },
   {
    "duration": 17,
    "start_time": "2023-01-07T14:27:44.482Z"
   },
   {
    "duration": 155,
    "start_time": "2023-01-07T14:27:44.500Z"
   },
   {
    "duration": 126,
    "start_time": "2023-01-07T14:27:44.657Z"
   },
   {
    "duration": 154,
    "start_time": "2023-01-07T14:27:44.785Z"
   },
   {
    "duration": 161,
    "start_time": "2023-01-07T14:27:44.941Z"
   },
   {
    "duration": 3,
    "start_time": "2023-01-07T14:27:45.103Z"
   },
   {
    "duration": 43,
    "start_time": "2023-01-07T14:27:45.109Z"
   },
   {
    "duration": 4,
    "start_time": "2023-01-07T14:27:45.154Z"
   },
   {
    "duration": 41,
    "start_time": "2023-01-07T14:27:45.160Z"
   },
   {
    "duration": 3,
    "start_time": "2023-01-07T14:27:45.202Z"
   },
   {
    "duration": 15,
    "start_time": "2023-01-07T14:27:45.207Z"
   },
   {
    "duration": 179,
    "start_time": "2023-01-07T14:27:45.224Z"
   },
   {
    "duration": 196,
    "start_time": "2023-01-07T14:27:45.405Z"
   },
   {
    "duration": 112,
    "start_time": "2023-01-07T14:27:45.603Z"
   },
   {
    "duration": 5,
    "start_time": "2023-01-07T14:38:51.569Z"
   },
   {
    "duration": 108,
    "start_time": "2023-01-07T14:43:12.709Z"
   },
   {
    "duration": 5,
    "start_time": "2023-01-07T14:43:43.507Z"
   },
   {
    "duration": 35,
    "start_time": "2023-01-07T14:45:01.364Z"
   },
   {
    "duration": 65,
    "start_time": "2023-01-07T14:45:34.734Z"
   },
   {
    "duration": 97,
    "start_time": "2023-01-07T14:46:05.102Z"
   },
   {
    "duration": 4,
    "start_time": "2023-01-07T14:46:24.844Z"
   },
   {
    "duration": 84,
    "start_time": "2023-01-07T14:46:25.615Z"
   },
   {
    "duration": 17,
    "start_time": "2023-01-07T14:46:39.499Z"
   },
   {
    "duration": 9,
    "start_time": "2023-01-07T14:50:17.179Z"
   },
   {
    "duration": 10,
    "start_time": "2023-01-07T14:52:26.468Z"
   },
   {
    "duration": 865,
    "start_time": "2023-01-07T14:52:32.910Z"
   },
   {
    "duration": 960,
    "start_time": "2023-01-07T14:55:08.330Z"
   },
   {
    "duration": 888,
    "start_time": "2023-01-07T14:56:05.816Z"
   },
   {
    "duration": 3,
    "start_time": "2023-01-07T15:02:55.810Z"
   },
   {
    "duration": 2,
    "start_time": "2023-01-07T15:03:43.022Z"
   },
   {
    "duration": 10,
    "start_time": "2023-01-07T15:06:23.060Z"
   },
   {
    "duration": 118,
    "start_time": "2023-01-07T15:06:45.539Z"
   },
   {
    "duration": 10,
    "start_time": "2023-01-08T18:00:34.553Z"
   },
   {
    "duration": 4,
    "start_time": "2023-01-08T18:02:11.971Z"
   },
   {
    "duration": 4,
    "start_time": "2023-01-08T18:03:58.927Z"
   },
   {
    "duration": 3,
    "start_time": "2023-01-08T18:06:52.957Z"
   },
   {
    "duration": 3,
    "start_time": "2023-01-08T18:10:50.035Z"
   },
   {
    "duration": 40,
    "start_time": "2023-01-08T18:12:39.983Z"
   },
   {
    "duration": 1451,
    "start_time": "2023-01-08T18:12:47.286Z"
   },
   {
    "duration": 725,
    "start_time": "2023-01-08T18:12:48.739Z"
   },
   {
    "duration": 15,
    "start_time": "2023-01-08T18:12:49.465Z"
   },
   {
    "duration": 12,
    "start_time": "2023-01-08T18:12:49.482Z"
   },
   {
    "duration": 153,
    "start_time": "2023-01-08T18:12:49.496Z"
   },
   {
    "duration": 113,
    "start_time": "2023-01-08T18:12:49.651Z"
   },
   {
    "duration": 126,
    "start_time": "2023-01-08T18:12:49.766Z"
   },
   {
    "duration": 96,
    "start_time": "2023-01-08T18:12:49.894Z"
   },
   {
    "duration": 2,
    "start_time": "2023-01-08T18:12:49.992Z"
   },
   {
    "duration": 42,
    "start_time": "2023-01-08T18:12:49.997Z"
   },
   {
    "duration": 4,
    "start_time": "2023-01-08T18:12:50.040Z"
   },
   {
    "duration": 29,
    "start_time": "2023-01-08T18:12:50.046Z"
   },
   {
    "duration": 4,
    "start_time": "2023-01-08T18:12:50.076Z"
   },
   {
    "duration": 44,
    "start_time": "2023-01-08T18:12:50.081Z"
   },
   {
    "duration": 203,
    "start_time": "2023-01-08T18:12:50.127Z"
   },
   {
    "duration": 201,
    "start_time": "2023-01-08T18:12:50.332Z"
   },
   {
    "duration": 101,
    "start_time": "2023-01-08T18:12:50.620Z"
   },
   {
    "duration": 878,
    "start_time": "2023-01-08T18:12:50.723Z"
   },
   {
    "duration": 3,
    "start_time": "2023-01-08T18:12:51.603Z"
   },
   {
    "duration": 11,
    "start_time": "2023-01-08T18:12:51.607Z"
   },
   {
    "duration": 5,
    "start_time": "2023-01-08T18:12:51.621Z"
   },
   {
    "duration": 15,
    "start_time": "2023-01-08T18:12:51.627Z"
   },
   {
    "duration": 46,
    "start_time": "2023-01-08T18:12:51.643Z"
   },
   {
    "duration": 4,
    "start_time": "2023-01-08T18:23:48.578Z"
   },
   {
    "duration": 3,
    "start_time": "2023-01-08T18:36:16.692Z"
   },
   {
    "duration": 4,
    "start_time": "2023-01-08T18:36:37.886Z"
   },
   {
    "duration": 114,
    "start_time": "2023-01-08T18:36:57.468Z"
   },
   {
    "duration": 23,
    "start_time": "2023-01-08T18:38:06.526Z"
   },
   {
    "duration": 3,
    "start_time": "2023-01-08T18:38:35.867Z"
   },
   {
    "duration": 4,
    "start_time": "2023-01-08T18:38:36.515Z"
   },
   {
    "duration": 924,
    "start_time": "2023-01-08T18:38:37.251Z"
   },
   {
    "duration": 1299,
    "start_time": "2023-01-08T18:39:55.121Z"
   },
   {
    "duration": 358,
    "start_time": "2023-01-08T18:39:56.422Z"
   },
   {
    "duration": 14,
    "start_time": "2023-01-08T18:39:56.782Z"
   },
   {
    "duration": 15,
    "start_time": "2023-01-08T18:39:56.798Z"
   },
   {
    "duration": 147,
    "start_time": "2023-01-08T18:39:56.821Z"
   },
   {
    "duration": 115,
    "start_time": "2023-01-08T18:39:56.970Z"
   },
   {
    "duration": 146,
    "start_time": "2023-01-08T18:39:57.087Z"
   },
   {
    "duration": 122,
    "start_time": "2023-01-08T18:39:57.234Z"
   },
   {
    "duration": 4,
    "start_time": "2023-01-08T18:39:57.357Z"
   },
   {
    "duration": 32,
    "start_time": "2023-01-08T18:39:57.364Z"
   },
   {
    "duration": 4,
    "start_time": "2023-01-08T18:39:57.397Z"
   },
   {
    "duration": 40,
    "start_time": "2023-01-08T18:39:57.403Z"
   },
   {
    "duration": 4,
    "start_time": "2023-01-08T18:39:57.444Z"
   },
   {
    "duration": 74,
    "start_time": "2023-01-08T18:39:57.449Z"
   },
   {
    "duration": 112,
    "start_time": "2023-01-08T18:39:57.524Z"
   },
   {
    "duration": 191,
    "start_time": "2023-01-08T18:39:57.638Z"
   },
   {
    "duration": 95,
    "start_time": "2023-01-08T18:39:57.831Z"
   },
   {
    "duration": 972,
    "start_time": "2023-01-08T18:39:57.928Z"
   },
   {
    "duration": 3,
    "start_time": "2023-01-08T18:39:58.901Z"
   },
   {
    "duration": 44,
    "start_time": "2023-01-08T18:39:58.906Z"
   },
   {
    "duration": 0,
    "start_time": "2023-01-08T18:39:58.951Z"
   },
   {
    "duration": 0,
    "start_time": "2023-01-08T18:39:58.953Z"
   },
   {
    "duration": 0,
    "start_time": "2023-01-08T18:39:58.954Z"
   },
   {
    "duration": 0,
    "start_time": "2023-01-08T18:39:58.955Z"
   },
   {
    "duration": 0,
    "start_time": "2023-01-08T18:39:58.956Z"
   },
   {
    "duration": 0,
    "start_time": "2023-01-08T18:39:58.957Z"
   },
   {
    "duration": 3,
    "start_time": "2023-01-08T18:40:17.113Z"
   },
   {
    "duration": 3,
    "start_time": "2023-01-08T18:40:17.655Z"
   },
   {
    "duration": 3,
    "start_time": "2023-01-08T18:40:18.163Z"
   },
   {
    "duration": 3,
    "start_time": "2023-01-08T18:40:19.663Z"
   },
   {
    "duration": 5,
    "start_time": "2023-01-08T18:40:20.240Z"
   },
   {
    "duration": 972,
    "start_time": "2023-01-08T18:40:20.815Z"
   },
   {
    "duration": 3,
    "start_time": "2023-01-08T18:41:34.656Z"
   },
   {
    "duration": 4,
    "start_time": "2023-01-08T18:41:35.178Z"
   },
   {
    "duration": 915,
    "start_time": "2023-01-08T18:41:35.794Z"
   },
   {
    "duration": 74,
    "start_time": "2023-01-08T18:44:26.544Z"
   },
   {
    "duration": 964,
    "start_time": "2023-01-08T18:44:47.057Z"
   },
   {
    "duration": 867,
    "start_time": "2023-01-08T18:45:28.781Z"
   },
   {
    "duration": 887,
    "start_time": "2023-01-08T18:45:48.732Z"
   },
   {
    "duration": 57,
    "start_time": "2023-01-08T18:46:02.514Z"
   },
   {
    "duration": 873,
    "start_time": "2023-01-08T18:46:13.345Z"
   },
   {
    "duration": 849,
    "start_time": "2023-01-08T18:46:38.977Z"
   },
   {
    "duration": 900,
    "start_time": "2023-01-08T18:47:34.563Z"
   },
   {
    "duration": 887,
    "start_time": "2023-01-08T18:48:52.650Z"
   },
   {
    "duration": 4,
    "start_time": "2023-01-08T18:55:44.021Z"
   },
   {
    "duration": 5,
    "start_time": "2023-01-08T18:55:45.324Z"
   },
   {
    "duration": 26,
    "start_time": "2023-01-08T18:55:46.591Z"
   },
   {
    "duration": 4,
    "start_time": "2023-01-08T18:56:54.687Z"
   },
   {
    "duration": 4,
    "start_time": "2023-01-08T18:56:55.584Z"
   },
   {
    "duration": 926,
    "start_time": "2023-01-08T18:56:56.488Z"
   },
   {
    "duration": 10,
    "start_time": "2023-01-08T18:57:57.053Z"
   },
   {
    "duration": 2,
    "start_time": "2023-01-08T19:02:45.972Z"
   },
   {
    "duration": 4,
    "start_time": "2023-01-08T19:04:51.973Z"
   },
   {
    "duration": 6,
    "start_time": "2023-01-08T19:04:52.539Z"
   },
   {
    "duration": 931,
    "start_time": "2023-01-08T19:04:53.129Z"
   },
   {
    "duration": 3,
    "start_time": "2023-01-08T19:05:11.681Z"
   },
   {
    "duration": 5,
    "start_time": "2023-01-08T19:05:14.027Z"
   },
   {
    "duration": 878,
    "start_time": "2023-01-08T19:05:15.887Z"
   },
   {
    "duration": 3,
    "start_time": "2023-01-08T19:08:02.417Z"
   },
   {
    "duration": 5,
    "start_time": "2023-01-08T19:08:05.275Z"
   },
   {
    "duration": 851,
    "start_time": "2023-01-08T19:08:07.700Z"
   },
   {
    "duration": 9,
    "start_time": "2023-01-08T19:10:13.400Z"
   },
   {
    "duration": 8,
    "start_time": "2023-01-08T19:10:25.780Z"
   },
   {
    "duration": 8,
    "start_time": "2023-01-08T19:10:34.254Z"
   },
   {
    "duration": 10,
    "start_time": "2023-01-08T19:12:52.129Z"
   },
   {
    "duration": 4,
    "start_time": "2023-01-08T19:17:56.249Z"
   },
   {
    "duration": 12,
    "start_time": "2023-01-08T19:21:12.980Z"
   },
   {
    "duration": 15,
    "start_time": "2023-01-08T19:22:02.148Z"
   },
   {
    "duration": 4,
    "start_time": "2023-01-08T19:24:02.244Z"
   },
   {
    "duration": 16,
    "start_time": "2023-01-08T19:24:03.379Z"
   },
   {
    "duration": 4,
    "start_time": "2023-01-08T19:24:39.791Z"
   },
   {
    "duration": 20,
    "start_time": "2023-01-08T19:24:40.374Z"
   },
   {
    "duration": 4,
    "start_time": "2023-01-08T19:25:05.487Z"
   },
   {
    "duration": 17,
    "start_time": "2023-01-08T19:25:07.586Z"
   },
   {
    "duration": 3,
    "start_time": "2023-01-08T19:26:04.341Z"
   },
   {
    "duration": 15,
    "start_time": "2023-01-08T19:26:04.696Z"
   },
   {
    "duration": 4,
    "start_time": "2023-01-08T19:26:30.662Z"
   },
   {
    "duration": 9,
    "start_time": "2023-01-08T19:26:43.131Z"
   },
   {
    "duration": 21,
    "start_time": "2023-01-08T19:26:43.639Z"
   },
   {
    "duration": 3,
    "start_time": "2023-01-08T19:29:37.422Z"
   },
   {
    "duration": 20,
    "start_time": "2023-01-08T19:29:38.074Z"
   },
   {
    "duration": 6,
    "start_time": "2023-01-08T19:31:04.177Z"
   },
   {
    "duration": 8,
    "start_time": "2023-01-08T19:31:20.265Z"
   },
   {
    "duration": 18,
    "start_time": "2023-01-08T19:31:20.968Z"
   },
   {
    "duration": 4,
    "start_time": "2023-01-08T19:33:45.247Z"
   },
   {
    "duration": 7,
    "start_time": "2023-01-08T19:33:45.799Z"
   },
   {
    "duration": 926,
    "start_time": "2023-01-08T19:33:46.256Z"
   },
   {
    "duration": 12,
    "start_time": "2023-01-08T19:34:16.788Z"
   },
   {
    "duration": 21,
    "start_time": "2023-01-08T19:35:24.411Z"
   },
   {
    "duration": 45,
    "start_time": "2023-01-08T19:42:16.592Z"
   },
   {
    "duration": 6,
    "start_time": "2023-01-08T19:44:36.400Z"
   },
   {
    "duration": 40,
    "start_time": "2023-01-08T19:44:39.993Z"
   },
   {
    "duration": 769,
    "start_time": "2023-01-08T19:46:36.365Z"
   },
   {
    "duration": 51,
    "start_time": "2023-01-09T12:50:38.529Z"
   },
   {
    "duration": 1694,
    "start_time": "2023-01-09T12:50:44.823Z"
   },
   {
    "duration": 902,
    "start_time": "2023-01-09T12:50:46.519Z"
   },
   {
    "duration": 15,
    "start_time": "2023-01-09T12:50:47.423Z"
   },
   {
    "duration": 20,
    "start_time": "2023-01-09T12:50:47.440Z"
   },
   {
    "duration": 175,
    "start_time": "2023-01-09T12:50:47.462Z"
   },
   {
    "duration": 136,
    "start_time": "2023-01-09T12:50:47.639Z"
   },
   {
    "duration": 140,
    "start_time": "2023-01-09T12:50:47.777Z"
   },
   {
    "duration": 129,
    "start_time": "2023-01-09T12:50:47.919Z"
   },
   {
    "duration": 3,
    "start_time": "2023-01-09T12:50:48.051Z"
   },
   {
    "duration": 38,
    "start_time": "2023-01-09T12:50:48.058Z"
   },
   {
    "duration": 5,
    "start_time": "2023-01-09T12:50:48.097Z"
   },
   {
    "duration": 49,
    "start_time": "2023-01-09T12:50:48.104Z"
   },
   {
    "duration": 4,
    "start_time": "2023-01-09T12:50:48.155Z"
   },
   {
    "duration": 76,
    "start_time": "2023-01-09T12:50:48.161Z"
   },
   {
    "duration": 118,
    "start_time": "2023-01-09T12:50:48.240Z"
   },
   {
    "duration": 183,
    "start_time": "2023-01-09T12:50:48.360Z"
   },
   {
    "duration": 192,
    "start_time": "2023-01-09T12:50:48.546Z"
   },
   {
    "duration": 1021,
    "start_time": "2023-01-09T12:50:48.740Z"
   },
   {
    "duration": 4,
    "start_time": "2023-01-09T12:50:49.763Z"
   },
   {
    "duration": 48,
    "start_time": "2023-01-09T12:50:49.769Z"
   },
   {
    "duration": 0,
    "start_time": "2023-01-09T12:50:49.819Z"
   },
   {
    "duration": 0,
    "start_time": "2023-01-09T12:50:49.821Z"
   },
   {
    "duration": 0,
    "start_time": "2023-01-09T12:50:49.822Z"
   },
   {
    "duration": 0,
    "start_time": "2023-01-09T12:50:49.823Z"
   },
   {
    "duration": 0,
    "start_time": "2023-01-09T12:50:49.824Z"
   },
   {
    "duration": 0,
    "start_time": "2023-01-09T12:50:49.825Z"
   },
   {
    "duration": 0,
    "start_time": "2023-01-09T12:50:49.826Z"
   },
   {
    "duration": 0,
    "start_time": "2023-01-09T12:50:49.828Z"
   },
   {
    "duration": 0,
    "start_time": "2023-01-09T12:50:49.829Z"
   },
   {
    "duration": 0,
    "start_time": "2023-01-09T12:50:49.830Z"
   },
   {
    "duration": 0,
    "start_time": "2023-01-09T12:50:49.832Z"
   },
   {
    "duration": 0,
    "start_time": "2023-01-09T12:50:49.833Z"
   },
   {
    "duration": 0,
    "start_time": "2023-01-09T12:50:49.835Z"
   },
   {
    "duration": 0,
    "start_time": "2023-01-09T12:50:49.836Z"
   },
   {
    "duration": 4,
    "start_time": "2023-01-09T12:50:59.638Z"
   },
   {
    "duration": 4,
    "start_time": "2023-01-09T12:51:00.544Z"
   },
   {
    "duration": 4,
    "start_time": "2023-01-09T12:51:01.126Z"
   },
   {
    "duration": 2,
    "start_time": "2023-01-09T12:51:03.805Z"
   },
   {
    "duration": 4,
    "start_time": "2023-01-09T12:51:04.414Z"
   },
   {
    "duration": 6,
    "start_time": "2023-01-09T12:51:05.402Z"
   },
   {
    "duration": 12,
    "start_time": "2023-01-09T12:51:06.014Z"
   },
   {
    "duration": 15,
    "start_time": "2023-01-09T12:51:28.300Z"
   },
   {
    "duration": 35,
    "start_time": "2023-01-09T12:51:29.748Z"
   },
   {
    "duration": 134,
    "start_time": "2023-01-09T12:51:38.368Z"
   },
   {
    "duration": 4,
    "start_time": "2023-01-09T12:52:24.450Z"
   },
   {
    "duration": 4,
    "start_time": "2023-01-09T12:52:25.162Z"
   },
   {
    "duration": 11,
    "start_time": "2023-01-09T12:52:25.897Z"
   },
   {
    "duration": 34,
    "start_time": "2023-01-09T12:52:26.804Z"
   },
   {
    "duration": 11,
    "start_time": "2023-01-09T12:52:27.568Z"
   },
   {
    "duration": 4,
    "start_time": "2023-01-09T12:52:28.124Z"
   },
   {
    "duration": 78,
    "start_time": "2023-01-09T12:52:28.803Z"
   },
   {
    "duration": 969,
    "start_time": "2023-01-09T12:52:29.494Z"
   },
   {
    "duration": 955,
    "start_time": "2023-01-09T12:52:30.464Z"
   },
   {
    "duration": 950,
    "start_time": "2023-01-09T12:52:31.421Z"
   },
   {
    "duration": 26,
    "start_time": "2023-01-09T12:53:07.612Z"
   },
   {
    "duration": 11,
    "start_time": "2023-01-09T12:53:07.641Z"
   },
   {
    "duration": 917,
    "start_time": "2023-01-09T12:53:09.025Z"
   },
   {
    "duration": 13,
    "start_time": "2023-01-09T12:53:37.714Z"
   },
   {
    "duration": 5,
    "start_time": "2023-01-09T12:58:49.243Z"
   },
   {
    "duration": 3,
    "start_time": "2023-01-09T12:59:10.272Z"
   },
   {
    "duration": 16,
    "start_time": "2023-01-09T13:01:15.720Z"
   },
   {
    "duration": 5,
    "start_time": "2023-01-09T13:01:43.760Z"
   },
   {
    "duration": 5,
    "start_time": "2023-01-09T13:08:47.668Z"
   },
   {
    "duration": 12,
    "start_time": "2023-01-09T13:09:06.181Z"
   },
   {
    "duration": 9,
    "start_time": "2023-01-09T13:11:50.157Z"
   },
   {
    "duration": 9,
    "start_time": "2023-01-09T13:12:45.798Z"
   },
   {
    "duration": 3,
    "start_time": "2023-01-09T13:13:14.291Z"
   },
   {
    "duration": 9,
    "start_time": "2023-01-09T13:13:16.072Z"
   },
   {
    "duration": 46,
    "start_time": "2023-01-09T13:13:39.204Z"
   },
   {
    "duration": 11,
    "start_time": "2023-01-09T13:13:44.520Z"
   },
   {
    "duration": 9,
    "start_time": "2023-01-09T13:17:58.997Z"
   },
   {
    "duration": 7,
    "start_time": "2023-01-09T13:18:08.304Z"
   },
   {
    "duration": 13,
    "start_time": "2023-01-09T13:18:20.593Z"
   },
   {
    "duration": 13,
    "start_time": "2023-01-09T13:19:01.166Z"
   },
   {
    "duration": 4,
    "start_time": "2023-01-09T13:19:27.417Z"
   },
   {
    "duration": 3,
    "start_time": "2023-01-09T13:19:43.315Z"
   },
   {
    "duration": 5,
    "start_time": "2023-01-09T13:23:06.080Z"
   },
   {
    "duration": 6,
    "start_time": "2023-01-09T13:23:42.085Z"
   },
   {
    "duration": 6,
    "start_time": "2023-01-09T13:24:22.006Z"
   },
   {
    "duration": 3,
    "start_time": "2023-01-09T13:24:23.625Z"
   },
   {
    "duration": 7,
    "start_time": "2023-01-09T13:24:33.634Z"
   },
   {
    "duration": 1598,
    "start_time": "2023-01-09T13:24:41.259Z"
   },
   {
    "duration": 383,
    "start_time": "2023-01-09T13:24:42.860Z"
   },
   {
    "duration": 16,
    "start_time": "2023-01-09T13:24:43.245Z"
   },
   {
    "duration": 20,
    "start_time": "2023-01-09T13:24:43.263Z"
   },
   {
    "duration": 203,
    "start_time": "2023-01-09T13:24:43.285Z"
   },
   {
    "duration": 147,
    "start_time": "2023-01-09T13:24:43.489Z"
   },
   {
    "duration": 164,
    "start_time": "2023-01-09T13:24:43.638Z"
   },
   {
    "duration": 131,
    "start_time": "2023-01-09T13:24:43.804Z"
   },
   {
    "duration": 4,
    "start_time": "2023-01-09T13:24:43.937Z"
   },
   {
    "duration": 60,
    "start_time": "2023-01-09T13:24:43.944Z"
   },
   {
    "duration": 5,
    "start_time": "2023-01-09T13:24:44.006Z"
   },
   {
    "duration": 38,
    "start_time": "2023-01-09T13:24:44.012Z"
   },
   {
    "duration": 4,
    "start_time": "2023-01-09T13:24:44.052Z"
   },
   {
    "duration": 125,
    "start_time": "2023-01-09T13:24:44.058Z"
   },
   {
    "duration": 0,
    "start_time": "2023-01-09T13:24:44.185Z"
   },
   {
    "duration": 0,
    "start_time": "2023-01-09T13:24:44.186Z"
   },
   {
    "duration": 0,
    "start_time": "2023-01-09T13:24:44.188Z"
   },
   {
    "duration": 0,
    "start_time": "2023-01-09T13:24:44.189Z"
   },
   {
    "duration": 0,
    "start_time": "2023-01-09T13:24:44.190Z"
   },
   {
    "duration": 0,
    "start_time": "2023-01-09T13:24:44.191Z"
   },
   {
    "duration": 0,
    "start_time": "2023-01-09T13:24:44.192Z"
   },
   {
    "duration": 0,
    "start_time": "2023-01-09T13:24:44.193Z"
   },
   {
    "duration": 0,
    "start_time": "2023-01-09T13:24:44.194Z"
   },
   {
    "duration": 0,
    "start_time": "2023-01-09T13:24:44.195Z"
   },
   {
    "duration": 0,
    "start_time": "2023-01-09T13:24:44.196Z"
   },
   {
    "duration": 0,
    "start_time": "2023-01-09T13:24:44.197Z"
   },
   {
    "duration": 0,
    "start_time": "2023-01-09T13:24:44.198Z"
   },
   {
    "duration": 0,
    "start_time": "2023-01-09T13:24:44.199Z"
   },
   {
    "duration": 0,
    "start_time": "2023-01-09T13:24:44.200Z"
   },
   {
    "duration": 0,
    "start_time": "2023-01-09T13:24:44.201Z"
   },
   {
    "duration": 0,
    "start_time": "2023-01-09T13:24:44.201Z"
   },
   {
    "duration": 0,
    "start_time": "2023-01-09T13:24:44.202Z"
   },
   {
    "duration": 0,
    "start_time": "2023-01-09T13:24:44.236Z"
   },
   {
    "duration": 0,
    "start_time": "2023-01-09T13:24:44.237Z"
   },
   {
    "duration": 0,
    "start_time": "2023-01-09T13:24:44.238Z"
   },
   {
    "duration": 0,
    "start_time": "2023-01-09T13:24:44.240Z"
   },
   {
    "duration": 0,
    "start_time": "2023-01-09T13:24:44.241Z"
   },
   {
    "duration": 0,
    "start_time": "2023-01-09T13:24:44.242Z"
   },
   {
    "duration": 0,
    "start_time": "2023-01-09T13:24:44.243Z"
   },
   {
    "duration": 0,
    "start_time": "2023-01-09T13:24:44.244Z"
   },
   {
    "duration": 0,
    "start_time": "2023-01-09T13:24:44.245Z"
   },
   {
    "duration": 0,
    "start_time": "2023-01-09T13:24:44.246Z"
   },
   {
    "duration": 115,
    "start_time": "2023-01-09T13:25:13.321Z"
   },
   {
    "duration": 4,
    "start_time": "2023-01-09T13:25:40.634Z"
   },
   {
    "duration": 20,
    "start_time": "2023-01-09T13:26:35.903Z"
   },
   {
    "duration": 18,
    "start_time": "2023-01-09T13:27:25.125Z"
   },
   {
    "duration": 4,
    "start_time": "2023-01-09T13:27:26.379Z"
   },
   {
    "duration": 4,
    "start_time": "2023-01-09T13:27:27.012Z"
   },
   {
    "duration": 4,
    "start_time": "2023-01-09T13:27:27.615Z"
   },
   {
    "duration": 6,
    "start_time": "2023-01-09T13:27:33.245Z"
   },
   {
    "duration": 7,
    "start_time": "2023-01-09T13:28:20.361Z"
   },
   {
    "duration": 5,
    "start_time": "2023-01-09T13:29:18.795Z"
   },
   {
    "duration": 1052,
    "start_time": "2023-01-09T13:29:43.311Z"
   },
   {
    "duration": 4,
    "start_time": "2023-01-09T13:29:46.244Z"
   },
   {
    "duration": 294,
    "start_time": "2023-01-09T13:29:47.584Z"
   },
   {
    "duration": 4,
    "start_time": "2023-01-09T13:29:48.344Z"
   },
   {
    "duration": 3,
    "start_time": "2023-01-09T13:29:49.947Z"
   },
   {
    "duration": 5,
    "start_time": "2023-01-09T13:29:50.649Z"
   },
   {
    "duration": 3,
    "start_time": "2023-01-09T13:29:56.708Z"
   },
   {
    "duration": 4,
    "start_time": "2023-01-09T13:29:57.216Z"
   },
   {
    "duration": 5,
    "start_time": "2023-01-09T13:29:57.838Z"
   },
   {
    "duration": 14,
    "start_time": "2023-01-09T13:29:58.528Z"
   },
   {
    "duration": 4,
    "start_time": "2023-01-09T13:29:59.552Z"
   },
   {
    "duration": 5,
    "start_time": "2023-01-09T13:30:01.297Z"
   },
   {
    "duration": 115,
    "start_time": "2023-01-09T13:30:01.874Z"
   },
   {
    "duration": 1242,
    "start_time": "2023-01-09T13:30:02.988Z"
   },
   {
    "duration": 1207,
    "start_time": "2023-01-09T13:30:04.300Z"
   },
   {
    "duration": 1220,
    "start_time": "2023-01-09T13:30:05.509Z"
   },
   {
    "duration": 3,
    "start_time": "2023-01-09T13:35:17.500Z"
   },
   {
    "duration": 13,
    "start_time": "2023-01-09T13:36:01.599Z"
   },
   {
    "duration": 11,
    "start_time": "2023-01-09T13:36:18.496Z"
   },
   {
    "duration": 17,
    "start_time": "2023-01-09T13:36:40.064Z"
   },
   {
    "duration": 3,
    "start_time": "2023-01-09T13:37:27.082Z"
   },
   {
    "duration": 18,
    "start_time": "2023-01-09T13:37:27.606Z"
   },
   {
    "duration": 4,
    "start_time": "2023-01-09T13:37:34.629Z"
   },
   {
    "duration": 26,
    "start_time": "2023-01-09T13:37:35.023Z"
   },
   {
    "duration": 4,
    "start_time": "2023-01-09T13:39:44.342Z"
   },
   {
    "duration": 10,
    "start_time": "2023-01-09T13:39:44.858Z"
   },
   {
    "duration": 3,
    "start_time": "2023-01-09T13:41:03.513Z"
   },
   {
    "duration": 17,
    "start_time": "2023-01-09T13:41:06.208Z"
   },
   {
    "duration": 3,
    "start_time": "2023-01-09T13:42:44.809Z"
   },
   {
    "duration": 22,
    "start_time": "2023-01-09T13:42:47.969Z"
   },
   {
    "duration": 4,
    "start_time": "2023-01-09T13:42:55.472Z"
   },
   {
    "duration": 20,
    "start_time": "2023-01-09T13:42:55.913Z"
   },
   {
    "duration": 4,
    "start_time": "2023-01-09T13:43:05.959Z"
   },
   {
    "duration": 20,
    "start_time": "2023-01-09T13:43:06.394Z"
   },
   {
    "duration": 19,
    "start_time": "2023-01-09T13:45:05.857Z"
   },
   {
    "duration": 16,
    "start_time": "2023-01-09T13:45:51.923Z"
   },
   {
    "duration": 18,
    "start_time": "2023-01-09T13:46:53.000Z"
   },
   {
    "duration": 17,
    "start_time": "2023-01-09T13:47:56.129Z"
   },
   {
    "duration": 16,
    "start_time": "2023-01-09T13:48:20.569Z"
   },
   {
    "duration": 3,
    "start_time": "2023-01-09T13:49:24.527Z"
   },
   {
    "duration": 17,
    "start_time": "2023-01-09T13:49:27.230Z"
   },
   {
    "duration": 4,
    "start_time": "2023-01-09T13:51:15.694Z"
   },
   {
    "duration": 14,
    "start_time": "2023-01-09T13:51:16.514Z"
   },
   {
    "duration": 4,
    "start_time": "2023-01-09T13:54:53.206Z"
   },
   {
    "duration": 5,
    "start_time": "2023-01-09T13:54:53.921Z"
   },
   {
    "duration": 33,
    "start_time": "2023-01-09T13:54:56.885Z"
   },
   {
    "duration": 1251,
    "start_time": "2023-01-09T13:55:16.111Z"
   },
   {
    "duration": 1200,
    "start_time": "2023-01-09T13:55:20.621Z"
   },
   {
    "duration": 1304,
    "start_time": "2023-01-09T13:55:21.823Z"
   },
   {
    "duration": 6,
    "start_time": "2023-01-09T13:57:32.433Z"
   },
   {
    "duration": 13,
    "start_time": "2023-01-09T13:57:33.187Z"
   },
   {
    "duration": 4,
    "start_time": "2023-01-09T13:57:35.229Z"
   },
   {
    "duration": 5,
    "start_time": "2023-01-09T13:57:36.165Z"
   },
   {
    "duration": 1250,
    "start_time": "2023-01-09T13:57:36.943Z"
   },
   {
    "duration": 1196,
    "start_time": "2023-01-09T13:57:38.195Z"
   },
   {
    "duration": 1219,
    "start_time": "2023-01-09T13:57:39.393Z"
   },
   {
    "duration": 1169,
    "start_time": "2023-01-09T14:02:14.398Z"
   },
   {
    "duration": 55,
    "start_time": "2023-01-09T14:02:34.220Z"
   },
   {
    "duration": 1134,
    "start_time": "2023-01-09T14:02:39.108Z"
   },
   {
    "duration": 1145,
    "start_time": "2023-01-09T14:04:30.469Z"
   },
   {
    "duration": 1421,
    "start_time": "2023-01-09T14:12:08.981Z"
   },
   {
    "duration": 359,
    "start_time": "2023-01-09T14:12:10.404Z"
   },
   {
    "duration": 15,
    "start_time": "2023-01-09T14:12:10.765Z"
   },
   {
    "duration": 37,
    "start_time": "2023-01-09T14:12:10.782Z"
   },
   {
    "duration": 181,
    "start_time": "2023-01-09T14:12:10.821Z"
   },
   {
    "duration": 134,
    "start_time": "2023-01-09T14:12:11.004Z"
   },
   {
    "duration": 144,
    "start_time": "2023-01-09T14:12:11.140Z"
   },
   {
    "duration": 117,
    "start_time": "2023-01-09T14:12:11.285Z"
   },
   {
    "duration": 3,
    "start_time": "2023-01-09T14:12:11.404Z"
   },
   {
    "duration": 56,
    "start_time": "2023-01-09T14:12:11.409Z"
   },
   {
    "duration": 4,
    "start_time": "2023-01-09T14:12:11.466Z"
   },
   {
    "duration": 55,
    "start_time": "2023-01-09T14:12:11.471Z"
   },
   {
    "duration": 4,
    "start_time": "2023-01-09T14:12:11.528Z"
   },
   {
    "duration": 102,
    "start_time": "2023-01-09T14:12:11.534Z"
   },
   {
    "duration": 112,
    "start_time": "2023-01-09T14:12:11.638Z"
   },
   {
    "duration": 199,
    "start_time": "2023-01-09T14:12:11.752Z"
   },
   {
    "duration": 105,
    "start_time": "2023-01-09T14:12:12.040Z"
   },
   {
    "duration": 24,
    "start_time": "2023-01-09T14:12:12.147Z"
   },
   {
    "duration": 1077,
    "start_time": "2023-01-09T14:12:12.173Z"
   },
   {
    "duration": 3,
    "start_time": "2023-01-09T14:12:13.252Z"
   },
   {
    "duration": 24,
    "start_time": "2023-01-09T14:12:13.257Z"
   },
   {
    "duration": 10,
    "start_time": "2023-01-09T14:12:13.283Z"
   },
   {
    "duration": 41,
    "start_time": "2023-01-09T14:12:13.295Z"
   },
   {
    "duration": 13,
    "start_time": "2023-01-09T14:12:13.338Z"
   },
   {
    "duration": 50,
    "start_time": "2023-01-09T14:12:13.353Z"
   },
   {
    "duration": 15,
    "start_time": "2023-01-09T14:12:13.405Z"
   },
   {
    "duration": 80,
    "start_time": "2023-01-09T14:12:13.422Z"
   },
   {
    "duration": 1179,
    "start_time": "2023-01-09T14:12:13.505Z"
   },
   {
    "duration": 1176,
    "start_time": "2023-01-09T14:12:14.686Z"
   },
   {
    "duration": 1222,
    "start_time": "2023-01-09T14:12:15.863Z"
   },
   {
    "duration": 5,
    "start_time": "2023-01-09T14:12:49.474Z"
   },
   {
    "duration": 2273,
    "start_time": "2023-01-09T15:09:10.697Z"
   },
   {
    "duration": 2132,
    "start_time": "2023-01-09T15:09:12.973Z"
   },
   {
    "duration": 16,
    "start_time": "2023-01-09T15:09:15.107Z"
   },
   {
    "duration": 15,
    "start_time": "2023-01-09T15:09:15.126Z"
   },
   {
    "duration": 230,
    "start_time": "2023-01-09T15:09:15.144Z"
   },
   {
    "duration": 146,
    "start_time": "2023-01-09T15:09:15.376Z"
   },
   {
    "duration": 153,
    "start_time": "2023-01-09T15:09:15.523Z"
   },
   {
    "duration": 130,
    "start_time": "2023-01-09T15:09:15.678Z"
   },
   {
    "duration": 5,
    "start_time": "2023-01-09T15:09:15.810Z"
   },
   {
    "duration": 50,
    "start_time": "2023-01-09T15:09:15.818Z"
   },
   {
    "duration": 5,
    "start_time": "2023-01-09T15:09:15.870Z"
   },
   {
    "duration": 32,
    "start_time": "2023-01-09T15:09:15.877Z"
   },
   {
    "duration": 4,
    "start_time": "2023-01-09T15:09:15.910Z"
   },
   {
    "duration": 141,
    "start_time": "2023-01-09T15:09:15.916Z"
   },
   {
    "duration": 108,
    "start_time": "2023-01-09T15:09:16.152Z"
   },
   {
    "duration": 103,
    "start_time": "2023-01-09T15:09:16.263Z"
   },
   {
    "duration": 10,
    "start_time": "2023-01-09T15:09:16.452Z"
   },
   {
    "duration": 101,
    "start_time": "2023-01-09T15:09:16.465Z"
   },
   {
    "duration": 1033,
    "start_time": "2023-01-09T15:09:16.567Z"
   },
   {
    "duration": 4,
    "start_time": "2023-01-09T15:09:17.602Z"
   },
   {
    "duration": 9,
    "start_time": "2023-01-09T15:09:17.608Z"
   },
   {
    "duration": 12,
    "start_time": "2023-01-09T15:09:17.619Z"
   },
   {
    "duration": 20,
    "start_time": "2023-01-09T15:09:17.633Z"
   },
   {
    "duration": 8,
    "start_time": "2023-01-09T15:09:17.655Z"
   },
   {
    "duration": 30,
    "start_time": "2023-01-09T15:09:17.666Z"
   },
   {
    "duration": 4,
    "start_time": "2023-01-09T15:09:17.698Z"
   },
   {
    "duration": 95,
    "start_time": "2023-01-09T15:09:17.704Z"
   },
   {
    "duration": 1258,
    "start_time": "2023-01-09T15:09:17.802Z"
   },
   {
    "duration": 1482,
    "start_time": "2023-01-09T15:09:19.062Z"
   },
   {
    "duration": 1237,
    "start_time": "2023-01-09T15:09:20.551Z"
   }
  ],
  "kernelspec": {
   "display_name": "Python 3 (ipykernel)",
   "language": "python",
   "name": "python3"
  },
  "language_info": {
   "codemirror_mode": {
    "name": "ipython",
    "version": 3
   },
   "file_extension": ".py",
   "mimetype": "text/x-python",
   "name": "python",
   "nbconvert_exporter": "python",
   "pygments_lexer": "ipython3",
   "version": "3.9.12"
  },
  "toc": {
   "base_numbering": 1,
   "nav_menu": {},
   "number_sections": true,
   "sideBar": true,
   "skip_h1_title": true,
   "title_cell": "Table of Contents",
   "title_sidebar": "Contents",
   "toc_cell": false,
   "toc_position": {},
   "toc_section_display": true,
   "toc_window_display": true
  }
 },
 "nbformat": 4,
 "nbformat_minor": 2
}
