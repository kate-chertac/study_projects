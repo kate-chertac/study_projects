{
 "cells": [
  {
   "cell_type": "markdown",
   "metadata": {},
   "source": [
    "# Recommendation of tariffs"
   ]
  },
  {
   "cell_type": "markdown",
   "metadata": {},
   "source": [
    "## Project Description\n",
    "\n",
    "Mobile operator \"Megaline\" initiated a project to analyze customer behavior and propose a new tariff plan based on their usage patterns. The project aims to build a classification model that will determine the appropriate tariff plan for each customer. The dataset used in the project includes information on customer behavior for two existing tariff plans: \"Smart\" and \"Ultra\".\n",
    "\n",
    "The project involves developing a classification model with the highest possible accuracy. The minimum required accuracy for successful project completion is set at 0.75. The data preprocessing stage has already been completed, and the main focus is on building and evaluating the model.\n",
    "\n",
    "To ensure project success, the model's accuracy is tested on a separate test dataset. The model's accuracy is compared to the target threshold of 0.75 to assess its effectiveness in classifying customers and recommending the suitable tariff plan."
   ]
  },
  {
   "cell_type": "markdown",
   "metadata": {},
   "source": [
    "## 1 Open the data file and review the general information¶"
   ]
  },
  {
   "cell_type": "code",
   "execution_count": 22,
   "metadata": {},
   "outputs": [],
   "source": [
    "import pandas as pd\n",
    "\n",
    "from sklearn.model_selection import train_test_split\n",
    "\n",
    "from sklearn.tree import DecisionTreeClassifier\n",
    "from sklearn.ensemble import RandomForestClassifier\n",
    "from sklearn.linear_model import LogisticRegression\n",
    "from sklearn.dummy import DummyClassifier\n",
    "\n",
    "from sklearn.metrics import accuracy_score"
   ]
  },
  {
   "cell_type": "code",
   "execution_count": 2,
   "metadata": {},
   "outputs": [
    {
     "data": {
      "text/html": [
       "<div>\n",
       "<style scoped>\n",
       "    .dataframe tbody tr th:only-of-type {\n",
       "        vertical-align: middle;\n",
       "    }\n",
       "\n",
       "    .dataframe tbody tr th {\n",
       "        vertical-align: top;\n",
       "    }\n",
       "\n",
       "    .dataframe thead th {\n",
       "        text-align: right;\n",
       "    }\n",
       "</style>\n",
       "<table border=\"1\" class=\"dataframe\">\n",
       "  <thead>\n",
       "    <tr style=\"text-align: right;\">\n",
       "      <th></th>\n",
       "      <th>calls</th>\n",
       "      <th>minutes</th>\n",
       "      <th>messages</th>\n",
       "      <th>mb_used</th>\n",
       "      <th>is_ultra</th>\n",
       "    </tr>\n",
       "  </thead>\n",
       "  <tbody>\n",
       "    <tr>\n",
       "      <th>0</th>\n",
       "      <td>40.0</td>\n",
       "      <td>311.90</td>\n",
       "      <td>83.0</td>\n",
       "      <td>19915.42</td>\n",
       "      <td>0</td>\n",
       "    </tr>\n",
       "    <tr>\n",
       "      <th>1</th>\n",
       "      <td>85.0</td>\n",
       "      <td>516.75</td>\n",
       "      <td>56.0</td>\n",
       "      <td>22696.96</td>\n",
       "      <td>0</td>\n",
       "    </tr>\n",
       "    <tr>\n",
       "      <th>2</th>\n",
       "      <td>77.0</td>\n",
       "      <td>467.66</td>\n",
       "      <td>86.0</td>\n",
       "      <td>21060.45</td>\n",
       "      <td>0</td>\n",
       "    </tr>\n",
       "    <tr>\n",
       "      <th>3</th>\n",
       "      <td>106.0</td>\n",
       "      <td>745.53</td>\n",
       "      <td>81.0</td>\n",
       "      <td>8437.39</td>\n",
       "      <td>1</td>\n",
       "    </tr>\n",
       "    <tr>\n",
       "      <th>4</th>\n",
       "      <td>66.0</td>\n",
       "      <td>418.74</td>\n",
       "      <td>1.0</td>\n",
       "      <td>14502.75</td>\n",
       "      <td>0</td>\n",
       "    </tr>\n",
       "    <tr>\n",
       "      <th>...</th>\n",
       "      <td>...</td>\n",
       "      <td>...</td>\n",
       "      <td>...</td>\n",
       "      <td>...</td>\n",
       "      <td>...</td>\n",
       "    </tr>\n",
       "    <tr>\n",
       "      <th>3209</th>\n",
       "      <td>122.0</td>\n",
       "      <td>910.98</td>\n",
       "      <td>20.0</td>\n",
       "      <td>35124.90</td>\n",
       "      <td>1</td>\n",
       "    </tr>\n",
       "    <tr>\n",
       "      <th>3210</th>\n",
       "      <td>25.0</td>\n",
       "      <td>190.36</td>\n",
       "      <td>0.0</td>\n",
       "      <td>3275.61</td>\n",
       "      <td>0</td>\n",
       "    </tr>\n",
       "    <tr>\n",
       "      <th>3211</th>\n",
       "      <td>97.0</td>\n",
       "      <td>634.44</td>\n",
       "      <td>70.0</td>\n",
       "      <td>13974.06</td>\n",
       "      <td>0</td>\n",
       "    </tr>\n",
       "    <tr>\n",
       "      <th>3212</th>\n",
       "      <td>64.0</td>\n",
       "      <td>462.32</td>\n",
       "      <td>90.0</td>\n",
       "      <td>31239.78</td>\n",
       "      <td>0</td>\n",
       "    </tr>\n",
       "    <tr>\n",
       "      <th>3213</th>\n",
       "      <td>80.0</td>\n",
       "      <td>566.09</td>\n",
       "      <td>6.0</td>\n",
       "      <td>29480.52</td>\n",
       "      <td>1</td>\n",
       "    </tr>\n",
       "  </tbody>\n",
       "</table>\n",
       "<p>3214 rows × 5 columns</p>\n",
       "</div>"
      ],
      "text/plain": [
       "      calls  minutes  messages   mb_used  is_ultra\n",
       "0      40.0   311.90      83.0  19915.42         0\n",
       "1      85.0   516.75      56.0  22696.96         0\n",
       "2      77.0   467.66      86.0  21060.45         0\n",
       "3     106.0   745.53      81.0   8437.39         1\n",
       "4      66.0   418.74       1.0  14502.75         0\n",
       "...     ...      ...       ...       ...       ...\n",
       "3209  122.0   910.98      20.0  35124.90         1\n",
       "3210   25.0   190.36       0.0   3275.61         0\n",
       "3211   97.0   634.44      70.0  13974.06         0\n",
       "3212   64.0   462.32      90.0  31239.78         0\n",
       "3213   80.0   566.09       6.0  29480.52         1\n",
       "\n",
       "[3214 rows x 5 columns]"
      ]
     },
     "metadata": {},
     "output_type": "display_data"
    },
    {
     "name": "stdout",
     "output_type": "stream",
     "text": [
      "<class 'pandas.core.frame.DataFrame'>\n",
      "RangeIndex: 3214 entries, 0 to 3213\n",
      "Data columns (total 5 columns):\n",
      " #   Column    Non-Null Count  Dtype  \n",
      "---  ------    --------------  -----  \n",
      " 0   calls     3214 non-null   float64\n",
      " 1   minutes   3214 non-null   float64\n",
      " 2   messages  3214 non-null   float64\n",
      " 3   mb_used   3214 non-null   float64\n",
      " 4   is_ultra  3214 non-null   int64  \n",
      "dtypes: float64(4), int64(1)\n",
      "memory usage: 125.7 KB\n"
     ]
    }
   ],
   "source": [
    "df = pd.read_csv(r'datasets/05_users_behavior.csv')\n",
    "display(df)\n",
    "df.info()"
   ]
  },
  {
   "cell_type": "markdown",
   "metadata": {},
   "source": [
    "The dataset is represented by 5 columns without gaps, in the correct formats, except for the last column. the tariff can be either Ultra or Smart, which means it is a categorical \"bool\" format"
   ]
  },
  {
   "cell_type": "code",
   "execution_count": 3,
   "metadata": {},
   "outputs": [],
   "source": [
    "df['is_ultra'] = df['is_ultra'].astype('bool')"
   ]
  },
  {
   "cell_type": "code",
   "execution_count": 4,
   "metadata": {},
   "outputs": [
    {
     "name": "stdout",
     "output_type": "stream",
     "text": [
      "<class 'pandas.core.frame.DataFrame'>\n",
      "RangeIndex: 3214 entries, 0 to 3213\n",
      "Data columns (total 5 columns):\n",
      " #   Column    Non-Null Count  Dtype  \n",
      "---  ------    --------------  -----  \n",
      " 0   calls     3214 non-null   float64\n",
      " 1   minutes   3214 non-null   float64\n",
      " 2   messages  3214 non-null   float64\n",
      " 3   mb_used   3214 non-null   float64\n",
      " 4   is_ultra  3214 non-null   bool   \n",
      "dtypes: bool(1), float64(4)\n",
      "memory usage: 103.7 KB\n"
     ]
    }
   ],
   "source": [
    "df.info()"
   ]
  },
  {
   "cell_type": "markdown",
   "metadata": {},
   "source": [
    "Data description\n",
    "\n",
    "Each object in the dataset is information about the behavior of one user per month. Is known:\n",
    "\n",
    "calls — number of calls,\n",
    "minutes — total duration of calls in minutes,\n",
    "messages — the number of SMS messages,\n",
    "mb_used — consumed Internet traffic in MB,\n",
    "is_ultra — what tariff was used during the month (\"Ultra\" — 1, \"Smart\" — 0)."
   ]
  },
  {
   "cell_type": "markdown",
   "metadata": {},
   "source": [
    "## 02 Let's split the data into samples"
   ]
  },
  {
   "cell_type": "code",
   "execution_count": 5,
   "metadata": {},
   "outputs": [],
   "source": [
    "features = df.drop('is_ultra', axis=1)"
   ]
  },
  {
   "cell_type": "code",
   "execution_count": 6,
   "metadata": {},
   "outputs": [],
   "source": [
    "target = df['is_ultra']"
   ]
  },
  {
   "cell_type": "markdown",
   "metadata": {},
   "source": [
    "The samples should be divided in the ratio: training sample - 0.6, validation sample - 0.2, test sample - 0.2"
   ]
  },
  {
   "cell_type": "code",
   "execution_count": 7,
   "metadata": {},
   "outputs": [],
   "source": [
    "features_train, features_test, target_train, target_test = train_test_split(features, \n",
    "                                                                            target, \n",
    "                                                                            test_size=0.6, \n",
    "                                                                            random_state=12345\n",
    "                                                                           ) "
   ]
  },
  {
   "cell_type": "code",
   "execution_count": 8,
   "metadata": {},
   "outputs": [],
   "source": [
    "features_valid, features_test, target_valid, target_test = train_test_split(features_test, \n",
    "                                                                            target_test, \n",
    "                                                                            test_size=0.5, \n",
    "                                                                            random_state=12345\n",
    "                                                                           ) "
   ]
  },
  {
   "cell_type": "code",
   "execution_count": 9,
   "metadata": {},
   "outputs": [
    {
     "name": "stdout",
     "output_type": "stream",
     "text": [
      "(1285, 4)\n",
      "(1285,)\n"
     ]
    }
   ],
   "source": [
    "print(features_train.shape)\n",
    "print(target_train.shape)"
   ]
  },
  {
   "cell_type": "code",
   "execution_count": 10,
   "metadata": {},
   "outputs": [
    {
     "name": "stdout",
     "output_type": "stream",
     "text": [
      "(964, 4)\n",
      "(964,)\n"
     ]
    }
   ],
   "source": [
    "print(features_valid.shape)\n",
    "print(target_valid.shape)"
   ]
  },
  {
   "cell_type": "code",
   "execution_count": 11,
   "metadata": {},
   "outputs": [
    {
     "name": "stdout",
     "output_type": "stream",
     "text": [
      "(965, 4)\n",
      "(965,)\n"
     ]
    }
   ],
   "source": [
    "print(features_test.shape)\n",
    "print(target_test.shape)"
   ]
  },
  {
   "cell_type": "markdown",
   "metadata": {},
   "source": [
    "Таким образом мы получили нужное соотношение выборок"
   ]
  },
  {
   "cell_type": "markdown",
   "metadata": {},
   "source": [
    "## 03 We investigate the quality of different types of models"
   ]
  },
  {
   "cell_type": "markdown",
   "metadata": {},
   "source": [
    "### DecisionTreeClassifier"
   ]
  },
  {
   "cell_type": "code",
   "execution_count": 15,
   "metadata": {},
   "outputs": [
    {
     "name": "stdout",
     "output_type": "stream",
     "text": [
      "max_depth = 1 : 0.7769709543568465\n",
      "max_depth = 2 : 0.7821576763485477\n",
      "max_depth = 3 : 0.8101659751037344\n",
      "max_depth = 4 : 0.803941908713693\n",
      "max_depth = 5 : 0.7946058091286307\n",
      "max_depth = 6 : 0.8049792531120332\n",
      "max_depth = 7 : 0.7956431535269709\n",
      "max_depth = 8 : 0.8008298755186722\n",
      "max_depth = 9 : 0.7904564315352697\n",
      "max_depth = 10 : 0.7769709543568465\n",
      "Accuracy of the best model on the validation set: 0.8101659751037344 Best depth: 3\n"
     ]
    }
   ],
   "source": [
    "best_model = None\n",
    "best_result = 0\n",
    "best_depth = 0\n",
    "for depth in range(1, 11):\n",
    "    model = DecisionTreeClassifier(random_state=12345, max_depth=depth)\n",
    "    model.fit(features_train, target_train)\n",
    "    predictions_valid = model.predict(features_valid)\n",
    "    result = accuracy_score(target_valid, predictions_valid)\n",
    "    print(\"max_depth =\", depth, \": \", end='')\n",
    "    print(accuracy_score(target_valid, predictions_valid))\n",
    "    if result > best_result:\n",
    "        best_model = model\n",
    "        best_result = result\n",
    "        best_depth = depth\n",
    "\n",
    "print(\"Accuracy of the best model on the validation set:\", best_result, \"Best depth:\", best_depth)"
   ]
  },
  {
   "cell_type": "markdown",
   "metadata": {},
   "source": [
    "A tree with a depth of 3 gives the most accurate predictions. The accuracy of 0.81 is acceptable for our tasks."
   ]
  },
  {
   "cell_type": "markdown",
   "metadata": {},
   "source": [
    "### RandomForestClassifier"
   ]
  },
  {
   "cell_type": "code",
   "execution_count": 18,
   "metadata": {},
   "outputs": [
    {
     "name": "stdout",
     "output_type": "stream",
     "text": [
      "Accuracy of the best model on the validation set: 0.8174273858921162 Best numbers of estimators: 2 Best depth: 5\n"
     ]
    }
   ],
   "source": [
    "best_model = None\n",
    "best_result = 0\n",
    "best_depth = 0\n",
    "best_result = 0\n",
    "for est in range(1, 11):\n",
    "    for depth in range(1, 11):\n",
    "        model = RandomForestClassifier(random_state=12345, n_estimators=est, max_depth = depth)\n",
    "        model.fit(features_train, target_train) # обучите модель\n",
    "        predictions_valid = model.predict(features_valid)\n",
    "        result = accuracy_score(target_valid, predictions_valid)\n",
    "        if result > best_result:\n",
    "            best_model = model\n",
    "            best_depth = depth\n",
    "            best_result = result\n",
    "            best_est = est\n",
    "        \n",
    "\n",
    "print(\"Accuracy of the best model on the validation set:\", best_result,  \"Best numbers of estimators:\", best_est, \"Best depth:\", best_depth)"
   ]
  },
  {
   "cell_type": "markdown",
   "metadata": {},
   "source": [
    "When choosing the optimal settings for a random forest, the optimal number of estimators (2) and depth (5) were determined. In this case, the model shows an accuracy of 0.82, which is a satisfactory result."
   ]
  },
  {
   "cell_type": "markdown",
   "metadata": {},
   "source": [
    "### LogisticRegression"
   ]
  },
  {
   "cell_type": "code",
   "execution_count": 19,
   "metadata": {},
   "outputs": [
    {
     "name": "stdout",
     "output_type": "stream",
     "text": [
      "Accuracy of the best model on the validation set: 0.7759336099585062\n"
     ]
    }
   ],
   "source": [
    "model = LogisticRegression(random_state=12345, solver='lbfgs', max_iter=100)\n",
    "model.fit(features, target)\n",
    "predictions_valid = model.predict(features_valid) \n",
    "result = accuracy_score(target_valid, predictions_valid) \n",
    "print(\"Accuracy of the best model on the validation set:\", result)"
   ]
  },
  {
   "cell_type": "code",
   "execution_count": 20,
   "metadata": {},
   "outputs": [
    {
     "name": "stdout",
     "output_type": "stream",
     "text": [
      "Accuracy of the best model on the validation set: 0.7261410788381742\n"
     ]
    }
   ],
   "source": [
    "model = LogisticRegression(random_state=12345, solver='sag', max_iter = 10000)\n",
    "model.fit(features, target)\n",
    "predictions_valid = model.predict(features_valid) # получите предсказания модели на валидационной выборке\n",
    "result = accuracy_score(target_valid, predictions_valid)\n",
    "print(\"Accuracy of the best model on the validation set:\", result)"
   ]
  },
  {
   "cell_type": "markdown",
   "metadata": {},
   "source": [
    "Logistic regression is acceptable, but not the most accurate. Moreover, solver = lbfgs is the preferred hyperparameter, whereas sag requires more iterations and shows less accuracy"
   ]
  },
  {
   "cell_type": "markdown",
   "metadata": {},
   "source": [
    "### Сonclusion by stage: \n",
    "We considered three types of models, of which the \"Random Forest\" model showed the best accuracy of responses when validating prediction results. When choosing the optimal settings for a random forest, the optimal number of trees (8) and depth (8) were determined. In this case, the model shows an accuracy of 0.8, which is a satisfactory result. \n",
    "\n",
    "It remains to test the model on test data."
   ]
  },
  {
   "cell_type": "markdown",
   "metadata": {},
   "source": [
    "## 04 Checking the quality of the model on a test sample"
   ]
  },
  {
   "cell_type": "code",
   "execution_count": 21,
   "metadata": {},
   "outputs": [
    {
     "name": "stdout",
     "output_type": "stream",
     "text": [
      "Accuracy of the best model on the test set: 0.7896373056994819\n"
     ]
    }
   ],
   "source": [
    "model = RandomForestClassifier(random_state=12345, n_estimators=8, max_depth = 8)\n",
    "model.fit(features_train, target_train)\n",
    "predictions_test = model.predict(features_test)\n",
    "result = accuracy_score(target_test, predictions_test) \n",
    "print(\"Accuracy of the best model on the test set:\", result)"
   ]
  },
  {
   "cell_type": "markdown",
   "metadata": {},
   "source": [
    "The accuracy on the test sample is somewhat less, but this is an insignificant error of 0.79 instead of 0.81. We believe that the most successful model has been determined."
   ]
  },
  {
   "cell_type": "markdown",
   "metadata": {},
   "source": [
    "## 05 Checking the model for adequacy"
   ]
  },
  {
   "cell_type": "code",
   "execution_count": 23,
   "metadata": {},
   "outputs": [
    {
     "name": "stdout",
     "output_type": "stream",
     "text": [
      "Accuracy of the best model on the test set: 0.6984455958549223\n"
     ]
    }
   ],
   "source": [
    "model = DummyClassifier(strategy=\"most_frequent\", random_state=0)\n",
    "model.fit(features_train, target_train)\n",
    "predictions_test = model.predict(features_test)\n",
    "result = accuracy_score(predictions_test, target_test) \n",
    "print(\"Accuracy of the best model on the test set:\", result)"
   ]
  },
  {
   "cell_type": "markdown",
   "metadata": {},
   "source": [
    "The random forest model gives a result significantly higher than the model based on the most common class. Thus, the chosen model is adequate."
   ]
  },
  {
   "cell_type": "markdown",
   "metadata": {},
   "source": [
    "## 06 Сonclusion"
   ]
  },
  {
   "cell_type": "markdown",
   "metadata": {},
   "source": [
    "- Uploaded data did not require data preprocessing\n",
    "- Information on tariffs was transferred to a Boolean data type, since only two values (0 and 1) appear there\n",
    "- To select the optimal model, three types of models were considered: decision tree, random forest, logistic regression\n",
    "- Random forest showed the highest accuracy and accuracy satisfying the conditions of the task\n",
    "- Checking on test data showed a similar accuracy result with a small error, less than 0.01\n",
    "- The model was checked for adequacy, which confirmed the choice of the best model\n",
    "- The accuracy of the model is 0.79, which corresponds to the conditions of the task."
   ]
  },
  {
   "cell_type": "code",
   "execution_count": null,
   "metadata": {},
   "outputs": [],
   "source": []
  }
 ],
 "metadata": {
  "ExecuteTimeLog": [
   {
    "duration": 47,
    "start_time": "2022-11-22T17:40:07.645Z"
   },
   {
    "duration": 450,
    "start_time": "2022-11-22T17:40:26.620Z"
   },
   {
    "duration": 26,
    "start_time": "2022-11-22T17:51:55.213Z"
   },
   {
    "duration": 44,
    "start_time": "2022-11-22T17:52:14.519Z"
   },
   {
    "duration": 7,
    "start_time": "2022-11-22T17:52:18.811Z"
   },
   {
    "duration": 794,
    "start_time": "2022-11-22T17:53:44.974Z"
   },
   {
    "duration": 4,
    "start_time": "2022-11-22T17:53:52.307Z"
   },
   {
    "duration": 46,
    "start_time": "2022-11-22T17:54:53.486Z"
   },
   {
    "duration": 4,
    "start_time": "2022-11-22T17:54:57.436Z"
   },
   {
    "duration": 42,
    "start_time": "2022-11-22T17:55:47.532Z"
   },
   {
    "duration": 5,
    "start_time": "2022-11-22T18:01:28.593Z"
   },
   {
    "duration": 46,
    "start_time": "2022-11-22T18:01:43.577Z"
   },
   {
    "duration": 10,
    "start_time": "2022-11-22T18:01:57.744Z"
   },
   {
    "duration": 4,
    "start_time": "2022-11-22T18:02:03.945Z"
   },
   {
    "duration": 12,
    "start_time": "2022-11-22T18:02:06.648Z"
   },
   {
    "duration": 16,
    "start_time": "2022-11-22T18:03:50.705Z"
   },
   {
    "duration": 4,
    "start_time": "2022-11-22T18:04:06.093Z"
   },
   {
    "duration": 3,
    "start_time": "2022-11-22T18:04:09.186Z"
   },
   {
    "duration": 4,
    "start_time": "2022-11-22T18:04:11.110Z"
   },
   {
    "duration": 10,
    "start_time": "2022-11-22T18:04:46.673Z"
   },
   {
    "duration": 1212,
    "start_time": "2022-11-22T18:05:17.385Z"
   },
   {
    "duration": 5,
    "start_time": "2022-11-22T18:05:19.200Z"
   },
   {
    "duration": 1167,
    "start_time": "2022-11-22T18:05:33.850Z"
   },
   {
    "duration": 3,
    "start_time": "2022-11-22T18:05:41.955Z"
   },
   {
    "duration": 10,
    "start_time": "2022-11-22T18:05:43.249Z"
   },
   {
    "duration": 4,
    "start_time": "2022-11-22T18:05:47.169Z"
   },
   {
    "duration": 3,
    "start_time": "2022-11-22T18:05:47.796Z"
   },
   {
    "duration": 5,
    "start_time": "2022-11-22T18:05:48.594Z"
   },
   {
    "duration": 31,
    "start_time": "2022-11-22T18:05:50.845Z"
   },
   {
    "duration": 41,
    "start_time": "2022-11-22T18:10:45.558Z"
   },
   {
    "duration": 35,
    "start_time": "2022-11-22T18:11:02.736Z"
   },
   {
    "duration": 102,
    "start_time": "2022-11-22T18:11:41.010Z"
   },
   {
    "duration": 68,
    "start_time": "2022-11-22T18:12:21.159Z"
   },
   {
    "duration": 12,
    "start_time": "2022-11-22T18:12:25.706Z"
   },
   {
    "duration": 10,
    "start_time": "2022-11-22T18:13:00.404Z"
   },
   {
    "duration": 77,
    "start_time": "2022-11-22T18:13:21.601Z"
   },
   {
    "duration": 3,
    "start_time": "2022-11-22T18:18:21.155Z"
   },
   {
    "duration": 86,
    "start_time": "2022-11-22T18:23:00.011Z"
   },
   {
    "duration": 71,
    "start_time": "2022-11-22T18:24:30.675Z"
   },
   {
    "duration": 12,
    "start_time": "2022-11-22T18:24:40.370Z"
   },
   {
    "duration": 54,
    "start_time": "2022-11-22T18:25:23.420Z"
   },
   {
    "duration": 32,
    "start_time": "2022-11-22T18:25:30.290Z"
   },
   {
    "duration": 52,
    "start_time": "2022-11-22T18:26:52.085Z"
   },
   {
    "duration": 28,
    "start_time": "2022-11-22T18:26:56.485Z"
   },
   {
    "duration": 10,
    "start_time": "2022-11-22T18:28:36.389Z"
   },
   {
    "duration": 49,
    "start_time": "2022-11-22T18:29:00.701Z"
   },
   {
    "duration": 36,
    "start_time": "2022-11-22T18:29:08.412Z"
   },
   {
    "duration": 32,
    "start_time": "2022-11-22T18:30:29.277Z"
   },
   {
    "duration": 36,
    "start_time": "2022-11-22T18:31:04.579Z"
   },
   {
    "duration": 32,
    "start_time": "2022-11-22T18:31:44.973Z"
   },
   {
    "duration": 30,
    "start_time": "2022-11-22T18:31:55.925Z"
   },
   {
    "duration": 31,
    "start_time": "2022-11-22T18:32:06.397Z"
   },
   {
    "duration": 36,
    "start_time": "2022-11-22T18:32:27.361Z"
   },
   {
    "duration": 31,
    "start_time": "2022-11-22T18:32:52.173Z"
   },
   {
    "duration": 30,
    "start_time": "2022-11-22T18:33:31.149Z"
   },
   {
    "duration": 33,
    "start_time": "2022-11-22T18:33:51.245Z"
   },
   {
    "duration": 33,
    "start_time": "2022-11-22T18:34:38.581Z"
   },
   {
    "duration": 31,
    "start_time": "2022-11-22T18:34:46.998Z"
   },
   {
    "duration": 36,
    "start_time": "2022-11-22T18:35:13.382Z"
   },
   {
    "duration": 34,
    "start_time": "2022-11-22T18:35:46.649Z"
   },
   {
    "duration": 34,
    "start_time": "2022-11-22T18:36:17.222Z"
   },
   {
    "duration": 48,
    "start_time": "2022-11-22T18:38:24.112Z"
   },
   {
    "duration": 79,
    "start_time": "2022-11-22T18:38:32.503Z"
   },
   {
    "duration": 81,
    "start_time": "2022-11-22T18:39:16.239Z"
   },
   {
    "duration": 77,
    "start_time": "2022-11-22T18:40:31.536Z"
   },
   {
    "duration": 84,
    "start_time": "2022-11-22T18:40:40.781Z"
   },
   {
    "duration": 80,
    "start_time": "2022-11-22T18:40:46.382Z"
   },
   {
    "duration": 83,
    "start_time": "2022-11-22T18:43:35.946Z"
   },
   {
    "duration": 80,
    "start_time": "2022-11-22T18:44:47.321Z"
   },
   {
    "duration": 82,
    "start_time": "2022-11-22T18:45:00.124Z"
   },
   {
    "duration": 10,
    "start_time": "2022-11-22T18:53:12.983Z"
   },
   {
    "duration": 47,
    "start_time": "2022-11-22T18:53:48.885Z"
   },
   {
    "duration": 319,
    "start_time": "2022-11-22T18:53:54.422Z"
   },
   {
    "duration": 296,
    "start_time": "2022-11-22T18:54:56.094Z"
   },
   {
    "duration": 285,
    "start_time": "2022-11-22T18:55:46.046Z"
   },
   {
    "duration": 284,
    "start_time": "2022-11-22T18:56:27.094Z"
   },
   {
    "duration": 264,
    "start_time": "2022-11-22T18:58:07.977Z"
   },
   {
    "duration": 77,
    "start_time": "2022-11-22T18:58:57.969Z"
   },
   {
    "duration": 278,
    "start_time": "2022-11-22T18:59:17.601Z"
   },
   {
    "duration": 78,
    "start_time": "2022-11-22T19:02:55.145Z"
   },
   {
    "duration": 270,
    "start_time": "2022-11-22T19:03:32.411Z"
   },
   {
    "duration": 289,
    "start_time": "2022-11-22T19:04:19.740Z"
   },
   {
    "duration": 440,
    "start_time": "2022-11-22T19:06:15.827Z"
   },
   {
    "duration": 3537,
    "start_time": "2022-11-22T19:07:32.995Z"
   },
   {
    "duration": 3525,
    "start_time": "2022-11-22T19:08:18.571Z"
   },
   {
    "duration": 3395,
    "start_time": "2022-11-22T19:08:41.470Z"
   },
   {
    "duration": 4,
    "start_time": "2022-11-22T19:09:43.612Z"
   },
   {
    "duration": 3,
    "start_time": "2022-11-22T19:09:44.324Z"
   },
   {
    "duration": 8,
    "start_time": "2022-11-22T19:09:45.076Z"
   },
   {
    "duration": 6,
    "start_time": "2022-11-22T19:22:15.662Z"
   },
   {
    "duration": 5,
    "start_time": "2022-11-22T19:22:29.677Z"
   },
   {
    "duration": 3,
    "start_time": "2022-11-22T19:22:43.592Z"
   },
   {
    "duration": 3,
    "start_time": "2022-11-22T19:22:44.579Z"
   },
   {
    "duration": 3,
    "start_time": "2022-11-22T19:22:45.980Z"
   },
   {
    "duration": 81,
    "start_time": "2022-11-22T19:30:32.350Z"
   },
   {
    "duration": 13,
    "start_time": "2022-11-22T19:30:56.908Z"
   },
   {
    "duration": 16,
    "start_time": "2022-11-22T19:31:19.060Z"
   },
   {
    "duration": 14,
    "start_time": "2022-11-22T19:31:44.732Z"
   },
   {
    "duration": 12,
    "start_time": "2022-11-22T19:31:50.583Z"
   },
   {
    "duration": 12,
    "start_time": "2022-11-22T19:31:57.652Z"
   },
   {
    "duration": 14,
    "start_time": "2022-11-22T19:32:05.526Z"
   },
   {
    "duration": 8,
    "start_time": "2022-11-22T19:32:12.621Z"
   },
   {
    "duration": 80,
    "start_time": "2022-11-22T19:33:30.925Z"
   },
   {
    "duration": 78,
    "start_time": "2022-11-22T19:34:07.399Z"
   },
   {
    "duration": 83,
    "start_time": "2022-11-22T19:34:40.256Z"
   },
   {
    "duration": 87,
    "start_time": "2022-11-22T19:34:58.661Z"
   },
   {
    "duration": 92,
    "start_time": "2022-11-22T19:35:11.751Z"
   },
   {
    "duration": 91,
    "start_time": "2022-11-22T19:37:05.007Z"
   },
   {
    "duration": 15,
    "start_time": "2022-11-22T19:39:56.913Z"
   },
   {
    "duration": 14,
    "start_time": "2022-11-22T19:40:42.735Z"
   },
   {
    "duration": 12,
    "start_time": "2022-11-22T19:41:38.657Z"
   },
   {
    "duration": 61,
    "start_time": "2022-11-22T19:41:55.345Z"
   },
   {
    "duration": 70,
    "start_time": "2022-11-22T19:41:57.529Z"
   },
   {
    "duration": 64,
    "start_time": "2022-11-22T19:41:59.649Z"
   },
   {
    "duration": 67,
    "start_time": "2022-11-22T19:42:36.600Z"
   },
   {
    "duration": 69,
    "start_time": "2022-11-22T19:44:50.853Z"
   },
   {
    "duration": 77,
    "start_time": "2022-11-22T19:45:15.123Z"
   },
   {
    "duration": 70,
    "start_time": "2022-11-22T19:45:59.516Z"
   },
   {
    "duration": 13,
    "start_time": "2022-11-22T19:47:31.164Z"
   },
   {
    "duration": 15,
    "start_time": "2022-11-22T19:48:04.366Z"
   },
   {
    "duration": 1729,
    "start_time": "2022-11-22T19:48:15.900Z"
   },
   {
    "duration": 1634,
    "start_time": "2022-11-22T19:48:33.124Z"
   },
   {
    "duration": 1701,
    "start_time": "2022-11-22T19:49:18.116Z"
   },
   {
    "duration": 1573,
    "start_time": "2022-11-22T19:50:30.533Z"
   },
   {
    "duration": 52,
    "start_time": "2022-11-23T10:53:50.610Z"
   },
   {
    "duration": 1188,
    "start_time": "2022-11-23T10:53:58.560Z"
   },
   {
    "duration": 3,
    "start_time": "2022-11-23T10:53:59.750Z"
   },
   {
    "duration": 48,
    "start_time": "2022-11-23T10:53:59.755Z"
   },
   {
    "duration": 4,
    "start_time": "2022-11-23T10:53:59.944Z"
   },
   {
    "duration": 3,
    "start_time": "2022-11-23T10:54:00.167Z"
   },
   {
    "duration": 6,
    "start_time": "2022-11-23T10:54:00.641Z"
   },
   {
    "duration": 6,
    "start_time": "2022-11-23T10:54:01.032Z"
   },
   {
    "duration": 3,
    "start_time": "2022-11-23T10:54:01.265Z"
   },
   {
    "duration": 3,
    "start_time": "2022-11-23T10:54:01.555Z"
   },
   {
    "duration": 4,
    "start_time": "2022-11-23T10:54:01.800Z"
   },
   {
    "duration": 3,
    "start_time": "2022-11-23T10:54:02.306Z"
   },
   {
    "duration": 137,
    "start_time": "2022-11-23T10:54:03.483Z"
   },
   {
    "duration": 1725,
    "start_time": "2022-11-23T10:54:05.170Z"
   },
   {
    "duration": 43,
    "start_time": "2022-11-23T10:54:39.860Z"
   },
   {
    "duration": 70,
    "start_time": "2022-11-23T10:54:46.194Z"
   },
   {
    "duration": 18,
    "start_time": "2022-11-23T10:55:23.393Z"
   },
   {
    "duration": 9,
    "start_time": "2022-11-23T10:57:36.500Z"
   },
   {
    "duration": 42,
    "start_time": "2022-11-23T10:58:44.047Z"
   },
   {
    "duration": 14,
    "start_time": "2022-11-23T10:59:10.734Z"
   },
   {
    "duration": 110,
    "start_time": "2022-11-23T10:59:26.503Z"
   },
   {
    "duration": 84,
    "start_time": "2022-11-23T10:59:35.621Z"
   },
   {
    "duration": 1630,
    "start_time": "2022-11-23T10:59:48.765Z"
   },
   {
    "duration": 18,
    "start_time": "2022-11-23T10:59:54.507Z"
   },
   {
    "duration": 10,
    "start_time": "2022-11-23T10:59:59.444Z"
   },
   {
    "duration": 9,
    "start_time": "2022-11-23T12:31:43.756Z"
   },
   {
    "duration": 49,
    "start_time": "2022-11-23T12:32:04.930Z"
   },
   {
    "duration": 4,
    "start_time": "2022-11-23T12:32:09.120Z"
   },
   {
    "duration": 10,
    "start_time": "2022-11-23T12:32:09.950Z"
   },
   {
    "duration": 4,
    "start_time": "2022-11-23T12:32:11.840Z"
   },
   {
    "duration": 3,
    "start_time": "2022-11-23T12:32:12.335Z"
   },
   {
    "duration": 5,
    "start_time": "2022-11-23T12:32:13.286Z"
   },
   {
    "duration": 6,
    "start_time": "2022-11-23T12:32:13.897Z"
   },
   {
    "duration": 4,
    "start_time": "2022-11-23T12:32:14.921Z"
   },
   {
    "duration": 4,
    "start_time": "2022-11-23T12:32:15.956Z"
   },
   {
    "duration": 3,
    "start_time": "2022-11-23T12:32:17.295Z"
   },
   {
    "duration": 1558,
    "start_time": "2022-11-23T12:32:25.220Z"
   },
   {
    "duration": 2258,
    "start_time": "2022-11-23T12:33:09.320Z"
   },
   {
    "duration": 1901,
    "start_time": "2022-11-23T12:33:20.486Z"
   },
   {
    "duration": 71,
    "start_time": "2022-11-23T12:45:52.278Z"
   },
   {
    "duration": 169,
    "start_time": "2022-11-23T12:46:12.356Z"
   },
   {
    "duration": 1701,
    "start_time": "2022-11-23T12:47:32.855Z"
   },
   {
    "duration": 55,
    "start_time": "2022-11-23T12:48:19.937Z"
   },
   {
    "duration": 57,
    "start_time": "2022-11-23T12:49:27.380Z"
   },
   {
    "duration": 1961,
    "start_time": "2022-11-23T12:50:01.624Z"
   },
   {
    "duration": 56,
    "start_time": "2022-11-23T12:50:06.856Z"
   },
   {
    "duration": 2077,
    "start_time": "2022-11-23T12:51:13.922Z"
   },
   {
    "duration": 1596,
    "start_time": "2022-11-23T12:51:58.135Z"
   },
   {
    "duration": 71,
    "start_time": "2022-11-23T12:52:31.197Z"
   },
   {
    "duration": 75,
    "start_time": "2022-11-23T12:53:06.558Z"
   },
   {
    "duration": 9007,
    "start_time": "2022-11-23T12:53:51.578Z"
   },
   {
    "duration": 159,
    "start_time": "2022-11-23T12:54:17.936Z"
   },
   {
    "duration": 189,
    "start_time": "2022-11-23T12:54:33.182Z"
   },
   {
    "duration": 15,
    "start_time": "2022-11-23T13:01:12.067Z"
   },
   {
    "duration": 107,
    "start_time": "2022-11-23T13:06:27.566Z"
   },
   {
    "duration": 76,
    "start_time": "2022-11-23T13:07:14.619Z"
   },
   {
    "duration": 69,
    "start_time": "2022-11-23T13:07:22.697Z"
   },
   {
    "duration": 65,
    "start_time": "2022-11-23T13:08:12.635Z"
   },
   {
    "duration": 85,
    "start_time": "2022-11-23T13:08:19.615Z"
   },
   {
    "duration": 72,
    "start_time": "2022-11-23T13:09:16.525Z"
   },
   {
    "duration": 1381,
    "start_time": "2022-11-23T13:09:49.385Z"
   },
   {
    "duration": 162,
    "start_time": "2022-11-23T13:10:09.421Z"
   },
   {
    "duration": 90,
    "start_time": "2022-11-23T13:10:23.649Z"
   },
   {
    "duration": 39,
    "start_time": "2022-11-23T13:10:32.591Z"
   },
   {
    "duration": 162,
    "start_time": "2022-11-23T13:10:43.223Z"
   },
   {
    "duration": 12,
    "start_time": "2022-11-23T13:11:48.274Z"
   },
   {
    "duration": 2687,
    "start_time": "2022-11-23T13:11:56.265Z"
   },
   {
    "duration": 2,
    "start_time": "2022-11-23T13:18:09.102Z"
   },
   {
    "duration": 72,
    "start_time": "2022-11-23T13:25:34.000Z"
   },
   {
    "duration": 112,
    "start_time": "2022-11-23T13:26:14.052Z"
   },
   {
    "duration": 33,
    "start_time": "2022-11-23T13:26:22.450Z"
   },
   {
    "duration": 6,
    "start_time": "2022-11-23T13:32:57.882Z"
   },
   {
    "duration": 6,
    "start_time": "2022-11-23T13:34:02.346Z"
   },
   {
    "duration": 1212,
    "start_time": "2022-11-23T13:43:10.274Z"
   },
   {
    "duration": 4,
    "start_time": "2022-11-23T13:43:11.488Z"
   },
   {
    "duration": 14,
    "start_time": "2022-11-23T13:43:11.493Z"
   },
   {
    "duration": 4,
    "start_time": "2022-11-23T13:43:11.509Z"
   },
   {
    "duration": 8,
    "start_time": "2022-11-23T13:43:11.515Z"
   },
   {
    "duration": 8,
    "start_time": "2022-11-23T13:43:11.524Z"
   },
   {
    "duration": 6,
    "start_time": "2022-11-23T13:43:11.533Z"
   },
   {
    "duration": 9,
    "start_time": "2022-11-23T13:43:11.540Z"
   },
   {
    "duration": 5,
    "start_time": "2022-11-23T13:43:11.550Z"
   },
   {
    "duration": 21,
    "start_time": "2022-11-23T13:43:11.557Z"
   },
   {
    "duration": 10,
    "start_time": "2022-11-23T13:43:11.580Z"
   },
   {
    "duration": 76,
    "start_time": "2022-11-23T13:43:11.591Z"
   },
   {
    "duration": 1651,
    "start_time": "2022-11-23T13:43:11.677Z"
   },
   {
    "duration": 2251,
    "start_time": "2022-11-23T13:43:13.330Z"
   },
   {
    "duration": 2676,
    "start_time": "2022-11-23T13:43:15.583Z"
   },
   {
    "duration": 37,
    "start_time": "2022-11-23T13:43:18.261Z"
   },
   {
    "duration": 1122,
    "start_time": "2022-11-23T13:44:01.996Z"
   },
   {
    "duration": 4,
    "start_time": "2022-11-23T13:44:03.120Z"
   },
   {
    "duration": 18,
    "start_time": "2022-11-23T13:44:03.125Z"
   },
   {
    "duration": 8,
    "start_time": "2022-11-23T13:44:03.145Z"
   },
   {
    "duration": 5,
    "start_time": "2022-11-23T13:44:03.155Z"
   },
   {
    "duration": 7,
    "start_time": "2022-11-23T13:44:03.161Z"
   },
   {
    "duration": 7,
    "start_time": "2022-11-23T13:44:03.169Z"
   },
   {
    "duration": 6,
    "start_time": "2022-11-23T13:44:03.178Z"
   },
   {
    "duration": 4,
    "start_time": "2022-11-23T13:44:03.186Z"
   },
   {
    "duration": 3,
    "start_time": "2022-11-23T13:44:03.193Z"
   },
   {
    "duration": 3,
    "start_time": "2022-11-23T13:44:03.198Z"
   },
   {
    "duration": 106,
    "start_time": "2022-11-23T13:44:03.203Z"
   },
   {
    "duration": 1781,
    "start_time": "2022-11-23T13:44:03.311Z"
   },
   {
    "duration": 2692,
    "start_time": "2022-11-23T13:44:05.094Z"
   },
   {
    "duration": 2662,
    "start_time": "2022-11-23T13:44:07.789Z"
   },
   {
    "duration": 37,
    "start_time": "2022-11-23T13:44:10.453Z"
   },
   {
    "duration": 6,
    "start_time": "2022-11-23T13:45:55.949Z"
   },
   {
    "duration": 1807,
    "start_time": "2022-11-23T17:22:41.918Z"
   },
   {
    "duration": 3,
    "start_time": "2022-11-23T17:22:43.727Z"
   },
   {
    "duration": 11,
    "start_time": "2022-11-23T17:22:43.732Z"
   },
   {
    "duration": 4,
    "start_time": "2022-11-23T17:22:43.744Z"
   },
   {
    "duration": 4,
    "start_time": "2022-11-23T17:22:43.750Z"
   },
   {
    "duration": 6,
    "start_time": "2022-11-23T17:22:43.756Z"
   },
   {
    "duration": 7,
    "start_time": "2022-11-23T17:22:43.764Z"
   },
   {
    "duration": 4,
    "start_time": "2022-11-23T17:22:43.773Z"
   },
   {
    "duration": 7,
    "start_time": "2022-11-23T17:22:43.779Z"
   },
   {
    "duration": 5,
    "start_time": "2022-11-23T17:22:43.788Z"
   },
   {
    "duration": 4,
    "start_time": "2022-11-23T17:22:43.795Z"
   },
   {
    "duration": 109,
    "start_time": "2022-11-23T17:22:43.838Z"
   },
   {
    "duration": 1603,
    "start_time": "2022-11-23T17:22:43.950Z"
   },
   {
    "duration": 2789,
    "start_time": "2022-11-23T17:22:45.555Z"
   },
   {
    "duration": 2746,
    "start_time": "2022-11-23T17:22:48.346Z"
   },
   {
    "duration": 30,
    "start_time": "2022-11-23T17:22:51.094Z"
   },
   {
    "duration": 6,
    "start_time": "2022-11-23T17:22:51.137Z"
   },
   {
    "duration": 51,
    "start_time": "2022-11-24T10:11:12.105Z"
   },
   {
    "duration": 1218,
    "start_time": "2022-11-24T10:11:22.161Z"
   },
   {
    "duration": 4,
    "start_time": "2022-11-24T10:11:23.381Z"
   },
   {
    "duration": 14,
    "start_time": "2022-11-24T10:11:23.387Z"
   },
   {
    "duration": 4,
    "start_time": "2022-11-24T10:11:23.403Z"
   },
   {
    "duration": 5,
    "start_time": "2022-11-24T10:11:23.409Z"
   },
   {
    "duration": 7,
    "start_time": "2022-11-24T10:11:23.416Z"
   },
   {
    "duration": 6,
    "start_time": "2022-11-24T10:11:23.425Z"
   },
   {
    "duration": 6,
    "start_time": "2022-11-24T10:11:23.433Z"
   },
   {
    "duration": 6,
    "start_time": "2022-11-24T10:11:23.441Z"
   },
   {
    "duration": 10,
    "start_time": "2022-11-24T10:11:23.449Z"
   },
   {
    "duration": 6,
    "start_time": "2022-11-24T10:11:23.461Z"
   },
   {
    "duration": 100,
    "start_time": "2022-11-24T10:11:23.468Z"
   },
   {
    "duration": 1755,
    "start_time": "2022-11-24T10:11:23.570Z"
   },
   {
    "duration": 2176,
    "start_time": "2022-11-24T10:11:25.327Z"
   },
   {
    "duration": 730,
    "start_time": "2022-11-24T10:11:27.505Z"
   },
   {
    "duration": 36,
    "start_time": "2022-11-24T10:11:28.237Z"
   },
   {
    "duration": 20,
    "start_time": "2022-11-24T10:11:28.276Z"
   },
   {
    "duration": 511,
    "start_time": "2022-11-24T10:12:12.727Z"
   },
   {
    "duration": 334,
    "start_time": "2022-11-24T10:13:08.866Z"
   },
   {
    "duration": 1752,
    "start_time": "2022-11-24T10:14:51.965Z"
   },
   {
    "duration": 526,
    "start_time": "2022-11-24T10:18:35.274Z"
   },
   {
    "duration": 1303,
    "start_time": "2022-11-24T10:19:20.311Z"
   },
   {
    "duration": 548,
    "start_time": "2022-11-24T10:19:25.235Z"
   },
   {
    "duration": 42,
    "start_time": "2022-11-24T10:22:02.817Z"
   }
  ],
  "kernelspec": {
   "display_name": "Python 3 (ipykernel)",
   "language": "python",
   "name": "python3"
  },
  "language_info": {
   "codemirror_mode": {
    "name": "ipython",
    "version": 3
   },
   "file_extension": ".py",
   "mimetype": "text/x-python",
   "name": "python",
   "nbconvert_exporter": "python",
   "pygments_lexer": "ipython3",
   "version": "3.9.12"
  },
  "toc": {
   "base_numbering": 1,
   "nav_menu": {},
   "number_sections": true,
   "sideBar": true,
   "skip_h1_title": true,
   "title_cell": "Table of Contents",
   "title_sidebar": "Contents",
   "toc_cell": false,
   "toc_position": {},
   "toc_section_display": true,
   "toc_window_display": false
  }
 },
 "nbformat": 4,
 "nbformat_minor": 2
}
