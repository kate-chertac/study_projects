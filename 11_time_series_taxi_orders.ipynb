{
 "cells": [
  {
   "cell_type": "markdown",
   "metadata": {
    "toc": true
   },
   "source": [
    "<h1>Content<span class=\"tocSkip\"></span></h1>\n",
    "<div class=\"toc\">\n",
    "  <ul class=\"toc-item\">\n",
    "    <li>\n",
    "      <span>\n",
    "        <a href=\"#Prepare\" data-toc-modified-id=\"Prepare-1\">\n",
    "          <span class=\"toc-item-num\">1&nbsp;&nbsp;</span>Preparation\n",
    "        </a>\n",
    "      </span>\n",
    "    </li>\n",
    "    <li>\n",
    "      <span>\n",
    "        <a href=\"#Analysis\" data-toc-modified-id=\"Analysis-2\">\n",
    "          <span class=\"toc-item-num\">2&nbsp;&nbsp;</span>Analysis\n",
    "        </a>\n",
    "      </span>\n",
    "    </li>\n",
    "    <li>\n",
    "      <span>\n",
    "        <a href=\"#Training\" data-toc-modified-id=\"Training-3\">\n",
    "          <span class=\"toc-item-num\">3&nbsp;&nbsp;</span>Training\n",
    "        </a>\n",
    "      </span>\n",
    "      <ul class=\"toc-item\">\n",
    "        <li>\n",
    "          <span>\n",
    "            <a href=\"#Elastic-Net\" data-toc-modified-id=\"Elastic-Net-3.1\">\n",
    "              <span class=\"toc-item-num\">3.1&nbsp;&nbsp;</span>Elastic Net\n",
    "            </a>\n",
    "          </span>\n",
    "        </li>\n",
    "        <li>\n",
    "          <span>\n",
    "            <a href=\"#LinearRegression()\" data-toc-modified-id=\"LinearRegression()-3.2\">\n",
    "              <span class=\"toc-item-num\">3.2&nbsp;&nbsp;</span>Linear regression()\n",
    "            </a>\n",
    "          </span>\n",
    "        </li>\n",
    "        <li>\n",
    "          <span>\n",
    "            <a href=\"#LGBMRegressor()\" data-toc-modified-id=\"LGBMRegressor()-3.3\">\n",
    "              <span class=\"toc-item-num\">3.3&nbsp;&nbsp;</span>LGBMRegressor()\n",
    "            </a>\n",
    "          </span>\n",
    "        </li>\n",
    "        <li>\n",
    "          <span>\n",
    "            <a href=\"#Select-better-model\" data-toc-modified-id=\"Select-best-model-3.4\">\n",
    "              <span class=\"toc-item-num\">3.4&nbsp;&nbsp;</span>Selecting optimal models\n",
    "            </a>\n",
    "          </span>\n",
    "        </li>\n",
    "      </ul>\n",
    "    </li>\n",
    "  </ul>\n",
    "</div>"
   ]
  },
  {
   "cell_type": "markdown",
   "metadata": {},
   "source": [
    "#  Forecasting taxi orders"
   ]
  },
  {
   "cell_type": "markdown",
   "metadata": {},
   "source": [
    "The company \"Chetenkoe taxi\" collected historical data on taxi orders at airports. In order to attract more drivers during peak load, the project predicts the number of taxi orders for the next hour. A model has been built for such a prediction.\n",
    "\n",
    "According to the conditions of the task, the value of the metric *RMSE* in the test sample should be no more than 48."
   ]
  },
  {
   "cell_type": "code",
   "execution_count": 1,
   "metadata": {},
   "outputs": [
    {
     "name": "stdout",
     "output_type": "stream",
     "text": [
      "Requirement already satisfied: scikit-learn==1.0 in /opt/conda/lib/python3.9/site-packages (1.0)\n",
      "Requirement already satisfied: numpy>=1.14.6 in /opt/conda/lib/python3.9/site-packages (from scikit-learn==1.0) (1.21.1)\n",
      "Requirement already satisfied: threadpoolctl>=2.0.0 in /opt/conda/lib/python3.9/site-packages (from scikit-learn==1.0) (3.1.0)\n",
      "Requirement already satisfied: scipy>=1.1.0 in /opt/conda/lib/python3.9/site-packages (from scikit-learn==1.0) (1.9.1)\n",
      "Requirement already satisfied: joblib>=0.11 in /opt/conda/lib/python3.9/site-packages (from scikit-learn==1.0) (1.2.0)\n"
     ]
    }
   ],
   "source": [
    "!pip install scikit-learn==1.0"
   ]
  },
  {
   "cell_type": "markdown",
   "metadata": {},
   "source": [
    "## Preparation"
   ]
  },
  {
   "cell_type": "code",
   "execution_count": 1,
   "metadata": {},
   "outputs": [],
   "source": [
    "# import\n",
    "import pandas as pd\n",
    "import numpy as np\n",
    "import warnings\n",
    "warnings.filterwarnings('ignore')\n",
    "from datetime import datetime\n",
    "import seaborn as sns\n",
    "import matplotlib.pyplot as plt\n",
    "from statsmodels.tsa.seasonal import seasonal_decompose\n",
    "pd.set_option('display.max_columns', None) # make it possible to display all columns on the screen\n",
    "pd.set_option('display.float_format', '{:.3f}'.format) # display float values ​​up to 3 decimal places\n",
    "from sklearn.preprocessing import StandardScaler, OrdinalEncoder, OneHotEncoder # for quantitative feature scaling + ordinal encoding\n",
    "from sklearn.metrics import mean_squared_error, make_scorer #for RMSE\n",
    "from sklearn.linear_model import LinearRegression # linear regression\n",
    "from sklearn.ensemble import RandomForestRegressor # random forest\n",
    "from sklearn.tree import DecisionTreeRegressor # decision tree\n",
    "import time, catboost\n",
    "from catboost import CatBoostRegressor\n",
    "import lightgbm as lgb\n",
    "from sklearn.model_selection import cross_val_score, train_test_split, TimeSeriesSplit, GridSearchCV, KFold, RandomizedSearchCV, train_test_split\n",
    "from sklearn.metrics import mean_squared_error as mse\n",
    "# константы заглавными буквами\n",
    "RANDOM_STATE = 42\n",
    "from sklearn.compose import make_column_transformer\n",
    "from sklearn.linear_model import Ridge\n",
    "import time\n",
    "from sklearn.pipeline import Pipeline\n",
    "from sklearn.pipeline import make_pipeline\n",
    "from sklearn.model_selection import cross_val_predict\n",
    "from lightgbm import LGBMRegressor\n",
    "from sklearn.dummy import DummyClassifier\n",
    "from sklearn.linear_model import LassoCV\n",
    "from sklearn.linear_model import ElasticNetCV"
   ]
  },
  {
   "cell_type": "code",
   "execution_count": 2,
   "metadata": {},
   "outputs": [
    {
     "data": {
      "text/html": [
       "<div>\n",
       "<style scoped>\n",
       "    .dataframe tbody tr th:only-of-type {\n",
       "        vertical-align: middle;\n",
       "    }\n",
       "\n",
       "    .dataframe tbody tr th {\n",
       "        vertical-align: top;\n",
       "    }\n",
       "\n",
       "    .dataframe thead th {\n",
       "        text-align: right;\n",
       "    }\n",
       "</style>\n",
       "<table border=\"1\" class=\"dataframe\">\n",
       "  <thead>\n",
       "    <tr style=\"text-align: right;\">\n",
       "      <th></th>\n",
       "      <th>datetime</th>\n",
       "      <th>num_orders</th>\n",
       "    </tr>\n",
       "  </thead>\n",
       "  <tbody>\n",
       "    <tr>\n",
       "      <th>0</th>\n",
       "      <td>2018-03-01 00:00:00</td>\n",
       "      <td>9</td>\n",
       "    </tr>\n",
       "    <tr>\n",
       "      <th>1</th>\n",
       "      <td>2018-03-01 00:10:00</td>\n",
       "      <td>14</td>\n",
       "    </tr>\n",
       "    <tr>\n",
       "      <th>2</th>\n",
       "      <td>2018-03-01 00:20:00</td>\n",
       "      <td>28</td>\n",
       "    </tr>\n",
       "    <tr>\n",
       "      <th>3</th>\n",
       "      <td>2018-03-01 00:30:00</td>\n",
       "      <td>20</td>\n",
       "    </tr>\n",
       "    <tr>\n",
       "      <th>4</th>\n",
       "      <td>2018-03-01 00:40:00</td>\n",
       "      <td>32</td>\n",
       "    </tr>\n",
       "    <tr>\n",
       "      <th>...</th>\n",
       "      <td>...</td>\n",
       "      <td>...</td>\n",
       "    </tr>\n",
       "    <tr>\n",
       "      <th>26491</th>\n",
       "      <td>2018-08-31 23:10:00</td>\n",
       "      <td>32</td>\n",
       "    </tr>\n",
       "    <tr>\n",
       "      <th>26492</th>\n",
       "      <td>2018-08-31 23:20:00</td>\n",
       "      <td>24</td>\n",
       "    </tr>\n",
       "    <tr>\n",
       "      <th>26493</th>\n",
       "      <td>2018-08-31 23:30:00</td>\n",
       "      <td>27</td>\n",
       "    </tr>\n",
       "    <tr>\n",
       "      <th>26494</th>\n",
       "      <td>2018-08-31 23:40:00</td>\n",
       "      <td>39</td>\n",
       "    </tr>\n",
       "    <tr>\n",
       "      <th>26495</th>\n",
       "      <td>2018-08-31 23:50:00</td>\n",
       "      <td>53</td>\n",
       "    </tr>\n",
       "  </tbody>\n",
       "</table>\n",
       "<p>26496 rows × 2 columns</p>\n",
       "</div>"
      ],
      "text/plain": [
       "                 datetime  num_orders\n",
       "0     2018-03-01 00:00:00           9\n",
       "1     2018-03-01 00:10:00          14\n",
       "2     2018-03-01 00:20:00          28\n",
       "3     2018-03-01 00:30:00          20\n",
       "4     2018-03-01 00:40:00          32\n",
       "...                   ...         ...\n",
       "26491 2018-08-31 23:10:00          32\n",
       "26492 2018-08-31 23:20:00          24\n",
       "26493 2018-08-31 23:30:00          27\n",
       "26494 2018-08-31 23:40:00          39\n",
       "26495 2018-08-31 23:50:00          53\n",
       "\n",
       "[26496 rows x 2 columns]"
      ]
     },
     "metadata": {},
     "output_type": "display_data"
    }
   ],
   "source": [
    "#import dataset\n",
    "df = pd.read_csv(r'datasets/11_taxi.csv', parse_dates=[0])\n",
    "df.sort_index(inplace=True)\n",
    "display(df)"
   ]
  },
  {
   "cell_type": "code",
   "execution_count": 3,
   "metadata": {},
   "outputs": [
    {
     "data": {
      "text/html": [
       "<div>\n",
       "<style scoped>\n",
       "    .dataframe tbody tr th:only-of-type {\n",
       "        vertical-align: middle;\n",
       "    }\n",
       "\n",
       "    .dataframe tbody tr th {\n",
       "        vertical-align: top;\n",
       "    }\n",
       "\n",
       "    .dataframe thead th {\n",
       "        text-align: right;\n",
       "    }\n",
       "</style>\n",
       "<table border=\"1\" class=\"dataframe\">\n",
       "  <thead>\n",
       "    <tr style=\"text-align: right;\">\n",
       "      <th></th>\n",
       "      <th>Values</th>\n",
       "      <th>Data type</th>\n",
       "      <th>Unique values</th>\n",
       "      <th>Missing</th>\n",
       "      <th>Duplicates</th>\n",
       "    </tr>\n",
       "  </thead>\n",
       "  <tbody>\n",
       "    <tr>\n",
       "      <th>datetime</th>\n",
       "      <td>[2018-03-01T00:00:00.000000000, 2018-03-01T00:...</td>\n",
       "      <td>datetime64[ns]</td>\n",
       "      <td>26496</td>\n",
       "      <td>0</td>\n",
       "      <td>0</td>\n",
       "    </tr>\n",
       "    <tr>\n",
       "      <th>num_orders</th>\n",
       "      <td>[9, 14, 28, 20, 32, 21, 7, 5, 17, 12, 19, 25, ...</td>\n",
       "      <td>int64</td>\n",
       "      <td>81</td>\n",
       "      <td>0</td>\n",
       "      <td>0</td>\n",
       "    </tr>\n",
       "  </tbody>\n",
       "</table>\n",
       "</div>"
      ],
      "text/plain": [
       "                                                       Values       Data type  \\\n",
       "datetime    [2018-03-01T00:00:00.000000000, 2018-03-01T00:...  datetime64[ns]   \n",
       "num_orders  [9, 14, 28, 20, 32, 21, 7, 5, 17, 12, 19, 25, ...           int64   \n",
       "\n",
       "           Unique values Missing Duplicates  \n",
       "datetime           26496       0          0  \n",
       "num_orders            81       0          0  "
      ]
     },
     "execution_count": 3,
     "metadata": {},
     "output_type": "execute_result"
    }
   ],
   "source": [
    "# description function\n",
    "def describe_colums(df):\n",
    "    \n",
    "    values = pd.DataFrame()\n",
    "    \n",
    "    for col in df.columns:\n",
    "        values[col] = [df[col].unique(), df[col].dtypes, df[col].nunique(), df[col].isnull().sum().sum(), df.duplicated().sum()]\n",
    "        \n",
    "    return values.transpose().sort_values(by=1, ascending=False).rename(\n",
    "        {0: 'Values', 1: 'Data type', 2: 'Unique values', 3: 'Missing', 4: 'Duplicates'}, axis=1)\n",
    "describe_colums(df)"
   ]
  },
  {
   "cell_type": "markdown",
   "metadata": {},
   "source": [
    "There are no duplicates or omissions. You only need to change the 'datetime' datatype."
   ]
  },
  {
   "cell_type": "code",
   "execution_count": 4,
   "metadata": {},
   "outputs": [
    {
     "data": {
      "text/html": [
       "<div>\n",
       "<style scoped>\n",
       "    .dataframe tbody tr th:only-of-type {\n",
       "        vertical-align: middle;\n",
       "    }\n",
       "\n",
       "    .dataframe tbody tr th {\n",
       "        vertical-align: top;\n",
       "    }\n",
       "\n",
       "    .dataframe thead th {\n",
       "        text-align: right;\n",
       "    }\n",
       "</style>\n",
       "<table border=\"1\" class=\"dataframe\">\n",
       "  <thead>\n",
       "    <tr style=\"text-align: right;\">\n",
       "      <th></th>\n",
       "      <th>datetime</th>\n",
       "      <th>num_orders</th>\n",
       "    </tr>\n",
       "  </thead>\n",
       "  <tbody>\n",
       "    <tr>\n",
       "      <th>0</th>\n",
       "      <td>2018-03-01 00:00:00</td>\n",
       "      <td>9</td>\n",
       "    </tr>\n",
       "    <tr>\n",
       "      <th>1</th>\n",
       "      <td>2018-03-01 00:10:00</td>\n",
       "      <td>14</td>\n",
       "    </tr>\n",
       "    <tr>\n",
       "      <th>2</th>\n",
       "      <td>2018-03-01 00:20:00</td>\n",
       "      <td>28</td>\n",
       "    </tr>\n",
       "    <tr>\n",
       "      <th>3</th>\n",
       "      <td>2018-03-01 00:30:00</td>\n",
       "      <td>20</td>\n",
       "    </tr>\n",
       "    <tr>\n",
       "      <th>4</th>\n",
       "      <td>2018-03-01 00:40:00</td>\n",
       "      <td>32</td>\n",
       "    </tr>\n",
       "    <tr>\n",
       "      <th>...</th>\n",
       "      <td>...</td>\n",
       "      <td>...</td>\n",
       "    </tr>\n",
       "    <tr>\n",
       "      <th>26491</th>\n",
       "      <td>2018-08-31 23:10:00</td>\n",
       "      <td>32</td>\n",
       "    </tr>\n",
       "    <tr>\n",
       "      <th>26492</th>\n",
       "      <td>2018-08-31 23:20:00</td>\n",
       "      <td>24</td>\n",
       "    </tr>\n",
       "    <tr>\n",
       "      <th>26493</th>\n",
       "      <td>2018-08-31 23:30:00</td>\n",
       "      <td>27</td>\n",
       "    </tr>\n",
       "    <tr>\n",
       "      <th>26494</th>\n",
       "      <td>2018-08-31 23:40:00</td>\n",
       "      <td>39</td>\n",
       "    </tr>\n",
       "    <tr>\n",
       "      <th>26495</th>\n",
       "      <td>2018-08-31 23:50:00</td>\n",
       "      <td>53</td>\n",
       "    </tr>\n",
       "  </tbody>\n",
       "</table>\n",
       "<p>26496 rows × 2 columns</p>\n",
       "</div>"
      ],
      "text/plain": [
       "                 datetime  num_orders\n",
       "0     2018-03-01 00:00:00           9\n",
       "1     2018-03-01 00:10:00          14\n",
       "2     2018-03-01 00:20:00          28\n",
       "3     2018-03-01 00:30:00          20\n",
       "4     2018-03-01 00:40:00          32\n",
       "...                   ...         ...\n",
       "26491 2018-08-31 23:10:00          32\n",
       "26492 2018-08-31 23:20:00          24\n",
       "26493 2018-08-31 23:30:00          27\n",
       "26494 2018-08-31 23:40:00          39\n",
       "26495 2018-08-31 23:50:00          53\n",
       "\n",
       "[26496 rows x 2 columns]"
      ]
     },
     "metadata": {},
     "output_type": "display_data"
    }
   ],
   "source": [
    "# change format to date\n",
    "df['datetime'] = pd.to_datetime(df['datetime'], format = '%Y-%m-%d %H:%M:%S')\n",
    "display(df)"
   ]
  },
  {
   "cell_type": "code",
   "execution_count": 5,
   "metadata": {},
   "outputs": [
    {
     "name": "stdout",
     "output_type": "stream",
     "text": [
      "<class 'pandas.core.frame.DataFrame'>\n",
      "DatetimeIndex: 26496 entries, 2018-03-01 00:00:00 to 2018-08-31 23:50:00\n",
      "Data columns (total 1 columns):\n",
      " #   Column      Non-Null Count  Dtype\n",
      "---  ------      --------------  -----\n",
      " 0   num_orders  26496 non-null  int64\n",
      "dtypes: int64(1)\n",
      "memory usage: 414.0 KB\n",
      "None\n"
     ]
    }
   ],
   "source": [
    "# Set table index to datetime column\n",
    "df.set_index('datetime', inplace=True)\n",
    "print(df.info())"
   ]
  },
  {
   "cell_type": "markdown",
   "metadata": {},
   "source": [
    "The dataset contains data for six months. from 03/01/2018 to 08/31/2018"
   ]
  },
  {
   "cell_type": "code",
   "execution_count": 6,
   "metadata": {},
   "outputs": [
    {
     "name": "stdout",
     "output_type": "stream",
     "text": [
      "True\n"
     ]
    }
   ],
   "source": [
    "# Checking for chronology\n",
    "is_monotonic = df.index.is_monotonic\n",
    "print(df.index.is_monotonic)"
   ]
  },
  {
   "cell_type": "markdown",
   "metadata": {},
   "source": [
    "## Analysis"
   ]
  },
  {
   "cell_type": "code",
   "execution_count": 7,
   "metadata": {},
   "outputs": [
    {
     "data": {
      "image/png": "[encoded data removed]",
      "text/plain": [
       "<Figure size 1224x504 with 1 Axes>"
      ]
     },
     "metadata": {
      "needs_background": "light"
     },
     "output_type": "display_data"
    }
   ],
   "source": [
    "# Let's resample for 1 hour\n",
    "df = df.resample('1H').sum() # sum over hours\n",
    "# set the size of the shape\n",
    "df.plot(figsize=(17, 7))\n",
    "plt.title('Number of taxi orders per hour')\n",
    "plt.xlabel('Date')\n",
    "plt.ylabel('Number of orders')\n",
    "# display the graph on the screen\n",
    "plt.show()"
   ]
  },
  {
   "cell_type": "markdown",
   "metadata": {},
   "source": [
    "When resemling by the clock, little is clear from the data."
   ]
  },
  {
   "cell_type": "code",
   "execution_count": 8,
   "metadata": {},
   "outputs": [
    {
     "data": {
      "image/png": "[encoded data removed]",
      "text/plain": [
       "<Figure size 1224x504 with 1 Axes>"
      ]
     },
     "metadata": {
      "needs_background": "light"
     },
     "output_type": "display_data"
    }
   ],
   "source": [
    "df.rolling(200).mean().plot(figsize=(17, 7))# reflect the moving average\n",
    "plt.title('Moving average')\n",
    "plt.xlabel('Date')\n",
    "plt.ylabel('Number of orders')\n",
    "# we display the graph on the screen\n",
    "plt.show()"
   ]
  },
  {
   "cell_type": "markdown",
   "metadata": {},
   "source": [
    "The general trend of increasing the number of orders is visible. Unfortunately, without data by year, it is difficult to talk about seasonality. In a general sense, the number of orders increases significantly."
   ]
  },
  {
   "cell_type": "code",
   "execution_count": 17,
   "metadata": {},
   "outputs": [
    {
     "data": {
      "image/png": "[encoded data removed]",
      "text/plain": [
       "<Figure size 1224x504 with 1 Axes>"
      ]
     },
     "metadata": {
      "needs_background": "light"
     },
     "output_type": "display_data"
    }
   ],
   "source": [
    "# Creating a new column 'dayofyear' with the day number in the year\n",
    "df['dayofyear'] = df.index.dayofyear\n",
    "\n",
    "# Create a daily seasonal chart\n",
    "plt.figure(figsize=(17,7))\n",
    "plt.plot(df.groupby('dayofyear')['num_orders'].mean())\n",
    "plt.xlabel('Day of the year')\n",
    "plt.ylabel('Average')\n",
    "plt.title('Seasonality by day of the year')\n",
    "plt.show()"
   ]
  },
  {
   "cell_type": "code",
   "execution_count": 14,
   "metadata": {},
   "outputs": [
    {
     "data": {
      "image/png": "[encoded data removed]",
      "text/plain": [
       "<Figure size 1224x864 with 4 Axes>"
      ]
     },
     "metadata": {
      "needs_background": "light"
     },
     "output_type": "display_data"
    }
   ],
   "source": [
    "# calculating trend, seasonality and residuals\n",
    "decomposition = seasonal_decompose(df['num_orders'], model='additive', period=24)\n",
    "trend = decomposition.trend\n",
    "seasonality = decomposition.seasonal\n",
    "residuals = decomposition.resid\n",
    "\n",
    "# display the results as a graph\n",
    "fig, ax = plt.subplots(nrows=4, ncols=1, figsize=(17, 12))\n",
    "\n",
    "df['num_orders'].plot(ax=ax[0])\n",
    "df['num_orders'].plot(ax=ax[0])\n",
    "ax[0].set_title('Number of orders')\n",
    "ax[0].set_ylabel('Number of orders')\n",
    "ax[0].set_xlabel('Date')\n",
    "\n",
    "trend.plot(ax=ax[1])\n",
    "ax[1].set_title('Trend')\n",
    "ax[1].set_ylabel('Number of orders')\n",
    "ax[1].set_xlabel('Date')\n",
    "\n",
    "seasonality.plot(ax=ax[2])\n",
    "ax[2].set_title('Seasonality')\n",
    "ax[2].set_ylabel('Number of orders')\n",
    "ax[2].set_xlabel('Date')\n",
    "\n",
    "residuals.plot(ax=ax[3])\n",
    "ax[3].set_title('Residuals')\n",
    "ax[3].set_ylabel('Number of orders')\n",
    "ax[3].set_xlabel('Date')\n",
    "\n",
    "plt.tight_layout()\n",
    "plt.show()"
   ]
  },
  {
   "cell_type": "markdown",
   "metadata": {},
   "source": [
    "Cтохастический процесс является нестационарным, так как наблюдается и возрастающий тренд и сезонность. Далее рассмотрим подробнее."
   ]
  },
  {
   "cell_type": "code",
   "execution_count": 18,
   "metadata": {},
   "outputs": [
    {
     "data": {
      "image/png": "[encoded data removed]",
      "text/plain": [
       "<Figure size 1224x504 with 2 Axes>"
      ]
     },
     "metadata": {
      "needs_background": "light"
     },
     "output_type": "display_data"
    }
   ],
   "source": [
    "# add columns containing information about the day of the week and the hour\n",
    "df['weekday'] = df.index.weekday\n",
    "df['hour'] = df.index.hour\n",
    "\n",
    "# create a pivot table by grouping the data by day of the week and hour and calculating the average number of orders\n",
    "pivot = pd.pivot_table(df, values='num_orders', index='weekday', columns='hour', aggfunc='mean')\n",
    "\n",
    "# display the results as a heatmap\n",
    "plt.figure(figsize=(17, 7))\n",
    "plt.imshow(pivot, cmap='hot', aspect='auto')\n",
    "plt.xlabel('Hour of the day')\n",
    "plt.ylabel('Day of the week')\n",
    "plt.colorbar()\n",
    "plt.show()"
   ]
  },
  {
   "cell_type": "markdown",
   "metadata": {},
   "source": [
    "Having displayed the dependence on the day of the week and hour on the heat map, we see a clear pattern that most orders fall at night time, and there is a small peak at 10 am and 4 pm. And the day of the week already affects here. On weekends and at the beginning of the week, people use taxis more often, on Wednesdays there are fewer orders."
   ]
  },
  {
   "cell_type": "code",
   "execution_count": 19,
   "metadata": {},
   "outputs": [
    {
     "data": {
      "image/png": "[encoded data removed]",
      "text/plain": [
       "<Figure size 1224x504 with 1 Axes>"
      ]
     },
     "metadata": {
      "needs_background": "light"
     },
     "output_type": "display_data"
    }
   ],
   "source": [
    "# time series decomposition\n",
    "decomposed = seasonal_decompose(df['num_orders'], model='additive', period=24)\n",
    "\n",
    "# set the size of the shape\n",
    "fig, ax = plt.subplots(figsize=(17, 7))\n",
    "\n",
    "# display the seasonal component for one day in June 2018\n",
    "decomposed.seasonal['2018-06-14 00:00:00':'2018-06-15 23:50:00'].plot(ax=ax)\n",
    "ax.set_title('Seasonal decomposition for June 14 and 15, 2018')\n",
    "ax.set_ylabel('Number of orders') # y-axis name\n",
    "ax.set_xlabel('Time')\n",
    "\n",
    "# display the graph on the screen\n",
    "plt.show()"
   ]
  },
  {
   "cell_type": "markdown",
   "metadata": {},
   "source": [
    "We see a clearly traceable seasonality by day. Decrease in the number of orders in the morning and at 18:00, peak values around 16:00 and at night."
   ]
  },
  {
   "cell_type": "code",
   "execution_count": 20,
   "metadata": {},
   "outputs": [
    {
     "data": {
      "image/png": "[encoded data removed]",
      "text/plain": [
       "<Figure size 1224x504 with 1 Axes>"
      ]
     },
     "metadata": {
      "needs_background": "light"
     },
     "output_type": "display_data"
    }
   ],
   "source": [
    "# time series decomposition\n",
    "decomposed = seasonal_decompose(df['num_orders'], model='additive', period=24)\n",
    "\n",
    "# set the size of the shape\n",
    "fig, ax = plt.subplots(figsize=(17, 7))\n",
    "\n",
    "# display the seasonal component for one day in August 2018\n",
    "decomposed.seasonal['2018-07-14 00:00:00':'2018-07-14 12:00:00'].plot(ax=ax)\n",
    "ax.set_title('Seasonal decomposition for 1 day (July 14, 2018)') # chart title\n",
    "ax.set_ylabel('Number of orders') # y-axis name\n",
    "ax.set_xlabel('Time')\n",
    "# display the graph on the screen\n",
    "plt.show()"
   ]
  },
  {
   "cell_type": "code",
   "execution_count": 21,
   "metadata": {},
   "outputs": [
    {
     "data": {
      "image/png": "[encoded data removed]",
      "text/plain": [
       "<Figure size 1224x504 with 1 Axes>"
      ]
     },
     "metadata": {
      "needs_background": "light"
     },
     "output_type": "display_data"
    }
   ],
   "source": [
    "# set the size of the shape\n",
    "fig, ax = plt.subplots(figsize=(17, 7))\n",
    "# display the seasonal component for one day in August 2018\n",
    "decomposed.seasonal['2018-07-14 12:00:00':'2018-07-14 23:59:59'].plot(ax=ax)\n",
    "ax.set_title('Seasonal decomposition for 1 day (July 14, 2018)') # chart title\n",
    "ax.set_ylabel('Number of orders') # y-axis name\n",
    "ax.set_xlabel('Time')\n",
    "# display the graph on the screen\n",
    "plt.show()"
   ]
  },
  {
   "cell_type": "markdown",
   "metadata": {},
   "source": [
    "A more detailed examination confirmed our conclusion on the seasonality of the day, revealed when considering two days."
   ]
  },
  {
   "cell_type": "code",
   "execution_count": 22,
   "metadata": {},
   "outputs": [
    {
     "data": {
      "image/png": "[encoded data removed]",
      "text/plain": [
       "<Figure size 1224x504 with 1 Axes>"
      ]
     },
     "metadata": {
      "needs_background": "light"
     },
     "output_type": "display_data"
    }
   ],
   "source": [
    "# set the size of the shape\n",
    "fig, ax = plt.subplots(figsize=(17, 7))\n",
    "# group the data by day of the week and calculate the average value of the number of orders\n",
    "df_weekday = df.groupby(df.index.weekday)['num_orders'].mean()\n",
    "\n",
    "# display a graph of the average number of orders for each day of the week\n",
    "df_weekday.plot(ax=ax)\n",
    "ax.set_xticklabels(['Monday', 'Tuesday', 'Wednesday', 'Thursday', 'Friday', 'Saturday', 'Sunday'])\n",
    "ax.set_xticks(range(7))\n",
    "ax.set_xlabel('Weekday')\n",
    "ax.set_ylabel('Number of orders')\n",
    "ax.set_title('Seasonality by days of the week')\n",
    "# display the graph on the screen\n",
    "plt.show()"
   ]
  },
  {
   "cell_type": "markdown",
   "metadata": {},
   "source": [
    "Most taxis are used on Friday and Monday. On Tuesday and Sunday, a clear decline."
   ]
  },
  {
   "cell_type": "markdown",
   "metadata": {},
   "source": [
    "As described above, a general trend in the growth of orders is visible. At the same time, seasonality is observed, which we found on the heat map and on a more detailed examination of the day. Seasonality depends on the days of the week and hours. Also, in August there is more noise than before."
   ]
  },
  {
   "cell_type": "markdown",
   "metadata": {},
   "source": [
    "## Training"
   ]
  },
  {
   "cell_type": "code",
   "execution_count": 23,
   "metadata": {},
   "outputs": [
    {
     "data": {
      "text/html": [
       "<div>\n",
       "<style scoped>\n",
       "    .dataframe tbody tr th:only-of-type {\n",
       "        vertical-align: middle;\n",
       "    }\n",
       "\n",
       "    .dataframe tbody tr th {\n",
       "        vertical-align: top;\n",
       "    }\n",
       "\n",
       "    .dataframe thead th {\n",
       "        text-align: right;\n",
       "    }\n",
       "</style>\n",
       "<table border=\"1\" class=\"dataframe\">\n",
       "  <thead>\n",
       "    <tr style=\"text-align: right;\">\n",
       "      <th></th>\n",
       "      <th>num_orders</th>\n",
       "      <th>dayofyear</th>\n",
       "      <th>weekday</th>\n",
       "      <th>hour</th>\n",
       "    </tr>\n",
       "    <tr>\n",
       "      <th>datetime</th>\n",
       "      <th></th>\n",
       "      <th></th>\n",
       "      <th></th>\n",
       "      <th></th>\n",
       "    </tr>\n",
       "  </thead>\n",
       "  <tbody>\n",
       "    <tr>\n",
       "      <th>2018-03-01 00:00:00</th>\n",
       "      <td>124</td>\n",
       "      <td>60</td>\n",
       "      <td>3</td>\n",
       "      <td>0</td>\n",
       "    </tr>\n",
       "    <tr>\n",
       "      <th>2018-03-01 01:00:00</th>\n",
       "      <td>85</td>\n",
       "      <td>60</td>\n",
       "      <td>3</td>\n",
       "      <td>1</td>\n",
       "    </tr>\n",
       "    <tr>\n",
       "      <th>2018-03-01 02:00:00</th>\n",
       "      <td>71</td>\n",
       "      <td>60</td>\n",
       "      <td>3</td>\n",
       "      <td>2</td>\n",
       "    </tr>\n",
       "    <tr>\n",
       "      <th>2018-03-01 03:00:00</th>\n",
       "      <td>66</td>\n",
       "      <td>60</td>\n",
       "      <td>3</td>\n",
       "      <td>3</td>\n",
       "    </tr>\n",
       "    <tr>\n",
       "      <th>2018-03-01 04:00:00</th>\n",
       "      <td>43</td>\n",
       "      <td>60</td>\n",
       "      <td>3</td>\n",
       "      <td>4</td>\n",
       "    </tr>\n",
       "    <tr>\n",
       "      <th>...</th>\n",
       "      <td>...</td>\n",
       "      <td>...</td>\n",
       "      <td>...</td>\n",
       "      <td>...</td>\n",
       "    </tr>\n",
       "    <tr>\n",
       "      <th>2018-08-31 19:00:00</th>\n",
       "      <td>136</td>\n",
       "      <td>243</td>\n",
       "      <td>4</td>\n",
       "      <td>19</td>\n",
       "    </tr>\n",
       "    <tr>\n",
       "      <th>2018-08-31 20:00:00</th>\n",
       "      <td>154</td>\n",
       "      <td>243</td>\n",
       "      <td>4</td>\n",
       "      <td>20</td>\n",
       "    </tr>\n",
       "    <tr>\n",
       "      <th>2018-08-31 21:00:00</th>\n",
       "      <td>159</td>\n",
       "      <td>243</td>\n",
       "      <td>4</td>\n",
       "      <td>21</td>\n",
       "    </tr>\n",
       "    <tr>\n",
       "      <th>2018-08-31 22:00:00</th>\n",
       "      <td>223</td>\n",
       "      <td>243</td>\n",
       "      <td>4</td>\n",
       "      <td>22</td>\n",
       "    </tr>\n",
       "    <tr>\n",
       "      <th>2018-08-31 23:00:00</th>\n",
       "      <td>205</td>\n",
       "      <td>243</td>\n",
       "      <td>4</td>\n",
       "      <td>23</td>\n",
       "    </tr>\n",
       "  </tbody>\n",
       "</table>\n",
       "<p>4416 rows × 4 columns</p>\n",
       "</div>"
      ],
      "text/plain": [
       "                     num_orders  dayofyear  weekday  hour\n",
       "datetime                                                 \n",
       "2018-03-01 00:00:00         124         60        3     0\n",
       "2018-03-01 01:00:00          85         60        3     1\n",
       "2018-03-01 02:00:00          71         60        3     2\n",
       "2018-03-01 03:00:00          66         60        3     3\n",
       "2018-03-01 04:00:00          43         60        3     4\n",
       "...                         ...        ...      ...   ...\n",
       "2018-08-31 19:00:00         136        243        4    19\n",
       "2018-08-31 20:00:00         154        243        4    20\n",
       "2018-08-31 21:00:00         159        243        4    21\n",
       "2018-08-31 22:00:00         223        243        4    22\n",
       "2018-08-31 23:00:00         205        243        4    23\n",
       "\n",
       "[4416 rows x 4 columns]"
      ]
     },
     "execution_count": 23,
     "metadata": {},
     "output_type": "execute_result"
    }
   ],
   "source": [
    "df"
   ]
  },
  {
   "cell_type": "code",
   "execution_count": 24,
   "metadata": {},
   "outputs": [
    {
     "data": {
      "text/plain": [
       "(4416, 103)"
      ]
     },
     "execution_count": 24,
     "metadata": {},
     "output_type": "execute_result"
    }
   ],
   "source": [
    "# define the make_features function\n",
    "def make_features(df, max_lag, rolling_mean_size):\n",
    "    df['month'] = df.index.month #add month and year\n",
    "    df['day'] = df.index.day\n",
    "    \n",
    "    for lag in range(1, max_lag + 1):\n",
    "        df['lag_{}'.format(lag)] = df['num_orders'].shift(lag)\n",
    "\n",
    "    df['rolling_mean'] = df['num_orders'].shift().rolling(rolling_mean_size).mean() # rolling average\n",
    "\n",
    "make_features(df, 96, 72)\n",
    "df.shape"
   ]
  },
  {
   "cell_type": "code",
   "execution_count": 25,
   "metadata": {},
   "outputs": [
    {
     "data": {
      "text/html": [
       "<div>\n",
       "<style scoped>\n",
       "    .dataframe tbody tr th:only-of-type {\n",
       "        vertical-align: middle;\n",
       "    }\n",
       "\n",
       "    .dataframe tbody tr th {\n",
       "        vertical-align: top;\n",
       "    }\n",
       "\n",
       "    .dataframe thead th {\n",
       "        text-align: right;\n",
       "    }\n",
       "</style>\n",
       "<table border=\"1\" class=\"dataframe\">\n",
       "  <thead>\n",
       "    <tr style=\"text-align: right;\">\n",
       "      <th></th>\n",
       "      <th>num_orders</th>\n",
       "      <th>dayofyear</th>\n",
       "      <th>weekday</th>\n",
       "      <th>hour</th>\n",
       "      <th>month</th>\n",
       "      <th>day</th>\n",
       "      <th>lag_1</th>\n",
       "      <th>lag_2</th>\n",
       "      <th>lag_3</th>\n",
       "      <th>lag_4</th>\n",
       "      <th>lag_5</th>\n",
       "      <th>lag_6</th>\n",
       "      <th>lag_7</th>\n",
       "      <th>lag_8</th>\n",
       "      <th>lag_9</th>\n",
       "      <th>lag_10</th>\n",
       "      <th>lag_11</th>\n",
       "      <th>lag_12</th>\n",
       "      <th>lag_13</th>\n",
       "      <th>lag_14</th>\n",
       "      <th>lag_15</th>\n",
       "      <th>lag_16</th>\n",
       "      <th>lag_17</th>\n",
       "      <th>lag_18</th>\n",
       "      <th>lag_19</th>\n",
       "      <th>lag_20</th>\n",
       "      <th>lag_21</th>\n",
       "      <th>lag_22</th>\n",
       "      <th>lag_23</th>\n",
       "      <th>lag_24</th>\n",
       "      <th>lag_25</th>\n",
       "      <th>lag_26</th>\n",
       "      <th>lag_27</th>\n",
       "      <th>lag_28</th>\n",
       "      <th>lag_29</th>\n",
       "      <th>lag_30</th>\n",
       "      <th>lag_31</th>\n",
       "      <th>lag_32</th>\n",
       "      <th>lag_33</th>\n",
       "      <th>lag_34</th>\n",
       "      <th>lag_35</th>\n",
       "      <th>lag_36</th>\n",
       "      <th>lag_37</th>\n",
       "      <th>lag_38</th>\n",
       "      <th>lag_39</th>\n",
       "      <th>lag_40</th>\n",
       "      <th>lag_41</th>\n",
       "      <th>lag_42</th>\n",
       "      <th>lag_43</th>\n",
       "      <th>lag_44</th>\n",
       "      <th>lag_45</th>\n",
       "      <th>lag_46</th>\n",
       "      <th>lag_47</th>\n",
       "      <th>lag_48</th>\n",
       "      <th>lag_49</th>\n",
       "      <th>lag_50</th>\n",
       "      <th>lag_51</th>\n",
       "      <th>lag_52</th>\n",
       "      <th>lag_53</th>\n",
       "      <th>lag_54</th>\n",
       "      <th>lag_55</th>\n",
       "      <th>lag_56</th>\n",
       "      <th>lag_57</th>\n",
       "      <th>lag_58</th>\n",
       "      <th>lag_59</th>\n",
       "      <th>lag_60</th>\n",
       "      <th>lag_61</th>\n",
       "      <th>lag_62</th>\n",
       "      <th>lag_63</th>\n",
       "      <th>lag_64</th>\n",
       "      <th>lag_65</th>\n",
       "      <th>lag_66</th>\n",
       "      <th>lag_67</th>\n",
       "      <th>lag_68</th>\n",
       "      <th>lag_69</th>\n",
       "      <th>lag_70</th>\n",
       "      <th>lag_71</th>\n",
       "      <th>lag_72</th>\n",
       "      <th>lag_73</th>\n",
       "      <th>lag_74</th>\n",
       "      <th>lag_75</th>\n",
       "      <th>lag_76</th>\n",
       "      <th>lag_77</th>\n",
       "      <th>lag_78</th>\n",
       "      <th>lag_79</th>\n",
       "      <th>lag_80</th>\n",
       "      <th>lag_81</th>\n",
       "      <th>lag_82</th>\n",
       "      <th>lag_83</th>\n",
       "      <th>lag_84</th>\n",
       "      <th>lag_85</th>\n",
       "      <th>lag_86</th>\n",
       "      <th>lag_87</th>\n",
       "      <th>lag_88</th>\n",
       "      <th>lag_89</th>\n",
       "      <th>lag_90</th>\n",
       "      <th>lag_91</th>\n",
       "      <th>lag_92</th>\n",
       "      <th>lag_93</th>\n",
       "      <th>lag_94</th>\n",
       "      <th>lag_95</th>\n",
       "      <th>lag_96</th>\n",
       "      <th>rolling_mean</th>\n",
       "    </tr>\n",
       "    <tr>\n",
       "      <th>datetime</th>\n",
       "      <th></th>\n",
       "      <th></th>\n",
       "      <th></th>\n",
       "      <th></th>\n",
       "      <th></th>\n",
       "      <th></th>\n",
       "      <th></th>\n",
       "      <th></th>\n",
       "      <th></th>\n",
       "      <th></th>\n",
       "      <th></th>\n",
       "      <th></th>\n",
       "      <th></th>\n",
       "      <th></th>\n",
       "      <th></th>\n",
       "      <th></th>\n",
       "      <th></th>\n",
       "      <th></th>\n",
       "      <th></th>\n",
       "      <th></th>\n",
       "      <th></th>\n",
       "      <th></th>\n",
       "      <th></th>\n",
       "      <th></th>\n",
       "      <th></th>\n",
       "      <th></th>\n",
       "      <th></th>\n",
       "      <th></th>\n",
       "      <th></th>\n",
       "      <th></th>\n",
       "      <th></th>\n",
       "      <th></th>\n",
       "      <th></th>\n",
       "      <th></th>\n",
       "      <th></th>\n",
       "      <th></th>\n",
       "      <th></th>\n",
       "      <th></th>\n",
       "      <th></th>\n",
       "      <th></th>\n",
       "      <th></th>\n",
       "      <th></th>\n",
       "      <th></th>\n",
       "      <th></th>\n",
       "      <th></th>\n",
       "      <th></th>\n",
       "      <th></th>\n",
       "      <th></th>\n",
       "      <th></th>\n",
       "      <th></th>\n",
       "      <th></th>\n",
       "      <th></th>\n",
       "      <th></th>\n",
       "      <th></th>\n",
       "      <th></th>\n",
       "      <th></th>\n",
       "      <th></th>\n",
       "      <th></th>\n",
       "      <th></th>\n",
       "      <th></th>\n",
       "      <th></th>\n",
       "      <th></th>\n",
       "      <th></th>\n",
       "      <th></th>\n",
       "      <th></th>\n",
       "      <th></th>\n",
       "      <th></th>\n",
       "      <th></th>\n",
       "      <th></th>\n",
       "      <th></th>\n",
       "      <th></th>\n",
       "      <th></th>\n",
       "      <th></th>\n",
       "      <th></th>\n",
       "      <th></th>\n",
       "      <th></th>\n",
       "      <th></th>\n",
       "      <th></th>\n",
       "      <th></th>\n",
       "      <th></th>\n",
       "      <th></th>\n",
       "      <th></th>\n",
       "      <th></th>\n",
       "      <th></th>\n",
       "      <th></th>\n",
       "      <th></th>\n",
       "      <th></th>\n",
       "      <th></th>\n",
       "      <th></th>\n",
       "      <th></th>\n",
       "      <th></th>\n",
       "      <th></th>\n",
       "      <th></th>\n",
       "      <th></th>\n",
       "      <th></th>\n",
       "      <th></th>\n",
       "      <th></th>\n",
       "      <th></th>\n",
       "      <th></th>\n",
       "      <th></th>\n",
       "      <th></th>\n",
       "      <th></th>\n",
       "      <th></th>\n",
       "    </tr>\n",
       "  </thead>\n",
       "  <tbody>\n",
       "    <tr>\n",
       "      <th>2018-03-01 00:00:00</th>\n",
       "      <td>124</td>\n",
       "      <td>60</td>\n",
       "      <td>3</td>\n",
       "      <td>0</td>\n",
       "      <td>3</td>\n",
       "      <td>1</td>\n",
       "      <td>NaN</td>\n",
       "      <td>NaN</td>\n",
       "      <td>NaN</td>\n",
       "      <td>NaN</td>\n",
       "      <td>NaN</td>\n",
       "      <td>NaN</td>\n",
       "      <td>NaN</td>\n",
       "      <td>NaN</td>\n",
       "      <td>NaN</td>\n",
       "      <td>NaN</td>\n",
       "      <td>NaN</td>\n",
       "      <td>NaN</td>\n",
       "      <td>NaN</td>\n",
       "      <td>NaN</td>\n",
       "      <td>NaN</td>\n",
       "      <td>NaN</td>\n",
       "      <td>NaN</td>\n",
       "      <td>NaN</td>\n",
       "      <td>NaN</td>\n",
       "      <td>NaN</td>\n",
       "      <td>NaN</td>\n",
       "      <td>NaN</td>\n",
       "      <td>NaN</td>\n",
       "      <td>NaN</td>\n",
       "      <td>NaN</td>\n",
       "      <td>NaN</td>\n",
       "      <td>NaN</td>\n",
       "      <td>NaN</td>\n",
       "      <td>NaN</td>\n",
       "      <td>NaN</td>\n",
       "      <td>NaN</td>\n",
       "      <td>NaN</td>\n",
       "      <td>NaN</td>\n",
       "      <td>NaN</td>\n",
       "      <td>NaN</td>\n",
       "      <td>NaN</td>\n",
       "      <td>NaN</td>\n",
       "      <td>NaN</td>\n",
       "      <td>NaN</td>\n",
       "      <td>NaN</td>\n",
       "      <td>NaN</td>\n",
       "      <td>NaN</td>\n",
       "      <td>NaN</td>\n",
       "      <td>NaN</td>\n",
       "      <td>NaN</td>\n",
       "      <td>NaN</td>\n",
       "      <td>NaN</td>\n",
       "      <td>NaN</td>\n",
       "      <td>NaN</td>\n",
       "      <td>NaN</td>\n",
       "      <td>NaN</td>\n",
       "      <td>NaN</td>\n",
       "      <td>NaN</td>\n",
       "      <td>NaN</td>\n",
       "      <td>NaN</td>\n",
       "      <td>NaN</td>\n",
       "      <td>NaN</td>\n",
       "      <td>NaN</td>\n",
       "      <td>NaN</td>\n",
       "      <td>NaN</td>\n",
       "      <td>NaN</td>\n",
       "      <td>NaN</td>\n",
       "      <td>NaN</td>\n",
       "      <td>NaN</td>\n",
       "      <td>NaN</td>\n",
       "      <td>NaN</td>\n",
       "      <td>NaN</td>\n",
       "      <td>NaN</td>\n",
       "      <td>NaN</td>\n",
       "      <td>NaN</td>\n",
       "      <td>NaN</td>\n",
       "      <td>NaN</td>\n",
       "      <td>NaN</td>\n",
       "      <td>NaN</td>\n",
       "      <td>NaN</td>\n",
       "      <td>NaN</td>\n",
       "      <td>NaN</td>\n",
       "      <td>NaN</td>\n",
       "      <td>NaN</td>\n",
       "      <td>NaN</td>\n",
       "      <td>NaN</td>\n",
       "      <td>NaN</td>\n",
       "      <td>NaN</td>\n",
       "      <td>NaN</td>\n",
       "      <td>NaN</td>\n",
       "      <td>NaN</td>\n",
       "      <td>NaN</td>\n",
       "      <td>NaN</td>\n",
       "      <td>NaN</td>\n",
       "      <td>NaN</td>\n",
       "      <td>NaN</td>\n",
       "      <td>NaN</td>\n",
       "      <td>NaN</td>\n",
       "      <td>NaN</td>\n",
       "      <td>NaN</td>\n",
       "      <td>NaN</td>\n",
       "      <td>NaN</td>\n",
       "    </tr>\n",
       "    <tr>\n",
       "      <th>2018-03-01 01:00:00</th>\n",
       "      <td>85</td>\n",
       "      <td>60</td>\n",
       "      <td>3</td>\n",
       "      <td>1</td>\n",
       "      <td>3</td>\n",
       "      <td>1</td>\n",
       "      <td>124.000</td>\n",
       "      <td>NaN</td>\n",
       "      <td>NaN</td>\n",
       "      <td>NaN</td>\n",
       "      <td>NaN</td>\n",
       "      <td>NaN</td>\n",
       "      <td>NaN</td>\n",
       "      <td>NaN</td>\n",
       "      <td>NaN</td>\n",
       "      <td>NaN</td>\n",
       "      <td>NaN</td>\n",
       "      <td>NaN</td>\n",
       "      <td>NaN</td>\n",
       "      <td>NaN</td>\n",
       "      <td>NaN</td>\n",
       "      <td>NaN</td>\n",
       "      <td>NaN</td>\n",
       "      <td>NaN</td>\n",
       "      <td>NaN</td>\n",
       "      <td>NaN</td>\n",
       "      <td>NaN</td>\n",
       "      <td>NaN</td>\n",
       "      <td>NaN</td>\n",
       "      <td>NaN</td>\n",
       "      <td>NaN</td>\n",
       "      <td>NaN</td>\n",
       "      <td>NaN</td>\n",
       "      <td>NaN</td>\n",
       "      <td>NaN</td>\n",
       "      <td>NaN</td>\n",
       "      <td>NaN</td>\n",
       "      <td>NaN</td>\n",
       "      <td>NaN</td>\n",
       "      <td>NaN</td>\n",
       "      <td>NaN</td>\n",
       "      <td>NaN</td>\n",
       "      <td>NaN</td>\n",
       "      <td>NaN</td>\n",
       "      <td>NaN</td>\n",
       "      <td>NaN</td>\n",
       "      <td>NaN</td>\n",
       "      <td>NaN</td>\n",
       "      <td>NaN</td>\n",
       "      <td>NaN</td>\n",
       "      <td>NaN</td>\n",
       "      <td>NaN</td>\n",
       "      <td>NaN</td>\n",
       "      <td>NaN</td>\n",
       "      <td>NaN</td>\n",
       "      <td>NaN</td>\n",
       "      <td>NaN</td>\n",
       "      <td>NaN</td>\n",
       "      <td>NaN</td>\n",
       "      <td>NaN</td>\n",
       "      <td>NaN</td>\n",
       "      <td>NaN</td>\n",
       "      <td>NaN</td>\n",
       "      <td>NaN</td>\n",
       "      <td>NaN</td>\n",
       "      <td>NaN</td>\n",
       "      <td>NaN</td>\n",
       "      <td>NaN</td>\n",
       "      <td>NaN</td>\n",
       "      <td>NaN</td>\n",
       "      <td>NaN</td>\n",
       "      <td>NaN</td>\n",
       "      <td>NaN</td>\n",
       "      <td>NaN</td>\n",
       "      <td>NaN</td>\n",
       "      <td>NaN</td>\n",
       "      <td>NaN</td>\n",
       "      <td>NaN</td>\n",
       "      <td>NaN</td>\n",
       "      <td>NaN</td>\n",
       "      <td>NaN</td>\n",
       "      <td>NaN</td>\n",
       "      <td>NaN</td>\n",
       "      <td>NaN</td>\n",
       "      <td>NaN</td>\n",
       "      <td>NaN</td>\n",
       "      <td>NaN</td>\n",
       "      <td>NaN</td>\n",
       "      <td>NaN</td>\n",
       "      <td>NaN</td>\n",
       "      <td>NaN</td>\n",
       "      <td>NaN</td>\n",
       "      <td>NaN</td>\n",
       "      <td>NaN</td>\n",
       "      <td>NaN</td>\n",
       "      <td>NaN</td>\n",
       "      <td>NaN</td>\n",
       "      <td>NaN</td>\n",
       "      <td>NaN</td>\n",
       "      <td>NaN</td>\n",
       "      <td>NaN</td>\n",
       "      <td>NaN</td>\n",
       "      <td>NaN</td>\n",
       "    </tr>\n",
       "    <tr>\n",
       "      <th>2018-03-01 02:00:00</th>\n",
       "      <td>71</td>\n",
       "      <td>60</td>\n",
       "      <td>3</td>\n",
       "      <td>2</td>\n",
       "      <td>3</td>\n",
       "      <td>1</td>\n",
       "      <td>85.000</td>\n",
       "      <td>124.000</td>\n",
       "      <td>NaN</td>\n",
       "      <td>NaN</td>\n",
       "      <td>NaN</td>\n",
       "      <td>NaN</td>\n",
       "      <td>NaN</td>\n",
       "      <td>NaN</td>\n",
       "      <td>NaN</td>\n",
       "      <td>NaN</td>\n",
       "      <td>NaN</td>\n",
       "      <td>NaN</td>\n",
       "      <td>NaN</td>\n",
       "      <td>NaN</td>\n",
       "      <td>NaN</td>\n",
       "      <td>NaN</td>\n",
       "      <td>NaN</td>\n",
       "      <td>NaN</td>\n",
       "      <td>NaN</td>\n",
       "      <td>NaN</td>\n",
       "      <td>NaN</td>\n",
       "      <td>NaN</td>\n",
       "      <td>NaN</td>\n",
       "      <td>NaN</td>\n",
       "      <td>NaN</td>\n",
       "      <td>NaN</td>\n",
       "      <td>NaN</td>\n",
       "      <td>NaN</td>\n",
       "      <td>NaN</td>\n",
       "      <td>NaN</td>\n",
       "      <td>NaN</td>\n",
       "      <td>NaN</td>\n",
       "      <td>NaN</td>\n",
       "      <td>NaN</td>\n",
       "      <td>NaN</td>\n",
       "      <td>NaN</td>\n",
       "      <td>NaN</td>\n",
       "      <td>NaN</td>\n",
       "      <td>NaN</td>\n",
       "      <td>NaN</td>\n",
       "      <td>NaN</td>\n",
       "      <td>NaN</td>\n",
       "      <td>NaN</td>\n",
       "      <td>NaN</td>\n",
       "      <td>NaN</td>\n",
       "      <td>NaN</td>\n",
       "      <td>NaN</td>\n",
       "      <td>NaN</td>\n",
       "      <td>NaN</td>\n",
       "      <td>NaN</td>\n",
       "      <td>NaN</td>\n",
       "      <td>NaN</td>\n",
       "      <td>NaN</td>\n",
       "      <td>NaN</td>\n",
       "      <td>NaN</td>\n",
       "      <td>NaN</td>\n",
       "      <td>NaN</td>\n",
       "      <td>NaN</td>\n",
       "      <td>NaN</td>\n",
       "      <td>NaN</td>\n",
       "      <td>NaN</td>\n",
       "      <td>NaN</td>\n",
       "      <td>NaN</td>\n",
       "      <td>NaN</td>\n",
       "      <td>NaN</td>\n",
       "      <td>NaN</td>\n",
       "      <td>NaN</td>\n",
       "      <td>NaN</td>\n",
       "      <td>NaN</td>\n",
       "      <td>NaN</td>\n",
       "      <td>NaN</td>\n",
       "      <td>NaN</td>\n",
       "      <td>NaN</td>\n",
       "      <td>NaN</td>\n",
       "      <td>NaN</td>\n",
       "      <td>NaN</td>\n",
       "      <td>NaN</td>\n",
       "      <td>NaN</td>\n",
       "      <td>NaN</td>\n",
       "      <td>NaN</td>\n",
       "      <td>NaN</td>\n",
       "      <td>NaN</td>\n",
       "      <td>NaN</td>\n",
       "      <td>NaN</td>\n",
       "      <td>NaN</td>\n",
       "      <td>NaN</td>\n",
       "      <td>NaN</td>\n",
       "      <td>NaN</td>\n",
       "      <td>NaN</td>\n",
       "      <td>NaN</td>\n",
       "      <td>NaN</td>\n",
       "      <td>NaN</td>\n",
       "      <td>NaN</td>\n",
       "      <td>NaN</td>\n",
       "      <td>NaN</td>\n",
       "      <td>NaN</td>\n",
       "      <td>NaN</td>\n",
       "    </tr>\n",
       "    <tr>\n",
       "      <th>2018-03-01 03:00:00</th>\n",
       "      <td>66</td>\n",
       "      <td>60</td>\n",
       "      <td>3</td>\n",
       "      <td>3</td>\n",
       "      <td>3</td>\n",
       "      <td>1</td>\n",
       "      <td>71.000</td>\n",
       "      <td>85.000</td>\n",
       "      <td>124.000</td>\n",
       "      <td>NaN</td>\n",
       "      <td>NaN</td>\n",
       "      <td>NaN</td>\n",
       "      <td>NaN</td>\n",
       "      <td>NaN</td>\n",
       "      <td>NaN</td>\n",
       "      <td>NaN</td>\n",
       "      <td>NaN</td>\n",
       "      <td>NaN</td>\n",
       "      <td>NaN</td>\n",
       "      <td>NaN</td>\n",
       "      <td>NaN</td>\n",
       "      <td>NaN</td>\n",
       "      <td>NaN</td>\n",
       "      <td>NaN</td>\n",
       "      <td>NaN</td>\n",
       "      <td>NaN</td>\n",
       "      <td>NaN</td>\n",
       "      <td>NaN</td>\n",
       "      <td>NaN</td>\n",
       "      <td>NaN</td>\n",
       "      <td>NaN</td>\n",
       "      <td>NaN</td>\n",
       "      <td>NaN</td>\n",
       "      <td>NaN</td>\n",
       "      <td>NaN</td>\n",
       "      <td>NaN</td>\n",
       "      <td>NaN</td>\n",
       "      <td>NaN</td>\n",
       "      <td>NaN</td>\n",
       "      <td>NaN</td>\n",
       "      <td>NaN</td>\n",
       "      <td>NaN</td>\n",
       "      <td>NaN</td>\n",
       "      <td>NaN</td>\n",
       "      <td>NaN</td>\n",
       "      <td>NaN</td>\n",
       "      <td>NaN</td>\n",
       "      <td>NaN</td>\n",
       "      <td>NaN</td>\n",
       "      <td>NaN</td>\n",
       "      <td>NaN</td>\n",
       "      <td>NaN</td>\n",
       "      <td>NaN</td>\n",
       "      <td>NaN</td>\n",
       "      <td>NaN</td>\n",
       "      <td>NaN</td>\n",
       "      <td>NaN</td>\n",
       "      <td>NaN</td>\n",
       "      <td>NaN</td>\n",
       "      <td>NaN</td>\n",
       "      <td>NaN</td>\n",
       "      <td>NaN</td>\n",
       "      <td>NaN</td>\n",
       "      <td>NaN</td>\n",
       "      <td>NaN</td>\n",
       "      <td>NaN</td>\n",
       "      <td>NaN</td>\n",
       "      <td>NaN</td>\n",
       "      <td>NaN</td>\n",
       "      <td>NaN</td>\n",
       "      <td>NaN</td>\n",
       "      <td>NaN</td>\n",
       "      <td>NaN</td>\n",
       "      <td>NaN</td>\n",
       "      <td>NaN</td>\n",
       "      <td>NaN</td>\n",
       "      <td>NaN</td>\n",
       "      <td>NaN</td>\n",
       "      <td>NaN</td>\n",
       "      <td>NaN</td>\n",
       "      <td>NaN</td>\n",
       "      <td>NaN</td>\n",
       "      <td>NaN</td>\n",
       "      <td>NaN</td>\n",
       "      <td>NaN</td>\n",
       "      <td>NaN</td>\n",
       "      <td>NaN</td>\n",
       "      <td>NaN</td>\n",
       "      <td>NaN</td>\n",
       "      <td>NaN</td>\n",
       "      <td>NaN</td>\n",
       "      <td>NaN</td>\n",
       "      <td>NaN</td>\n",
       "      <td>NaN</td>\n",
       "      <td>NaN</td>\n",
       "      <td>NaN</td>\n",
       "      <td>NaN</td>\n",
       "      <td>NaN</td>\n",
       "      <td>NaN</td>\n",
       "      <td>NaN</td>\n",
       "      <td>NaN</td>\n",
       "      <td>NaN</td>\n",
       "      <td>NaN</td>\n",
       "    </tr>\n",
       "    <tr>\n",
       "      <th>2018-03-01 04:00:00</th>\n",
       "      <td>43</td>\n",
       "      <td>60</td>\n",
       "      <td>3</td>\n",
       "      <td>4</td>\n",
       "      <td>3</td>\n",
       "      <td>1</td>\n",
       "      <td>66.000</td>\n",
       "      <td>71.000</td>\n",
       "      <td>85.000</td>\n",
       "      <td>124.000</td>\n",
       "      <td>NaN</td>\n",
       "      <td>NaN</td>\n",
       "      <td>NaN</td>\n",
       "      <td>NaN</td>\n",
       "      <td>NaN</td>\n",
       "      <td>NaN</td>\n",
       "      <td>NaN</td>\n",
       "      <td>NaN</td>\n",
       "      <td>NaN</td>\n",
       "      <td>NaN</td>\n",
       "      <td>NaN</td>\n",
       "      <td>NaN</td>\n",
       "      <td>NaN</td>\n",
       "      <td>NaN</td>\n",
       "      <td>NaN</td>\n",
       "      <td>NaN</td>\n",
       "      <td>NaN</td>\n",
       "      <td>NaN</td>\n",
       "      <td>NaN</td>\n",
       "      <td>NaN</td>\n",
       "      <td>NaN</td>\n",
       "      <td>NaN</td>\n",
       "      <td>NaN</td>\n",
       "      <td>NaN</td>\n",
       "      <td>NaN</td>\n",
       "      <td>NaN</td>\n",
       "      <td>NaN</td>\n",
       "      <td>NaN</td>\n",
       "      <td>NaN</td>\n",
       "      <td>NaN</td>\n",
       "      <td>NaN</td>\n",
       "      <td>NaN</td>\n",
       "      <td>NaN</td>\n",
       "      <td>NaN</td>\n",
       "      <td>NaN</td>\n",
       "      <td>NaN</td>\n",
       "      <td>NaN</td>\n",
       "      <td>NaN</td>\n",
       "      <td>NaN</td>\n",
       "      <td>NaN</td>\n",
       "      <td>NaN</td>\n",
       "      <td>NaN</td>\n",
       "      <td>NaN</td>\n",
       "      <td>NaN</td>\n",
       "      <td>NaN</td>\n",
       "      <td>NaN</td>\n",
       "      <td>NaN</td>\n",
       "      <td>NaN</td>\n",
       "      <td>NaN</td>\n",
       "      <td>NaN</td>\n",
       "      <td>NaN</td>\n",
       "      <td>NaN</td>\n",
       "      <td>NaN</td>\n",
       "      <td>NaN</td>\n",
       "      <td>NaN</td>\n",
       "      <td>NaN</td>\n",
       "      <td>NaN</td>\n",
       "      <td>NaN</td>\n",
       "      <td>NaN</td>\n",
       "      <td>NaN</td>\n",
       "      <td>NaN</td>\n",
       "      <td>NaN</td>\n",
       "      <td>NaN</td>\n",
       "      <td>NaN</td>\n",
       "      <td>NaN</td>\n",
       "      <td>NaN</td>\n",
       "      <td>NaN</td>\n",
       "      <td>NaN</td>\n",
       "      <td>NaN</td>\n",
       "      <td>NaN</td>\n",
       "      <td>NaN</td>\n",
       "      <td>NaN</td>\n",
       "      <td>NaN</td>\n",
       "      <td>NaN</td>\n",
       "      <td>NaN</td>\n",
       "      <td>NaN</td>\n",
       "      <td>NaN</td>\n",
       "      <td>NaN</td>\n",
       "      <td>NaN</td>\n",
       "      <td>NaN</td>\n",
       "      <td>NaN</td>\n",
       "      <td>NaN</td>\n",
       "      <td>NaN</td>\n",
       "      <td>NaN</td>\n",
       "      <td>NaN</td>\n",
       "      <td>NaN</td>\n",
       "      <td>NaN</td>\n",
       "      <td>NaN</td>\n",
       "      <td>NaN</td>\n",
       "      <td>NaN</td>\n",
       "      <td>NaN</td>\n",
       "      <td>NaN</td>\n",
       "      <td>NaN</td>\n",
       "    </tr>\n",
       "  </tbody>\n",
       "</table>\n",
       "</div>"
      ],
      "text/plain": [
       "                     num_orders  dayofyear  weekday  hour  month  day   lag_1  \\\n",
       "datetime                                                                        \n",
       "2018-03-01 00:00:00         124         60        3     0      3    1     NaN   \n",
       "2018-03-01 01:00:00          85         60        3     1      3    1 124.000   \n",
       "2018-03-01 02:00:00          71         60        3     2      3    1  85.000   \n",
       "2018-03-01 03:00:00          66         60        3     3      3    1  71.000   \n",
       "2018-03-01 04:00:00          43         60        3     4      3    1  66.000   \n",
       "\n",
       "                      lag_2   lag_3   lag_4  lag_5  lag_6  lag_7  lag_8  \\\n",
       "datetime                                                                  \n",
       "2018-03-01 00:00:00     NaN     NaN     NaN    NaN    NaN    NaN    NaN   \n",
       "2018-03-01 01:00:00     NaN     NaN     NaN    NaN    NaN    NaN    NaN   \n",
       "2018-03-01 02:00:00 124.000     NaN     NaN    NaN    NaN    NaN    NaN   \n",
       "2018-03-01 03:00:00  85.000 124.000     NaN    NaN    NaN    NaN    NaN   \n",
       "2018-03-01 04:00:00  71.000  85.000 124.000    NaN    NaN    NaN    NaN   \n",
       "\n",
       "                     lag_9  lag_10  lag_11  lag_12  lag_13  lag_14  lag_15  \\\n",
       "datetime                                                                     \n",
       "2018-03-01 00:00:00    NaN     NaN     NaN     NaN     NaN     NaN     NaN   \n",
       "2018-03-01 01:00:00    NaN     NaN     NaN     NaN     NaN     NaN     NaN   \n",
       "2018-03-01 02:00:00    NaN     NaN     NaN     NaN     NaN     NaN     NaN   \n",
       "2018-03-01 03:00:00    NaN     NaN     NaN     NaN     NaN     NaN     NaN   \n",
       "2018-03-01 04:00:00    NaN     NaN     NaN     NaN     NaN     NaN     NaN   \n",
       "\n",
       "                     lag_16  lag_17  lag_18  lag_19  lag_20  lag_21  lag_22  \\\n",
       "datetime                                                                      \n",
       "2018-03-01 00:00:00     NaN     NaN     NaN     NaN     NaN     NaN     NaN   \n",
       "2018-03-01 01:00:00     NaN     NaN     NaN     NaN     NaN     NaN     NaN   \n",
       "2018-03-01 02:00:00     NaN     NaN     NaN     NaN     NaN     NaN     NaN   \n",
       "2018-03-01 03:00:00     NaN     NaN     NaN     NaN     NaN     NaN     NaN   \n",
       "2018-03-01 04:00:00     NaN     NaN     NaN     NaN     NaN     NaN     NaN   \n",
       "\n",
       "                     lag_23  lag_24  lag_25  lag_26  lag_27  lag_28  lag_29  \\\n",
       "datetime                                                                      \n",
       "2018-03-01 00:00:00     NaN     NaN     NaN     NaN     NaN     NaN     NaN   \n",
       "2018-03-01 01:00:00     NaN     NaN     NaN     NaN     NaN     NaN     NaN   \n",
       "2018-03-01 02:00:00     NaN     NaN     NaN     NaN     NaN     NaN     NaN   \n",
       "2018-03-01 03:00:00     NaN     NaN     NaN     NaN     NaN     NaN     NaN   \n",
       "2018-03-01 04:00:00     NaN     NaN     NaN     NaN     NaN     NaN     NaN   \n",
       "\n",
       "                     lag_30  lag_31  lag_32  lag_33  lag_34  lag_35  lag_36  \\\n",
       "datetime                                                                      \n",
       "2018-03-01 00:00:00     NaN     NaN     NaN     NaN     NaN     NaN     NaN   \n",
       "2018-03-01 01:00:00     NaN     NaN     NaN     NaN     NaN     NaN     NaN   \n",
       "2018-03-01 02:00:00     NaN     NaN     NaN     NaN     NaN     NaN     NaN   \n",
       "2018-03-01 03:00:00     NaN     NaN     NaN     NaN     NaN     NaN     NaN   \n",
       "2018-03-01 04:00:00     NaN     NaN     NaN     NaN     NaN     NaN     NaN   \n",
       "\n",
       "                     lag_37  lag_38  lag_39  lag_40  lag_41  lag_42  lag_43  \\\n",
       "datetime                                                                      \n",
       "2018-03-01 00:00:00     NaN     NaN     NaN     NaN     NaN     NaN     NaN   \n",
       "2018-03-01 01:00:00     NaN     NaN     NaN     NaN     NaN     NaN     NaN   \n",
       "2018-03-01 02:00:00     NaN     NaN     NaN     NaN     NaN     NaN     NaN   \n",
       "2018-03-01 03:00:00     NaN     NaN     NaN     NaN     NaN     NaN     NaN   \n",
       "2018-03-01 04:00:00     NaN     NaN     NaN     NaN     NaN     NaN     NaN   \n",
       "\n",
       "                     lag_44  lag_45  lag_46  lag_47  lag_48  lag_49  lag_50  \\\n",
       "datetime                                                                      \n",
       "2018-03-01 00:00:00     NaN     NaN     NaN     NaN     NaN     NaN     NaN   \n",
       "2018-03-01 01:00:00     NaN     NaN     NaN     NaN     NaN     NaN     NaN   \n",
       "2018-03-01 02:00:00     NaN     NaN     NaN     NaN     NaN     NaN     NaN   \n",
       "2018-03-01 03:00:00     NaN     NaN     NaN     NaN     NaN     NaN     NaN   \n",
       "2018-03-01 04:00:00     NaN     NaN     NaN     NaN     NaN     NaN     NaN   \n",
       "\n",
       "                     lag_51  lag_52  lag_53  lag_54  lag_55  lag_56  lag_57  \\\n",
       "datetime                                                                      \n",
       "2018-03-01 00:00:00     NaN     NaN     NaN     NaN     NaN     NaN     NaN   \n",
       "2018-03-01 01:00:00     NaN     NaN     NaN     NaN     NaN     NaN     NaN   \n",
       "2018-03-01 02:00:00     NaN     NaN     NaN     NaN     NaN     NaN     NaN   \n",
       "2018-03-01 03:00:00     NaN     NaN     NaN     NaN     NaN     NaN     NaN   \n",
       "2018-03-01 04:00:00     NaN     NaN     NaN     NaN     NaN     NaN     NaN   \n",
       "\n",
       "                     lag_58  lag_59  lag_60  lag_61  lag_62  lag_63  lag_64  \\\n",
       "datetime                                                                      \n",
       "2018-03-01 00:00:00     NaN     NaN     NaN     NaN     NaN     NaN     NaN   \n",
       "2018-03-01 01:00:00     NaN     NaN     NaN     NaN     NaN     NaN     NaN   \n",
       "2018-03-01 02:00:00     NaN     NaN     NaN     NaN     NaN     NaN     NaN   \n",
       "2018-03-01 03:00:00     NaN     NaN     NaN     NaN     NaN     NaN     NaN   \n",
       "2018-03-01 04:00:00     NaN     NaN     NaN     NaN     NaN     NaN     NaN   \n",
       "\n",
       "                     lag_65  lag_66  lag_67  lag_68  lag_69  lag_70  lag_71  \\\n",
       "datetime                                                                      \n",
       "2018-03-01 00:00:00     NaN     NaN     NaN     NaN     NaN     NaN     NaN   \n",
       "2018-03-01 01:00:00     NaN     NaN     NaN     NaN     NaN     NaN     NaN   \n",
       "2018-03-01 02:00:00     NaN     NaN     NaN     NaN     NaN     NaN     NaN   \n",
       "2018-03-01 03:00:00     NaN     NaN     NaN     NaN     NaN     NaN     NaN   \n",
       "2018-03-01 04:00:00     NaN     NaN     NaN     NaN     NaN     NaN     NaN   \n",
       "\n",
       "                     lag_72  lag_73  lag_74  lag_75  lag_76  lag_77  lag_78  \\\n",
       "datetime                                                                      \n",
       "2018-03-01 00:00:00     NaN     NaN     NaN     NaN     NaN     NaN     NaN   \n",
       "2018-03-01 01:00:00     NaN     NaN     NaN     NaN     NaN     NaN     NaN   \n",
       "2018-03-01 02:00:00     NaN     NaN     NaN     NaN     NaN     NaN     NaN   \n",
       "2018-03-01 03:00:00     NaN     NaN     NaN     NaN     NaN     NaN     NaN   \n",
       "2018-03-01 04:00:00     NaN     NaN     NaN     NaN     NaN     NaN     NaN   \n",
       "\n",
       "                     lag_79  lag_80  lag_81  lag_82  lag_83  lag_84  lag_85  \\\n",
       "datetime                                                                      \n",
       "2018-03-01 00:00:00     NaN     NaN     NaN     NaN     NaN     NaN     NaN   \n",
       "2018-03-01 01:00:00     NaN     NaN     NaN     NaN     NaN     NaN     NaN   \n",
       "2018-03-01 02:00:00     NaN     NaN     NaN     NaN     NaN     NaN     NaN   \n",
       "2018-03-01 03:00:00     NaN     NaN     NaN     NaN     NaN     NaN     NaN   \n",
       "2018-03-01 04:00:00     NaN     NaN     NaN     NaN     NaN     NaN     NaN   \n",
       "\n",
       "                     lag_86  lag_87  lag_88  lag_89  lag_90  lag_91  lag_92  \\\n",
       "datetime                                                                      \n",
       "2018-03-01 00:00:00     NaN     NaN     NaN     NaN     NaN     NaN     NaN   \n",
       "2018-03-01 01:00:00     NaN     NaN     NaN     NaN     NaN     NaN     NaN   \n",
       "2018-03-01 02:00:00     NaN     NaN     NaN     NaN     NaN     NaN     NaN   \n",
       "2018-03-01 03:00:00     NaN     NaN     NaN     NaN     NaN     NaN     NaN   \n",
       "2018-03-01 04:00:00     NaN     NaN     NaN     NaN     NaN     NaN     NaN   \n",
       "\n",
       "                     lag_93  lag_94  lag_95  lag_96  rolling_mean  \n",
       "datetime                                                           \n",
       "2018-03-01 00:00:00     NaN     NaN     NaN     NaN           NaN  \n",
       "2018-03-01 01:00:00     NaN     NaN     NaN     NaN           NaN  \n",
       "2018-03-01 02:00:00     NaN     NaN     NaN     NaN           NaN  \n",
       "2018-03-01 03:00:00     NaN     NaN     NaN     NaN           NaN  \n",
       "2018-03-01 04:00:00     NaN     NaN     NaN     NaN           NaN  "
      ]
     },
     "execution_count": 25,
     "metadata": {},
     "output_type": "execute_result"
    }
   ],
   "source": [
    "df.head(5)"
   ]
  },
  {
   "cell_type": "code",
   "execution_count": 26,
   "metadata": {},
   "outputs": [],
   "source": [
    "df = df.dropna()"
   ]
  },
  {
   "cell_type": "code",
   "execution_count": 27,
   "metadata": {},
   "outputs": [
    {
     "data": {
      "text/plain": [
       "(4320, 103)"
      ]
     },
     "execution_count": 27,
     "metadata": {},
     "output_type": "execute_result"
    }
   ],
   "source": [
    "df.shape"
   ]
  },
  {
   "cell_type": "code",
   "execution_count": 28,
   "metadata": {},
   "outputs": [],
   "source": [
    "# highlight the features and the target value, divide the samples into test and training\n",
    "features = df.drop(['num_orders'], axis=1)\n",
    "target = df['num_orders']\n",
    "\n",
    "X_train, X_test, y_train, y_test = train_test_split(features, target, test_size=0.2, random_state=12345, shuffle=False) \n",
    "X_valid, X_test, y_valid, y_test = train_test_split(X_test, y_test, test_size=0.5, random_state=12345, shuffle=False) \n"
   ]
  },
  {
   "cell_type": "code",
   "execution_count": 29,
   "metadata": {},
   "outputs": [
    {
     "data": {
      "text/plain": [
       "(3456, 102)"
      ]
     },
     "execution_count": 29,
     "metadata": {},
     "output_type": "execute_result"
    }
   ],
   "source": [
    "X_train.shape\n"
   ]
  },
  {
   "cell_type": "code",
   "execution_count": 30,
   "metadata": {},
   "outputs": [
    {
     "data": {
      "text/plain": [
       "(3456,)"
      ]
     },
     "execution_count": 30,
     "metadata": {},
     "output_type": "execute_result"
    }
   ],
   "source": [
    "y_train.shape"
   ]
  },
  {
   "cell_type": "code",
   "execution_count": 31,
   "metadata": {},
   "outputs": [],
   "source": [
    "col_transformer = make_column_transformer(\n",
    "    (StandardScaler(), X_train.columns),remainder='passthrough'\n",
    ")"
   ]
  },
  {
   "cell_type": "markdown",
   "metadata": {},
   "source": [
    "### Elastic Net"
   ]
  },
  {
   "cell_type": "code",
   "execution_count": 32,
   "metadata": {},
   "outputs": [],
   "source": [
    "# Create a splitter object for the time series\n",
    "tscv = TimeSeriesSplit(n_splits=5)\n",
    "elastic_model= ElasticNetCV(l1_ratio=[0.1, 0.5, 0.7, 0.9, 0.95, 0.99, 1],cv=tscv, max_iter=100000)"
   ]
  },
  {
   "cell_type": "code",
   "execution_count": 33,
   "metadata": {},
   "outputs": [
    {
     "name": "stdout",
     "output_type": "stream",
     "text": [
      "CPU times: total: 93.8 ms\n",
      "Wall time: 1.3 s\n"
     ]
    },
    {
     "data": {
      "text/html": [
       "<style>#sk-container-id-1 {color: black;background-color: white;}#sk-container-id-1 pre{padding: 0;}#sk-container-id-1 div.sk-toggleable {background-color: white;}#sk-container-id-1 label.sk-toggleable__label {cursor: pointer;display: block;width: 100%;margin-bottom: 0;padding: 0.3em;box-sizing: border-box;text-align: center;}#sk-container-id-1 label.sk-toggleable__label-arrow:before {content: \"▸\";float: left;margin-right: 0.25em;color: #696969;}#sk-container-id-1 label.sk-toggleable__label-arrow:hover:before {color: black;}#sk-container-id-1 div.sk-estimator:hover label.sk-toggleable__label-arrow:before {color: black;}#sk-container-id-1 div.sk-toggleable__content {max-height: 0;max-width: 0;overflow: hidden;text-align: left;background-color: #f0f8ff;}#sk-container-id-1 div.sk-toggleable__content pre {margin: 0.2em;color: black;border-radius: 0.25em;background-color: #f0f8ff;}#sk-container-id-1 input.sk-toggleable__control:checked~div.sk-toggleable__content {max-height: 200px;max-width: 100%;overflow: auto;}#sk-container-id-1 input.sk-toggleable__control:checked~label.sk-toggleable__label-arrow:before {content: \"▾\";}#sk-container-id-1 div.sk-estimator input.sk-toggleable__control:checked~label.sk-toggleable__label {background-color: #d4ebff;}#sk-container-id-1 div.sk-label input.sk-toggleable__control:checked~label.sk-toggleable__label {background-color: #d4ebff;}#sk-container-id-1 input.sk-hidden--visually {border: 0;clip: rect(1px 1px 1px 1px);clip: rect(1px, 1px, 1px, 1px);height: 1px;margin: -1px;overflow: hidden;padding: 0;position: absolute;width: 1px;}#sk-container-id-1 div.sk-estimator {font-family: monospace;background-color: #f0f8ff;border: 1px dotted black;border-radius: 0.25em;box-sizing: border-box;margin-bottom: 0.5em;}#sk-container-id-1 div.sk-estimator:hover {background-color: #d4ebff;}#sk-container-id-1 div.sk-parallel-item::after {content: \"\";width: 100%;border-bottom: 1px solid gray;flex-grow: 1;}#sk-container-id-1 div.sk-label:hover label.sk-toggleable__label {background-color: #d4ebff;}#sk-container-id-1 div.sk-serial::before {content: \"\";position: absolute;border-left: 1px solid gray;box-sizing: border-box;top: 0;bottom: 0;left: 50%;z-index: 0;}#sk-container-id-1 div.sk-serial {display: flex;flex-direction: column;align-items: center;background-color: white;padding-right: 0.2em;padding-left: 0.2em;position: relative;}#sk-container-id-1 div.sk-item {position: relative;z-index: 1;}#sk-container-id-1 div.sk-parallel {display: flex;align-items: stretch;justify-content: center;background-color: white;position: relative;}#sk-container-id-1 div.sk-item::before, #sk-container-id-1 div.sk-parallel-item::before {content: \"\";position: absolute;border-left: 1px solid gray;box-sizing: border-box;top: 0;bottom: 0;left: 50%;z-index: -1;}#sk-container-id-1 div.sk-parallel-item {display: flex;flex-direction: column;z-index: 1;position: relative;background-color: white;}#sk-container-id-1 div.sk-parallel-item:first-child::after {align-self: flex-end;width: 50%;}#sk-container-id-1 div.sk-parallel-item:last-child::after {align-self: flex-start;width: 50%;}#sk-container-id-1 div.sk-parallel-item:only-child::after {width: 0;}#sk-container-id-1 div.sk-dashed-wrapped {border: 1px dashed gray;margin: 0 0.4em 0.5em 0.4em;box-sizing: border-box;padding-bottom: 0.4em;background-color: white;}#sk-container-id-1 div.sk-label label {font-family: monospace;font-weight: bold;display: inline-block;line-height: 1.2em;}#sk-container-id-1 div.sk-label-container {text-align: center;}#sk-container-id-1 div.sk-container {/* jupyter's `normalize.less` sets `[hidden] { display: none; }` but bootstrap.min.css set `[hidden] { display: none !important; }` so we also need the `!important` here to be able to override the default hidden behavior on the sphinx rendered scikit-learn.org. See: https://github.com/scikit-learn/scikit-learn/issues/21755 */display: inline-block !important;position: relative;}#sk-container-id-1 div.sk-text-repr-fallback {display: none;}</style><div id=\"sk-container-id-1\" class=\"sk-top-container\"><div class=\"sk-text-repr-fallback\"><pre>ElasticNetCV(cv=TimeSeriesSplit(gap=0, max_train_size=None, n_splits=5, test_size=None),\n",
       "             l1_ratio=[0.1, 0.5, 0.7, 0.9, 0.95, 0.99, 1], max_iter=100000)</pre><b>In a Jupyter environment, please rerun this cell to show the HTML representation or trust the notebook. <br />On GitHub, the HTML representation is unable to render, please try loading this page with nbviewer.org.</b></div><div class=\"sk-container\" hidden><div class=\"sk-item\"><div class=\"sk-estimator sk-toggleable\"><input class=\"sk-toggleable__control sk-hidden--visually\" id=\"sk-estimator-id-1\" type=\"checkbox\" checked><label for=\"sk-estimator-id-1\" class=\"sk-toggleable__label sk-toggleable__label-arrow\">ElasticNetCV</label><div class=\"sk-toggleable__content\"><pre>ElasticNetCV(cv=TimeSeriesSplit(gap=0, max_train_size=None, n_splits=5, test_size=None),\n",
       "             l1_ratio=[0.1, 0.5, 0.7, 0.9, 0.95, 0.99, 1], max_iter=100000)</pre></div></div></div></div></div>"
      ],
      "text/plain": [
       "ElasticNetCV(cv=TimeSeriesSplit(gap=0, max_train_size=None, n_splits=5, test_size=None),\n",
       "             l1_ratio=[0.1, 0.5, 0.7, 0.9, 0.95, 0.99, 1], max_iter=100000)"
      ]
     },
     "execution_count": 33,
     "metadata": {},
     "output_type": "execute_result"
    }
   ],
   "source": [
    "%%time\n",
    "elastic_model.fit(X_train, y_train)"
   ]
  },
  {
   "cell_type": "code",
   "execution_count": 34,
   "metadata": {},
   "outputs": [
    {
     "data": {
      "text/plain": [
       "0.5"
      ]
     },
     "execution_count": 34,
     "metadata": {},
     "output_type": "execute_result"
    }
   ],
   "source": [
    "elastic_model.l1_ratio_"
   ]
  },
  {
   "cell_type": "code",
   "execution_count": 35,
   "metadata": {},
   "outputs": [
    {
     "name": "stdout",
     "output_type": "stream",
     "text": [
      "CPU times: total: 15.6 ms\n",
      "Wall time: 5.98 ms\n"
     ]
    }
   ],
   "source": [
    "%%time\n",
    "y_pred_elastic=elastic_model.predict(X_valid)"
   ]
  },
  {
   "cell_type": "code",
   "execution_count": 36,
   "metadata": {},
   "outputs": [
    {
     "name": "stdout",
     "output_type": "stream",
     "text": [
      "RMSE: 30.1760\n"
     ]
    }
   ],
   "source": [
    "rmse_elastic = mean_squared_error(y_valid, y_pred_elastic, squared=False)\n",
    "print(f'RMSE: {rmse_elastic:.4f}')"
   ]
  },
  {
   "cell_type": "markdown",
   "metadata": {},
   "source": [
    "### LinearRegression()"
   ]
  },
  {
   "cell_type": "code",
   "execution_count": 39,
   "metadata": {},
   "outputs": [],
   "source": [
    "# Create a linear regression object\n",
    "model = LinearRegression()\n",
    "\n",
    "# Create a grid of parameters for the search\n",
    "param_grid = {\n",
    "    'fit_intercept': [True, False],\n",
    "    'normalize': [True, False]\n",
    "}\n",
    "\n",
    "# Create a GridSearchCV object to search for the best parameters\n",
    "gs_lr = GridSearchCV(estimator=model, param_grid=param_grid, cv=tscv, scoring='neg_root_mean_squared_error')"
   ]
  },
  {
   "cell_type": "code",
   "execution_count": 45,
   "metadata": {},
   "outputs": [
    {
     "name": "stdout",
     "output_type": "stream",
     "text": [
      "CPU times: total: 750 ms\n",
      "Wall time: 260 ms\n"
     ]
    },
    {
     "data": {
      "text/html": [
       "<style>#sk-container-id-4 {color: black;background-color: white;}#sk-container-id-4 pre{padding: 0;}#sk-container-id-4 div.sk-toggleable {background-color: white;}#sk-container-id-4 label.sk-toggleable__label {cursor: pointer;display: block;width: 100%;margin-bottom: 0;padding: 0.3em;box-sizing: border-box;text-align: center;}#sk-container-id-4 label.sk-toggleable__label-arrow:before {content: \"▸\";float: left;margin-right: 0.25em;color: #696969;}#sk-container-id-4 label.sk-toggleable__label-arrow:hover:before {color: black;}#sk-container-id-4 div.sk-estimator:hover label.sk-toggleable__label-arrow:before {color: black;}#sk-container-id-4 div.sk-toggleable__content {max-height: 0;max-width: 0;overflow: hidden;text-align: left;background-color: #f0f8ff;}#sk-container-id-4 div.sk-toggleable__content pre {margin: 0.2em;color: black;border-radius: 0.25em;background-color: #f0f8ff;}#sk-container-id-4 input.sk-toggleable__control:checked~div.sk-toggleable__content {max-height: 200px;max-width: 100%;overflow: auto;}#sk-container-id-4 input.sk-toggleable__control:checked~label.sk-toggleable__label-arrow:before {content: \"▾\";}#sk-container-id-4 div.sk-estimator input.sk-toggleable__control:checked~label.sk-toggleable__label {background-color: #d4ebff;}#sk-container-id-4 div.sk-label input.sk-toggleable__control:checked~label.sk-toggleable__label {background-color: #d4ebff;}#sk-container-id-4 input.sk-hidden--visually {border: 0;clip: rect(1px 1px 1px 1px);clip: rect(1px, 1px, 1px, 1px);height: 1px;margin: -1px;overflow: hidden;padding: 0;position: absolute;width: 1px;}#sk-container-id-4 div.sk-estimator {font-family: monospace;background-color: #f0f8ff;border: 1px dotted black;border-radius: 0.25em;box-sizing: border-box;margin-bottom: 0.5em;}#sk-container-id-4 div.sk-estimator:hover {background-color: #d4ebff;}#sk-container-id-4 div.sk-parallel-item::after {content: \"\";width: 100%;border-bottom: 1px solid gray;flex-grow: 1;}#sk-container-id-4 div.sk-label:hover label.sk-toggleable__label {background-color: #d4ebff;}#sk-container-id-4 div.sk-serial::before {content: \"\";position: absolute;border-left: 1px solid gray;box-sizing: border-box;top: 0;bottom: 0;left: 50%;z-index: 0;}#sk-container-id-4 div.sk-serial {display: flex;flex-direction: column;align-items: center;background-color: white;padding-right: 0.2em;padding-left: 0.2em;position: relative;}#sk-container-id-4 div.sk-item {position: relative;z-index: 1;}#sk-container-id-4 div.sk-parallel {display: flex;align-items: stretch;justify-content: center;background-color: white;position: relative;}#sk-container-id-4 div.sk-item::before, #sk-container-id-4 div.sk-parallel-item::before {content: \"\";position: absolute;border-left: 1px solid gray;box-sizing: border-box;top: 0;bottom: 0;left: 50%;z-index: -1;}#sk-container-id-4 div.sk-parallel-item {display: flex;flex-direction: column;z-index: 1;position: relative;background-color: white;}#sk-container-id-4 div.sk-parallel-item:first-child::after {align-self: flex-end;width: 50%;}#sk-container-id-4 div.sk-parallel-item:last-child::after {align-self: flex-start;width: 50%;}#sk-container-id-4 div.sk-parallel-item:only-child::after {width: 0;}#sk-container-id-4 div.sk-dashed-wrapped {border: 1px dashed gray;margin: 0 0.4em 0.5em 0.4em;box-sizing: border-box;padding-bottom: 0.4em;background-color: white;}#sk-container-id-4 div.sk-label label {font-family: monospace;font-weight: bold;display: inline-block;line-height: 1.2em;}#sk-container-id-4 div.sk-label-container {text-align: center;}#sk-container-id-4 div.sk-container {/* jupyter's `normalize.less` sets `[hidden] { display: none; }` but bootstrap.min.css set `[hidden] { display: none !important; }` so we also need the `!important` here to be able to override the default hidden behavior on the sphinx rendered scikit-learn.org. See: https://github.com/scikit-learn/scikit-learn/issues/21755 */display: inline-block !important;position: relative;}#sk-container-id-4 div.sk-text-repr-fallback {display: none;}</style><div id=\"sk-container-id-4\" class=\"sk-top-container\"><div class=\"sk-text-repr-fallback\"><pre>GridSearchCV(cv=TimeSeriesSplit(gap=0, max_train_size=None, n_splits=5, test_size=None),\n",
       "             estimator=LinearRegression(),\n",
       "             param_grid={&#x27;fit_intercept&#x27;: [True, False],\n",
       "                         &#x27;normalize&#x27;: [True, False]},\n",
       "             scoring=&#x27;neg_root_mean_squared_error&#x27;)</pre><b>In a Jupyter environment, please rerun this cell to show the HTML representation or trust the notebook. <br />On GitHub, the HTML representation is unable to render, please try loading this page with nbviewer.org.</b></div><div class=\"sk-container\" hidden><div class=\"sk-item sk-dashed-wrapped\"><div class=\"sk-label-container\"><div class=\"sk-label sk-toggleable\"><input class=\"sk-toggleable__control sk-hidden--visually\" id=\"sk-estimator-id-8\" type=\"checkbox\" ><label for=\"sk-estimator-id-8\" class=\"sk-toggleable__label sk-toggleable__label-arrow\">GridSearchCV</label><div class=\"sk-toggleable__content\"><pre>GridSearchCV(cv=TimeSeriesSplit(gap=0, max_train_size=None, n_splits=5, test_size=None),\n",
       "             estimator=LinearRegression(),\n",
       "             param_grid={&#x27;fit_intercept&#x27;: [True, False],\n",
       "                         &#x27;normalize&#x27;: [True, False]},\n",
       "             scoring=&#x27;neg_root_mean_squared_error&#x27;)</pre></div></div></div><div class=\"sk-parallel\"><div class=\"sk-parallel-item\"><div class=\"sk-item\"><div class=\"sk-label-container\"><div class=\"sk-label sk-toggleable\"><input class=\"sk-toggleable__control sk-hidden--visually\" id=\"sk-estimator-id-9\" type=\"checkbox\" ><label for=\"sk-estimator-id-9\" class=\"sk-toggleable__label sk-toggleable__label-arrow\">estimator: LinearRegression</label><div class=\"sk-toggleable__content\"><pre>LinearRegression()</pre></div></div></div><div class=\"sk-serial\"><div class=\"sk-item\"><div class=\"sk-estimator sk-toggleable\"><input class=\"sk-toggleable__control sk-hidden--visually\" id=\"sk-estimator-id-10\" type=\"checkbox\" ><label for=\"sk-estimator-id-10\" class=\"sk-toggleable__label sk-toggleable__label-arrow\">LinearRegression</label><div class=\"sk-toggleable__content\"><pre>LinearRegression()</pre></div></div></div></div></div></div></div></div></div></div>"
      ],
      "text/plain": [
       "GridSearchCV(cv=TimeSeriesSplit(gap=0, max_train_size=None, n_splits=5, test_size=None),\n",
       "             estimator=LinearRegression(),\n",
       "             param_grid={'fit_intercept': [True, False],\n",
       "                         'normalize': [True, False]},\n",
       "             scoring='neg_root_mean_squared_error')"
      ]
     },
     "execution_count": 45,
     "metadata": {},
     "output_type": "execute_result"
    }
   ],
   "source": [
    "%%time\n",
    "# Train the model on the training data\n",
    "gs_lr.fit(X_train, y_train)"
   ]
  },
  {
   "cell_type": "code",
   "execution_count": 46,
   "metadata": {},
   "outputs": [],
   "source": [
    "# Get the best model and predict values ​​for the validation data\n",
    "best_model = gs_lr.best_estimator_"
   ]
  },
  {
   "cell_type": "code",
   "execution_count": 47,
   "metadata": {},
   "outputs": [
    {
     "name": "stdout",
     "output_type": "stream",
     "text": [
      "CPU times: total: 0 ns\n",
      "Wall time: 0 ns\n"
     ]
    }
   ],
   "source": [
    "%time\n",
    "y_pred_lr = best_model.predict(X_valid)"
   ]
  },
  {
   "cell_type": "code",
   "execution_count": 48,
   "metadata": {},
   "outputs": [
    {
     "name": "stdout",
     "output_type": "stream",
     "text": [
      "Best model parameters: {'fit_intercept': False, 'normalize': True}\n",
      "RMSE: 30.3259\n"
     ]
    }
   ],
   "source": [
    "# Calculate RMSE for received predictions\n",
    "rmse_lr = mean_squared_error(y_valid, y_pred_lr, squared=False)\n",
    "# Display results\n",
    "print(f'Best model parameters: {gs_lr.best_params_}')\n",
    "print(f'RMSE: {rmse_lr:.4f}')"
   ]
  },
  {
   "cell_type": "markdown",
   "metadata": {},
   "source": [
    "### LGBMRegressor()"
   ]
  },
  {
   "cell_type": "code",
   "execution_count": 49,
   "metadata": {},
   "outputs": [],
   "source": [
    "# Create an LGBMRegressor model object and a pipeline object\n",
    "model = LGBMRegressor(random_state=RANDOM_STATE, n_jobs=-164)\n",
    "\n",
    "# Create a grid of parameters for the search\n",
    "param_grid_lgbm = {\n",
    "    'learning_rate': [0.01, 0.03, 0.1],\n",
    "    'max_depth': [-1, 5, 10, 15],\n",
    "    'num_leaves': [10, 20, 30, 40, 50]\n",
    "}\n",
    "\n",
    "\n",
    "# Create a GridSearchCV object to search for the best parameters\n",
    "gs_lgbm = GridSearchCV(estimator=model, param_grid=param_grid_lgbm, cv=tscv, scoring='neg_root_mean_squared_error')"
   ]
  },
  {
   "cell_type": "code",
   "execution_count": 50,
   "metadata": {},
   "outputs": [
    {
     "name": "stdout",
     "output_type": "stream",
     "text": [
      "CPU times: total: 10min 23s\n",
      "Wall time: 1min 41s\n"
     ]
    },
    {
     "data": {
      "text/html": [
       "<style>#sk-container-id-5 {color: black;background-color: white;}#sk-container-id-5 pre{padding: 0;}#sk-container-id-5 div.sk-toggleable {background-color: white;}#sk-container-id-5 label.sk-toggleable__label {cursor: pointer;display: block;width: 100%;margin-bottom: 0;padding: 0.3em;box-sizing: border-box;text-align: center;}#sk-container-id-5 label.sk-toggleable__label-arrow:before {content: \"▸\";float: left;margin-right: 0.25em;color: #696969;}#sk-container-id-5 label.sk-toggleable__label-arrow:hover:before {color: black;}#sk-container-id-5 div.sk-estimator:hover label.sk-toggleable__label-arrow:before {color: black;}#sk-container-id-5 div.sk-toggleable__content {max-height: 0;max-width: 0;overflow: hidden;text-align: left;background-color: #f0f8ff;}#sk-container-id-5 div.sk-toggleable__content pre {margin: 0.2em;color: black;border-radius: 0.25em;background-color: #f0f8ff;}#sk-container-id-5 input.sk-toggleable__control:checked~div.sk-toggleable__content {max-height: 200px;max-width: 100%;overflow: auto;}#sk-container-id-5 input.sk-toggleable__control:checked~label.sk-toggleable__label-arrow:before {content: \"▾\";}#sk-container-id-5 div.sk-estimator input.sk-toggleable__control:checked~label.sk-toggleable__label {background-color: #d4ebff;}#sk-container-id-5 div.sk-label input.sk-toggleable__control:checked~label.sk-toggleable__label {background-color: #d4ebff;}#sk-container-id-5 input.sk-hidden--visually {border: 0;clip: rect(1px 1px 1px 1px);clip: rect(1px, 1px, 1px, 1px);height: 1px;margin: -1px;overflow: hidden;padding: 0;position: absolute;width: 1px;}#sk-container-id-5 div.sk-estimator {font-family: monospace;background-color: #f0f8ff;border: 1px dotted black;border-radius: 0.25em;box-sizing: border-box;margin-bottom: 0.5em;}#sk-container-id-5 div.sk-estimator:hover {background-color: #d4ebff;}#sk-container-id-5 div.sk-parallel-item::after {content: \"\";width: 100%;border-bottom: 1px solid gray;flex-grow: 1;}#sk-container-id-5 div.sk-label:hover label.sk-toggleable__label {background-color: #d4ebff;}#sk-container-id-5 div.sk-serial::before {content: \"\";position: absolute;border-left: 1px solid gray;box-sizing: border-box;top: 0;bottom: 0;left: 50%;z-index: 0;}#sk-container-id-5 div.sk-serial {display: flex;flex-direction: column;align-items: center;background-color: white;padding-right: 0.2em;padding-left: 0.2em;position: relative;}#sk-container-id-5 div.sk-item {position: relative;z-index: 1;}#sk-container-id-5 div.sk-parallel {display: flex;align-items: stretch;justify-content: center;background-color: white;position: relative;}#sk-container-id-5 div.sk-item::before, #sk-container-id-5 div.sk-parallel-item::before {content: \"\";position: absolute;border-left: 1px solid gray;box-sizing: border-box;top: 0;bottom: 0;left: 50%;z-index: -1;}#sk-container-id-5 div.sk-parallel-item {display: flex;flex-direction: column;z-index: 1;position: relative;background-color: white;}#sk-container-id-5 div.sk-parallel-item:first-child::after {align-self: flex-end;width: 50%;}#sk-container-id-5 div.sk-parallel-item:last-child::after {align-self: flex-start;width: 50%;}#sk-container-id-5 div.sk-parallel-item:only-child::after {width: 0;}#sk-container-id-5 div.sk-dashed-wrapped {border: 1px dashed gray;margin: 0 0.4em 0.5em 0.4em;box-sizing: border-box;padding-bottom: 0.4em;background-color: white;}#sk-container-id-5 div.sk-label label {font-family: monospace;font-weight: bold;display: inline-block;line-height: 1.2em;}#sk-container-id-5 div.sk-label-container {text-align: center;}#sk-container-id-5 div.sk-container {/* jupyter's `normalize.less` sets `[hidden] { display: none; }` but bootstrap.min.css set `[hidden] { display: none !important; }` so we also need the `!important` here to be able to override the default hidden behavior on the sphinx rendered scikit-learn.org. See: https://github.com/scikit-learn/scikit-learn/issues/21755 */display: inline-block !important;position: relative;}#sk-container-id-5 div.sk-text-repr-fallback {display: none;}</style><div id=\"sk-container-id-5\" class=\"sk-top-container\"><div class=\"sk-text-repr-fallback\"><pre>GridSearchCV(cv=TimeSeriesSplit(gap=0, max_train_size=None, n_splits=5, test_size=None),\n",
       "             estimator=LGBMRegressor(n_jobs=-164, random_state=42),\n",
       "             param_grid={&#x27;learning_rate&#x27;: [0.01, 0.03, 0.1],\n",
       "                         &#x27;max_depth&#x27;: [-1, 5, 10, 15],\n",
       "                         &#x27;num_leaves&#x27;: [10, 20, 30, 40, 50]},\n",
       "             scoring=&#x27;neg_root_mean_squared_error&#x27;)</pre><b>In a Jupyter environment, please rerun this cell to show the HTML representation or trust the notebook. <br />On GitHub, the HTML representation is unable to render, please try loading this page with nbviewer.org.</b></div><div class=\"sk-container\" hidden><div class=\"sk-item sk-dashed-wrapped\"><div class=\"sk-label-container\"><div class=\"sk-label sk-toggleable\"><input class=\"sk-toggleable__control sk-hidden--visually\" id=\"sk-estimator-id-11\" type=\"checkbox\" ><label for=\"sk-estimator-id-11\" class=\"sk-toggleable__label sk-toggleable__label-arrow\">GridSearchCV</label><div class=\"sk-toggleable__content\"><pre>GridSearchCV(cv=TimeSeriesSplit(gap=0, max_train_size=None, n_splits=5, test_size=None),\n",
       "             estimator=LGBMRegressor(n_jobs=-164, random_state=42),\n",
       "             param_grid={&#x27;learning_rate&#x27;: [0.01, 0.03, 0.1],\n",
       "                         &#x27;max_depth&#x27;: [-1, 5, 10, 15],\n",
       "                         &#x27;num_leaves&#x27;: [10, 20, 30, 40, 50]},\n",
       "             scoring=&#x27;neg_root_mean_squared_error&#x27;)</pre></div></div></div><div class=\"sk-parallel\"><div class=\"sk-parallel-item\"><div class=\"sk-item\"><div class=\"sk-label-container\"><div class=\"sk-label sk-toggleable\"><input class=\"sk-toggleable__control sk-hidden--visually\" id=\"sk-estimator-id-12\" type=\"checkbox\" ><label for=\"sk-estimator-id-12\" class=\"sk-toggleable__label sk-toggleable__label-arrow\">estimator: LGBMRegressor</label><div class=\"sk-toggleable__content\"><pre>LGBMRegressor(n_jobs=-164, random_state=42)</pre></div></div></div><div class=\"sk-serial\"><div class=\"sk-item\"><div class=\"sk-estimator sk-toggleable\"><input class=\"sk-toggleable__control sk-hidden--visually\" id=\"sk-estimator-id-13\" type=\"checkbox\" ><label for=\"sk-estimator-id-13\" class=\"sk-toggleable__label sk-toggleable__label-arrow\">LGBMRegressor</label><div class=\"sk-toggleable__content\"><pre>LGBMRegressor(n_jobs=-164, random_state=42)</pre></div></div></div></div></div></div></div></div></div></div>"
      ],
      "text/plain": [
       "GridSearchCV(cv=TimeSeriesSplit(gap=0, max_train_size=None, n_splits=5, test_size=None),\n",
       "             estimator=LGBMRegressor(n_jobs=-164, random_state=42),\n",
       "             param_grid={'learning_rate': [0.01, 0.03, 0.1],\n",
       "                         'max_depth': [-1, 5, 10, 15],\n",
       "                         'num_leaves': [10, 20, 30, 40, 50]},\n",
       "             scoring='neg_root_mean_squared_error')"
      ]
     },
     "execution_count": 50,
     "metadata": {},
     "output_type": "execute_result"
    }
   ],
   "source": [
    "%%time\n",
    "# Use GridSearchCV to train the model on the training data and select the best parameters\n",
    "gs_lgbm.fit(X_train, y_train)\n"
   ]
  },
  {
   "cell_type": "code",
   "execution_count": 51,
   "metadata": {},
   "outputs": [
    {
     "name": "stdout",
     "output_type": "stream",
     "text": [
      "CPU times: total: 93.8 ms\n",
      "Wall time: 4.99 ms\n"
     ]
    }
   ],
   "source": [
    "%%time\n",
    "# Use the best model to predict on the validation data\n",
    "y_pred_cv_lgbm = gs_lgbm.predict(X_valid)"
   ]
  },
  {
   "cell_type": "code",
   "execution_count": 52,
   "metadata": {},
   "outputs": [
    {
     "name": "stdout",
     "output_type": "stream",
     "text": [
      "Best model parameters: {'learning_rate': 0.1, 'max_depth': 5, 'num_leaves': 10}\n",
      "RMSE with cross-validation: 30.9806\n"
     ]
    }
   ],
   "source": [
    "# Calculate RMSE on the entire dataset\n",
    "rmse_cv_lgbm = mean_squared_error(y_valid, y_pred_cv_lgbm, squared=False)\n",
    "\n",
    "# Display results\n",
    "print(f'Best model parameters: {gs_lgbm.best_params_}')\n",
    "print(f'RMSE with cross-validation: {rmse_cv_lgbm:.4f}')"
   ]
  },
  {
   "cell_type": "markdown",
   "metadata": {},
   "source": [
    "### Choosing the best model"
   ]
  },
  {
   "cell_type": "markdown",
   "metadata": {},
   "source": [
    "Let's create a pivot table that includes the studied models"
   ]
  },
  {
   "cell_type": "code",
   "execution_count": 53,
   "metadata": {},
   "outputs": [
    {
     "ename": "SyntaxError",
     "evalue": "invalid syntax (1118645415.py, line 9)",
     "output_type": "error",
     "traceback": [
      "\u001b[1;36m  Input \u001b[1;32mIn [53]\u001b[1;36m\u001b[0m\n\u001b[1;33m    408],\u001b[0m\n\u001b[1;37m    ^\u001b[0m\n\u001b[1;31mSyntaxError\u001b[0m\u001b[1;31m:\u001b[0m invalid syntax\n"
     ]
    }
   ],
   "source": [
    "index = ['Elastic Net',\n",
    "         'LinearRegression',\n",
    "         'LGBMRegressor']\n",
    "table = {'RMSE':[rmse_elastic,\n",
    "                rmse_lr,\n",
    "                rmse_cv_lgbm],\n",
    "        'Training time, sec':[5.52,\n",
    "                               1.75\n",
    "                               408],\n",
    "        'Prediction time, sec':[0.482,\n",
    "                                   0,\n",
    "                                   0.438]}\n",
    "\n",
    "scores_table = pd.DataFrame(data=table, index=index)\n",
    "\n",
    "scores_table"
   ]
  },
  {
   "cell_type": "markdown",
   "metadata": {},
   "source": [
    "All three models show good results. Best RMSE Shows Elastic Net/"
   ]
  },
  {
   "cell_type": "markdown",
   "metadata": {},
   "source": [
    "## Testing"
   ]
  },
  {
   "cell_type": "code",
   "execution_count": 54,
   "metadata": {},
   "outputs": [],
   "source": [
    "# check the prediction of the best model on the test data\n",
    "y_pred_elastic_test=elastic_model.predict(X_test)"
   ]
  },
  {
   "cell_type": "code",
   "execution_count": 55,
   "metadata": {},
   "outputs": [
    {
     "name": "stdout",
     "output_type": "stream",
     "text": [
      "RMSE: 41.3007\n"
     ]
    }
   ],
   "source": [
    "rmse_elastic = mean_squared_error(y_test, y_pred_elastic_test, squared=False)\n",
    "print(f'RMSE: {rmse_elastic:.4f}')"
   ]
  },
  {
   "cell_type": "markdown",
   "metadata": {},
   "source": [
    "RMSE on test data is slightly worse, but within reasonable limits. This value also satisfies the requirements of the task.\n",
    "\n",
    "Now compare with a stub that predicts a value from the last known value"
   ]
  },
  {
   "cell_type": "code",
   "execution_count": 56,
   "metadata": {},
   "outputs": [
    {
     "name": "stdout",
     "output_type": "stream",
     "text": [
      "RMSE estimate by last value: 59.24173641389433\n"
     ]
    }
   ],
   "source": [
    "df_test = pd.concat([X_test, y_test], axis=1)\n",
    "predicted_previous = df_test['num_orders'].shift()\n",
    "predicted_previous.shape\n",
    "predicted_previous.iloc[0] = y_test.iloc[-1]\n",
    "rmse_previous = mean_squared_error(y_test, predicted_previous)**0.5\n",
    "print(\"RMSE estimate by last value:\", rmse_previous )"
   ]
  },
  {
   "cell_type": "markdown",
   "metadata": {},
   "source": [
    "The result of the stub is worse, which means that our model is adequate.\n",
    "\n",
    "Now let's visualize our results."
   ]
  },
  {
   "cell_type": "code",
   "execution_count": 59,
   "metadata": {},
   "outputs": [
    {
     "data": {
      "image/png": "[encoded data removed]",
      "text/plain": [
       "<Figure size 1224x504 with 1 Axes>"
      ]
     },
     "metadata": {
      "needs_background": "light"
     },
     "output_type": "display_data"
    }
   ],
   "source": [
    "fig, ax = plt.subplots(figsize=(17, 7))\n",
    "\n",
    "# add title, axis labels\n",
    "ax.set_title('Trend')\n",
    "ax.set_ylabel('Number of orders')\n",
    "ax.set_xlabel('Date')\n",
    "\n",
    "# adding charts\n",
    "plt.plot(y_test.index, y_test, 'c-', label='Actual orders')\n",
    "plt.plot(y_test.index, y_pred_elastic_test, 'y-', label='Predicted orders')\n",
    "\n",
    "# add legend\n",
    "plt.legend(loc='upper left')\n",
    "\n",
    "# plot output\n",
    "plt.show()"
   ]
  },
  {
   "cell_type": "code",
   "execution_count": null,
   "metadata": {},
   "outputs": [],
   "source": []
  }
 ],
 "metadata": {
  "ExecuteTimeLog": [
   {
    "duration": 1580,
    "start_time": "2023-03-07T21:11:44.280Z"
   },
   {
    "duration": 144,
    "start_time": "2023-03-07T21:12:02.378Z"
   },
   {
    "duration": 52,
    "start_time": "2023-03-07T21:12:28.939Z"
   },
   {
    "duration": 48,
    "start_time": "2023-03-07T21:12:36.674Z"
   },
   {
    "duration": 131,
    "start_time": "2023-03-07T21:13:25.963Z"
   },
   {
    "duration": 27,
    "start_time": "2023-03-07T21:13:46.023Z"
   },
   {
    "duration": 92,
    "start_time": "2023-03-07T21:14:02.584Z"
   },
   {
    "duration": 19,
    "start_time": "2023-03-07T21:14:26.107Z"
   },
   {
    "duration": 10,
    "start_time": "2023-03-07T21:14:42.359Z"
   },
   {
    "duration": 4,
    "start_time": "2023-03-07T21:15:16.115Z"
   },
   {
    "duration": 299,
    "start_time": "2023-03-07T21:15:38.864Z"
   },
   {
    "duration": 295,
    "start_time": "2023-03-07T21:16:31.031Z"
   },
   {
    "duration": 2016,
    "start_time": "2023-03-08T07:09:54.732Z"
   },
   {
    "duration": 201,
    "start_time": "2023-03-08T07:09:56.749Z"
   },
   {
    "duration": 38,
    "start_time": "2023-03-08T07:09:56.952Z"
   },
   {
    "duration": 20,
    "start_time": "2023-03-08T07:09:56.997Z"
   },
   {
    "duration": 12,
    "start_time": "2023-03-08T07:09:57.442Z"
   },
   {
    "duration": 4,
    "start_time": "2023-03-08T07:09:58.850Z"
   },
   {
    "duration": 332,
    "start_time": "2023-03-08T07:09:59.992Z"
   },
   {
    "duration": 420,
    "start_time": "2023-03-08T07:10:01.782Z"
   },
   {
    "duration": 143,
    "start_time": "2023-03-08T07:14:52.748Z"
   },
   {
    "duration": 26,
    "start_time": "2023-03-08T07:15:17.300Z"
   },
   {
    "duration": 15,
    "start_time": "2023-03-08T07:15:22.080Z"
   },
   {
    "duration": 10,
    "start_time": "2023-03-08T07:19:51.104Z"
   },
   {
    "duration": 10,
    "start_time": "2023-03-08T07:20:15.793Z"
   },
   {
    "duration": 153,
    "start_time": "2023-03-08T07:20:27.793Z"
   },
   {
    "duration": 28,
    "start_time": "2023-03-08T07:23:50.291Z"
   },
   {
    "duration": 249,
    "start_time": "2023-03-08T07:27:50.842Z"
   },
   {
    "duration": 237,
    "start_time": "2023-03-08T07:51:46.969Z"
   },
   {
    "duration": 453,
    "start_time": "2023-03-08T07:53:57.723Z"
   },
   {
    "duration": 513,
    "start_time": "2023-03-08T07:54:19.751Z"
   },
   {
    "duration": 343,
    "start_time": "2023-03-08T07:54:31.970Z"
   },
   {
    "duration": 390,
    "start_time": "2023-03-08T07:54:47.227Z"
   },
   {
    "duration": 352,
    "start_time": "2023-03-08T07:55:02.399Z"
   },
   {
    "duration": 315,
    "start_time": "2023-03-08T07:55:57.725Z"
   },
   {
    "duration": 410,
    "start_time": "2023-03-08T07:56:34.386Z"
   },
   {
    "duration": 1571,
    "start_time": "2023-03-08T07:56:46.337Z"
   },
   {
    "duration": 69,
    "start_time": "2023-03-08T07:56:47.910Z"
   },
   {
    "duration": 35,
    "start_time": "2023-03-08T07:56:47.981Z"
   },
   {
    "duration": 27,
    "start_time": "2023-03-08T07:56:48.018Z"
   },
   {
    "duration": 20,
    "start_time": "2023-03-08T07:56:48.062Z"
   },
   {
    "duration": 17,
    "start_time": "2023-03-08T07:56:48.084Z"
   },
   {
    "duration": 303,
    "start_time": "2023-03-08T07:56:48.103Z"
   },
   {
    "duration": 369,
    "start_time": "2023-03-08T07:56:48.409Z"
   },
   {
    "duration": 182,
    "start_time": "2023-03-08T07:56:48.780Z"
   },
   {
    "duration": 259,
    "start_time": "2023-03-08T07:56:48.964Z"
   },
   {
    "duration": 343,
    "start_time": "2023-03-08T07:58:22.195Z"
   },
   {
    "duration": 1955,
    "start_time": "2023-03-08T07:58:54.381Z"
   },
   {
    "duration": 91,
    "start_time": "2023-03-08T07:58:56.338Z"
   },
   {
    "duration": 39,
    "start_time": "2023-03-08T07:58:56.432Z"
   },
   {
    "duration": 27,
    "start_time": "2023-03-08T07:58:56.473Z"
   },
   {
    "duration": 26,
    "start_time": "2023-03-08T07:58:56.503Z"
   },
   {
    "duration": 4,
    "start_time": "2023-03-08T07:58:56.532Z"
   },
   {
    "duration": 304,
    "start_time": "2023-03-08T07:58:56.538Z"
   },
   {
    "duration": 339,
    "start_time": "2023-03-08T07:58:56.845Z"
   },
   {
    "duration": 203,
    "start_time": "2023-03-08T07:58:57.186Z"
   },
   {
    "duration": 290,
    "start_time": "2023-03-08T07:58:57.391Z"
   },
   {
    "duration": 492,
    "start_time": "2023-03-08T08:00:43.455Z"
   },
   {
    "duration": 744,
    "start_time": "2023-03-08T08:01:07.104Z"
   },
   {
    "duration": 1744,
    "start_time": "2023-03-08T08:01:19.490Z"
   },
   {
    "duration": 88,
    "start_time": "2023-03-08T08:01:21.236Z"
   },
   {
    "duration": 35,
    "start_time": "2023-03-08T08:01:21.327Z"
   },
   {
    "duration": 25,
    "start_time": "2023-03-08T08:01:21.364Z"
   },
   {
    "duration": 33,
    "start_time": "2023-03-08T08:01:21.391Z"
   },
   {
    "duration": 5,
    "start_time": "2023-03-08T08:01:21.426Z"
   },
   {
    "duration": 603,
    "start_time": "2023-03-08T08:01:21.433Z"
   },
   {
    "duration": 416,
    "start_time": "2023-03-08T08:01:22.038Z"
   },
   {
    "duration": 212,
    "start_time": "2023-03-08T08:01:22.455Z"
   },
   {
    "duration": 299,
    "start_time": "2023-03-08T08:01:22.680Z"
   },
   {
    "duration": 148,
    "start_time": "2023-03-08T08:01:22.980Z"
   },
   {
    "duration": 621,
    "start_time": "2023-03-08T08:01:43.691Z"
   },
   {
    "duration": 547,
    "start_time": "2023-03-08T08:02:01.682Z"
   },
   {
    "duration": 304,
    "start_time": "2023-03-08T08:02:21.533Z"
   },
   {
    "duration": 330,
    "start_time": "2023-03-08T08:02:43.820Z"
   },
   {
    "duration": 1645,
    "start_time": "2023-03-08T08:02:50.438Z"
   },
   {
    "duration": 61,
    "start_time": "2023-03-08T08:02:52.086Z"
   },
   {
    "duration": 36,
    "start_time": "2023-03-08T08:02:52.149Z"
   },
   {
    "duration": 68,
    "start_time": "2023-03-08T08:02:52.189Z"
   },
   {
    "duration": 41,
    "start_time": "2023-03-08T08:02:52.261Z"
   },
   {
    "duration": 16,
    "start_time": "2023-03-08T08:02:52.305Z"
   },
   {
    "duration": 398,
    "start_time": "2023-03-08T08:02:52.322Z"
   },
   {
    "duration": 347,
    "start_time": "2023-03-08T08:02:52.722Z"
   },
   {
    "duration": 229,
    "start_time": "2023-03-08T08:02:53.073Z"
   },
   {
    "duration": 293,
    "start_time": "2023-03-08T08:02:53.304Z"
   },
   {
    "duration": 139,
    "start_time": "2023-03-08T08:02:53.598Z"
   },
   {
    "duration": 40,
    "start_time": "2023-03-08T08:05:37.156Z"
   },
   {
    "duration": 258,
    "start_time": "2023-03-08T08:07:12.938Z"
   },
   {
    "duration": 49,
    "start_time": "2023-03-08T08:08:18.351Z"
   },
   {
    "duration": 31,
    "start_time": "2023-03-08T08:08:38.758Z"
   },
   {
    "duration": 254,
    "start_time": "2023-03-08T08:08:57.157Z"
   },
   {
    "duration": 254,
    "start_time": "2023-03-08T08:09:11.340Z"
   },
   {
    "duration": 260,
    "start_time": "2023-03-08T08:09:58.473Z"
   },
   {
    "duration": 227,
    "start_time": "2023-03-08T08:13:14.307Z"
   },
   {
    "duration": 246,
    "start_time": "2023-03-08T08:13:46.556Z"
   },
   {
    "duration": 194,
    "start_time": "2023-03-08T08:17:30.181Z"
   },
   {
    "duration": 12,
    "start_time": "2023-03-08T08:58:32.033Z"
   },
   {
    "duration": 392,
    "start_time": "2023-03-08T09:00:23.841Z"
   },
   {
    "duration": 12,
    "start_time": "2023-03-08T09:00:43.846Z"
   },
   {
    "duration": 2340,
    "start_time": "2023-03-08T09:01:03.931Z"
   },
   {
    "duration": 5,
    "start_time": "2023-03-08T09:01:21.532Z"
   },
   {
    "duration": 5,
    "start_time": "2023-03-08T09:01:40.443Z"
   },
   {
    "duration": 1147,
    "start_time": "2023-03-08T09:04:28.814Z"
   },
   {
    "duration": 5,
    "start_time": "2023-03-08T09:04:29.964Z"
   },
   {
    "duration": 5,
    "start_time": "2023-03-08T09:04:30.159Z"
   },
   {
    "duration": 219,
    "start_time": "2023-03-08T09:13:46.088Z"
   },
   {
    "duration": 107,
    "start_time": "2023-03-08T09:14:12.296Z"
   },
   {
    "duration": 1463,
    "start_time": "2023-03-08T09:14:39.114Z"
   },
   {
    "duration": 56,
    "start_time": "2023-03-08T09:14:40.580Z"
   },
   {
    "duration": 26,
    "start_time": "2023-03-08T09:14:40.638Z"
   },
   {
    "duration": 18,
    "start_time": "2023-03-08T09:14:40.665Z"
   },
   {
    "duration": 13,
    "start_time": "2023-03-08T09:14:40.686Z"
   },
   {
    "duration": 10,
    "start_time": "2023-03-08T09:14:40.700Z"
   },
   {
    "duration": 364,
    "start_time": "2023-03-08T09:14:40.712Z"
   },
   {
    "duration": 318,
    "start_time": "2023-03-08T09:14:41.078Z"
   },
   {
    "duration": 173,
    "start_time": "2023-03-08T09:14:41.398Z"
   },
   {
    "duration": 252,
    "start_time": "2023-03-08T09:14:41.573Z"
   },
   {
    "duration": 223,
    "start_time": "2023-03-08T09:14:41.827Z"
   },
   {
    "duration": 214,
    "start_time": "2023-03-08T09:14:42.051Z"
   },
   {
    "duration": 191,
    "start_time": "2023-03-08T09:14:42.268Z"
   },
   {
    "duration": 352,
    "start_time": "2023-03-08T09:14:42.461Z"
   },
   {
    "duration": 241,
    "start_time": "2023-03-08T09:14:42.815Z"
   },
   {
    "duration": 13,
    "start_time": "2023-03-08T09:14:43.058Z"
   },
   {
    "duration": 1098,
    "start_time": "2023-03-08T09:14:43.073Z"
   },
   {
    "duration": 5,
    "start_time": "2023-03-08T09:14:44.259Z"
   },
   {
    "duration": 94,
    "start_time": "2023-03-08T09:14:44.266Z"
   },
   {
    "duration": 6,
    "start_time": "2023-03-08T09:15:02.892Z"
   },
   {
    "duration": 51,
    "start_time": "2023-03-08T09:15:03.171Z"
   },
   {
    "duration": 27,
    "start_time": "2023-03-08T09:15:03.451Z"
   },
   {
    "duration": 16,
    "start_time": "2023-03-08T09:15:03.961Z"
   },
   {
    "duration": 17,
    "start_time": "2023-03-08T09:15:04.223Z"
   },
   {
    "duration": 4,
    "start_time": "2023-03-08T09:15:04.731Z"
   },
   {
    "duration": 403,
    "start_time": "2023-03-08T09:15:05.268Z"
   },
   {
    "duration": 347,
    "start_time": "2023-03-08T09:15:05.763Z"
   },
   {
    "duration": 158,
    "start_time": "2023-03-08T09:15:06.303Z"
   },
   {
    "duration": 236,
    "start_time": "2023-03-08T09:15:06.643Z"
   },
   {
    "duration": 224,
    "start_time": "2023-03-08T09:15:07.051Z"
   },
   {
    "duration": 215,
    "start_time": "2023-03-08T09:15:07.393Z"
   },
   {
    "duration": 170,
    "start_time": "2023-03-08T09:15:08.534Z"
   },
   {
    "duration": 12,
    "start_time": "2023-03-08T09:15:21.391Z"
   },
   {
    "duration": 327,
    "start_time": "2023-03-08T09:16:46.220Z"
   },
   {
    "duration": 206,
    "start_time": "2023-03-08T09:16:47.411Z"
   },
   {
    "duration": 10,
    "start_time": "2023-03-08T09:18:14.582Z"
   },
   {
    "duration": 1567,
    "start_time": "2023-03-08T09:18:15.098Z"
   },
   {
    "duration": 90,
    "start_time": "2023-03-08T09:18:16.669Z"
   },
   {
    "duration": 4,
    "start_time": "2023-03-08T09:18:17.513Z"
   },
   {
    "duration": 9,
    "start_time": "2023-03-08T09:19:22.520Z"
   },
   {
    "duration": 1805,
    "start_time": "2023-03-08T09:19:23.258Z"
   },
   {
    "duration": 4,
    "start_time": "2023-03-08T09:19:26.119Z"
   },
   {
    "duration": 4,
    "start_time": "2023-03-08T09:19:27.084Z"
   },
   {
    "duration": 216,
    "start_time": "2023-03-08T09:21:13.746Z"
   },
   {
    "duration": 116,
    "start_time": "2023-03-08T09:21:16.605Z"
   },
   {
    "duration": 371,
    "start_time": "2023-03-08T09:21:25.272Z"
   },
   {
    "duration": 1602,
    "start_time": "2023-03-08T09:21:26.465Z"
   },
   {
    "duration": 89,
    "start_time": "2023-03-08T09:21:28.070Z"
   },
   {
    "duration": 1467,
    "start_time": "2023-03-08T09:21:33.648Z"
   },
   {
    "duration": 58,
    "start_time": "2023-03-08T09:21:35.117Z"
   },
   {
    "duration": 26,
    "start_time": "2023-03-08T09:21:35.177Z"
   },
   {
    "duration": 21,
    "start_time": "2023-03-08T09:21:35.205Z"
   },
   {
    "duration": 40,
    "start_time": "2023-03-08T09:21:35.228Z"
   },
   {
    "duration": 10,
    "start_time": "2023-03-08T09:21:35.270Z"
   },
   {
    "duration": 418,
    "start_time": "2023-03-08T09:21:35.282Z"
   },
   {
    "duration": 341,
    "start_time": "2023-03-08T09:21:35.703Z"
   },
   {
    "duration": 177,
    "start_time": "2023-03-08T09:21:36.046Z"
   },
   {
    "duration": 261,
    "start_time": "2023-03-08T09:21:36.226Z"
   },
   {
    "duration": 214,
    "start_time": "2023-03-08T09:21:36.489Z"
   },
   {
    "duration": 211,
    "start_time": "2023-03-08T09:21:36.705Z"
   },
   {
    "duration": 178,
    "start_time": "2023-03-08T09:21:36.918Z"
   },
   {
    "duration": 13,
    "start_time": "2023-03-08T09:21:37.098Z"
   },
   {
    "duration": 391,
    "start_time": "2023-03-08T09:21:37.113Z"
   },
   {
    "duration": 226,
    "start_time": "2023-03-08T09:21:37.506Z"
   },
   {
    "duration": 1237,
    "start_time": "2023-03-08T09:21:37.734Z"
   },
   {
    "duration": 88,
    "start_time": "2023-03-08T09:21:38.972Z"
   },
   {
    "duration": 10,
    "start_time": "2023-03-08T09:21:39.063Z"
   },
   {
    "duration": 2320,
    "start_time": "2023-03-08T09:25:54.151Z"
   },
   {
    "duration": 28,
    "start_time": "2023-03-08T09:26:01.937Z"
   },
   {
    "duration": 182,
    "start_time": "2023-03-08T09:27:59.550Z"
   },
   {
    "duration": 8,
    "start_time": "2023-03-08T09:28:47.423Z"
   },
   {
    "duration": 30,
    "start_time": "2023-03-08T09:28:54.136Z"
   },
   {
    "duration": 11,
    "start_time": "2023-03-08T09:30:24.672Z"
   },
   {
    "duration": 10,
    "start_time": "2023-03-08T09:30:56.063Z"
   },
   {
    "duration": 10,
    "start_time": "2023-03-08T09:31:02.921Z"
   },
   {
    "duration": 10,
    "start_time": "2023-03-08T09:31:47.766Z"
   },
   {
    "duration": 3,
    "start_time": "2023-03-08T09:33:41.679Z"
   },
   {
    "duration": 737,
    "start_time": "2023-03-08T09:33:54.170Z"
   },
   {
    "duration": 10,
    "start_time": "2023-03-08T09:34:11.264Z"
   },
   {
    "duration": 733,
    "start_time": "2023-03-08T09:34:21.791Z"
   },
   {
    "duration": 11,
    "start_time": "2023-03-08T09:36:25.865Z"
   },
   {
    "duration": 6,
    "start_time": "2023-03-08T09:37:05.743Z"
   },
   {
    "duration": 18,
    "start_time": "2023-03-08T09:37:11.547Z"
   },
   {
    "duration": 60,
    "start_time": "2023-03-08T09:39:06.233Z"
   },
   {
    "duration": 14,
    "start_time": "2023-03-08T09:39:20.403Z"
   },
   {
    "duration": 2503,
    "start_time": "2023-03-08T09:40:01.361Z"
   },
   {
    "duration": 3,
    "start_time": "2023-03-08T09:41:30.297Z"
   },
   {
    "duration": 43,
    "start_time": "2023-03-08T09:41:34.713Z"
   },
   {
    "duration": 13,
    "start_time": "2023-03-08T09:42:10.113Z"
   },
   {
    "duration": 6,
    "start_time": "2023-03-08T09:43:00.239Z"
   },
   {
    "duration": 5,
    "start_time": "2023-03-08T09:43:06.418Z"
   },
   {
    "duration": 4,
    "start_time": "2023-03-08T09:44:02.978Z"
   },
   {
    "duration": 2220,
    "start_time": "2023-03-08T09:44:03.535Z"
   },
   {
    "duration": 3,
    "start_time": "2023-03-08T09:45:01.602Z"
   },
   {
    "duration": 5,
    "start_time": "2023-03-08T09:45:02.466Z"
   },
   {
    "duration": 2104,
    "start_time": "2023-03-08T09:45:03.238Z"
   },
   {
    "duration": 23,
    "start_time": "2023-03-08T09:45:39.337Z"
   },
   {
    "duration": 3,
    "start_time": "2023-03-08T09:45:39.846Z"
   },
   {
    "duration": 3,
    "start_time": "2023-03-08T09:45:40.384Z"
   },
   {
    "duration": 1975,
    "start_time": "2023-03-08T09:45:41.187Z"
   },
   {
    "duration": 3,
    "start_time": "2023-03-08T09:46:35.641Z"
   },
   {
    "duration": 4,
    "start_time": "2023-03-08T09:46:36.255Z"
   },
   {
    "duration": 1936,
    "start_time": "2023-03-08T09:46:36.874Z"
   },
   {
    "duration": 5,
    "start_time": "2023-03-08T09:48:05.420Z"
   },
   {
    "duration": 50,
    "start_time": "2023-03-08T09:48:06.051Z"
   },
   {
    "duration": 3,
    "start_time": "2023-03-08T09:49:52.179Z"
   },
   {
    "duration": 4,
    "start_time": "2023-03-08T09:49:52.911Z"
   },
   {
    "duration": 88,
    "start_time": "2023-03-08T09:49:53.735Z"
   },
   {
    "duration": 42640,
    "start_time": "2023-03-08T09:50:40.624Z"
   },
   {
    "duration": 17,
    "start_time": "2023-03-08T09:52:34.256Z"
   },
   {
    "duration": 44258,
    "start_time": "2023-03-08T09:52:35.248Z"
   },
   {
    "duration": 5,
    "start_time": "2023-03-08T09:54:56.136Z"
   },
   {
    "duration": 19,
    "start_time": "2023-03-08T09:55:27.807Z"
   },
   {
    "duration": 3,
    "start_time": "2023-03-08T09:55:28.232Z"
   },
   {
    "duration": 4,
    "start_time": "2023-03-08T09:55:28.959Z"
   },
   {
    "duration": 33837,
    "start_time": "2023-03-08T09:55:29.725Z"
   },
   {
    "duration": 10,
    "start_time": "2023-03-08T09:56:44.201Z"
   },
   {
    "duration": 8,
    "start_time": "2023-03-08T09:57:13.753Z"
   },
   {
    "duration": 8968,
    "start_time": "2023-03-08T09:57:25.991Z"
   },
   {
    "duration": 3,
    "start_time": "2023-03-08T09:58:09.225Z"
   },
   {
    "duration": 9,
    "start_time": "2023-03-08T09:58:38.206Z"
   },
   {
    "duration": 16,
    "start_time": "2023-03-08T09:59:10.473Z"
   },
   {
    "duration": 3,
    "start_time": "2023-03-08T09:59:10.964Z"
   },
   {
    "duration": 3,
    "start_time": "2023-03-08T09:59:11.509Z"
   },
   {
    "duration": 10,
    "start_time": "2023-03-08T09:59:18.020Z"
   },
   {
    "duration": 4,
    "start_time": "2023-03-08T09:59:24.165Z"
   },
   {
    "duration": 34551,
    "start_time": "2023-03-08T09:59:24.710Z"
   },
   {
    "duration": 8097,
    "start_time": "2023-03-08T09:59:59.264Z"
   },
   {
    "duration": 4,
    "start_time": "2023-03-08T10:00:07.363Z"
   },
   {
    "duration": 102,
    "start_time": "2023-03-08T10:00:07.459Z"
   },
   {
    "duration": 35313,
    "start_time": "2023-03-08T10:00:18.953Z"
   },
   {
    "duration": 8700,
    "start_time": "2023-03-08T10:00:54.359Z"
   },
   {
    "duration": 7,
    "start_time": "2023-03-08T10:01:03.062Z"
   },
   {
    "duration": 96,
    "start_time": "2023-03-08T10:01:03.072Z"
   },
   {
    "duration": 1309,
    "start_time": "2023-03-08T12:40:41.237Z"
   },
   {
    "duration": 131,
    "start_time": "2023-03-08T12:40:42.548Z"
   },
   {
    "duration": 0,
    "start_time": "2023-03-08T12:40:42.682Z"
   },
   {
    "duration": 0,
    "start_time": "2023-03-08T12:40:42.683Z"
   },
   {
    "duration": 0,
    "start_time": "2023-03-08T12:40:42.685Z"
   },
   {
    "duration": 0,
    "start_time": "2023-03-08T12:40:42.686Z"
   },
   {
    "duration": 0,
    "start_time": "2023-03-08T12:40:42.687Z"
   },
   {
    "duration": 0,
    "start_time": "2023-03-08T12:40:42.689Z"
   },
   {
    "duration": 0,
    "start_time": "2023-03-08T12:40:42.690Z"
   },
   {
    "duration": 0,
    "start_time": "2023-03-08T12:40:42.691Z"
   },
   {
    "duration": 0,
    "start_time": "2023-03-08T12:40:42.693Z"
   },
   {
    "duration": 0,
    "start_time": "2023-03-08T12:40:42.694Z"
   },
   {
    "duration": 0,
    "start_time": "2023-03-08T12:40:42.696Z"
   },
   {
    "duration": 0,
    "start_time": "2023-03-08T12:40:42.697Z"
   },
   {
    "duration": 0,
    "start_time": "2023-03-08T12:40:42.698Z"
   },
   {
    "duration": 0,
    "start_time": "2023-03-08T12:40:42.700Z"
   },
   {
    "duration": 0,
    "start_time": "2023-03-08T12:40:42.702Z"
   },
   {
    "duration": 0,
    "start_time": "2023-03-08T12:40:42.703Z"
   },
   {
    "duration": 0,
    "start_time": "2023-03-08T12:40:42.741Z"
   },
   {
    "duration": 0,
    "start_time": "2023-03-08T12:40:42.743Z"
   },
   {
    "duration": 0,
    "start_time": "2023-03-08T12:40:42.744Z"
   },
   {
    "duration": 0,
    "start_time": "2023-03-08T12:40:42.745Z"
   },
   {
    "duration": 0,
    "start_time": "2023-03-08T12:40:42.747Z"
   },
   {
    "duration": 0,
    "start_time": "2023-03-08T12:40:42.748Z"
   },
   {
    "duration": 0,
    "start_time": "2023-03-08T12:40:42.750Z"
   },
   {
    "duration": 0,
    "start_time": "2023-03-08T12:40:42.751Z"
   },
   {
    "duration": 0,
    "start_time": "2023-03-08T12:40:42.752Z"
   },
   {
    "duration": 0,
    "start_time": "2023-03-08T12:40:42.754Z"
   },
   {
    "duration": 0,
    "start_time": "2023-03-08T12:40:42.755Z"
   },
   {
    "duration": 0,
    "start_time": "2023-03-08T12:40:42.757Z"
   },
   {
    "duration": 0,
    "start_time": "2023-03-08T12:40:42.758Z"
   },
   {
    "duration": 0,
    "start_time": "2023-03-08T12:40:42.760Z"
   },
   {
    "duration": 0,
    "start_time": "2023-03-08T12:40:42.761Z"
   },
   {
    "duration": 0,
    "start_time": "2023-03-08T12:40:42.763Z"
   },
   {
    "duration": 0,
    "start_time": "2023-03-08T12:40:42.764Z"
   },
   {
    "duration": 0,
    "start_time": "2023-03-08T12:40:42.765Z"
   },
   {
    "duration": 0,
    "start_time": "2023-03-08T12:40:42.767Z"
   },
   {
    "duration": 0,
    "start_time": "2023-03-08T12:40:42.768Z"
   },
   {
    "duration": 13,
    "start_time": "2023-03-08T12:44:01.878Z"
   },
   {
    "duration": 57,
    "start_time": "2023-03-08T12:44:49.435Z"
   },
   {
    "duration": 39,
    "start_time": "2023-03-08T12:44:52.295Z"
   },
   {
    "duration": 49,
    "start_time": "2023-03-08T12:44:55.626Z"
   },
   {
    "duration": 20,
    "start_time": "2023-03-08T12:44:57.919Z"
   },
   {
    "duration": 11,
    "start_time": "2023-03-08T12:45:05.204Z"
   },
   {
    "duration": 4,
    "start_time": "2023-03-08T12:45:10.210Z"
   },
   {
    "duration": 330,
    "start_time": "2023-03-08T12:45:11.607Z"
   },
   {
    "duration": 353,
    "start_time": "2023-03-08T12:45:12.900Z"
   },
   {
    "duration": 158,
    "start_time": "2023-03-08T12:45:14.106Z"
   },
   {
    "duration": 236,
    "start_time": "2023-03-08T12:45:14.624Z"
   },
   {
    "duration": 208,
    "start_time": "2023-03-08T12:45:15.192Z"
   },
   {
    "duration": 225,
    "start_time": "2023-03-08T12:45:15.715Z"
   },
   {
    "duration": 185,
    "start_time": "2023-03-08T12:45:16.122Z"
   },
   {
    "duration": 16,
    "start_time": "2023-03-08T12:45:17.631Z"
   },
   {
    "duration": 355,
    "start_time": "2023-03-08T12:45:18.267Z"
   },
   {
    "duration": 183,
    "start_time": "2023-03-08T12:45:18.776Z"
   },
   {
    "duration": 45,
    "start_time": "2023-03-08T12:45:19.140Z"
   },
   {
    "duration": 5,
    "start_time": "2023-03-08T12:45:19.305Z"
   },
   {
    "duration": 45,
    "start_time": "2023-03-08T12:45:19.475Z"
   },
   {
    "duration": 4,
    "start_time": "2023-03-08T12:45:19.643Z"
   },
   {
    "duration": 6,
    "start_time": "2023-03-08T12:45:20.209Z"
   },
   {
    "duration": 45,
    "start_time": "2023-03-08T12:45:20.392Z"
   },
   {
    "duration": 10764,
    "start_time": "2023-03-08T12:45:20.587Z"
   },
   {
    "duration": 103,
    "start_time": "2023-03-08T12:45:31.354Z"
   },
   {
    "duration": 0,
    "start_time": "2023-03-08T12:45:31.460Z"
   },
   {
    "duration": 64,
    "start_time": "2023-03-08T15:01:56.016Z"
   },
   {
    "duration": 6,
    "start_time": "2023-03-08T15:02:04.100Z"
   },
   {
    "duration": 1817,
    "start_time": "2023-03-08T15:02:07.275Z"
   },
   {
    "duration": 126,
    "start_time": "2023-03-08T15:02:09.093Z"
   },
   {
    "duration": 196,
    "start_time": "2023-03-08T15:02:19.213Z"
   },
   {
    "duration": 25,
    "start_time": "2023-03-08T15:02:21.908Z"
   },
   {
    "duration": 22,
    "start_time": "2023-03-08T15:02:26.546Z"
   },
   {
    "duration": 11,
    "start_time": "2023-03-08T15:02:27.764Z"
   },
   {
    "duration": 4,
    "start_time": "2023-03-08T15:02:29.057Z"
   },
   {
    "duration": 419,
    "start_time": "2023-03-08T15:02:30.894Z"
   },
   {
    "duration": 360,
    "start_time": "2023-03-08T15:11:05.037Z"
   },
   {
    "duration": 308,
    "start_time": "2023-03-08T15:11:40.073Z"
   },
   {
    "duration": 257,
    "start_time": "2023-03-08T15:11:57.646Z"
   },
   {
    "duration": 250,
    "start_time": "2023-03-08T15:12:16.805Z"
   },
   {
    "duration": 188,
    "start_time": "2023-03-08T15:12:57.909Z"
   },
   {
    "duration": 263,
    "start_time": "2023-03-08T15:14:31.756Z"
   },
   {
    "duration": 206,
    "start_time": "2023-03-08T15:16:21.833Z"
   },
   {
    "duration": 351,
    "start_time": "2023-03-08T15:17:00.211Z"
   },
   {
    "duration": 213,
    "start_time": "2023-03-08T15:17:00.565Z"
   },
   {
    "duration": 209,
    "start_time": "2023-03-08T15:19:25.957Z"
   },
   {
    "duration": 40,
    "start_time": "2023-03-08T15:23:58.627Z"
   },
   {
    "duration": 21,
    "start_time": "2023-03-08T15:25:03.674Z"
   },
   {
    "duration": 27,
    "start_time": "2023-03-08T15:27:21.919Z"
   },
   {
    "duration": 23,
    "start_time": "2023-03-08T15:27:38.821Z"
   },
   {
    "duration": 16,
    "start_time": "2023-03-08T15:27:52.560Z"
   },
   {
    "duration": 5,
    "start_time": "2023-03-08T15:28:06.823Z"
   },
   {
    "duration": 1456,
    "start_time": "2023-03-08T15:28:20.321Z"
   },
   {
    "duration": 61,
    "start_time": "2023-03-08T15:28:21.779Z"
   },
   {
    "duration": 32,
    "start_time": "2023-03-08T15:28:21.842Z"
   },
   {
    "duration": 40,
    "start_time": "2023-03-08T15:28:21.876Z"
   },
   {
    "duration": 28,
    "start_time": "2023-03-08T15:28:21.918Z"
   },
   {
    "duration": 12,
    "start_time": "2023-03-08T15:28:21.948Z"
   },
   {
    "duration": 378,
    "start_time": "2023-03-08T15:28:21.962Z"
   },
   {
    "duration": 353,
    "start_time": "2023-03-08T15:28:22.342Z"
   },
   {
    "duration": 175,
    "start_time": "2023-03-08T15:28:22.696Z"
   },
   {
    "duration": 290,
    "start_time": "2023-03-08T15:28:22.873Z"
   },
   {
    "duration": 211,
    "start_time": "2023-03-08T15:28:23.165Z"
   },
   {
    "duration": 209,
    "start_time": "2023-03-08T15:28:23.378Z"
   },
   {
    "duration": 152,
    "start_time": "2023-03-08T15:28:23.588Z"
   },
   {
    "duration": 0,
    "start_time": "2023-03-08T15:28:23.743Z"
   },
   {
    "duration": 0,
    "start_time": "2023-03-08T15:28:23.745Z"
   },
   {
    "duration": 0,
    "start_time": "2023-03-08T15:28:23.746Z"
   },
   {
    "duration": 0,
    "start_time": "2023-03-08T15:28:23.748Z"
   },
   {
    "duration": 0,
    "start_time": "2023-03-08T15:28:23.749Z"
   },
   {
    "duration": 0,
    "start_time": "2023-03-08T15:28:23.750Z"
   },
   {
    "duration": 0,
    "start_time": "2023-03-08T15:28:23.751Z"
   },
   {
    "duration": 0,
    "start_time": "2023-03-08T15:28:23.752Z"
   },
   {
    "duration": 0,
    "start_time": "2023-03-08T15:28:23.753Z"
   },
   {
    "duration": 0,
    "start_time": "2023-03-08T15:28:23.755Z"
   },
   {
    "duration": 0,
    "start_time": "2023-03-08T15:28:23.756Z"
   },
   {
    "duration": 1,
    "start_time": "2023-03-08T15:28:23.757Z"
   },
   {
    "duration": 0,
    "start_time": "2023-03-08T15:28:23.759Z"
   },
   {
    "duration": 0,
    "start_time": "2023-03-08T15:28:23.760Z"
   },
   {
    "duration": 0,
    "start_time": "2023-03-08T15:28:23.761Z"
   },
   {
    "duration": 0,
    "start_time": "2023-03-08T15:28:23.763Z"
   },
   {
    "duration": 0,
    "start_time": "2023-03-08T15:28:23.764Z"
   },
   {
    "duration": 0,
    "start_time": "2023-03-08T15:28:23.765Z"
   },
   {
    "duration": 0,
    "start_time": "2023-03-08T15:28:23.767Z"
   },
   {
    "duration": 0,
    "start_time": "2023-03-08T15:28:23.768Z"
   },
   {
    "duration": 0,
    "start_time": "2023-03-08T15:28:23.770Z"
   },
   {
    "duration": 0,
    "start_time": "2023-03-08T15:28:23.772Z"
   },
   {
    "duration": 0,
    "start_time": "2023-03-08T15:28:23.774Z"
   },
   {
    "duration": 0,
    "start_time": "2023-03-08T15:28:23.776Z"
   },
   {
    "duration": 1,
    "start_time": "2023-03-08T15:28:23.778Z"
   },
   {
    "duration": 0,
    "start_time": "2023-03-08T15:28:23.779Z"
   },
   {
    "duration": 6,
    "start_time": "2023-03-08T15:28:45.279Z"
   },
   {
    "duration": 70,
    "start_time": "2023-03-08T15:28:46.012Z"
   },
   {
    "duration": 24,
    "start_time": "2023-03-08T15:28:47.104Z"
   },
   {
    "duration": 28,
    "start_time": "2023-03-08T15:28:48.055Z"
   },
   {
    "duration": 12,
    "start_time": "2023-03-08T15:28:48.413Z"
   },
   {
    "duration": 4,
    "start_time": "2023-03-08T15:28:49.013Z"
   },
   {
    "duration": 321,
    "start_time": "2023-03-08T15:28:49.610Z"
   },
   {
    "duration": 269,
    "start_time": "2023-03-08T15:28:51.812Z"
   },
   {
    "duration": 297,
    "start_time": "2023-03-08T15:28:52.727Z"
   },
   {
    "duration": 257,
    "start_time": "2023-03-08T15:28:53.137Z"
   },
   {
    "duration": 195,
    "start_time": "2023-03-08T15:28:55.012Z"
   },
   {
    "duration": 237,
    "start_time": "2023-03-08T15:28:55.677Z"
   },
   {
    "duration": 24,
    "start_time": "2023-03-08T15:29:02.274Z"
   },
   {
    "duration": 168,
    "start_time": "2023-03-08T15:29:22.451Z"
   },
   {
    "duration": 174,
    "start_time": "2023-03-08T15:30:11.116Z"
   },
   {
    "duration": 155,
    "start_time": "2023-03-08T15:31:56.638Z"
   },
   {
    "duration": 158,
    "start_time": "2023-03-08T15:32:19.775Z"
   },
   {
    "duration": 97,
    "start_time": "2023-03-08T15:32:52.080Z"
   },
   {
    "duration": 1079,
    "start_time": "2023-03-08T15:37:53.913Z"
   },
   {
    "duration": 1051,
    "start_time": "2023-03-08T15:40:02.204Z"
   },
   {
    "duration": 1203,
    "start_time": "2023-03-08T15:40:25.578Z"
   },
   {
    "duration": 987,
    "start_time": "2023-03-08T15:40:47.920Z"
   },
   {
    "duration": 195,
    "start_time": "2023-03-08T15:48:34.907Z"
   },
   {
    "duration": 182,
    "start_time": "2023-03-08T15:49:41.705Z"
   },
   {
    "duration": 171,
    "start_time": "2023-03-08T15:50:16.477Z"
   },
   {
    "duration": 179,
    "start_time": "2023-03-08T15:50:36.211Z"
   },
   {
    "duration": 179,
    "start_time": "2023-03-08T15:50:50.075Z"
   },
   {
    "duration": 196,
    "start_time": "2023-03-08T15:55:49.871Z"
   },
   {
    "duration": 295,
    "start_time": "2023-03-08T15:56:51.415Z"
   },
   {
    "duration": 26,
    "start_time": "2023-03-08T15:57:26.717Z"
   },
   {
    "duration": 178,
    "start_time": "2023-03-08T15:58:00.013Z"
   },
   {
    "duration": 152,
    "start_time": "2023-03-08T15:59:12.170Z"
   },
   {
    "duration": 152,
    "start_time": "2023-03-08T15:59:33.074Z"
   },
   {
    "duration": 207,
    "start_time": "2023-03-08T16:02:10.131Z"
   },
   {
    "duration": 188,
    "start_time": "2023-03-08T16:02:35.646Z"
   },
   {
    "duration": 154,
    "start_time": "2023-03-08T16:02:57.452Z"
   },
   {
    "duration": 174,
    "start_time": "2023-03-08T16:03:09.215Z"
   },
   {
    "duration": 150,
    "start_time": "2023-03-08T16:03:43.517Z"
   },
   {
    "duration": 80,
    "start_time": "2023-03-08T16:05:21.677Z"
   },
   {
    "duration": 390,
    "start_time": "2023-03-08T16:14:10.014Z"
   },
   {
    "duration": 482,
    "start_time": "2023-03-08T16:14:30.159Z"
   },
   {
    "duration": 1018,
    "start_time": "2023-03-08T16:14:49.125Z"
   },
   {
    "duration": 26,
    "start_time": "2023-03-08T16:17:08.416Z"
   },
   {
    "duration": 15,
    "start_time": "2023-03-08T16:17:20.346Z"
   },
   {
    "duration": 31,
    "start_time": "2023-03-08T16:18:06.367Z"
   },
   {
    "duration": 26,
    "start_time": "2023-03-08T16:18:09.707Z"
   },
   {
    "duration": 12,
    "start_time": "2023-03-08T16:18:10.229Z"
   },
   {
    "duration": 4,
    "start_time": "2023-03-08T16:18:11.439Z"
   },
   {
    "duration": 11,
    "start_time": "2023-03-08T16:18:12.317Z"
   },
   {
    "duration": 9,
    "start_time": "2023-03-08T16:19:22.376Z"
   },
   {
    "duration": 3,
    "start_time": "2023-03-08T16:19:31.283Z"
   },
   {
    "duration": 9,
    "start_time": "2023-03-08T16:40:28.657Z"
   },
   {
    "duration": 8,
    "start_time": "2023-03-08T16:43:52.905Z"
   },
   {
    "duration": 3,
    "start_time": "2023-03-08T16:45:07.447Z"
   },
   {
    "duration": 5382,
    "start_time": "2023-03-08T16:45:17.351Z"
   },
   {
    "duration": 4,
    "start_time": "2023-03-08T16:45:39.717Z"
   },
   {
    "duration": 5503,
    "start_time": "2023-03-08T16:46:08.829Z"
   },
   {
    "duration": 5,
    "start_time": "2023-03-08T16:46:15.898Z"
   },
   {
    "duration": 24,
    "start_time": "2023-03-08T16:47:03.379Z"
   },
   {
    "duration": 21,
    "start_time": "2023-03-08T16:47:20.910Z"
   },
   {
    "duration": 8,
    "start_time": "2023-03-08T16:48:53.375Z"
   },
   {
    "duration": 32,
    "start_time": "2023-03-08T16:49:10.033Z"
   },
   {
    "duration": 10,
    "start_time": "2023-03-08T16:49:25.276Z"
   },
   {
    "duration": 31,
    "start_time": "2023-03-08T16:49:37.740Z"
   },
   {
    "duration": 18,
    "start_time": "2023-03-08T16:49:59.519Z"
   },
   {
    "duration": 15,
    "start_time": "2023-03-08T16:55:16.542Z"
   },
   {
    "duration": 5,
    "start_time": "2023-03-08T16:55:22.500Z"
   },
   {
    "duration": 4,
    "start_time": "2023-03-08T16:55:23.324Z"
   },
   {
    "duration": 5520,
    "start_time": "2023-03-08T16:55:24.113Z"
   },
   {
    "duration": 4,
    "start_time": "2023-03-08T16:55:29.635Z"
   },
   {
    "duration": 105,
    "start_time": "2023-03-08T16:55:29.641Z"
   },
   {
    "duration": 13,
    "start_time": "2023-03-08T16:56:02.397Z"
   },
   {
    "duration": 13,
    "start_time": "2023-03-08T16:57:23.290Z"
   },
   {
    "duration": 3,
    "start_time": "2023-03-08T16:57:57.413Z"
   },
   {
    "duration": 4,
    "start_time": "2023-03-08T16:58:11.023Z"
   },
   {
    "duration": 5,
    "start_time": "2023-03-08T16:58:56.278Z"
   },
   {
    "duration": 3,
    "start_time": "2023-03-08T16:59:34.716Z"
   },
   {
    "duration": 53,
    "start_time": "2023-03-08T17:00:05.779Z"
   },
   {
    "duration": 4,
    "start_time": "2023-03-08T17:01:45.112Z"
   },
   {
    "duration": 16,
    "start_time": "2023-03-08T17:01:50.976Z"
   },
   {
    "duration": 11,
    "start_time": "2023-03-08T17:02:25.235Z"
   },
   {
    "duration": 4,
    "start_time": "2023-03-08T17:02:33.696Z"
   },
   {
    "duration": 5,
    "start_time": "2023-03-08T17:03:14.941Z"
   },
   {
    "duration": 4,
    "start_time": "2023-03-08T17:03:50.793Z"
   },
   {
    "duration": 3,
    "start_time": "2023-03-08T17:04:20.678Z"
   },
   {
    "duration": 4,
    "start_time": "2023-03-08T17:06:16.828Z"
   },
   {
    "duration": 6,
    "start_time": "2023-03-08T18:49:31.387Z"
   },
   {
    "duration": 59,
    "start_time": "2023-03-08T18:49:31.894Z"
   },
   {
    "duration": 2093,
    "start_time": "2023-03-09T05:24:22.418Z"
   },
   {
    "duration": 155,
    "start_time": "2023-03-09T05:24:24.514Z"
   },
   {
    "duration": 33,
    "start_time": "2023-03-09T05:24:24.671Z"
   },
   {
    "duration": 29,
    "start_time": "2023-03-09T05:24:24.706Z"
   },
   {
    "duration": 43,
    "start_time": "2023-03-09T05:24:24.737Z"
   },
   {
    "duration": 11,
    "start_time": "2023-03-09T05:24:24.782Z"
   },
   {
    "duration": 6,
    "start_time": "2023-03-09T05:24:24.795Z"
   },
   {
    "duration": 357,
    "start_time": "2023-03-09T05:24:24.803Z"
   },
   {
    "duration": 374,
    "start_time": "2023-03-09T05:24:25.162Z"
   },
   {
    "duration": 214,
    "start_time": "2023-03-09T05:24:25.539Z"
   },
   {
    "duration": 1398,
    "start_time": "2023-03-09T05:24:25.755Z"
   },
   {
    "duration": 307,
    "start_time": "2023-03-09T05:24:27.155Z"
   },
   {
    "duration": 252,
    "start_time": "2023-03-09T05:24:27.464Z"
   },
   {
    "duration": 254,
    "start_time": "2023-03-09T05:24:27.719Z"
   },
   {
    "duration": 303,
    "start_time": "2023-03-09T05:24:27.976Z"
   },
   {
    "duration": 209,
    "start_time": "2023-03-09T05:24:28.281Z"
   },
   {
    "duration": 12,
    "start_time": "2023-03-09T05:24:28.493Z"
   },
   {
    "duration": 110,
    "start_time": "2023-03-09T05:24:28.507Z"
   },
   {
    "duration": 73,
    "start_time": "2023-03-09T05:24:28.620Z"
   },
   {
    "duration": 19,
    "start_time": "2023-03-09T05:24:28.696Z"
   },
   {
    "duration": 5,
    "start_time": "2023-03-09T05:24:28.718Z"
   },
   {
    "duration": 14,
    "start_time": "2023-03-09T05:24:28.725Z"
   },
   {
    "duration": 35,
    "start_time": "2023-03-09T05:24:28.741Z"
   },
   {
    "duration": 6,
    "start_time": "2023-03-09T05:24:28.778Z"
   },
   {
    "duration": 12,
    "start_time": "2023-03-09T05:24:28.787Z"
   },
   {
    "duration": 8,
    "start_time": "2023-03-09T05:24:28.802Z"
   },
   {
    "duration": 17369,
    "start_time": "2023-03-09T05:24:28.813Z"
   },
   {
    "duration": 5,
    "start_time": "2023-03-09T05:24:46.188Z"
   },
   {
    "duration": 118,
    "start_time": "2023-03-09T05:24:46.195Z"
   },
   {
    "duration": 118,
    "start_time": "2023-03-09T05:24:46.372Z"
   },
   {
    "duration": 18,
    "start_time": "2023-03-09T05:24:46.493Z"
   },
   {
    "duration": 9070,
    "start_time": "2023-03-09T05:24:46.514Z"
   },
   {
    "duration": 87,
    "start_time": "2023-03-09T05:24:55.587Z"
   },
   {
    "duration": 44,
    "start_time": "2023-03-09T05:24:55.677Z"
   },
   {
    "duration": 150,
    "start_time": "2023-03-09T05:24:55.723Z"
   },
   {
    "duration": 5,
    "start_time": "2023-03-09T05:24:55.876Z"
   },
   {
    "duration": 2341,
    "start_time": "2023-03-09T07:02:11.664Z"
   },
   {
    "duration": 61,
    "start_time": "2023-03-09T07:02:14.009Z"
   },
   {
    "duration": 58,
    "start_time": "2023-03-09T07:02:14.072Z"
   },
   {
    "duration": 36,
    "start_time": "2023-03-09T07:02:14.131Z"
   },
   {
    "duration": 35,
    "start_time": "2023-03-09T07:02:14.179Z"
   },
   {
    "duration": 25,
    "start_time": "2023-03-09T07:02:14.216Z"
   },
   {
    "duration": 5,
    "start_time": "2023-03-09T07:02:14.243Z"
   },
   {
    "duration": 491,
    "start_time": "2023-03-09T07:02:14.250Z"
   },
   {
    "duration": 430,
    "start_time": "2023-03-09T07:02:14.744Z"
   },
   {
    "duration": 249,
    "start_time": "2023-03-09T07:02:15.176Z"
   },
   {
    "duration": 1387,
    "start_time": "2023-03-09T07:02:15.427Z"
   },
   {
    "duration": 361,
    "start_time": "2023-03-09T07:02:16.817Z"
   },
   {
    "duration": 243,
    "start_time": "2023-03-09T07:02:17.180Z"
   },
   {
    "duration": 273,
    "start_time": "2023-03-09T07:02:17.427Z"
   },
   {
    "duration": 329,
    "start_time": "2023-03-09T07:02:17.705Z"
   },
   {
    "duration": 212,
    "start_time": "2023-03-09T07:02:18.036Z"
   },
   {
    "duration": 11,
    "start_time": "2023-03-09T07:02:18.250Z"
   },
   {
    "duration": 109,
    "start_time": "2023-03-09T07:02:18.262Z"
   },
   {
    "duration": 61,
    "start_time": "2023-03-09T07:02:18.373Z"
   },
   {
    "duration": 19,
    "start_time": "2023-03-09T07:02:18.436Z"
   },
   {
    "duration": 15,
    "start_time": "2023-03-09T07:02:18.488Z"
   },
   {
    "duration": 24,
    "start_time": "2023-03-09T07:02:18.505Z"
   },
   {
    "duration": 11,
    "start_time": "2023-03-09T07:02:18.531Z"
   },
   {
    "duration": 6,
    "start_time": "2023-03-09T07:02:18.544Z"
   },
   {
    "duration": 7,
    "start_time": "2023-03-09T07:02:18.552Z"
   },
   {
    "duration": 18,
    "start_time": "2023-03-09T07:02:18.561Z"
   },
   {
    "duration": 41696,
    "start_time": "2023-03-09T07:02:18.596Z"
   },
   {
    "duration": 73,
    "start_time": "2023-03-09T07:03:00.304Z"
   },
   {
    "duration": 72,
    "start_time": "2023-03-09T07:03:00.379Z"
   },
   {
    "duration": 165,
    "start_time": "2023-03-09T07:03:00.479Z"
   },
   {
    "duration": 75,
    "start_time": "2023-03-09T07:03:00.646Z"
   },
   {
    "duration": 9993,
    "start_time": "2023-03-09T07:03:00.723Z"
   },
   {
    "duration": 9,
    "start_time": "2023-03-09T07:03:10.775Z"
   },
   {
    "duration": 42,
    "start_time": "2023-03-09T07:03:10.786Z"
   },
   {
    "duration": 150,
    "start_time": "2023-03-09T07:03:10.833Z"
   },
   {
    "duration": 23,
    "start_time": "2023-03-09T07:03:10.991Z"
   },
   {
    "duration": 2081,
    "start_time": "2023-03-09T07:43:01.716Z"
   },
   {
    "duration": 63,
    "start_time": "2023-03-09T07:43:03.799Z"
   },
   {
    "duration": 33,
    "start_time": "2023-03-09T07:43:03.863Z"
   },
   {
    "duration": 27,
    "start_time": "2023-03-09T07:43:03.899Z"
   },
   {
    "duration": 19,
    "start_time": "2023-03-09T07:43:03.928Z"
   },
   {
    "duration": 32,
    "start_time": "2023-03-09T07:43:03.949Z"
   },
   {
    "duration": 11,
    "start_time": "2023-03-09T07:43:03.983Z"
   },
   {
    "duration": 384,
    "start_time": "2023-03-09T07:43:03.996Z"
   },
   {
    "duration": 375,
    "start_time": "2023-03-09T07:43:04.382Z"
   },
   {
    "duration": 195,
    "start_time": "2023-03-09T07:43:04.759Z"
   },
   {
    "duration": 1146,
    "start_time": "2023-03-09T07:43:04.956Z"
   },
   {
    "duration": 321,
    "start_time": "2023-03-09T07:43:06.104Z"
   },
   {
    "duration": 234,
    "start_time": "2023-03-09T07:43:06.427Z"
   },
   {
    "duration": 214,
    "start_time": "2023-03-09T07:43:06.662Z"
   },
   {
    "duration": 289,
    "start_time": "2023-03-09T07:43:06.878Z"
   },
   {
    "duration": 216,
    "start_time": "2023-03-09T07:43:07.174Z"
   },
   {
    "duration": 10,
    "start_time": "2023-03-09T07:43:07.392Z"
   },
   {
    "duration": 147,
    "start_time": "2023-03-09T07:43:07.404Z"
   },
   {
    "duration": 46,
    "start_time": "2023-03-09T07:43:07.553Z"
   },
   {
    "duration": 18,
    "start_time": "2023-03-09T07:43:07.601Z"
   },
   {
    "duration": 4,
    "start_time": "2023-03-09T07:43:07.621Z"
   },
   {
    "duration": 14,
    "start_time": "2023-03-09T07:43:07.627Z"
   },
   {
    "duration": 34,
    "start_time": "2023-03-09T07:43:07.643Z"
   },
   {
    "duration": 6,
    "start_time": "2023-03-09T07:43:07.679Z"
   },
   {
    "duration": 3,
    "start_time": "2023-03-09T07:43:07.687Z"
   },
   {
    "duration": 10,
    "start_time": "2023-03-09T07:43:07.692Z"
   },
   {
    "duration": 18278,
    "start_time": "2023-03-09T07:43:07.704Z"
   },
   {
    "duration": 89,
    "start_time": "2023-03-09T07:43:25.987Z"
   },
   {
    "duration": 122,
    "start_time": "2023-03-09T07:43:26.078Z"
   },
   {
    "duration": 79,
    "start_time": "2023-03-09T07:43:26.203Z"
   },
   {
    "duration": 16,
    "start_time": "2023-03-09T07:43:26.373Z"
   },
   {
    "duration": 5885,
    "start_time": "2023-03-09T07:43:26.390Z"
   },
   {
    "duration": 5,
    "start_time": "2023-03-09T07:43:32.277Z"
   },
   {
    "duration": 13,
    "start_time": "2023-03-09T07:43:32.374Z"
   },
   {
    "duration": 184,
    "start_time": "2023-03-09T07:43:32.389Z"
   },
   {
    "duration": 13,
    "start_time": "2023-03-09T07:43:32.575Z"
   },
   {
    "duration": 411389,
    "start_time": "2023-03-09T07:43:32.590Z"
   },
   {
    "duration": 19,
    "start_time": "2023-03-09T07:50:23.982Z"
   },
   {
    "duration": 71,
    "start_time": "2023-03-09T07:50:24.003Z"
   },
   {
    "duration": 162,
    "start_time": "2023-03-09T07:50:24.077Z"
   },
   {
    "duration": 0,
    "start_time": "2023-03-09T07:50:24.241Z"
   },
   {
    "duration": 1,
    "start_time": "2023-03-09T07:50:24.242Z"
   },
   {
    "duration": 0,
    "start_time": "2023-03-09T07:50:24.245Z"
   },
   {
    "duration": 0,
    "start_time": "2023-03-09T07:50:24.247Z"
   },
   {
    "duration": 0,
    "start_time": "2023-03-09T07:50:24.249Z"
   },
   {
    "duration": 0,
    "start_time": "2023-03-09T07:50:24.251Z"
   },
   {
    "duration": 18581,
    "start_time": "2023-03-09T08:08:43.192Z"
   },
   {
    "duration": 8,
    "start_time": "2023-03-09T08:09:01.775Z"
   },
   {
    "duration": 148,
    "start_time": "2023-03-09T08:09:01.786Z"
   },
   {
    "duration": 200,
    "start_time": "2023-03-09T08:09:01.937Z"
   },
   {
    "duration": 56,
    "start_time": "2023-03-09T08:09:02.139Z"
   },
   {
    "duration": 14833,
    "start_time": "2023-03-09T08:09:02.197Z"
   },
   {
    "duration": 8,
    "start_time": "2023-03-09T09:44:56.011Z"
   },
   {
    "duration": 47,
    "start_time": "2023-03-09T09:45:24.291Z"
   },
   {
    "duration": 1647,
    "start_time": "2023-03-09T09:46:08.459Z"
   },
   {
    "duration": 142,
    "start_time": "2023-03-09T09:46:10.107Z"
   },
   {
    "duration": 24,
    "start_time": "2023-03-09T09:46:10.251Z"
   },
   {
    "duration": 16,
    "start_time": "2023-03-09T09:46:10.277Z"
   },
   {
    "duration": 9,
    "start_time": "2023-03-09T09:46:10.295Z"
   },
   {
    "duration": 4,
    "start_time": "2023-03-09T09:46:10.305Z"
   },
   {
    "duration": 347,
    "start_time": "2023-03-09T09:46:10.310Z"
   },
   {
    "duration": 303,
    "start_time": "2023-03-09T09:46:10.659Z"
   },
   {
    "duration": 177,
    "start_time": "2023-03-09T09:46:10.964Z"
   },
   {
    "duration": 1212,
    "start_time": "2023-03-09T09:46:11.144Z"
   },
   {
    "duration": 278,
    "start_time": "2023-03-09T09:46:12.358Z"
   },
   {
    "duration": 260,
    "start_time": "2023-03-09T09:46:12.637Z"
   },
   {
    "duration": 242,
    "start_time": "2023-03-09T09:46:12.898Z"
   },
   {
    "duration": 256,
    "start_time": "2023-03-09T09:46:13.141Z"
   },
   {
    "duration": 180,
    "start_time": "2023-03-09T09:46:13.399Z"
   },
   {
    "duration": 10,
    "start_time": "2023-03-09T09:46:13.580Z"
   },
   {
    "duration": 70,
    "start_time": "2023-03-09T09:46:13.592Z"
   },
   {
    "duration": 49,
    "start_time": "2023-03-09T09:46:13.664Z"
   },
   {
    "duration": 15,
    "start_time": "2023-03-09T09:46:13.715Z"
   },
   {
    "duration": 23,
    "start_time": "2023-03-09T09:46:13.732Z"
   },
   {
    "duration": 11,
    "start_time": "2023-03-09T09:46:13.756Z"
   },
   {
    "duration": 4,
    "start_time": "2023-03-09T09:46:13.768Z"
   },
   {
    "duration": 4,
    "start_time": "2023-03-09T09:46:13.773Z"
   },
   {
    "duration": 2,
    "start_time": "2023-03-09T09:46:13.779Z"
   },
   {
    "duration": 3,
    "start_time": "2023-03-09T09:46:13.783Z"
   },
   {
    "duration": 11584,
    "start_time": "2023-03-09T09:46:13.787Z"
   },
   {
    "duration": 5,
    "start_time": "2023-03-09T09:46:25.457Z"
   },
   {
    "duration": 94,
    "start_time": "2023-03-09T09:46:25.467Z"
   },
   {
    "duration": 4,
    "start_time": "2023-03-09T09:46:25.563Z"
   },
   {
    "duration": 89,
    "start_time": "2023-03-09T09:46:25.569Z"
   },
   {
    "duration": 5598,
    "start_time": "2023-03-09T09:46:25.660Z"
   },
   {
    "duration": 4,
    "start_time": "2023-03-09T09:46:31.263Z"
   },
   {
    "duration": 34,
    "start_time": "2023-03-09T09:46:31.355Z"
   },
   {
    "duration": 74,
    "start_time": "2023-03-09T09:46:31.391Z"
   },
   {
    "duration": 105,
    "start_time": "2023-03-09T09:46:31.466Z"
   },
   {
    "duration": 2648,
    "start_time": "2023-03-10T05:35:43.712Z"
   },
   {
    "duration": 106,
    "start_time": "2023-03-10T05:35:46.362Z"
   },
   {
    "duration": 68,
    "start_time": "2023-03-10T05:35:46.470Z"
   },
   {
    "duration": 77,
    "start_time": "2023-03-10T05:35:46.540Z"
   },
   {
    "duration": 15,
    "start_time": "2023-03-10T05:35:46.619Z"
   },
   {
    "duration": 3,
    "start_time": "2023-03-10T05:35:46.636Z"
   },
   {
    "duration": 472,
    "start_time": "2023-03-10T05:35:46.641Z"
   },
   {
    "duration": 445,
    "start_time": "2023-03-10T05:35:47.115Z"
   },
   {
    "duration": 399,
    "start_time": "2023-03-10T05:35:47.613Z"
   },
   {
    "duration": 1516,
    "start_time": "2023-03-10T05:35:48.015Z"
   },
   {
    "duration": 503,
    "start_time": "2023-03-10T05:35:49.533Z"
   },
   {
    "duration": 577,
    "start_time": "2023-03-10T05:35:50.038Z"
   },
   {
    "duration": 340,
    "start_time": "2023-03-10T05:35:50.618Z"
   },
   {
    "duration": 380,
    "start_time": "2023-03-10T05:35:50.960Z"
   },
   {
    "duration": 193,
    "start_time": "2023-03-10T05:35:51.342Z"
   },
   {
    "duration": 10,
    "start_time": "2023-03-10T05:35:51.538Z"
   },
   {
    "duration": 94,
    "start_time": "2023-03-10T05:35:51.550Z"
   },
   {
    "duration": 41,
    "start_time": "2023-03-10T05:35:51.646Z"
   },
   {
    "duration": 36,
    "start_time": "2023-03-10T05:35:51.689Z"
   },
   {
    "duration": 4,
    "start_time": "2023-03-10T05:35:51.727Z"
   },
   {
    "duration": 12,
    "start_time": "2023-03-10T05:35:51.732Z"
   },
   {
    "duration": 11,
    "start_time": "2023-03-10T05:35:51.745Z"
   },
   {
    "duration": 55,
    "start_time": "2023-03-10T05:35:51.758Z"
   },
   {
    "duration": 11,
    "start_time": "2023-03-10T05:35:51.815Z"
   },
   {
    "duration": 25,
    "start_time": "2023-03-10T05:35:51.827Z"
   },
   {
    "duration": 21064,
    "start_time": "2023-03-10T05:35:51.854Z"
   },
   {
    "duration": 91,
    "start_time": "2023-03-10T05:36:12.920Z"
   },
   {
    "duration": 12,
    "start_time": "2023-03-10T05:36:13.015Z"
   },
   {
    "duration": 5,
    "start_time": "2023-03-10T05:36:13.112Z"
   },
   {
    "duration": 95,
    "start_time": "2023-03-10T05:36:13.119Z"
   },
   {
    "duration": 203,
    "start_time": "2023-03-10T05:36:13.216Z"
   },
   {
    "duration": 14,
    "start_time": "2023-03-10T05:36:13.420Z"
   },
   {
    "duration": 0,
    "start_time": "2023-03-10T05:36:13.436Z"
   },
   {
    "duration": 0,
    "start_time": "2023-03-10T05:36:13.437Z"
   },
   {
    "duration": 0,
    "start_time": "2023-03-10T05:36:13.439Z"
   },
   {
    "duration": 0,
    "start_time": "2023-03-10T05:36:13.440Z"
   },
   {
    "duration": 0,
    "start_time": "2023-03-10T05:36:13.441Z"
   },
   {
    "duration": 0,
    "start_time": "2023-03-10T05:36:13.442Z"
   },
   {
    "duration": 0,
    "start_time": "2023-03-10T05:36:13.443Z"
   },
   {
    "duration": 0,
    "start_time": "2023-03-10T05:36:13.444Z"
   },
   {
    "duration": 0,
    "start_time": "2023-03-10T05:36:13.445Z"
   },
   {
    "duration": 0,
    "start_time": "2023-03-10T05:36:13.446Z"
   },
   {
    "duration": 0,
    "start_time": "2023-03-10T05:36:13.447Z"
   },
   {
    "duration": 9487,
    "start_time": "2023-03-10T05:37:03.275Z"
   },
   {
    "duration": 4143,
    "start_time": "2023-03-10T05:37:19.922Z"
   },
   {
    "duration": 2554,
    "start_time": "2023-03-10T05:37:24.068Z"
   },
   {
    "duration": 97,
    "start_time": "2023-03-10T05:37:26.624Z"
   },
   {
    "duration": 27,
    "start_time": "2023-03-10T05:37:26.723Z"
   },
   {
    "duration": 77,
    "start_time": "2023-03-10T05:37:26.752Z"
   },
   {
    "duration": 14,
    "start_time": "2023-03-10T05:37:26.831Z"
   },
   {
    "duration": 5,
    "start_time": "2023-03-10T05:37:26.847Z"
   },
   {
    "duration": 680,
    "start_time": "2023-03-10T05:37:26.854Z"
   },
   {
    "duration": 290,
    "start_time": "2023-03-10T05:37:27.536Z"
   },
   {
    "duration": 309,
    "start_time": "2023-03-10T05:37:27.828Z"
   },
   {
    "duration": 1897,
    "start_time": "2023-03-10T05:37:28.139Z"
   },
   {
    "duration": 511,
    "start_time": "2023-03-10T05:37:30.038Z"
   },
   {
    "duration": 474,
    "start_time": "2023-03-10T05:37:30.551Z"
   },
   {
    "duration": 587,
    "start_time": "2023-03-10T05:37:31.027Z"
   },
   {
    "duration": 400,
    "start_time": "2023-03-10T05:37:31.616Z"
   },
   {
    "duration": 246,
    "start_time": "2023-03-10T05:37:32.019Z"
   },
   {
    "duration": 11,
    "start_time": "2023-03-10T05:37:32.266Z"
   },
   {
    "duration": 88,
    "start_time": "2023-03-10T05:37:32.279Z"
   },
   {
    "duration": 66,
    "start_time": "2023-03-10T05:37:32.369Z"
   },
   {
    "duration": 18,
    "start_time": "2023-03-10T05:37:32.437Z"
   },
   {
    "duration": 4,
    "start_time": "2023-03-10T05:37:32.457Z"
   },
   {
    "duration": 17,
    "start_time": "2023-03-10T05:37:32.462Z"
   },
   {
    "duration": 15,
    "start_time": "2023-03-10T05:37:32.481Z"
   },
   {
    "duration": 17,
    "start_time": "2023-03-10T05:37:32.497Z"
   },
   {
    "duration": 4,
    "start_time": "2023-03-10T05:37:32.516Z"
   },
   {
    "duration": 5,
    "start_time": "2023-03-10T05:37:32.522Z"
   },
   {
    "duration": 20391,
    "start_time": "2023-03-10T05:37:32.529Z"
   },
   {
    "duration": 91,
    "start_time": "2023-03-10T05:37:52.924Z"
   },
   {
    "duration": 195,
    "start_time": "2023-03-10T05:37:53.017Z"
   },
   {
    "duration": 95,
    "start_time": "2023-03-10T05:37:53.219Z"
   },
   {
    "duration": 10,
    "start_time": "2023-03-10T05:37:53.316Z"
   },
   {
    "duration": 6294,
    "start_time": "2023-03-10T05:37:53.328Z"
   },
   {
    "duration": 88,
    "start_time": "2023-03-10T05:37:59.625Z"
   },
   {
    "duration": 100,
    "start_time": "2023-03-10T05:37:59.715Z"
   },
   {
    "duration": 104,
    "start_time": "2023-03-10T05:37:59.817Z"
   },
   {
    "duration": 8,
    "start_time": "2023-03-10T05:37:59.923Z"
   },
   {
    "duration": 1139181,
    "start_time": "2023-03-10T05:37:59.933Z"
   },
   {
    "duration": 12,
    "start_time": "2023-03-10T05:56:59.116Z"
   },
   {
    "duration": 4,
    "start_time": "2023-03-10T05:56:59.130Z"
   },
   {
    "duration": 90,
    "start_time": "2023-03-10T05:56:59.136Z"
   },
   {
    "duration": 6,
    "start_time": "2023-03-10T05:56:59.228Z"
   },
   {
    "duration": 77,
    "start_time": "2023-03-10T05:56:59.236Z"
   },
   {
    "duration": 97,
    "start_time": "2023-03-10T05:56:59.316Z"
   },
   {
    "duration": 332,
    "start_time": "2023-03-10T05:56:59.414Z"
   }
  ],
  "kernelspec": {
   "display_name": "Python 3 (ipykernel)",
   "language": "python",
   "name": "python3"
  },
  "language_info": {
   "codemirror_mode": {
    "name": "ipython",
    "version": 3
   },
   "file_extension": ".py",
   "mimetype": "text/x-python",
   "name": "python",
   "nbconvert_exporter": "python",
   "pygments_lexer": "ipython3",
   "version": "3.9.12"
  },
  "toc": {
   "base_numbering": 1,
   "nav_menu": {},
   "number_sections": true,
   "sideBar": true,
   "skip_h1_title": true,
   "title_cell": "Содержание",
   "title_sidebar": "Contents",
   "toc_cell": true,
   "toc_position": {},
   "toc_section_display": true,
   "toc_window_display": true
  }
 },
 "nbformat": 4,
 "nbformat_minor": 2
}
