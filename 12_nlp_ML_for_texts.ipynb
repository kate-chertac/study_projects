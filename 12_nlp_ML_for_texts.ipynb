{
 "cells": [
  {
   "cell_type": "markdown",
   "metadata": {
    "toc": true
   },
   "source": [
    "<h1>Content<span class=\"tocSkip\"></span></h1>\n",
    "<div class=\"toc\">\n",
    "  <ul class=\"toc-item\">\n",
    "    <li>\n",
    "      <span>\n",
    "        <a href=\"#Prepare\" data-toc-modified-id=\"Prepare-1\">\n",
    "          <span class=\"toc-item-num\">1&nbsp;&nbsp;</span>Preparation\n",
    "        </a>\n",
    "      </span>\n",
    "    </li>\n",
    "    <li>\n",
    "      <span>\n",
    "        <a href=\"#Training\" data-toc-modified-id=\"Training-2\">\n",
    "          <span class=\"toc-item-num\">2&nbsp;&nbsp;</span>Training\n",
    "        </a>\n",
    "      </span>\n",
    "      <ul class=\"toc-item\">\n",
    "        <li>\n",
    "          <span>\n",
    "            <a href=\"#LogisticRegression\" data-toc-modified-id=\"LogisticRegression-2.1\">\n",
    "              <span class=\"toc-item-num\">2.1&nbsp;&nbsp;</span>LogisticRegression\n",
    "            </a>\n",
    "          </span>\n",
    "        </li>\n",
    "        <li>\n",
    "          <span>\n",
    "            <a href=\"#SGD\" data-toc-modified-id=\"SGD-2.2\">\n",
    "              <span class=\"toc-item-num\">2.2&nbsp;&nbsp;</span>SGD\n",
    "            </a>\n",
    "          </span>\n",
    "        </li>\n",
    "        <li>\n",
    "          <span>\n",
    "            <a href=\"#LinearSVC\" data-toc-modified-id=\"LinearSVC-2.3\">\n",
    "              <span class=\"toc-item-num\">2.3&nbsp;&nbsp;</span>LinearSVC\n",
    "            </a>\n",
    "          </span>\n",
    "        </li>\n",
    "        <li>\n",
    "          <span>\n",
    "            <a href=\"#Check-on-test-data\" data-toc-modified-id=\"Check-on-test-data-2.4\">\n",
    "              <span class=\"toc-item-num\">2.4&nbsp;&nbsp;</span>Check on test data\n",
    "        </a>\n",
    "      </span>\n",
    "    </li>\n",
    "  </ul>\n",
    "</div>"
   ]
  },
  {
   "cell_type": "markdown",
   "metadata": {},
   "source": [
    "# Project for Wikishop"
   ]
  },
  {
   "cell_type": "markdown",
   "metadata": {},
   "source": [
    "Online store \"Wikishop\" launches a new service. Now users can edit and supplement product descriptions, just like in wiki communities. That is, clients propose their edits and comment on the changes of others. The store needs a tool that will look for toxic comments and submit them for moderation.\n",
    "\n",
    "The project has trained a model that classifies comments into positive and negative ones with a value of the quality metric *F1* not less than 0.75."
   ]
  },
  {
   "cell_type": "markdown",
   "metadata": {},
   "source": [
    "## Preparation"
   ]
  },
  {
   "cell_type": "code",
   "execution_count": 1,
   "metadata": {},
   "outputs": [
    {
     "name": "stderr",
     "output_type": "stream",
     "text": [
      "[nltk_data] Downloading package stopwords to\n",
      "[nltk_data]     C:\\Users\\user\\AppData\\Roaming\\nltk_data...\n",
      "[nltk_data]   Package stopwords is already up-to-date!\n",
      "[nltk_data] Downloading package wordnet to\n",
      "[nltk_data]     C:\\Users\\user\\AppData\\Roaming\\nltk_data...\n",
      "[nltk_data]   Package wordnet is already up-to-date!\n"
     ]
    },
    {
     "data": {
      "text/plain": [
       "True"
      ]
     },
     "execution_count": 1,
     "metadata": {},
     "output_type": "execute_result"
    }
   ],
   "source": [
    "import numpy as np\n",
    "import pandas as pd\n",
    "import matplotlib.pyplot as plt\n",
    "import warnings\n",
    "warnings.filterwarnings(\"ignore\", category=UserWarning, module=\"nltk\")\n",
    "\n",
    "import spacy\n",
    "from spacy import displacy\n",
    "from spacy.lang.en.stop_words import STOP_WORDS\n",
    "from tqdm.notebook import tqdm\n",
    "tqdm.pandas()\n",
    "import nltk\n",
    "from nltk.corpus import stopwords\n",
    "from nltk.stem import WordNetLemmatizer \n",
    "\n",
    "from sklearn.utils import shuffle\n",
    "from imblearn.over_sampling import RandomOverSampler\n",
    "from imblearn.over_sampling import SMOTE\n",
    "from imblearn.under_sampling import RandomUnderSampler\n",
    "\n",
    "from sklearn.model_selection import cross_val_score\n",
    "from sklearn.pipeline import Pipeline\n",
    "from sklearn.pipeline import make_pipeline\n",
    "from sklearn.model_selection import train_test_split\n",
    "from sklearn.model_selection import GridSearchCV\n",
    "from sklearn.linear_model import LogisticRegression\n",
    "from sklearn.linear_model import LinearRegression\n",
    "from sklearn.linear_model import SGDClassifier\n",
    "from sklearn.svm import LinearSVC\n",
    "from sklearn.feature_extraction.text import CountVectorizer\n",
    "from sklearn.feature_extraction.text import TfidfVectorizer\n",
    "from sklearn.feature_extraction.text import TfidfTransformer\n",
    "from sklearn.metrics import f1_score \n",
    "\n",
    "import re\n",
    "\n",
    "RANDOM_STATE = 42\n",
    "\n",
    "nltk.download('stopwords')\n",
    "nltk.download('wordnet')\n"
   ]
  },
  {
   "cell_type": "code",
   "execution_count": 2,
   "metadata": {},
   "outputs": [],
   "source": [
    "# data loading\n",
    "df = pd.read_csv(r'datasets/12_toxic_comments.csv', index_col=0)"
   ]
  },
  {
   "cell_type": "code",
   "execution_count": 3,
   "metadata": {},
   "outputs": [
    {
     "data": {
      "text/html": [
       "<div>\n",
       "<style scoped>\n",
       "    .dataframe tbody tr th:only-of-type {\n",
       "        vertical-align: middle;\n",
       "    }\n",
       "\n",
       "    .dataframe tbody tr th {\n",
       "        vertical-align: top;\n",
       "    }\n",
       "\n",
       "    .dataframe thead th {\n",
       "        text-align: right;\n",
       "    }\n",
       "</style>\n",
       "<table border=\"1\" class=\"dataframe\">\n",
       "  <thead>\n",
       "    <tr style=\"text-align: right;\">\n",
       "      <th></th>\n",
       "      <th>text</th>\n",
       "      <th>toxic</th>\n",
       "    </tr>\n",
       "  </thead>\n",
       "  <tbody>\n",
       "    <tr>\n",
       "      <th>0</th>\n",
       "      <td>Explanation\\nWhy the edits made under my usern...</td>\n",
       "      <td>0</td>\n",
       "    </tr>\n",
       "    <tr>\n",
       "      <th>1</th>\n",
       "      <td>D'aww! He matches this background colour I'm s...</td>\n",
       "      <td>0</td>\n",
       "    </tr>\n",
       "    <tr>\n",
       "      <th>2</th>\n",
       "      <td>Hey man, I'm really not trying to edit war. It...</td>\n",
       "      <td>0</td>\n",
       "    </tr>\n",
       "    <tr>\n",
       "      <th>3</th>\n",
       "      <td>\"\\nMore\\nI can't make any real suggestions on ...</td>\n",
       "      <td>0</td>\n",
       "    </tr>\n",
       "    <tr>\n",
       "      <th>4</th>\n",
       "      <td>You, sir, are my hero. Any chance you remember...</td>\n",
       "      <td>0</td>\n",
       "    </tr>\n",
       "    <tr>\n",
       "      <th>5</th>\n",
       "      <td>\"\\n\\nCongratulations from me as well, use the ...</td>\n",
       "      <td>0</td>\n",
       "    </tr>\n",
       "    <tr>\n",
       "      <th>6</th>\n",
       "      <td>COCKSUCKER BEFORE YOU PISS AROUND ON MY WORK</td>\n",
       "      <td>1</td>\n",
       "    </tr>\n",
       "    <tr>\n",
       "      <th>7</th>\n",
       "      <td>Your vandalism to the Matt Shirvington article...</td>\n",
       "      <td>0</td>\n",
       "    </tr>\n",
       "    <tr>\n",
       "      <th>8</th>\n",
       "      <td>Sorry if the word 'nonsense' was offensive to ...</td>\n",
       "      <td>0</td>\n",
       "    </tr>\n",
       "    <tr>\n",
       "      <th>9</th>\n",
       "      <td>alignment on this subject and which are contra...</td>\n",
       "      <td>0</td>\n",
       "    </tr>\n",
       "    <tr>\n",
       "      <th>10</th>\n",
       "      <td>\"\\nFair use rationale for Image:Wonju.jpg\\n\\nT...</td>\n",
       "      <td>0</td>\n",
       "    </tr>\n",
       "    <tr>\n",
       "      <th>11</th>\n",
       "      <td>bbq \\n\\nbe a man and lets discuss it-maybe ove...</td>\n",
       "      <td>0</td>\n",
       "    </tr>\n",
       "    <tr>\n",
       "      <th>12</th>\n",
       "      <td>Hey... what is it..\\n@ | talk .\\nWhat is it......</td>\n",
       "      <td>1</td>\n",
       "    </tr>\n",
       "    <tr>\n",
       "      <th>13</th>\n",
       "      <td>Before you start throwing accusations and warn...</td>\n",
       "      <td>0</td>\n",
       "    </tr>\n",
       "    <tr>\n",
       "      <th>14</th>\n",
       "      <td>Oh, and the girl above started her arguments w...</td>\n",
       "      <td>0</td>\n",
       "    </tr>\n",
       "  </tbody>\n",
       "</table>\n",
       "</div>"
      ],
      "text/plain": [
       "                                                 text  toxic\n",
       "0   Explanation\\nWhy the edits made under my usern...      0\n",
       "1   D'aww! He matches this background colour I'm s...      0\n",
       "2   Hey man, I'm really not trying to edit war. It...      0\n",
       "3   \"\\nMore\\nI can't make any real suggestions on ...      0\n",
       "4   You, sir, are my hero. Any chance you remember...      0\n",
       "5   \"\\n\\nCongratulations from me as well, use the ...      0\n",
       "6        COCKSUCKER BEFORE YOU PISS AROUND ON MY WORK      1\n",
       "7   Your vandalism to the Matt Shirvington article...      0\n",
       "8   Sorry if the word 'nonsense' was offensive to ...      0\n",
       "9   alignment on this subject and which are contra...      0\n",
       "10  \"\\nFair use rationale for Image:Wonju.jpg\\n\\nT...      0\n",
       "11  bbq \\n\\nbe a man and lets discuss it-maybe ove...      0\n",
       "12  Hey... what is it..\\n@ | talk .\\nWhat is it......      1\n",
       "13  Before you start throwing accusations and warn...      0\n",
       "14  Oh, and the girl above started her arguments w...      0"
      ]
     },
     "execution_count": 3,
     "metadata": {},
     "output_type": "execute_result"
    }
   ],
   "source": [
    "df.head(15)"
   ]
  },
  {
   "cell_type": "markdown",
   "metadata": {},
   "source": [
    "The text needs to be lemitized, the imbalance in the target category is visible"
   ]
  },
  {
   "cell_type": "code",
   "execution_count": 4,
   "metadata": {},
   "outputs": [
    {
     "data": {
      "text/html": [
       "<div>\n",
       "<style scoped>\n",
       "    .dataframe tbody tr th:only-of-type {\n",
       "        vertical-align: middle;\n",
       "    }\n",
       "\n",
       "    .dataframe tbody tr th {\n",
       "        vertical-align: top;\n",
       "    }\n",
       "\n",
       "    .dataframe thead th {\n",
       "        text-align: right;\n",
       "    }\n",
       "</style>\n",
       "<table border=\"1\" class=\"dataframe\">\n",
       "  <thead>\n",
       "    <tr style=\"text-align: right;\">\n",
       "      <th></th>\n",
       "      <th>Values</th>\n",
       "      <th>Data type</th>\n",
       "      <th>Unique values</th>\n",
       "      <th>Missing</th>\n",
       "      <th>Duplicates</th>\n",
       "    </tr>\n",
       "  </thead>\n",
       "  <tbody>\n",
       "    <tr>\n",
       "      <th>text</th>\n",
       "      <td>[Explanation\\nWhy the edits made under my user...</td>\n",
       "      <td>object</td>\n",
       "      <td>159292</td>\n",
       "      <td>0</td>\n",
       "      <td>0</td>\n",
       "    </tr>\n",
       "    <tr>\n",
       "      <th>toxic</th>\n",
       "      <td>[0, 1]</td>\n",
       "      <td>int64</td>\n",
       "      <td>2</td>\n",
       "      <td>0</td>\n",
       "      <td>0</td>\n",
       "    </tr>\n",
       "  </tbody>\n",
       "</table>\n",
       "</div>"
      ],
      "text/plain": [
       "                                                  Values Data type  \\\n",
       "text   [Explanation\\nWhy the edits made under my user...    object   \n",
       "toxic                                             [0, 1]     int64   \n",
       "\n",
       "      Unique values Missing Duplicates  \n",
       "text         159292       0          0  \n",
       "toxic             2       0          0  "
      ]
     },
     "execution_count": 4,
     "metadata": {},
     "output_type": "execute_result"
    }
   ],
   "source": [
    "# Description function, checking for gaps and duplicates\n",
    "def describe_columns(df):\n",
    "    \n",
    "    values = pd.DataFrame()\n",
    "    \n",
    "    for col in df.columns:\n",
    "        values[col] = [df[col].unique(), df[col].dtypes, df[col].nunique(), df[col].isnull().sum().sum(), df. duplicated().sum()]\n",
    "        \n",
    "    return values.transpose().sort_values(by=1, ascending=False).rename(\n",
    "        {0: 'Values', 1: 'Data type', 2: 'Unique values', 3: 'Missing', 4: 'Duplicates'}, axis=1)\n",
    "\n",
    "describe_columns(df)"
   ]
  },
  {
   "cell_type": "markdown",
   "metadata": {},
   "source": [
    "Everything is ok with the data, there are no gaps and duplicates"
   ]
  },
  {
   "cell_type": "code",
   "execution_count": 5,
   "metadata": {},
   "outputs": [],
   "source": [
    "nlp = spacy.load(\"en_core_web_sm\")"
   ]
  },
  {
   "cell_type": "code",
   "execution_count": 6,
   "metadata": {},
   "outputs": [],
   "source": [
    "# cleanup function and text lemitization\n",
    "def lemm(text):\n",
    "    doc = nlp(text) \n",
    "    tokens = [token.lemma_ for token in doc if not token.is_stop and token.is_alpha] # keep only alphabetic tokens\n",
    "    clean_text = ' '.join(tokens)\n",
    "    return clean_text"
   ]
  },
  {
   "cell_type": "code",
   "execution_count": 7,
   "metadata": {},
   "outputs": [],
   "source": [
    "def clean(text):\n",
    "    text = re.sub(r'\\W', ' ', text) # remove non-alphanumeric characters\n",
    "    text = re.sub(r'\\d', ' ', text) # remove digits\n",
    "    text = re.sub(r'\\s+', ' ', text) # remove extra whitespaces\n",
    "    return text.strip().lower() # convert to lowercase and remove leading/trailing whitespaces"
   ]
  },
  {
   "cell_type": "code",
   "execution_count": 8,
   "metadata": {},
   "outputs": [],
   "source": [
    "df_good = df"
   ]
  },
  {
   "cell_type": "code",
   "execution_count": 9,
   "metadata": {},
   "outputs": [
    {
     "data": {
      "application/vnd.jupyter.widget-view+json": {
       "model_id": "528cf8cb330e43cd84d025fedfd96f2d",
       "version_major": 2,
       "version_minor": 0
      },
      "text/plain": [
       "  0%|          | 0/159292 [00:00<?, ?it/s]"
      ]
     },
     "metadata": {},
     "output_type": "display_data"
    }
   ],
   "source": [
    "df_good['text_good'] = df_good['text'].progress_apply(lemm)"
   ]
  },
  {
   "cell_type": "code",
   "execution_count": 10,
   "metadata": {},
   "outputs": [
    {
     "data": {
      "application/vnd.jupyter.widget-view+json": {
       "model_id": "2b27240d01bf485888d57624191f9fe2",
       "version_major": 2,
       "version_minor": 0
      },
      "text/plain": [
       "  0%|          | 0/159292 [00:00<?, ?it/s]"
      ]
     },
     "metadata": {},
     "output_type": "display_data"
    }
   ],
   "source": [
    "df_good['text_good'] = df_good['text_good'].progress_apply(clean)"
   ]
  },
  {
   "cell_type": "code",
   "execution_count": 11,
   "metadata": {},
   "outputs": [
    {
     "data": {
      "text/html": [
       "<div>\n",
       "<style scoped>\n",
       "    .dataframe tbody tr th:only-of-type {\n",
       "        vertical-align: middle;\n",
       "    }\n",
       "\n",
       "    .dataframe tbody tr th {\n",
       "        vertical-align: top;\n",
       "    }\n",
       "\n",
       "    .dataframe thead th {\n",
       "        text-align: right;\n",
       "    }\n",
       "</style>\n",
       "<table border=\"1\" class=\"dataframe\">\n",
       "  <thead>\n",
       "    <tr style=\"text-align: right;\">\n",
       "      <th></th>\n",
       "      <th>text</th>\n",
       "      <th>toxic</th>\n",
       "      <th>text_good</th>\n",
       "    </tr>\n",
       "  </thead>\n",
       "  <tbody>\n",
       "    <tr>\n",
       "      <th>0</th>\n",
       "      <td>Explanation\\nWhy the edits made under my usern...</td>\n",
       "      <td>0</td>\n",
       "      <td>explanation edit username hardcore metallica f...</td>\n",
       "    </tr>\n",
       "    <tr>\n",
       "      <th>1</th>\n",
       "      <td>D'aww! He matches this background colour I'm s...</td>\n",
       "      <td>0</td>\n",
       "      <td>match background colour seemingly stick thank ...</td>\n",
       "    </tr>\n",
       "    <tr>\n",
       "      <th>2</th>\n",
       "      <td>Hey man, I'm really not trying to edit war. It...</td>\n",
       "      <td>0</td>\n",
       "      <td>hey man try edit war guy constantly remove rel...</td>\n",
       "    </tr>\n",
       "    <tr>\n",
       "      <th>3</th>\n",
       "      <td>\"\\nMore\\nI can't make any real suggestions on ...</td>\n",
       "      <td>0</td>\n",
       "      <td>real suggestion improvement wonder section sta...</td>\n",
       "    </tr>\n",
       "    <tr>\n",
       "      <th>4</th>\n",
       "      <td>You, sir, are my hero. Any chance you remember...</td>\n",
       "      <td>0</td>\n",
       "      <td>sir hero chance remember page</td>\n",
       "    </tr>\n",
       "    <tr>\n",
       "      <th>...</th>\n",
       "      <td>...</td>\n",
       "      <td>...</td>\n",
       "      <td>...</td>\n",
       "    </tr>\n",
       "    <tr>\n",
       "      <th>159446</th>\n",
       "      <td>\":::::And for the second time of asking, when ...</td>\n",
       "      <td>0</td>\n",
       "      <td>second time asking view completely contradict ...</td>\n",
       "    </tr>\n",
       "    <tr>\n",
       "      <th>159447</th>\n",
       "      <td>You should be ashamed of yourself \\n\\nThat is ...</td>\n",
       "      <td>0</td>\n",
       "      <td>ashamed horrible thing talk page</td>\n",
       "    </tr>\n",
       "    <tr>\n",
       "      <th>159448</th>\n",
       "      <td>Spitzer \\n\\nUmm, theres no actual article for ...</td>\n",
       "      <td>0</td>\n",
       "      <td>spitzer umm s actual article prostitution ring...</td>\n",
       "    </tr>\n",
       "    <tr>\n",
       "      <th>159449</th>\n",
       "      <td>And it looks like it was actually you who put ...</td>\n",
       "      <td>0</td>\n",
       "      <td>look like actually speedy version delete look</td>\n",
       "    </tr>\n",
       "    <tr>\n",
       "      <th>159450</th>\n",
       "      <td>\"\\nAnd ... I really don't think you understand...</td>\n",
       "      <td>0</td>\n",
       "      <td>think understand come idea bad right away kind...</td>\n",
       "    </tr>\n",
       "  </tbody>\n",
       "</table>\n",
       "<p>159292 rows × 3 columns</p>\n",
       "</div>"
      ],
      "text/plain": [
       "                                                     text  toxic  \\\n",
       "0       Explanation\\nWhy the edits made under my usern...      0   \n",
       "1       D'aww! He matches this background colour I'm s...      0   \n",
       "2       Hey man, I'm really not trying to edit war. It...      0   \n",
       "3       \"\\nMore\\nI can't make any real suggestions on ...      0   \n",
       "4       You, sir, are my hero. Any chance you remember...      0   \n",
       "...                                                   ...    ...   \n",
       "159446  \":::::And for the second time of asking, when ...      0   \n",
       "159447  You should be ashamed of yourself \\n\\nThat is ...      0   \n",
       "159448  Spitzer \\n\\nUmm, theres no actual article for ...      0   \n",
       "159449  And it looks like it was actually you who put ...      0   \n",
       "159450  \"\\nAnd ... I really don't think you understand...      0   \n",
       "\n",
       "                                                text_good  \n",
       "0       explanation edit username hardcore metallica f...  \n",
       "1       match background colour seemingly stick thank ...  \n",
       "2       hey man try edit war guy constantly remove rel...  \n",
       "3       real suggestion improvement wonder section sta...  \n",
       "4                           sir hero chance remember page  \n",
       "...                                                   ...  \n",
       "159446  second time asking view completely contradict ...  \n",
       "159447                   ashamed horrible thing talk page  \n",
       "159448  spitzer umm s actual article prostitution ring...  \n",
       "159449      look like actually speedy version delete look  \n",
       "159450  think understand come idea bad right away kind...  \n",
       "\n",
       "[159292 rows x 3 columns]"
      ]
     },
     "execution_count": 11,
     "metadata": {},
     "output_type": "execute_result"
    }
   ],
   "source": [
    "df_good"
   ]
  },
  {
   "cell_type": "code",
   "execution_count": 12,
   "metadata": {},
   "outputs": [],
   "source": [
    "df_clean = df_good"
   ]
  },
  {
   "cell_type": "code",
   "execution_count": 13,
   "metadata": {},
   "outputs": [],
   "source": [
    "df_clean = df_clean.drop('text', axis=1)"
   ]
  },
  {
   "cell_type": "markdown",
   "metadata": {},
   "source": [
    "Data cleaned and lemmitized"
   ]
  },
  {
   "cell_type": "code",
   "execution_count": 14,
   "metadata": {},
   "outputs": [],
   "source": [
    "df_fin = df_clean"
   ]
  },
  {
   "cell_type": "code",
   "execution_count": 15,
   "metadata": {},
   "outputs": [],
   "source": [
    "# divide into training and test sets\n",
    "X_train, X_test, y_train, y_test = train_test_split(df_fin['text_good'], df_fin['toxic'], \n",
    "                                                              test_size=0.25, random_state=12345, \n",
    "                                                              stratify=df_fin['toxic'])"
   ]
  },
  {
   "cell_type": "code",
   "execution_count": 16,
   "metadata": {},
   "outputs": [
    {
     "data": {
      "image/png": "[encoded data removed]",
      "text/plain": [
       "<Figure size 432x288 with 1 Axes>"
      ]
     },
     "metadata": {
      "needs_background": "light"
     },
     "output_type": "display_data"
    }
   ],
   "source": [
    "y_train.value_counts(normalize = (0,1)).plot(kind = 'bar')\n",
    "plt.show()"
   ]
  },
  {
   "cell_type": "code",
   "execution_count": 17,
   "metadata": {},
   "outputs": [],
   "source": [
    "# function upsample\n",
    "def upsample(features, target, repeat):\n",
    "    features_zeros = features[target == 0]\n",
    "    features_ones = features[target == 1]\n",
    "    target_zeros = target[target == 0]\n",
    "    target_ones = target[target == 1]\n",
    "    features_upsampled = pd.concat([features_zeros] + [features_ones] * repeat)\n",
    "    target_upsampled = pd.concat([target_zeros] + [target_ones] * repeat)\n",
    "    features_upsampled, target_upsampled = shuffle(features_upsampled, target_upsampled, random_state=42)\n",
    "    return features_upsampled, target_upsampled\n",
    "# Upsample the training data\n",
    "X_train_upsampled, y_train_upsampled = upsample(X_train, y_train, repeat=5)"
   ]
  },
  {
   "cell_type": "code",
   "execution_count": 18,
   "metadata": {},
   "outputs": [
    {
     "data": {
      "image/png": "[encoded data removed]",
      "text/plain": [
       "<Figure size 432x288 with 1 Axes>"
      ]
     },
     "metadata": {
      "needs_background": "light"
     },
     "output_type": "display_data"
    }
   ],
   "source": [
    "y_train_upsampled.value_counts(normalize = (0,1)).plot(kind = 'bar')\n",
    "plt.show()"
   ]
  },
  {
   "cell_type": "code",
   "execution_count": 19,
   "metadata": {},
   "outputs": [
    {
     "data": {
      "text/plain": [
       "(168029,)"
      ]
     },
     "execution_count": 19,
     "metadata": {},
     "output_type": "execute_result"
    }
   ],
   "source": [
    "#check shapes\n",
    "X_train_upsampled.shape"
   ]
  },
  {
   "cell_type": "code",
   "execution_count": 20,
   "metadata": {
    "scrolled": true
   },
   "outputs": [
    {
     "data": {
      "text/plain": [
       "(168029,)"
      ]
     },
     "execution_count": 20,
     "metadata": {},
     "output_type": "execute_result"
    }
   ],
   "source": [
    "y_train_upsampled.shape"
   ]
  },
  {
   "cell_type": "markdown",
   "metadata": {},
   "source": [
    "Data prepared for model training"
   ]
  },
  {
   "cell_type": "markdown",
   "metadata": {},
   "source": [
    "Disbalance removed."
   ]
  },
  {
   "cell_type": "markdown",
   "metadata": {},
   "source": [
    "## Training"
   ]
  },
  {
   "cell_type": "markdown",
   "metadata": {},
   "source": [
    "Text categorization in Python is typically done using machine learning models based on classification methods. Depending on specific requirements, you can choose from several algorithms, such as:\n",
    "\n",
    "- Naive Bayes: This is a simple classification algorithm based on Bayes' theorem and is used for text classification tasks. It works well for text categorization tasks with a large number of categories.\n",
    "\n",
    "- Logistic Regression: This classification method uses a linear combination of features to predict category labels. Logistic regression can be used for text categorization tasks.\n",
    "\n",
    "- Support Vector Machines (SVM): This algorithm finds an optimal separating hyperplane between two classes. SVM can be used for text categorization tasks, especially for datasets with two classes.\n",
    "\n",
    "- Random Forest: This is an ensemble method that combines multiple decision trees to obtain a more accurate result. Random Forest can be used for text categorization, especially when the dataset has many features."
   ]
  },
  {
   "cell_type": "markdown",
   "metadata": {},
   "source": [
    "Of these models, we will consider Logistic Regression and Support Vector Machines. We discard the naive Bayens method because of the specifics of the method, which is aimed at problems with a large number of categorizations. Random Forest due to too long training time."
   ]
  },
  {
   "cell_type": "markdown",
   "metadata": {},
   "source": [
    "### LogisticRegression"
   ]
  },
  {
   "cell_type": "code",
   "execution_count": 21,
   "metadata": {},
   "outputs": [
    {
     "name": "stdout",
     "output_type": "stream",
     "text": [
      "Best parameters found: {'model__C': 10, 'model__penalty': 'l1', 'vectorizer__max_features': 10000}\n",
      "Training F1 score: 0.9351914389986608\n",
      "Test F1 score: 0.7367703838292073\n"
     ]
    }
   ],
   "source": [
    "pipeline = Pipeline([\n",
    "    ('vectorizer', TfidfVectorizer()),\n",
    "    ('model', LogisticRegression(solver='liblinear', random_state=42))\n",
    "])\n",
    "\n",
    "params = {\n",
    "    'vectorizer__max_features': [1000, 5000, 10000],\n",
    "    'model__C': [0.1, 1, 10],\n",
    "    'model__penalty': ['l1', 'l2']\n",
    "}\n",
    "\n",
    "gs_lr = GridSearchCV(pipeline, param_grid=params, cv=5, scoring='f1', n_jobs=-1, error_score='raise')\n",
    "gs_lr.fit(X_train_upsampled, y_train_upsampled)\n",
    "\n",
    "print(\"Best parameters found:\", gs_lr.best_params_)\n",
    "print(\"Training F1 score:\", gs_lr.best_score_)\n",
    "\n",
    "# Evaluate on test data\n",
    "y_pred_test = gs_lr.predict(X_test)\n",
    "f1_score_test = f1_score(y_test, y_pred_test)\n",
    "print(\"Test F1 score:\", f1_score_test)"
   ]
  },
  {
   "cell_type": "markdown",
   "metadata": {},
   "source": [
    "### SGD"
   ]
  },
  {
   "cell_type": "code",
   "execution_count": 22,
   "metadata": {},
   "outputs": [
    {
     "name": "stdout",
     "output_type": "stream",
     "text": [
      "Best parameters found: {'model__alpha': 0.0001, 'model__penalty': 'l2', 'vectorizer__max_features': 10000}\n",
      "Training F1 score: 0.8633803407602023\n",
      "Test F1 score: 0.7744342203431983\n"
     ]
    }
   ],
   "source": [
    "\n",
    "pipeline = Pipeline([\n",
    "    ('vectorizer', TfidfVectorizer()),\n",
    "    ('model', SGDClassifier(random_state=42))\n",
    "])\n",
    "\n",
    "params = {\n",
    "    'vectorizer__max_features': [1000, 5000, 10000],\n",
    "    'model__alpha': [0.0001, 0.001, 0.01],\n",
    "    'model__penalty': ['l1', 'l2']\n",
    "}\n",
    "\n",
    "gs_sgd = GridSearchCV(pipeline, param_grid=params, cv=5, scoring='f1', n_jobs=-1, error_score='raise')\n",
    "gs_sgd.fit(X_train_upsampled, y_train_upsampled)\n",
    "\n",
    "print(\"Best parameters found:\", gs_sgd.best_params_)\n",
    "print(\"Training F1 score:\", gs_sgd.best_score_)\n",
    "\n",
    "# Evaluate on test data\n",
    "y_pred_test = gs_sgd.predict(X_test)\n",
    "f1_score_test = f1_score(y_test, y_pred_test)\n",
    "print(\"Test F1 score:\", f1_score_test)"
   ]
  },
  {
   "cell_type": "markdown",
   "metadata": {},
   "source": [
    "### LinearSVC"
   ]
  },
  {
   "cell_type": "code",
   "execution_count": 23,
   "metadata": {},
   "outputs": [
    {
     "name": "stdout",
     "output_type": "stream",
     "text": [
      "Best parameters found: {'model__C': 10, 'vectorizer__max_features': 10000}\n",
      "Training F1 score: 0.9320429372523579\n",
      "Test F1 score: 0.7219215155615697\n"
     ]
    }
   ],
   "source": [
    "pipeline = Pipeline([\n",
    "    ('vectorizer', TfidfVectorizer()),\n",
    "    ('model', LinearSVC(random_state=42))\n",
    "])\n",
    "\n",
    "params = {\n",
    "    'vectorizer__max_features': [1000, 5000, 10000],\n",
    "    'model__C': [0.1, 1, 10]\n",
    "}\n",
    "\n",
    "gs_linear_svc = GridSearchCV(pipeline, param_grid=params, cv=5, scoring='f1', n_jobs=-1, error_score='raise')\n",
    "gs_linear_svc.fit(X_train_upsampled, y_train_upsampled)\n",
    "\n",
    "print(\"Best parameters found:\", gs_linear_svc.best_params_)\n",
    "print(\"Training F1 score:\", gs_linear_svc.best_score_)\n",
    "\n",
    "# Evaluate on test data\n",
    "y_pred_test = gs_linear_svc.predict(X_test)\n",
    "f1_score_test = f1_score(y_test, y_pred_test)\n",
    "print(\"Test F1 score:\", f1_score_test)"
   ]
  },
  {
   "cell_type": "markdown",
   "metadata": {},
   "source": [
    "LinearSVC showed the best result."
   ]
  },
  {
   "cell_type": "markdown",
   "metadata": {},
   "source": [
    "### Validation on test data"
   ]
  },
  {
   "cell_type": "code",
   "execution_count": 24,
   "metadata": {},
   "outputs": [
    {
     "name": "stdout",
     "output_type": "stream",
     "text": [
      "Test F1 score: 0.7744342203431983\n"
     ]
    }
   ],
   "source": [
    "# Evaluate on test data\n",
    "y_pred_test = gs_sgd.predict(X_test)\n",
    "f1_score_test = f1_score(y_test, y_pred_test)\n",
    "print(\"Test F1 score:\", f1_score_test)"
   ]
  },
  {
   "cell_type": "markdown",
   "metadata": {},
   "source": [
    "The model shows a good result. It is this model that is recommended to be transferred to the customer."
   ]
  },
  {
   "cell_type": "markdown",
   "metadata": {},
   "source": [
    "## Сonclusions"
   ]
  },
  {
   "cell_type": "markdown",
   "metadata": {},
   "source": [
    "To complete the task, it was necessary to balance the classes, and also carried out data lemitization. We considered models suitable for our tasks - Linear Regression, SGD and SVC, using the enumeration of parameters using the GridSearch method along with pipline.\n",
    "\n",
    "We determined the best model that meets the requirements for the F1-score metric, with a quality of at least 0.75."
   ]
  },
  {
   "cell_type": "code",
   "execution_count": null,
   "metadata": {},
   "outputs": [],
   "source": []
  }
 ],
 "metadata": {
  "ExecuteTimeLog": [
   {
    "duration": 8602,
    "start_time": "2023-03-12T10:01:16.457Z"
   },
   {
    "duration": 194,
    "start_time": "2023-03-12T10:01:34.047Z"
   },
   {
    "duration": 4093,
    "start_time": "2023-03-12T10:01:44.957Z"
   },
   {
    "duration": 15,
    "start_time": "2023-03-12T10:02:00.289Z"
   },
   {
    "duration": 939,
    "start_time": "2023-03-12T10:02:18.151Z"
   },
   {
    "duration": 9,
    "start_time": "2023-03-12T10:03:12.529Z"
   },
   {
    "duration": 4,
    "start_time": "2023-03-12T10:04:11.887Z"
   },
   {
    "duration": 1491,
    "start_time": "2023-03-12T10:04:23.599Z"
   },
   {
    "duration": 4793,
    "start_time": "2023-03-12T10:04:35.447Z"
   },
   {
    "duration": 19,
    "start_time": "2023-03-12T10:07:27.187Z"
   },
   {
    "duration": 13,
    "start_time": "2023-03-12T10:08:49.971Z"
   },
   {
    "duration": 17,
    "start_time": "2023-03-12T10:10:01.593Z"
   },
   {
    "duration": 825,
    "start_time": "2023-03-12T10:10:11.719Z"
   },
   {
    "duration": 378,
    "start_time": "2023-03-12T10:10:46.191Z"
   },
   {
    "duration": 96,
    "start_time": "2023-03-12T10:10:53.972Z"
   },
   {
    "duration": 91,
    "start_time": "2023-03-12T10:11:45.069Z"
   },
   {
    "duration": 91,
    "start_time": "2023-03-12T10:12:00.032Z"
   },
   {
    "duration": 18,
    "start_time": "2023-03-12T10:16:38.989Z"
   },
   {
    "duration": 3,
    "start_time": "2023-03-12T10:16:49.861Z"
   },
   {
    "duration": 23,
    "start_time": "2023-03-12T10:17:15.040Z"
   },
   {
    "duration": 24,
    "start_time": "2023-03-12T10:21:15.802Z"
   },
   {
    "duration": 8,
    "start_time": "2023-03-12T10:21:41.663Z"
   },
   {
    "duration": 20,
    "start_time": "2023-03-12T10:21:51.675Z"
   },
   {
    "duration": 37,
    "start_time": "2023-03-12T10:23:17.515Z"
   },
   {
    "duration": 7,
    "start_time": "2023-03-12T10:24:08.790Z"
   },
   {
    "duration": 9,
    "start_time": "2023-03-12T10:24:15.598Z"
   },
   {
    "duration": 3938,
    "start_time": "2023-03-12T10:24:36.873Z"
   },
   {
    "duration": 4248,
    "start_time": "2023-03-12T10:24:40.813Z"
   },
   {
    "duration": 12,
    "start_time": "2023-03-12T10:24:45.064Z"
   },
   {
    "duration": 1034,
    "start_time": "2023-03-12T10:24:45.078Z"
   },
   {
    "duration": 4,
    "start_time": "2023-03-12T10:24:46.114Z"
   },
   {
    "duration": 84551,
    "start_time": "2023-03-12T10:24:46.120Z"
   },
   {
    "duration": 21,
    "start_time": "2023-03-12T10:26:10.672Z"
   },
   {
    "duration": 132,
    "start_time": "2023-03-12T10:26:10.694Z"
   },
   {
    "duration": 45,
    "start_time": "2023-03-12T10:26:10.828Z"
   },
   {
    "duration": 150,
    "start_time": "2023-03-12T10:26:10.876Z"
   },
   {
    "duration": 51,
    "start_time": "2023-03-12T10:26:11.028Z"
   },
   {
    "duration": 2354,
    "start_time": "2023-03-12T10:26:11.081Z"
   },
   {
    "duration": 0,
    "start_time": "2023-03-12T10:26:13.438Z"
   },
   {
    "duration": 25,
    "start_time": "2023-03-12T10:29:01.505Z"
   },
   {
    "duration": 17,
    "start_time": "2023-03-12T10:30:20.001Z"
   },
   {
    "duration": 110,
    "start_time": "2023-03-12T10:31:00.342Z"
   },
   {
    "duration": 12928,
    "start_time": "2023-03-12T10:33:12.505Z"
   },
   {
    "duration": 28,
    "start_time": "2023-03-12T10:34:17.452Z"
   },
   {
    "duration": 19,
    "start_time": "2023-03-12T10:35:26.560Z"
   },
   {
    "duration": 19,
    "start_time": "2023-03-12T10:35:40.803Z"
   },
   {
    "duration": 761,
    "start_time": "2023-03-12T10:36:30.020Z"
   },
   {
    "duration": 4,
    "start_time": "2023-03-12T10:36:39.601Z"
   },
   {
    "duration": 23,
    "start_time": "2023-03-12T10:36:40.635Z"
   },
   {
    "duration": 18,
    "start_time": "2023-03-12T10:36:59.657Z"
   },
   {
    "duration": 22,
    "start_time": "2023-03-12T10:38:04.697Z"
   },
   {
    "duration": 4731,
    "start_time": "2023-03-12T14:51:38.048Z"
   },
   {
    "duration": 1080,
    "start_time": "2023-03-12T14:51:42.781Z"
   },
   {
    "duration": 11,
    "start_time": "2023-03-12T14:51:43.863Z"
   },
   {
    "duration": 221,
    "start_time": "2023-03-12T14:54:36.465Z"
   },
   {
    "duration": 53,
    "start_time": "2023-03-12T14:54:51.013Z"
   },
   {
    "duration": 736,
    "start_time": "2023-03-12T14:54:51.852Z"
   },
   {
    "duration": 8,
    "start_time": "2023-03-12T14:54:55.004Z"
   },
   {
    "duration": 32,
    "start_time": "2023-03-12T14:54:57.319Z"
   },
   {
    "duration": 10,
    "start_time": "2023-03-12T14:55:17.978Z"
   },
   {
    "duration": 732,
    "start_time": "2023-03-12T14:55:38.077Z"
   },
   {
    "duration": 10,
    "start_time": "2023-03-12T14:57:20.732Z"
   },
   {
    "duration": 196,
    "start_time": "2023-03-12T14:57:53.886Z"
   },
   {
    "duration": 10,
    "start_time": "2023-03-12T15:02:35.337Z"
   },
   {
    "duration": 75,
    "start_time": "2023-03-12T15:02:52.290Z"
   },
   {
    "duration": 37,
    "start_time": "2023-03-12T15:03:40.480Z"
   },
   {
    "duration": 98,
    "start_time": "2023-03-12T15:07:56.586Z"
   },
   {
    "duration": 8,
    "start_time": "2023-03-12T15:11:55.457Z"
   },
   {
    "duration": 2,
    "start_time": "2023-03-12T15:12:27.199Z"
   },
   {
    "duration": 1878,
    "start_time": "2023-03-12T15:13:38.285Z"
   },
   {
    "duration": 49,
    "start_time": "2023-03-12T15:14:15.607Z"
   },
   {
    "duration": 881,
    "start_time": "2023-03-13T16:28:20.446Z"
   },
   {
    "duration": 4471,
    "start_time": "2023-03-13T16:28:42.679Z"
   },
   {
    "duration": 11,
    "start_time": "2023-03-13T16:28:55.546Z"
   },
   {
    "duration": 7,
    "start_time": "2023-03-13T16:29:10.441Z"
   },
   {
    "duration": 869,
    "start_time": "2023-03-13T16:29:59.535Z"
   },
   {
    "duration": 9862,
    "start_time": "2023-03-13T16:31:33.696Z"
   },
   {
    "duration": 78,
    "start_time": "2023-03-13T16:32:20.952Z"
   },
   {
    "duration": 2926,
    "start_time": "2023-03-13T16:32:27.170Z"
   },
   {
    "duration": 12,
    "start_time": "2023-03-13T16:32:36.918Z"
   },
   {
    "duration": 4284,
    "start_time": "2023-03-13T16:33:26.717Z"
   },
   {
    "duration": 4,
    "start_time": "2023-03-13T16:35:36.478Z"
   }
  ],
  "kernelspec": {
   "display_name": "Python 3 (ipykernel)",
   "language": "python",
   "name": "python3"
  },
  "language_info": {
   "codemirror_mode": {
    "name": "ipython",
    "version": 3
   },
   "file_extension": ".py",
   "mimetype": "text/x-python",
   "name": "python",
   "nbconvert_exporter": "python",
   "pygments_lexer": "ipython3",
   "version": "3.9.12"
  },
  "toc": {
   "base_numbering": 1,
   "nav_menu": {},
   "number_sections": true,
   "sideBar": true,
   "skip_h1_title": true,
   "title_cell": "Содержание",
   "title_sidebar": "Contents",
   "toc_cell": true,
   "toc_position": {
    "height": "calc(100% - 180px)",
    "left": "10px",
    "top": "150px",
    "width": "302.391px"
   },
   "toc_section_display": true,
   "toc_window_display": false
  }
 },
 "nbformat": 4,
 "nbformat_minor": 2
}
