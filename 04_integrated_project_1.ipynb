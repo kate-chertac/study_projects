{
 "cells": [
  {
   "cell_type": "markdown",
   "metadata": {},
   "source": [
    "# Common project"
   ]
  },
  {
   "cell_type": "markdown",
   "metadata": {},
   "source": [
    "## Project Description"
   ]
  },
  {
   "cell_type": "markdown",
   "metadata": {},
   "source": [
    "Within the project for the online store \"Streamchik\", an analysis of historical data on the sales of computer games, user and expert ratings, as well as information on genres, platforms, and age ratings of games is being conducted. The goal of the project is to identify factors that determine the success of games in order to bet on potentially popular products and plan advertising campaigns.\n",
    "\n",
    "The data used covers the period up to 2016. Let's assume that the current moment is December 2016, and there is a need to plan a campaign for the next year. It is important to work with the data principles, regardless of whether sales are forecasted for 2017 based on 2016 data or for 2027 based on 2026 data.\n",
    "\n",
    "The data also includes the abbreviation ESRB (Entertainment Software Rating Board) - an association that determines the age rating of computer games. ESRB evaluates game content and assigns appropriate age categories, such as \"Mature\", \"Early Childhood\", or \"Teen\", to the games."
   ]
  },
  {
   "cell_type": "markdown",
   "metadata": {},
   "source": [
    "## 1 Open the data file and review the general information"
   ]
  },
  {
   "cell_type": "code",
   "execution_count": 87,
   "metadata": {},
   "outputs": [],
   "source": [
    "import pandas as pd\n",
    "import seaborn as sns\n",
    "import numpy as np\n",
    "import matplotlib.pyplot as plt\n",
    "from scipy import stats as st\n",
    "import warnings\n",
    "# Disable all warnings\n",
    "warnings.filterwarnings(\"ignore\")"
   ]
  },
  {
   "cell_type": "code",
   "execution_count": 3,
   "metadata": {},
   "outputs": [
    {
     "data": {
      "text/html": [
       "<div>\n",
       "<style scoped>\n",
       "    .dataframe tbody tr th:only-of-type {\n",
       "        vertical-align: middle;\n",
       "    }\n",
       "\n",
       "    .dataframe tbody tr th {\n",
       "        vertical-align: top;\n",
       "    }\n",
       "\n",
       "    .dataframe thead th {\n",
       "        text-align: right;\n",
       "    }\n",
       "</style>\n",
       "<table border=\"1\" class=\"dataframe\">\n",
       "  <thead>\n",
       "    <tr style=\"text-align: right;\">\n",
       "      <th></th>\n",
       "      <th>Name</th>\n",
       "      <th>Platform</th>\n",
       "      <th>Year_of_Release</th>\n",
       "      <th>Genre</th>\n",
       "      <th>NA_sales</th>\n",
       "      <th>EU_sales</th>\n",
       "      <th>JP_sales</th>\n",
       "      <th>Other_sales</th>\n",
       "      <th>Critic_Score</th>\n",
       "      <th>User_Score</th>\n",
       "      <th>Rating</th>\n",
       "    </tr>\n",
       "  </thead>\n",
       "  <tbody>\n",
       "    <tr>\n",
       "      <th>0</th>\n",
       "      <td>Wii Sports</td>\n",
       "      <td>Wii</td>\n",
       "      <td>2006.0</td>\n",
       "      <td>Sports</td>\n",
       "      <td>41.36</td>\n",
       "      <td>28.96</td>\n",
       "      <td>3.77</td>\n",
       "      <td>8.45</td>\n",
       "      <td>76.0</td>\n",
       "      <td>8</td>\n",
       "      <td>E</td>\n",
       "    </tr>\n",
       "    <tr>\n",
       "      <th>1</th>\n",
       "      <td>Super Mario Bros.</td>\n",
       "      <td>NES</td>\n",
       "      <td>1985.0</td>\n",
       "      <td>Platform</td>\n",
       "      <td>29.08</td>\n",
       "      <td>3.58</td>\n",
       "      <td>6.81</td>\n",
       "      <td>0.77</td>\n",
       "      <td>NaN</td>\n",
       "      <td>NaN</td>\n",
       "      <td>NaN</td>\n",
       "    </tr>\n",
       "    <tr>\n",
       "      <th>2</th>\n",
       "      <td>Mario Kart Wii</td>\n",
       "      <td>Wii</td>\n",
       "      <td>2008.0</td>\n",
       "      <td>Racing</td>\n",
       "      <td>15.68</td>\n",
       "      <td>12.76</td>\n",
       "      <td>3.79</td>\n",
       "      <td>3.29</td>\n",
       "      <td>82.0</td>\n",
       "      <td>8.3</td>\n",
       "      <td>E</td>\n",
       "    </tr>\n",
       "    <tr>\n",
       "      <th>3</th>\n",
       "      <td>Wii Sports Resort</td>\n",
       "      <td>Wii</td>\n",
       "      <td>2009.0</td>\n",
       "      <td>Sports</td>\n",
       "      <td>15.61</td>\n",
       "      <td>10.93</td>\n",
       "      <td>3.28</td>\n",
       "      <td>2.95</td>\n",
       "      <td>80.0</td>\n",
       "      <td>8</td>\n",
       "      <td>E</td>\n",
       "    </tr>\n",
       "    <tr>\n",
       "      <th>4</th>\n",
       "      <td>Pokemon Red/Pokemon Blue</td>\n",
       "      <td>GB</td>\n",
       "      <td>1996.0</td>\n",
       "      <td>Role-Playing</td>\n",
       "      <td>11.27</td>\n",
       "      <td>8.89</td>\n",
       "      <td>10.22</td>\n",
       "      <td>1.00</td>\n",
       "      <td>NaN</td>\n",
       "      <td>NaN</td>\n",
       "      <td>NaN</td>\n",
       "    </tr>\n",
       "    <tr>\n",
       "      <th>...</th>\n",
       "      <td>...</td>\n",
       "      <td>...</td>\n",
       "      <td>...</td>\n",
       "      <td>...</td>\n",
       "      <td>...</td>\n",
       "      <td>...</td>\n",
       "      <td>...</td>\n",
       "      <td>...</td>\n",
       "      <td>...</td>\n",
       "      <td>...</td>\n",
       "      <td>...</td>\n",
       "    </tr>\n",
       "    <tr>\n",
       "      <th>16710</th>\n",
       "      <td>Samurai Warriors: Sanada Maru</td>\n",
       "      <td>PS3</td>\n",
       "      <td>2016.0</td>\n",
       "      <td>Action</td>\n",
       "      <td>0.00</td>\n",
       "      <td>0.00</td>\n",
       "      <td>0.01</td>\n",
       "      <td>0.00</td>\n",
       "      <td>NaN</td>\n",
       "      <td>NaN</td>\n",
       "      <td>NaN</td>\n",
       "    </tr>\n",
       "    <tr>\n",
       "      <th>16711</th>\n",
       "      <td>LMA Manager 2007</td>\n",
       "      <td>X360</td>\n",
       "      <td>2006.0</td>\n",
       "      <td>Sports</td>\n",
       "      <td>0.00</td>\n",
       "      <td>0.01</td>\n",
       "      <td>0.00</td>\n",
       "      <td>0.00</td>\n",
       "      <td>NaN</td>\n",
       "      <td>NaN</td>\n",
       "      <td>NaN</td>\n",
       "    </tr>\n",
       "    <tr>\n",
       "      <th>16712</th>\n",
       "      <td>Haitaka no Psychedelica</td>\n",
       "      <td>PSV</td>\n",
       "      <td>2016.0</td>\n",
       "      <td>Adventure</td>\n",
       "      <td>0.00</td>\n",
       "      <td>0.00</td>\n",
       "      <td>0.01</td>\n",
       "      <td>0.00</td>\n",
       "      <td>NaN</td>\n",
       "      <td>NaN</td>\n",
       "      <td>NaN</td>\n",
       "    </tr>\n",
       "    <tr>\n",
       "      <th>16713</th>\n",
       "      <td>Spirits &amp; Spells</td>\n",
       "      <td>GBA</td>\n",
       "      <td>2003.0</td>\n",
       "      <td>Platform</td>\n",
       "      <td>0.01</td>\n",
       "      <td>0.00</td>\n",
       "      <td>0.00</td>\n",
       "      <td>0.00</td>\n",
       "      <td>NaN</td>\n",
       "      <td>NaN</td>\n",
       "      <td>NaN</td>\n",
       "    </tr>\n",
       "    <tr>\n",
       "      <th>16714</th>\n",
       "      <td>Winning Post 8 2016</td>\n",
       "      <td>PSV</td>\n",
       "      <td>2016.0</td>\n",
       "      <td>Simulation</td>\n",
       "      <td>0.00</td>\n",
       "      <td>0.00</td>\n",
       "      <td>0.01</td>\n",
       "      <td>0.00</td>\n",
       "      <td>NaN</td>\n",
       "      <td>NaN</td>\n",
       "      <td>NaN</td>\n",
       "    </tr>\n",
       "  </tbody>\n",
       "</table>\n",
       "<p>16715 rows × 11 columns</p>\n",
       "</div>"
      ],
      "text/plain": [
       "                                Name Platform  Year_of_Release         Genre  \\\n",
       "0                         Wii Sports      Wii           2006.0        Sports   \n",
       "1                  Super Mario Bros.      NES           1985.0      Platform   \n",
       "2                     Mario Kart Wii      Wii           2008.0        Racing   \n",
       "3                  Wii Sports Resort      Wii           2009.0        Sports   \n",
       "4           Pokemon Red/Pokemon Blue       GB           1996.0  Role-Playing   \n",
       "...                              ...      ...              ...           ...   \n",
       "16710  Samurai Warriors: Sanada Maru      PS3           2016.0        Action   \n",
       "16711               LMA Manager 2007     X360           2006.0        Sports   \n",
       "16712        Haitaka no Psychedelica      PSV           2016.0     Adventure   \n",
       "16713               Spirits & Spells      GBA           2003.0      Platform   \n",
       "16714            Winning Post 8 2016      PSV           2016.0    Simulation   \n",
       "\n",
       "       NA_sales  EU_sales  JP_sales  Other_sales  Critic_Score User_Score  \\\n",
       "0         41.36     28.96      3.77         8.45          76.0          8   \n",
       "1         29.08      3.58      6.81         0.77           NaN        NaN   \n",
       "2         15.68     12.76      3.79         3.29          82.0        8.3   \n",
       "3         15.61     10.93      3.28         2.95          80.0          8   \n",
       "4         11.27      8.89     10.22         1.00           NaN        NaN   \n",
       "...         ...       ...       ...          ...           ...        ...   \n",
       "16710      0.00      0.00      0.01         0.00           NaN        NaN   \n",
       "16711      0.00      0.01      0.00         0.00           NaN        NaN   \n",
       "16712      0.00      0.00      0.01         0.00           NaN        NaN   \n",
       "16713      0.01      0.00      0.00         0.00           NaN        NaN   \n",
       "16714      0.00      0.00      0.01         0.00           NaN        NaN   \n",
       "\n",
       "      Rating  \n",
       "0          E  \n",
       "1        NaN  \n",
       "2          E  \n",
       "3          E  \n",
       "4        NaN  \n",
       "...      ...  \n",
       "16710    NaN  \n",
       "16711    NaN  \n",
       "16712    NaN  \n",
       "16713    NaN  \n",
       "16714    NaN  \n",
       "\n",
       "[16715 rows x 11 columns]"
      ]
     },
     "metadata": {},
     "output_type": "display_data"
    },
    {
     "name": "stdout",
     "output_type": "stream",
     "text": [
      "<class 'pandas.core.frame.DataFrame'>\n",
      "RangeIndex: 16715 entries, 0 to 16714\n",
      "Data columns (total 11 columns):\n",
      " #   Column           Non-Null Count  Dtype  \n",
      "---  ------           --------------  -----  \n",
      " 0   Name             16713 non-null  object \n",
      " 1   Platform         16715 non-null  object \n",
      " 2   Year_of_Release  16446 non-null  float64\n",
      " 3   Genre            16713 non-null  object \n",
      " 4   NA_sales         16715 non-null  float64\n",
      " 5   EU_sales         16715 non-null  float64\n",
      " 6   JP_sales         16715 non-null  float64\n",
      " 7   Other_sales      16715 non-null  float64\n",
      " 8   Critic_Score     8137 non-null   float64\n",
      " 9   User_Score       10014 non-null  object \n",
      " 10  Rating           9949 non-null   object \n",
      "dtypes: float64(6), object(5)\n",
      "memory usage: 1.4+ MB\n"
     ]
    }
   ],
   "source": [
    "games = pd.read_csv(r'datasets/04_games.csv')\n",
    "display(games)\n",
    "games.info()"
   ]
  },
  {
   "cell_type": "markdown",
   "metadata": {},
   "source": [
    "The dataset contains 16,715 entries and 11 columns. These columns represent different characteristics of the data, such as the game's name, platform, year of release, genre, sales in North America, Europe, Japan, and other countries, critic scores, user scores, and ESRB rating.\n",
    "\n",
    "Several columns have missing values. Specifically, the \"Name\" column has 2 missing values, the \"Year_of_Release\" column has 269 missing values, the \"Genre\" column has 2 missing values, the \"Critic_Score\" column has 8,578 missing values, the \"User_Score\" column has 6,701 missing"
   ]
  },
  {
   "cell_type": "markdown",
   "metadata": {},
   "source": [
    "## 2 Data preprocessing"
   ]
  },
  {
   "cell_type": "markdown",
   "metadata": {},
   "source": [
    "### Let's standardize the names to a uniform format."
   ]
  },
  {
   "cell_type": "code",
   "execution_count": 4,
   "metadata": {},
   "outputs": [],
   "source": [
    "games.columns = games.columns.str.lower()"
   ]
  },
  {
   "cell_type": "code",
   "execution_count": 5,
   "metadata": {},
   "outputs": [
    {
     "data": {
      "text/html": [
       "<div>\n",
       "<style scoped>\n",
       "    .dataframe tbody tr th:only-of-type {\n",
       "        vertical-align: middle;\n",
       "    }\n",
       "\n",
       "    .dataframe tbody tr th {\n",
       "        vertical-align: top;\n",
       "    }\n",
       "\n",
       "    .dataframe thead th {\n",
       "        text-align: right;\n",
       "    }\n",
       "</style>\n",
       "<table border=\"1\" class=\"dataframe\">\n",
       "  <thead>\n",
       "    <tr style=\"text-align: right;\">\n",
       "      <th></th>\n",
       "      <th>name</th>\n",
       "      <th>platform</th>\n",
       "      <th>year_of_release</th>\n",
       "      <th>genre</th>\n",
       "      <th>na_sales</th>\n",
       "      <th>eu_sales</th>\n",
       "      <th>jp_sales</th>\n",
       "      <th>other_sales</th>\n",
       "      <th>critic_score</th>\n",
       "      <th>user_score</th>\n",
       "      <th>rating</th>\n",
       "    </tr>\n",
       "  </thead>\n",
       "  <tbody>\n",
       "    <tr>\n",
       "      <th>0</th>\n",
       "      <td>Wii Sports</td>\n",
       "      <td>Wii</td>\n",
       "      <td>2006.0</td>\n",
       "      <td>Sports</td>\n",
       "      <td>41.36</td>\n",
       "      <td>28.96</td>\n",
       "      <td>3.77</td>\n",
       "      <td>8.45</td>\n",
       "      <td>76.0</td>\n",
       "      <td>8</td>\n",
       "      <td>E</td>\n",
       "    </tr>\n",
       "    <tr>\n",
       "      <th>1</th>\n",
       "      <td>Super Mario Bros.</td>\n",
       "      <td>NES</td>\n",
       "      <td>1985.0</td>\n",
       "      <td>Platform</td>\n",
       "      <td>29.08</td>\n",
       "      <td>3.58</td>\n",
       "      <td>6.81</td>\n",
       "      <td>0.77</td>\n",
       "      <td>NaN</td>\n",
       "      <td>NaN</td>\n",
       "      <td>NaN</td>\n",
       "    </tr>\n",
       "    <tr>\n",
       "      <th>2</th>\n",
       "      <td>Mario Kart Wii</td>\n",
       "      <td>Wii</td>\n",
       "      <td>2008.0</td>\n",
       "      <td>Racing</td>\n",
       "      <td>15.68</td>\n",
       "      <td>12.76</td>\n",
       "      <td>3.79</td>\n",
       "      <td>3.29</td>\n",
       "      <td>82.0</td>\n",
       "      <td>8.3</td>\n",
       "      <td>E</td>\n",
       "    </tr>\n",
       "    <tr>\n",
       "      <th>3</th>\n",
       "      <td>Wii Sports Resort</td>\n",
       "      <td>Wii</td>\n",
       "      <td>2009.0</td>\n",
       "      <td>Sports</td>\n",
       "      <td>15.61</td>\n",
       "      <td>10.93</td>\n",
       "      <td>3.28</td>\n",
       "      <td>2.95</td>\n",
       "      <td>80.0</td>\n",
       "      <td>8</td>\n",
       "      <td>E</td>\n",
       "    </tr>\n",
       "    <tr>\n",
       "      <th>4</th>\n",
       "      <td>Pokemon Red/Pokemon Blue</td>\n",
       "      <td>GB</td>\n",
       "      <td>1996.0</td>\n",
       "      <td>Role-Playing</td>\n",
       "      <td>11.27</td>\n",
       "      <td>8.89</td>\n",
       "      <td>10.22</td>\n",
       "      <td>1.00</td>\n",
       "      <td>NaN</td>\n",
       "      <td>NaN</td>\n",
       "      <td>NaN</td>\n",
       "    </tr>\n",
       "  </tbody>\n",
       "</table>\n",
       "</div>"
      ],
      "text/plain": [
       "                       name platform  year_of_release         genre  na_sales  \\\n",
       "0                Wii Sports      Wii           2006.0        Sports     41.36   \n",
       "1         Super Mario Bros.      NES           1985.0      Platform     29.08   \n",
       "2            Mario Kart Wii      Wii           2008.0        Racing     15.68   \n",
       "3         Wii Sports Resort      Wii           2009.0        Sports     15.61   \n",
       "4  Pokemon Red/Pokemon Blue       GB           1996.0  Role-Playing     11.27   \n",
       "\n",
       "   eu_sales  jp_sales  other_sales  critic_score user_score rating  \n",
       "0     28.96      3.77         8.45          76.0          8      E  \n",
       "1      3.58      6.81         0.77           NaN        NaN    NaN  \n",
       "2     12.76      3.79         3.29          82.0        8.3      E  \n",
       "3     10.93      3.28         2.95          80.0          8      E  \n",
       "4      8.89     10.22         1.00           NaN        NaN    NaN  "
      ]
     },
     "execution_count": 5,
     "metadata": {},
     "output_type": "execute_result"
    }
   ],
   "source": [
    "games.head()"
   ]
  },
  {
   "cell_type": "markdown",
   "metadata": {},
   "source": [
    "### Processing of omissions"
   ]
  },
  {
   "cell_type": "code",
   "execution_count": 6,
   "metadata": {},
   "outputs": [
    {
     "data": {
      "text/html": [
       "<div>\n",
       "<style scoped>\n",
       "    .dataframe tbody tr th:only-of-type {\n",
       "        vertical-align: middle;\n",
       "    }\n",
       "\n",
       "    .dataframe tbody tr th {\n",
       "        vertical-align: top;\n",
       "    }\n",
       "\n",
       "    .dataframe thead th {\n",
       "        text-align: right;\n",
       "    }\n",
       "</style>\n",
       "<table border=\"1\" class=\"dataframe\">\n",
       "  <thead>\n",
       "    <tr style=\"text-align: right;\">\n",
       "      <th></th>\n",
       "      <th>Имя столбца</th>\n",
       "      <th>Пропусков</th>\n",
       "      <th>% пропусков</th>\n",
       "    </tr>\n",
       "  </thead>\n",
       "  <tbody>\n",
       "    <tr>\n",
       "      <th>critic_score</th>\n",
       "      <td>critic_score</td>\n",
       "      <td>8578</td>\n",
       "      <td>51.32</td>\n",
       "    </tr>\n",
       "    <tr>\n",
       "      <th>rating</th>\n",
       "      <td>rating</td>\n",
       "      <td>6766</td>\n",
       "      <td>40.48</td>\n",
       "    </tr>\n",
       "    <tr>\n",
       "      <th>user_score</th>\n",
       "      <td>user_score</td>\n",
       "      <td>6701</td>\n",
       "      <td>40.09</td>\n",
       "    </tr>\n",
       "    <tr>\n",
       "      <th>year_of_release</th>\n",
       "      <td>year_of_release</td>\n",
       "      <td>269</td>\n",
       "      <td>1.61</td>\n",
       "    </tr>\n",
       "    <tr>\n",
       "      <th>name</th>\n",
       "      <td>name</td>\n",
       "      <td>2</td>\n",
       "      <td>0.01</td>\n",
       "    </tr>\n",
       "    <tr>\n",
       "      <th>genre</th>\n",
       "      <td>genre</td>\n",
       "      <td>2</td>\n",
       "      <td>0.01</td>\n",
       "    </tr>\n",
       "    <tr>\n",
       "      <th>platform</th>\n",
       "      <td>platform</td>\n",
       "      <td>0</td>\n",
       "      <td>0.00</td>\n",
       "    </tr>\n",
       "    <tr>\n",
       "      <th>na_sales</th>\n",
       "      <td>na_sales</td>\n",
       "      <td>0</td>\n",
       "      <td>0.00</td>\n",
       "    </tr>\n",
       "    <tr>\n",
       "      <th>eu_sales</th>\n",
       "      <td>eu_sales</td>\n",
       "      <td>0</td>\n",
       "      <td>0.00</td>\n",
       "    </tr>\n",
       "    <tr>\n",
       "      <th>jp_sales</th>\n",
       "      <td>jp_sales</td>\n",
       "      <td>0</td>\n",
       "      <td>0.00</td>\n",
       "    </tr>\n",
       "    <tr>\n",
       "      <th>other_sales</th>\n",
       "      <td>other_sales</td>\n",
       "      <td>0</td>\n",
       "      <td>0.00</td>\n",
       "    </tr>\n",
       "  </tbody>\n",
       "</table>\n",
       "</div>"
      ],
      "text/plain": [
       "                     Имя столбца  Пропусков  % пропусков\n",
       "critic_score        critic_score       8578        51.32\n",
       "rating                    rating       6766        40.48\n",
       "user_score            user_score       6701        40.09\n",
       "year_of_release  year_of_release        269         1.61\n",
       "name                        name          2         0.01\n",
       "genre                      genre          2         0.01\n",
       "platform                platform          0         0.00\n",
       "na_sales                na_sales          0         0.00\n",
       "eu_sales                eu_sales          0         0.00\n",
       "jp_sales                jp_sales          0         0.00\n",
       "other_sales          other_sales          0         0.00"
      ]
     },
     "execution_count": 6,
     "metadata": {},
     "output_type": "execute_result"
    }
   ],
   "source": [
    "def empty_values(games):\n",
    "    count_missing = games.isna().sum()\n",
    "    percent_missing = round(games.isna().sum() * 100 / len(games), 2)\n",
    "    \n",
    "    missing_value_games = pd.DataFrame({'Имя столбца': games.columns,\n",
    "                                     'Пропусков': count_missing,\n",
    "                                     '% пропусков': percent_missing})\n",
    "    \n",
    "    return missing_value_games\n",
    "empty_values(games).sort_values(by='% пропусков', ascending=False)"
   ]
  },
  {
   "cell_type": "markdown",
   "metadata": {},
   "source": [
    "Most of the omissions are in the ratings, there are also minor omissions in the year, titles and genre\n",
    "\n",
    "We will not be able to restore the lines with the names and still all two lines. You can simply delete them"
   ]
  },
  {
   "cell_type": "code",
   "execution_count": 7,
   "metadata": {},
   "outputs": [],
   "source": [
    "games = games.dropna(subset = ['name']) "
   ]
  },
  {
   "cell_type": "code",
   "execution_count": 8,
   "metadata": {},
   "outputs": [
    {
     "data": {
      "text/html": [
       "<div>\n",
       "<style scoped>\n",
       "    .dataframe tbody tr th:only-of-type {\n",
       "        vertical-align: middle;\n",
       "    }\n",
       "\n",
       "    .dataframe tbody tr th {\n",
       "        vertical-align: top;\n",
       "    }\n",
       "\n",
       "    .dataframe thead th {\n",
       "        text-align: right;\n",
       "    }\n",
       "</style>\n",
       "<table border=\"1\" class=\"dataframe\">\n",
       "  <thead>\n",
       "    <tr style=\"text-align: right;\">\n",
       "      <th></th>\n",
       "      <th>name</th>\n",
       "      <th>platform</th>\n",
       "      <th>year_of_release</th>\n",
       "      <th>genre</th>\n",
       "      <th>na_sales</th>\n",
       "      <th>eu_sales</th>\n",
       "      <th>jp_sales</th>\n",
       "      <th>other_sales</th>\n",
       "      <th>critic_score</th>\n",
       "      <th>user_score</th>\n",
       "      <th>rating</th>\n",
       "    </tr>\n",
       "  </thead>\n",
       "  <tbody>\n",
       "  </tbody>\n",
       "</table>\n",
       "</div>"
      ],
      "text/plain": [
       "Empty DataFrame\n",
       "Columns: [name, platform, year_of_release, genre, na_sales, eu_sales, jp_sales, other_sales, critic_score, user_score, rating]\n",
       "Index: []"
      ]
     },
     "execution_count": 8,
     "metadata": {},
     "output_type": "execute_result"
    }
   ],
   "source": [
    "games[games['genre'].isnull()]"
   ]
  },
  {
   "cell_type": "code",
   "execution_count": 9,
   "metadata": {},
   "outputs": [
    {
     "data": {
      "text/html": [
       "<div>\n",
       "<style scoped>\n",
       "    .dataframe tbody tr th:only-of-type {\n",
       "        vertical-align: middle;\n",
       "    }\n",
       "\n",
       "    .dataframe tbody tr th {\n",
       "        vertical-align: top;\n",
       "    }\n",
       "\n",
       "    .dataframe thead th {\n",
       "        text-align: right;\n",
       "    }\n",
       "</style>\n",
       "<table border=\"1\" class=\"dataframe\">\n",
       "  <thead>\n",
       "    <tr style=\"text-align: right;\">\n",
       "      <th></th>\n",
       "      <th>name</th>\n",
       "      <th>platform</th>\n",
       "      <th>year_of_release</th>\n",
       "      <th>genre</th>\n",
       "      <th>na_sales</th>\n",
       "      <th>eu_sales</th>\n",
       "      <th>jp_sales</th>\n",
       "      <th>other_sales</th>\n",
       "      <th>critic_score</th>\n",
       "      <th>user_score</th>\n",
       "      <th>rating</th>\n",
       "    </tr>\n",
       "  </thead>\n",
       "  <tbody>\n",
       "    <tr>\n",
       "      <th>183</th>\n",
       "      <td>Madden NFL 2004</td>\n",
       "      <td>PS2</td>\n",
       "      <td>NaN</td>\n",
       "      <td>Sports</td>\n",
       "      <td>4.26</td>\n",
       "      <td>0.26</td>\n",
       "      <td>0.01</td>\n",
       "      <td>0.71</td>\n",
       "      <td>94.0</td>\n",
       "      <td>8.5</td>\n",
       "      <td>E</td>\n",
       "    </tr>\n",
       "    <tr>\n",
       "      <th>377</th>\n",
       "      <td>FIFA Soccer 2004</td>\n",
       "      <td>PS2</td>\n",
       "      <td>NaN</td>\n",
       "      <td>Sports</td>\n",
       "      <td>0.59</td>\n",
       "      <td>2.36</td>\n",
       "      <td>0.04</td>\n",
       "      <td>0.51</td>\n",
       "      <td>84.0</td>\n",
       "      <td>6.4</td>\n",
       "      <td>E</td>\n",
       "    </tr>\n",
       "    <tr>\n",
       "      <th>456</th>\n",
       "      <td>LEGO Batman: The Videogame</td>\n",
       "      <td>Wii</td>\n",
       "      <td>NaN</td>\n",
       "      <td>Action</td>\n",
       "      <td>1.80</td>\n",
       "      <td>0.97</td>\n",
       "      <td>0.00</td>\n",
       "      <td>0.29</td>\n",
       "      <td>74.0</td>\n",
       "      <td>7.9</td>\n",
       "      <td>E10+</td>\n",
       "    </tr>\n",
       "    <tr>\n",
       "      <th>475</th>\n",
       "      <td>wwe Smackdown vs. Raw 2006</td>\n",
       "      <td>PS2</td>\n",
       "      <td>NaN</td>\n",
       "      <td>Fighting</td>\n",
       "      <td>1.57</td>\n",
       "      <td>1.02</td>\n",
       "      <td>0.00</td>\n",
       "      <td>0.41</td>\n",
       "      <td>NaN</td>\n",
       "      <td>NaN</td>\n",
       "      <td>NaN</td>\n",
       "    </tr>\n",
       "    <tr>\n",
       "      <th>609</th>\n",
       "      <td>Space Invaders</td>\n",
       "      <td>2600</td>\n",
       "      <td>NaN</td>\n",
       "      <td>Shooter</td>\n",
       "      <td>2.36</td>\n",
       "      <td>0.14</td>\n",
       "      <td>0.00</td>\n",
       "      <td>0.03</td>\n",
       "      <td>NaN</td>\n",
       "      <td>NaN</td>\n",
       "      <td>NaN</td>\n",
       "    </tr>\n",
       "    <tr>\n",
       "      <th>...</th>\n",
       "      <td>...</td>\n",
       "      <td>...</td>\n",
       "      <td>...</td>\n",
       "      <td>...</td>\n",
       "      <td>...</td>\n",
       "      <td>...</td>\n",
       "      <td>...</td>\n",
       "      <td>...</td>\n",
       "      <td>...</td>\n",
       "      <td>...</td>\n",
       "      <td>...</td>\n",
       "    </tr>\n",
       "    <tr>\n",
       "      <th>16373</th>\n",
       "      <td>PDC World Championship Darts 2008</td>\n",
       "      <td>PSP</td>\n",
       "      <td>NaN</td>\n",
       "      <td>Sports</td>\n",
       "      <td>0.01</td>\n",
       "      <td>0.00</td>\n",
       "      <td>0.00</td>\n",
       "      <td>0.00</td>\n",
       "      <td>43.0</td>\n",
       "      <td>tbd</td>\n",
       "      <td>E10+</td>\n",
       "    </tr>\n",
       "    <tr>\n",
       "      <th>16405</th>\n",
       "      <td>Freaky Flyers</td>\n",
       "      <td>GC</td>\n",
       "      <td>NaN</td>\n",
       "      <td>Racing</td>\n",
       "      <td>0.01</td>\n",
       "      <td>0.00</td>\n",
       "      <td>0.00</td>\n",
       "      <td>0.00</td>\n",
       "      <td>69.0</td>\n",
       "      <td>6.5</td>\n",
       "      <td>T</td>\n",
       "    </tr>\n",
       "    <tr>\n",
       "      <th>16448</th>\n",
       "      <td>Inversion</td>\n",
       "      <td>PC</td>\n",
       "      <td>NaN</td>\n",
       "      <td>Shooter</td>\n",
       "      <td>0.01</td>\n",
       "      <td>0.00</td>\n",
       "      <td>0.00</td>\n",
       "      <td>0.00</td>\n",
       "      <td>59.0</td>\n",
       "      <td>6.7</td>\n",
       "      <td>M</td>\n",
       "    </tr>\n",
       "    <tr>\n",
       "      <th>16458</th>\n",
       "      <td>Hakuouki: Shinsengumi Kitan</td>\n",
       "      <td>PS3</td>\n",
       "      <td>NaN</td>\n",
       "      <td>Adventure</td>\n",
       "      <td>0.01</td>\n",
       "      <td>0.00</td>\n",
       "      <td>0.00</td>\n",
       "      <td>0.00</td>\n",
       "      <td>NaN</td>\n",
       "      <td>NaN</td>\n",
       "      <td>NaN</td>\n",
       "    </tr>\n",
       "    <tr>\n",
       "      <th>16522</th>\n",
       "      <td>Virtua Quest</td>\n",
       "      <td>GC</td>\n",
       "      <td>NaN</td>\n",
       "      <td>Role-Playing</td>\n",
       "      <td>0.01</td>\n",
       "      <td>0.00</td>\n",
       "      <td>0.00</td>\n",
       "      <td>0.00</td>\n",
       "      <td>55.0</td>\n",
       "      <td>5.5</td>\n",
       "      <td>T</td>\n",
       "    </tr>\n",
       "  </tbody>\n",
       "</table>\n",
       "<p>269 rows × 11 columns</p>\n",
       "</div>"
      ],
      "text/plain": [
       "                                    name platform  year_of_release  \\\n",
       "183                      Madden NFL 2004      PS2              NaN   \n",
       "377                     FIFA Soccer 2004      PS2              NaN   \n",
       "456           LEGO Batman: The Videogame      Wii              NaN   \n",
       "475           wwe Smackdown vs. Raw 2006      PS2              NaN   \n",
       "609                       Space Invaders     2600              NaN   \n",
       "...                                  ...      ...              ...   \n",
       "16373  PDC World Championship Darts 2008      PSP              NaN   \n",
       "16405                      Freaky Flyers       GC              NaN   \n",
       "16448                          Inversion       PC              NaN   \n",
       "16458        Hakuouki: Shinsengumi Kitan      PS3              NaN   \n",
       "16522                       Virtua Quest       GC              NaN   \n",
       "\n",
       "              genre  na_sales  eu_sales  jp_sales  other_sales  critic_score  \\\n",
       "183          Sports      4.26      0.26      0.01         0.71          94.0   \n",
       "377          Sports      0.59      2.36      0.04         0.51          84.0   \n",
       "456          Action      1.80      0.97      0.00         0.29          74.0   \n",
       "475        Fighting      1.57      1.02      0.00         0.41           NaN   \n",
       "609         Shooter      2.36      0.14      0.00         0.03           NaN   \n",
       "...             ...       ...       ...       ...          ...           ...   \n",
       "16373        Sports      0.01      0.00      0.00         0.00          43.0   \n",
       "16405        Racing      0.01      0.00      0.00         0.00          69.0   \n",
       "16448       Shooter      0.01      0.00      0.00         0.00          59.0   \n",
       "16458     Adventure      0.01      0.00      0.00         0.00           NaN   \n",
       "16522  Role-Playing      0.01      0.00      0.00         0.00          55.0   \n",
       "\n",
       "      user_score rating  \n",
       "183          8.5      E  \n",
       "377          6.4      E  \n",
       "456          7.9   E10+  \n",
       "475          NaN    NaN  \n",
       "609          NaN    NaN  \n",
       "...          ...    ...  \n",
       "16373        tbd   E10+  \n",
       "16405        6.5      T  \n",
       "16448        6.7      M  \n",
       "16458        NaN    NaN  \n",
       "16522        5.5      T  \n",
       "\n",
       "[269 rows x 11 columns]"
      ]
     },
     "execution_count": 9,
     "metadata": {},
     "output_type": "execute_result"
    }
   ],
   "source": [
    "games[games['year_of_release'].isnull()]"
   ]
  },
  {
   "cell_type": "markdown",
   "metadata": {},
   "source": [
    "There are too many rows to fill in manually and at the same time their share of the total array is very small (1.7%). You can also simply delete this data."
   ]
  },
  {
   "cell_type": "code",
   "execution_count": 10,
   "metadata": {},
   "outputs": [],
   "source": [
    "games = games.dropna(subset = ['year_of_release']) "
   ]
  },
  {
   "cell_type": "code",
   "execution_count": 11,
   "metadata": {
    "scrolled": true
   },
   "outputs": [
    {
     "data": {
      "text/html": [
       "<div>\n",
       "<style scoped>\n",
       "    .dataframe tbody tr th:only-of-type {\n",
       "        vertical-align: middle;\n",
       "    }\n",
       "\n",
       "    .dataframe tbody tr th {\n",
       "        vertical-align: top;\n",
       "    }\n",
       "\n",
       "    .dataframe thead th {\n",
       "        text-align: right;\n",
       "    }\n",
       "</style>\n",
       "<table border=\"1\" class=\"dataframe\">\n",
       "  <thead>\n",
       "    <tr style=\"text-align: right;\">\n",
       "      <th></th>\n",
       "      <th>name</th>\n",
       "      <th>platform</th>\n",
       "      <th>year_of_release</th>\n",
       "      <th>genre</th>\n",
       "      <th>na_sales</th>\n",
       "      <th>eu_sales</th>\n",
       "      <th>jp_sales</th>\n",
       "      <th>other_sales</th>\n",
       "      <th>critic_score</th>\n",
       "      <th>user_score</th>\n",
       "      <th>rating</th>\n",
       "    </tr>\n",
       "  </thead>\n",
       "  <tbody>\n",
       "    <tr>\n",
       "      <th>0</th>\n",
       "      <td>Wii Sports</td>\n",
       "      <td>Wii</td>\n",
       "      <td>2006.0</td>\n",
       "      <td>Sports</td>\n",
       "      <td>41.36</td>\n",
       "      <td>28.96</td>\n",
       "      <td>3.77</td>\n",
       "      <td>8.45</td>\n",
       "      <td>76.0</td>\n",
       "      <td>8</td>\n",
       "      <td>E</td>\n",
       "    </tr>\n",
       "    <tr>\n",
       "      <th>1</th>\n",
       "      <td>Super Mario Bros.</td>\n",
       "      <td>NES</td>\n",
       "      <td>1985.0</td>\n",
       "      <td>Platform</td>\n",
       "      <td>29.08</td>\n",
       "      <td>3.58</td>\n",
       "      <td>6.81</td>\n",
       "      <td>0.77</td>\n",
       "      <td>NaN</td>\n",
       "      <td>NaN</td>\n",
       "      <td>NaN</td>\n",
       "    </tr>\n",
       "    <tr>\n",
       "      <th>2</th>\n",
       "      <td>Mario Kart Wii</td>\n",
       "      <td>Wii</td>\n",
       "      <td>2008.0</td>\n",
       "      <td>Racing</td>\n",
       "      <td>15.68</td>\n",
       "      <td>12.76</td>\n",
       "      <td>3.79</td>\n",
       "      <td>3.29</td>\n",
       "      <td>82.0</td>\n",
       "      <td>8.3</td>\n",
       "      <td>E</td>\n",
       "    </tr>\n",
       "    <tr>\n",
       "      <th>3</th>\n",
       "      <td>Wii Sports Resort</td>\n",
       "      <td>Wii</td>\n",
       "      <td>2009.0</td>\n",
       "      <td>Sports</td>\n",
       "      <td>15.61</td>\n",
       "      <td>10.93</td>\n",
       "      <td>3.28</td>\n",
       "      <td>2.95</td>\n",
       "      <td>80.0</td>\n",
       "      <td>8</td>\n",
       "      <td>E</td>\n",
       "    </tr>\n",
       "    <tr>\n",
       "      <th>4</th>\n",
       "      <td>Pokemon Red/Pokemon Blue</td>\n",
       "      <td>GB</td>\n",
       "      <td>1996.0</td>\n",
       "      <td>Role-Playing</td>\n",
       "      <td>11.27</td>\n",
       "      <td>8.89</td>\n",
       "      <td>10.22</td>\n",
       "      <td>1.00</td>\n",
       "      <td>NaN</td>\n",
       "      <td>NaN</td>\n",
       "      <td>NaN</td>\n",
       "    </tr>\n",
       "    <tr>\n",
       "      <th>...</th>\n",
       "      <td>...</td>\n",
       "      <td>...</td>\n",
       "      <td>...</td>\n",
       "      <td>...</td>\n",
       "      <td>...</td>\n",
       "      <td>...</td>\n",
       "      <td>...</td>\n",
       "      <td>...</td>\n",
       "      <td>...</td>\n",
       "      <td>...</td>\n",
       "      <td>...</td>\n",
       "    </tr>\n",
       "    <tr>\n",
       "      <th>16439</th>\n",
       "      <td>Samurai Warriors: Sanada Maru</td>\n",
       "      <td>PS3</td>\n",
       "      <td>2016.0</td>\n",
       "      <td>Action</td>\n",
       "      <td>0.00</td>\n",
       "      <td>0.00</td>\n",
       "      <td>0.01</td>\n",
       "      <td>0.00</td>\n",
       "      <td>NaN</td>\n",
       "      <td>NaN</td>\n",
       "      <td>NaN</td>\n",
       "    </tr>\n",
       "    <tr>\n",
       "      <th>16440</th>\n",
       "      <td>LMA Manager 2007</td>\n",
       "      <td>X360</td>\n",
       "      <td>2006.0</td>\n",
       "      <td>Sports</td>\n",
       "      <td>0.00</td>\n",
       "      <td>0.01</td>\n",
       "      <td>0.00</td>\n",
       "      <td>0.00</td>\n",
       "      <td>NaN</td>\n",
       "      <td>NaN</td>\n",
       "      <td>NaN</td>\n",
       "    </tr>\n",
       "    <tr>\n",
       "      <th>16441</th>\n",
       "      <td>Haitaka no Psychedelica</td>\n",
       "      <td>PSV</td>\n",
       "      <td>2016.0</td>\n",
       "      <td>Adventure</td>\n",
       "      <td>0.00</td>\n",
       "      <td>0.00</td>\n",
       "      <td>0.01</td>\n",
       "      <td>0.00</td>\n",
       "      <td>NaN</td>\n",
       "      <td>NaN</td>\n",
       "      <td>NaN</td>\n",
       "    </tr>\n",
       "    <tr>\n",
       "      <th>16442</th>\n",
       "      <td>Spirits &amp; Spells</td>\n",
       "      <td>GBA</td>\n",
       "      <td>2003.0</td>\n",
       "      <td>Platform</td>\n",
       "      <td>0.01</td>\n",
       "      <td>0.00</td>\n",
       "      <td>0.00</td>\n",
       "      <td>0.00</td>\n",
       "      <td>NaN</td>\n",
       "      <td>NaN</td>\n",
       "      <td>NaN</td>\n",
       "    </tr>\n",
       "    <tr>\n",
       "      <th>16443</th>\n",
       "      <td>Winning Post 8 2016</td>\n",
       "      <td>PSV</td>\n",
       "      <td>2016.0</td>\n",
       "      <td>Simulation</td>\n",
       "      <td>0.00</td>\n",
       "      <td>0.00</td>\n",
       "      <td>0.01</td>\n",
       "      <td>0.00</td>\n",
       "      <td>NaN</td>\n",
       "      <td>NaN</td>\n",
       "      <td>NaN</td>\n",
       "    </tr>\n",
       "  </tbody>\n",
       "</table>\n",
       "<p>16444 rows × 11 columns</p>\n",
       "</div>"
      ],
      "text/plain": [
       "                                name platform  year_of_release         genre  \\\n",
       "0                         Wii Sports      Wii           2006.0        Sports   \n",
       "1                  Super Mario Bros.      NES           1985.0      Platform   \n",
       "2                     Mario Kart Wii      Wii           2008.0        Racing   \n",
       "3                  Wii Sports Resort      Wii           2009.0        Sports   \n",
       "4           Pokemon Red/Pokemon Blue       GB           1996.0  Role-Playing   \n",
       "...                              ...      ...              ...           ...   \n",
       "16439  Samurai Warriors: Sanada Maru      PS3           2016.0        Action   \n",
       "16440               LMA Manager 2007     X360           2006.0        Sports   \n",
       "16441        Haitaka no Psychedelica      PSV           2016.0     Adventure   \n",
       "16442               Spirits & Spells      GBA           2003.0      Platform   \n",
       "16443            Winning Post 8 2016      PSV           2016.0    Simulation   \n",
       "\n",
       "       na_sales  eu_sales  jp_sales  other_sales  critic_score user_score  \\\n",
       "0         41.36     28.96      3.77         8.45          76.0          8   \n",
       "1         29.08      3.58      6.81         0.77           NaN        NaN   \n",
       "2         15.68     12.76      3.79         3.29          82.0        8.3   \n",
       "3         15.61     10.93      3.28         2.95          80.0          8   \n",
       "4         11.27      8.89     10.22         1.00           NaN        NaN   \n",
       "...         ...       ...       ...          ...           ...        ...   \n",
       "16439      0.00      0.00      0.01         0.00           NaN        NaN   \n",
       "16440      0.00      0.01      0.00         0.00           NaN        NaN   \n",
       "16441      0.00      0.00      0.01         0.00           NaN        NaN   \n",
       "16442      0.01      0.00      0.00         0.00           NaN        NaN   \n",
       "16443      0.00      0.00      0.01         0.00           NaN        NaN   \n",
       "\n",
       "      rating  \n",
       "0          E  \n",
       "1        NaN  \n",
       "2          E  \n",
       "3          E  \n",
       "4        NaN  \n",
       "...      ...  \n",
       "16439    NaN  \n",
       "16440    NaN  \n",
       "16441    NaN  \n",
       "16442    NaN  \n",
       "16443    NaN  \n",
       "\n",
       "[16444 rows x 11 columns]"
      ]
     },
     "execution_count": 11,
     "metadata": {},
     "output_type": "execute_result"
    }
   ],
   "source": [
    "games.drop_duplicates().reset_index(drop=True)"
   ]
  },
  {
   "cell_type": "code",
   "execution_count": 13,
   "metadata": {},
   "outputs": [
    {
     "name": "stdout",
     "output_type": "stream",
     "text": [
      "['8' nan '8.3' '8.5' '6.6' '8.4' '8.6' '7.7' '6.3' '7.4' '8.2' '9' '7.9'\n",
      " '8.1' '8.7' '7.1' '3.4' '5.3' '4.8' '3.2' '8.9' '6.4' '7.8' '7.5' '2.6'\n",
      " '7.2' '9.2' '7' '7.3' '4.3' '7.6' '5.7' '5' '9.1' '6.5' 'tbd' '8.8' '6.9'\n",
      " '9.4' '6.8' '6.1' '6.7' '5.4' '4' '4.9' '4.5' '9.3' '6.2' '4.2' '6' '3.7'\n",
      " '4.1' '5.8' '5.6' '5.5' '4.4' '4.6' '5.9' '3.9' '3.1' '2.9' '5.2' '3.3'\n",
      " '4.7' '5.1' '3.5' '2.5' '1.9' '3' '2.7' '2.2' '2' '9.5' '2.1' '3.6' '2.8'\n",
      " '1.8' '3.8' '0' '1.6' '9.6' '2.4' '1.7' '1.1' '0.3' '1.5' '0.7' '1.2'\n",
      " '2.3' '0.5' '1.3' '0.2' '0.6' '1.4' '0.9' '1' '9.7']\n",
      "[76. nan 82. 80. 89. 58. 87. 91. 61. 97. 95. 77. 88. 83. 94. 93. 85. 86.\n",
      " 98. 96. 90. 84. 73. 74. 78. 92. 71. 72. 68. 62. 49. 67. 81. 66. 56. 79.\n",
      " 70. 59. 64. 75. 60. 63. 69. 50. 25. 42. 44. 55. 48. 57. 29. 47. 65. 54.\n",
      " 20. 53. 37. 38. 33. 52. 30. 32. 43. 45. 51. 40. 46. 39. 34. 41. 36. 31.\n",
      " 27. 35. 26. 19. 28. 23. 24. 21. 17. 13.]\n",
      "['E' nan 'M' 'T' 'E10+' 'K-A' 'AO' 'EC' 'RP']\n"
     ]
    }
   ],
   "source": [
    "# viewing the unique values of the user rating column\n",
    "print(games['user_score'].unique())\n",
    "\n",
    "# view the unique values of the critics' score column\n",
    "print(games['critic_score'].unique())\n",
    "\n",
    "# viewing the unique values of the rating column from the ESRB\n",
    "print(games['rating'].unique())"
   ]
  },
  {
   "cell_type": "markdown",
   "metadata": {},
   "source": [
    "In addition to the omissions, the abbreviation tbd appears in the user rating. Stands for to be determined, or \"to be determined\". If this applies only to old games, perhaps this type of rating has not yet existed, and if new, perhaps the rating has not yet been taken into account."
   ]
  },
  {
   "cell_type": "code",
   "execution_count": 14,
   "metadata": {},
   "outputs": [
    {
     "data": {
      "text/html": [
       "<div>\n",
       "<style scoped>\n",
       "    .dataframe tbody tr th:only-of-type {\n",
       "        vertical-align: middle;\n",
       "    }\n",
       "\n",
       "    .dataframe tbody tr th {\n",
       "        vertical-align: top;\n",
       "    }\n",
       "\n",
       "    .dataframe thead th {\n",
       "        text-align: right;\n",
       "    }\n",
       "</style>\n",
       "<table border=\"1\" class=\"dataframe\">\n",
       "  <thead>\n",
       "    <tr style=\"text-align: right;\">\n",
       "      <th></th>\n",
       "      <th>name</th>\n",
       "      <th>platform</th>\n",
       "      <th>year_of_release</th>\n",
       "      <th>genre</th>\n",
       "      <th>na_sales</th>\n",
       "      <th>eu_sales</th>\n",
       "      <th>jp_sales</th>\n",
       "      <th>other_sales</th>\n",
       "      <th>critic_score</th>\n",
       "      <th>user_score</th>\n",
       "      <th>rating</th>\n",
       "    </tr>\n",
       "  </thead>\n",
       "  <tbody>\n",
       "    <tr>\n",
       "      <th>119</th>\n",
       "      <td>Zumba Fitness</td>\n",
       "      <td>Wii</td>\n",
       "      <td>2010.0</td>\n",
       "      <td>Sports</td>\n",
       "      <td>3.45</td>\n",
       "      <td>2.59</td>\n",
       "      <td>0.0</td>\n",
       "      <td>0.66</td>\n",
       "      <td>NaN</td>\n",
       "      <td>tbd</td>\n",
       "      <td>E</td>\n",
       "    </tr>\n",
       "    <tr>\n",
       "      <th>301</th>\n",
       "      <td>Namco Museum: 50th Anniversary</td>\n",
       "      <td>PS2</td>\n",
       "      <td>2005.0</td>\n",
       "      <td>Misc</td>\n",
       "      <td>2.08</td>\n",
       "      <td>1.35</td>\n",
       "      <td>0.0</td>\n",
       "      <td>0.54</td>\n",
       "      <td>61.0</td>\n",
       "      <td>tbd</td>\n",
       "      <td>E10+</td>\n",
       "    </tr>\n",
       "    <tr>\n",
       "      <th>520</th>\n",
       "      <td>Zumba Fitness 2</td>\n",
       "      <td>Wii</td>\n",
       "      <td>2011.0</td>\n",
       "      <td>Sports</td>\n",
       "      <td>1.51</td>\n",
       "      <td>1.03</td>\n",
       "      <td>0.0</td>\n",
       "      <td>0.27</td>\n",
       "      <td>NaN</td>\n",
       "      <td>tbd</td>\n",
       "      <td>T</td>\n",
       "    </tr>\n",
       "    <tr>\n",
       "      <th>645</th>\n",
       "      <td>uDraw Studio</td>\n",
       "      <td>Wii</td>\n",
       "      <td>2010.0</td>\n",
       "      <td>Misc</td>\n",
       "      <td>1.65</td>\n",
       "      <td>0.57</td>\n",
       "      <td>0.0</td>\n",
       "      <td>0.20</td>\n",
       "      <td>71.0</td>\n",
       "      <td>tbd</td>\n",
       "      <td>E</td>\n",
       "    </tr>\n",
       "    <tr>\n",
       "      <th>718</th>\n",
       "      <td>Just Dance Kids</td>\n",
       "      <td>Wii</td>\n",
       "      <td>2010.0</td>\n",
       "      <td>Misc</td>\n",
       "      <td>1.52</td>\n",
       "      <td>0.54</td>\n",
       "      <td>0.0</td>\n",
       "      <td>0.18</td>\n",
       "      <td>NaN</td>\n",
       "      <td>tbd</td>\n",
       "      <td>E</td>\n",
       "    </tr>\n",
       "    <tr>\n",
       "      <th>...</th>\n",
       "      <td>...</td>\n",
       "      <td>...</td>\n",
       "      <td>...</td>\n",
       "      <td>...</td>\n",
       "      <td>...</td>\n",
       "      <td>...</td>\n",
       "      <td>...</td>\n",
       "      <td>...</td>\n",
       "      <td>...</td>\n",
       "      <td>...</td>\n",
       "      <td>...</td>\n",
       "    </tr>\n",
       "    <tr>\n",
       "      <th>16695</th>\n",
       "      <td>Planet Monsters</td>\n",
       "      <td>GBA</td>\n",
       "      <td>2001.0</td>\n",
       "      <td>Action</td>\n",
       "      <td>0.01</td>\n",
       "      <td>0.00</td>\n",
       "      <td>0.0</td>\n",
       "      <td>0.00</td>\n",
       "      <td>67.0</td>\n",
       "      <td>tbd</td>\n",
       "      <td>E</td>\n",
       "    </tr>\n",
       "    <tr>\n",
       "      <th>16697</th>\n",
       "      <td>Bust-A-Move 3000</td>\n",
       "      <td>GC</td>\n",
       "      <td>2003.0</td>\n",
       "      <td>Puzzle</td>\n",
       "      <td>0.01</td>\n",
       "      <td>0.00</td>\n",
       "      <td>0.0</td>\n",
       "      <td>0.00</td>\n",
       "      <td>53.0</td>\n",
       "      <td>tbd</td>\n",
       "      <td>E</td>\n",
       "    </tr>\n",
       "    <tr>\n",
       "      <th>16698</th>\n",
       "      <td>Mega Brain Boost</td>\n",
       "      <td>DS</td>\n",
       "      <td>2008.0</td>\n",
       "      <td>Puzzle</td>\n",
       "      <td>0.01</td>\n",
       "      <td>0.00</td>\n",
       "      <td>0.0</td>\n",
       "      <td>0.00</td>\n",
       "      <td>48.0</td>\n",
       "      <td>tbd</td>\n",
       "      <td>E</td>\n",
       "    </tr>\n",
       "    <tr>\n",
       "      <th>16704</th>\n",
       "      <td>Plushees</td>\n",
       "      <td>DS</td>\n",
       "      <td>2008.0</td>\n",
       "      <td>Simulation</td>\n",
       "      <td>0.01</td>\n",
       "      <td>0.00</td>\n",
       "      <td>0.0</td>\n",
       "      <td>0.00</td>\n",
       "      <td>NaN</td>\n",
       "      <td>tbd</td>\n",
       "      <td>E</td>\n",
       "    </tr>\n",
       "    <tr>\n",
       "      <th>16706</th>\n",
       "      <td>Men in Black II: Alien Escape</td>\n",
       "      <td>GC</td>\n",
       "      <td>2003.0</td>\n",
       "      <td>Shooter</td>\n",
       "      <td>0.01</td>\n",
       "      <td>0.00</td>\n",
       "      <td>0.0</td>\n",
       "      <td>0.00</td>\n",
       "      <td>NaN</td>\n",
       "      <td>tbd</td>\n",
       "      <td>T</td>\n",
       "    </tr>\n",
       "  </tbody>\n",
       "</table>\n",
       "<p>2376 rows × 11 columns</p>\n",
       "</div>"
      ],
      "text/plain": [
       "                                 name platform  year_of_release       genre  \\\n",
       "119                     Zumba Fitness      Wii           2010.0      Sports   \n",
       "301    Namco Museum: 50th Anniversary      PS2           2005.0        Misc   \n",
       "520                   Zumba Fitness 2      Wii           2011.0      Sports   \n",
       "645                      uDraw Studio      Wii           2010.0        Misc   \n",
       "718                   Just Dance Kids      Wii           2010.0        Misc   \n",
       "...                               ...      ...              ...         ...   \n",
       "16695                 Planet Monsters      GBA           2001.0      Action   \n",
       "16697                Bust-A-Move 3000       GC           2003.0      Puzzle   \n",
       "16698                Mega Brain Boost       DS           2008.0      Puzzle   \n",
       "16704                        Plushees       DS           2008.0  Simulation   \n",
       "16706   Men in Black II: Alien Escape       GC           2003.0     Shooter   \n",
       "\n",
       "       na_sales  eu_sales  jp_sales  other_sales  critic_score user_score  \\\n",
       "119        3.45      2.59       0.0         0.66           NaN        tbd   \n",
       "301        2.08      1.35       0.0         0.54          61.0        tbd   \n",
       "520        1.51      1.03       0.0         0.27           NaN        tbd   \n",
       "645        1.65      0.57       0.0         0.20          71.0        tbd   \n",
       "718        1.52      0.54       0.0         0.18           NaN        tbd   \n",
       "...         ...       ...       ...          ...           ...        ...   \n",
       "16695      0.01      0.00       0.0         0.00          67.0        tbd   \n",
       "16697      0.01      0.00       0.0         0.00          53.0        tbd   \n",
       "16698      0.01      0.00       0.0         0.00          48.0        tbd   \n",
       "16704      0.01      0.00       0.0         0.00           NaN        tbd   \n",
       "16706      0.01      0.00       0.0         0.00           NaN        tbd   \n",
       "\n",
       "      rating  \n",
       "119        E  \n",
       "301     E10+  \n",
       "520        T  \n",
       "645        E  \n",
       "718        E  \n",
       "...      ...  \n",
       "16695      E  \n",
       "16697      E  \n",
       "16698      E  \n",
       "16704      E  \n",
       "16706      T  \n",
       "\n",
       "[2376 rows x 11 columns]"
      ]
     },
     "execution_count": 14,
     "metadata": {},
     "output_type": "execute_result"
    }
   ],
   "source": [
    "games.query('user_score == \"tbd\"')"
   ]
  },
  {
   "cell_type": "markdown",
   "metadata": {},
   "source": [
    "We see that the games are presented in different years, which means that in this case this value is equated to a skip in the data"
   ]
  },
  {
   "cell_type": "code",
   "execution_count": 15,
   "metadata": {},
   "outputs": [],
   "source": [
    "games['user_score'] = games['user_score'].replace('tbd', np.NaN)\n"
   ]
  },
  {
   "cell_type": "markdown",
   "metadata": {},
   "source": [
    "The data is skipped only in the rating and rating columns, so it is impractical to delete rows with missing values in them"
   ]
  },
  {
   "cell_type": "code",
   "execution_count": 16,
   "metadata": {},
   "outputs": [
    {
     "name": "stdout",
     "output_type": "stream",
     "text": [
      "Checking for gaps before processing:  6676\n",
      "Checking for gaps after processing: 0\n"
     ]
    }
   ],
   "source": [
    "# Rating. If the field is not filled in, replace Unknown\n",
    "print('Checking for gaps before processing: ', games['rating'].isna().sum())\n",
    "games.loc[games['rating'].isna(), 'rating'] = \"Unknown\"\n",
    "print('Checking for gaps after processing:', games['rating'].isna().sum())"
   ]
  },
  {
   "cell_type": "markdown",
   "metadata": {},
   "source": [
    "We have filled in the gaps in the rating on Unknown, this is necessary for more accurate research on genres and data on games without a rating at the next stages of work"
   ]
  },
  {
   "cell_type": "markdown",
   "metadata": {},
   "source": [
    "### Сonvert the data to the desired types"
   ]
  },
  {
   "cell_type": "code",
   "execution_count": 17,
   "metadata": {},
   "outputs": [
    {
     "data": {
      "text/html": [
       "<div>\n",
       "<style scoped>\n",
       "    .dataframe tbody tr th:only-of-type {\n",
       "        vertical-align: middle;\n",
       "    }\n",
       "\n",
       "    .dataframe tbody tr th {\n",
       "        vertical-align: top;\n",
       "    }\n",
       "\n",
       "    .dataframe thead th {\n",
       "        text-align: right;\n",
       "    }\n",
       "</style>\n",
       "<table border=\"1\" class=\"dataframe\">\n",
       "  <thead>\n",
       "    <tr style=\"text-align: right;\">\n",
       "      <th></th>\n",
       "      <th>Value</th>\n",
       "      <th>Data Type</th>\n",
       "      <th>Unique Values</th>\n",
       "    </tr>\n",
       "  </thead>\n",
       "  <tbody>\n",
       "    <tr>\n",
       "      <th>year_of_release</th>\n",
       "      <td>[2006.0, 1985.0, 2008.0, 2009.0, 1996.0, 1989....</td>\n",
       "      <td>float64</td>\n",
       "      <td>37</td>\n",
       "    </tr>\n",
       "    <tr>\n",
       "      <th>na_sales</th>\n",
       "      <td>[41.36, 29.08, 15.68, 15.61, 11.27, 23.2, 11.2...</td>\n",
       "      <td>float64</td>\n",
       "      <td>401</td>\n",
       "    </tr>\n",
       "    <tr>\n",
       "      <th>eu_sales</th>\n",
       "      <td>[28.96, 3.58, 12.76, 10.93, 8.89, 2.26, 9.14, ...</td>\n",
       "      <td>float64</td>\n",
       "      <td>307</td>\n",
       "    </tr>\n",
       "    <tr>\n",
       "      <th>jp_sales</th>\n",
       "      <td>[3.77, 6.81, 3.79, 3.28, 10.22, 4.22, 6.5, 2.9...</td>\n",
       "      <td>float64</td>\n",
       "      <td>244</td>\n",
       "    </tr>\n",
       "    <tr>\n",
       "      <th>other_sales</th>\n",
       "      <td>[8.45, 0.77, 3.29, 2.95, 1.0, 0.58, 2.88, 2.84...</td>\n",
       "      <td>float64</td>\n",
       "      <td>155</td>\n",
       "    </tr>\n",
       "    <tr>\n",
       "      <th>critic_score</th>\n",
       "      <td>[76.0, nan, 82.0, 80.0, 89.0, 58.0, 87.0, 91.0...</td>\n",
       "      <td>float64</td>\n",
       "      <td>81</td>\n",
       "    </tr>\n",
       "    <tr>\n",
       "      <th>name</th>\n",
       "      <td>[Wii Sports, Super Mario Bros., Mario Kart Wii...</td>\n",
       "      <td>object</td>\n",
       "      <td>11426</td>\n",
       "    </tr>\n",
       "    <tr>\n",
       "      <th>platform</th>\n",
       "      <td>[Wii, NES, GB, DS, X360, PS3, PS2, SNES, GBA, ...</td>\n",
       "      <td>object</td>\n",
       "      <td>31</td>\n",
       "    </tr>\n",
       "    <tr>\n",
       "      <th>genre</th>\n",
       "      <td>[Sports, Platform, Racing, Role-Playing, Puzzl...</td>\n",
       "      <td>object</td>\n",
       "      <td>12</td>\n",
       "    </tr>\n",
       "    <tr>\n",
       "      <th>user_score</th>\n",
       "      <td>[8, nan, 8.3, 8.5, 6.6, 8.4, 8.6, 7.7, 6.3, 7....</td>\n",
       "      <td>object</td>\n",
       "      <td>95</td>\n",
       "    </tr>\n",
       "    <tr>\n",
       "      <th>rating</th>\n",
       "      <td>[E, Unknown, M, T, E10+, K-A, AO, EC, RP]</td>\n",
       "      <td>object</td>\n",
       "      <td>9</td>\n",
       "    </tr>\n",
       "  </tbody>\n",
       "</table>\n",
       "</div>"
      ],
      "text/plain": [
       "                                                             Value Data Type  \\\n",
       "year_of_release  [2006.0, 1985.0, 2008.0, 2009.0, 1996.0, 1989....   float64   \n",
       "na_sales         [41.36, 29.08, 15.68, 15.61, 11.27, 23.2, 11.2...   float64   \n",
       "eu_sales         [28.96, 3.58, 12.76, 10.93, 8.89, 2.26, 9.14, ...   float64   \n",
       "jp_sales         [3.77, 6.81, 3.79, 3.28, 10.22, 4.22, 6.5, 2.9...   float64   \n",
       "other_sales      [8.45, 0.77, 3.29, 2.95, 1.0, 0.58, 2.88, 2.84...   float64   \n",
       "critic_score     [76.0, nan, 82.0, 80.0, 89.0, 58.0, 87.0, 91.0...   float64   \n",
       "name             [Wii Sports, Super Mario Bros., Mario Kart Wii...    object   \n",
       "platform         [Wii, NES, GB, DS, X360, PS3, PS2, SNES, GBA, ...    object   \n",
       "genre            [Sports, Platform, Racing, Role-Playing, Puzzl...    object   \n",
       "user_score       [8, nan, 8.3, 8.5, 6.6, 8.4, 8.6, 7.7, 6.3, 7....    object   \n",
       "rating                   [E, Unknown, M, T, E10+, K-A, AO, EC, RP]    object   \n",
       "\n",
       "                Unique Values  \n",
       "year_of_release            37  \n",
       "na_sales                  401  \n",
       "eu_sales                  307  \n",
       "jp_sales                  244  \n",
       "other_sales               155  \n",
       "critic_score               81  \n",
       "name                    11426  \n",
       "platform                   31  \n",
       "genre                      12  \n",
       "user_score                 95  \n",
       "rating                      9  "
      ]
     },
     "execution_count": 17,
     "metadata": {},
     "output_type": "execute_result"
    }
   ],
   "source": [
    "def describe_colums(games):\n",
    "    \n",
    "    values = pd.DataFrame()\n",
    "    \n",
    "    for col in games.columns:\n",
    "        values[col] = [games[col].unique(), games[col].dtypes, games[col].nunique()]\n",
    "        \n",
    "    return values.transpose().sort_values(by=1, ascending=True).rename(\n",
    "        {0: 'Value', 1: 'Data Type', 2: 'Unique Values'}, axis=1)\n",
    "\n",
    "describe_colums(games)"
   ]
  },
  {
   "cell_type": "markdown",
   "metadata": {},
   "source": [
    "The release year must be an integer\n",
    "\n",
    "User rating should be float"
   ]
  },
  {
   "cell_type": "code",
   "execution_count": 18,
   "metadata": {},
   "outputs": [
    {
     "data": {
      "text/html": [
       "<div>\n",
       "<style scoped>\n",
       "    .dataframe tbody tr th:only-of-type {\n",
       "        vertical-align: middle;\n",
       "    }\n",
       "\n",
       "    .dataframe tbody tr th {\n",
       "        vertical-align: top;\n",
       "    }\n",
       "\n",
       "    .dataframe thead th {\n",
       "        text-align: right;\n",
       "    }\n",
       "</style>\n",
       "<table border=\"1\" class=\"dataframe\">\n",
       "  <thead>\n",
       "    <tr style=\"text-align: right;\">\n",
       "      <th></th>\n",
       "      <th>name</th>\n",
       "      <th>platform</th>\n",
       "      <th>year_of_release</th>\n",
       "      <th>genre</th>\n",
       "      <th>na_sales</th>\n",
       "      <th>eu_sales</th>\n",
       "      <th>jp_sales</th>\n",
       "      <th>other_sales</th>\n",
       "      <th>critic_score</th>\n",
       "      <th>user_score</th>\n",
       "      <th>rating</th>\n",
       "    </tr>\n",
       "  </thead>\n",
       "  <tbody>\n",
       "    <tr>\n",
       "      <th>0</th>\n",
       "      <td>Wii Sports</td>\n",
       "      <td>Wii</td>\n",
       "      <td>2006</td>\n",
       "      <td>Sports</td>\n",
       "      <td>41.36</td>\n",
       "      <td>28.96</td>\n",
       "      <td>3.77</td>\n",
       "      <td>8.45</td>\n",
       "      <td>76.0</td>\n",
       "      <td>8.0</td>\n",
       "      <td>E</td>\n",
       "    </tr>\n",
       "    <tr>\n",
       "      <th>1</th>\n",
       "      <td>Super Mario Bros.</td>\n",
       "      <td>NES</td>\n",
       "      <td>1985</td>\n",
       "      <td>Platform</td>\n",
       "      <td>29.08</td>\n",
       "      <td>3.58</td>\n",
       "      <td>6.81</td>\n",
       "      <td>0.77</td>\n",
       "      <td>NaN</td>\n",
       "      <td>NaN</td>\n",
       "      <td>Unknown</td>\n",
       "    </tr>\n",
       "    <tr>\n",
       "      <th>2</th>\n",
       "      <td>Mario Kart Wii</td>\n",
       "      <td>Wii</td>\n",
       "      <td>2008</td>\n",
       "      <td>Racing</td>\n",
       "      <td>15.68</td>\n",
       "      <td>12.76</td>\n",
       "      <td>3.79</td>\n",
       "      <td>3.29</td>\n",
       "      <td>82.0</td>\n",
       "      <td>8.3</td>\n",
       "      <td>E</td>\n",
       "    </tr>\n",
       "    <tr>\n",
       "      <th>3</th>\n",
       "      <td>Wii Sports Resort</td>\n",
       "      <td>Wii</td>\n",
       "      <td>2009</td>\n",
       "      <td>Sports</td>\n",
       "      <td>15.61</td>\n",
       "      <td>10.93</td>\n",
       "      <td>3.28</td>\n",
       "      <td>2.95</td>\n",
       "      <td>80.0</td>\n",
       "      <td>8.0</td>\n",
       "      <td>E</td>\n",
       "    </tr>\n",
       "    <tr>\n",
       "      <th>4</th>\n",
       "      <td>Pokemon Red/Pokemon Blue</td>\n",
       "      <td>GB</td>\n",
       "      <td>1996</td>\n",
       "      <td>Role-Playing</td>\n",
       "      <td>11.27</td>\n",
       "      <td>8.89</td>\n",
       "      <td>10.22</td>\n",
       "      <td>1.00</td>\n",
       "      <td>NaN</td>\n",
       "      <td>NaN</td>\n",
       "      <td>Unknown</td>\n",
       "    </tr>\n",
       "  </tbody>\n",
       "</table>\n",
       "</div>"
      ],
      "text/plain": [
       "                       name platform  year_of_release         genre  na_sales  \\\n",
       "0                Wii Sports      Wii             2006        Sports     41.36   \n",
       "1         Super Mario Bros.      NES             1985      Platform     29.08   \n",
       "2            Mario Kart Wii      Wii             2008        Racing     15.68   \n",
       "3         Wii Sports Resort      Wii             2009        Sports     15.61   \n",
       "4  Pokemon Red/Pokemon Blue       GB             1996  Role-Playing     11.27   \n",
       "\n",
       "   eu_sales  jp_sales  other_sales  critic_score  user_score   rating  \n",
       "0     28.96      3.77         8.45          76.0         8.0        E  \n",
       "1      3.58      6.81         0.77           NaN         NaN  Unknown  \n",
       "2     12.76      3.79         3.29          82.0         8.3        E  \n",
       "3     10.93      3.28         2.95          80.0         8.0        E  \n",
       "4      8.89     10.22         1.00           NaN         NaN  Unknown  "
      ]
     },
     "execution_count": 18,
     "metadata": {},
     "output_type": "execute_result"
    }
   ],
   "source": [
    "games['year_of_release'] = games['year_of_release'].astype('int')\n",
    "games['user_score'] = games['user_score'].astype('float')\n",
    "games.head()"
   ]
  },
  {
   "cell_type": "code",
   "execution_count": 19,
   "metadata": {},
   "outputs": [
    {
     "data": {
      "text/html": [
       "<div>\n",
       "<style scoped>\n",
       "    .dataframe tbody tr th:only-of-type {\n",
       "        vertical-align: middle;\n",
       "    }\n",
       "\n",
       "    .dataframe tbody tr th {\n",
       "        vertical-align: top;\n",
       "    }\n",
       "\n",
       "    .dataframe thead th {\n",
       "        text-align: right;\n",
       "    }\n",
       "</style>\n",
       "<table border=\"1\" class=\"dataframe\">\n",
       "  <thead>\n",
       "    <tr style=\"text-align: right;\">\n",
       "      <th></th>\n",
       "      <th>Value</th>\n",
       "      <th>Data Type</th>\n",
       "      <th>Unique Values</th>\n",
       "    </tr>\n",
       "  </thead>\n",
       "  <tbody>\n",
       "    <tr>\n",
       "      <th>year_of_release</th>\n",
       "      <td>[2006, 1985, 2008, 2009, 1996, 1989, 1984, 200...</td>\n",
       "      <td>int32</td>\n",
       "      <td>37</td>\n",
       "    </tr>\n",
       "    <tr>\n",
       "      <th>na_sales</th>\n",
       "      <td>[41.36, 29.08, 15.68, 15.61, 11.27, 23.2, 11.2...</td>\n",
       "      <td>float64</td>\n",
       "      <td>401</td>\n",
       "    </tr>\n",
       "    <tr>\n",
       "      <th>eu_sales</th>\n",
       "      <td>[28.96, 3.58, 12.76, 10.93, 8.89, 2.26, 9.14, ...</td>\n",
       "      <td>float64</td>\n",
       "      <td>307</td>\n",
       "    </tr>\n",
       "    <tr>\n",
       "      <th>jp_sales</th>\n",
       "      <td>[3.77, 6.81, 3.79, 3.28, 10.22, 4.22, 6.5, 2.9...</td>\n",
       "      <td>float64</td>\n",
       "      <td>244</td>\n",
       "    </tr>\n",
       "    <tr>\n",
       "      <th>other_sales</th>\n",
       "      <td>[8.45, 0.77, 3.29, 2.95, 1.0, 0.58, 2.88, 2.84...</td>\n",
       "      <td>float64</td>\n",
       "      <td>155</td>\n",
       "    </tr>\n",
       "    <tr>\n",
       "      <th>critic_score</th>\n",
       "      <td>[76.0, nan, 82.0, 80.0, 89.0, 58.0, 87.0, 91.0...</td>\n",
       "      <td>float64</td>\n",
       "      <td>81</td>\n",
       "    </tr>\n",
       "    <tr>\n",
       "      <th>user_score</th>\n",
       "      <td>[8.0, nan, 8.3, 8.5, 6.6, 8.4, 8.6, 7.7, 6.3, ...</td>\n",
       "      <td>float64</td>\n",
       "      <td>95</td>\n",
       "    </tr>\n",
       "    <tr>\n",
       "      <th>name</th>\n",
       "      <td>[Wii Sports, Super Mario Bros., Mario Kart Wii...</td>\n",
       "      <td>object</td>\n",
       "      <td>11426</td>\n",
       "    </tr>\n",
       "    <tr>\n",
       "      <th>platform</th>\n",
       "      <td>[Wii, NES, GB, DS, X360, PS3, PS2, SNES, GBA, ...</td>\n",
       "      <td>object</td>\n",
       "      <td>31</td>\n",
       "    </tr>\n",
       "    <tr>\n",
       "      <th>genre</th>\n",
       "      <td>[Sports, Platform, Racing, Role-Playing, Puzzl...</td>\n",
       "      <td>object</td>\n",
       "      <td>12</td>\n",
       "    </tr>\n",
       "    <tr>\n",
       "      <th>rating</th>\n",
       "      <td>[E, Unknown, M, T, E10+, K-A, AO, EC, RP]</td>\n",
       "      <td>object</td>\n",
       "      <td>9</td>\n",
       "    </tr>\n",
       "  </tbody>\n",
       "</table>\n",
       "</div>"
      ],
      "text/plain": [
       "                                                             Value Data Type  \\\n",
       "year_of_release  [2006, 1985, 2008, 2009, 1996, 1989, 1984, 200...     int32   \n",
       "na_sales         [41.36, 29.08, 15.68, 15.61, 11.27, 23.2, 11.2...   float64   \n",
       "eu_sales         [28.96, 3.58, 12.76, 10.93, 8.89, 2.26, 9.14, ...   float64   \n",
       "jp_sales         [3.77, 6.81, 3.79, 3.28, 10.22, 4.22, 6.5, 2.9...   float64   \n",
       "other_sales      [8.45, 0.77, 3.29, 2.95, 1.0, 0.58, 2.88, 2.84...   float64   \n",
       "critic_score     [76.0, nan, 82.0, 80.0, 89.0, 58.0, 87.0, 91.0...   float64   \n",
       "user_score       [8.0, nan, 8.3, 8.5, 6.6, 8.4, 8.6, 7.7, 6.3, ...   float64   \n",
       "name             [Wii Sports, Super Mario Bros., Mario Kart Wii...    object   \n",
       "platform         [Wii, NES, GB, DS, X360, PS3, PS2, SNES, GBA, ...    object   \n",
       "genre            [Sports, Platform, Racing, Role-Playing, Puzzl...    object   \n",
       "rating                   [E, Unknown, M, T, E10+, K-A, AO, EC, RP]    object   \n",
       "\n",
       "                Unique Values  \n",
       "year_of_release            37  \n",
       "na_sales                  401  \n",
       "eu_sales                  307  \n",
       "jp_sales                  244  \n",
       "other_sales               155  \n",
       "critic_score               81  \n",
       "user_score                 95  \n",
       "name                    11426  \n",
       "platform                   31  \n",
       "genre                      12  \n",
       "rating                      9  "
      ]
     },
     "execution_count": 19,
     "metadata": {},
     "output_type": "execute_result"
    }
   ],
   "source": [
    "def describe_colums(games):\n",
    "    \n",
    "    values = pd.DataFrame()\n",
    "    \n",
    "    for col in games.columns:\n",
    "        values[col] = [games[col].unique(), games[col].dtypes, games[col].nunique()]\n",
    "        \n",
    "    return values.transpose().sort_values(by=1, ascending=True).rename(\n",
    "        {0: 'Value', 1: 'Data Type', 2: 'Unique Values'}, axis=1)\n",
    "\n",
    "describe_colums(games)"
   ]
  },
  {
   "cell_type": "markdown",
   "metadata": {},
   "source": [
    "Everything is fine with the formats now. The year can only be integer, and ratings have values after the decimal point, and must also be in the same data format"
   ]
  },
  {
   "cell_type": "markdown",
   "metadata": {},
   "source": [
    "### Let's calculate the total sales in all regions"
   ]
  },
  {
   "cell_type": "code",
   "execution_count": 20,
   "metadata": {
    "scrolled": true
   },
   "outputs": [
    {
     "data": {
      "text/html": [
       "<div>\n",
       "<style scoped>\n",
       "    .dataframe tbody tr th:only-of-type {\n",
       "        vertical-align: middle;\n",
       "    }\n",
       "\n",
       "    .dataframe tbody tr th {\n",
       "        vertical-align: top;\n",
       "    }\n",
       "\n",
       "    .dataframe thead th {\n",
       "        text-align: right;\n",
       "    }\n",
       "</style>\n",
       "<table border=\"1\" class=\"dataframe\">\n",
       "  <thead>\n",
       "    <tr style=\"text-align: right;\">\n",
       "      <th></th>\n",
       "      <th>name</th>\n",
       "      <th>platform</th>\n",
       "      <th>year_of_release</th>\n",
       "      <th>genre</th>\n",
       "      <th>na_sales</th>\n",
       "      <th>eu_sales</th>\n",
       "      <th>jp_sales</th>\n",
       "      <th>other_sales</th>\n",
       "      <th>critic_score</th>\n",
       "      <th>user_score</th>\n",
       "      <th>rating</th>\n",
       "      <th>sum_sales</th>\n",
       "    </tr>\n",
       "  </thead>\n",
       "  <tbody>\n",
       "    <tr>\n",
       "      <th>0</th>\n",
       "      <td>Wii Sports</td>\n",
       "      <td>Wii</td>\n",
       "      <td>2006</td>\n",
       "      <td>Sports</td>\n",
       "      <td>41.36</td>\n",
       "      <td>28.96</td>\n",
       "      <td>3.77</td>\n",
       "      <td>8.45</td>\n",
       "      <td>76.0</td>\n",
       "      <td>8.0</td>\n",
       "      <td>E</td>\n",
       "      <td>82.54</td>\n",
       "    </tr>\n",
       "    <tr>\n",
       "      <th>1</th>\n",
       "      <td>Super Mario Bros.</td>\n",
       "      <td>NES</td>\n",
       "      <td>1985</td>\n",
       "      <td>Platform</td>\n",
       "      <td>29.08</td>\n",
       "      <td>3.58</td>\n",
       "      <td>6.81</td>\n",
       "      <td>0.77</td>\n",
       "      <td>NaN</td>\n",
       "      <td>NaN</td>\n",
       "      <td>Unknown</td>\n",
       "      <td>40.24</td>\n",
       "    </tr>\n",
       "    <tr>\n",
       "      <th>2</th>\n",
       "      <td>Mario Kart Wii</td>\n",
       "      <td>Wii</td>\n",
       "      <td>2008</td>\n",
       "      <td>Racing</td>\n",
       "      <td>15.68</td>\n",
       "      <td>12.76</td>\n",
       "      <td>3.79</td>\n",
       "      <td>3.29</td>\n",
       "      <td>82.0</td>\n",
       "      <td>8.3</td>\n",
       "      <td>E</td>\n",
       "      <td>35.52</td>\n",
       "    </tr>\n",
       "    <tr>\n",
       "      <th>3</th>\n",
       "      <td>Wii Sports Resort</td>\n",
       "      <td>Wii</td>\n",
       "      <td>2009</td>\n",
       "      <td>Sports</td>\n",
       "      <td>15.61</td>\n",
       "      <td>10.93</td>\n",
       "      <td>3.28</td>\n",
       "      <td>2.95</td>\n",
       "      <td>80.0</td>\n",
       "      <td>8.0</td>\n",
       "      <td>E</td>\n",
       "      <td>32.77</td>\n",
       "    </tr>\n",
       "    <tr>\n",
       "      <th>4</th>\n",
       "      <td>Pokemon Red/Pokemon Blue</td>\n",
       "      <td>GB</td>\n",
       "      <td>1996</td>\n",
       "      <td>Role-Playing</td>\n",
       "      <td>11.27</td>\n",
       "      <td>8.89</td>\n",
       "      <td>10.22</td>\n",
       "      <td>1.00</td>\n",
       "      <td>NaN</td>\n",
       "      <td>NaN</td>\n",
       "      <td>Unknown</td>\n",
       "      <td>31.38</td>\n",
       "    </tr>\n",
       "    <tr>\n",
       "      <th>...</th>\n",
       "      <td>...</td>\n",
       "      <td>...</td>\n",
       "      <td>...</td>\n",
       "      <td>...</td>\n",
       "      <td>...</td>\n",
       "      <td>...</td>\n",
       "      <td>...</td>\n",
       "      <td>...</td>\n",
       "      <td>...</td>\n",
       "      <td>...</td>\n",
       "      <td>...</td>\n",
       "      <td>...</td>\n",
       "    </tr>\n",
       "    <tr>\n",
       "      <th>16710</th>\n",
       "      <td>Samurai Warriors: Sanada Maru</td>\n",
       "      <td>PS3</td>\n",
       "      <td>2016</td>\n",
       "      <td>Action</td>\n",
       "      <td>0.00</td>\n",
       "      <td>0.00</td>\n",
       "      <td>0.01</td>\n",
       "      <td>0.00</td>\n",
       "      <td>NaN</td>\n",
       "      <td>NaN</td>\n",
       "      <td>Unknown</td>\n",
       "      <td>0.01</td>\n",
       "    </tr>\n",
       "    <tr>\n",
       "      <th>16711</th>\n",
       "      <td>LMA Manager 2007</td>\n",
       "      <td>X360</td>\n",
       "      <td>2006</td>\n",
       "      <td>Sports</td>\n",
       "      <td>0.00</td>\n",
       "      <td>0.01</td>\n",
       "      <td>0.00</td>\n",
       "      <td>0.00</td>\n",
       "      <td>NaN</td>\n",
       "      <td>NaN</td>\n",
       "      <td>Unknown</td>\n",
       "      <td>0.01</td>\n",
       "    </tr>\n",
       "    <tr>\n",
       "      <th>16712</th>\n",
       "      <td>Haitaka no Psychedelica</td>\n",
       "      <td>PSV</td>\n",
       "      <td>2016</td>\n",
       "      <td>Adventure</td>\n",
       "      <td>0.00</td>\n",
       "      <td>0.00</td>\n",
       "      <td>0.01</td>\n",
       "      <td>0.00</td>\n",
       "      <td>NaN</td>\n",
       "      <td>NaN</td>\n",
       "      <td>Unknown</td>\n",
       "      <td>0.01</td>\n",
       "    </tr>\n",
       "    <tr>\n",
       "      <th>16713</th>\n",
       "      <td>Spirits &amp; Spells</td>\n",
       "      <td>GBA</td>\n",
       "      <td>2003</td>\n",
       "      <td>Platform</td>\n",
       "      <td>0.01</td>\n",
       "      <td>0.00</td>\n",
       "      <td>0.00</td>\n",
       "      <td>0.00</td>\n",
       "      <td>NaN</td>\n",
       "      <td>NaN</td>\n",
       "      <td>Unknown</td>\n",
       "      <td>0.01</td>\n",
       "    </tr>\n",
       "    <tr>\n",
       "      <th>16714</th>\n",
       "      <td>Winning Post 8 2016</td>\n",
       "      <td>PSV</td>\n",
       "      <td>2016</td>\n",
       "      <td>Simulation</td>\n",
       "      <td>0.00</td>\n",
       "      <td>0.00</td>\n",
       "      <td>0.01</td>\n",
       "      <td>0.00</td>\n",
       "      <td>NaN</td>\n",
       "      <td>NaN</td>\n",
       "      <td>Unknown</td>\n",
       "      <td>0.01</td>\n",
       "    </tr>\n",
       "  </tbody>\n",
       "</table>\n",
       "<p>16444 rows × 12 columns</p>\n",
       "</div>"
      ],
      "text/plain": [
       "                                name platform  year_of_release         genre  \\\n",
       "0                         Wii Sports      Wii             2006        Sports   \n",
       "1                  Super Mario Bros.      NES             1985      Platform   \n",
       "2                     Mario Kart Wii      Wii             2008        Racing   \n",
       "3                  Wii Sports Resort      Wii             2009        Sports   \n",
       "4           Pokemon Red/Pokemon Blue       GB             1996  Role-Playing   \n",
       "...                              ...      ...              ...           ...   \n",
       "16710  Samurai Warriors: Sanada Maru      PS3             2016        Action   \n",
       "16711               LMA Manager 2007     X360             2006        Sports   \n",
       "16712        Haitaka no Psychedelica      PSV             2016     Adventure   \n",
       "16713               Spirits & Spells      GBA             2003      Platform   \n",
       "16714            Winning Post 8 2016      PSV             2016    Simulation   \n",
       "\n",
       "       na_sales  eu_sales  jp_sales  other_sales  critic_score  user_score  \\\n",
       "0         41.36     28.96      3.77         8.45          76.0         8.0   \n",
       "1         29.08      3.58      6.81         0.77           NaN         NaN   \n",
       "2         15.68     12.76      3.79         3.29          82.0         8.3   \n",
       "3         15.61     10.93      3.28         2.95          80.0         8.0   \n",
       "4         11.27      8.89     10.22         1.00           NaN         NaN   \n",
       "...         ...       ...       ...          ...           ...         ...   \n",
       "16710      0.00      0.00      0.01         0.00           NaN         NaN   \n",
       "16711      0.00      0.01      0.00         0.00           NaN         NaN   \n",
       "16712      0.00      0.00      0.01         0.00           NaN         NaN   \n",
       "16713      0.01      0.00      0.00         0.00           NaN         NaN   \n",
       "16714      0.00      0.00      0.01         0.00           NaN         NaN   \n",
       "\n",
       "        rating  sum_sales  \n",
       "0            E      82.54  \n",
       "1      Unknown      40.24  \n",
       "2            E      35.52  \n",
       "3            E      32.77  \n",
       "4      Unknown      31.38  \n",
       "...        ...        ...  \n",
       "16710  Unknown       0.01  \n",
       "16711  Unknown       0.01  \n",
       "16712  Unknown       0.01  \n",
       "16713  Unknown       0.01  \n",
       "16714  Unknown       0.01  \n",
       "\n",
       "[16444 rows x 12 columns]"
      ]
     },
     "metadata": {},
     "output_type": "display_data"
    }
   ],
   "source": [
    "games['sum_sales']=games['na_sales']+games['eu_sales']+games['jp_sales']+games['other_sales']\n",
    "display(games)"
   ]
  },
  {
   "cell_type": "markdown",
   "metadata": {},
   "source": [
    "## 3 Research analysis of data"
   ]
  },
  {
   "cell_type": "markdown",
   "metadata": {},
   "source": [
    "### Let's check how many games were released in different versions"
   ]
  },
  {
   "cell_type": "code",
   "execution_count": 21,
   "metadata": {},
   "outputs": [
    {
     "data": {
      "image/png": "[encoded data removed]",
      "text/plain": [
       "<Figure size 720x360 with 1 Axes>"
      ]
     },
     "metadata": {
      "needs_background": "light"
     },
     "output_type": "display_data"
    }
   ],
   "source": [
    "games.groupby('year_of_release')['name'].count().plot(grid=True, kind='bar',figsize=(10, 5))\n",
    "plt.title(\"Number of Games Released per Year\")\n",
    "plt.show()"
   ]
  },
  {
   "cell_type": "code",
   "execution_count": 22,
   "metadata": {},
   "outputs": [
    {
     "data": {
      "text/plain": [
       "year_of_release\n",
       "1980       9\n",
       "1981      46\n",
       "1982      36\n",
       "1983      17\n",
       "1984      14\n",
       "1985      14\n",
       "1986      21\n",
       "1987      16\n",
       "1988      15\n",
       "1989      17\n",
       "1990      16\n",
       "1991      41\n",
       "1992      43\n",
       "1993      60\n",
       "1994     121\n",
       "1995     219\n",
       "1996     263\n",
       "1997     289\n",
       "1998     379\n",
       "1999     338\n",
       "2000     350\n",
       "2001     482\n",
       "2002     829\n",
       "2003     775\n",
       "2004     762\n",
       "2005     939\n",
       "2006    1006\n",
       "2007    1197\n",
       "2008    1427\n",
       "2009    1426\n",
       "2010    1255\n",
       "2011    1136\n",
       "2012     653\n",
       "2013     544\n",
       "2014     581\n",
       "2015     606\n",
       "2016     502\n",
       "Name: name, dtype: int64"
      ]
     },
     "execution_count": 22,
     "metadata": {},
     "output_type": "execute_result"
    }
   ],
   "source": [
    "games.groupby('year_of_release')['name'].count()"
   ]
  },
  {
   "cell_type": "markdown",
   "metadata": {},
   "source": [
    "We see that until the 90s, games were released in large quantities, single games were released, and since the 90s their number has been growing and reached peak values in 2008-2009x. Then there was a decline to 502 games in 2016. In general, the data at the dawn of the development of the gaming industry before 1994 could be neglected"
   ]
  },
  {
   "cell_type": "code",
   "execution_count": 23,
   "metadata": {},
   "outputs": [],
   "source": [
    "# discarding outliers\n",
    "games=games[(games.sum_sales < 94)]\n",
    "# using the histogram, we select columns with a normal distribution\n",
    "games=games[(games.year_of_release > 2002) & (games.year_of_release < 2016)]"
   ]
  },
  {
   "cell_type": "code",
   "execution_count": 25,
   "metadata": {},
   "outputs": [
    {
     "data": {
      "image/png": "[encoded data removed]",
      "text/plain": [
       "<Figure size 1440x720 with 1 Axes>"
      ]
     },
     "metadata": {
      "needs_background": "light"
     },
     "output_type": "display_data"
    }
   ],
   "source": [
    "ax = games\\\n",
    "    .groupby('year_of_release') \\\n",
    "    .agg({'name':'count'})\\\n",
    "    .plot(grid =True,  figsize=(20,10))\\\n",
    "    .set(title = 'Dynamics of the number of games produced', xlabel = 'год', ylabel = 'Number of games produced')"
   ]
  },
  {
   "cell_type": "markdown",
   "metadata": {},
   "source": [
    "### Let's check how sales have changed across platforms"
   ]
  },
  {
   "cell_type": "code",
   "execution_count": 26,
   "metadata": {},
   "outputs": [
    {
     "data": {
      "text/html": [
       "<div>\n",
       "<style scoped>\n",
       "    .dataframe tbody tr th:only-of-type {\n",
       "        vertical-align: middle;\n",
       "    }\n",
       "\n",
       "    .dataframe tbody tr th {\n",
       "        vertical-align: top;\n",
       "    }\n",
       "\n",
       "    .dataframe thead th {\n",
       "        text-align: right;\n",
       "    }\n",
       "</style>\n",
       "<table border=\"1\" class=\"dataframe\">\n",
       "  <thead>\n",
       "    <tr style=\"text-align: right;\">\n",
       "      <th></th>\n",
       "      <th>sum_sales</th>\n",
       "    </tr>\n",
       "    <tr>\n",
       "      <th>platform</th>\n",
       "      <th></th>\n",
       "    </tr>\n",
       "  </thead>\n",
       "  <tbody>\n",
       "    <tr>\n",
       "      <th>X360</th>\n",
       "      <td>959.72</td>\n",
       "    </tr>\n",
       "    <tr>\n",
       "      <th>PS3</th>\n",
       "      <td>927.74</td>\n",
       "    </tr>\n",
       "    <tr>\n",
       "      <th>Wii</th>\n",
       "      <td>891.00</td>\n",
       "    </tr>\n",
       "    <tr>\n",
       "      <th>PS2</th>\n",
       "      <td>822.58</td>\n",
       "    </tr>\n",
       "    <tr>\n",
       "      <th>DS</th>\n",
       "      <td>802.76</td>\n",
       "    </tr>\n",
       "  </tbody>\n",
       "</table>\n",
       "</div>"
      ],
      "text/plain": [
       "          sum_sales\n",
       "platform           \n",
       "X360         959.72\n",
       "PS3          927.74\n",
       "Wii          891.00\n",
       "PS2          822.58\n",
       "DS           802.76"
      ]
     },
     "execution_count": 26,
     "metadata": {},
     "output_type": "execute_result"
    }
   ],
   "source": [
    "games.groupby(by='platform').agg({'sum_sales':'sum'}).sort_values(by='sum_sales', ascending=False).head()"
   ]
  },
  {
   "cell_type": "markdown",
   "metadata": {},
   "source": [
    "The most popular platform is PlayStation2, followed by X360, PS3, Wii, DS."
   ]
  },
  {
   "cell_type": "code",
   "execution_count": 27,
   "metadata": {},
   "outputs": [
    {
     "data": {
      "text/plain": [
       "Text(0.5, 1.0, 'PS2')"
      ]
     },
     "execution_count": 27,
     "metadata": {},
     "output_type": "execute_result"
    },
    {
     "data": {
      "image/png": "[encoded data removed]",
      "text/plain": [
       "<Figure size 1080x360 with 1 Axes>"
      ]
     },
     "metadata": {
      "needs_background": "light"
     },
     "output_type": "display_data"
    }
   ],
   "source": [
    "# we build histograms of total sales by year for the 5 most popular platforms.\n",
    "(games\n",
    "    .query('platform==\"PS2\"')\n",
    "    .pivot_table(index='year_of_release', values='sum_sales', aggfunc=sum)\n",
    "    .plot(grid=True, kind='bar',figsize=(15, 5))\n",
    ")\n",
    "plt.title('PS2') \n",
    "\n"
   ]
  },
  {
   "cell_type": "markdown",
   "metadata": {},
   "source": [
    "PS2 has been gaining popularity since 2000 and from 2004 to 2011 it was losing its popularity. The cycle is about 10 years."
   ]
  },
  {
   "cell_type": "code",
   "execution_count": 28,
   "metadata": {},
   "outputs": [
    {
     "data": {
      "text/plain": [
       "Text(0.5, 1.0, 'X360')"
      ]
     },
     "execution_count": 28,
     "metadata": {},
     "output_type": "execute_result"
    },
    {
     "data": {
      "image/png": "[encoded data removed]",
      "text/plain": [
       "<Figure size 1080x360 with 1 Axes>"
      ]
     },
     "metadata": {
      "needs_background": "light"
     },
     "output_type": "display_data"
    }
   ],
   "source": [
    "(games\n",
    "    .query('platform==\"X360\"')\n",
    "    .pivot_table(index='year_of_release', values='sum_sales', aggfunc=sum)\n",
    "    .plot(grid=True, kind='bar',figsize=(15, 5))\n",
    ")\n",
    "plt.title('X360')\n"
   ]
  },
  {
   "cell_type": "markdown",
   "metadata": {},
   "source": [
    "The X360 has been gaining popularity since 2005 and has been losing its popularity from 2010 to 2016. The cycle is about 10 years"
   ]
  },
  {
   "cell_type": "code",
   "execution_count": 29,
   "metadata": {},
   "outputs": [
    {
     "data": {
      "text/plain": [
       "Text(0.5, 1.0, 'PS3')"
      ]
     },
     "execution_count": 29,
     "metadata": {},
     "output_type": "execute_result"
    },
    {
     "data": {
      "image/png": "[encoded data removed]",
      "text/plain": [
       "<Figure size 1080x360 with 1 Axes>"
      ]
     },
     "metadata": {
      "needs_background": "light"
     },
     "output_type": "display_data"
    }
   ],
   "source": [
    "(games\n",
    "    .query('platform==\"PS3\"')\n",
    "    .pivot_table(index='year_of_release', values='sum_sales', aggfunc=sum)\n",
    "    .plot(grid=True, kind='bar',figsize=(15, 5))\n",
    ")\n",
    "plt.title('PS3')"
   ]
  },
  {
   "cell_type": "markdown",
   "metadata": {},
   "source": [
    "The PS3 has been gaining popularity since 2006 and has been losing its popularity from 2011 to 2016. Cycle of 10 years"
   ]
  },
  {
   "cell_type": "code",
   "execution_count": 32,
   "metadata": {},
   "outputs": [
    {
     "data": {
      "text/plain": [
       "Text(0.5, 1.0, 'DS')"
      ]
     },
     "execution_count": 32,
     "metadata": {},
     "output_type": "execute_result"
    },
    {
     "data": {
      "image/png": "[encoded data removed]",
      "text/plain": [
       "<Figure size 1080x360 with 1 Axes>"
      ]
     },
     "metadata": {
      "needs_background": "light"
     },
     "output_type": "display_data"
    }
   ],
   "source": [
    "(games\n",
    "    .query('platform==\"DS\"')\n",
    "    .pivot_table(index='year_of_release', values='sum_sales', aggfunc=sum)\n",
    "    .plot(grid=True, kind='bar',figsize=(15, 5))\n",
    ")\n",
    "plt.title('DS')\n"
   ]
  },
  {
   "cell_type": "markdown",
   "metadata": {},
   "source": [
    "DS has been gaining popularity since 1985 and from 2008 to 2013 was losing its popularity. The cycle is already 28 years."
   ]
  },
  {
   "cell_type": "code",
   "execution_count": 33,
   "metadata": {},
   "outputs": [
    {
     "data": {
      "text/plain": [
       "Text(0.5, 1.0, 'Wii')"
      ]
     },
     "execution_count": 33,
     "metadata": {},
     "output_type": "execute_result"
    },
    {
     "data": {
      "image/png": "[encoded data removed]",
      "text/plain": [
       "<Figure size 1080x360 with 1 Axes>"
      ]
     },
     "metadata": {
      "needs_background": "light"
     },
     "output_type": "display_data"
    }
   ],
   "source": [
    "(games\n",
    "    .query('platform==\"Wii\"')\n",
    "    .pivot_table(index='year_of_release', values='sum_sales', aggfunc=sum)\n",
    "    .plot(grid=True, kind='bar',figsize=(15, 5))\n",
    ")\n",
    "plt.title('Wii')"
   ]
  },
  {
   "cell_type": "markdown",
   "metadata": {},
   "source": [
    "Wii was immediately a popular platform from 2006 until 2009, then there was also a decline and from 2012 until about 2016 it was practically not sold. The total cycle is also about 10 years\n",
    "\n",
    "We conclude that, on average, it usually takes about 10 years from the appearance to the disappearance of the platform. The exception is DS, apparently the olds did not change one of the first gaming platforms for a long time :)"
   ]
  },
  {
   "cell_type": "markdown",
   "metadata": {},
   "source": [
    "### Let's check which platforms are leading in sales, growing or falling"
   ]
  },
  {
   "cell_type": "code",
   "execution_count": 35,
   "metadata": {},
   "outputs": [
    {
     "data": {
      "image/png": "[encoded data removed]",
      "text/plain": [
       "<Figure size 720x360 with 1 Axes>"
      ]
     },
     "metadata": {
      "needs_background": "light"
     },
     "output_type": "display_data"
    }
   ],
   "source": [
    "# we take the period from 2013, we will consider it relevant for building a further forecast period\n",
    "games.query('year_of_release > 2012').pivot_table(index='platform', values='sum_sales', aggfunc=sum).plot(grid=True, kind='bar',figsize=(10, 5))\n",
    "plt.title(\"Total Sales by Platform (2013 and onwards)\")\n",
    "plt.show()"
   ]
  },
  {
   "cell_type": "markdown",
   "metadata": {},
   "source": [
    "We have identified such a period, as the gaming industry is quite dynamic.PS3 and PS4 are definitely leading in the ranking."
   ]
  },
  {
   "cell_type": "code",
   "execution_count": 36,
   "metadata": {},
   "outputs": [],
   "source": [
    "new_platform = games.query('year_of_release > 2012')"
   ]
  },
  {
   "cell_type": "code",
   "execution_count": 37,
   "metadata": {},
   "outputs": [
    {
     "data": {
      "text/html": [
       "<div>\n",
       "<style scoped>\n",
       "    .dataframe tbody tr th:only-of-type {\n",
       "        vertical-align: middle;\n",
       "    }\n",
       "\n",
       "    .dataframe tbody tr th {\n",
       "        vertical-align: top;\n",
       "    }\n",
       "\n",
       "    .dataframe thead th {\n",
       "        text-align: right;\n",
       "    }\n",
       "</style>\n",
       "<table border=\"1\" class=\"dataframe\">\n",
       "  <thead>\n",
       "    <tr style=\"text-align: right;\">\n",
       "      <th></th>\n",
       "      <th>platform</th>\n",
       "      <th>sum_sales</th>\n",
       "    </tr>\n",
       "  </thead>\n",
       "  <tbody>\n",
       "    <tr>\n",
       "      <th>4</th>\n",
       "      <td>PS4</td>\n",
       "      <td>244.89</td>\n",
       "    </tr>\n",
       "    <tr>\n",
       "      <th>3</th>\n",
       "      <td>PS3</td>\n",
       "      <td>177.83</td>\n",
       "    </tr>\n",
       "    <tr>\n",
       "      <th>9</th>\n",
       "      <td>X360</td>\n",
       "      <td>135.28</td>\n",
       "    </tr>\n",
       "    <tr>\n",
       "      <th>10</th>\n",
       "      <td>XOne</td>\n",
       "      <td>133.17</td>\n",
       "    </tr>\n",
       "    <tr>\n",
       "      <th>0</th>\n",
       "      <td>3DS</td>\n",
       "      <td>128.11</td>\n",
       "    </tr>\n",
       "    <tr>\n",
       "      <th>8</th>\n",
       "      <td>WiiU</td>\n",
       "      <td>60.03</td>\n",
       "    </tr>\n",
       "    <tr>\n",
       "      <th>2</th>\n",
       "      <td>PC</td>\n",
       "      <td>34.18</td>\n",
       "    </tr>\n",
       "    <tr>\n",
       "      <th>6</th>\n",
       "      <td>PSV</td>\n",
       "      <td>28.74</td>\n",
       "    </tr>\n",
       "    <tr>\n",
       "      <th>7</th>\n",
       "      <td>Wii</td>\n",
       "      <td>13.48</td>\n",
       "    </tr>\n",
       "    <tr>\n",
       "      <th>5</th>\n",
       "      <td>PSP</td>\n",
       "      <td>3.50</td>\n",
       "    </tr>\n",
       "    <tr>\n",
       "      <th>1</th>\n",
       "      <td>DS</td>\n",
       "      <td>1.54</td>\n",
       "    </tr>\n",
       "  </tbody>\n",
       "</table>\n",
       "</div>"
      ],
      "text/plain": [
       "   platform  sum_sales\n",
       "4       PS4     244.89\n",
       "3       PS3     177.83\n",
       "9      X360     135.28\n",
       "10     XOne     133.17\n",
       "0       3DS     128.11\n",
       "8      WiiU      60.03\n",
       "2        PC      34.18\n",
       "6       PSV      28.74\n",
       "7       Wii      13.48\n",
       "5       PSP       3.50\n",
       "1        DS       1.54"
      ]
     },
     "execution_count": 37,
     "metadata": {},
     "output_type": "execute_result"
    }
   ],
   "source": [
    "new_platform_search = (new_platform.groupby(['platform'],as_index = False)['sum_sales'].sum()\n",
    "                                 .sort_values('sum_sales',ascending = False)\n",
    "                           )\n",
    "new_platform_search"
   ]
  },
  {
   "cell_type": "code",
   "execution_count": 38,
   "metadata": {},
   "outputs": [
    {
     "data": {
      "text/plain": [
       "['PS4', 'PS3', 'X360', 'XOne', '3DS', 'WiiU', 'PC', 'PSV']"
      ]
     },
     "execution_count": 38,
     "metadata": {},
     "output_type": "execute_result"
    }
   ],
   "source": [
    "name_plat = new_platform_search['platform'].head(8).tolist()\n",
    "name_plat"
   ]
  },
  {
   "cell_type": "code",
   "execution_count": 44,
   "metadata": {},
   "outputs": [
    {
     "data": {
      "image/png": "[encoded data removed]",
      "text/plain": [
       "<Figure size 1080x360 with 1 Axes>"
      ]
     },
     "metadata": {
      "needs_background": "light"
     },
     "output_type": "display_data"
    }
   ],
   "source": [
    "for name in name_plat:\n",
    "    new_platform.query('platform == @name').pivot_table(index = 'year_of_release',\n",
    "                        values = 'sum_sales', aggfunc = 'sum').sort_values('year_of_release',\n",
    "                                                    ascending = False)['sum_sales'].plot(figsize=(15, 5), label = name)\n",
    "    \n",
    "    plt.xticks(np.arange(2013, 2015, step=1))\n",
    "    plt.xlabel('Release Year', labelpad = 10)\n",
    "    plt.ylabel('Sales', labelpad = 10)\n",
    "    plt.legend()\n",
    "    plt.title(\"Sales by Platforms and Release Years\")\n"
   ]
  },
  {
   "cell_type": "markdown",
   "metadata": {},
   "source": [
    "With such visualization, it is clearly visible which platforms are on a bigger decline and which are on a smaller one. For example, PS3 has given way to PS4 over the past 3 years, the XOne platform is also gaining momentum, most likely, it will only grow in volume."
   ]
  },
  {
   "cell_type": "markdown",
   "metadata": {},
   "source": [
    "### Visualization of the \"box with a mustache\" chart on global game sales by platform."
   ]
  },
  {
   "cell_type": "code",
   "execution_count": 51,
   "metadata": {},
   "outputs": [
    {
     "data": {
      "image/png": "[encoded data removed]",
      "text/plain": [
       "<Figure size 1440x1800 with 1 Axes>"
      ]
     },
     "metadata": {
      "needs_background": "light"
     },
     "output_type": "display_data"
    }
   ],
   "source": [
    "plt.figure(figsize=(20, 25))\n",
    "sns.boxplot(data=new_platform.query('platform.isin(@name_plat) and sum_sales < 1.5'), x=\"platform\", y=\"sum_sales\", palette='rainbow')\n",
    "\n",
    "plt.xlabel('Platform', labelpad=10)\n",
    "plt.ylabel('Sales', labelpad=10)\n",
    "plt.title('Distribution of Sales by Platform', pad=20)\n",
    "plt.show()"
   ]
  },
  {
   "cell_type": "markdown",
   "metadata": {},
   "source": [
    "Based on the \"Box with a Mustache\" chart, we see that the X360 and XOne platforms are in the lead."
   ]
  },
  {
   "cell_type": "markdown",
   "metadata": {},
   "source": [
    "### Impact on PS4 sales of user reviews and critics"
   ]
  },
  {
   "cell_type": "code",
   "execution_count": 52,
   "metadata": {},
   "outputs": [],
   "source": [
    "ps4 = games.query(\"platform == 'PS4'\")"
   ]
  },
  {
   "cell_type": "code",
   "execution_count": 53,
   "metadata": {},
   "outputs": [
    {
     "data": {
      "text/html": [
       "<style type=\"text/css\">\n",
       "#T_007b0_row0_col0, #T_007b0_row1_col1, #T_007b0_row2_col2, #T_007b0_row3_col3, #T_007b0_row4_col4 {\n",
       "  background-color: #b40426;\n",
       "  color: #f1f1f1;\n",
       "}\n",
       "#T_007b0_row0_col1 {\n",
       "  background-color: #f3c8b2;\n",
       "  color: #000000;\n",
       "}\n",
       "#T_007b0_row0_col2 {\n",
       "  background-color: #c6d6f1;\n",
       "  color: #000000;\n",
       "}\n",
       "#T_007b0_row0_col3 {\n",
       "  background-color: #b7cff9;\n",
       "  color: #000000;\n",
       "}\n",
       "#T_007b0_row0_col4 {\n",
       "  background-color: #5b7ae5;\n",
       "  color: #f1f1f1;\n",
       "}\n",
       "#T_007b0_row1_col0 {\n",
       "  background-color: #ccd9ed;\n",
       "  color: #000000;\n",
       "}\n",
       "#T_007b0_row1_col2, #T_007b0_row1_col3, #T_007b0_row1_col4, #T_007b0_row3_col1, #T_007b0_row4_col0 {\n",
       "  background-color: #3b4cc0;\n",
       "  color: #f1f1f1;\n",
       "}\n",
       "#T_007b0_row2_col0 {\n",
       "  background-color: #799cf8;\n",
       "  color: #f1f1f1;\n",
       "}\n",
       "#T_007b0_row2_col1 {\n",
       "  background-color: #455cce;\n",
       "  color: #f1f1f1;\n",
       "}\n",
       "#T_007b0_row2_col3 {\n",
       "  background-color: #ec7f63;\n",
       "  color: #f1f1f1;\n",
       "}\n",
       "#T_007b0_row2_col4 {\n",
       "  background-color: #bed2f6;\n",
       "  color: #000000;\n",
       "}\n",
       "#T_007b0_row3_col0 {\n",
       "  background-color: #5572df;\n",
       "  color: #f1f1f1;\n",
       "}\n",
       "#T_007b0_row3_col2 {\n",
       "  background-color: #ed8366;\n",
       "  color: #f1f1f1;\n",
       "}\n",
       "#T_007b0_row3_col4 {\n",
       "  background-color: #c1d4f4;\n",
       "  color: #000000;\n",
       "}\n",
       "#T_007b0_row4_col1 {\n",
       "  background-color: #85a8fc;\n",
       "  color: #f1f1f1;\n",
       "}\n",
       "#T_007b0_row4_col2 {\n",
       "  background-color: #e0dbd8;\n",
       "  color: #000000;\n",
       "}\n",
       "#T_007b0_row4_col3 {\n",
       "  background-color: #e7d7ce;\n",
       "  color: #000000;\n",
       "}\n",
       "</style>\n",
       "<table id=\"T_007b0\">\n",
       "  <thead>\n",
       "    <tr>\n",
       "      <th class=\"blank level0\" >&nbsp;</th>\n",
       "      <th id=\"T_007b0_level0_col0\" class=\"col_heading level0 col0\" >critic_score</th>\n",
       "      <th id=\"T_007b0_level0_col1\" class=\"col_heading level0 col1\" >user_score</th>\n",
       "      <th id=\"T_007b0_level0_col2\" class=\"col_heading level0 col2\" >na_sales</th>\n",
       "      <th id=\"T_007b0_level0_col3\" class=\"col_heading level0 col3\" >eu_sales</th>\n",
       "      <th id=\"T_007b0_level0_col4\" class=\"col_heading level0 col4\" >jp_sales</th>\n",
       "    </tr>\n",
       "  </thead>\n",
       "  <tbody>\n",
       "    <tr>\n",
       "      <th id=\"T_007b0_level0_row0\" class=\"row_heading level0 row0\" >critic_score</th>\n",
       "      <td id=\"T_007b0_row0_col0\" class=\"data row0 col0\" >1.000000</td>\n",
       "      <td id=\"T_007b0_row0_col1\" class=\"data row0 col1\" >0.612451</td>\n",
       "      <td id=\"T_007b0_row0_col2\" class=\"data row0 col2\" >0.442219</td>\n",
       "      <td id=\"T_007b0_row0_col3\" class=\"data row0 col3\" >0.370752</td>\n",
       "      <td id=\"T_007b0_row0_col4\" class=\"data row0 col4\" >0.309165</td>\n",
       "    </tr>\n",
       "    <tr>\n",
       "      <th id=\"T_007b0_level0_row1\" class=\"row_heading level0 row1\" >user_score</th>\n",
       "      <td id=\"T_007b0_row1_col0\" class=\"data row1 col0\" >0.612451</td>\n",
       "      <td id=\"T_007b0_row1_col1\" class=\"data row1 col1\" >1.000000</td>\n",
       "      <td id=\"T_007b0_row1_col2\" class=\"data row1 col2\" >0.035654</td>\n",
       "      <td id=\"T_007b0_row1_col3\" class=\"data row1 col3\" >-0.001902</td>\n",
       "      <td id=\"T_007b0_row1_col4\" class=\"data row1 col4\" >0.225118</td>\n",
       "    </tr>\n",
       "    <tr>\n",
       "      <th id=\"T_007b0_level0_row2\" class=\"row_heading level0 row2\" >na_sales</th>\n",
       "      <td id=\"T_007b0_row2_col0\" class=\"data row2 col0\" >0.442219</td>\n",
       "      <td id=\"T_007b0_row2_col1\" class=\"data row2 col1\" >0.035654</td>\n",
       "      <td id=\"T_007b0_row2_col2\" class=\"data row2 col2\" >1.000000</td>\n",
       "      <td id=\"T_007b0_row2_col3\" class=\"data row2 col3\" >0.810579</td>\n",
       "      <td id=\"T_007b0_row2_col4\" class=\"data row2 col4\" >0.530825</td>\n",
       "    </tr>\n",
       "    <tr>\n",
       "      <th id=\"T_007b0_level0_row3\" class=\"row_heading level0 row3\" >eu_sales</th>\n",
       "      <td id=\"T_007b0_row3_col0\" class=\"data row3 col0\" >0.370752</td>\n",
       "      <td id=\"T_007b0_row3_col1\" class=\"data row3 col1\" >-0.001902</td>\n",
       "      <td id=\"T_007b0_row3_col2\" class=\"data row3 col2\" >0.810579</td>\n",
       "      <td id=\"T_007b0_row3_col3\" class=\"data row3 col3\" >1.000000</td>\n",
       "      <td id=\"T_007b0_row3_col4\" class=\"data row3 col4\" >0.539344</td>\n",
       "    </tr>\n",
       "    <tr>\n",
       "      <th id=\"T_007b0_level0_row4\" class=\"row_heading level0 row4\" >jp_sales</th>\n",
       "      <td id=\"T_007b0_row4_col0\" class=\"data row4 col0\" >0.309165</td>\n",
       "      <td id=\"T_007b0_row4_col1\" class=\"data row4 col1\" >0.225118</td>\n",
       "      <td id=\"T_007b0_row4_col2\" class=\"data row4 col2\" >0.530825</td>\n",
       "      <td id=\"T_007b0_row4_col3\" class=\"data row4 col3\" >0.539344</td>\n",
       "      <td id=\"T_007b0_row4_col4\" class=\"data row4 col4\" >1.000000</td>\n",
       "    </tr>\n",
       "  </tbody>\n",
       "</table>\n"
      ],
      "text/plain": [
       "<pandas.io.formats.style.Styler at 0x1b4c71e0460>"
      ]
     },
     "execution_count": 53,
     "metadata": {},
     "output_type": "execute_result"
    }
   ],
   "source": [
    "# consider the correlation between valuation and sales\n",
    "corr = ps4[['critic_score', 'user_score', 'na_sales', 'eu_sales', 'jp_sales']].corr()\n",
    "corr.style.background_gradient(cmap='coolwarm')"
   ]
  },
  {
   "cell_type": "markdown",
   "metadata": {},
   "source": [
    "We see a small pattern between critics' and users' ratings. However, it is logical to assume that the connection is with the quality of the game, and not that if critics give a big rating, then this affects the user's rating."
   ]
  },
  {
   "cell_type": "code",
   "execution_count": 60,
   "metadata": {},
   "outputs": [
    {
     "data": {
      "image/png": "[encoded data removed]",
      "text/plain": [
       "<Figure size 1440x360 with 1 Axes>"
      ]
     },
     "metadata": {
      "needs_background": "light"
     },
     "output_type": "display_data"
    },
    {
     "data": {
      "image/png": "[encoded data removed]",
      "text/plain": [
       "<Figure size 1440x360 with 1 Axes>"
      ]
     },
     "metadata": {
      "needs_background": "light"
     },
     "output_type": "display_data"
    }
   ],
   "source": [
    "#visualize graphically\n",
    "plt.figure(figsize=(20, 5))\n",
    "sns.stripplot(x='user_score', y='sum_sales', data=ps4, jitter=True)\n",
    "plt.xlabel('User Score', labelpad=10)\n",
    "plt.ylabel('Sales', labelpad=10)\n",
    "plt.title('User Score vs. Sales for PS4', pad=1)\n",
    "\n",
    "plt.figure(figsize=(20, 5))\n",
    "sns.stripplot(x='critic_score', y='sum_sales', data=ps4, jitter=True)\n",
    "plt.xlabel('Critic Score', labelpad=10)\n",
    "plt.ylabel('Sales', labelpad=10)\n",
    "plt.title('Critic Score vs. Sales for PS4', pad=1)\n",
    "\n",
    "plt.show()"
   ]
  },
  {
   "cell_type": "markdown",
   "metadata": {},
   "source": [
    "The relationship between user rating and sales is not observed, there is a connection between critics' ratings and sales, but it is insignificant. Although, games are bought less often below the average market."
   ]
  },
  {
   "cell_type": "markdown",
   "metadata": {},
   "source": [
    "### Correlating findings with game sales on other platforms"
   ]
  },
  {
   "cell_type": "code",
   "execution_count": 61,
   "metadata": {},
   "outputs": [
    {
     "data": {
      "image/png": "[encoded data removed]",
      "text/plain": [
       "<Figure size 1440x360 with 1 Axes>"
      ]
     },
     "metadata": {
      "needs_background": "light"
     },
     "output_type": "display_data"
    },
    {
     "data": {
      "image/png": "[encoded data removed]",
      "text/plain": [
       "<Figure size 1440x360 with 1 Axes>"
      ]
     },
     "metadata": {
      "needs_background": "light"
     },
     "output_type": "display_data"
    }
   ],
   "source": [
    "plt.figure(figsize=(20, 5))\n",
    "sns.stripplot(x='user_score', y='sum_sales', data=new_platform, jitter=True)\n",
    "plt.xlabel('User Score', labelpad=10)\n",
    "plt.ylabel('Sales', labelpad=10)\n",
    "plt.title('User Score vs. Sales for All Platforms', pad=1)\n",
    "\n",
    "plt.figure(figsize=(20, 5))\n",
    "sns.stripplot(x='critic_score', y='sum_sales', data=new_platform, jitter=True)\n",
    "plt.xlabel('Critic Score', labelpad=10)\n",
    "plt.ylabel('Sales', labelpad=10)\n",
    "plt.title('Critic Score vs. Sales for All Platforms', pad=1)\n",
    "\n",
    "plt.show()"
   ]
  },
  {
   "cell_type": "markdown",
   "metadata": {},
   "source": [
    "The higher the score, the more sales, and it doesn't matter whether the user or the critic rated the game. And also the most expensive sales come from the highest ratings of critics. Although, perhaps this is one of the marketing techniques. Games with high critical acclaim may be subject to aggressive marketing.\n",
    "\n",
    "When compared with the dependence of sales on the rating, the user rating affects sales slightly higher on other gaming platforms than on PS4.\n",
    "\n",
    "Players prefer to buy games with a rating above 70, which repeats the situation with PS4"
   ]
  },
  {
   "cell_type": "markdown",
   "metadata": {},
   "source": [
    "### Сonsider the general distribution of games by genre"
   ]
  },
  {
   "cell_type": "code",
   "execution_count": 62,
   "metadata": {},
   "outputs": [
    {
     "name": "stdout",
     "output_type": "stream",
     "text": [
      "              sum_sales\n",
      "genre                  \n",
      "Action          1316.04\n",
      "Sports           949.42\n",
      "Shooter          794.37\n",
      "Misc             668.18\n",
      "Role-Playing     616.84\n",
      "            sum_sales\n",
      "genre                \n",
      "Simulation     299.79\n",
      "Fighting       244.15\n",
      "Adventure      156.73\n",
      "Puzzle         121.09\n",
      "Strategy        92.36\n"
     ]
    }
   ],
   "source": [
    "print(games.groupby(by='genre').agg({'sum_sales':'sum'}).sort_values(by='sum_sales', ascending=False).head())\n",
    "print(games.groupby(by='genre').agg({'sum_sales':'sum'}).sort_values(by='sum_sales', ascending=False).tail())"
   ]
  },
  {
   "cell_type": "code",
   "execution_count": 64,
   "metadata": {},
   "outputs": [
    {
     "data": {
      "image/png": "[encoded data removed]",
      "text/plain": [
       "<Figure size 720x360 with 1 Axes>"
      ]
     },
     "metadata": {
      "needs_background": "light"
     },
     "output_type": "display_data"
    }
   ],
   "source": [
    "plt.figure(figsize=(10, 5))\n",
    "games.groupby('genre')['sum_sales'].sum().plot(grid=True, kind='barh')\n",
    "plt.xlabel('Total Sales', labelpad=10)\n",
    "plt.ylabel('Genre', labelpad=10)\n",
    "plt.title('Total Sales by Genre', pad=20)\n",
    "\n",
    "plt.show()\n"
   ]
  },
  {
   "cell_type": "markdown",
   "metadata": {},
   "source": [
    "The most popular genres of games are action, sports, shooters, arcade games and role-playing games.\n",
    "\n",
    "Smaller sales for simple games. Perhaps this is due to the fact that the games are completely different, sales from GTA will be thousands of times higher than that of puzzles, since as a copy of the game has a fundamentally different cost."
   ]
  },
  {
   "cell_type": "code",
   "execution_count": 65,
   "metadata": {},
   "outputs": [
    {
     "data": {
      "text/html": [
       "<div>\n",
       "<style scoped>\n",
       "    .dataframe tbody tr th:only-of-type {\n",
       "        vertical-align: middle;\n",
       "    }\n",
       "\n",
       "    .dataframe tbody tr th {\n",
       "        vertical-align: top;\n",
       "    }\n",
       "\n",
       "    .dataframe thead th {\n",
       "        text-align: right;\n",
       "    }\n",
       "</style>\n",
       "<table border=\"1\" class=\"dataframe\">\n",
       "  <thead>\n",
       "    <tr style=\"text-align: right;\">\n",
       "      <th></th>\n",
       "      <th>name</th>\n",
       "      <th>platform</th>\n",
       "      <th>year_of_release</th>\n",
       "      <th>genre</th>\n",
       "      <th>na_sales</th>\n",
       "      <th>eu_sales</th>\n",
       "      <th>jp_sales</th>\n",
       "      <th>other_sales</th>\n",
       "      <th>critic_score</th>\n",
       "      <th>user_score</th>\n",
       "      <th>rating</th>\n",
       "      <th>sum_sales</th>\n",
       "    </tr>\n",
       "  </thead>\n",
       "  <tbody>\n",
       "    <tr>\n",
       "      <th>16</th>\n",
       "      <td>Grand Theft Auto V</td>\n",
       "      <td>PS3</td>\n",
       "      <td>2013</td>\n",
       "      <td>Action</td>\n",
       "      <td>7.02</td>\n",
       "      <td>9.09</td>\n",
       "      <td>0.98</td>\n",
       "      <td>3.96</td>\n",
       "      <td>97.0</td>\n",
       "      <td>8.2</td>\n",
       "      <td>M</td>\n",
       "      <td>21.05</td>\n",
       "    </tr>\n",
       "    <tr>\n",
       "      <th>23</th>\n",
       "      <td>Grand Theft Auto V</td>\n",
       "      <td>X360</td>\n",
       "      <td>2013</td>\n",
       "      <td>Action</td>\n",
       "      <td>9.66</td>\n",
       "      <td>5.14</td>\n",
       "      <td>0.06</td>\n",
       "      <td>1.41</td>\n",
       "      <td>97.0</td>\n",
       "      <td>8.1</td>\n",
       "      <td>M</td>\n",
       "      <td>16.27</td>\n",
       "    </tr>\n",
       "    <tr>\n",
       "      <th>42</th>\n",
       "      <td>Grand Theft Auto V</td>\n",
       "      <td>PS4</td>\n",
       "      <td>2014</td>\n",
       "      <td>Action</td>\n",
       "      <td>3.96</td>\n",
       "      <td>6.31</td>\n",
       "      <td>0.38</td>\n",
       "      <td>1.97</td>\n",
       "      <td>97.0</td>\n",
       "      <td>8.3</td>\n",
       "      <td>M</td>\n",
       "      <td>12.62</td>\n",
       "    </tr>\n",
       "    <tr>\n",
       "      <th>165</th>\n",
       "      <td>Grand Theft Auto V</td>\n",
       "      <td>XOne</td>\n",
       "      <td>2014</td>\n",
       "      <td>Action</td>\n",
       "      <td>2.81</td>\n",
       "      <td>2.19</td>\n",
       "      <td>0.00</td>\n",
       "      <td>0.47</td>\n",
       "      <td>97.0</td>\n",
       "      <td>7.9</td>\n",
       "      <td>M</td>\n",
       "      <td>5.47</td>\n",
       "    </tr>\n",
       "    <tr>\n",
       "      <th>1730</th>\n",
       "      <td>Grand Theft Auto V</td>\n",
       "      <td>PC</td>\n",
       "      <td>2015</td>\n",
       "      <td>Action</td>\n",
       "      <td>0.39</td>\n",
       "      <td>0.69</td>\n",
       "      <td>0.00</td>\n",
       "      <td>0.09</td>\n",
       "      <td>96.0</td>\n",
       "      <td>7.9</td>\n",
       "      <td>M</td>\n",
       "      <td>1.17</td>\n",
       "    </tr>\n",
       "  </tbody>\n",
       "</table>\n",
       "</div>"
      ],
      "text/plain": [
       "                    name platform  year_of_release   genre  na_sales  \\\n",
       "16    Grand Theft Auto V      PS3             2013  Action      7.02   \n",
       "23    Grand Theft Auto V     X360             2013  Action      9.66   \n",
       "42    Grand Theft Auto V      PS4             2014  Action      3.96   \n",
       "165   Grand Theft Auto V     XOne             2014  Action      2.81   \n",
       "1730  Grand Theft Auto V       PC             2015  Action      0.39   \n",
       "\n",
       "      eu_sales  jp_sales  other_sales  critic_score  user_score rating  \\\n",
       "16        9.09      0.98         3.96          97.0         8.2      M   \n",
       "23        5.14      0.06         1.41          97.0         8.1      M   \n",
       "42        6.31      0.38         1.97          97.0         8.3      M   \n",
       "165       2.19      0.00         0.47          97.0         7.9      M   \n",
       "1730      0.69      0.00         0.09          96.0         7.9      M   \n",
       "\n",
       "      sum_sales  \n",
       "16        21.05  \n",
       "23        16.27  \n",
       "42        12.62  \n",
       "165        5.47  \n",
       "1730       1.17  "
      ]
     },
     "execution_count": 65,
     "metadata": {},
     "output_type": "execute_result"
    }
   ],
   "source": [
    "games.query('name == \"Grand Theft Auto V\"')"
   ]
  },
  {
   "cell_type": "markdown",
   "metadata": {},
   "source": [
    "Using the example of GTA, we see that the total sales of the game are almost 100 million"
   ]
  },
  {
   "cell_type": "code",
   "execution_count": 66,
   "metadata": {},
   "outputs": [],
   "source": [
    "genre_sales = games.pivot_table(index='genre', values='sum_sales', columns = 'year_of_release', aggfunc = 'sum', fill_value=0, margins=True).reset_index()\n",
    "genre_sales = genre_sales[:-1]\n",
    "genre_sales = genre_sales.rename_axis('index',  axis=\"columns\").set_index('genre').sort_values(by='All', ascending=False)"
   ]
  },
  {
   "cell_type": "code",
   "execution_count": 67,
   "metadata": {},
   "outputs": [
    {
     "data": {
      "image/png": "[encoded data removed]",
      "text/plain": [
       "<Figure size 1080x360 with 1 Axes>"
      ]
     },
     "metadata": {
      "needs_background": "light"
     },
     "output_type": "display_data"
    }
   ],
   "source": [
    " plt.figure(figsize=(15, 5))\n",
    "for i in ['Action', 'Sports', 'Shooter', 'Role-Playing', 'Misc', 'Platform']:\n",
    "    plt.plot(genre_sales.loc[i, list(genre_sales.columns[1:-1])].T, label=i)\n",
    "plt.xlabel('Years')\n",
    "plt.ylabel('Sales, mln')\n",
    "plt.grid()\n",
    "plt.legend(loc='upper left')\n",
    "plt.show()"
   ]
  },
  {
   "cell_type": "markdown",
   "metadata": {},
   "source": [
    "If we consider the games in the period, we see a rather uneven distribution over the years, and also that the Action is declining in the rating, and Shooters on the contrary are growing, so, in the last year, these two genders have almost equaled. Peak values are also visible on the chart, you should look at the median values and standard deviations in sales by genre."
   ]
  },
  {
   "cell_type": "code",
   "execution_count": 68,
   "metadata": {},
   "outputs": [
    {
     "data": {
      "text/html": [
       "<div>\n",
       "<style scoped>\n",
       "    .dataframe tbody tr th:only-of-type {\n",
       "        vertical-align: middle;\n",
       "    }\n",
       "\n",
       "    .dataframe tbody tr th {\n",
       "        vertical-align: top;\n",
       "    }\n",
       "\n",
       "    .dataframe thead tr th {\n",
       "        text-align: left;\n",
       "    }\n",
       "</style>\n",
       "<table border=\"1\" class=\"dataframe\">\n",
       "  <thead>\n",
       "    <tr>\n",
       "      <th></th>\n",
       "      <th>genre</th>\n",
       "      <th>sum</th>\n",
       "      <th>mean</th>\n",
       "      <th>median</th>\n",
       "      <th>std</th>\n",
       "      <th>count</th>\n",
       "    </tr>\n",
       "    <tr>\n",
       "      <th></th>\n",
       "      <th></th>\n",
       "      <th>sum_sales</th>\n",
       "      <th>sum_sales</th>\n",
       "      <th>sum_sales</th>\n",
       "      <th>sum_sales</th>\n",
       "      <th>sum_sales</th>\n",
       "    </tr>\n",
       "  </thead>\n",
       "  <tbody>\n",
       "    <tr>\n",
       "      <th>8</th>\n",
       "      <td>Shooter</td>\n",
       "      <td>794.37</td>\n",
       "      <td>0.838828</td>\n",
       "      <td>0.24</td>\n",
       "      <td>1.834813</td>\n",
       "      <td>947</td>\n",
       "    </tr>\n",
       "    <tr>\n",
       "      <th>10</th>\n",
       "      <td>Sports</td>\n",
       "      <td>949.42</td>\n",
       "      <td>0.606271</td>\n",
       "      <td>0.22</td>\n",
       "      <td>2.500946</td>\n",
       "      <td>1566</td>\n",
       "    </tr>\n",
       "    <tr>\n",
       "      <th>4</th>\n",
       "      <td>Platform</td>\n",
       "      <td>389.86</td>\n",
       "      <td>0.694938</td>\n",
       "      <td>0.22</td>\n",
       "      <td>2.080165</td>\n",
       "      <td>561</td>\n",
       "    </tr>\n",
       "    <tr>\n",
       "      <th>2</th>\n",
       "      <td>Fighting</td>\n",
       "      <td>244.15</td>\n",
       "      <td>0.466826</td>\n",
       "      <td>0.19</td>\n",
       "      <td>0.882079</td>\n",
       "      <td>523</td>\n",
       "    </tr>\n",
       "    <tr>\n",
       "      <th>0</th>\n",
       "      <td>Action</td>\n",
       "      <td>1316.04</td>\n",
       "      <td>0.493824</td>\n",
       "      <td>0.18</td>\n",
       "      <td>1.114014</td>\n",
       "      <td>2665</td>\n",
       "    </tr>\n",
       "    <tr>\n",
       "      <th>6</th>\n",
       "      <td>Racing</td>\n",
       "      <td>452.29</td>\n",
       "      <td>0.569635</td>\n",
       "      <td>0.17</td>\n",
       "      <td>1.821422</td>\n",
       "      <td>794</td>\n",
       "    </tr>\n",
       "    <tr>\n",
       "      <th>7</th>\n",
       "      <td>Role-Playing</td>\n",
       "      <td>616.84</td>\n",
       "      <td>0.550259</td>\n",
       "      <td>0.16</td>\n",
       "      <td>1.338445</td>\n",
       "      <td>1121</td>\n",
       "    </tr>\n",
       "    <tr>\n",
       "      <th>3</th>\n",
       "      <td>Misc</td>\n",
       "      <td>668.18</td>\n",
       "      <td>0.453311</td>\n",
       "      <td>0.15</td>\n",
       "      <td>1.381409</td>\n",
       "      <td>1474</td>\n",
       "    </tr>\n",
       "    <tr>\n",
       "      <th>9</th>\n",
       "      <td>Simulation</td>\n",
       "      <td>299.79</td>\n",
       "      <td>0.435741</td>\n",
       "      <td>0.15</td>\n",
       "      <td>1.276582</td>\n",
       "      <td>688</td>\n",
       "    </tr>\n",
       "    <tr>\n",
       "      <th>5</th>\n",
       "      <td>Puzzle</td>\n",
       "      <td>121.09</td>\n",
       "      <td>0.280951</td>\n",
       "      <td>0.09</td>\n",
       "      <td>0.892634</td>\n",
       "      <td>431</td>\n",
       "    </tr>\n",
       "    <tr>\n",
       "      <th>11</th>\n",
       "      <td>Strategy</td>\n",
       "      <td>92.36</td>\n",
       "      <td>0.193222</td>\n",
       "      <td>0.08</td>\n",
       "      <td>0.351969</td>\n",
       "      <td>478</td>\n",
       "    </tr>\n",
       "    <tr>\n",
       "      <th>1</th>\n",
       "      <td>Adventure</td>\n",
       "      <td>156.73</td>\n",
       "      <td>0.147998</td>\n",
       "      <td>0.05</td>\n",
       "      <td>0.356177</td>\n",
       "      <td>1059</td>\n",
       "    </tr>\n",
       "  </tbody>\n",
       "</table>\n",
       "</div>"
      ],
      "text/plain": [
       "           genre       sum      mean    median       std     count\n",
       "                 sum_sales sum_sales sum_sales sum_sales sum_sales\n",
       "8        Shooter    794.37  0.838828      0.24  1.834813       947\n",
       "10        Sports    949.42  0.606271      0.22  2.500946      1566\n",
       "4       Platform    389.86  0.694938      0.22  2.080165       561\n",
       "2       Fighting    244.15  0.466826      0.19  0.882079       523\n",
       "0         Action   1316.04  0.493824      0.18  1.114014      2665\n",
       "6         Racing    452.29  0.569635      0.17  1.821422       794\n",
       "7   Role-Playing    616.84  0.550259      0.16  1.338445      1121\n",
       "3           Misc    668.18  0.453311      0.15  1.381409      1474\n",
       "9     Simulation    299.79  0.435741      0.15  1.276582       688\n",
       "5         Puzzle    121.09  0.280951      0.09  0.892634       431\n",
       "11      Strategy     92.36  0.193222      0.08  0.351969       478\n",
       "1      Adventure    156.73  0.147998      0.05  0.356177      1059"
      ]
     },
     "metadata": {},
     "output_type": "display_data"
    }
   ],
   "source": [
    " display(games\n",
    "        .pivot_table(index='genre', values='sum_sales', aggfunc=['sum', 'mean', 'median', 'std', 'count'])\n",
    "        .reset_index().sort_values(('median', 'sum_sales'), ascending=False))"
   ]
  },
  {
   "cell_type": "code",
   "execution_count": 69,
   "metadata": {},
   "outputs": [
    {
     "data": {
      "image/png": "[encoded data removed]",
      "text/plain": [
       "<Figure size 720x576 with 1 Axes>"
      ]
     },
     "metadata": {
      "needs_background": "light"
     },
     "output_type": "display_data"
    }
   ],
   "source": [
    "# visualizing using a box with a mustache\n",
    "(games[['sum_sales', 'genre']].boxplot(column='sum_sales', by='genre', figsize=(10,8))\n",
    ")\n",
    "plt.xlabel('Genre')\n",
    "plt.ylabel('Number of copies sold, million')\n",
    "plt.title('Charts of the scope of sales in different genres')\n",
    "plt.ylim(0, 4)\n",
    "plt.show()"
   ]
  },
  {
   "cell_type": "markdown",
   "metadata": {},
   "source": [
    "Indeed, if we look at the average cost of the game, then shooters, sports games and platformers are in the lead (which were invisible in general sales). Action takes only the fifth place.\n",
    "\n",
    "At the same time, the average and median values are very different from each other, which suggests that all genres have their own stars and failed projects."
   ]
  },
  {
   "cell_type": "markdown",
   "metadata": {},
   "source": [
    "##  Portrait of the user of each region"
   ]
  },
  {
   "cell_type": "code",
   "execution_count": 70,
   "metadata": {},
   "outputs": [
    {
     "data": {
      "text/plain": [
       "<AxesSubplot:title={'center':'JP'}, ylabel='platform'>"
      ]
     },
     "execution_count": 70,
     "metadata": {},
     "output_type": "execute_result"
    },
    {
     "data": {
      "image/png": "[encoded data removed]",
      "text/plain": [
       "<Figure size 432x288 with 1 Axes>"
      ]
     },
     "metadata": {
      "needs_background": "light"
     },
     "output_type": "display_data"
    },
    {
     "data": {
      "image/png": "[encoded data removed]",
      "text/plain": [
       "<Figure size 432x288 with 1 Axes>"
      ]
     },
     "metadata": {
      "needs_background": "light"
     },
     "output_type": "display_data"
    },
    {
     "data": {
      "image/png": "[encoded data removed]",
      "text/plain": [
       "<Figure size 432x288 with 1 Axes>"
      ]
     },
     "metadata": {
      "needs_background": "light"
     },
     "output_type": "display_data"
    }
   ],
   "source": [
    "# let's make histograms by region\n",
    "games.groupby(by='platform').agg({'eu_sales':'sum'}).sort_values(by='eu_sales', ascending=False).head(5).plot(kind='barh', title='EU')\n",
    "games.groupby(by='platform').agg({'na_sales':'sum'}).sort_values(by='na_sales', ascending=False).head(5).plot(kind='barh', title='NA')\n",
    "games.groupby(by='platform').agg({'jp_sales':'sum'}).sort_values(by='jp_sales', ascending=False).head(5).plot(kind='barh', title='JP')"
   ]
  },
  {
   "cell_type": "markdown",
   "metadata": {},
   "source": [
    "We see how the region influences the choice of platform, Europe prefers PS3, while North America prefers X360, Japan remains loyal to DS. At the same time, PS 2 and 3 series are popular in any region."
   ]
  },
  {
   "cell_type": "code",
   "execution_count": 71,
   "metadata": {},
   "outputs": [
    {
     "data": {
      "text/plain": [
       "<AxesSubplot:title={'center':'JP'}, ylabel='genre'>"
      ]
     },
     "execution_count": 71,
     "metadata": {},
     "output_type": "execute_result"
    },
    {
     "data": {
      "image/png": "[encoded data removed]",
      "text/plain": [
       "<Figure size 432x288 with 1 Axes>"
      ]
     },
     "metadata": {
      "needs_background": "light"
     },
     "output_type": "display_data"
    },
    {
     "data": {
      "image/png": "[encoded data removed]",
      "text/plain": [
       "<Figure size 432x288 with 1 Axes>"
      ]
     },
     "metadata": {
      "needs_background": "light"
     },
     "output_type": "display_data"
    },
    {
     "data": {
      "image/png": "[encoded data removed]",
      "text/plain": [
       "<Figure size 432x288 with 1 Axes>"
      ]
     },
     "metadata": {
      "needs_background": "light"
     },
     "output_type": "display_data"
    }
   ],
   "source": [
    "games.groupby(by='genre').agg({'eu_sales':'sum'}).sort_values(by='eu_sales', ascending=False).head(5).plot(kind='barh', title='EU')\n",
    "games.groupby(by='genre').agg({'na_sales':'sum'}).sort_values(by='na_sales', ascending=False).head(5).plot(kind='barh', title='NA')\n",
    "games.groupby(by='genre').agg({'jp_sales':'sum'}).sort_values(by='jp_sales', ascending=False).head(5).plot(kind='barh', title='JP')"
   ]
  },
  {
   "cell_type": "markdown",
   "metadata": {},
   "source": [
    "Europe and Latin America prefer to play action games, while Japan prefers role-playing games. Most likely, this is due to the mentality of users from different regions, it is significantly different for the Japanese. EU and NA have very similar preferences for the game."
   ]
  },
  {
   "cell_type": "code",
   "execution_count": 72,
   "metadata": {},
   "outputs": [
    {
     "data": {
      "text/plain": [
       "<AxesSubplot:title={'center':'JP'}, ylabel='rating'>"
      ]
     },
     "execution_count": 72,
     "metadata": {},
     "output_type": "execute_result"
    },
    {
     "data": {
      "image/png": "[encoded data removed]",
      "text/plain": [
       "<Figure size 432x288 with 1 Axes>"
      ]
     },
     "metadata": {
      "needs_background": "light"
     },
     "output_type": "display_data"
    },
    {
     "data": {
      "image/png": "[encoded data removed]",
      "text/plain": [
       "<Figure size 432x288 with 1 Axes>"
      ]
     },
     "metadata": {
      "needs_background": "light"
     },
     "output_type": "display_data"
    },
    {
     "data": {
      "image/png": "[encoded data removed]",
      "text/plain": [
       "<Figure size 432x288 with 1 Axes>"
      ]
     },
     "metadata": {
      "needs_background": "light"
     },
     "output_type": "display_data"
    }
   ],
   "source": [
    "games.groupby(by='rating').agg({'eu_sales':'sum'}).sort_values(by='eu_sales', ascending=False).head(5).plot(kind='barh', title='EU')\n",
    "games.groupby(by='rating').agg({'na_sales':'sum'}).sort_values(by='na_sales', ascending=False).head(5).plot(kind='barh', title='NA')\n",
    "games.groupby(by='rating').agg({'jp_sales':'sum'}).sort_values(by='jp_sales', ascending=False).head(5).plot(kind='barh', title='JP')"
   ]
  },
  {
   "cell_type": "markdown",
   "metadata": {},
   "source": [
    "Dependence on the rating is tracked in Europe and North America. The most popular games with a rating of \"for everyone\", in second place are games for an adult audience, the Japanese prefer games without a rating more."
   ]
  },
  {
   "cell_type": "markdown",
   "metadata": {},
   "source": [
    "## Let 's test hypotheses"
   ]
  },
  {
   "cell_type": "markdown",
   "metadata": {},
   "source": [
    "### Средние пользовательские рейтинги платформ Xbox One и PC одинаковые"
   ]
  },
  {
   "cell_type": "markdown",
   "metadata": {},
   "source": [
    "Let's reformulate the hypotheses:\n",
    "\n",
    "H0. The average user ratings of the Xbox One and PC platforms are the same.\n",
    "\n",
    "H1. The average user ratings of the Xbox One and PC platforms are different."
   ]
  },
  {
   "cell_type": "code",
   "execution_count": 74,
   "metadata": {},
   "outputs": [
    {
     "name": "stdout",
     "output_type": "stream",
     "text": [
      "XOne sample variance 1.6451872770511302\n",
      "PC sample variance 3.0387966942148776\n"
     ]
    }
   ],
   "source": [
    "x_one = new_platform.query(\"platform == 'XOne'\")\n",
    "pc = new_platform.query(\"platform == 'PC'\")\n",
    "\n",
    "print(\"XOne sample variance\",np.var(x_one['user_score']))\n",
    "print(\"PC sample variance\",np.var(pc['user_score']))"
   ]
  },
  {
   "cell_type": "markdown",
   "metadata": {},
   "source": [
    "The variances are not equal"
   ]
  },
  {
   "cell_type": "code",
   "execution_count": 80,
   "metadata": {},
   "outputs": [
    {
     "name": "stdout",
     "output_type": "stream",
     "text": [
      "p-value: nan\n",
      "We failed to reject the null hypothesis, the average user ratings of the Xbox One and PC platforms are the same\n"
     ]
    }
   ],
   "source": [
    "alpha = 0.05  # level of statistical significance\n",
    "\n",
    "results = st.ttest_ind(\n",
    "    x_one['user_score'],\n",
    "    pc['user_score'],\n",
    "    equal_var=False\n",
    ")\n",
    "\n",
    "print('p-value:', results.pvalue)\n",
    "\n",
    "if results.pvalue < alpha:\n",
    "    print(\"We reject the null hypothesis, i.e. the average user ratings of the Xbox One and PC platforms differ\")\n",
    "else:\n",
    "    print(\"We failed to reject the null hypothesis, the average user ratings of the Xbox One and PC platforms are the same\")\n"
   ]
  },
  {
   "cell_type": "markdown",
   "metadata": {},
   "source": [
    "We failed to reject the null hypothesis, as the p-value is not less than the chosen level of significance (alpha = 0.05). Therefore, we conclude that there is not enough evidence to suggest that the average user ratings of the Xbox One and PC platforms differ significantly."
   ]
  },
  {
   "cell_type": "code",
   "execution_count": 82,
   "metadata": {},
   "outputs": [
    {
     "name": "stdout",
     "output_type": "stream",
     "text": [
      "Average user rating of Xbox One platforms:  6.48\n",
      "Average user rating of PC platforms:        6.26\n"
     ]
    }
   ],
   "source": [
    "# compare the average ratings\n",
    "print('{:} {: >5.2f}'.format(\"Average user rating of Xbox One platforms:\", x_one['user_score'].mean() ))\n",
    "print('{:} {: >11.2f}'.format(\"Average user rating of PC platforms:\",pc['user_score'].mean() ))"
   ]
  },
  {
   "cell_type": "markdown",
   "metadata": {},
   "source": [
    "The test confirmed the hypothesis of equality of ratings."
   ]
  },
  {
   "cell_type": "markdown",
   "metadata": {},
   "source": [
    "### The average user ratings of the Action and Sports genres are different."
   ]
  },
  {
   "cell_type": "markdown",
   "metadata": {},
   "source": [
    "We reformulate the hypotheses:\n",
    "\n",
    "H0. Average user ratings of the genres Action and Sports are the same.\n",
    "\n",
    "H1. Average user ratings of genres Action and Sports are different."
   ]
  },
  {
   "cell_type": "code",
   "execution_count": 83,
   "metadata": {},
   "outputs": [
    {
     "name": "stdout",
     "output_type": "stream",
     "text": [
      "False\n"
     ]
    }
   ],
   "source": [
    "alpha = 0.05\n",
    "action = games[(games['genre'] == 'Action') & (games['user_score'] > 0)]['user_score']\n",
    "sports = games[(games['genre'] == 'Sports') & (games['user_score'] > 0)]['user_score']\n",
    "if np.var(action)==np.var(sports):\n",
    "    print('True')\n",
    "else:\n",
    "    print('False')"
   ]
  },
  {
   "cell_type": "code",
   "execution_count": 88,
   "metadata": {},
   "outputs": [
    {
     "data": {
      "image/png": "[encoded data removed]",
      "text/plain": [
       "<Figure size 720x360 with 1 Axes>"
      ]
     },
     "metadata": {
      "needs_background": "light"
     },
     "output_type": "display_data"
    },
    {
     "data": {
      "image/png": "[encoded data removed]",
      "text/plain": [
       "<Figure size 720x360 with 1 Axes>"
      ]
     },
     "metadata": {
      "needs_background": "light"
     },
     "output_type": "display_data"
    }
   ],
   "source": [
    "plt.figure(figsize=(10, 5))\n",
    "sns.distplot(action)\n",
    "plt.title('Distribution of Action Genre')\n",
    "plt.show()\n",
    "\n",
    "plt.figure(figsize=(10, 5))\n",
    "sns.distplot(sports)\n",
    "plt.title('Distribution of Sports Genre')\n",
    "plt.show()"
   ]
  },
  {
   "cell_type": "code",
   "execution_count": 89,
   "metadata": {},
   "outputs": [
    {
     "name": "stdout",
     "output_type": "stream",
     "text": [
      "p-value: 0.01250834944250293\n",
      "Reject null hypothesis\n"
     ]
    }
   ],
   "source": [
    "results=st.ttest_ind(action, sports, equal_var = False)\n",
    "print('p-value:', results.pvalue)\n",
    "\n",
    "if (results.pvalue < alpha):\n",
    "    print(\"Reject null hypothesis\")\n",
    "else:\n",
    "    print(\"Failed to reject null hypothesis\")"
   ]
  },
  {
   "cell_type": "markdown",
   "metadata": {},
   "source": [
    "The average user ratings of the genres Action and Sports are different."
   ]
  },
  {
   "cell_type": "markdown",
   "metadata": {},
   "source": [
    "# Сonclusion"
   ]
  },
  {
   "cell_type": "markdown",
   "metadata": {},
   "source": [
    "The gaming industry market has been growing since 1994 and since 2010 there has been a decline in sales. Platforms appear and die within 10 years. The most popular and promising platforms at the moment are Sony PlayStation 4 and Xbox One. Sales depend significantly on the genre of the game, for example, GTA5, which are in the top sales on all presented platforms and the total profit is almost $ 100 million. At the same time, if we consider the average cost of a copy or the median cost by genre, then the shooter genre is in the lead, and if we look at total sales, then action. In the USA and Europe, shooters, sports games and action games are best sold, while Japan prefers role-playing games. Most of the sales in Europe and Latin America are for games with a rating for adults and for everyone, Japan is different again, gamers prefer games without a rating. Japan is a separate market with a focus on portable consoles. The volume of sales in this country is 2.5 times less than in Europe and America.\n",
    "\n",
    "It is potentially advantageous to develop a game for the European and American markets on promising Sony PlayStation 4 and Xbox One platforms in the Shooter/Sport genre, while platformers also occupy their impressive segment. The Japanese market has its own specifics on platforms and genres, in addition, it is not too extensive."
   ]
  },
  {
   "cell_type": "code",
   "execution_count": null,
   "metadata": {},
   "outputs": [],
   "source": []
  }
 ],
 "metadata": {
  "ExecuteTimeLog": [
   {
    "duration": 118,
    "start_time": "2022-11-14T08:15:33.550Z"
   },
   {
    "duration": 3,
    "start_time": "2022-11-14T08:16:40.421Z"
   },
   {
    "duration": 1232,
    "start_time": "2022-11-14T08:20:39.949Z"
   },
   {
    "duration": 107,
    "start_time": "2022-11-14T08:21:28.463Z"
   },
   {
    "duration": 128,
    "start_time": "2022-11-14T08:22:02.926Z"
   },
   {
    "duration": 79,
    "start_time": "2022-11-14T08:22:26.652Z"
   },
   {
    "duration": 3,
    "start_time": "2022-11-14T08:22:48.321Z"
   },
   {
    "duration": 3,
    "start_time": "2022-11-14T08:23:46.695Z"
   },
   {
    "duration": 14,
    "start_time": "2022-11-14T08:24:00.325Z"
   },
   {
    "duration": 93,
    "start_time": "2022-11-14T08:29:16.134Z"
   },
   {
    "duration": 54,
    "start_time": "2022-11-14T08:34:48.695Z"
   },
   {
    "duration": 1177,
    "start_time": "2022-11-14T08:37:09.223Z"
   },
   {
    "duration": 88,
    "start_time": "2022-11-14T08:37:11.883Z"
   },
   {
    "duration": 4,
    "start_time": "2022-11-14T08:37:18.435Z"
   },
   {
    "duration": 14,
    "start_time": "2022-11-14T08:37:19.363Z"
   },
   {
    "duration": 52,
    "start_time": "2022-11-14T08:37:25.083Z"
   },
   {
    "duration": 7,
    "start_time": "2022-11-14T08:47:47.645Z"
   },
   {
    "duration": 8,
    "start_time": "2022-11-14T08:47:58.926Z"
   },
   {
    "duration": 117,
    "start_time": "2022-11-14T08:57:53.267Z"
   },
   {
    "duration": 23,
    "start_time": "2022-11-14T09:05:16.519Z"
   },
   {
    "duration": 79,
    "start_time": "2022-11-14T09:08:12.538Z"
   },
   {
    "duration": 94,
    "start_time": "2022-11-14T09:10:52.996Z"
   },
   {
    "duration": 7,
    "start_time": "2022-11-14T09:15:44.595Z"
   },
   {
    "duration": 8,
    "start_time": "2022-11-14T09:17:23.864Z"
   },
   {
    "duration": 9,
    "start_time": "2022-11-14T09:18:05.625Z"
   },
   {
    "duration": 20,
    "start_time": "2022-11-14T09:19:06.440Z"
   },
   {
    "duration": 6,
    "start_time": "2022-11-14T09:23:45.859Z"
   },
   {
    "duration": 18,
    "start_time": "2022-11-14T09:24:00.328Z"
   },
   {
    "duration": 35,
    "start_time": "2022-11-14T09:27:59.120Z"
   },
   {
    "duration": 20,
    "start_time": "2022-11-14T09:28:51.360Z"
   },
   {
    "duration": 20,
    "start_time": "2022-11-14T09:29:25.261Z"
   },
   {
    "duration": 6,
    "start_time": "2022-11-14T10:05:53.804Z"
   },
   {
    "duration": 25,
    "start_time": "2022-11-14T10:08:50.674Z"
   },
   {
    "duration": 16,
    "start_time": "2022-11-14T10:10:00.664Z"
   },
   {
    "duration": 5,
    "start_time": "2022-11-14T10:15:52.539Z"
   },
   {
    "duration": 51,
    "start_time": "2022-11-14T10:16:35.409Z"
   },
   {
    "duration": 8,
    "start_time": "2022-11-14T10:19:16.295Z"
   },
   {
    "duration": 9,
    "start_time": "2022-11-14T10:19:25.164Z"
   },
   {
    "duration": 4,
    "start_time": "2022-11-14T10:21:34.974Z"
   },
   {
    "duration": 21,
    "start_time": "2022-11-14T10:21:55.070Z"
   },
   {
    "duration": 3,
    "start_time": "2022-11-14T10:22:20.175Z"
   },
   {
    "duration": 4,
    "start_time": "2022-11-14T10:22:37.720Z"
   },
   {
    "duration": 15,
    "start_time": "2022-11-14T10:26:32.306Z"
   },
   {
    "duration": 16,
    "start_time": "2022-11-14T10:27:24.614Z"
   },
   {
    "duration": 38,
    "start_time": "2022-11-14T10:27:44.945Z"
   },
   {
    "duration": 10,
    "start_time": "2022-11-14T10:37:03.910Z"
   },
   {
    "duration": 14,
    "start_time": "2022-11-14T10:37:09.661Z"
   },
   {
    "duration": 1050,
    "start_time": "2022-11-14T10:37:25.745Z"
   },
   {
    "duration": 77,
    "start_time": "2022-11-14T10:37:26.797Z"
   },
   {
    "duration": 4,
    "start_time": "2022-11-14T10:37:27.440Z"
   },
   {
    "duration": 12,
    "start_time": "2022-11-14T10:37:27.760Z"
   },
   {
    "duration": 19,
    "start_time": "2022-11-14T10:37:28.335Z"
   },
   {
    "duration": 6,
    "start_time": "2022-11-14T10:37:29.542Z"
   },
   {
    "duration": 9,
    "start_time": "2022-11-14T10:37:30.000Z"
   },
   {
    "duration": 20,
    "start_time": "2022-11-14T10:37:30.635Z"
   },
   {
    "duration": 7,
    "start_time": "2022-11-14T10:37:31.370Z"
   },
   {
    "duration": 29,
    "start_time": "2022-11-14T10:37:32.660Z"
   },
   {
    "duration": 7,
    "start_time": "2022-11-14T10:37:32.990Z"
   },
   {
    "duration": 9,
    "start_time": "2022-11-14T10:37:33.530Z"
   },
   {
    "duration": 21,
    "start_time": "2022-11-14T10:37:34.861Z"
   },
   {
    "duration": 4,
    "start_time": "2022-11-14T10:37:35.926Z"
   },
   {
    "duration": 43,
    "start_time": "2022-11-14T10:37:36.600Z"
   },
   {
    "duration": 99,
    "start_time": "2022-11-14T10:37:37.215Z"
   },
   {
    "duration": 40,
    "start_time": "2022-11-14T10:37:37.520Z"
   },
   {
    "duration": 1085,
    "start_time": "2022-11-14T10:38:28.210Z"
   },
   {
    "duration": 78,
    "start_time": "2022-11-14T10:38:29.297Z"
   },
   {
    "duration": 3,
    "start_time": "2022-11-14T10:38:29.377Z"
   },
   {
    "duration": 14,
    "start_time": "2022-11-14T10:38:29.425Z"
   },
   {
    "duration": 21,
    "start_time": "2022-11-14T10:38:29.952Z"
   },
   {
    "duration": 7,
    "start_time": "2022-11-14T10:38:30.686Z"
   },
   {
    "duration": 9,
    "start_time": "2022-11-14T10:38:30.990Z"
   },
   {
    "duration": 19,
    "start_time": "2022-11-14T10:38:31.226Z"
   },
   {
    "duration": 7,
    "start_time": "2022-11-14T10:38:31.700Z"
   },
   {
    "duration": 40,
    "start_time": "2022-11-14T10:38:31.925Z"
   },
   {
    "duration": 7,
    "start_time": "2022-11-14T10:38:32.160Z"
   },
   {
    "duration": 22,
    "start_time": "2022-11-14T10:38:32.665Z"
   },
   {
    "duration": 5,
    "start_time": "2022-11-14T10:38:33.415Z"
   },
   {
    "duration": 43,
    "start_time": "2022-11-14T10:38:34.140Z"
   },
   {
    "duration": 16,
    "start_time": "2022-11-14T10:38:34.690Z"
   },
   {
    "duration": 39,
    "start_time": "2022-11-14T10:38:36.021Z"
   },
   {
    "duration": 24,
    "start_time": "2022-11-14T10:40:59.514Z"
   },
   {
    "duration": 2,
    "start_time": "2022-11-14T10:48:02.816Z"
   },
   {
    "duration": 3,
    "start_time": "2022-11-14T10:48:46.696Z"
   },
   {
    "duration": 101,
    "start_time": "2022-11-14T10:50:44.070Z"
   },
   {
    "duration": 345,
    "start_time": "2022-11-14T10:50:53.974Z"
   },
   {
    "duration": 7,
    "start_time": "2022-11-14T10:54:17.794Z"
   },
   {
    "duration": 10,
    "start_time": "2022-11-14T10:58:55.104Z"
   },
   {
    "duration": 1071,
    "start_time": "2022-11-14T11:10:11.509Z"
   },
   {
    "duration": 1331,
    "start_time": "2022-11-14T11:10:47.488Z"
   },
   {
    "duration": 109,
    "start_time": "2022-11-14T11:12:11.162Z"
   },
   {
    "duration": 1090,
    "start_time": "2022-11-14T11:12:25.799Z"
   },
   {
    "duration": 228,
    "start_time": "2022-11-14T11:14:11.933Z"
   },
   {
    "duration": 224,
    "start_time": "2022-11-14T11:14:29.018Z"
   },
   {
    "duration": 219,
    "start_time": "2022-11-14T11:14:48.314Z"
   },
   {
    "duration": 248,
    "start_time": "2022-11-14T11:15:00.823Z"
   },
   {
    "duration": 230,
    "start_time": "2022-11-14T11:15:07.104Z"
   },
   {
    "duration": 362,
    "start_time": "2022-11-14T11:15:34.046Z"
   },
   {
    "duration": 219,
    "start_time": "2022-11-14T11:15:52.243Z"
   },
   {
    "duration": 235,
    "start_time": "2022-11-14T11:16:01.864Z"
   },
   {
    "duration": 251,
    "start_time": "2022-11-14T11:30:36.035Z"
   },
   {
    "duration": 2,
    "start_time": "2022-11-14T11:31:45.565Z"
   },
   {
    "duration": 278,
    "start_time": "2022-11-14T11:33:18.071Z"
   },
   {
    "duration": 1400,
    "start_time": "2022-11-14T11:42:21.386Z"
   },
   {
    "duration": 15,
    "start_time": "2022-11-14T11:44:13.875Z"
   },
   {
    "duration": 32,
    "start_time": "2022-11-14T11:44:58.014Z"
   },
   {
    "duration": 35,
    "start_time": "2022-11-14T11:45:18.530Z"
   },
   {
    "duration": 31,
    "start_time": "2022-11-14T11:45:31.718Z"
   },
   {
    "duration": 216,
    "start_time": "2022-11-14T11:50:23.005Z"
   },
   {
    "duration": 16,
    "start_time": "2022-11-14T11:50:43.663Z"
   },
   {
    "duration": 1210,
    "start_time": "2022-11-14T11:51:12.731Z"
   },
   {
    "duration": 1309,
    "start_time": "2022-11-14T11:52:19.475Z"
   },
   {
    "duration": 1174,
    "start_time": "2022-11-14T11:53:10.040Z"
   },
   {
    "duration": 85,
    "start_time": "2022-11-14T11:53:11.216Z"
   },
   {
    "duration": 3,
    "start_time": "2022-11-14T11:53:11.303Z"
   },
   {
    "duration": 18,
    "start_time": "2022-11-14T11:53:11.308Z"
   },
   {
    "duration": 20,
    "start_time": "2022-11-14T11:53:11.500Z"
   },
   {
    "duration": 8,
    "start_time": "2022-11-14T11:53:12.139Z"
   },
   {
    "duration": 9,
    "start_time": "2022-11-14T11:53:12.369Z"
   },
   {
    "duration": 20,
    "start_time": "2022-11-14T11:53:12.595Z"
   },
   {
    "duration": 7,
    "start_time": "2022-11-14T11:53:13.064Z"
   },
   {
    "duration": 32,
    "start_time": "2022-11-14T11:53:13.244Z"
   },
   {
    "duration": 6,
    "start_time": "2022-11-14T11:53:13.485Z"
   },
   {
    "duration": 22,
    "start_time": "2022-11-14T11:53:13.935Z"
   },
   {
    "duration": 5,
    "start_time": "2022-11-14T11:53:14.394Z"
   },
   {
    "duration": 42,
    "start_time": "2022-11-14T11:53:15.090Z"
   },
   {
    "duration": 18,
    "start_time": "2022-11-14T11:53:15.544Z"
   },
   {
    "duration": 40,
    "start_time": "2022-11-14T11:53:15.769Z"
   },
   {
    "duration": 23,
    "start_time": "2022-11-14T11:53:16.465Z"
   },
   {
    "duration": 297,
    "start_time": "2022-11-14T11:53:17.184Z"
   },
   {
    "duration": 6,
    "start_time": "2022-11-14T11:53:17.483Z"
   },
   {
    "duration": 11,
    "start_time": "2022-11-14T11:53:18.345Z"
   },
   {
    "duration": 211,
    "start_time": "2022-11-14T11:53:18.821Z"
   },
   {
    "duration": 213,
    "start_time": "2022-11-14T11:53:19.374Z"
   },
   {
    "duration": 200,
    "start_time": "2022-11-14T11:53:19.874Z"
   },
   {
    "duration": 202,
    "start_time": "2022-11-14T11:53:20.395Z"
   },
   {
    "duration": 189,
    "start_time": "2022-11-14T11:53:20.929Z"
   },
   {
    "duration": 264,
    "start_time": "2022-11-14T11:53:22.020Z"
   },
   {
    "duration": 1321,
    "start_time": "2022-11-14T11:53:22.885Z"
   },
   {
    "duration": 10,
    "start_time": "2022-11-14T11:59:08.504Z"
   },
   {
    "duration": 1036,
    "start_time": "2022-11-14T11:59:24.834Z"
   },
   {
    "duration": 894,
    "start_time": "2022-11-14T12:00:02.186Z"
   },
   {
    "duration": 288,
    "start_time": "2022-11-14T12:00:48.188Z"
   },
   {
    "duration": 12,
    "start_time": "2022-11-14T12:01:19.359Z"
   },
   {
    "duration": 7,
    "start_time": "2022-11-14T12:02:58.024Z"
   },
   {
    "duration": 178,
    "start_time": "2022-11-14T12:03:16.434Z"
   },
   {
    "duration": 74,
    "start_time": "2022-11-14T12:04:37.976Z"
   },
   {
    "duration": 91,
    "start_time": "2022-11-14T12:04:50.289Z"
   },
   {
    "duration": 80,
    "start_time": "2022-11-14T12:05:41.305Z"
   },
   {
    "duration": 93,
    "start_time": "2022-11-14T12:05:51.066Z"
   },
   {
    "duration": 75,
    "start_time": "2022-11-14T12:05:58.939Z"
   },
   {
    "duration": 83,
    "start_time": "2022-11-14T12:06:05.889Z"
   },
   {
    "duration": 322,
    "start_time": "2022-11-14T12:06:55.060Z"
   },
   {
    "duration": 80,
    "start_time": "2022-11-14T12:07:39.499Z"
   },
   {
    "duration": 227,
    "start_time": "2022-11-14T12:08:44.921Z"
   },
   {
    "duration": 228,
    "start_time": "2022-11-14T12:09:16.350Z"
   },
   {
    "duration": 206,
    "start_time": "2022-11-14T12:10:14.719Z"
   },
   {
    "duration": 193,
    "start_time": "2022-11-14T12:10:28.779Z"
   },
   {
    "duration": 246,
    "start_time": "2022-11-14T12:12:28.074Z"
   },
   {
    "duration": 0,
    "start_time": "2022-11-14T12:12:28.323Z"
   },
   {
    "duration": 142,
    "start_time": "2022-11-14T12:13:22.065Z"
   },
   {
    "duration": 139,
    "start_time": "2022-11-14T12:14:07.360Z"
   },
   {
    "duration": 12,
    "start_time": "2022-11-14T12:15:09.635Z"
   },
   {
    "duration": 76,
    "start_time": "2022-11-14T12:15:09.762Z"
   },
   {
    "duration": 12,
    "start_time": "2022-11-14T12:15:24.985Z"
   },
   {
    "duration": 9,
    "start_time": "2022-11-14T12:15:49.975Z"
   },
   {
    "duration": 10,
    "start_time": "2022-11-14T12:15:59.334Z"
   },
   {
    "duration": 169,
    "start_time": "2022-11-14T12:16:30.904Z"
   },
   {
    "duration": 1115,
    "start_time": "2022-11-14T12:33:51.284Z"
   },
   {
    "duration": 132,
    "start_time": "2022-11-14T12:33:53.703Z"
   },
   {
    "duration": 3,
    "start_time": "2022-11-14T12:33:54.739Z"
   },
   {
    "duration": 14,
    "start_time": "2022-11-14T12:33:54.934Z"
   },
   {
    "duration": 18,
    "start_time": "2022-11-14T12:33:55.454Z"
   },
   {
    "duration": 14,
    "start_time": "2022-11-14T12:33:56.104Z"
   },
   {
    "duration": 9,
    "start_time": "2022-11-14T12:33:56.323Z"
   },
   {
    "duration": 22,
    "start_time": "2022-11-14T12:33:56.554Z"
   },
   {
    "duration": 8,
    "start_time": "2022-11-14T12:33:57.003Z"
   },
   {
    "duration": 31,
    "start_time": "2022-11-14T12:33:57.244Z"
   },
   {
    "duration": 9,
    "start_time": "2022-11-14T12:33:57.469Z"
   },
   {
    "duration": 21,
    "start_time": "2022-11-14T12:33:57.939Z"
   },
   {
    "duration": 5,
    "start_time": "2022-11-14T12:33:58.418Z"
   },
   {
    "duration": 39,
    "start_time": "2022-11-14T12:33:59.148Z"
   },
   {
    "duration": 14,
    "start_time": "2022-11-14T12:34:01.784Z"
   },
   {
    "duration": 46,
    "start_time": "2022-11-14T12:34:02.674Z"
   },
   {
    "duration": 22,
    "start_time": "2022-11-14T12:34:04.624Z"
   },
   {
    "duration": 356,
    "start_time": "2022-11-14T12:34:05.898Z"
   },
   {
    "duration": 6,
    "start_time": "2022-11-14T12:34:06.446Z"
   },
   {
    "duration": 12,
    "start_time": "2022-11-14T12:34:10.114Z"
   },
   {
    "duration": 226,
    "start_time": "2022-11-14T12:34:11.909Z"
   },
   {
    "duration": 231,
    "start_time": "2022-11-14T12:34:19.899Z"
   },
   {
    "duration": 209,
    "start_time": "2022-11-14T12:34:21.859Z"
   },
   {
    "duration": 201,
    "start_time": "2022-11-14T12:34:23.944Z"
   },
   {
    "duration": 198,
    "start_time": "2022-11-14T12:34:25.563Z"
   },
   {
    "duration": 229,
    "start_time": "2022-11-14T12:34:27.740Z"
   },
   {
    "duration": 5,
    "start_time": "2022-11-14T12:34:29.744Z"
   },
   {
    "duration": 254,
    "start_time": "2022-11-14T12:34:30.498Z"
   },
   {
    "duration": 1069,
    "start_time": "2022-11-14T12:44:40.752Z"
   },
   {
    "duration": 80,
    "start_time": "2022-11-14T12:44:42.800Z"
   },
   {
    "duration": 4,
    "start_time": "2022-11-14T12:44:43.631Z"
   },
   {
    "duration": 14,
    "start_time": "2022-11-14T12:44:43.935Z"
   },
   {
    "duration": 21,
    "start_time": "2022-11-14T12:44:48.552Z"
   },
   {
    "duration": 8,
    "start_time": "2022-11-14T12:44:50.301Z"
   },
   {
    "duration": 9,
    "start_time": "2022-11-14T12:44:50.574Z"
   },
   {
    "duration": 20,
    "start_time": "2022-11-14T12:44:50.833Z"
   },
   {
    "duration": 7,
    "start_time": "2022-11-14T12:44:56.279Z"
   },
   {
    "duration": 30,
    "start_time": "2022-11-14T12:44:56.714Z"
   },
   {
    "duration": 6,
    "start_time": "2022-11-14T12:44:57.034Z"
   },
   {
    "duration": 21,
    "start_time": "2022-11-14T12:44:58.359Z"
   },
   {
    "duration": 4,
    "start_time": "2022-11-14T12:44:59.312Z"
   },
   {
    "duration": 40,
    "start_time": "2022-11-14T12:45:01.401Z"
   },
   {
    "duration": 16,
    "start_time": "2022-11-14T12:45:06.393Z"
   },
   {
    "duration": 38,
    "start_time": "2022-11-14T12:45:06.818Z"
   },
   {
    "duration": 25,
    "start_time": "2022-11-14T12:45:08.451Z"
   },
   {
    "duration": 321,
    "start_time": "2022-11-14T12:45:11.373Z"
   },
   {
    "duration": 6,
    "start_time": "2022-11-14T12:45:12.119Z"
   },
   {
    "duration": 11,
    "start_time": "2022-11-14T12:45:18.632Z"
   },
   {
    "duration": 209,
    "start_time": "2022-11-14T12:45:19.155Z"
   },
   {
    "duration": 207,
    "start_time": "2022-11-14T12:45:20.202Z"
   },
   {
    "duration": 203,
    "start_time": "2022-11-14T12:45:50.381Z"
   },
   {
    "duration": 199,
    "start_time": "2022-11-14T12:45:51.619Z"
   },
   {
    "duration": 203,
    "start_time": "2022-11-14T12:45:52.103Z"
   },
   {
    "duration": 195,
    "start_time": "2022-11-14T12:45:53.261Z"
   },
   {
    "duration": 7,
    "start_time": "2022-11-14T12:45:53.874Z"
   },
   {
    "duration": 246,
    "start_time": "2022-11-14T12:45:54.074Z"
   },
   {
    "duration": 12,
    "start_time": "2022-11-14T12:47:42.325Z"
   },
   {
    "duration": 98,
    "start_time": "2022-11-14T12:49:28.659Z"
   },
   {
    "duration": 10,
    "start_time": "2022-11-14T12:50:26.642Z"
   },
   {
    "duration": 9,
    "start_time": "2022-11-14T12:50:35.171Z"
   },
   {
    "duration": 5,
    "start_time": "2022-11-14T12:51:52.561Z"
   },
   {
    "duration": 9,
    "start_time": "2022-11-14T12:51:53.032Z"
   },
   {
    "duration": 582,
    "start_time": "2022-11-14T12:52:02.315Z"
   },
   {
    "duration": 674,
    "start_time": "2022-11-14T12:53:17.662Z"
   },
   {
    "duration": 873,
    "start_time": "2022-11-14T12:55:04.192Z"
   },
   {
    "duration": 6,
    "start_time": "2022-11-14T12:55:28.841Z"
   },
   {
    "duration": 156,
    "start_time": "2022-11-14T12:55:29.652Z"
   },
   {
    "duration": 13,
    "start_time": "2022-11-14T12:56:05.932Z"
   },
   {
    "duration": 4,
    "start_time": "2022-11-14T12:56:07.559Z"
   },
   {
    "duration": 5,
    "start_time": "2022-11-14T12:56:46.974Z"
   },
   {
    "duration": 419,
    "start_time": "2022-11-14T12:56:50.592Z"
   },
   {
    "duration": 6,
    "start_time": "2022-11-14T12:57:13.251Z"
   },
   {
    "duration": 451,
    "start_time": "2022-11-14T12:57:17.242Z"
   },
   {
    "duration": 266,
    "start_time": "2022-11-14T12:57:38.449Z"
   },
   {
    "duration": 7,
    "start_time": "2022-11-14T12:58:00.265Z"
   },
   {
    "duration": 15,
    "start_time": "2022-11-14T12:58:00.450Z"
   },
   {
    "duration": 5,
    "start_time": "2022-11-14T12:58:00.686Z"
   },
   {
    "duration": 473,
    "start_time": "2022-11-14T12:58:00.910Z"
   },
   {
    "duration": 4,
    "start_time": "2022-11-14T13:02:13.342Z"
   },
   {
    "duration": 331,
    "start_time": "2022-11-14T13:02:14.093Z"
   },
   {
    "duration": 534,
    "start_time": "2022-11-14T13:07:20.622Z"
   },
   {
    "duration": 69,
    "start_time": "2022-11-14T13:10:11.370Z"
   },
   {
    "duration": 558,
    "start_time": "2022-11-14T13:10:36.516Z"
   },
   {
    "duration": 513,
    "start_time": "2022-11-14T13:11:25.531Z"
   },
   {
    "duration": 656,
    "start_time": "2022-11-14T13:12:16.327Z"
   },
   {
    "duration": 538,
    "start_time": "2022-11-14T13:12:37.553Z"
   },
   {
    "duration": 543,
    "start_time": "2022-11-14T13:12:55.002Z"
   },
   {
    "duration": 80,
    "start_time": "2022-11-14T13:14:52.893Z"
   },
   {
    "duration": 75,
    "start_time": "2022-11-14T13:15:23.193Z"
   },
   {
    "duration": 87,
    "start_time": "2022-11-14T13:15:40.841Z"
   },
   {
    "duration": 117,
    "start_time": "2022-11-14T13:16:03.042Z"
   },
   {
    "duration": 86,
    "start_time": "2022-11-14T13:16:57.050Z"
   },
   {
    "duration": 13,
    "start_time": "2022-11-14T13:17:45.542Z"
   },
   {
    "duration": 15,
    "start_time": "2022-11-14T13:17:57.792Z"
   },
   {
    "duration": 205,
    "start_time": "2022-11-14T13:18:21.530Z"
   },
   {
    "duration": 212,
    "start_time": "2022-11-14T13:18:41.813Z"
   },
   {
    "duration": 196,
    "start_time": "2022-11-14T13:19:05.474Z"
   },
   {
    "duration": 211,
    "start_time": "2022-11-14T13:19:15.013Z"
   },
   {
    "duration": 336,
    "start_time": "2022-11-14T13:19:25.832Z"
   },
   {
    "duration": 175,
    "start_time": "2022-11-14T13:21:43.586Z"
   },
   {
    "duration": 340,
    "start_time": "2022-11-14T13:22:04.742Z"
   },
   {
    "duration": 524,
    "start_time": "2022-11-14T13:22:05.083Z"
   },
   {
    "duration": 251,
    "start_time": "2022-11-14T13:22:43.541Z"
   },
   {
    "duration": 254,
    "start_time": "2022-11-14T13:23:45.520Z"
   },
   {
    "duration": 318,
    "start_time": "2022-11-14T13:24:05.244Z"
   },
   {
    "duration": 322,
    "start_time": "2022-11-14T13:35:24.799Z"
   },
   {
    "duration": 153,
    "start_time": "2022-11-14T13:37:43.126Z"
   },
   {
    "duration": 18,
    "start_time": "2022-11-14T13:43:20.532Z"
   },
   {
    "duration": 12,
    "start_time": "2022-11-14T13:44:52.093Z"
   },
   {
    "duration": 18,
    "start_time": "2022-11-14T13:45:19.393Z"
   },
   {
    "duration": 3985,
    "start_time": "2022-11-14T13:46:08.222Z"
   },
   {
    "duration": 9,
    "start_time": "2022-11-14T13:47:45.151Z"
   },
   {
    "duration": 1193,
    "start_time": "2022-11-14T13:48:04.853Z"
   },
   {
    "duration": 3,
    "start_time": "2022-11-14T13:48:18.623Z"
   },
   {
    "duration": 88,
    "start_time": "2022-11-14T13:48:19.263Z"
   },
   {
    "duration": 3,
    "start_time": "2022-11-14T13:48:21.063Z"
   },
   {
    "duration": 15,
    "start_time": "2022-11-14T13:48:21.296Z"
   },
   {
    "duration": 22,
    "start_time": "2022-11-14T13:48:21.752Z"
   },
   {
    "duration": 8,
    "start_time": "2022-11-14T13:48:22.493Z"
   },
   {
    "duration": 11,
    "start_time": "2022-11-14T13:48:22.700Z"
   },
   {
    "duration": 34,
    "start_time": "2022-11-14T13:48:22.966Z"
   },
   {
    "duration": 8,
    "start_time": "2022-11-14T13:48:23.453Z"
   },
   {
    "duration": 36,
    "start_time": "2022-11-14T13:48:23.696Z"
   },
   {
    "duration": 8,
    "start_time": "2022-11-14T13:48:23.936Z"
   },
   {
    "duration": 25,
    "start_time": "2022-11-14T13:48:24.482Z"
   },
   {
    "duration": 6,
    "start_time": "2022-11-14T13:48:24.972Z"
   },
   {
    "duration": 46,
    "start_time": "2022-11-14T13:48:25.723Z"
   },
   {
    "duration": 25,
    "start_time": "2022-11-14T13:48:26.242Z"
   },
   {
    "duration": 66,
    "start_time": "2022-11-14T13:48:26.615Z"
   },
   {
    "duration": 34,
    "start_time": "2022-11-14T13:48:27.453Z"
   },
   {
    "duration": 392,
    "start_time": "2022-11-14T13:48:28.293Z"
   },
   {
    "duration": 8,
    "start_time": "2022-11-14T13:48:28.687Z"
   },
   {
    "duration": 10,
    "start_time": "2022-11-14T13:48:29.081Z"
   },
   {
    "duration": 11,
    "start_time": "2022-11-14T13:48:29.893Z"
   },
   {
    "duration": 218,
    "start_time": "2022-11-14T13:48:30.392Z"
   },
   {
    "duration": 220,
    "start_time": "2022-11-14T13:48:30.870Z"
   },
   {
    "duration": 216,
    "start_time": "2022-11-14T13:48:31.375Z"
   },
   {
    "duration": 204,
    "start_time": "2022-11-14T13:48:31.894Z"
   },
   {
    "duration": 260,
    "start_time": "2022-11-14T13:48:32.470Z"
   },
   {
    "duration": 187,
    "start_time": "2022-11-14T13:48:33.625Z"
   },
   {
    "duration": 7,
    "start_time": "2022-11-14T13:48:34.506Z"
   },
   {
    "duration": 16,
    "start_time": "2022-11-14T13:48:34.830Z"
   },
   {
    "duration": 5,
    "start_time": "2022-11-14T13:48:35.115Z"
   },
   {
    "duration": 457,
    "start_time": "2022-11-14T13:48:35.410Z"
   },
   {
    "duration": 362,
    "start_time": "2022-11-14T13:48:36.285Z"
   },
   {
    "duration": 58,
    "start_time": "2022-11-14T13:48:41.913Z"
   },
   {
    "duration": 4103,
    "start_time": "2022-11-14T13:48:43.783Z"
   },
   {
    "duration": 155,
    "start_time": "2022-11-14T13:50:22.093Z"
   },
   {
    "duration": 19,
    "start_time": "2022-11-14T13:53:00.104Z"
   },
   {
    "duration": 21,
    "start_time": "2022-11-14T13:59:48.681Z"
   },
   {
    "duration": 441,
    "start_time": "2022-11-14T14:01:29.372Z"
   },
   {
    "duration": 431,
    "start_time": "2022-11-14T14:05:30.263Z"
   },
   {
    "duration": 73,
    "start_time": "2022-11-14T14:06:54.252Z"
   },
   {
    "duration": 432,
    "start_time": "2022-11-14T14:07:23.550Z"
   },
   {
    "duration": 618,
    "start_time": "2022-11-14T14:07:58.133Z"
   },
   {
    "duration": 448,
    "start_time": "2022-11-14T14:08:31.992Z"
   },
   {
    "duration": 413,
    "start_time": "2022-11-14T14:12:04.842Z"
   },
   {
    "duration": 9,
    "start_time": "2022-11-14T14:16:07.025Z"
   },
   {
    "duration": 71,
    "start_time": "2022-11-14T14:17:29.881Z"
   },
   {
    "duration": 294,
    "start_time": "2022-11-14T14:17:44.252Z"
   },
   {
    "duration": 5,
    "start_time": "2022-11-14T14:19:08.974Z"
   },
   {
    "duration": 2,
    "start_time": "2022-11-14T14:20:20.531Z"
   },
   {
    "duration": 72,
    "start_time": "2022-11-14T14:20:22.010Z"
   },
   {
    "duration": 11,
    "start_time": "2022-11-14T14:20:56.441Z"
   },
   {
    "duration": 324,
    "start_time": "2022-11-14T14:21:06.821Z"
   },
   {
    "duration": 5,
    "start_time": "2022-11-14T14:21:26.971Z"
   },
   {
    "duration": 103,
    "start_time": "2022-11-14T14:24:42.772Z"
   },
   {
    "duration": 15,
    "start_time": "2022-11-14T14:25:07.852Z"
   },
   {
    "duration": 11,
    "start_time": "2022-11-14T14:25:24.095Z"
   },
   {
    "duration": 74,
    "start_time": "2022-11-14T14:25:57.310Z"
   },
   {
    "duration": 6,
    "start_time": "2022-11-14T14:26:15.032Z"
   },
   {
    "duration": 5,
    "start_time": "2022-11-14T14:26:49.399Z"
   },
   {
    "duration": 10,
    "start_time": "2022-11-14T14:27:50.022Z"
   },
   {
    "duration": 5,
    "start_time": "2022-11-14T14:28:20.710Z"
   },
   {
    "duration": 1118,
    "start_time": "2022-11-14T14:29:38.093Z"
   },
   {
    "duration": 85,
    "start_time": "2022-11-14T14:29:39.214Z"
   },
   {
    "duration": 4,
    "start_time": "2022-11-14T14:29:39.549Z"
   },
   {
    "duration": 19,
    "start_time": "2022-11-14T14:29:39.556Z"
   },
   {
    "duration": 20,
    "start_time": "2022-11-14T14:29:40.074Z"
   },
   {
    "duration": 8,
    "start_time": "2022-11-14T14:29:40.661Z"
   },
   {
    "duration": 11,
    "start_time": "2022-11-14T14:29:40.807Z"
   },
   {
    "duration": 21,
    "start_time": "2022-11-14T14:29:40.976Z"
   },
   {
    "duration": 7,
    "start_time": "2022-11-14T14:29:41.389Z"
   },
   {
    "duration": 35,
    "start_time": "2022-11-14T14:29:41.584Z"
   },
   {
    "duration": 8,
    "start_time": "2022-11-14T14:29:41.814Z"
   },
   {
    "duration": 24,
    "start_time": "2022-11-14T14:29:42.290Z"
   },
   {
    "duration": 4,
    "start_time": "2022-11-14T14:29:42.861Z"
   },
   {
    "duration": 40,
    "start_time": "2022-11-14T14:29:43.598Z"
   },
   {
    "duration": 17,
    "start_time": "2022-11-14T14:29:44.060Z"
   },
   {
    "duration": 40,
    "start_time": "2022-11-14T14:29:44.278Z"
   },
   {
    "duration": 23,
    "start_time": "2022-11-14T14:29:44.991Z"
   },
   {
    "duration": 316,
    "start_time": "2022-11-14T14:29:45.671Z"
   },
   {
    "duration": 16,
    "start_time": "2022-11-14T14:29:45.989Z"
   },
   {
    "duration": 8,
    "start_time": "2022-11-14T14:29:46.299Z"
   },
   {
    "duration": 11,
    "start_time": "2022-11-14T14:29:46.991Z"
   },
   {
    "duration": 181,
    "start_time": "2022-11-14T14:29:47.420Z"
   },
   {
    "duration": 237,
    "start_time": "2022-11-14T14:29:47.788Z"
   },
   {
    "duration": 188,
    "start_time": "2022-11-14T14:29:48.248Z"
   },
   {
    "duration": 186,
    "start_time": "2022-11-14T14:29:48.649Z"
   },
   {
    "duration": 185,
    "start_time": "2022-11-14T14:29:49.175Z"
   },
   {
    "duration": 174,
    "start_time": "2022-11-14T14:29:50.050Z"
   },
   {
    "duration": 6,
    "start_time": "2022-11-14T14:29:50.771Z"
   },
   {
    "duration": 12,
    "start_time": "2022-11-14T14:29:50.925Z"
   },
   {
    "duration": 5,
    "start_time": "2022-11-14T14:29:51.159Z"
   },
   {
    "duration": 391,
    "start_time": "2022-11-14T14:29:51.325Z"
   },
   {
    "duration": 341,
    "start_time": "2022-11-14T14:29:52.038Z"
   },
   {
    "duration": 51,
    "start_time": "2022-11-14T14:29:52.738Z"
   },
   {
    "duration": 3725,
    "start_time": "2022-11-14T14:29:53.280Z"
   },
   {
    "duration": 12,
    "start_time": "2022-11-14T14:29:57.007Z"
   },
   {
    "duration": 25,
    "start_time": "2022-11-14T14:29:57.021Z"
   },
   {
    "duration": 398,
    "start_time": "2022-11-14T14:29:57.048Z"
   },
   {
    "duration": 434,
    "start_time": "2022-11-14T14:29:57.448Z"
   },
   {
    "duration": 394,
    "start_time": "2022-11-14T14:29:57.884Z"
   },
   {
    "duration": 10,
    "start_time": "2022-11-14T14:29:58.280Z"
   },
   {
    "duration": 18,
    "start_time": "2022-11-14T14:29:58.292Z"
   },
   {
    "duration": 114,
    "start_time": "2022-11-14T14:29:58.312Z"
   },
   {
    "duration": 0,
    "start_time": "2022-11-14T14:29:58.428Z"
   },
   {
    "duration": 12,
    "start_time": "2022-11-14T14:30:57.454Z"
   },
   {
    "duration": 16,
    "start_time": "2022-11-14T14:31:29.239Z"
   },
   {
    "duration": 9,
    "start_time": "2022-11-14T14:32:12.312Z"
   },
   {
    "duration": 4,
    "start_time": "2022-11-14T14:32:28.431Z"
   },
   {
    "duration": 12,
    "start_time": "2022-11-14T14:33:47.822Z"
   },
   {
    "duration": 12,
    "start_time": "2022-11-14T14:34:21.926Z"
   },
   {
    "duration": 76,
    "start_time": "2022-11-14T14:35:34.628Z"
   },
   {
    "duration": 8,
    "start_time": "2022-11-14T14:36:12.142Z"
   },
   {
    "duration": 13,
    "start_time": "2022-11-14T14:36:48.131Z"
   },
   {
    "duration": 5,
    "start_time": "2022-11-14T14:36:52.068Z"
   },
   {
    "duration": 90,
    "start_time": "2022-11-14T14:37:21.281Z"
   },
   {
    "duration": 10,
    "start_time": "2022-11-14T14:37:43.589Z"
   },
   {
    "duration": 7,
    "start_time": "2022-11-14T14:37:48.243Z"
   },
   {
    "duration": 8,
    "start_time": "2022-11-14T14:38:10.243Z"
   },
   {
    "duration": 10,
    "start_time": "2022-11-14T14:38:30.950Z"
   },
   {
    "duration": 6,
    "start_time": "2022-11-14T14:38:32.131Z"
   },
   {
    "duration": 77,
    "start_time": "2022-11-14T14:39:57.223Z"
   },
   {
    "duration": 29,
    "start_time": "2022-11-14T14:40:08.721Z"
   },
   {
    "duration": 5,
    "start_time": "2022-11-14T14:40:10.309Z"
   },
   {
    "duration": 4,
    "start_time": "2022-11-14T14:40:43.151Z"
   },
   {
    "duration": 140,
    "start_time": "2022-11-14T14:40:57.518Z"
   },
   {
    "duration": 15,
    "start_time": "2022-11-14T14:40:59.098Z"
   },
   {
    "duration": 55,
    "start_time": "2022-11-14T14:41:22.809Z"
   },
   {
    "duration": 6,
    "start_time": "2022-11-14T14:41:27.342Z"
   },
   {
    "duration": 7,
    "start_time": "2022-11-14T14:41:28.053Z"
   },
   {
    "duration": 6,
    "start_time": "2022-11-14T14:41:37.122Z"
   },
   {
    "duration": 8,
    "start_time": "2022-11-14T14:41:38.506Z"
   },
   {
    "duration": 7,
    "start_time": "2022-11-14T14:41:38.725Z"
   },
   {
    "duration": 7,
    "start_time": "2022-11-14T14:41:40.472Z"
   },
   {
    "duration": 7,
    "start_time": "2022-11-14T14:41:41.081Z"
   },
   {
    "duration": 6,
    "start_time": "2022-11-14T14:41:41.239Z"
   },
   {
    "duration": 6,
    "start_time": "2022-11-14T14:41:43.842Z"
   },
   {
    "duration": 7,
    "start_time": "2022-11-14T14:41:44.852Z"
   },
   {
    "duration": 7,
    "start_time": "2022-11-14T14:41:45.115Z"
   },
   {
    "duration": 7,
    "start_time": "2022-11-14T14:41:45.410Z"
   },
   {
    "duration": 1181,
    "start_time": "2022-11-14T14:41:56.131Z"
   },
   {
    "duration": 90,
    "start_time": "2022-11-14T14:41:57.671Z"
   },
   {
    "duration": 4,
    "start_time": "2022-11-14T14:41:59.661Z"
   },
   {
    "duration": 15,
    "start_time": "2022-11-14T14:42:00.672Z"
   },
   {
    "duration": 23,
    "start_time": "2022-11-14T14:42:04.631Z"
   },
   {
    "duration": 7,
    "start_time": "2022-11-14T14:42:05.512Z"
   },
   {
    "duration": 12,
    "start_time": "2022-11-14T14:42:05.709Z"
   },
   {
    "duration": 31,
    "start_time": "2022-11-14T14:42:05.945Z"
   },
   {
    "duration": 10,
    "start_time": "2022-11-14T14:42:06.474Z"
   },
   {
    "duration": 44,
    "start_time": "2022-11-14T14:42:06.680Z"
   },
   {
    "duration": 7,
    "start_time": "2022-11-14T14:42:06.915Z"
   },
   {
    "duration": 25,
    "start_time": "2022-11-14T14:42:07.349Z"
   },
   {
    "duration": 5,
    "start_time": "2022-11-14T14:42:07.851Z"
   },
   {
    "duration": 50,
    "start_time": "2022-11-14T14:42:08.464Z"
   },
   {
    "duration": 27,
    "start_time": "2022-11-14T14:42:08.873Z"
   },
   {
    "duration": 51,
    "start_time": "2022-11-14T14:42:09.084Z"
   },
   {
    "duration": 23,
    "start_time": "2022-11-14T14:42:09.718Z"
   },
   {
    "duration": 328,
    "start_time": "2022-11-14T14:42:10.308Z"
   },
   {
    "duration": 8,
    "start_time": "2022-11-14T14:42:10.638Z"
   },
   {
    "duration": 8,
    "start_time": "2022-11-14T14:42:10.928Z"
   },
   {
    "duration": 12,
    "start_time": "2022-11-14T14:42:11.771Z"
   },
   {
    "duration": 203,
    "start_time": "2022-11-14T14:42:12.125Z"
   },
   {
    "duration": 231,
    "start_time": "2022-11-14T14:42:12.480Z"
   },
   {
    "duration": 223,
    "start_time": "2022-11-14T14:42:12.874Z"
   },
   {
    "duration": 199,
    "start_time": "2022-11-14T14:42:13.259Z"
   },
   {
    "duration": 202,
    "start_time": "2022-11-14T14:42:13.634Z"
   },
   {
    "duration": 190,
    "start_time": "2022-11-14T14:42:14.364Z"
   },
   {
    "duration": 6,
    "start_time": "2022-11-14T14:42:14.994Z"
   },
   {
    "duration": 12,
    "start_time": "2022-11-14T14:42:15.174Z"
   },
   {
    "duration": 5,
    "start_time": "2022-11-14T14:42:15.354Z"
   },
   {
    "duration": 453,
    "start_time": "2022-11-14T14:42:15.639Z"
   },
   {
    "duration": 379,
    "start_time": "2022-11-14T14:42:16.274Z"
   },
   {
    "duration": 61,
    "start_time": "2022-11-14T14:42:16.914Z"
   },
   {
    "duration": 4129,
    "start_time": "2022-11-14T14:42:17.343Z"
   },
   {
    "duration": 15,
    "start_time": "2022-11-14T14:42:21.474Z"
   },
   {
    "duration": 28,
    "start_time": "2022-11-14T14:42:21.504Z"
   },
   {
    "duration": 418,
    "start_time": "2022-11-14T14:42:21.534Z"
   },
   {
    "duration": 477,
    "start_time": "2022-11-14T14:42:21.954Z"
   },
   {
    "duration": 427,
    "start_time": "2022-11-14T14:42:22.433Z"
   },
   {
    "duration": 12,
    "start_time": "2022-11-14T14:42:22.862Z"
   },
   {
    "duration": 5,
    "start_time": "2022-11-14T14:42:22.877Z"
   },
   {
    "duration": 36,
    "start_time": "2022-11-14T14:42:22.884Z"
   },
   {
    "duration": 17,
    "start_time": "2022-11-14T14:42:22.922Z"
   },
   {
    "duration": 5,
    "start_time": "2022-11-14T14:42:23.384Z"
   },
   {
    "duration": 3,
    "start_time": "2022-11-14T14:43:16.891Z"
   },
   {
    "duration": 4,
    "start_time": "2022-11-14T14:43:27.311Z"
   },
   {
    "duration": 75,
    "start_time": "2022-11-14T14:43:30.253Z"
   },
   {
    "duration": 4,
    "start_time": "2022-11-14T14:43:31.288Z"
   },
   {
    "duration": 15,
    "start_time": "2022-11-14T14:43:31.493Z"
   },
   {
    "duration": 21,
    "start_time": "2022-11-14T14:43:31.939Z"
   },
   {
    "duration": 7,
    "start_time": "2022-11-14T14:43:32.612Z"
   },
   {
    "duration": 9,
    "start_time": "2022-11-14T14:43:32.805Z"
   },
   {
    "duration": 23,
    "start_time": "2022-11-14T14:43:33.019Z"
   },
   {
    "duration": 6,
    "start_time": "2022-11-14T14:43:33.465Z"
   },
   {
    "duration": 35,
    "start_time": "2022-11-14T14:43:33.679Z"
   },
   {
    "duration": 7,
    "start_time": "2022-11-14T14:43:33.915Z"
   },
   {
    "duration": 24,
    "start_time": "2022-11-14T14:43:34.364Z"
   },
   {
    "duration": 6,
    "start_time": "2022-11-14T14:43:34.754Z"
   },
   {
    "duration": 43,
    "start_time": "2022-11-14T14:43:35.491Z"
   },
   {
    "duration": 19,
    "start_time": "2022-11-14T14:43:35.889Z"
   },
   {
    "duration": 45,
    "start_time": "2022-11-14T14:43:36.169Z"
   },
   {
    "duration": 22,
    "start_time": "2022-11-14T14:43:36.911Z"
   },
   {
    "duration": 435,
    "start_time": "2022-11-14T14:43:37.579Z"
   },
   {
    "duration": 7,
    "start_time": "2022-11-14T14:43:38.016Z"
   },
   {
    "duration": 9,
    "start_time": "2022-11-14T14:43:38.524Z"
   },
   {
    "duration": 11,
    "start_time": "2022-11-14T14:43:39.090Z"
   },
   {
    "duration": 188,
    "start_time": "2022-11-14T14:43:39.921Z"
   },
   {
    "duration": 226,
    "start_time": "2022-11-14T14:43:40.111Z"
   },
   {
    "duration": 219,
    "start_time": "2022-11-14T14:43:40.488Z"
   },
   {
    "duration": 217,
    "start_time": "2022-11-14T14:43:40.989Z"
   },
   {
    "duration": 219,
    "start_time": "2022-11-14T14:43:41.479Z"
   },
   {
    "duration": 199,
    "start_time": "2022-11-14T14:43:42.516Z"
   },
   {
    "duration": 5,
    "start_time": "2022-11-14T14:43:43.190Z"
   },
   {
    "duration": 13,
    "start_time": "2022-11-14T14:43:43.435Z"
   },
   {
    "duration": 5,
    "start_time": "2022-11-14T14:43:43.694Z"
   },
   {
    "duration": 336,
    "start_time": "2022-11-14T14:43:43.914Z"
   },
   {
    "duration": 344,
    "start_time": "2022-11-14T14:43:44.663Z"
   },
   {
    "duration": 20,
    "start_time": "2022-11-14T14:43:45.463Z"
   },
   {
    "duration": 4030,
    "start_time": "2022-11-14T14:43:46.023Z"
   },
   {
    "duration": 14,
    "start_time": "2022-11-14T14:43:50.055Z"
   },
   {
    "duration": 40,
    "start_time": "2022-11-14T14:43:50.070Z"
   },
   {
    "duration": 423,
    "start_time": "2022-11-14T14:43:50.112Z"
   },
   {
    "duration": 413,
    "start_time": "2022-11-14T14:43:50.537Z"
   },
   {
    "duration": 391,
    "start_time": "2022-11-14T14:43:50.951Z"
   },
   {
    "duration": 11,
    "start_time": "2022-11-14T14:43:51.344Z"
   },
   {
    "duration": 6,
    "start_time": "2022-11-14T14:43:52.623Z"
   },
   {
    "duration": 5,
    "start_time": "2022-11-14T14:43:54.633Z"
   },
   {
    "duration": 48,
    "start_time": "2022-11-14T14:46:11.450Z"
   },
   {
    "duration": 7,
    "start_time": "2022-11-14T14:46:28.922Z"
   },
   {
    "duration": 8,
    "start_time": "2022-11-14T14:46:43.312Z"
   },
   {
    "duration": 1212,
    "start_time": "2022-11-14T14:47:01.630Z"
   },
   {
    "duration": 83,
    "start_time": "2022-11-14T14:47:02.843Z"
   },
   {
    "duration": 4,
    "start_time": "2022-11-14T14:47:02.927Z"
   },
   {
    "duration": 21,
    "start_time": "2022-11-14T14:47:02.934Z"
   },
   {
    "duration": 32,
    "start_time": "2022-11-14T14:47:02.957Z"
   },
   {
    "duration": 17,
    "start_time": "2022-11-14T14:47:02.991Z"
   },
   {
    "duration": 13,
    "start_time": "2022-11-14T14:47:03.010Z"
   },
   {
    "duration": 23,
    "start_time": "2022-11-14T14:47:03.025Z"
   },
   {
    "duration": 8,
    "start_time": "2022-11-14T14:47:03.050Z"
   },
   {
    "duration": 55,
    "start_time": "2022-11-14T14:47:03.061Z"
   },
   {
    "duration": 7,
    "start_time": "2022-11-14T14:47:03.117Z"
   },
   {
    "duration": 38,
    "start_time": "2022-11-14T14:47:03.125Z"
   },
   {
    "duration": 5,
    "start_time": "2022-11-14T14:47:03.164Z"
   },
   {
    "duration": 55,
    "start_time": "2022-11-14T14:47:03.171Z"
   },
   {
    "duration": 17,
    "start_time": "2022-11-14T14:47:03.228Z"
   },
   {
    "duration": 38,
    "start_time": "2022-11-14T14:47:03.246Z"
   },
   {
    "duration": 40,
    "start_time": "2022-11-14T14:47:03.286Z"
   },
   {
    "duration": 351,
    "start_time": "2022-11-14T14:47:03.328Z"
   },
   {
    "duration": 6,
    "start_time": "2022-11-14T14:47:03.681Z"
   },
   {
    "duration": 18,
    "start_time": "2022-11-14T14:47:03.689Z"
   },
   {
    "duration": 17,
    "start_time": "2022-11-14T14:47:03.708Z"
   },
   {
    "duration": 210,
    "start_time": "2022-11-14T14:47:03.727Z"
   },
   {
    "duration": 249,
    "start_time": "2022-11-14T14:47:03.939Z"
   },
   {
    "duration": 230,
    "start_time": "2022-11-14T14:47:04.191Z"
   },
   {
    "duration": 230,
    "start_time": "2022-11-14T14:47:04.422Z"
   },
   {
    "duration": 213,
    "start_time": "2022-11-14T14:47:04.654Z"
   },
   {
    "duration": 202,
    "start_time": "2022-11-14T14:47:04.869Z"
   },
   {
    "duration": 6,
    "start_time": "2022-11-14T14:47:05.074Z"
   },
   {
    "duration": 44,
    "start_time": "2022-11-14T14:47:05.081Z"
   },
   {
    "duration": 11,
    "start_time": "2022-11-14T14:47:05.126Z"
   },
   {
    "duration": 426,
    "start_time": "2022-11-14T14:47:05.139Z"
   },
   {
    "duration": 373,
    "start_time": "2022-11-14T14:47:05.567Z"
   },
   {
    "duration": 64,
    "start_time": "2022-11-14T14:47:05.942Z"
   },
   {
    "duration": 4086,
    "start_time": "2022-11-14T14:47:06.007Z"
   },
   {
    "duration": 23,
    "start_time": "2022-11-14T14:47:10.094Z"
   },
   {
    "duration": 33,
    "start_time": "2022-11-14T14:47:10.119Z"
   },
   {
    "duration": 452,
    "start_time": "2022-11-14T14:47:10.154Z"
   },
   {
    "duration": 420,
    "start_time": "2022-11-14T14:47:10.608Z"
   },
   {
    "duration": 396,
    "start_time": "2022-11-14T14:47:11.030Z"
   },
   {
    "duration": 10,
    "start_time": "2022-11-14T14:47:11.428Z"
   },
   {
    "duration": 26,
    "start_time": "2022-11-14T14:47:11.439Z"
   },
   {
    "duration": 30,
    "start_time": "2022-11-14T14:47:11.466Z"
   },
   {
    "duration": 17,
    "start_time": "2022-11-14T14:47:11.498Z"
   },
   {
    "duration": 35,
    "start_time": "2022-11-14T14:47:11.517Z"
   },
   {
    "duration": 175,
    "start_time": "2022-11-14T14:47:11.554Z"
   },
   {
    "duration": 10,
    "start_time": "2022-11-14T14:49:13.415Z"
   },
   {
    "duration": 6,
    "start_time": "2022-11-14T14:49:14.973Z"
   },
   {
    "duration": 4,
    "start_time": "2022-11-14T14:49:15.872Z"
   },
   {
    "duration": 9,
    "start_time": "2022-11-14T14:49:30.211Z"
   },
   {
    "duration": 5,
    "start_time": "2022-11-14T14:49:31.602Z"
   },
   {
    "duration": 11,
    "start_time": "2022-11-14T14:49:31.897Z"
   },
   {
    "duration": 5,
    "start_time": "2022-11-14T14:49:53.380Z"
   },
   {
    "duration": 114,
    "start_time": "2022-11-14T14:52:05.043Z"
   },
   {
    "duration": 10,
    "start_time": "2022-11-14T14:52:43.112Z"
   },
   {
    "duration": 330,
    "start_time": "2022-11-14T14:52:50.632Z"
   },
   {
    "duration": 11,
    "start_time": "2022-11-14T14:53:25.253Z"
   },
   {
    "duration": 6,
    "start_time": "2022-11-14T14:54:00.943Z"
   },
   {
    "duration": 431,
    "start_time": "2022-11-14T14:56:47.960Z"
   },
   {
    "duration": 5,
    "start_time": "2022-11-14T14:56:48.590Z"
   },
   {
    "duration": 860,
    "start_time": "2022-11-14T14:57:51.682Z"
   },
   {
    "duration": 1057,
    "start_time": "2022-11-14T14:58:09.465Z"
   },
   {
    "duration": 77,
    "start_time": "2022-11-14T14:58:10.524Z"
   },
   {
    "duration": 3,
    "start_time": "2022-11-14T14:58:10.603Z"
   },
   {
    "duration": 32,
    "start_time": "2022-11-14T14:58:10.608Z"
   },
   {
    "duration": 43,
    "start_time": "2022-11-14T14:58:10.642Z"
   },
   {
    "duration": 23,
    "start_time": "2022-11-14T14:58:10.686Z"
   },
   {
    "duration": 40,
    "start_time": "2022-11-14T14:58:10.711Z"
   },
   {
    "duration": 36,
    "start_time": "2022-11-14T14:58:10.753Z"
   },
   {
    "duration": 28,
    "start_time": "2022-11-14T14:58:10.791Z"
   },
   {
    "duration": 50,
    "start_time": "2022-11-14T14:58:10.822Z"
   },
   {
    "duration": 7,
    "start_time": "2022-11-14T14:58:10.873Z"
   },
   {
    "duration": 32,
    "start_time": "2022-11-14T14:58:10.881Z"
   },
   {
    "duration": 4,
    "start_time": "2022-11-14T14:58:10.914Z"
   },
   {
    "duration": 53,
    "start_time": "2022-11-14T14:58:10.919Z"
   },
   {
    "duration": 15,
    "start_time": "2022-11-14T14:58:10.974Z"
   },
   {
    "duration": 50,
    "start_time": "2022-11-14T14:58:10.991Z"
   },
   {
    "duration": 20,
    "start_time": "2022-11-14T14:58:11.043Z"
   },
   {
    "duration": 323,
    "start_time": "2022-11-14T14:58:11.065Z"
   },
   {
    "duration": 18,
    "start_time": "2022-11-14T14:58:11.390Z"
   },
   {
    "duration": 8,
    "start_time": "2022-11-14T14:58:11.409Z"
   },
   {
    "duration": 10,
    "start_time": "2022-11-14T14:58:11.418Z"
   },
   {
    "duration": 203,
    "start_time": "2022-11-14T14:58:11.430Z"
   },
   {
    "duration": 197,
    "start_time": "2022-11-14T14:58:11.634Z"
   },
   {
    "duration": 194,
    "start_time": "2022-11-14T14:58:11.832Z"
   },
   {
    "duration": 195,
    "start_time": "2022-11-14T14:58:12.028Z"
   },
   {
    "duration": 205,
    "start_time": "2022-11-14T14:58:12.224Z"
   },
   {
    "duration": 191,
    "start_time": "2022-11-14T14:58:12.431Z"
   },
   {
    "duration": 5,
    "start_time": "2022-11-14T14:58:12.625Z"
   },
   {
    "duration": 15,
    "start_time": "2022-11-14T14:58:12.631Z"
   },
   {
    "duration": 3,
    "start_time": "2022-11-14T14:58:12.647Z"
   },
   {
    "duration": 386,
    "start_time": "2022-11-14T14:58:12.652Z"
   },
   {
    "duration": 347,
    "start_time": "2022-11-14T14:58:13.039Z"
   },
   {
    "duration": 68,
    "start_time": "2022-11-14T14:58:13.388Z"
   },
   {
    "duration": 3565,
    "start_time": "2022-11-14T14:58:13.457Z"
   },
   {
    "duration": 13,
    "start_time": "2022-11-14T14:58:17.024Z"
   },
   {
    "duration": 20,
    "start_time": "2022-11-14T14:58:17.038Z"
   },
   {
    "duration": 374,
    "start_time": "2022-11-14T14:58:17.060Z"
   },
   {
    "duration": 445,
    "start_time": "2022-11-14T14:58:17.436Z"
   },
   {
    "duration": 391,
    "start_time": "2022-11-14T14:58:17.883Z"
   },
   {
    "duration": 9,
    "start_time": "2022-11-14T14:58:18.276Z"
   },
   {
    "duration": 19,
    "start_time": "2022-11-14T14:58:18.286Z"
   },
   {
    "duration": 12,
    "start_time": "2022-11-14T14:58:18.306Z"
   },
   {
    "duration": 14,
    "start_time": "2022-11-14T14:58:18.319Z"
   },
   {
    "duration": 359,
    "start_time": "2022-11-14T14:58:18.334Z"
   },
   {
    "duration": 10,
    "start_time": "2022-11-14T14:58:18.695Z"
   },
   {
    "duration": 929,
    "start_time": "2022-11-14T14:58:18.707Z"
   },
   {
    "duration": 11,
    "start_time": "2022-11-14T14:58:29.365Z"
   },
   {
    "duration": 890,
    "start_time": "2022-11-14T14:58:48.558Z"
   },
   {
    "duration": 75,
    "start_time": "2022-11-14T15:02:28.032Z"
   },
   {
    "duration": 74,
    "start_time": "2022-11-14T15:03:04.331Z"
   },
   {
    "duration": 75,
    "start_time": "2022-11-14T15:04:01.891Z"
   },
   {
    "duration": 821,
    "start_time": "2022-11-14T15:04:08.024Z"
   },
   {
    "duration": 9,
    "start_time": "2022-11-14T15:06:18.209Z"
   },
   {
    "duration": 9,
    "start_time": "2022-11-14T15:06:19.348Z"
   },
   {
    "duration": 10,
    "start_time": "2022-11-14T15:06:21.501Z"
   },
   {
    "duration": 10,
    "start_time": "2022-11-14T15:06:22.224Z"
   },
   {
    "duration": 10,
    "start_time": "2022-11-14T15:06:23.320Z"
   },
   {
    "duration": 437,
    "start_time": "2022-11-14T15:06:24.545Z"
   },
   {
    "duration": 6,
    "start_time": "2022-11-14T15:06:25.703Z"
   },
   {
    "duration": 77,
    "start_time": "2022-11-14T15:06:28.653Z"
   },
   {
    "duration": 853,
    "start_time": "2022-11-14T15:06:39.435Z"
   },
   {
    "duration": 1096,
    "start_time": "2022-11-14T15:10:40.925Z"
   },
   {
    "duration": 85,
    "start_time": "2022-11-14T15:10:42.023Z"
   },
   {
    "duration": 3,
    "start_time": "2022-11-14T15:10:42.110Z"
   },
   {
    "duration": 19,
    "start_time": "2022-11-14T15:10:42.115Z"
   },
   {
    "duration": 32,
    "start_time": "2022-11-14T15:10:42.135Z"
   },
   {
    "duration": 7,
    "start_time": "2022-11-14T15:10:42.169Z"
   },
   {
    "duration": 33,
    "start_time": "2022-11-14T15:10:42.178Z"
   },
   {
    "duration": 25,
    "start_time": "2022-11-14T15:10:42.213Z"
   },
   {
    "duration": 18,
    "start_time": "2022-11-14T15:10:42.240Z"
   },
   {
    "duration": 41,
    "start_time": "2022-11-14T15:10:42.261Z"
   },
   {
    "duration": 9,
    "start_time": "2022-11-14T15:10:42.303Z"
   },
   {
    "duration": 38,
    "start_time": "2022-11-14T15:10:42.313Z"
   },
   {
    "duration": 6,
    "start_time": "2022-11-14T15:10:42.353Z"
   },
   {
    "duration": 53,
    "start_time": "2022-11-14T15:10:42.360Z"
   },
   {
    "duration": 17,
    "start_time": "2022-11-14T15:10:42.415Z"
   },
   {
    "duration": 57,
    "start_time": "2022-11-14T15:10:42.433Z"
   },
   {
    "duration": 28,
    "start_time": "2022-11-14T15:10:42.491Z"
   },
   {
    "duration": 341,
    "start_time": "2022-11-14T15:10:42.520Z"
   },
   {
    "duration": 6,
    "start_time": "2022-11-14T15:10:42.863Z"
   },
   {
    "duration": 13,
    "start_time": "2022-11-14T15:10:42.871Z"
   },
   {
    "duration": 23,
    "start_time": "2022-11-14T15:10:42.886Z"
   },
   {
    "duration": 203,
    "start_time": "2022-11-14T15:10:42.911Z"
   },
   {
    "duration": 217,
    "start_time": "2022-11-14T15:10:43.116Z"
   },
   {
    "duration": 219,
    "start_time": "2022-11-14T15:10:43.335Z"
   },
   {
    "duration": 206,
    "start_time": "2022-11-14T15:10:43.556Z"
   },
   {
    "duration": 214,
    "start_time": "2022-11-14T15:10:43.764Z"
   },
   {
    "duration": 192,
    "start_time": "2022-11-14T15:10:43.979Z"
   },
   {
    "duration": 6,
    "start_time": "2022-11-14T15:10:44.176Z"
   },
   {
    "duration": 30,
    "start_time": "2022-11-14T15:10:44.184Z"
   },
   {
    "duration": 5,
    "start_time": "2022-11-14T15:10:44.216Z"
   },
   {
    "duration": 417,
    "start_time": "2022-11-14T15:10:44.222Z"
   },
   {
    "duration": 344,
    "start_time": "2022-11-14T15:10:44.641Z"
   },
   {
    "duration": 62,
    "start_time": "2022-11-14T15:10:44.986Z"
   },
   {
    "duration": 3865,
    "start_time": "2022-11-14T15:10:45.050Z"
   },
   {
    "duration": 13,
    "start_time": "2022-11-14T15:10:48.917Z"
   },
   {
    "duration": 20,
    "start_time": "2022-11-14T15:10:48.932Z"
   },
   {
    "duration": 435,
    "start_time": "2022-11-14T15:10:48.953Z"
   },
   {
    "duration": 428,
    "start_time": "2022-11-14T15:10:49.390Z"
   },
   {
    "duration": 410,
    "start_time": "2022-11-14T15:10:49.820Z"
   },
   {
    "duration": 11,
    "start_time": "2022-11-14T15:10:50.232Z"
   },
   {
    "duration": 7,
    "start_time": "2022-11-14T15:10:50.245Z"
   },
   {
    "duration": 25,
    "start_time": "2022-11-14T15:10:50.254Z"
   },
   {
    "duration": 30,
    "start_time": "2022-11-14T15:10:50.281Z"
   },
   {
    "duration": 337,
    "start_time": "2022-11-14T15:10:50.313Z"
   },
   {
    "duration": 5,
    "start_time": "2022-11-14T15:10:50.652Z"
   },
   {
    "duration": 1085,
    "start_time": "2022-11-14T15:10:50.658Z"
   },
   {
    "duration": 0,
    "start_time": "2022-11-14T15:10:51.745Z"
   },
   {
    "duration": 1333,
    "start_time": "2022-11-15T09:14:03.430Z"
   },
   {
    "duration": 231,
    "start_time": "2022-11-15T09:14:04.766Z"
   },
   {
    "duration": 3,
    "start_time": "2022-11-15T09:14:04.999Z"
   },
   {
    "duration": 28,
    "start_time": "2022-11-15T09:14:05.005Z"
   },
   {
    "duration": 31,
    "start_time": "2022-11-15T09:14:05.035Z"
   },
   {
    "duration": 9,
    "start_time": "2022-11-15T09:14:05.068Z"
   },
   {
    "duration": 10,
    "start_time": "2022-11-15T09:14:05.079Z"
   },
   {
    "duration": 38,
    "start_time": "2022-11-15T09:14:05.091Z"
   },
   {
    "duration": 14,
    "start_time": "2022-11-15T09:14:05.131Z"
   },
   {
    "duration": 45,
    "start_time": "2022-11-15T09:14:05.149Z"
   },
   {
    "duration": 21,
    "start_time": "2022-11-15T09:14:05.196Z"
   },
   {
    "duration": 41,
    "start_time": "2022-11-15T09:14:05.220Z"
   },
   {
    "duration": 6,
    "start_time": "2022-11-15T09:14:05.263Z"
   },
   {
    "duration": 77,
    "start_time": "2022-11-15T09:14:05.272Z"
   },
   {
    "duration": 17,
    "start_time": "2022-11-15T09:14:05.351Z"
   },
   {
    "duration": 63,
    "start_time": "2022-11-15T09:14:05.370Z"
   },
   {
    "duration": 22,
    "start_time": "2022-11-15T09:14:05.435Z"
   },
   {
    "duration": 364,
    "start_time": "2022-11-15T09:14:05.459Z"
   },
   {
    "duration": 7,
    "start_time": "2022-11-15T09:14:05.825Z"
   },
   {
    "duration": 17,
    "start_time": "2022-11-15T09:14:05.834Z"
   },
   {
    "duration": 233,
    "start_time": "2022-11-15T09:14:05.852Z"
   },
   {
    "duration": 11,
    "start_time": "2022-11-15T09:14:06.087Z"
   },
   {
    "duration": 242,
    "start_time": "2022-11-15T09:14:06.100Z"
   },
   {
    "duration": 293,
    "start_time": "2022-11-15T09:14:06.345Z"
   },
   {
    "duration": 227,
    "start_time": "2022-11-15T09:14:06.640Z"
   },
   {
    "duration": 218,
    "start_time": "2022-11-15T09:14:06.869Z"
   },
   {
    "duration": 218,
    "start_time": "2022-11-15T09:14:07.089Z"
   },
   {
    "duration": 197,
    "start_time": "2022-11-15T09:14:07.311Z"
   },
   {
    "duration": 6,
    "start_time": "2022-11-15T09:14:07.511Z"
   },
   {
    "duration": 20,
    "start_time": "2022-11-15T09:14:07.519Z"
   },
   {
    "duration": 5,
    "start_time": "2022-11-15T09:14:07.541Z"
   },
   {
    "duration": 442,
    "start_time": "2022-11-15T09:14:07.548Z"
   },
   {
    "duration": 382,
    "start_time": "2022-11-15T09:14:07.991Z"
   },
   {
    "duration": 56,
    "start_time": "2022-11-15T09:14:08.375Z"
   },
   {
    "duration": 4056,
    "start_time": "2022-11-15T09:14:08.433Z"
   },
   {
    "duration": 25,
    "start_time": "2022-11-15T09:14:12.491Z"
   },
   {
    "duration": 20,
    "start_time": "2022-11-15T09:14:12.518Z"
   },
   {
    "duration": 460,
    "start_time": "2022-11-15T09:14:12.540Z"
   },
   {
    "duration": 452,
    "start_time": "2022-11-15T09:14:13.001Z"
   },
   {
    "duration": 422,
    "start_time": "2022-11-15T09:14:13.455Z"
   },
   {
    "duration": 9,
    "start_time": "2022-11-15T09:14:13.879Z"
   },
   {
    "duration": 8,
    "start_time": "2022-11-15T09:14:13.890Z"
   },
   {
    "duration": 25,
    "start_time": "2022-11-15T09:14:13.913Z"
   },
   {
    "duration": 21,
    "start_time": "2022-11-15T09:14:13.940Z"
   },
   {
    "duration": 374,
    "start_time": "2022-11-15T09:14:13.963Z"
   },
   {
    "duration": 6,
    "start_time": "2022-11-15T09:14:14.339Z"
   },
   {
    "duration": 518,
    "start_time": "2022-11-15T09:28:21.738Z"
   },
   {
    "duration": 146,
    "start_time": "2022-11-15T09:28:29.124Z"
   },
   {
    "duration": 405,
    "start_time": "2022-11-15T09:28:34.864Z"
   },
   {
    "duration": 6,
    "start_time": "2022-11-15T09:29:21.162Z"
   },
   {
    "duration": 6,
    "start_time": "2022-11-15T09:29:25.288Z"
   },
   {
    "duration": 1301,
    "start_time": "2022-11-15T11:59:04.993Z"
   },
   {
    "duration": 226,
    "start_time": "2022-11-15T11:59:06.598Z"
   },
   {
    "duration": 77,
    "start_time": "2022-11-15T12:04:49.284Z"
   },
   {
    "duration": 50,
    "start_time": "2022-11-15T12:58:08.577Z"
   },
   {
    "duration": 1323,
    "start_time": "2022-11-15T12:58:45.010Z"
   },
   {
    "duration": 246,
    "start_time": "2022-11-15T12:58:46.335Z"
   },
   {
    "duration": 1079,
    "start_time": "2022-11-15T12:58:49.781Z"
   },
   {
    "duration": 3,
    "start_time": "2022-11-15T12:59:21.739Z"
   },
   {
    "duration": 14,
    "start_time": "2022-11-15T12:59:22.493Z"
   },
   {
    "duration": 21,
    "start_time": "2022-11-15T12:59:28.913Z"
   },
   {
    "duration": 7,
    "start_time": "2022-11-15T12:59:33.771Z"
   },
   {
    "duration": 9,
    "start_time": "2022-11-15T12:59:34.295Z"
   },
   {
    "duration": 26,
    "start_time": "2022-11-15T12:59:40.049Z"
   },
   {
    "duration": 7,
    "start_time": "2022-11-15T12:59:47.755Z"
   },
   {
    "duration": 32,
    "start_time": "2022-11-15T12:59:49.003Z"
   },
   {
    "duration": 7,
    "start_time": "2022-11-15T12:59:49.895Z"
   },
   {
    "duration": 24,
    "start_time": "2022-11-15T12:59:51.537Z"
   },
   {
    "duration": 4,
    "start_time": "2022-11-15T12:59:54.693Z"
   },
   {
    "duration": 11,
    "start_time": "2022-11-15T13:00:04.425Z"
   },
   {
    "duration": 10,
    "start_time": "2022-11-15T13:00:14.111Z"
   },
   {
    "duration": 8,
    "start_time": "2022-11-15T13:00:26.951Z"
   },
   {
    "duration": 1326,
    "start_time": "2022-11-15T13:07:24.090Z"
   },
   {
    "duration": 219,
    "start_time": "2022-11-15T13:07:25.736Z"
   },
   {
    "duration": 3,
    "start_time": "2022-11-15T13:08:51.305Z"
   },
   {
    "duration": 79,
    "start_time": "2022-11-15T13:08:51.623Z"
   },
   {
    "duration": 4,
    "start_time": "2022-11-15T13:08:54.183Z"
   },
   {
    "duration": 13,
    "start_time": "2022-11-15T13:08:54.495Z"
   },
   {
    "duration": 20,
    "start_time": "2022-11-15T13:08:55.620Z"
   },
   {
    "duration": 6,
    "start_time": "2022-11-15T13:08:56.976Z"
   },
   {
    "duration": 10,
    "start_time": "2022-11-15T13:08:57.261Z"
   },
   {
    "duration": 26,
    "start_time": "2022-11-15T13:08:58.071Z"
   },
   {
    "duration": 6,
    "start_time": "2022-11-15T13:08:59.959Z"
   },
   {
    "duration": 32,
    "start_time": "2022-11-15T13:09:00.947Z"
   },
   {
    "duration": 7,
    "start_time": "2022-11-15T13:09:01.573Z"
   },
   {
    "duration": 21,
    "start_time": "2022-11-15T13:09:05.293Z"
   },
   {
    "duration": 4,
    "start_time": "2022-11-15T13:09:06.964Z"
   },
   {
    "duration": 41,
    "start_time": "2022-11-15T13:10:20.449Z"
   },
   {
    "duration": 17,
    "start_time": "2022-11-15T13:10:23.479Z"
   },
   {
    "duration": 40,
    "start_time": "2022-11-15T13:10:26.682Z"
   },
   {
    "duration": 21,
    "start_time": "2022-11-15T13:10:35.307Z"
   },
   {
    "duration": 315,
    "start_time": "2022-11-15T13:10:50.262Z"
   },
   {
    "duration": 7,
    "start_time": "2022-11-15T13:10:50.990Z"
   },
   {
    "duration": 9,
    "start_time": "2022-11-15T13:10:52.582Z"
   },
   {
    "duration": 12,
    "start_time": "2022-11-15T13:10:55.542Z"
   },
   {
    "duration": 183,
    "start_time": "2022-11-15T13:10:56.780Z"
   },
   {
    "duration": 222,
    "start_time": "2022-11-15T13:10:57.895Z"
   },
   {
    "duration": 218,
    "start_time": "2022-11-15T13:10:59.014Z"
   },
   {
    "duration": 194,
    "start_time": "2022-11-15T13:11:00.231Z"
   },
   {
    "duration": 199,
    "start_time": "2022-11-15T13:11:01.461Z"
   },
   {
    "duration": 170,
    "start_time": "2022-11-15T13:11:04.475Z"
   },
   {
    "duration": 167,
    "start_time": "2022-11-15T13:12:10.425Z"
   },
   {
    "duration": 102,
    "start_time": "2022-11-15T13:18:13.524Z"
   },
   {
    "duration": 5,
    "start_time": "2022-11-15T13:18:26.962Z"
   },
   {
    "duration": 11,
    "start_time": "2022-11-15T13:18:31.042Z"
   },
   {
    "duration": 5,
    "start_time": "2022-11-15T13:18:53.999Z"
   },
   {
    "duration": 396,
    "start_time": "2022-11-15T13:19:49.255Z"
   },
   {
    "duration": 333,
    "start_time": "2022-11-15T13:22:08.464Z"
   },
   {
    "duration": 54,
    "start_time": "2022-11-15T13:23:50.574Z"
   },
   {
    "duration": 3791,
    "start_time": "2022-11-15T13:23:52.805Z"
   },
   {
    "duration": 6,
    "start_time": "2022-11-15T13:25:43.354Z"
   },
   {
    "duration": 17,
    "start_time": "2022-11-15T13:25:52.367Z"
   },
   {
    "duration": 1975,
    "start_time": "2022-11-15T13:27:16.529Z"
   },
   {
    "duration": 11,
    "start_time": "2022-11-15T13:29:56.175Z"
   },
   {
    "duration": 8,
    "start_time": "2022-11-15T13:30:25.933Z"
   },
   {
    "duration": 951,
    "start_time": "2022-11-15T13:31:11.028Z"
   },
   {
    "duration": 160,
    "start_time": "2022-11-15T13:31:28.788Z"
   },
   {
    "duration": 161,
    "start_time": "2022-11-15T13:31:43.030Z"
   },
   {
    "duration": 48,
    "start_time": "2022-11-15T13:33:37.642Z"
   },
   {
    "duration": 187,
    "start_time": "2022-11-15T13:33:49.116Z"
   },
   {
    "duration": 2082,
    "start_time": "2022-11-15T13:34:41.641Z"
   },
   {
    "duration": 1766,
    "start_time": "2022-11-15T13:35:12.849Z"
   },
   {
    "duration": 3896,
    "start_time": "2022-11-15T13:37:28.459Z"
   },
   {
    "duration": 3808,
    "start_time": "2022-11-15T13:37:51.338Z"
   },
   {
    "duration": 181,
    "start_time": "2022-11-15T13:56:33.289Z"
   },
   {
    "duration": 10,
    "start_time": "2022-11-15T14:03:38.379Z"
   },
   {
    "duration": 41,
    "start_time": "2022-11-15T14:04:37.758Z"
   },
   {
    "duration": 1299,
    "start_time": "2022-11-15T14:04:42.236Z"
   },
   {
    "duration": 42,
    "start_time": "2022-11-15T14:06:30.013Z"
   },
   {
    "duration": 36,
    "start_time": "2022-11-15T14:07:48.167Z"
   },
   {
    "duration": 16,
    "start_time": "2022-11-15T14:10:23.610Z"
   },
   {
    "duration": 37,
    "start_time": "2022-11-15T14:10:32.755Z"
   },
   {
    "duration": 191,
    "start_time": "2022-11-15T14:10:34.328Z"
   },
   {
    "duration": 203,
    "start_time": "2022-11-15T14:10:50.861Z"
   },
   {
    "duration": 214,
    "start_time": "2022-11-15T14:11:30.886Z"
   },
   {
    "duration": 43,
    "start_time": "2022-11-15T14:12:49.045Z"
   },
   {
    "duration": 56,
    "start_time": "2022-11-15T14:13:07.559Z"
   },
   {
    "duration": 52,
    "start_time": "2022-11-15T14:13:17.961Z"
   },
   {
    "duration": 62,
    "start_time": "2022-11-15T14:13:34.625Z"
   },
   {
    "duration": 192,
    "start_time": "2022-11-15T14:13:51.151Z"
   },
   {
    "duration": 206,
    "start_time": "2022-11-15T14:14:09.184Z"
   },
   {
    "duration": 206,
    "start_time": "2022-11-15T14:14:20.194Z"
   },
   {
    "duration": 9,
    "start_time": "2022-11-15T14:18:22.264Z"
   },
   {
    "duration": 39,
    "start_time": "2022-11-15T14:18:56.362Z"
   },
   {
    "duration": 40,
    "start_time": "2022-11-15T14:19:12.766Z"
   },
   {
    "duration": 249,
    "start_time": "2022-11-15T14:24:17.943Z"
   },
   {
    "duration": 50,
    "start_time": "2022-11-15T14:32:23.114Z"
   },
   {
    "duration": 169,
    "start_time": "2022-11-15T14:32:53.013Z"
   },
   {
    "duration": 319,
    "start_time": "2022-11-15T14:33:05.213Z"
   },
   {
    "duration": 333,
    "start_time": "2022-11-15T14:35:55.822Z"
   },
   {
    "duration": 595,
    "start_time": "2022-11-15T14:39:31.738Z"
   },
   {
    "duration": 272,
    "start_time": "2022-11-15T14:42:47.643Z"
   },
   {
    "duration": 291,
    "start_time": "2022-11-15T14:42:56.864Z"
   },
   {
    "duration": 320,
    "start_time": "2022-11-15T14:43:15.129Z"
   },
   {
    "duration": 409,
    "start_time": "2022-11-15T14:44:03.493Z"
   },
   {
    "duration": 475,
    "start_time": "2022-11-15T14:44:07.641Z"
   },
   {
    "duration": 11,
    "start_time": "2022-11-15T14:51:12.508Z"
   },
   {
    "duration": 6,
    "start_time": "2022-11-15T14:51:15.902Z"
   },
   {
    "duration": 4,
    "start_time": "2022-11-15T14:51:21.484Z"
   },
   {
    "duration": 10,
    "start_time": "2022-11-15T14:51:23.608Z"
   },
   {
    "duration": 346,
    "start_time": "2022-11-15T14:51:24.420Z"
   },
   {
    "duration": 6,
    "start_time": "2022-11-15T14:51:24.976Z"
   },
   {
    "duration": 6,
    "start_time": "2022-11-15T14:52:05.660Z"
   },
   {
    "duration": 6,
    "start_time": "2022-11-15T14:52:21.774Z"
   },
   {
    "duration": 3,
    "start_time": "2022-11-15T14:59:22.633Z"
   },
   {
    "duration": 75,
    "start_time": "2022-11-15T14:59:22.849Z"
   },
   {
    "duration": 4,
    "start_time": "2022-11-15T14:59:24.214Z"
   },
   {
    "duration": 14,
    "start_time": "2022-11-15T14:59:24.452Z"
   },
   {
    "duration": 19,
    "start_time": "2022-11-15T14:59:25.077Z"
   },
   {
    "duration": 7,
    "start_time": "2022-11-15T14:59:25.950Z"
   },
   {
    "duration": 9,
    "start_time": "2022-11-15T14:59:26.156Z"
   },
   {
    "duration": 21,
    "start_time": "2022-11-15T14:59:26.580Z"
   },
   {
    "duration": 7,
    "start_time": "2022-11-15T14:59:27.001Z"
   },
   {
    "duration": 32,
    "start_time": "2022-11-15T14:59:27.431Z"
   },
   {
    "duration": 7,
    "start_time": "2022-11-15T14:59:27.695Z"
   },
   {
    "duration": 22,
    "start_time": "2022-11-15T14:59:28.128Z"
   },
   {
    "duration": 5,
    "start_time": "2022-11-15T14:59:28.579Z"
   },
   {
    "duration": 9,
    "start_time": "2022-11-15T14:59:29.036Z"
   },
   {
    "duration": 42,
    "start_time": "2022-11-15T14:59:29.921Z"
   },
   {
    "duration": 24,
    "start_time": "2022-11-15T14:59:30.379Z"
   },
   {
    "duration": 50,
    "start_time": "2022-11-15T14:59:30.647Z"
   },
   {
    "duration": 23,
    "start_time": "2022-11-15T14:59:31.566Z"
   },
   {
    "duration": 466,
    "start_time": "2022-11-15T14:59:32.722Z"
   },
   {
    "duration": 7,
    "start_time": "2022-11-15T14:59:33.190Z"
   },
   {
    "duration": 8,
    "start_time": "2022-11-15T14:59:33.437Z"
   },
   {
    "duration": 11,
    "start_time": "2022-11-15T14:59:34.417Z"
   },
   {
    "duration": 196,
    "start_time": "2022-11-15T14:59:34.870Z"
   },
   {
    "duration": 207,
    "start_time": "2022-11-15T14:59:35.342Z"
   },
   {
    "duration": 237,
    "start_time": "2022-11-15T14:59:35.790Z"
   },
   {
    "duration": 256,
    "start_time": "2022-11-15T14:59:36.292Z"
   },
   {
    "duration": 197,
    "start_time": "2022-11-15T14:59:36.771Z"
   },
   {
    "duration": 177,
    "start_time": "2022-11-15T14:59:38.175Z"
   },
   {
    "duration": 5,
    "start_time": "2022-11-15T14:59:38.889Z"
   },
   {
    "duration": 25,
    "start_time": "2022-11-15T14:59:39.375Z"
   },
   {
    "duration": 4,
    "start_time": "2022-11-15T14:59:39.609Z"
   },
   {
    "duration": 364,
    "start_time": "2022-11-15T14:59:39.809Z"
   },
   {
    "duration": 347,
    "start_time": "2022-11-15T14:59:40.829Z"
   },
   {
    "duration": 5,
    "start_time": "2022-11-15T14:59:42.579Z"
   },
   {
    "duration": 18,
    "start_time": "2022-11-15T14:59:42.857Z"
   },
   {
    "duration": 1749,
    "start_time": "2022-11-15T14:59:43.512Z"
   },
   {
    "duration": 3782,
    "start_time": "2022-11-15T14:59:45.264Z"
   },
   {
    "duration": 14,
    "start_time": "2022-11-15T14:59:49.048Z"
   },
   {
    "duration": 208,
    "start_time": "2022-11-15T14:59:49.064Z"
   },
   {
    "duration": 17,
    "start_time": "2022-11-15T14:59:49.274Z"
   },
   {
    "duration": 55,
    "start_time": "2022-11-15T14:59:49.293Z"
   },
   {
    "duration": 218,
    "start_time": "2022-11-15T14:59:49.349Z"
   },
   {
    "duration": 59,
    "start_time": "2022-11-15T14:59:49.569Z"
   },
   {
    "duration": 313,
    "start_time": "2022-11-15T14:59:49.630Z"
   },
   {
    "duration": 454,
    "start_time": "2022-11-15T14:59:49.945Z"
   },
   {
    "duration": 425,
    "start_time": "2022-11-15T14:59:50.443Z"
   },
   {
    "duration": 547,
    "start_time": "2022-11-15T14:59:51.171Z"
   },
   {
    "duration": 10,
    "start_time": "2022-11-15T14:59:53.369Z"
   },
   {
    "duration": 5,
    "start_time": "2022-11-15T14:59:53.831Z"
   },
   {
    "duration": 5,
    "start_time": "2022-11-15T14:59:54.080Z"
   },
   {
    "duration": 11,
    "start_time": "2022-11-15T14:59:55.145Z"
   },
   {
    "duration": 355,
    "start_time": "2022-11-15T14:59:55.425Z"
   },
   {
    "duration": 6,
    "start_time": "2022-11-15T14:59:55.782Z"
   },
   {
    "duration": 10,
    "start_time": "2022-11-15T15:01:55.288Z"
   },
   {
    "duration": 5,
    "start_time": "2022-11-15T15:02:07.681Z"
   },
   {
    "duration": 50,
    "start_time": "2022-11-16T08:31:55.109Z"
   },
   {
    "duration": 1290,
    "start_time": "2022-11-16T08:32:09.751Z"
   },
   {
    "duration": 240,
    "start_time": "2022-11-16T08:32:11.043Z"
   },
   {
    "duration": 3,
    "start_time": "2022-11-16T08:32:11.285Z"
   },
   {
    "duration": 19,
    "start_time": "2022-11-16T08:32:11.290Z"
   },
   {
    "duration": 22,
    "start_time": "2022-11-16T08:32:11.310Z"
   },
   {
    "duration": 8,
    "start_time": "2022-11-16T08:32:11.334Z"
   },
   {
    "duration": 9,
    "start_time": "2022-11-16T08:32:11.344Z"
   },
   {
    "duration": 45,
    "start_time": "2022-11-16T08:32:11.355Z"
   },
   {
    "duration": 7,
    "start_time": "2022-11-16T08:32:11.402Z"
   },
   {
    "duration": 32,
    "start_time": "2022-11-16T08:32:11.413Z"
   },
   {
    "duration": 7,
    "start_time": "2022-11-16T08:32:11.447Z"
   },
   {
    "duration": 46,
    "start_time": "2022-11-16T08:32:11.455Z"
   },
   {
    "duration": 5,
    "start_time": "2022-11-16T08:32:11.502Z"
   },
   {
    "duration": 20,
    "start_time": "2022-11-16T08:32:11.509Z"
   },
   {
    "duration": 44,
    "start_time": "2022-11-16T08:32:11.531Z"
   },
   {
    "duration": 32,
    "start_time": "2022-11-16T08:32:11.577Z"
   },
   {
    "duration": 39,
    "start_time": "2022-11-16T08:32:11.610Z"
   },
   {
    "duration": 21,
    "start_time": "2022-11-16T08:32:11.651Z"
   },
   {
    "duration": 341,
    "start_time": "2022-11-16T08:32:11.673Z"
   },
   {
    "duration": 6,
    "start_time": "2022-11-16T08:32:12.016Z"
   },
   {
    "duration": 11,
    "start_time": "2022-11-16T08:32:12.023Z"
   },
   {
    "duration": 10,
    "start_time": "2022-11-16T08:32:12.035Z"
   },
   {
    "duration": 218,
    "start_time": "2022-11-16T08:32:12.046Z"
   },
   {
    "duration": 226,
    "start_time": "2022-11-16T08:32:12.265Z"
   },
   {
    "duration": 207,
    "start_time": "2022-11-16T08:32:12.496Z"
   },
   {
    "duration": 217,
    "start_time": "2022-11-16T08:32:12.705Z"
   },
   {
    "duration": 223,
    "start_time": "2022-11-16T08:32:12.924Z"
   },
   {
    "duration": 196,
    "start_time": "2022-11-16T08:32:13.153Z"
   },
   {
    "duration": 6,
    "start_time": "2022-11-16T08:32:13.351Z"
   },
   {
    "duration": 17,
    "start_time": "2022-11-16T08:32:13.358Z"
   },
   {
    "duration": 18,
    "start_time": "2022-11-16T08:32:13.378Z"
   },
   {
    "duration": 435,
    "start_time": "2022-11-16T08:32:13.398Z"
   },
   {
    "duration": 394,
    "start_time": "2022-11-16T08:32:13.835Z"
   },
   {
    "duration": 6,
    "start_time": "2022-11-16T08:32:14.231Z"
   },
   {
    "duration": 69,
    "start_time": "2022-11-16T08:32:14.239Z"
   },
   {
    "duration": 1993,
    "start_time": "2022-11-16T08:32:14.310Z"
   },
   {
    "duration": 3541,
    "start_time": "2022-11-16T08:32:16.305Z"
   },
   {
    "duration": 13,
    "start_time": "2022-11-16T08:32:19.848Z"
   },
   {
    "duration": 195,
    "start_time": "2022-11-16T08:32:19.862Z"
   },
   {
    "duration": 18,
    "start_time": "2022-11-16T08:32:20.059Z"
   },
   {
    "duration": 53,
    "start_time": "2022-11-16T08:32:20.078Z"
   },
   {
    "duration": 252,
    "start_time": "2022-11-16T08:32:20.133Z"
   },
   {
    "duration": 41,
    "start_time": "2022-11-16T08:32:20.387Z"
   },
   {
    "duration": 303,
    "start_time": "2022-11-16T08:32:20.430Z"
   },
   {
    "duration": 503,
    "start_time": "2022-11-16T08:32:20.734Z"
   },
   {
    "duration": 412,
    "start_time": "2022-11-16T08:32:21.239Z"
   },
   {
    "duration": 389,
    "start_time": "2022-11-16T08:32:21.653Z"
   },
   {
    "duration": 8,
    "start_time": "2022-11-16T08:32:22.044Z"
   },
   {
    "duration": 22,
    "start_time": "2022-11-16T08:32:22.053Z"
   },
   {
    "duration": 10,
    "start_time": "2022-11-16T08:32:22.076Z"
   },
   {
    "duration": 12,
    "start_time": "2022-11-16T08:32:22.088Z"
   },
   {
    "duration": 341,
    "start_time": "2022-11-16T08:32:22.102Z"
   },
   {
    "duration": 4,
    "start_time": "2022-11-16T08:32:22.445Z"
   }
  ],
  "kernelspec": {
   "display_name": "Python 3 (ipykernel)",
   "language": "python",
   "name": "python3"
  },
  "language_info": {
   "codemirror_mode": {
    "name": "ipython",
    "version": 3
   },
   "file_extension": ".py",
   "mimetype": "text/x-python",
   "name": "python",
   "nbconvert_exporter": "python",
   "pygments_lexer": "ipython3",
   "version": "3.9.12"
  },
  "toc": {
   "base_numbering": 1,
   "nav_menu": {
    "height": "434px",
    "width": "250px"
   },
   "number_sections": true,
   "sideBar": true,
   "skip_h1_title": true,
   "title_cell": "Table of Contents",
   "title_sidebar": "Contents",
   "toc_cell": false,
   "toc_position": {},
   "toc_section_display": true,
   "toc_window_display": false
  }
 },
 "nbformat": 4,
 "nbformat_minor": 2
}
