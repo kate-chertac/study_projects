{
 "cells": [
  {
   "cell_type": "markdown",
   "metadata": {},
   "source": [
    "<h1>Contents<span class=\"tocSkip\"></span></h1>\n",
    "<div class=\"toc\"><ul class=\"toc-item\"><li><span><a href=\"#Data preparation\" data-toc-modified-id=\"Data preparation-1\"><span class=\"toc-item-num\">1</span>Data preparation</a></span><ul class=\"toc-item\"><li><span><a href=\"#Open-the-data-file-and-review-the-general-information\" data-toc-modified-id=\"Open-the-data-file-and-study-the-general-information-1.1\"><span class=\"toc-item-num\">1.1&nbsp;</span>Open the data file and examine the general information</a></span></li><li><span><a href=\"#Let's-pre-process-data\" data-toc-modified-id=\"Let's-pre-process-data-1.2\"><span class=\"toc-item-num\">1.2&nbsp;&nbsp;</span>Let's pre-process the data</a></span></li></ul></li><li><span><a href=\"#Research-tasks\" data-toc-modified-id=\"Research-tasks-2\"><span class=\"toc-item-num\">2</span>Problem Investigation</a></span><ul class=\"toc-item\"><li><span><a href=\"#Splitting-data-into-samples\" data-toc-modified-id=\"Splitting-data-into-samples-2.1\"><span class=\"toc-item-num\">2.1</span>Splitting the data into samples</a></span></li><li><span><a href=\"#Testing-models-without-accounting-balancing-classes\" data-toc-modified-id=\"Testing-models-without-accounting-balancing-classes-2.2\"><span class=\"toc-item-num\">2.2&nbsp;&nbsp;</span>Testing models without taking into account class balancing</a></span></li></ul></li><li><span><a href=\"#Fight-with-imbalance\" data-toc-modified-id=\"Fight-with-imbalance-3\"><span class=\"toc-item-num\">3</span>Balancing classes</a></span><ul class=\"toc-item\"><li><span><a href=\"#ClassWeight-(balancing-classes)\" data-toc-modified-id=\"ClassWeight-(balancing-classes)-3.1\"><span class=\"toc-item-num\">3.1</span>ClassWeight (class balancing)</a></span></li><li><span><a href=\"#Upsampling\" data-toc-modified-id=\"Upsampling-3.2\"><span class=\"toc-item-num\">3.2&nbsp;&nbsp;</span>Upsampling</a></span></li><li><span><a href=\"#Downsampling\" data-toc-modified-id=\"Downsampling-3.3\"><span class=\"toc-item-num\">3.3&nbsp;&nbsp;</span>Downsampling</a></span></li><li><span><a href=\"#Study-ROC-curve-and-AUC-ROC-for-the-best-model\" data-toc-modified-id=\"Study-ROC-curve-and-AUC-ROC-for-the-best-model-3.4\"><span class=\"toc-item-num\">3.4&nbsp;&nbsp;</span>Investigation of the ROC curve and AUC-ROC for the best model</a></span></li></ul></li><li><span><a href=\"#Testing-models\" data-toc-modified-id=\"Testing-models-4\"><span class=\"toc-item-num\">4</span>Testing the model</a></span></li><li><span><a href=\"#Project readiness Checklist\" data-toc-modified-id=\"Project readiness Checklist-5\"><span class=\"toc-item-num\">5</span>Project readiness checklist</a></span></li></ul></div>"
   ]
  },
  {
   "cell_type": "markdown",
   "metadata": {},
   "source": [
    "# Сustomer churn forecasting"
   ]
  },
  {
   "cell_type": "markdown",
   "metadata": {},
   "source": [
    "## Project Description\n",
    "Customers began to leave Beta Bank. Every month. A little, but noticeable. Bank marketers have calculated that it is cheaper to retain current customers than to attract new ones.\n",
    "\n",
    "It is necessary to predict whether the client will leave the bank in the near future or not. Historical data on customer behavior and termination of contracts with the bank are provided. \n",
    "\n",
    "The project has built a model with an extremely large value of F1-measure (you need to bring the metric to 0.59)"
   ]
  },
  {
   "cell_type": "markdown",
   "metadata": {},
   "source": [
    "## Data preparation"
   ]
  },
  {
   "cell_type": "code",
   "execution_count": 1,
   "metadata": {},
   "outputs": [],
   "source": [
    "import pandas as pd\n",
    "import numpy as np\n",
    "import random\n",
    "import matplotlib.pyplot as plt\n",
    "import seaborn as sns\n",
    "\n",
    "from sklearn.model_selection import train_test_split\n",
    "\n",
    "from sklearn.tree import DecisionTreeClassifier\n",
    "from sklearn.ensemble import RandomForestClassifier\n",
    "from sklearn.linear_model import LogisticRegression\n",
    "\n",
    "from sklearn.metrics import accuracy_score\n",
    "\n",
    "from sklearn.model_selection import train_test_split\n",
    "from sklearn.preprocessing import StandardScaler\n",
    "from sklearn.model_selection import GridSearchCV\n",
    "from sklearn.ensemble import RandomForestClassifier, GradientBoostingClassifier\n",
    "from sklearn.metrics import accuracy_score,roc_auc_score,f1_score,precision_score, recall_score, roc_auc_score, roc_curve\n",
    "from sklearn.dummy import DummyClassifier\n",
    "from sklearn.utils import shuffle\n",
    "from sklearn.inspection import permutation_importance"
   ]
  },
  {
   "cell_type": "markdown",
   "metadata": {},
   "source": [
    "### Open the data file and review the general information"
   ]
  },
  {
   "cell_type": "code",
   "execution_count": 4,
   "metadata": {},
   "outputs": [
    {
     "data": {
      "text/html": [
       "<div>\n",
       "<style scoped>\n",
       "    .dataframe tbody tr th:only-of-type {\n",
       "        vertical-align: middle;\n",
       "    }\n",
       "\n",
       "    .dataframe tbody tr th {\n",
       "        vertical-align: top;\n",
       "    }\n",
       "\n",
       "    .dataframe thead th {\n",
       "        text-align: right;\n",
       "    }\n",
       "</style>\n",
       "<table border=\"1\" class=\"dataframe\">\n",
       "  <thead>\n",
       "    <tr style=\"text-align: right;\">\n",
       "      <th></th>\n",
       "      <th>RowNumber</th>\n",
       "      <th>CustomerId</th>\n",
       "      <th>Surname</th>\n",
       "      <th>CreditScore</th>\n",
       "      <th>Geography</th>\n",
       "      <th>Gender</th>\n",
       "      <th>Age</th>\n",
       "      <th>Tenure</th>\n",
       "      <th>Balance</th>\n",
       "      <th>NumOfProducts</th>\n",
       "      <th>HasCrCard</th>\n",
       "      <th>IsActiveMember</th>\n",
       "      <th>EstimatedSalary</th>\n",
       "      <th>Exited</th>\n",
       "    </tr>\n",
       "  </thead>\n",
       "  <tbody>\n",
       "    <tr>\n",
       "      <th>0</th>\n",
       "      <td>1</td>\n",
       "      <td>15634602</td>\n",
       "      <td>Hargrave</td>\n",
       "      <td>619</td>\n",
       "      <td>France</td>\n",
       "      <td>Female</td>\n",
       "      <td>42</td>\n",
       "      <td>2.0</td>\n",
       "      <td>0.00</td>\n",
       "      <td>1</td>\n",
       "      <td>1</td>\n",
       "      <td>1</td>\n",
       "      <td>101348.88</td>\n",
       "      <td>1</td>\n",
       "    </tr>\n",
       "    <tr>\n",
       "      <th>1</th>\n",
       "      <td>2</td>\n",
       "      <td>15647311</td>\n",
       "      <td>Hill</td>\n",
       "      <td>608</td>\n",
       "      <td>Spain</td>\n",
       "      <td>Female</td>\n",
       "      <td>41</td>\n",
       "      <td>1.0</td>\n",
       "      <td>83807.86</td>\n",
       "      <td>1</td>\n",
       "      <td>0</td>\n",
       "      <td>1</td>\n",
       "      <td>112542.58</td>\n",
       "      <td>0</td>\n",
       "    </tr>\n",
       "    <tr>\n",
       "      <th>2</th>\n",
       "      <td>3</td>\n",
       "      <td>15619304</td>\n",
       "      <td>Onio</td>\n",
       "      <td>502</td>\n",
       "      <td>France</td>\n",
       "      <td>Female</td>\n",
       "      <td>42</td>\n",
       "      <td>8.0</td>\n",
       "      <td>159660.80</td>\n",
       "      <td>3</td>\n",
       "      <td>1</td>\n",
       "      <td>0</td>\n",
       "      <td>113931.57</td>\n",
       "      <td>1</td>\n",
       "    </tr>\n",
       "    <tr>\n",
       "      <th>3</th>\n",
       "      <td>4</td>\n",
       "      <td>15701354</td>\n",
       "      <td>Boni</td>\n",
       "      <td>699</td>\n",
       "      <td>France</td>\n",
       "      <td>Female</td>\n",
       "      <td>39</td>\n",
       "      <td>1.0</td>\n",
       "      <td>0.00</td>\n",
       "      <td>2</td>\n",
       "      <td>0</td>\n",
       "      <td>0</td>\n",
       "      <td>93826.63</td>\n",
       "      <td>0</td>\n",
       "    </tr>\n",
       "    <tr>\n",
       "      <th>4</th>\n",
       "      <td>5</td>\n",
       "      <td>15737888</td>\n",
       "      <td>Mitchell</td>\n",
       "      <td>850</td>\n",
       "      <td>Spain</td>\n",
       "      <td>Female</td>\n",
       "      <td>43</td>\n",
       "      <td>2.0</td>\n",
       "      <td>125510.82</td>\n",
       "      <td>1</td>\n",
       "      <td>1</td>\n",
       "      <td>1</td>\n",
       "      <td>79084.10</td>\n",
       "      <td>0</td>\n",
       "    </tr>\n",
       "    <tr>\n",
       "      <th>5</th>\n",
       "      <td>6</td>\n",
       "      <td>15574012</td>\n",
       "      <td>Chu</td>\n",
       "      <td>645</td>\n",
       "      <td>Spain</td>\n",
       "      <td>Male</td>\n",
       "      <td>44</td>\n",
       "      <td>8.0</td>\n",
       "      <td>113755.78</td>\n",
       "      <td>2</td>\n",
       "      <td>1</td>\n",
       "      <td>0</td>\n",
       "      <td>149756.71</td>\n",
       "      <td>1</td>\n",
       "    </tr>\n",
       "    <tr>\n",
       "      <th>6</th>\n",
       "      <td>7</td>\n",
       "      <td>15592531</td>\n",
       "      <td>Bartlett</td>\n",
       "      <td>822</td>\n",
       "      <td>France</td>\n",
       "      <td>Male</td>\n",
       "      <td>50</td>\n",
       "      <td>7.0</td>\n",
       "      <td>0.00</td>\n",
       "      <td>2</td>\n",
       "      <td>1</td>\n",
       "      <td>1</td>\n",
       "      <td>10062.80</td>\n",
       "      <td>0</td>\n",
       "    </tr>\n",
       "    <tr>\n",
       "      <th>7</th>\n",
       "      <td>8</td>\n",
       "      <td>15656148</td>\n",
       "      <td>Obinna</td>\n",
       "      <td>376</td>\n",
       "      <td>Germany</td>\n",
       "      <td>Female</td>\n",
       "      <td>29</td>\n",
       "      <td>4.0</td>\n",
       "      <td>115046.74</td>\n",
       "      <td>4</td>\n",
       "      <td>1</td>\n",
       "      <td>0</td>\n",
       "      <td>119346.88</td>\n",
       "      <td>1</td>\n",
       "    </tr>\n",
       "    <tr>\n",
       "      <th>8</th>\n",
       "      <td>9</td>\n",
       "      <td>15792365</td>\n",
       "      <td>He</td>\n",
       "      <td>501</td>\n",
       "      <td>France</td>\n",
       "      <td>Male</td>\n",
       "      <td>44</td>\n",
       "      <td>4.0</td>\n",
       "      <td>142051.07</td>\n",
       "      <td>2</td>\n",
       "      <td>0</td>\n",
       "      <td>1</td>\n",
       "      <td>74940.50</td>\n",
       "      <td>0</td>\n",
       "    </tr>\n",
       "    <tr>\n",
       "      <th>9</th>\n",
       "      <td>10</td>\n",
       "      <td>15592389</td>\n",
       "      <td>H?</td>\n",
       "      <td>684</td>\n",
       "      <td>France</td>\n",
       "      <td>Male</td>\n",
       "      <td>27</td>\n",
       "      <td>2.0</td>\n",
       "      <td>134603.88</td>\n",
       "      <td>1</td>\n",
       "      <td>1</td>\n",
       "      <td>1</td>\n",
       "      <td>71725.73</td>\n",
       "      <td>0</td>\n",
       "    </tr>\n",
       "  </tbody>\n",
       "</table>\n",
       "</div>"
      ],
      "text/plain": [
       "   RowNumber  CustomerId   Surname  CreditScore Geography  Gender  Age  \\\n",
       "0          1    15634602  Hargrave          619    France  Female   42   \n",
       "1          2    15647311      Hill          608     Spain  Female   41   \n",
       "2          3    15619304      Onio          502    France  Female   42   \n",
       "3          4    15701354      Boni          699    France  Female   39   \n",
       "4          5    15737888  Mitchell          850     Spain  Female   43   \n",
       "5          6    15574012       Chu          645     Spain    Male   44   \n",
       "6          7    15592531  Bartlett          822    France    Male   50   \n",
       "7          8    15656148    Obinna          376   Germany  Female   29   \n",
       "8          9    15792365        He          501    France    Male   44   \n",
       "9         10    15592389        H?          684    France    Male   27   \n",
       "\n",
       "   Tenure    Balance  NumOfProducts  HasCrCard  IsActiveMember  \\\n",
       "0     2.0       0.00              1          1               1   \n",
       "1     1.0   83807.86              1          0               1   \n",
       "2     8.0  159660.80              3          1               0   \n",
       "3     1.0       0.00              2          0               0   \n",
       "4     2.0  125510.82              1          1               1   \n",
       "5     8.0  113755.78              2          1               0   \n",
       "6     7.0       0.00              2          1               1   \n",
       "7     4.0  115046.74              4          1               0   \n",
       "8     4.0  142051.07              2          0               1   \n",
       "9     2.0  134603.88              1          1               1   \n",
       "\n",
       "   EstimatedSalary  Exited  \n",
       "0        101348.88       1  \n",
       "1        112542.58       0  \n",
       "2        113931.57       1  \n",
       "3         93826.63       0  \n",
       "4         79084.10       0  \n",
       "5        149756.71       1  \n",
       "6         10062.80       0  \n",
       "7        119346.88       1  \n",
       "8         74940.50       0  \n",
       "9         71725.73       0  "
      ]
     },
     "execution_count": 4,
     "metadata": {},
     "output_type": "execute_result"
    }
   ],
   "source": [
    "df = pd.read_csv(r'datasets/06_сhurn.csv')\n",
    "df.head(10)"
   ]
  },
  {
   "cell_type": "code",
   "execution_count": 5,
   "metadata": {},
   "outputs": [
    {
     "name": "stdout",
     "output_type": "stream",
     "text": [
      "<class 'pandas.core.frame.DataFrame'>\n",
      "RangeIndex: 10000 entries, 0 to 9999\n",
      "Data columns (total 14 columns):\n",
      " #   Column           Non-Null Count  Dtype  \n",
      "---  ------           --------------  -----  \n",
      " 0   RowNumber        10000 non-null  int64  \n",
      " 1   CustomerId       10000 non-null  int64  \n",
      " 2   Surname          10000 non-null  object \n",
      " 3   CreditScore      10000 non-null  int64  \n",
      " 4   Geography        10000 non-null  object \n",
      " 5   Gender           10000 non-null  object \n",
      " 6   Age              10000 non-null  int64  \n",
      " 7   Tenure           9091 non-null   float64\n",
      " 8   Balance          10000 non-null  float64\n",
      " 9   NumOfProducts    10000 non-null  int64  \n",
      " 10  HasCrCard        10000 non-null  int64  \n",
      " 11  IsActiveMember   10000 non-null  int64  \n",
      " 12  EstimatedSalary  10000 non-null  float64\n",
      " 13  Exited           10000 non-null  int64  \n",
      "dtypes: float64(3), int64(8), object(3)\n",
      "memory usage: 1.1+ MB\n"
     ]
    }
   ],
   "source": [
    "df.info()"
   ]
  },
  {
   "cell_type": "code",
   "execution_count": 6,
   "metadata": {},
   "outputs": [
    {
     "data": {
      "text/plain": [
       "1.0     952\n",
       "2.0     950\n",
       "8.0     933\n",
       "3.0     928\n",
       "5.0     927\n",
       "7.0     925\n",
       "4.0     885\n",
       "9.0     882\n",
       "6.0     881\n",
       "10.0    446\n",
       "0.0     382\n",
       "Name: Tenure, dtype: int64"
      ]
     },
     "execution_count": 6,
     "metadata": {},
     "output_type": "execute_result"
    }
   ],
   "source": [
    "df['Tenure'].value_counts()"
   ]
  },
  {
   "cell_type": "code",
   "execution_count": 7,
   "metadata": {
    "scrolled": true
   },
   "outputs": [
    {
     "data": {
      "text/html": [
       "<div>\n",
       "<style scoped>\n",
       "    .dataframe tbody tr th:only-of-type {\n",
       "        vertical-align: middle;\n",
       "    }\n",
       "\n",
       "    .dataframe tbody tr th {\n",
       "        vertical-align: top;\n",
       "    }\n",
       "\n",
       "    .dataframe thead th {\n",
       "        text-align: right;\n",
       "    }\n",
       "</style>\n",
       "<table border=\"1\" class=\"dataframe\">\n",
       "  <thead>\n",
       "    <tr style=\"text-align: right;\">\n",
       "      <th></th>\n",
       "      <th>Value</th>\n",
       "      <th>Types</th>\n",
       "      <th>Uniqle</th>\n",
       "    </tr>\n",
       "  </thead>\n",
       "  <tbody>\n",
       "    <tr>\n",
       "      <th>RowNumber</th>\n",
       "      <td>[1, 2, 3, 4, 5, 6, 7, 8, 9, 10, 11, 12, 13, 14...</td>\n",
       "      <td>int64</td>\n",
       "      <td>10000</td>\n",
       "    </tr>\n",
       "    <tr>\n",
       "      <th>CustomerId</th>\n",
       "      <td>[15634602, 15647311, 15619304, 15701354, 15737...</td>\n",
       "      <td>int64</td>\n",
       "      <td>10000</td>\n",
       "    </tr>\n",
       "    <tr>\n",
       "      <th>CreditScore</th>\n",
       "      <td>[619, 608, 502, 699, 850, 645, 822, 376, 501, ...</td>\n",
       "      <td>int64</td>\n",
       "      <td>460</td>\n",
       "    </tr>\n",
       "    <tr>\n",
       "      <th>Age</th>\n",
       "      <td>[42, 41, 39, 43, 44, 50, 29, 27, 31, 24, 34, 2...</td>\n",
       "      <td>int64</td>\n",
       "      <td>70</td>\n",
       "    </tr>\n",
       "    <tr>\n",
       "      <th>NumOfProducts</th>\n",
       "      <td>[1, 3, 2, 4]</td>\n",
       "      <td>int64</td>\n",
       "      <td>4</td>\n",
       "    </tr>\n",
       "    <tr>\n",
       "      <th>HasCrCard</th>\n",
       "      <td>[1, 0]</td>\n",
       "      <td>int64</td>\n",
       "      <td>2</td>\n",
       "    </tr>\n",
       "    <tr>\n",
       "      <th>IsActiveMember</th>\n",
       "      <td>[1, 0]</td>\n",
       "      <td>int64</td>\n",
       "      <td>2</td>\n",
       "    </tr>\n",
       "    <tr>\n",
       "      <th>Exited</th>\n",
       "      <td>[1, 0]</td>\n",
       "      <td>int64</td>\n",
       "      <td>2</td>\n",
       "    </tr>\n",
       "    <tr>\n",
       "      <th>Tenure</th>\n",
       "      <td>[2.0, 1.0, 8.0, 7.0, 4.0, 6.0, 3.0, 10.0, 5.0,...</td>\n",
       "      <td>float64</td>\n",
       "      <td>11</td>\n",
       "    </tr>\n",
       "    <tr>\n",
       "      <th>Balance</th>\n",
       "      <td>[0.0, 83807.86, 159660.8, 125510.82, 113755.78...</td>\n",
       "      <td>float64</td>\n",
       "      <td>6382</td>\n",
       "    </tr>\n",
       "    <tr>\n",
       "      <th>EstimatedSalary</th>\n",
       "      <td>[101348.88, 112542.58, 113931.57, 93826.63, 79...</td>\n",
       "      <td>float64</td>\n",
       "      <td>9999</td>\n",
       "    </tr>\n",
       "    <tr>\n",
       "      <th>Surname</th>\n",
       "      <td>[Hargrave, Hill, Onio, Boni, Mitchell, Chu, Ba...</td>\n",
       "      <td>object</td>\n",
       "      <td>2932</td>\n",
       "    </tr>\n",
       "    <tr>\n",
       "      <th>Geography</th>\n",
       "      <td>[France, Spain, Germany]</td>\n",
       "      <td>object</td>\n",
       "      <td>3</td>\n",
       "    </tr>\n",
       "    <tr>\n",
       "      <th>Gender</th>\n",
       "      <td>[Female, Male]</td>\n",
       "      <td>object</td>\n",
       "      <td>2</td>\n",
       "    </tr>\n",
       "  </tbody>\n",
       "</table>\n",
       "</div>"
      ],
      "text/plain": [
       "                                                             Value    Types  \\\n",
       "RowNumber        [1, 2, 3, 4, 5, 6, 7, 8, 9, 10, 11, 12, 13, 14...    int64   \n",
       "CustomerId       [15634602, 15647311, 15619304, 15701354, 15737...    int64   \n",
       "CreditScore      [619, 608, 502, 699, 850, 645, 822, 376, 501, ...    int64   \n",
       "Age              [42, 41, 39, 43, 44, 50, 29, 27, 31, 24, 34, 2...    int64   \n",
       "NumOfProducts                                         [1, 3, 2, 4]    int64   \n",
       "HasCrCard                                                   [1, 0]    int64   \n",
       "IsActiveMember                                              [1, 0]    int64   \n",
       "Exited                                                      [1, 0]    int64   \n",
       "Tenure           [2.0, 1.0, 8.0, 7.0, 4.0, 6.0, 3.0, 10.0, 5.0,...  float64   \n",
       "Balance          [0.0, 83807.86, 159660.8, 125510.82, 113755.78...  float64   \n",
       "EstimatedSalary  [101348.88, 112542.58, 113931.57, 93826.63, 79...  float64   \n",
       "Surname          [Hargrave, Hill, Onio, Boni, Mitchell, Chu, Ba...   object   \n",
       "Geography                                 [France, Spain, Germany]   object   \n",
       "Gender                                              [Female, Male]   object   \n",
       "\n",
       "                Uniqle  \n",
       "RowNumber        10000  \n",
       "CustomerId       10000  \n",
       "CreditScore        460  \n",
       "Age                 70  \n",
       "NumOfProducts        4  \n",
       "HasCrCard            2  \n",
       "IsActiveMember       2  \n",
       "Exited               2  \n",
       "Tenure              11  \n",
       "Balance           6382  \n",
       "EstimatedSalary   9999  \n",
       "Surname           2932  \n",
       "Geography            3  \n",
       "Gender               2  "
      ]
     },
     "execution_count": 7,
     "metadata": {},
     "output_type": "execute_result"
    }
   ],
   "source": [
    "# describe function\n",
    "def describe_colums(df):\n",
    "    \n",
    "    values = pd.DataFrame()\n",
    "    \n",
    "    for col in df.columns:\n",
    "        values[col] = [df[col].unique(), df[col].dtypes, df[col].nunique()]\n",
    "        \n",
    "    return values.transpose().sort_values(by=1, ascending=True).rename(\n",
    "        {0: 'Value', 1: 'Types', 2: 'Uniqle'}, axis=1)\n",
    "describe_colums(df)"
   ]
  },
  {
   "cell_type": "markdown",
   "metadata": {},
   "source": [
    "Description of columns (data):\n",
    "\n",
    "In total, there are 14 columns in the table, in which there are 3 data types — `object`, `int64` and `float64`, while the columns \"HasCrCard\", \"IsActiveMember\", \"Gender\" and \"Exited\" have only 2 variants of values, which means their format can be `bool'.\n",
    "\n",
    "Signs: \n",
    "- RowNumber — index of the row in the data, integer values, `int64`\n",
    "- CustomerID — unique customer identifier, integer values, `int64`\n",
    "- Surname — surname, text value, `object`\n",
    "- CreditScore — credit rating, integer values, `int64`\n",
    "- Geography — country of residence, categorical value, `object', only 3 regions are considered in the dataset, [France, Spain, Germany] \n",
    "- Gender — gender, maybe a boolean value, now `object`, [1, 0]\n",
    "- Age — age, integer values, `int64`\n",
    "- Tenure — how many years a person has been a bank customer, integer values, it costs `float64`, but maybe it should be `int64`, since after the comma there are \"0\"\n",
    "- Balance — account balance, numeric"
   ]
  },
  {
   "cell_type": "code",
   "execution_count": 8,
   "metadata": {},
   "outputs": [
    {
     "data": {
      "image/png": "[encoded data removed]",
      "text/plain": [
       "<Figure size 1080x1440 with 12 Axes>"
      ]
     },
     "metadata": {
      "needs_background": "light"
     },
     "output_type": "display_data"
    }
   ],
   "source": [
    "#Let's build a common histogram for all numeric columns of the table\n",
    "df.hist(figsize=(15, 20));"
   ]
  },
  {
   "cell_type": "markdown",
   "metadata": {},
   "source": [
    "### Let's pre-process the data"
   ]
  },
  {
   "cell_type": "code",
   "execution_count": 9,
   "metadata": {},
   "outputs": [],
   "source": [
    "#п#we will reduce the column names to lowercase\n",
    "df.columns = map(str.lower, df.columns)"
   ]
  },
  {
   "cell_type": "code",
   "execution_count": 10,
   "metadata": {},
   "outputs": [
    {
     "data": {
      "text/html": [
       "<div>\n",
       "<style scoped>\n",
       "    .dataframe tbody tr th:only-of-type {\n",
       "        vertical-align: middle;\n",
       "    }\n",
       "\n",
       "    .dataframe tbody tr th {\n",
       "        vertical-align: top;\n",
       "    }\n",
       "\n",
       "    .dataframe thead th {\n",
       "        text-align: right;\n",
       "    }\n",
       "</style>\n",
       "<table border=\"1\" class=\"dataframe\">\n",
       "  <thead>\n",
       "    <tr style=\"text-align: right;\">\n",
       "      <th></th>\n",
       "      <th>rownumber</th>\n",
       "      <th>customerid</th>\n",
       "      <th>surname</th>\n",
       "      <th>creditscore</th>\n",
       "      <th>geography</th>\n",
       "      <th>gender</th>\n",
       "      <th>age</th>\n",
       "      <th>tenure</th>\n",
       "      <th>balance</th>\n",
       "      <th>numofproducts</th>\n",
       "      <th>hascrcard</th>\n",
       "      <th>isactivemember</th>\n",
       "      <th>estimatedsalary</th>\n",
       "      <th>exited</th>\n",
       "    </tr>\n",
       "  </thead>\n",
       "  <tbody>\n",
       "    <tr>\n",
       "      <th>0</th>\n",
       "      <td>1</td>\n",
       "      <td>15634602</td>\n",
       "      <td>Hargrave</td>\n",
       "      <td>619</td>\n",
       "      <td>France</td>\n",
       "      <td>Female</td>\n",
       "      <td>42</td>\n",
       "      <td>2.0</td>\n",
       "      <td>0.00</td>\n",
       "      <td>1</td>\n",
       "      <td>1</td>\n",
       "      <td>1</td>\n",
       "      <td>101348.88</td>\n",
       "      <td>1</td>\n",
       "    </tr>\n",
       "    <tr>\n",
       "      <th>1</th>\n",
       "      <td>2</td>\n",
       "      <td>15647311</td>\n",
       "      <td>Hill</td>\n",
       "      <td>608</td>\n",
       "      <td>Spain</td>\n",
       "      <td>Female</td>\n",
       "      <td>41</td>\n",
       "      <td>1.0</td>\n",
       "      <td>83807.86</td>\n",
       "      <td>1</td>\n",
       "      <td>0</td>\n",
       "      <td>1</td>\n",
       "      <td>112542.58</td>\n",
       "      <td>0</td>\n",
       "    </tr>\n",
       "    <tr>\n",
       "      <th>2</th>\n",
       "      <td>3</td>\n",
       "      <td>15619304</td>\n",
       "      <td>Onio</td>\n",
       "      <td>502</td>\n",
       "      <td>France</td>\n",
       "      <td>Female</td>\n",
       "      <td>42</td>\n",
       "      <td>8.0</td>\n",
       "      <td>159660.80</td>\n",
       "      <td>3</td>\n",
       "      <td>1</td>\n",
       "      <td>0</td>\n",
       "      <td>113931.57</td>\n",
       "      <td>1</td>\n",
       "    </tr>\n",
       "    <tr>\n",
       "      <th>3</th>\n",
       "      <td>4</td>\n",
       "      <td>15701354</td>\n",
       "      <td>Boni</td>\n",
       "      <td>699</td>\n",
       "      <td>France</td>\n",
       "      <td>Female</td>\n",
       "      <td>39</td>\n",
       "      <td>1.0</td>\n",
       "      <td>0.00</td>\n",
       "      <td>2</td>\n",
       "      <td>0</td>\n",
       "      <td>0</td>\n",
       "      <td>93826.63</td>\n",
       "      <td>0</td>\n",
       "    </tr>\n",
       "    <tr>\n",
       "      <th>4</th>\n",
       "      <td>5</td>\n",
       "      <td>15737888</td>\n",
       "      <td>Mitchell</td>\n",
       "      <td>850</td>\n",
       "      <td>Spain</td>\n",
       "      <td>Female</td>\n",
       "      <td>43</td>\n",
       "      <td>2.0</td>\n",
       "      <td>125510.82</td>\n",
       "      <td>1</td>\n",
       "      <td>1</td>\n",
       "      <td>1</td>\n",
       "      <td>79084.10</td>\n",
       "      <td>0</td>\n",
       "    </tr>\n",
       "  </tbody>\n",
       "</table>\n",
       "</div>"
      ],
      "text/plain": [
       "   rownumber  customerid   surname  creditscore geography  gender  age  \\\n",
       "0          1    15634602  Hargrave          619    France  Female   42   \n",
       "1          2    15647311      Hill          608     Spain  Female   41   \n",
       "2          3    15619304      Onio          502    France  Female   42   \n",
       "3          4    15701354      Boni          699    France  Female   39   \n",
       "4          5    15737888  Mitchell          850     Spain  Female   43   \n",
       "\n",
       "   tenure    balance  numofproducts  hascrcard  isactivemember  \\\n",
       "0     2.0       0.00              1          1               1   \n",
       "1     1.0   83807.86              1          0               1   \n",
       "2     8.0  159660.80              3          1               0   \n",
       "3     1.0       0.00              2          0               0   \n",
       "4     2.0  125510.82              1          1               1   \n",
       "\n",
       "   estimatedsalary  exited  \n",
       "0        101348.88       1  \n",
       "1        112542.58       0  \n",
       "2        113931.57       1  \n",
       "3         93826.63       0  \n",
       "4         79084.10       0  "
      ]
     },
     "execution_count": 10,
     "metadata": {},
     "output_type": "execute_result"
    }
   ],
   "source": [
    "df.head()"
   ]
  },
  {
   "cell_type": "code",
   "execution_count": 11,
   "metadata": {},
   "outputs": [
    {
     "data": {
      "text/plain": [
       "Index(['row_number', 'customer_id', 'surname', 'credit_score', 'geography',\n",
       "       'gender', 'age', 'tenure', 'balance', 'num_of_products', 'has_cr_card',\n",
       "       'is_active_member', 'estimated_salary', 'exited'],\n",
       "      dtype='object')"
      ]
     },
     "execution_count": 11,
     "metadata": {},
     "output_type": "execute_result"
    }
   ],
   "source": [
    "df = df.rename(\n",
    "    columns={'rownumber':'row_number', \n",
    "             'creditscore':'credit_score',\n",
    "             'numofproducts':'num_of_products', \n",
    "             'customerid':'customer_id',\n",
    "             'hascrcard':'has_cr_card', \n",
    "             'isactivemember':'is_active_member',\n",
    "             'estimatedsalary':'estimated_salary'}\n",
    ")\n",
    "\n",
    "df.columns"
   ]
  },
  {
   "cell_type": "code",
   "execution_count": 12,
   "metadata": {},
   "outputs": [
    {
     "data": {
      "text/html": [
       "<div>\n",
       "<style scoped>\n",
       "    .dataframe tbody tr th:only-of-type {\n",
       "        vertical-align: middle;\n",
       "    }\n",
       "\n",
       "    .dataframe tbody tr th {\n",
       "        vertical-align: top;\n",
       "    }\n",
       "\n",
       "    .dataframe thead th {\n",
       "        text-align: right;\n",
       "    }\n",
       "</style>\n",
       "<table border=\"1\" class=\"dataframe\">\n",
       "  <thead>\n",
       "    <tr style=\"text-align: right;\">\n",
       "      <th></th>\n",
       "      <th>Column name</th>\n",
       "      <th>Missing</th>\n",
       "      <th>% missing</th>\n",
       "    </tr>\n",
       "  </thead>\n",
       "  <tbody>\n",
       "    <tr>\n",
       "      <th>tenure</th>\n",
       "      <td>tenure</td>\n",
       "      <td>909</td>\n",
       "      <td>9.09</td>\n",
       "    </tr>\n",
       "    <tr>\n",
       "      <th>row_number</th>\n",
       "      <td>row_number</td>\n",
       "      <td>0</td>\n",
       "      <td>0.00</td>\n",
       "    </tr>\n",
       "    <tr>\n",
       "      <th>customer_id</th>\n",
       "      <td>customer_id</td>\n",
       "      <td>0</td>\n",
       "      <td>0.00</td>\n",
       "    </tr>\n",
       "    <tr>\n",
       "      <th>surname</th>\n",
       "      <td>surname</td>\n",
       "      <td>0</td>\n",
       "      <td>0.00</td>\n",
       "    </tr>\n",
       "    <tr>\n",
       "      <th>credit_score</th>\n",
       "      <td>credit_score</td>\n",
       "      <td>0</td>\n",
       "      <td>0.00</td>\n",
       "    </tr>\n",
       "    <tr>\n",
       "      <th>geography</th>\n",
       "      <td>geography</td>\n",
       "      <td>0</td>\n",
       "      <td>0.00</td>\n",
       "    </tr>\n",
       "    <tr>\n",
       "      <th>gender</th>\n",
       "      <td>gender</td>\n",
       "      <td>0</td>\n",
       "      <td>0.00</td>\n",
       "    </tr>\n",
       "    <tr>\n",
       "      <th>age</th>\n",
       "      <td>age</td>\n",
       "      <td>0</td>\n",
       "      <td>0.00</td>\n",
       "    </tr>\n",
       "    <tr>\n",
       "      <th>balance</th>\n",
       "      <td>balance</td>\n",
       "      <td>0</td>\n",
       "      <td>0.00</td>\n",
       "    </tr>\n",
       "    <tr>\n",
       "      <th>num_of_products</th>\n",
       "      <td>num_of_products</td>\n",
       "      <td>0</td>\n",
       "      <td>0.00</td>\n",
       "    </tr>\n",
       "    <tr>\n",
       "      <th>has_cr_card</th>\n",
       "      <td>has_cr_card</td>\n",
       "      <td>0</td>\n",
       "      <td>0.00</td>\n",
       "    </tr>\n",
       "    <tr>\n",
       "      <th>is_active_member</th>\n",
       "      <td>is_active_member</td>\n",
       "      <td>0</td>\n",
       "      <td>0.00</td>\n",
       "    </tr>\n",
       "    <tr>\n",
       "      <th>estimated_salary</th>\n",
       "      <td>estimated_salary</td>\n",
       "      <td>0</td>\n",
       "      <td>0.00</td>\n",
       "    </tr>\n",
       "    <tr>\n",
       "      <th>exited</th>\n",
       "      <td>exited</td>\n",
       "      <td>0</td>\n",
       "      <td>0.00</td>\n",
       "    </tr>\n",
       "  </tbody>\n",
       "</table>\n",
       "</div>"
      ],
      "text/plain": [
       "                       Column name  Missing  % missing\n",
       "tenure                      tenure      909       9.09\n",
       "row_number              row_number        0       0.00\n",
       "customer_id            customer_id        0       0.00\n",
       "surname                    surname        0       0.00\n",
       "credit_score          credit_score        0       0.00\n",
       "geography                geography        0       0.00\n",
       "gender                      gender        0       0.00\n",
       "age                            age        0       0.00\n",
       "balance                    balance        0       0.00\n",
       "num_of_products    num_of_products        0       0.00\n",
       "has_cr_card            has_cr_card        0       0.00\n",
       "is_active_member  is_active_member        0       0.00\n",
       "estimated_salary  estimated_salary        0       0.00\n",
       "exited                      exited        0       0.00"
      ]
     },
     "execution_count": 12,
     "metadata": {},
     "output_type": "execute_result"
    }
   ],
   "source": [
    "# function to reflect missing columns\n",
    "\n",
    "def empty_values(df):\n",
    "    count_missing = df.isna().sum()\n",
    "    percent_missing = round(df.isna().sum() * 100 / len(df), 2)\n",
    "    \n",
    "    missing_value_df = pd.DataFrame({'Column name': df.columns,\n",
    "                                     'Missing': count_missing,\n",
    "                                     '% missing': percent_missing})\n",
    "    \n",
    "    return missing_value_df\n",
    "empty_values(df).sort_values(by='% missing', ascending=False)"
   ]
  },
  {
   "cell_type": "markdown",
   "metadata": {},
   "source": [
    "Data gaps only in the 'tenure' column, slightly less than 10%"
   ]
  },
  {
   "cell_type": "code",
   "execution_count": 13,
   "metadata": {},
   "outputs": [
    {
     "data": {
      "text/plain": [
       "0"
      ]
     },
     "execution_count": 13,
     "metadata": {},
     "output_type": "execute_result"
    }
   ],
   "source": [
    "# check for duplicates, everything is OK here\n",
    "df.duplicated().sum()"
   ]
  },
  {
   "cell_type": "code",
   "execution_count": 14,
   "metadata": {},
   "outputs": [
    {
     "data": {
      "text/html": [
       "<div>\n",
       "<style scoped>\n",
       "    .dataframe tbody tr th:only-of-type {\n",
       "        vertical-align: middle;\n",
       "    }\n",
       "\n",
       "    .dataframe tbody tr th {\n",
       "        vertical-align: top;\n",
       "    }\n",
       "\n",
       "    .dataframe thead th {\n",
       "        text-align: right;\n",
       "    }\n",
       "</style>\n",
       "<table border=\"1\" class=\"dataframe\">\n",
       "  <thead>\n",
       "    <tr style=\"text-align: right;\">\n",
       "      <th></th>\n",
       "      <th>row_number</th>\n",
       "      <th>customer_id</th>\n",
       "      <th>surname</th>\n",
       "      <th>credit_score</th>\n",
       "      <th>geography</th>\n",
       "      <th>gender</th>\n",
       "      <th>age</th>\n",
       "      <th>tenure</th>\n",
       "      <th>balance</th>\n",
       "      <th>num_of_products</th>\n",
       "      <th>has_cr_card</th>\n",
       "      <th>is_active_member</th>\n",
       "      <th>estimated_salary</th>\n",
       "      <th>exited</th>\n",
       "    </tr>\n",
       "  </thead>\n",
       "  <tbody>\n",
       "    <tr>\n",
       "      <th>30</th>\n",
       "      <td>31</td>\n",
       "      <td>15589475</td>\n",
       "      <td>Azikiwe</td>\n",
       "      <td>591</td>\n",
       "      <td>Spain</td>\n",
       "      <td>Female</td>\n",
       "      <td>39</td>\n",
       "      <td>NaN</td>\n",
       "      <td>0.00</td>\n",
       "      <td>3</td>\n",
       "      <td>1</td>\n",
       "      <td>0</td>\n",
       "      <td>140469.38</td>\n",
       "      <td>1</td>\n",
       "    </tr>\n",
       "    <tr>\n",
       "      <th>48</th>\n",
       "      <td>49</td>\n",
       "      <td>15766205</td>\n",
       "      <td>Yin</td>\n",
       "      <td>550</td>\n",
       "      <td>Germany</td>\n",
       "      <td>Male</td>\n",
       "      <td>38</td>\n",
       "      <td>NaN</td>\n",
       "      <td>103391.38</td>\n",
       "      <td>1</td>\n",
       "      <td>0</td>\n",
       "      <td>1</td>\n",
       "      <td>90878.13</td>\n",
       "      <td>0</td>\n",
       "    </tr>\n",
       "    <tr>\n",
       "      <th>51</th>\n",
       "      <td>52</td>\n",
       "      <td>15768193</td>\n",
       "      <td>Trevisani</td>\n",
       "      <td>585</td>\n",
       "      <td>Germany</td>\n",
       "      <td>Male</td>\n",
       "      <td>36</td>\n",
       "      <td>NaN</td>\n",
       "      <td>146050.97</td>\n",
       "      <td>2</td>\n",
       "      <td>0</td>\n",
       "      <td>0</td>\n",
       "      <td>86424.57</td>\n",
       "      <td>0</td>\n",
       "    </tr>\n",
       "    <tr>\n",
       "      <th>53</th>\n",
       "      <td>54</td>\n",
       "      <td>15702298</td>\n",
       "      <td>Parkhill</td>\n",
       "      <td>655</td>\n",
       "      <td>Germany</td>\n",
       "      <td>Male</td>\n",
       "      <td>41</td>\n",
       "      <td>NaN</td>\n",
       "      <td>125561.97</td>\n",
       "      <td>1</td>\n",
       "      <td>0</td>\n",
       "      <td>0</td>\n",
       "      <td>164040.94</td>\n",
       "      <td>1</td>\n",
       "    </tr>\n",
       "    <tr>\n",
       "      <th>60</th>\n",
       "      <td>61</td>\n",
       "      <td>15651280</td>\n",
       "      <td>Hunter</td>\n",
       "      <td>742</td>\n",
       "      <td>Germany</td>\n",
       "      <td>Male</td>\n",
       "      <td>35</td>\n",
       "      <td>NaN</td>\n",
       "      <td>136857.00</td>\n",
       "      <td>1</td>\n",
       "      <td>0</td>\n",
       "      <td>0</td>\n",
       "      <td>84509.57</td>\n",
       "      <td>0</td>\n",
       "    </tr>\n",
       "    <tr>\n",
       "      <th>...</th>\n",
       "      <td>...</td>\n",
       "      <td>...</td>\n",
       "      <td>...</td>\n",
       "      <td>...</td>\n",
       "      <td>...</td>\n",
       "      <td>...</td>\n",
       "      <td>...</td>\n",
       "      <td>...</td>\n",
       "      <td>...</td>\n",
       "      <td>...</td>\n",
       "      <td>...</td>\n",
       "      <td>...</td>\n",
       "      <td>...</td>\n",
       "      <td>...</td>\n",
       "    </tr>\n",
       "    <tr>\n",
       "      <th>9944</th>\n",
       "      <td>9945</td>\n",
       "      <td>15703923</td>\n",
       "      <td>Cameron</td>\n",
       "      <td>744</td>\n",
       "      <td>Germany</td>\n",
       "      <td>Male</td>\n",
       "      <td>41</td>\n",
       "      <td>NaN</td>\n",
       "      <td>190409.34</td>\n",
       "      <td>2</td>\n",
       "      <td>1</td>\n",
       "      <td>1</td>\n",
       "      <td>138361.48</td>\n",
       "      <td>0</td>\n",
       "    </tr>\n",
       "    <tr>\n",
       "      <th>9956</th>\n",
       "      <td>9957</td>\n",
       "      <td>15707861</td>\n",
       "      <td>Nucci</td>\n",
       "      <td>520</td>\n",
       "      <td>France</td>\n",
       "      <td>Female</td>\n",
       "      <td>46</td>\n",
       "      <td>NaN</td>\n",
       "      <td>85216.61</td>\n",
       "      <td>1</td>\n",
       "      <td>1</td>\n",
       "      <td>0</td>\n",
       "      <td>117369.52</td>\n",
       "      <td>1</td>\n",
       "    </tr>\n",
       "    <tr>\n",
       "      <th>9964</th>\n",
       "      <td>9965</td>\n",
       "      <td>15642785</td>\n",
       "      <td>Douglas</td>\n",
       "      <td>479</td>\n",
       "      <td>France</td>\n",
       "      <td>Male</td>\n",
       "      <td>34</td>\n",
       "      <td>NaN</td>\n",
       "      <td>117593.48</td>\n",
       "      <td>2</td>\n",
       "      <td>0</td>\n",
       "      <td>0</td>\n",
       "      <td>113308.29</td>\n",
       "      <td>0</td>\n",
       "    </tr>\n",
       "    <tr>\n",
       "      <th>9985</th>\n",
       "      <td>9986</td>\n",
       "      <td>15586914</td>\n",
       "      <td>Nepean</td>\n",
       "      <td>659</td>\n",
       "      <td>France</td>\n",
       "      <td>Male</td>\n",
       "      <td>36</td>\n",
       "      <td>NaN</td>\n",
       "      <td>123841.49</td>\n",
       "      <td>2</td>\n",
       "      <td>1</td>\n",
       "      <td>0</td>\n",
       "      <td>96833.00</td>\n",
       "      <td>0</td>\n",
       "    </tr>\n",
       "    <tr>\n",
       "      <th>9999</th>\n",
       "      <td>10000</td>\n",
       "      <td>15628319</td>\n",
       "      <td>Walker</td>\n",
       "      <td>792</td>\n",
       "      <td>France</td>\n",
       "      <td>Female</td>\n",
       "      <td>28</td>\n",
       "      <td>NaN</td>\n",
       "      <td>130142.79</td>\n",
       "      <td>1</td>\n",
       "      <td>1</td>\n",
       "      <td>0</td>\n",
       "      <td>38190.78</td>\n",
       "      <td>0</td>\n",
       "    </tr>\n",
       "  </tbody>\n",
       "</table>\n",
       "<p>909 rows × 14 columns</p>\n",
       "</div>"
      ],
      "text/plain": [
       "      row_number  customer_id    surname  credit_score geography  gender  age  \\\n",
       "30            31     15589475    Azikiwe           591     Spain  Female   39   \n",
       "48            49     15766205        Yin           550   Germany    Male   38   \n",
       "51            52     15768193  Trevisani           585   Germany    Male   36   \n",
       "53            54     15702298   Parkhill           655   Germany    Male   41   \n",
       "60            61     15651280     Hunter           742   Germany    Male   35   \n",
       "...          ...          ...        ...           ...       ...     ...  ...   \n",
       "9944        9945     15703923    Cameron           744   Germany    Male   41   \n",
       "9956        9957     15707861      Nucci           520    France  Female   46   \n",
       "9964        9965     15642785    Douglas           479    France    Male   34   \n",
       "9985        9986     15586914     Nepean           659    France    Male   36   \n",
       "9999       10000     15628319     Walker           792    France  Female   28   \n",
       "\n",
       "      tenure    balance  num_of_products  has_cr_card  is_active_member  \\\n",
       "30       NaN       0.00                3            1                 0   \n",
       "48       NaN  103391.38                1            0                 1   \n",
       "51       NaN  146050.97                2            0                 0   \n",
       "53       NaN  125561.97                1            0                 0   \n",
       "60       NaN  136857.00                1            0                 0   \n",
       "...      ...        ...              ...          ...               ...   \n",
       "9944     NaN  190409.34                2            1                 1   \n",
       "9956     NaN   85216.61                1            1                 0   \n",
       "9964     NaN  117593.48                2            0                 0   \n",
       "9985     NaN  123841.49                2            1                 0   \n",
       "9999     NaN  130142.79                1            1                 0   \n",
       "\n",
       "      estimated_salary  exited  \n",
       "30           140469.38       1  \n",
       "48            90878.13       0  \n",
       "51            86424.57       0  \n",
       "53           164040.94       1  \n",
       "60            84509.57       0  \n",
       "...                ...     ...  \n",
       "9944         138361.48       0  \n",
       "9956         117369.52       1  \n",
       "9964         113308.29       0  \n",
       "9985          96833.00       0  \n",
       "9999          38190.78       0  \n",
       "\n",
       "[909 rows x 14 columns]"
      ]
     },
     "metadata": {},
     "output_type": "display_data"
    }
   ],
   "source": [
    "display(df.loc[df['tenure'].isna()])"
   ]
  },
  {
   "cell_type": "markdown",
   "metadata": {},
   "source": [
    "There are no obvious patterns observed, it is possible that these are just missing data, you can contact the source data provider, they may have a problem. At this stage, it will be enough for us to fill in the gaps with random values so as not to disrupt the distribution."
   ]
  },
  {
   "cell_type": "code",
   "execution_count": 15,
   "metadata": {},
   "outputs": [],
   "source": [
    "data = (np.random.randint(0,10,size=df['tenure'].isna().sum()))\n",
    "df.loc[df['tenure'].isna(),'tenure']=data"
   ]
  },
  {
   "cell_type": "code",
   "execution_count": 16,
   "metadata": {
    "scrolled": true
   },
   "outputs": [
    {
     "data": {
      "image/png": "[encoded data removed]",
      "text/plain": [
       "<Figure size 432x288 with 1 Axes>"
      ]
     },
     "metadata": {
      "needs_background": "light"
     },
     "output_type": "display_data"
    }
   ],
   "source": [
    "# we confirm that filling in the data did not significantly affect their distribution\n",
    "df['tenure'].value_counts()\n",
    "df['tenure'].hist(bins=11)\n",
    "plt.show()"
   ]
  },
  {
   "cell_type": "code",
   "execution_count": 17,
   "metadata": {},
   "outputs": [],
   "source": [
    "# now let's bring the column to the correct data type\n",
    "df['tenure'] = df['tenure'].astype('int')"
   ]
  },
  {
   "cell_type": "code",
   "execution_count": 18,
   "metadata": {},
   "outputs": [
    {
     "data": {
      "text/html": [
       "<div>\n",
       "<style scoped>\n",
       "    .dataframe tbody tr th:only-of-type {\n",
       "        vertical-align: middle;\n",
       "    }\n",
       "\n",
       "    .dataframe tbody tr th {\n",
       "        vertical-align: top;\n",
       "    }\n",
       "\n",
       "    .dataframe thead th {\n",
       "        text-align: right;\n",
       "    }\n",
       "</style>\n",
       "<table border=\"1\" class=\"dataframe\">\n",
       "  <thead>\n",
       "    <tr style=\"text-align: right;\">\n",
       "      <th></th>\n",
       "      <th>row_number</th>\n",
       "      <th>customer_id</th>\n",
       "      <th>surname</th>\n",
       "      <th>credit_score</th>\n",
       "      <th>geography</th>\n",
       "      <th>gender</th>\n",
       "      <th>age</th>\n",
       "      <th>tenure</th>\n",
       "      <th>balance</th>\n",
       "      <th>num_of_products</th>\n",
       "      <th>has_cr_card</th>\n",
       "      <th>is_active_member</th>\n",
       "      <th>estimated_salary</th>\n",
       "      <th>exited</th>\n",
       "    </tr>\n",
       "  </thead>\n",
       "  <tbody>\n",
       "    <tr>\n",
       "      <th>0</th>\n",
       "      <td>1</td>\n",
       "      <td>15634602</td>\n",
       "      <td>Hargrave</td>\n",
       "      <td>619</td>\n",
       "      <td>France</td>\n",
       "      <td>Female</td>\n",
       "      <td>42</td>\n",
       "      <td>2</td>\n",
       "      <td>0.00</td>\n",
       "      <td>1</td>\n",
       "      <td>1</td>\n",
       "      <td>1</td>\n",
       "      <td>101348.88</td>\n",
       "      <td>1</td>\n",
       "    </tr>\n",
       "    <tr>\n",
       "      <th>1</th>\n",
       "      <td>2</td>\n",
       "      <td>15647311</td>\n",
       "      <td>Hill</td>\n",
       "      <td>608</td>\n",
       "      <td>Spain</td>\n",
       "      <td>Female</td>\n",
       "      <td>41</td>\n",
       "      <td>1</td>\n",
       "      <td>83807.86</td>\n",
       "      <td>1</td>\n",
       "      <td>0</td>\n",
       "      <td>1</td>\n",
       "      <td>112542.58</td>\n",
       "      <td>0</td>\n",
       "    </tr>\n",
       "    <tr>\n",
       "      <th>2</th>\n",
       "      <td>3</td>\n",
       "      <td>15619304</td>\n",
       "      <td>Onio</td>\n",
       "      <td>502</td>\n",
       "      <td>France</td>\n",
       "      <td>Female</td>\n",
       "      <td>42</td>\n",
       "      <td>8</td>\n",
       "      <td>159660.80</td>\n",
       "      <td>3</td>\n",
       "      <td>1</td>\n",
       "      <td>0</td>\n",
       "      <td>113931.57</td>\n",
       "      <td>1</td>\n",
       "    </tr>\n",
       "    <tr>\n",
       "      <th>3</th>\n",
       "      <td>4</td>\n",
       "      <td>15701354</td>\n",
       "      <td>Boni</td>\n",
       "      <td>699</td>\n",
       "      <td>France</td>\n",
       "      <td>Female</td>\n",
       "      <td>39</td>\n",
       "      <td>1</td>\n",
       "      <td>0.00</td>\n",
       "      <td>2</td>\n",
       "      <td>0</td>\n",
       "      <td>0</td>\n",
       "      <td>93826.63</td>\n",
       "      <td>0</td>\n",
       "    </tr>\n",
       "    <tr>\n",
       "      <th>4</th>\n",
       "      <td>5</td>\n",
       "      <td>15737888</td>\n",
       "      <td>Mitchell</td>\n",
       "      <td>850</td>\n",
       "      <td>Spain</td>\n",
       "      <td>Female</td>\n",
       "      <td>43</td>\n",
       "      <td>2</td>\n",
       "      <td>125510.82</td>\n",
       "      <td>1</td>\n",
       "      <td>1</td>\n",
       "      <td>1</td>\n",
       "      <td>79084.10</td>\n",
       "      <td>0</td>\n",
       "    </tr>\n",
       "    <tr>\n",
       "      <th>...</th>\n",
       "      <td>...</td>\n",
       "      <td>...</td>\n",
       "      <td>...</td>\n",
       "      <td>...</td>\n",
       "      <td>...</td>\n",
       "      <td>...</td>\n",
       "      <td>...</td>\n",
       "      <td>...</td>\n",
       "      <td>...</td>\n",
       "      <td>...</td>\n",
       "      <td>...</td>\n",
       "      <td>...</td>\n",
       "      <td>...</td>\n",
       "      <td>...</td>\n",
       "    </tr>\n",
       "    <tr>\n",
       "      <th>9995</th>\n",
       "      <td>9996</td>\n",
       "      <td>15606229</td>\n",
       "      <td>Obijiaku</td>\n",
       "      <td>771</td>\n",
       "      <td>France</td>\n",
       "      <td>Male</td>\n",
       "      <td>39</td>\n",
       "      <td>5</td>\n",
       "      <td>0.00</td>\n",
       "      <td>2</td>\n",
       "      <td>1</td>\n",
       "      <td>0</td>\n",
       "      <td>96270.64</td>\n",
       "      <td>0</td>\n",
       "    </tr>\n",
       "    <tr>\n",
       "      <th>9996</th>\n",
       "      <td>9997</td>\n",
       "      <td>15569892</td>\n",
       "      <td>Johnstone</td>\n",
       "      <td>516</td>\n",
       "      <td>France</td>\n",
       "      <td>Male</td>\n",
       "      <td>35</td>\n",
       "      <td>10</td>\n",
       "      <td>57369.61</td>\n",
       "      <td>1</td>\n",
       "      <td>1</td>\n",
       "      <td>1</td>\n",
       "      <td>101699.77</td>\n",
       "      <td>0</td>\n",
       "    </tr>\n",
       "    <tr>\n",
       "      <th>9997</th>\n",
       "      <td>9998</td>\n",
       "      <td>15584532</td>\n",
       "      <td>Liu</td>\n",
       "      <td>709</td>\n",
       "      <td>France</td>\n",
       "      <td>Female</td>\n",
       "      <td>36</td>\n",
       "      <td>7</td>\n",
       "      <td>0.00</td>\n",
       "      <td>1</td>\n",
       "      <td>0</td>\n",
       "      <td>1</td>\n",
       "      <td>42085.58</td>\n",
       "      <td>1</td>\n",
       "    </tr>\n",
       "    <tr>\n",
       "      <th>9998</th>\n",
       "      <td>9999</td>\n",
       "      <td>15682355</td>\n",
       "      <td>Sabbatini</td>\n",
       "      <td>772</td>\n",
       "      <td>Germany</td>\n",
       "      <td>Male</td>\n",
       "      <td>42</td>\n",
       "      <td>3</td>\n",
       "      <td>75075.31</td>\n",
       "      <td>2</td>\n",
       "      <td>1</td>\n",
       "      <td>0</td>\n",
       "      <td>92888.52</td>\n",
       "      <td>1</td>\n",
       "    </tr>\n",
       "    <tr>\n",
       "      <th>9999</th>\n",
       "      <td>10000</td>\n",
       "      <td>15628319</td>\n",
       "      <td>Walker</td>\n",
       "      <td>792</td>\n",
       "      <td>France</td>\n",
       "      <td>Female</td>\n",
       "      <td>28</td>\n",
       "      <td>4</td>\n",
       "      <td>130142.79</td>\n",
       "      <td>1</td>\n",
       "      <td>1</td>\n",
       "      <td>0</td>\n",
       "      <td>38190.78</td>\n",
       "      <td>0</td>\n",
       "    </tr>\n",
       "  </tbody>\n",
       "</table>\n",
       "<p>10000 rows × 14 columns</p>\n",
       "</div>"
      ],
      "text/plain": [
       "      row_number  customer_id    surname  credit_score geography  gender  age  \\\n",
       "0              1     15634602   Hargrave           619    France  Female   42   \n",
       "1              2     15647311       Hill           608     Spain  Female   41   \n",
       "2              3     15619304       Onio           502    France  Female   42   \n",
       "3              4     15701354       Boni           699    France  Female   39   \n",
       "4              5     15737888   Mitchell           850     Spain  Female   43   \n",
       "...          ...          ...        ...           ...       ...     ...  ...   \n",
       "9995        9996     15606229   Obijiaku           771    France    Male   39   \n",
       "9996        9997     15569892  Johnstone           516    France    Male   35   \n",
       "9997        9998     15584532        Liu           709    France  Female   36   \n",
       "9998        9999     15682355  Sabbatini           772   Germany    Male   42   \n",
       "9999       10000     15628319     Walker           792    France  Female   28   \n",
       "\n",
       "      tenure    balance  num_of_products  has_cr_card  is_active_member  \\\n",
       "0          2       0.00                1            1                 1   \n",
       "1          1   83807.86                1            0                 1   \n",
       "2          8  159660.80                3            1                 0   \n",
       "3          1       0.00                2            0                 0   \n",
       "4          2  125510.82                1            1                 1   \n",
       "...      ...        ...              ...          ...               ...   \n",
       "9995       5       0.00                2            1                 0   \n",
       "9996      10   57369.61                1            1                 1   \n",
       "9997       7       0.00                1            0                 1   \n",
       "9998       3   75075.31                2            1                 0   \n",
       "9999       4  130142.79                1            1                 0   \n",
       "\n",
       "      estimated_salary  exited  \n",
       "0            101348.88       1  \n",
       "1            112542.58       0  \n",
       "2            113931.57       1  \n",
       "3             93826.63       0  \n",
       "4             79084.10       0  \n",
       "...                ...     ...  \n",
       "9995          96270.64       0  \n",
       "9996         101699.77       0  \n",
       "9997          42085.58       1  \n",
       "9998          92888.52       1  \n",
       "9999          38190.78       0  \n",
       "\n",
       "[10000 rows x 14 columns]"
      ]
     },
     "execution_count": 18,
     "metadata": {},
     "output_type": "execute_result"
    }
   ],
   "source": [
    "df"
   ]
  },
  {
   "cell_type": "code",
   "execution_count": 19,
   "metadata": {},
   "outputs": [
    {
     "data": {
      "text/plain": [
       "Index(['row_number', 'customer_id', 'surname', 'credit_score', 'geography',\n",
       "       'gender', 'age', 'tenure', 'balance', 'num_of_products', 'has_cr_card',\n",
       "       'is_active_member', 'estimated_salary', 'exited'],\n",
       "      dtype='object')"
      ]
     },
     "execution_count": 19,
     "metadata": {},
     "output_type": "execute_result"
    }
   ],
   "source": [
    "# now let's bring the column names to the stylistically correct format\n",
    "df.columns"
   ]
  },
  {
   "cell_type": "code",
   "execution_count": 20,
   "metadata": {},
   "outputs": [],
   "source": [
    "# we will delete the columns \"row_number\", \"customer_id\" and \"surname\", since the sequence number, id number and last name of the client cannot affect \"exited\"\n",
    "df.drop(columns=['row_number', 'customer_id','surname'],axis=1,inplace=True)"
   ]
  },
  {
   "cell_type": "code",
   "execution_count": 21,
   "metadata": {},
   "outputs": [
    {
     "data": {
      "text/html": [
       "<div>\n",
       "<style scoped>\n",
       "    .dataframe tbody tr th:only-of-type {\n",
       "        vertical-align: middle;\n",
       "    }\n",
       "\n",
       "    .dataframe tbody tr th {\n",
       "        vertical-align: top;\n",
       "    }\n",
       "\n",
       "    .dataframe thead th {\n",
       "        text-align: right;\n",
       "    }\n",
       "</style>\n",
       "<table border=\"1\" class=\"dataframe\">\n",
       "  <thead>\n",
       "    <tr style=\"text-align: right;\">\n",
       "      <th></th>\n",
       "      <th>credit_score</th>\n",
       "      <th>age</th>\n",
       "      <th>tenure</th>\n",
       "      <th>balance</th>\n",
       "      <th>num_of_products</th>\n",
       "      <th>has_cr_card</th>\n",
       "      <th>is_active_member</th>\n",
       "      <th>estimated_salary</th>\n",
       "      <th>exited</th>\n",
       "      <th>geography_Germany</th>\n",
       "      <th>geography_Spain</th>\n",
       "      <th>gender_Male</th>\n",
       "    </tr>\n",
       "  </thead>\n",
       "  <tbody>\n",
       "    <tr>\n",
       "      <th>0</th>\n",
       "      <td>619</td>\n",
       "      <td>42</td>\n",
       "      <td>2</td>\n",
       "      <td>0.00</td>\n",
       "      <td>1</td>\n",
       "      <td>1</td>\n",
       "      <td>1</td>\n",
       "      <td>101348.88</td>\n",
       "      <td>1</td>\n",
       "      <td>0</td>\n",
       "      <td>0</td>\n",
       "      <td>0</td>\n",
       "    </tr>\n",
       "    <tr>\n",
       "      <th>1</th>\n",
       "      <td>608</td>\n",
       "      <td>41</td>\n",
       "      <td>1</td>\n",
       "      <td>83807.86</td>\n",
       "      <td>1</td>\n",
       "      <td>0</td>\n",
       "      <td>1</td>\n",
       "      <td>112542.58</td>\n",
       "      <td>0</td>\n",
       "      <td>0</td>\n",
       "      <td>1</td>\n",
       "      <td>0</td>\n",
       "    </tr>\n",
       "    <tr>\n",
       "      <th>2</th>\n",
       "      <td>502</td>\n",
       "      <td>42</td>\n",
       "      <td>8</td>\n",
       "      <td>159660.80</td>\n",
       "      <td>3</td>\n",
       "      <td>1</td>\n",
       "      <td>0</td>\n",
       "      <td>113931.57</td>\n",
       "      <td>1</td>\n",
       "      <td>0</td>\n",
       "      <td>0</td>\n",
       "      <td>0</td>\n",
       "    </tr>\n",
       "    <tr>\n",
       "      <th>3</th>\n",
       "      <td>699</td>\n",
       "      <td>39</td>\n",
       "      <td>1</td>\n",
       "      <td>0.00</td>\n",
       "      <td>2</td>\n",
       "      <td>0</td>\n",
       "      <td>0</td>\n",
       "      <td>93826.63</td>\n",
       "      <td>0</td>\n",
       "      <td>0</td>\n",
       "      <td>0</td>\n",
       "      <td>0</td>\n",
       "    </tr>\n",
       "    <tr>\n",
       "      <th>4</th>\n",
       "      <td>850</td>\n",
       "      <td>43</td>\n",
       "      <td>2</td>\n",
       "      <td>125510.82</td>\n",
       "      <td>1</td>\n",
       "      <td>1</td>\n",
       "      <td>1</td>\n",
       "      <td>79084.10</td>\n",
       "      <td>0</td>\n",
       "      <td>0</td>\n",
       "      <td>1</td>\n",
       "      <td>0</td>\n",
       "    </tr>\n",
       "  </tbody>\n",
       "</table>\n",
       "</div>"
      ],
      "text/plain": [
       "   credit_score  age  tenure    balance  num_of_products  has_cr_card  \\\n",
       "0           619   42       2       0.00                1            1   \n",
       "1           608   41       1   83807.86                1            0   \n",
       "2           502   42       8  159660.80                3            1   \n",
       "3           699   39       1       0.00                2            0   \n",
       "4           850   43       2  125510.82                1            1   \n",
       "\n",
       "   is_active_member  estimated_salary  exited  geography_Germany  \\\n",
       "0                 1         101348.88       1                  0   \n",
       "1                 1         112542.58       0                  0   \n",
       "2                 0         113931.57       1                  0   \n",
       "3                 0          93826.63       0                  0   \n",
       "4                 1          79084.10       0                  0   \n",
       "\n",
       "   geography_Spain  gender_Male  \n",
       "0                0            0  \n",
       "1                1            0  \n",
       "2                0            0  \n",
       "3                0            0  \n",
       "4                1            0  "
      ]
     },
     "execution_count": 21,
     "metadata": {},
     "output_type": "execute_result"
    }
   ],
   "source": [
    "# to avoid fictitious signs, the OHE method is used\n",
    "df_ohe=pd.get_dummies(df, drop_first=True)\n",
    "df_ohe.head()"
   ]
  },
  {
   "cell_type": "markdown",
   "metadata": {},
   "source": [
    "Perfect data preprocessing is sufficient to translate the columns \"HasCrCard\", \"IsActiveMember\", \"Gender\" and \"Exited\" into Boolean values, since this does not affect the solution of the task."
   ]
  },
  {
   "cell_type": "code",
   "execution_count": 22,
   "metadata": {},
   "outputs": [
    {
     "data": {
      "text/plain": [
       "Text(0.5, 1.0, 'Correlation Heatmap')"
      ]
     },
     "execution_count": 22,
     "metadata": {},
     "output_type": "execute_result"
    },
    {
     "data": {
      "image/png": "[encoded data removed]",
      "text/plain": [
       "<Figure size 1152x432 with 2 Axes>"
      ]
     },
     "metadata": {
      "needs_background": "light"
     },
     "output_type": "display_data"
    }
   ],
   "source": [
    "#consider the correlation between features and their effect on the target\n",
    "plt.figure(figsize=(16, 6))\n",
    "heatmap= sns.heatmap(df_ohe.corr(), vmin=-1, vmax=1, annot=True, cmap='BrBG')\n",
    "heatmap.set_title('Correlation Heatmap', fontdict={'fontsize':12}, pad=12)"
   ]
  },
  {
   "cell_type": "markdown",
   "metadata": {},
   "source": [
    "It can be seen from the heat map that the geographical location of the client (see Germany and Spain), age and account balance have the greatest impact. At the same time, there was no excessive perception of individual signs that could \"confuse the model\"\""
   ]
  },
  {
   "cell_type": "markdown",
   "metadata": {},
   "source": [
    "## Problem Investigation"
   ]
  },
  {
   "cell_type": "markdown",
   "metadata": {},
   "source": [
    "As part of this analysis, we need to investigate the class balance and train and test the model without taking into account class balancing."
   ]
  },
  {
   "cell_type": "markdown",
   "metadata": {},
   "source": [
    "### Splitting data into samples"
   ]
  },
  {
   "cell_type": "code",
   "execution_count": 24,
   "metadata": {},
   "outputs": [],
   "source": [
    "# to do this, we split the data into samples, where \"exited\" is the target feature\n",
    "features = df_ohe.drop('exited', axis=1)\n",
    "target = df['exited']"
   ]
  },
  {
   "cell_type": "markdown",
   "metadata": {},
   "source": [
    "The samples should be divided in the ratio: training sample - 0.6, validation sample - 0.2, test sample - 0.2"
   ]
  },
  {
   "cell_type": "code",
   "execution_count": 25,
   "metadata": {},
   "outputs": [],
   "source": [
    "features_train, features_test, target_train, target_test = train_test_split(features, \n",
    "                                                                            target, \n",
    "                                                                            test_size=0.4, \n",
    "                                                                            random_state=12345\n",
    "                                                                           ) "
   ]
  },
  {
   "cell_type": "code",
   "execution_count": 26,
   "metadata": {},
   "outputs": [],
   "source": [
    "features_valid, features_test, target_valid, target_test = train_test_split(features_test, \n",
    "                                                                            target_test, \n",
    "                                                                            test_size=0.5, \n",
    "                                                                            random_state=12345\n",
    "                                                                           ) "
   ]
  },
  {
   "cell_type": "code",
   "execution_count": 27,
   "metadata": {},
   "outputs": [
    {
     "name": "stdout",
     "output_type": "stream",
     "text": [
      "(6000, 11)\n",
      "(6000,)\n"
     ]
    }
   ],
   "source": [
    "print(features_train.shape)\n",
    "print(target_train.shape)"
   ]
  },
  {
   "cell_type": "code",
   "execution_count": 28,
   "metadata": {},
   "outputs": [
    {
     "name": "stdout",
     "output_type": "stream",
     "text": [
      "(2000, 11)\n",
      "(2000,)\n"
     ]
    }
   ],
   "source": [
    "print(features_valid.shape)\n",
    "print(target_valid.shape)"
   ]
  },
  {
   "cell_type": "code",
   "execution_count": 27,
   "metadata": {},
   "outputs": [
    {
     "name": "stdout",
     "output_type": "stream",
     "text": [
      "(2000, 11)\n",
      "(2000,)\n"
     ]
    }
   ],
   "source": [
    "print(features_test.shape)\n",
    "print(target_test.shape)"
   ]
  },
  {
   "cell_type": "markdown",
   "metadata": {},
   "source": [
    "Thus we got the desired ratio of samples"
   ]
  },
  {
   "cell_type": "code",
   "execution_count": 30,
   "metadata": {},
   "outputs": [],
   "source": [
    "# for further work, we create a list of columns with numeric values\n",
    "numeric = ['credit_score','age','balance','num_of_products','estimated_salary','tenure']"
   ]
  },
  {
   "cell_type": "code",
   "execution_count": 31,
   "metadata": {},
   "outputs": [
    {
     "data": {
      "text/html": [
       "<style>#sk-container-id-1 {color: black;background-color: white;}#sk-container-id-1 pre{padding: 0;}#sk-container-id-1 div.sk-toggleable {background-color: white;}#sk-container-id-1 label.sk-toggleable__label {cursor: pointer;display: block;width: 100%;margin-bottom: 0;padding: 0.3em;box-sizing: border-box;text-align: center;}#sk-container-id-1 label.sk-toggleable__label-arrow:before {content: \"▸\";float: left;margin-right: 0.25em;color: #696969;}#sk-container-id-1 label.sk-toggleable__label-arrow:hover:before {color: black;}#sk-container-id-1 div.sk-estimator:hover label.sk-toggleable__label-arrow:before {color: black;}#sk-container-id-1 div.sk-toggleable__content {max-height: 0;max-width: 0;overflow: hidden;text-align: left;background-color: #f0f8ff;}#sk-container-id-1 div.sk-toggleable__content pre {margin: 0.2em;color: black;border-radius: 0.25em;background-color: #f0f8ff;}#sk-container-id-1 input.sk-toggleable__control:checked~div.sk-toggleable__content {max-height: 200px;max-width: 100%;overflow: auto;}#sk-container-id-1 input.sk-toggleable__control:checked~label.sk-toggleable__label-arrow:before {content: \"▾\";}#sk-container-id-1 div.sk-estimator input.sk-toggleable__control:checked~label.sk-toggleable__label {background-color: #d4ebff;}#sk-container-id-1 div.sk-label input.sk-toggleable__control:checked~label.sk-toggleable__label {background-color: #d4ebff;}#sk-container-id-1 input.sk-hidden--visually {border: 0;clip: rect(1px 1px 1px 1px);clip: rect(1px, 1px, 1px, 1px);height: 1px;margin: -1px;overflow: hidden;padding: 0;position: absolute;width: 1px;}#sk-container-id-1 div.sk-estimator {font-family: monospace;background-color: #f0f8ff;border: 1px dotted black;border-radius: 0.25em;box-sizing: border-box;margin-bottom: 0.5em;}#sk-container-id-1 div.sk-estimator:hover {background-color: #d4ebff;}#sk-container-id-1 div.sk-parallel-item::after {content: \"\";width: 100%;border-bottom: 1px solid gray;flex-grow: 1;}#sk-container-id-1 div.sk-label:hover label.sk-toggleable__label {background-color: #d4ebff;}#sk-container-id-1 div.sk-serial::before {content: \"\";position: absolute;border-left: 1px solid gray;box-sizing: border-box;top: 0;bottom: 0;left: 50%;z-index: 0;}#sk-container-id-1 div.sk-serial {display: flex;flex-direction: column;align-items: center;background-color: white;padding-right: 0.2em;padding-left: 0.2em;position: relative;}#sk-container-id-1 div.sk-item {position: relative;z-index: 1;}#sk-container-id-1 div.sk-parallel {display: flex;align-items: stretch;justify-content: center;background-color: white;position: relative;}#sk-container-id-1 div.sk-item::before, #sk-container-id-1 div.sk-parallel-item::before {content: \"\";position: absolute;border-left: 1px solid gray;box-sizing: border-box;top: 0;bottom: 0;left: 50%;z-index: -1;}#sk-container-id-1 div.sk-parallel-item {display: flex;flex-direction: column;z-index: 1;position: relative;background-color: white;}#sk-container-id-1 div.sk-parallel-item:first-child::after {align-self: flex-end;width: 50%;}#sk-container-id-1 div.sk-parallel-item:last-child::after {align-self: flex-start;width: 50%;}#sk-container-id-1 div.sk-parallel-item:only-child::after {width: 0;}#sk-container-id-1 div.sk-dashed-wrapped {border: 1px dashed gray;margin: 0 0.4em 0.5em 0.4em;box-sizing: border-box;padding-bottom: 0.4em;background-color: white;}#sk-container-id-1 div.sk-label label {font-family: monospace;font-weight: bold;display: inline-block;line-height: 1.2em;}#sk-container-id-1 div.sk-label-container {text-align: center;}#sk-container-id-1 div.sk-container {/* jupyter's `normalize.less` sets `[hidden] { display: none; }` but bootstrap.min.css set `[hidden] { display: none !important; }` so we also need the `!important` here to be able to override the default hidden behavior on the sphinx rendered scikit-learn.org. See: https://github.com/scikit-learn/scikit-learn/issues/21755 */display: inline-block !important;position: relative;}#sk-container-id-1 div.sk-text-repr-fallback {display: none;}</style><div id=\"sk-container-id-1\" class=\"sk-top-container\"><div class=\"sk-text-repr-fallback\"><pre>StandardScaler()</pre><b>In a Jupyter environment, please rerun this cell to show the HTML representation or trust the notebook. <br />On GitHub, the HTML representation is unable to render, please try loading this page with nbviewer.org.</b></div><div class=\"sk-container\" hidden><div class=\"sk-item\"><div class=\"sk-estimator sk-toggleable\"><input class=\"sk-toggleable__control sk-hidden--visually\" id=\"sk-estimator-id-1\" type=\"checkbox\" checked><label for=\"sk-estimator-id-1\" class=\"sk-toggleable__label sk-toggleable__label-arrow\">StandardScaler</label><div class=\"sk-toggleable__content\"><pre>StandardScaler()</pre></div></div></div></div></div>"
      ],
      "text/plain": [
       "StandardScaler()"
      ]
     },
     "execution_count": 31,
     "metadata": {},
     "output_type": "execute_result"
    }
   ],
   "source": [
    "scaler = StandardScaler()\n",
    "scaler.fit(features_train[numeric])"
   ]
  },
  {
   "cell_type": "code",
   "execution_count": 32,
   "metadata": {},
   "outputs": [
    {
     "data": {
      "text/html": [
       "<div>\n",
       "<style scoped>\n",
       "    .dataframe tbody tr th:only-of-type {\n",
       "        vertical-align: middle;\n",
       "    }\n",
       "\n",
       "    .dataframe tbody tr th {\n",
       "        vertical-align: top;\n",
       "    }\n",
       "\n",
       "    .dataframe thead th {\n",
       "        text-align: right;\n",
       "    }\n",
       "</style>\n",
       "<table border=\"1\" class=\"dataframe\">\n",
       "  <thead>\n",
       "    <tr style=\"text-align: right;\">\n",
       "      <th></th>\n",
       "      <th>credit_score</th>\n",
       "      <th>age</th>\n",
       "      <th>tenure</th>\n",
       "      <th>balance</th>\n",
       "      <th>num_of_products</th>\n",
       "      <th>has_cr_card</th>\n",
       "      <th>is_active_member</th>\n",
       "      <th>estimated_salary</th>\n",
       "      <th>geography_Germany</th>\n",
       "      <th>geography_Spain</th>\n",
       "      <th>gender_Male</th>\n",
       "    </tr>\n",
       "  </thead>\n",
       "  <tbody>\n",
       "    <tr>\n",
       "      <th>7479</th>\n",
       "      <td>-0.886751</td>\n",
       "      <td>-0.373192</td>\n",
       "      <td>1.047479</td>\n",
       "      <td>1.232271</td>\n",
       "      <td>-0.891560</td>\n",
       "      <td>1</td>\n",
       "      <td>0</td>\n",
       "      <td>-0.187705</td>\n",
       "      <td>0</td>\n",
       "      <td>1</td>\n",
       "      <td>1</td>\n",
       "    </tr>\n",
       "    <tr>\n",
       "      <th>3411</th>\n",
       "      <td>0.608663</td>\n",
       "      <td>-0.183385</td>\n",
       "      <td>1.047479</td>\n",
       "      <td>0.600563</td>\n",
       "      <td>-0.891560</td>\n",
       "      <td>0</td>\n",
       "      <td>0</td>\n",
       "      <td>-0.333945</td>\n",
       "      <td>0</td>\n",
       "      <td>0</td>\n",
       "      <td>0</td>\n",
       "    </tr>\n",
       "    <tr>\n",
       "      <th>6027</th>\n",
       "      <td>2.052152</td>\n",
       "      <td>0.480939</td>\n",
       "      <td>-0.684750</td>\n",
       "      <td>1.027098</td>\n",
       "      <td>0.830152</td>\n",
       "      <td>0</td>\n",
       "      <td>1</td>\n",
       "      <td>1.503095</td>\n",
       "      <td>1</td>\n",
       "      <td>0</td>\n",
       "      <td>1</td>\n",
       "    </tr>\n",
       "    <tr>\n",
       "      <th>1247</th>\n",
       "      <td>-1.457915</td>\n",
       "      <td>-1.417129</td>\n",
       "      <td>0.354587</td>\n",
       "      <td>-1.233163</td>\n",
       "      <td>0.830152</td>\n",
       "      <td>1</td>\n",
       "      <td>0</td>\n",
       "      <td>-1.071061</td>\n",
       "      <td>0</td>\n",
       "      <td>0</td>\n",
       "      <td>1</td>\n",
       "    </tr>\n",
       "    <tr>\n",
       "      <th>3716</th>\n",
       "      <td>0.130961</td>\n",
       "      <td>-1.132419</td>\n",
       "      <td>-1.031196</td>\n",
       "      <td>1.140475</td>\n",
       "      <td>-0.891560</td>\n",
       "      <td>0</td>\n",
       "      <td>0</td>\n",
       "      <td>1.524268</td>\n",
       "      <td>1</td>\n",
       "      <td>0</td>\n",
       "      <td>0</td>\n",
       "    </tr>\n",
       "  </tbody>\n",
       "</table>\n",
       "</div>"
      ],
      "text/plain": [
       "      credit_score       age    tenure   balance  num_of_products  \\\n",
       "7479     -0.886751 -0.373192  1.047479  1.232271        -0.891560   \n",
       "3411      0.608663 -0.183385  1.047479  0.600563        -0.891560   \n",
       "6027      2.052152  0.480939 -0.684750  1.027098         0.830152   \n",
       "1247     -1.457915 -1.417129  0.354587 -1.233163         0.830152   \n",
       "3716      0.130961 -1.132419 -1.031196  1.140475        -0.891560   \n",
       "\n",
       "      has_cr_card  is_active_member  estimated_salary  geography_Germany  \\\n",
       "7479            1                 0         -0.187705                  0   \n",
       "3411            0                 0         -0.333945                  0   \n",
       "6027            0                 1          1.503095                  1   \n",
       "1247            1                 0         -1.071061                  0   \n",
       "3716            0                 0          1.524268                  1   \n",
       "\n",
       "      geography_Spain  gender_Male  \n",
       "7479                1            1  \n",
       "3411                0            0  \n",
       "6027                0            1  \n",
       "1247                0            1  \n",
       "3716                0            0  "
      ]
     },
     "execution_count": 32,
     "metadata": {},
     "output_type": "execute_result"
    }
   ],
   "source": [
    "# scaling the selected features of the training sample\n",
    "features_train[numeric] = scaler.transform(features_train[numeric])\n",
    "features_train.head()"
   ]
  },
  {
   "cell_type": "code",
   "execution_count": 33,
   "metadata": {},
   "outputs": [
    {
     "data": {
      "text/html": [
       "<div>\n",
       "<style scoped>\n",
       "    .dataframe tbody tr th:only-of-type {\n",
       "        vertical-align: middle;\n",
       "    }\n",
       "\n",
       "    .dataframe tbody tr th {\n",
       "        vertical-align: top;\n",
       "    }\n",
       "\n",
       "    .dataframe thead th {\n",
       "        text-align: right;\n",
       "    }\n",
       "</style>\n",
       "<table border=\"1\" class=\"dataframe\">\n",
       "  <thead>\n",
       "    <tr style=\"text-align: right;\">\n",
       "      <th></th>\n",
       "      <th>credit_score</th>\n",
       "      <th>age</th>\n",
       "      <th>tenure</th>\n",
       "      <th>balance</th>\n",
       "      <th>num_of_products</th>\n",
       "      <th>has_cr_card</th>\n",
       "      <th>is_active_member</th>\n",
       "      <th>estimated_salary</th>\n",
       "      <th>geography_Germany</th>\n",
       "      <th>geography_Spain</th>\n",
       "      <th>gender_Male</th>\n",
       "    </tr>\n",
       "  </thead>\n",
       "  <tbody>\n",
       "    <tr>\n",
       "      <th>8532</th>\n",
       "      <td>-0.699824</td>\n",
       "      <td>-0.373192</td>\n",
       "      <td>-1.031196</td>\n",
       "      <td>-1.233163</td>\n",
       "      <td>0.830152</td>\n",
       "      <td>1</td>\n",
       "      <td>0</td>\n",
       "      <td>-0.015173</td>\n",
       "      <td>0</td>\n",
       "      <td>0</td>\n",
       "      <td>0</td>\n",
       "    </tr>\n",
       "    <tr>\n",
       "      <th>5799</th>\n",
       "      <td>-0.284431</td>\n",
       "      <td>0.575842</td>\n",
       "      <td>-0.684750</td>\n",
       "      <td>-1.233163</td>\n",
       "      <td>-0.891560</td>\n",
       "      <td>1</td>\n",
       "      <td>1</td>\n",
       "      <td>1.471724</td>\n",
       "      <td>0</td>\n",
       "      <td>0</td>\n",
       "      <td>0</td>\n",
       "    </tr>\n",
       "    <tr>\n",
       "      <th>5511</th>\n",
       "      <td>0.151731</td>\n",
       "      <td>-0.657902</td>\n",
       "      <td>-1.724088</td>\n",
       "      <td>0.438711</td>\n",
       "      <td>-0.891560</td>\n",
       "      <td>1</td>\n",
       "      <td>0</td>\n",
       "      <td>-1.367107</td>\n",
       "      <td>1</td>\n",
       "      <td>0</td>\n",
       "      <td>1</td>\n",
       "    </tr>\n",
       "    <tr>\n",
       "      <th>7365</th>\n",
       "      <td>-0.876366</td>\n",
       "      <td>-0.278288</td>\n",
       "      <td>1.740371</td>\n",
       "      <td>1.239884</td>\n",
       "      <td>-0.891560</td>\n",
       "      <td>1</td>\n",
       "      <td>1</td>\n",
       "      <td>-0.786517</td>\n",
       "      <td>0</td>\n",
       "      <td>1</td>\n",
       "      <td>0</td>\n",
       "    </tr>\n",
       "    <tr>\n",
       "      <th>7367</th>\n",
       "      <td>-0.481743</td>\n",
       "      <td>0.291132</td>\n",
       "      <td>1.740371</td>\n",
       "      <td>-1.233163</td>\n",
       "      <td>0.830152</td>\n",
       "      <td>1</td>\n",
       "      <td>0</td>\n",
       "      <td>1.358533</td>\n",
       "      <td>0</td>\n",
       "      <td>1</td>\n",
       "      <td>1</td>\n",
       "    </tr>\n",
       "  </tbody>\n",
       "</table>\n",
       "</div>"
      ],
      "text/plain": [
       "      credit_score       age    tenure   balance  num_of_products  \\\n",
       "8532     -0.699824 -0.373192 -1.031196 -1.233163         0.830152   \n",
       "5799     -0.284431  0.575842 -0.684750 -1.233163        -0.891560   \n",
       "5511      0.151731 -0.657902 -1.724088  0.438711        -0.891560   \n",
       "7365     -0.876366 -0.278288  1.740371  1.239884        -0.891560   \n",
       "7367     -0.481743  0.291132  1.740371 -1.233163         0.830152   \n",
       "\n",
       "      has_cr_card  is_active_member  estimated_salary  geography_Germany  \\\n",
       "8532            1                 0         -0.015173                  0   \n",
       "5799            1                 1          1.471724                  0   \n",
       "5511            1                 0         -1.367107                  1   \n",
       "7365            1                 1         -0.786517                  0   \n",
       "7367            1                 0          1.358533                  0   \n",
       "\n",
       "      geography_Spain  gender_Male  \n",
       "8532                0            0  \n",
       "5799                0            0  \n",
       "5511                0            1  \n",
       "7365                1            0  \n",
       "7367                1            1  "
      ]
     },
     "execution_count": 33,
     "metadata": {},
     "output_type": "execute_result"
    }
   ],
   "source": [
    "# scaling the numerical features of the validation sample\n",
    "features_valid[numeric] = scaler.transform(features_valid[numeric])\n",
    "features_valid.head()"
   ]
  },
  {
   "cell_type": "code",
   "execution_count": 34,
   "metadata": {
    "scrolled": true
   },
   "outputs": [
    {
     "data": {
      "text/html": [
       "<div>\n",
       "<style scoped>\n",
       "    .dataframe tbody tr th:only-of-type {\n",
       "        vertical-align: middle;\n",
       "    }\n",
       "\n",
       "    .dataframe tbody tr th {\n",
       "        vertical-align: top;\n",
       "    }\n",
       "\n",
       "    .dataframe thead th {\n",
       "        text-align: right;\n",
       "    }\n",
       "</style>\n",
       "<table border=\"1\" class=\"dataframe\">\n",
       "  <thead>\n",
       "    <tr style=\"text-align: right;\">\n",
       "      <th></th>\n",
       "      <th>credit_score</th>\n",
       "      <th>age</th>\n",
       "      <th>tenure</th>\n",
       "      <th>balance</th>\n",
       "      <th>num_of_products</th>\n",
       "      <th>has_cr_card</th>\n",
       "      <th>is_active_member</th>\n",
       "      <th>estimated_salary</th>\n",
       "      <th>geography_Germany</th>\n",
       "      <th>geography_Spain</th>\n",
       "      <th>gender_Male</th>\n",
       "    </tr>\n",
       "  </thead>\n",
       "  <tbody>\n",
       "    <tr>\n",
       "      <th>7041</th>\n",
       "      <td>-2.226392</td>\n",
       "      <td>-0.088482</td>\n",
       "      <td>-1.031196</td>\n",
       "      <td>-1.233163</td>\n",
       "      <td>0.830152</td>\n",
       "      <td>1</td>\n",
       "      <td>0</td>\n",
       "      <td>0.647083</td>\n",
       "      <td>0</td>\n",
       "      <td>0</td>\n",
       "      <td>1</td>\n",
       "    </tr>\n",
       "    <tr>\n",
       "      <th>5709</th>\n",
       "      <td>-0.087120</td>\n",
       "      <td>0.006422</td>\n",
       "      <td>1.393925</td>\n",
       "      <td>-1.233163</td>\n",
       "      <td>-0.891560</td>\n",
       "      <td>1</td>\n",
       "      <td>0</td>\n",
       "      <td>-1.658410</td>\n",
       "      <td>0</td>\n",
       "      <td>0</td>\n",
       "      <td>0</td>\n",
       "    </tr>\n",
       "    <tr>\n",
       "      <th>7117</th>\n",
       "      <td>-0.917905</td>\n",
       "      <td>-0.752805</td>\n",
       "      <td>0.008141</td>\n",
       "      <td>0.722307</td>\n",
       "      <td>-0.891560</td>\n",
       "      <td>1</td>\n",
       "      <td>1</td>\n",
       "      <td>-1.369334</td>\n",
       "      <td>0</td>\n",
       "      <td>1</td>\n",
       "      <td>1</td>\n",
       "    </tr>\n",
       "    <tr>\n",
       "      <th>7775</th>\n",
       "      <td>-0.253277</td>\n",
       "      <td>0.101325</td>\n",
       "      <td>1.740371</td>\n",
       "      <td>-1.233163</td>\n",
       "      <td>0.830152</td>\n",
       "      <td>1</td>\n",
       "      <td>0</td>\n",
       "      <td>0.075086</td>\n",
       "      <td>0</td>\n",
       "      <td>1</td>\n",
       "      <td>1</td>\n",
       "    </tr>\n",
       "    <tr>\n",
       "      <th>8735</th>\n",
       "      <td>0.785204</td>\n",
       "      <td>-0.847708</td>\n",
       "      <td>1.740371</td>\n",
       "      <td>0.615625</td>\n",
       "      <td>-0.891560</td>\n",
       "      <td>0</td>\n",
       "      <td>1</td>\n",
       "      <td>-1.070919</td>\n",
       "      <td>0</td>\n",
       "      <td>0</td>\n",
       "      <td>1</td>\n",
       "    </tr>\n",
       "  </tbody>\n",
       "</table>\n",
       "</div>"
      ],
      "text/plain": [
       "      credit_score       age    tenure   balance  num_of_products  \\\n",
       "7041     -2.226392 -0.088482 -1.031196 -1.233163         0.830152   \n",
       "5709     -0.087120  0.006422  1.393925 -1.233163        -0.891560   \n",
       "7117     -0.917905 -0.752805  0.008141  0.722307        -0.891560   \n",
       "7775     -0.253277  0.101325  1.740371 -1.233163         0.830152   \n",
       "8735      0.785204 -0.847708  1.740371  0.615625        -0.891560   \n",
       "\n",
       "      has_cr_card  is_active_member  estimated_salary  geography_Germany  \\\n",
       "7041            1                 0          0.647083                  0   \n",
       "5709            1                 0         -1.658410                  0   \n",
       "7117            1                 1         -1.369334                  0   \n",
       "7775            1                 0          0.075086                  0   \n",
       "8735            0                 1         -1.070919                  0   \n",
       "\n",
       "      geography_Spain  gender_Male  \n",
       "7041                0            1  \n",
       "5709                0            0  \n",
       "7117                1            1  \n",
       "7775                1            1  \n",
       "8735                0            1  "
      ]
     },
     "execution_count": 34,
     "metadata": {},
     "output_type": "execute_result"
    }
   ],
   "source": [
    "# scaling the numerical features of the test sample\n",
    "features_test[numeric] = scaler.transform(features_test[numeric])\n",
    "features_test.head()\n"
   ]
  },
  {
   "cell_type": "markdown",
   "metadata": {},
   "source": [
    "### Testing models without accounting balancing classes"
   ]
  },
  {
   "cell_type": "code",
   "execution_count": 35,
   "metadata": {},
   "outputs": [
    {
     "name": "stdout",
     "output_type": "stream",
     "text": [
      "Accuracy of the best model on the validation sample: 0.858 Best depth: 6\n"
     ]
    }
   ],
   "source": [
    "best_model = None\n",
    "best_result = 0\n",
    "for depth in range(1,11):\n",
    "    model = DecisionTreeClassifier(random_state=12345, max_depth=depth) \n",
    "    model.fit(features_train, target_train) \n",
    "    predictions_valid = model.predict(features_valid) \n",
    "    result = accuracy_score(target_valid, predictions_valid) \n",
    "    if result > best_result:\n",
    "        best_model = model \n",
    "        best_result = result \n",
    "        best_depth = depth\n",
    "print(\"Accuracy of the best model on the validation sample:\", best_result, \"Best depth:\", best_depth)\n"
   ]
  },
  {
   "cell_type": "code",
   "execution_count": 36,
   "metadata": {},
   "outputs": [
    {
     "name": "stdout",
     "output_type": "stream",
     "text": [
      "Accuracy of the model on the validation sample: 0.861 Parameters of the best model: Number of trees: 7 Best depth: 10\n"
     ]
    }
   ],
   "source": [
    "best_model = None\n",
    "best_result = 0\n",
    "best_depth = 0\n",
    "best_result = 0\n",
    "for est in range(1, 11):\n",
    "    for depth in range(1, 11):\n",
    "        model = RandomForestClassifier(random_state=12345, n_estimators=est, max_depth = depth)\n",
    "        model.fit(features_train, target_train) \n",
    "        predictions_valid = model.predict(features_valid)\n",
    "        result = accuracy_score(target_valid, predictions_valid)\n",
    "        if result > best_result:\n",
    "            best_model = model\n",
    "            best_depth = depth\n",
    "            best_result = result\n",
    "            best_est = est\n",
    "        \n",
    "\n",
    "print(\"Accuracy of the model on the validation sample:\", result, \"Parameters of the best model:\", \"Number of trees:\", best_est, \"Best depth:\", best_depth)\n",
    "    "
   ]
  },
  {
   "cell_type": "code",
   "execution_count": 37,
   "metadata": {},
   "outputs": [
    {
     "name": "stdout",
     "output_type": "stream",
     "text": [
      "Accuracy of the model on the validation sample: 0.676\n"
     ]
    }
   ],
   "source": [
    "model = LogisticRegression(random_state=12345, solver='lbfgs', max_iter=100)\n",
    "model.fit(features, target)\n",
    "predictions_valid = model.predict(features_valid) \n",
    "result = accuracy_score(target_valid, predictions_valid) \n",
    "print(\"Accuracy of the model on the validation sample:\", result)\n"
   ]
  },
  {
   "cell_type": "markdown",
   "metadata": {},
   "source": [
    "The best model before class balancing is a random forest with parameters Number of trees: 7 Best depth: 9"
   ]
  },
  {
   "cell_type": "code",
   "execution_count": 38,
   "metadata": {},
   "outputs": [
    {
     "name": "stdout",
     "output_type": "stream",
     "text": [
      "AUC-ROC DecisionTreeClassifier 0.8164631712023421\n",
      "AUC-ROC RandomForestClassifier 0.8442261627520128\n",
      "AUC-ROC LogisticRegression 0.7585002328830927\n"
     ]
    },
    {
     "data": {
      "image/png": "[encoded data removed]",
      "text/plain": [
       "<Figure size 864x648 with 1 Axes>"
      ]
     },
     "metadata": {
      "needs_background": "light"
     },
     "output_type": "display_data"
    }
   ],
   "source": [
    "\n",
    "plt.figure(figsize=[12,9])\n",
    "\n",
    "plt.plot([0, 1], [0, 1], linestyle='--', label='Random model')\n",
    "\n",
    "model = DecisionTreeClassifier(random_state=12345, max_depth=6)\n",
    "model.fit(features_train, target_train)\n",
    "probabilities_valid = model.predict_proba(features_valid)\n",
    "probabilities_one_valid = probabilities_valid[:, 1]\n",
    "fpr, tpr, thresholds = roc_curve(target_valid, probabilities_one_valid)\n",
    "auc_roc = roc_auc_score(target_valid, probabilities_one_valid)\n",
    "print('AUC-ROC DecisionTreeClassifier',auc_roc)\n",
    "plt.plot(fpr, tpr, label='DecisionTreeClassifier')\n",
    "\n",
    "model = RandomForestClassifier(random_state=12345, n_estimators=est, max_depth = depth)\n",
    "model.fit(features_train, target_train)\n",
    "probabilities_valid = model.predict_proba(features_valid)\n",
    "probabilities_one_valid = probabilities_valid[:, 1]\n",
    "fpr, tpr, thresholds = roc_curve(target_valid, probabilities_one_valid)\n",
    "auc_roc = roc_auc_score(target_valid, probabilities_one_valid)\n",
    "print('AUC-ROC RandomForestClassifier',auc_roc)\n",
    "plt.plot(fpr, tpr, label='RandomForestClassifier')\n",
    "\n",
    "model = LogisticRegression(random_state=12345, solver='lbfgs', max_iter=100)\n",
    "model.fit(features_train, target_train)\n",
    "probabilities_valid = model.predict_proba(features_valid)\n",
    "probabilities_one_valid = probabilities_valid[:, 1]\n",
    "fpr, tpr, thresholds = roc_curve(target_valid, probabilities_one_valid)\n",
    "auc_roc = roc_auc_score(target_valid, probabilities_one_valid)\n",
    "print('AUC-ROC LogisticRegression',auc_roc)\n",
    "plt.plot(fpr, tpr, label='LogisticRegression')\n",
    "\n",
    "plt.xlim([0,1])\n",
    "plt.ylim([0,1])\n",
    "\n",
    "plt.xlabel(\"False Positive Rate\")\n",
    "plt.ylabel(\"True Positive Rate\")\n",
    "\n",
    "plt.legend(loc='lower right', fontsize='x-large')\n",
    "\n",
    "plt.title(\"ROC curve\")\n",
    "plt.show()"
   ]
  },
  {
   "cell_type": "markdown",
   "metadata": {},
   "source": [
    "All three models show results better than the random model. At the same time, the logistic regression of the three shows the worst result. Consider the effect of the imbalance on the models in the next part of the paper."
   ]
  },
  {
   "cell_type": "markdown",
   "metadata": {},
   "source": [
    "## Balancing classes"
   ]
  },
  {
   "cell_type": "code",
   "execution_count": 41,
   "metadata": {
    "scrolled": true
   },
   "outputs": [
    {
     "data": {
      "image/png": "[encoded data removed]",
      "text/plain": [
       "<Figure size 720x360 with 1 Axes>"
      ]
     },
     "metadata": {
      "needs_background": "light"
     },
     "output_type": "display_data"
    }
   ],
   "source": [
    "# first, let's check the current balance of classes\n",
    "target_train.plot(kind='hist', bins=2, figsize=(10, 5))\n",
    "plt.title(\"Histogram of Target Variable (target_train)\")\n",
    "plt.xlabel(\"Target Value\")\n",
    "plt.ylabel(\"Frequency\")\n",
    "plt.show()"
   ]
  },
  {
   "cell_type": "code",
   "execution_count": 42,
   "metadata": {},
   "outputs": [
    {
     "data": {
      "text/plain": [
       "0    0.800667\n",
       "1    0.199333\n",
       "Name: exited, dtype: float64"
      ]
     },
     "execution_count": 42,
     "metadata": {},
     "output_type": "execute_result"
    }
   ],
   "source": [
    "target_train.value_counts(normalize = 1)"
   ]
  },
  {
   "cell_type": "markdown",
   "metadata": {},
   "source": [
    "The graph shows a clear bias in the values, 0 occurs in 80% of cases"
   ]
  },
  {
   "cell_type": "markdown",
   "metadata": {},
   "source": [
    "Let's apply the studied methods of normalizing the balance of classes:\n",
    "\n",
    "- ClassWeight (balancing)\n",
    "- Upsampling\n",
    "- Downsampling"
   ]
  },
  {
   "cell_type": "markdown",
   "metadata": {},
   "source": [
    "### ClassWeight"
   ]
  },
  {
   "cell_type": "code",
   "execution_count": 43,
   "metadata": {
    "scrolled": true
   },
   "outputs": [
    {
     "name": "stdout",
     "output_type": "stream",
     "text": [
      "Model view: Decision tree without balancing classes\n",
      "Accuracy (accuaracy): 0.8475\n",
      "Accuracy models: 0.6982456140350877\n",
      "Completeness of the model: 0.47607655502392343\n",
      "F1: 0.566145092460882\n",
      "\n",
      "Model view: Decision tree with class balancing\n",
      "Accuracy (accuaracy): 0.754\n",
      "Model accuracy: 0.44126984126984126\n",
      "Model completeness: 0.6650717703349283\n",
      "F1: 0.5305343511450382\n"
     ]
    }
   ],
   "source": [
    "# Class balancer Crucial tree\n",
    "model = DecisionTreeClassifier(random_state=12345, max_depth=9)\n",
    "model.fit(features_train, target_train)\n",
    "predicted_valid= model.predict(features_valid)\n",
    "print('Model view: Decision tree without balancing classes')\n",
    "print('Accuracy (accuaracy):', accuracy_score(target_valid, predicted_valid))\n",
    "print('Accuracy models:', precision_score(target_valid, predicted_valid))\n",
    "print('Completeness of the model:', recall_score(target_valid, predicted_valid))\n",
    "print('F1:', f1_score(target_valid, predicted_valid))\n",
    "print()\n",
    "\n",
    "model = DecisionTreeClassifier(random_state=12345, max_depth=9, class_weight='balanced')\n",
    "model.fit(features_train, target_train)\n",
    "predicted_valid= model.predict(features_valid)\n",
    "print('Model view: Decision tree with class balancing')\n",
    "print('Accuracy (accuaracy):', accuracy_score(target_valid , predicted_valid))\n",
    "print('Model accuracy:', precision_score(target_valid, predicted_valid))\n",
    "print('Model completeness:', recall_score(target_valid, predicted_valid))\n",
    "print('F1:', f1_score(target_valid, predicted_valid))"
   ]
  },
  {
   "cell_type": "markdown",
   "metadata": {},
   "source": [
    "After balancing and accuracy decreased, increased completeness did not compensate for the quality of the model, F1 also decreased."
   ]
  },
  {
   "cell_type": "code",
   "execution_count": 44,
   "metadata": {},
   "outputs": [
    {
     "name": "stdout",
     "output_type": "stream",
     "text": [
      "Random forest without class balancing\n",
      "Accuracy(accuaracy): 0.854\n",
      "Model accuracy: 0.8181818181818182\n",
      "Model completeness: 0.3875598086124402\n",
      "F1: 0.5259740259740261\n",
      "\n",
      "Random forest with class balancing\n",
      "Accuracy(accuaracy): 0.8025\n",
      "Model accuracy: 0.5205724508050089\n",
      "Model completeness: 0.6961722488038278\n",
      "F1: 0.5957011258955988\n"
     ]
    }
   ],
   "source": [
    "# Class balancer Random Forest\n",
    "\n",
    "model = RandomForestClassifier(random_state=12345, max_depth=6, n_estimators=7)\n",
    "model.fit(features_train, target_train)\n",
    "predicted_valid = model.predict(features_valid)\n",
    "print('Random forest without class balancing')\n",
    "print('Accuracy(accuaracy):', accuracy_score(target_valid, predicted_valid))\n",
    "print('Model accuracy:', precision_score(target_valid, predicted_valid))\n",
    "print('Model completeness:', recall_score(target_valid, predicted_valid))\n",
    "print('F1:', f1_score(target_valid, predicted_valid))\n",
    "print()\n",
    "\n",
    "model = RandomForestClassifier(random_state=12345, max_depth=6, n_estimators=7, class_weight='balanced')\n",
    "model.fit(features_train, target_train)\n",
    "predicted_valid = model.predict(features_valid)\n",
    "print('Random forest with class balancing')\n",
    "print('Accuracy(accuaracy):', accuracy_score (target_valid, predicted_valid))\n",
    "print('Model accuracy:', precision_score(target_valid, predicted_valid))\n",
    "print('Model completeness:', recall_score(target_valid, predicted_valid))\n",
    "print('F1:', f1_score(target_valid, predicted_valid))"
   ]
  },
  {
   "cell_type": "markdown",
   "metadata": {},
   "source": [
    "The F1 metric has increased due to a significant increase in completeness."
   ]
  },
  {
   "cell_type": "code",
   "execution_count": 45,
   "metadata": {},
   "outputs": [
    {
     "name": "stdout",
     "output_type": "stream",
     "text": [
      "Logistic regression without class balancing\n",
      "Accuracy(accuaracy): 0.802\n",
      "Model accuracy: 0.5625\n",
      "Model completeness: 0.23684210526315788\n",
      "F1: 0.3333333333333333\n",
      "\n",
      "Logistic regression with class balancing\n",
      "Accuracy(accuaracy): 0.7025\n",
      "Model accuracy: 0.3818424566088118\n",
      "Model completeness: 0.6842105263157895\n",
      "F1: 0.4901456726649529\n"
     ]
    }
   ],
   "source": [
    "# Class balancer Logistic regression\n",
    "model = LogisticRegression(random_state=20052020, solver='liblinear')\n",
    "model.fit(features_train, target_train)\n",
    "predicted_valid = model.predict(features_valid)\n",
    "print('Logistic regression without class balancing')\n",
    "print('Accuracy(accuaracy):', accuracy_score( target_valid, predicted_valid))\n",
    "print('Model accuracy:', precision_score(target_valid, predicted_valid))\n",
    "print('Model completeness:', recall_score(target_valid, predicted_valid))\n",
    "print('F1:', f1_score(target_valid, predicted_valid))\n",
    "print()\n",
    "\n",
    "model = LogisticRegression(random_state=20052020, solver='liblinear', class_weight='balanced')\n",
    "model.fit(features_train, target_train)\n",
    "predicted_valid = model.predict(features_valid)\n",
    "print('Logistic regression with class balancing')\n",
    "print('Accuracy(accuaracy):', accuracy_score( target_valid, predicted_valid))\n",
    "print('Model accuracy:', precision_score(target_valid, predicted_valid))\n",
    "print('Model completeness:', recall_score(target_valid, predicted_valid))\n",
    "print('F1:', f1_score(target_valid, predicted_valid))"
   ]
  },
  {
   "cell_type": "markdown",
   "metadata": {},
   "source": [
    "Balancing classes has had a positive effect on logistic regression, however, F-1 still has a low value."
   ]
  },
  {
   "cell_type": "markdown",
   "metadata": {},
   "source": [
    "Thus, with the class balancing setup, the best metric indicator F-1 for the Random Forest model is 0.6"
   ]
  },
  {
   "cell_type": "markdown",
   "metadata": {},
   "source": [
    "### Upsampling"
   ]
  },
  {
   "cell_type": "code",
   "execution_count": 47,
   "metadata": {},
   "outputs": [
    {
     "name": "stdout",
     "output_type": "stream",
     "text": [
      "0    4804\n",
      "1    4784\n",
      "Name: exited, dtype: int64\n"
     ]
    }
   ],
   "source": [
    "# create a function to increase the rare class\n",
    "def upsampling(features, target, repeat):\n",
    "    features_zeros = features[target == 0]\n",
    "    features_ones = features[target == 1]\n",
    "    target_zeros = target[target == 0]\n",
    "    target_ones = target[target == 1]\n",
    "\n",
    "    features_upsampled = pd.concat([features_zeros] + [features_ones] * repeat)\n",
    "    target_upsampled = pd.concat([target_zeros] + [target_ones] * repeat)\n",
    "    \n",
    "    features_upsampled, target_upsampled = shuffle(\n",
    "        features_upsampled, target_upsampled, random_state=12345)\n",
    "    \n",
    "    return features_upsampled, target_upsampled\n",
    "\n",
    "features_upsampled, target_upsampled = upsampling(features_train, target_train, 4)\n",
    "\n",
    "print(target_upsampled.value_counts())"
   ]
  },
  {
   "cell_type": "code",
   "execution_count": 48,
   "metadata": {},
   "outputs": [
    {
     "name": "stdout",
     "output_type": "stream",
     "text": [
      "Decision tree\n",
      "Accuracy (accuaracy): 0.7525\n",
      "Model accuracy: 0.43898573692551507\n",
      "Model completeness: 0.6626794258373205\n",
      "F1: 0.5281220209723546\n"
     ]
    }
   ],
   "source": [
    "# let's apply the method to train the Decision Tree model\n",
    "model = DecisionTreeClassifier(random_state=12345, max_depth=9)\n",
    "model.fit(features_upsampled, target_upsampled)\n",
    "predicted_valid = model.predict(features_valid)\n",
    "print('Decision tree')\n",
    "print('Accuracy (accuaracy):', accuracy_score(target_valid, predicted_valid))\n",
    "print('Model accuracy:', precision_score(target_valid, predicted_valid))\n",
    "print('Model completeness:', recall_score(target_valid, predicted_valid))\n",
    "print('F1:', f1_score(target_valid, predicted_valid))"
   ]
  },
  {
   "cell_type": "code",
   "execution_count": 50,
   "metadata": {},
   "outputs": [
    {
     "name": "stdout",
     "output_type": "stream",
     "text": [
      "Random forest\n",
      "Accuracy(accuaracy): 0.786\n",
      "Model accuracy: 0.49203821656050956\n",
      "Model completeness: 0.7392344497607656\n",
      "F1: 0.5908221797323135\n"
     ]
    }
   ],
   "source": [
    "# apply the method to train the Random Forest\n",
    "model = RandomForestClassifier(random_state=12345, max_depth=6, n_estimators=7)\n",
    "model.fit(features_upsampled, target_upsampled)\n",
    "predicted_valid = model.predict(features_valid)\n",
    "print('Random forest')\n",
    "print('Accuracy(accuaracy):', accuracy_score( target_valid, predicted_valid))\n",
    "print('Model accuracy:', precision_score(target_valid, predicted_valid))\n",
    "print('Model completeness:', recall_score(target_valid, predicted_valid))\n",
    "print('F1:', f1_score(target_valid, predicted_valid))"
   ]
  },
  {
   "cell_type": "code",
   "execution_count": 51,
   "metadata": {},
   "outputs": [
    {
     "name": "stdout",
     "output_type": "stream",
     "text": [
      "Logistic regression\n",
      "Accuracy(accuaracy): 0.703\n",
      "Model accuracy: 0.38235294117647056\n",
      "Model completeness: 0.6842105263157895\n",
      "F1: 0.49056603773584906\n"
     ]
    }
   ],
   "source": [
    "# apply the method to train the model Logistic regression\n",
    "model = LogisticRegression(random_state=12345, solver='liblinear')\n",
    "model.fit(features_upsampled, target_upsampled)\n",
    "predicted_valid = model.predict(features_valid)\n",
    "print('Logistic regression')\n",
    "print('Accuracy(accuaracy):', accuracy_score( target_valid, predicted_valid))\n",
    "print('Model accuracy:', precision_score(target_valid, predicted_valid))\n",
    "print('Model completeness:', recall_score(target_valid, predicted_valid))\n",
    "print('F1:', f1_score(target_valid, predicted_valid))"
   ]
  },
  {
   "cell_type": "markdown",
   "metadata": {},
   "source": [
    "Again, the Random Forest model shows the highest metric values - 0.6, while accuary reaches almost 80% of cases."
   ]
  },
  {
   "cell_type": "markdown",
   "metadata": {},
   "source": [
    "### Downsampling"
   ]
  },
  {
   "cell_type": "code",
   "execution_count": 52,
   "metadata": {},
   "outputs": [
    {
     "name": "stdout",
     "output_type": "stream",
     "text": [
      "0    1201\n",
      "1    1196\n",
      "Name: exited, dtype: int64\n"
     ]
    }
   ],
   "source": [
    "# let's create a function to reduce the chremer class\n",
    "def downsampling(features, target, fraction):\n",
    "    features_zeros = features[target == 0]\n",
    "    features_ones = features[target == 1]\n",
    "    target_zeros = target[target == 0]\n",
    "    target_ones = target[target == 1]\n",
    "\n",
    "    features_downsampled = pd.concat(\n",
    "        [features_zeros.sample(frac=fraction, random_state=12345)] + [features_ones])\n",
    "    target_downsampled = pd.concat(\n",
    "        [target_zeros.sample(frac=fraction, random_state=12345)] + [target_ones])\n",
    "    \n",
    "    features_downsampled, target_downsampled = shuffle(\n",
    "        features_downsampled, target_downsampled, random_state=12345)\n",
    "    \n",
    "    return features_downsampled, target_downsampled\n",
    "\n",
    "features_downsampled, target_downsampled = downsampling(features_train, target_train, 0.25)\n",
    "\n",
    "print(target_downsampled.value_counts())"
   ]
  },
  {
   "cell_type": "code",
   "execution_count": 54,
   "metadata": {},
   "outputs": [
    {
     "name": "stdout",
     "output_type": "stream",
     "text": [
      "Decision tree\n",
      "Accuracy (accuaracy): 0.737\n",
      "Model accuracy: 0.4228571428571429\n",
      "Completeness of the model: 0.7081339712918661\n",
      "F1: 0.5295169946332737\n",
      "\n",
      "Random forest\n",
      "Accuracy(accuaracy): 0.774\n",
      "Model accuracy: 0.4744744744744745\n",
      "Completeness of the model: 0.7559808612440191\n",
      "F1: 0.5830258302583027\n",
      "\n",
      "Logistic regression\n",
      "Accuracy(accuaracy): 0.7025\n",
      "Model accuracy: 0.3815261044176707\n",
      "Completeness of the model: 0.6818181818181818\n",
      "F1: 0.4892703862660944\n",
      "\n"
     ]
    }
   ],
   "source": [
    "#similarly, we will train our models on aligned data \n",
    "model = DecisionTreeClassifier(random_state=20052020, max_depth=7)\n",
    "model.fit(features_downsampled, target_downsampled)\n",
    "predicted_valid = model.predict(features_valid)\n",
    "print('Decision tree')\n",
    "print('Accuracy (accuaracy):', accuracy_score(target_valid, predicted_valid))\n",
    "print ('Model accuracy:', precision_score(target_valid, predicted_valid))\n",
    "print('Completeness of the model:', recall_score(target_valid, predicted_valid))\n",
    "print('F1:', f1_score(target_valid, predicted_valid))\n",
    "print()\n",
    "\n",
    "model = RandomForestClassifier(random_state=20052020, n_estimators=53)\n",
    "model.fit(features_downsampled, target_downsampled)\n",
    "predicted_valid = model.predict(features_valid)\n",
    "print('Random forest')\n",
    "print('Accuracy(accuaracy):', accuracy_score(target_valid, predicted_valid) )\n",
    "print('Model accuracy:', precision_score(target_valid, predicted_valid))\n",
    "print('Completeness of the model:', recall_score(target_valid, predicted_valid))\n",
    "print('F1:', f1_score(target_valid, predicted_valid))\n",
    "print()\n",
    "\n",
    "model = LogisticRegression(random_state=20052020, solver='liblinear')\n",
    "model.fit(features_downsampled, target_downsampled)\n",
    "predicted_valid = model.predict(features_valid)\n",
    "print('Logistic regression')\n",
    "print('Accuracy(accuaracy):', accuracy_score(target_valid, predicted_valid))\n",
    "print('Model accuracy:', precision_score(target_valid, predicted_valid))\n",
    "print('Completeness of the model:', recall_score(target_valid, predicted_valid))\n",
    "print('F1:', f1_score(target_valid, predicted_valid))\n",
    "print()"
   ]
  },
  {
   "cell_type": "markdown",
   "metadata": {},
   "source": [
    "Random forest shows the best value of the metric F-1 (0.57)"
   ]
  },
  {
   "cell_type": "markdown",
   "metadata": {},
   "source": [
    "### Study of the ROC curve and AUC-ROC for a better model"
   ]
  },
  {
   "cell_type": "markdown",
   "metadata": {},
   "source": [
    "The best model is a Random Forest with class balancing settings"
   ]
  },
  {
   "cell_type": "code",
   "execution_count": 55,
   "metadata": {},
   "outputs": [
    {
     "name": "stdout",
     "output_type": "stream",
     "text": [
      "AUC-ROC DecisionTreeClassifier 0.7631775536992119\n",
      "AUC-ROC RandomForestClassifier 0.842558931520273\n",
      "AUC-ROC LogisticRegression 0.7634331202100182\n"
     ]
    },
    {
     "data": {
      "image/png": "[encoded data removed]",
      "text/plain": [
       "<Figure size 864x648 with 1 Axes>"
      ]
     },
     "metadata": {
      "needs_background": "light"
     },
     "output_type": "display_data"
    }
   ],
   "source": [
    "\n",
    "plt.figure(figsize=[12,9])\n",
    "\n",
    "plt.plot([0, 1], [0, 1], linestyle='--', label='Random model')\n",
    "\n",
    "model = DecisionTreeClassifier(random_state=12345, max_depth=9, class_weight='balanced')\n",
    "model.fit(features_train, target_train)\n",
    "probabilities_valid = model.predict_proba(features_valid)\n",
    "probabilities_one_valid = probabilities_valid[:, 1]\n",
    "fpr, tpr, thresholds = roc_curve(target_valid, probabilities_one_valid)\n",
    "auc_roc = roc_auc_score(target_valid, probabilities_one_valid)\n",
    "print('AUC-ROC DecisionTreeClassifier',auc_roc)\n",
    "plt.plot(fpr, tpr, label='Decision tree')\n",
    "\n",
    "model = RandomForestClassifier(random_state=12345, max_depth=6, n_estimators=7, class_weight='balanced')\n",
    "model.fit(features_train, target_train)\n",
    "probabilities_valid = model.predict_proba(features_valid)\n",
    "probabilities_one_valid = probabilities_valid[:, 1]\n",
    "fpr, tpr, thresholds = roc_curve(target_valid, probabilities_one_valid)\n",
    "auc_roc = roc_auc_score(target_valid, probabilities_one_valid)\n",
    "print('AUC-ROC RandomForestClassifier',auc_roc)\n",
    "plt.plot(fpr, tpr, label='Random Forest')\n",
    "\n",
    "model = LogisticRegression(random_state=20052020, solver='liblinear', class_weight='balanced')\n",
    "model.fit(features_train, target_train)\n",
    "probabilities_valid = model.predict_proba(features_valid)\n",
    "probabilities_one_valid = probabilities_valid[:, 1]\n",
    "fpr, tpr, thresholds = roc_curve(target_valid, probabilities_one_valid)\n",
    "auc_roc = roc_auc_score(target_valid, probabilities_one_valid)\n",
    "print('AUC-ROC LogisticRegression',auc_roc)\n",
    "plt.plot(fpr, tpr, label='Logistic regression')\n",
    "\n",
    "plt.xlim([0,1])\n",
    "plt.ylim([0,1])\n",
    "\n",
    "plt.xlabel(\"False Positive Rate\")\n",
    "plt.ylabel(\"True Positive Rate\")\n",
    "\n",
    "plt.legend(loc='lower right', fontsize='x-large')\n",
    "\n",
    "plt.title(\"ROC curve\")\n",
    "plt.show()"
   ]
  },
  {
   "cell_type": "markdown",
   "metadata": {},
   "source": [
    "Random forest shows the best result - 0.84\n",
    "\n",
    "The model will be tested on this model with the class balancing parameter."
   ]
  },
  {
   "cell_type": "markdown",
   "metadata": {},
   "source": [
    "## Testing the model"
   ]
  },
  {
   "cell_type": "code",
   "execution_count": 48,
   "metadata": {},
   "outputs": [],
   "source": [
    "#model = RandomForestClassifier(random_state=12345, max_depth=6, n_estimators=7, class_weight='balanced')\n",
    "#model.fit(features_train, target_train)"
   ]
  },
  {
   "cell_type": "code",
   "execution_count": 57,
   "metadata": {},
   "outputs": [
    {
     "name": "stdout",
     "output_type": "stream",
     "text": [
      "Best depth 1 F1 0.5446096654275093\n",
      "Best depth 2 F1 0.5754189944134078\n",
      "Best depth 3 F1 0.5865921787709498\n",
      "Best depth 4 F1 0.6054158607350097\n",
      "Best depth 5 F1 0.6106719367588933\n",
      "Best depth 6 F1 0.6182190378710338\n",
      "Best depth 7 F1 0.6281512605042017\n",
      "Best depth 8 F1 0.6193548387096774\n",
      "Best depth 9 F1 0.6290322580645161\n",
      "Best depth 10 F1 0.6224852071005916\n",
      "Best depth 11 F1 0.6215538847117794\n",
      "Best depth 12 F1 0.6082337317397079\n",
      "Best depth 13 F1 0.6049723756906078\n",
      "Best depth 14 F1 0.593437945791726\n",
      "Best depth 15 F1 0.5953079178885631\n",
      "Best depth 16 F1 0.5871833084947838\n",
      "Best depth 17 F1 0.5718562874251497\n",
      "Best depth 18 F1 0.5696969696969697\n",
      "Best depth 19 F1 0.5918057663125948\n"
     ]
    }
   ],
   "source": [
    "# let's test the change of the hyperparameter depth\n",
    "for depth in range(1, 20, 1):\n",
    "    model = RandomForestClassifier(random_state=12345, max_depth=depth, class_weight='balanced')\n",
    "    model.fit(features_train, target_train)\n",
    "    predicted_valid = model.predict(features_valid)\n",
    "    print('Best depth', depth,'F1', f1_score(target_valid, predicted_valid))"
   ]
  },
  {
   "cell_type": "markdown",
   "metadata": {},
   "source": [
    "Best depth - 9."
   ]
  },
  {
   "cell_type": "code",
   "execution_count": 58,
   "metadata": {},
   "outputs": [
    {
     "name": "stdout",
     "output_type": "stream",
     "text": [
      "Best estimators 45 F1 0.6223277909738718\n",
      "Best estimators 46 F1 0.6208530805687204\n",
      "Best estimators 47 F1 0.6161137440758294\n",
      "Best estimators 48 F1 0.6183115338882283\n",
      "Best estimators 49 F1 0.6232227488151659\n",
      "Best estimators 50 F1 0.6230677764565993\n",
      "Best estimators 51 F1 0.6232227488151659\n",
      "Best estimators 52 F1 0.6223277909738718\n",
      "Best estimators 53 F1 0.6215895610913404\n",
      "Best estimators 54 F1 0.6183115338882283\n",
      "Best estimators 55 F1 0.6159334126040428\n",
      "Best estimators 56 F1 0.6164874551971327\n",
      "Best estimators 57 F1 0.6142857142857142\n",
      "Best estimators 58 F1 0.6135552913198573\n",
      "Best estimators 59 F1 0.6190476190476191\n"
     ]
    }
   ],
   "source": [
    "# let's test the hyperparameter change - the number of trees\n",
    "for estimator in range(45, 60, 1):\n",
    "    model =  RandomForestClassifier(random_state=12345, max_depth=10, n_estimators=estimator, class_weight='balanced')\n",
    "    model.fit(features_train, target_train)\n",
    "    predicted_valid = model.predict(features_valid)\n",
    "    print('Best estimators', estimator,'F1', f1_score(target_valid, predicted_valid))"
   ]
  },
  {
   "cell_type": "markdown",
   "metadata": {},
   "source": [
    "Best estimators - 51"
   ]
  },
  {
   "cell_type": "markdown",
   "metadata": {},
   "source": [
    "Let's check on a test sample the best model with the best hyperparameters obtained in 4 varants of the model: with an imbalance, with class balancing, upsampling and downsampling settings"
   ]
  },
  {
   "cell_type": "code",
   "execution_count": 59,
   "metadata": {},
   "outputs": [
    {
     "name": "stdout",
     "output_type": "stream",
     "text": [
      "Random forest - class imbalance\n",
      "Accuracy(accuaracy): 0.843\n",
      "Accuracy: 0.7511520737327189\n",
      "Completeness: 0.38534278959810875\n",
      "F1: 0.5093749999999999\n",
      "\n",
      "Random forest - with class balancing\n",
      "Accuracy(accuaracy): 0.8305\n",
      "Precision: 0.6019417475728155\n",
      "Completeness: 0.5862884160756501\n",
      "F1: 0.5940119760479041\n",
      "\n",
      "Random forest - downsampling\n",
      "Accuracy(accuaracy): 0.778\n",
      "Accuracy: 0.4840182648401826\n",
      "Completeness: 0.75177304964539\n",
      "F1: 0.5888888888888889\n",
      "\n",
      "Random forest - upsampling\n",
      "Accuracy(accuaracy): 0.818\n",
      "Accuracy: 0.5577299412915852\n",
      "Completeness: 0.6737588652482269\n",
      "F1: 0.6102783725910065\n",
      "\n"
     ]
    }
   ],
   "source": [
    "model = RandomForestClassifier(random_state=12345, max_depth=10, n_estimators=51)\n",
    "model.fit(features_train, target_train)\n",
    "predicted_test = model.predict(features_test)\n",
    "print('Random forest - class imbalance')\n",
    "print('Accuracy(accuaracy):', accuracy_score(target_test, predicted_test))\n",
    "print('Accuracy:', precision_score(target_test, predicted_test))\n",
    "print('Completeness:', recall_score(target_test, predicted_test))\n",
    "print('F1:', f1_score(target_test, predicted_test))\n",
    "print()\n",
    "\n",
    "model = RandomForestClassifier(random_state=12345, max_depth=10, n_estimators=51, class_weight='balanced')\n",
    "model.fit(features_train, target_train)\n",
    "predicted_test = model.predict(features_test)\n",
    "print('Random forest - with class balancing')\n",
    "print('Accuracy(accuaracy):', accuracy_score(target_test, predicted_test))\n",
    "print('Precision:', precision_score(target_test, predicted_test))\n",
    "print('Completeness:', recall_score(target_test, predicted_test))\n",
    "print('F1:', f1_score(target_test, predicted_test))\n",
    "print()\n",
    "\n",
    "model = RandomForestClassifier(random_state=12345, max_depth=10, n_estimators=51)\n",
    "model.fit(features_downsampled, target_downsampled)\n",
    "predicted_test = model.predict(features_test)\n",
    "print('Random forest - downsampling')\n",
    "print('Accuracy(accuaracy):', accuracy_score( target_test, predicted_test))\n",
    "print('Accuracy:', precision_score(target_test, predicted_test))\n",
    "print('Completeness:', recall_score(target_test, predicted_test))\n",
    "print('F1:', f1_score(target_test, predicted_test))\n",
    "print()\n",
    "\n",
    "model = RandomForestClassifier(random_state=12345, max_depth=10, n_estimators=51)\n",
    "model.fit(features_upsampled, target_upsampled)\n",
    "predicted_test = model.predict(features_test)\n",
    "print('Random forest - upsampling')\n",
    "print('Accuracy(accuaracy):', accuracy_score( target_test, predicted_test))\n",
    "print('Accuracy:', precision_score(target_test, predicted_test))\n",
    "print('Completeness:', recall_score(target_test, predicted_test))\n",
    "print('F1:', f1_score(target_test, predicted_test))\n",
    "print()\n"
   ]
  },
  {
   "cell_type": "markdown",
   "metadata": {},
   "source": [
    "Random forest - with class balancing and Random forest - upsampling fulfill the conditions of the task by the value of F1-measure (at least 0.59)"
   ]
  },
  {
   "cell_type": "code",
   "execution_count": 60,
   "metadata": {},
   "outputs": [
    {
     "name": "stdout",
     "output_type": "stream",
     "text": [
      "AUC-ROC Random forest - class imbalance 0.8508659498014455\n",
      "AUC-ROC Random forest - class balancing 0.8546766386186778\n",
      "AUC-ROC Random forest - downsampling 0.8535358305187903\n",
      "AUC-ROC Random forest - upsampling 0.8481331072704404\n"
     ]
    },
    {
     "data": {
      "image/png": "[encoded data removed]",
      "text/plain": [
       "<Figure size 864x648 with 1 Axes>"
      ]
     },
     "metadata": {
      "needs_background": "light"
     },
     "output_type": "display_data"
    }
   ],
   "source": [
    "#now let's build the ROC curve\n",
    "plt.figure(figsize=[12,9])\n",
    "\n",
    "plt.plot([0, 1], [0, 1], linestyle='--', label='Random model')\n",
    "\n",
    "\n",
    "model = RandomForestClassifier(random_state=12345, max_depth=10, n_estimators=51)\n",
    "model.fit(features_train, target_train)\n",
    "predicted_test = model.predict(features_test)\n",
    "probabilities_test = model.predict_proba(features_test)\n",
    "probabilities_one_test = probabilities_test[:, 1]\n",
    "fpr, tpr, thresholds = roc_curve(target_test, probabilities_one_test)\n",
    "auc_roc = roc_auc_score(target_test, probabilities_one_test)\n",
    "print('AUC-ROC Random forest - class imbalance',auc_roc)\n",
    "plt.plot(fpr, tpr, label='Random Forest - class imbalance')\n",
    "\n",
    "model = RandomForestClassifier(random_state=12345, max_depth=10, n_estimators=51, class_weight='balanced')\n",
    "model.fit(features_train, target_train)\n",
    "predicted_test = model.predict(features_test)\n",
    "probabilities_test = model.predict_proba(features_test)\n",
    "probabilities_one_test = probabilities_test[:, 1]\n",
    "fpr, tpr, thresholds = roc_curve(target_test, probabilities_one_test)\n",
    "auc_roc = roc_auc_score(target_test, probabilities_one_test)\n",
    "print('AUC-ROC Random forest - class balancing',auc_roc)\n",
    "plt.plot(fpr, tpr, label='Random Forest - balancing classes')\n",
    "\n",
    "model = RandomForestClassifier(random_state=12345, max_depth=10, n_estimators=51)\n",
    "model.fit(features_upsampled, target_upsampled)\n",
    "predicted_test = model.predict(features_test)\n",
    "probabilities_test = model.predict_proba(features_test)\n",
    "probabilities_one_test = probabilities_test[:, 1]\n",
    "fpr, tpr, thresholds = roc_curve(target_test, probabilities_one_test)\n",
    "auc_roc = roc_auc_score(target_test, probabilities_one_test)\n",
    "print('AUC-ROC Random forest - downsampling',auc_roc)\n",
    "plt.plot(fpr, tpr, label=' Random Forest - downsampling')\n",
    "\n",
    "model = RandomForestClassifier(random_state=12345, max_depth=10, n_estimators=51)\n",
    "model.fit(features_downsampled, target_downsampled)\n",
    "predicted_test = model.predict(features_test)\n",
    "probabilities_test = model.predict_proba(features_test)\n",
    "probabilities_one_test = probabilities_test[:, 1]\n",
    "fpr, tpr, thresholds = roc_curve(target_test, probabilities_one_test)\n",
    "auc_roc = roc_auc_score(target_test, probabilities_one_test)\n",
    "print('AUC-ROC Random forest - upsampling',auc_roc)\n",
    "plt.plot(fpr, tpr, label='Random forest - upsampling')\n",
    "\n",
    "\n",
    "plt.xlim([0,1])\n",
    "plt.ylim([0,1])\n",
    "\n",
    "plt.xlabel(\"False Positive Rate\")\n",
    "plt.ylabel(\"True Positive Rate\")\n",
    "\n",
    "plt.legend(loc='lower right', fontsize='x-large')\n",
    "\n",
    "plt.title(\"ROC curve\")\n",
    "plt.show()"
   ]
  },
  {
   "cell_type": "markdown",
   "metadata": {},
   "source": [
    "AUC-ROC shows very similar values in all 4 variants, showing similar adequacy of the obtained models, while a Random forest with class balancing shows higher values than a Random forest - upsampling.\n",
    "\n",
    "As a result of the study, 2 models were obtained that perform a Random forest - with class balancing and a Random forest - upsampling fulfill the conditions of the task by the value of F1-measure (at least 0.59), while a Random forest with class balancing is the most preferred model."
   ]
  },
  {
   "cell_type": "code",
   "execution_count": 61,
   "metadata": {},
   "outputs": [
    {
     "data": {
      "text/html": [
       "<div>\n",
       "<style scoped>\n",
       "    .dataframe tbody tr th:only-of-type {\n",
       "        vertical-align: middle;\n",
       "    }\n",
       "\n",
       "    .dataframe tbody tr th {\n",
       "        vertical-align: top;\n",
       "    }\n",
       "\n",
       "    .dataframe thead th {\n",
       "        text-align: right;\n",
       "    }\n",
       "</style>\n",
       "<table border=\"1\" class=\"dataframe\">\n",
       "  <thead>\n",
       "    <tr style=\"text-align: right;\">\n",
       "      <th></th>\n",
       "      <th>feature</th>\n",
       "      <th>importance</th>\n",
       "    </tr>\n",
       "  </thead>\n",
       "  <tbody>\n",
       "    <tr>\n",
       "      <th>0</th>\n",
       "      <td>age</td>\n",
       "      <td>0.300238</td>\n",
       "    </tr>\n",
       "    <tr>\n",
       "      <th>1</th>\n",
       "      <td>num_of_products</td>\n",
       "      <td>0.199424</td>\n",
       "    </tr>\n",
       "    <tr>\n",
       "      <th>2</th>\n",
       "      <td>balance</td>\n",
       "      <td>0.111818</td>\n",
       "    </tr>\n",
       "    <tr>\n",
       "      <th>3</th>\n",
       "      <td>credit_score</td>\n",
       "      <td>0.091048</td>\n",
       "    </tr>\n",
       "    <tr>\n",
       "      <th>4</th>\n",
       "      <td>estimated_salary</td>\n",
       "      <td>0.089439</td>\n",
       "    </tr>\n",
       "    <tr>\n",
       "      <th>5</th>\n",
       "      <td>is_active_member</td>\n",
       "      <td>0.066530</td>\n",
       "    </tr>\n",
       "    <tr>\n",
       "      <th>6</th>\n",
       "      <td>tenure</td>\n",
       "      <td>0.049999</td>\n",
       "    </tr>\n",
       "    <tr>\n",
       "      <th>7</th>\n",
       "      <td>geography_Germany</td>\n",
       "      <td>0.048819</td>\n",
       "    </tr>\n",
       "    <tr>\n",
       "      <th>8</th>\n",
       "      <td>gender_Male</td>\n",
       "      <td>0.021589</td>\n",
       "    </tr>\n",
       "    <tr>\n",
       "      <th>9</th>\n",
       "      <td>has_cr_card</td>\n",
       "      <td>0.012761</td>\n",
       "    </tr>\n",
       "  </tbody>\n",
       "</table>\n",
       "</div>"
      ],
      "text/plain": [
       "             feature  importance\n",
       "0                age    0.300238\n",
       "1    num_of_products    0.199424\n",
       "2            balance    0.111818\n",
       "3       credit_score    0.091048\n",
       "4   estimated_salary    0.089439\n",
       "5   is_active_member    0.066530\n",
       "6             tenure    0.049999\n",
       "7  geography_Germany    0.048819\n",
       "8        gender_Male    0.021589\n",
       "9        has_cr_card    0.012761"
      ]
     },
     "execution_count": 61,
     "metadata": {},
     "output_type": "execute_result"
    }
   ],
   "source": [
    "model = RandomForestClassifier(random_state=12345, max_depth=10, n_estimators=51)\n",
    "model.fit(features_train, target_train)\n",
    "# model is the trained model\n",
    "importances = model.feature_importances_\n",
    "\n",
    "# train_features is the dataframe of training features\n",
    "feature_list = list(features_train.columns)\n",
    "\n",
    "# Extract the feature importances into a dataframe\n",
    "feature_results = pd.DataFrame({'feature': feature_list,'importance': importances})\n",
    "\n",
    "# Show the top 10 most important\n",
    "feature_results = feature_results.sort_values('importance',ascending = False).reset_index(drop=True)\n",
    "\n",
    "feature_results.head(10)"
   ]
  },
  {
   "cell_type": "code",
   "execution_count": null,
   "metadata": {},
   "outputs": [],
   "source": []
  }
 ],
 "metadata": {
  "ExecuteTimeLog": [
   {
    "duration": 541,
    "start_time": "2022-12-06T08:46:06.334Z"
   },
   {
    "duration": 37,
    "start_time": "2022-12-06T08:46:44.692Z"
   },
   {
    "duration": 60,
    "start_time": "2022-12-06T08:48:24.244Z"
   },
   {
    "duration": 57,
    "start_time": "2022-12-06T08:49:02.367Z"
   },
   {
    "duration": 136,
    "start_time": "2022-12-06T08:50:43.997Z"
   },
   {
    "duration": 53,
    "start_time": "2022-12-06T08:51:11.328Z"
   },
   {
    "duration": 49,
    "start_time": "2022-12-06T08:51:53.804Z"
   },
   {
    "duration": 55,
    "start_time": "2022-12-06T08:52:06.954Z"
   },
   {
    "duration": 13,
    "start_time": "2022-12-06T08:52:13.794Z"
   },
   {
    "duration": 53,
    "start_time": "2022-12-06T09:07:23.808Z"
   },
   {
    "duration": 51,
    "start_time": "2022-12-06T09:07:42.649Z"
   },
   {
    "duration": 4,
    "start_time": "2022-12-06T09:11:21.554Z"
   },
   {
    "duration": 39,
    "start_time": "2022-12-06T09:11:39.472Z"
   },
   {
    "duration": 1916,
    "start_time": "2022-12-06T09:15:00.806Z"
   },
   {
    "duration": 19,
    "start_time": "2022-12-06T09:20:39.952Z"
   },
   {
    "duration": 11,
    "start_time": "2022-12-06T09:22:02.019Z"
   },
   {
    "duration": 4,
    "start_time": "2022-12-06T09:22:51.392Z"
   },
   {
    "duration": 8,
    "start_time": "2022-12-06T09:23:05.517Z"
   },
   {
    "duration": 9,
    "start_time": "2022-12-06T09:23:12.432Z"
   },
   {
    "duration": 24,
    "start_time": "2022-12-06T09:23:49.694Z"
   },
   {
    "duration": 26,
    "start_time": "2022-12-06T09:24:09.068Z"
   },
   {
    "duration": 15,
    "start_time": "2022-12-06T09:24:19.188Z"
   },
   {
    "duration": 27,
    "start_time": "2022-12-06T09:26:25.324Z"
   },
   {
    "duration": 15,
    "start_time": "2022-12-06T09:30:46.902Z"
   },
   {
    "duration": 22,
    "start_time": "2022-12-06T09:31:09.607Z"
   },
   {
    "duration": 18,
    "start_time": "2022-12-06T09:32:39.614Z"
   },
   {
    "duration": 51,
    "start_time": "2022-12-06T09:37:44.219Z"
   },
   {
    "duration": 961,
    "start_time": "2022-12-06T09:38:35.226Z"
   },
   {
    "duration": 6,
    "start_time": "2022-12-06T09:38:57.157Z"
   },
   {
    "duration": 4,
    "start_time": "2022-12-06T09:40:19.961Z"
   },
   {
    "duration": 6,
    "start_time": "2022-12-06T09:44:59.070Z"
   },
   {
    "duration": 20,
    "start_time": "2022-12-06T09:45:20.168Z"
   },
   {
    "duration": 4,
    "start_time": "2022-12-06T09:46:17.631Z"
   },
   {
    "duration": 15,
    "start_time": "2022-12-06T09:46:22.557Z"
   },
   {
    "duration": 17,
    "start_time": "2022-12-06T09:50:37.251Z"
   },
   {
    "duration": 717,
    "start_time": "2022-12-06T09:55:09.973Z"
   },
   {
    "duration": 7,
    "start_time": "2022-12-06T09:57:29.778Z"
   },
   {
    "duration": 9,
    "start_time": "2022-12-06T09:58:16.398Z"
   },
   {
    "duration": 7,
    "start_time": "2022-12-06T09:58:31.369Z"
   },
   {
    "duration": 4,
    "start_time": "2022-12-06T09:58:55.536Z"
   },
   {
    "duration": 4,
    "start_time": "2022-12-06T09:59:09.522Z"
   },
   {
    "duration": 4,
    "start_time": "2022-12-06T09:59:23.649Z"
   },
   {
    "duration": 72,
    "start_time": "2022-12-06T10:02:23.199Z"
   },
   {
    "duration": 23,
    "start_time": "2022-12-06T10:03:10.737Z"
   },
   {
    "duration": 16,
    "start_time": "2022-12-06T12:47:47.976Z"
   },
   {
    "duration": 6,
    "start_time": "2022-12-06T12:48:58.229Z"
   },
   {
    "duration": 25,
    "start_time": "2022-12-06T12:51:00.055Z"
   },
   {
    "duration": 878,
    "start_time": "2022-12-06T12:52:24.159Z"
   },
   {
    "duration": 211,
    "start_time": "2022-12-06T12:52:32.991Z"
   },
   {
    "duration": 1303,
    "start_time": "2022-12-06T12:54:24.519Z"
   },
   {
    "duration": 79,
    "start_time": "2022-12-06T12:54:25.824Z"
   },
   {
    "duration": 20,
    "start_time": "2022-12-06T12:54:25.906Z"
   },
   {
    "duration": 54,
    "start_time": "2022-12-06T12:54:25.928Z"
   },
   {
    "duration": 2227,
    "start_time": "2022-12-06T12:54:25.985Z"
   },
   {
    "duration": 4,
    "start_time": "2022-12-06T12:54:28.214Z"
   },
   {
    "duration": 29,
    "start_time": "2022-12-06T12:54:28.221Z"
   },
   {
    "duration": 70,
    "start_time": "2022-12-06T12:54:28.252Z"
   },
   {
    "duration": 57,
    "start_time": "2022-12-06T12:54:28.324Z"
   },
   {
    "duration": 152,
    "start_time": "2022-12-06T12:54:28.385Z"
   },
   {
    "duration": 0,
    "start_time": "2022-12-06T12:54:28.540Z"
   },
   {
    "duration": 0,
    "start_time": "2022-12-06T12:54:28.541Z"
   },
   {
    "duration": 0,
    "start_time": "2022-12-06T12:54:28.543Z"
   },
   {
    "duration": 0,
    "start_time": "2022-12-06T12:54:28.544Z"
   },
   {
    "duration": 0,
    "start_time": "2022-12-06T12:54:28.546Z"
   },
   {
    "duration": 0,
    "start_time": "2022-12-06T12:54:28.547Z"
   },
   {
    "duration": 0,
    "start_time": "2022-12-06T12:54:28.549Z"
   },
   {
    "duration": 0,
    "start_time": "2022-12-06T12:54:28.550Z"
   },
   {
    "duration": 0,
    "start_time": "2022-12-06T12:54:28.552Z"
   },
   {
    "duration": 0,
    "start_time": "2022-12-06T12:54:28.554Z"
   },
   {
    "duration": 0,
    "start_time": "2022-12-06T12:54:28.555Z"
   },
   {
    "duration": 0,
    "start_time": "2022-12-06T12:54:28.557Z"
   },
   {
    "duration": 0,
    "start_time": "2022-12-06T12:54:28.558Z"
   },
   {
    "duration": 0,
    "start_time": "2022-12-06T12:54:28.559Z"
   },
   {
    "duration": 0,
    "start_time": "2022-12-06T12:54:28.561Z"
   },
   {
    "duration": 12,
    "start_time": "2022-12-06T12:55:04.327Z"
   },
   {
    "duration": 3,
    "start_time": "2022-12-06T12:55:26.274Z"
   },
   {
    "duration": 12,
    "start_time": "2022-12-06T12:55:41.363Z"
   },
   {
    "duration": 5,
    "start_time": "2022-12-06T12:56:48.255Z"
   },
   {
    "duration": 13,
    "start_time": "2022-12-06T12:56:52.159Z"
   },
   {
    "duration": 10,
    "start_time": "2022-12-06T12:57:27.867Z"
   },
   {
    "duration": 1278,
    "start_time": "2022-12-06T12:58:20.170Z"
   },
   {
    "duration": 67,
    "start_time": "2022-12-06T12:58:21.451Z"
   },
   {
    "duration": 18,
    "start_time": "2022-12-06T12:58:21.520Z"
   },
   {
    "duration": 68,
    "start_time": "2022-12-06T12:58:21.543Z"
   },
   {
    "duration": 2132,
    "start_time": "2022-12-06T12:58:21.613Z"
   },
   {
    "duration": 5,
    "start_time": "2022-12-06T12:58:23.747Z"
   },
   {
    "duration": 34,
    "start_time": "2022-12-06T12:58:23.756Z"
   },
   {
    "duration": 26,
    "start_time": "2022-12-06T12:58:23.792Z"
   },
   {
    "duration": 164,
    "start_time": "2022-12-06T12:58:23.820Z"
   },
   {
    "duration": 0,
    "start_time": "2022-12-06T12:58:23.986Z"
   },
   {
    "duration": 0,
    "start_time": "2022-12-06T12:58:23.988Z"
   },
   {
    "duration": 0,
    "start_time": "2022-12-06T12:58:23.990Z"
   },
   {
    "duration": 0,
    "start_time": "2022-12-06T12:58:23.992Z"
   },
   {
    "duration": 0,
    "start_time": "2022-12-06T12:58:23.993Z"
   },
   {
    "duration": 0,
    "start_time": "2022-12-06T12:58:23.994Z"
   },
   {
    "duration": 0,
    "start_time": "2022-12-06T12:58:23.996Z"
   },
   {
    "duration": 0,
    "start_time": "2022-12-06T12:58:23.997Z"
   },
   {
    "duration": 0,
    "start_time": "2022-12-06T12:58:24.000Z"
   },
   {
    "duration": 0,
    "start_time": "2022-12-06T12:58:24.001Z"
   },
   {
    "duration": 0,
    "start_time": "2022-12-06T12:58:24.002Z"
   },
   {
    "duration": 0,
    "start_time": "2022-12-06T12:58:24.004Z"
   },
   {
    "duration": 0,
    "start_time": "2022-12-06T12:58:24.004Z"
   },
   {
    "duration": 0,
    "start_time": "2022-12-06T12:58:24.006Z"
   },
   {
    "duration": 0,
    "start_time": "2022-12-06T12:58:24.007Z"
   },
   {
    "duration": 0,
    "start_time": "2022-12-06T12:58:24.008Z"
   },
   {
    "duration": 5,
    "start_time": "2022-12-06T12:59:49.251Z"
   },
   {
    "duration": 6,
    "start_time": "2022-12-06T13:00:03.652Z"
   },
   {
    "duration": 29,
    "start_time": "2022-12-06T13:01:10.003Z"
   },
   {
    "duration": 4,
    "start_time": "2022-12-06T13:01:19.029Z"
   },
   {
    "duration": 10,
    "start_time": "2022-12-06T13:01:59.173Z"
   },
   {
    "duration": 13,
    "start_time": "2022-12-06T13:02:24.353Z"
   },
   {
    "duration": 53,
    "start_time": "2022-12-06T13:02:52.066Z"
   },
   {
    "duration": 11,
    "start_time": "2022-12-06T13:04:13.472Z"
   },
   {
    "duration": 14,
    "start_time": "2022-12-06T13:04:54.261Z"
   },
   {
    "duration": 60,
    "start_time": "2022-12-06T13:07:09.859Z"
   },
   {
    "duration": 1285,
    "start_time": "2022-12-06T13:07:38.760Z"
   },
   {
    "duration": 74,
    "start_time": "2022-12-06T13:07:40.048Z"
   },
   {
    "duration": 17,
    "start_time": "2022-12-06T13:07:40.123Z"
   },
   {
    "duration": 76,
    "start_time": "2022-12-06T13:07:40.142Z"
   },
   {
    "duration": 2296,
    "start_time": "2022-12-06T13:07:40.220Z"
   },
   {
    "duration": 4,
    "start_time": "2022-12-06T13:07:42.518Z"
   },
   {
    "duration": 101,
    "start_time": "2022-12-06T13:07:42.524Z"
   },
   {
    "duration": 73,
    "start_time": "2022-12-06T13:07:42.627Z"
   },
   {
    "duration": 26,
    "start_time": "2022-12-06T13:07:42.702Z"
   },
   {
    "duration": 55,
    "start_time": "2022-12-06T13:07:42.731Z"
   },
   {
    "duration": 42,
    "start_time": "2022-12-06T13:07:42.788Z"
   },
   {
    "duration": 80,
    "start_time": "2022-12-06T13:07:42.832Z"
   },
   {
    "duration": 0,
    "start_time": "2022-12-06T13:07:42.915Z"
   },
   {
    "duration": 0,
    "start_time": "2022-12-06T13:07:42.916Z"
   },
   {
    "duration": 0,
    "start_time": "2022-12-06T13:07:42.918Z"
   },
   {
    "duration": 0,
    "start_time": "2022-12-06T13:07:42.920Z"
   },
   {
    "duration": 0,
    "start_time": "2022-12-06T13:07:42.921Z"
   },
   {
    "duration": 0,
    "start_time": "2022-12-06T13:07:42.922Z"
   },
   {
    "duration": 0,
    "start_time": "2022-12-06T13:07:42.924Z"
   },
   {
    "duration": 0,
    "start_time": "2022-12-06T13:07:42.925Z"
   },
   {
    "duration": 0,
    "start_time": "2022-12-06T13:07:42.927Z"
   },
   {
    "duration": 0,
    "start_time": "2022-12-06T13:07:42.928Z"
   },
   {
    "duration": 0,
    "start_time": "2022-12-06T13:07:42.930Z"
   },
   {
    "duration": 0,
    "start_time": "2022-12-06T13:07:42.931Z"
   },
   {
    "duration": 0,
    "start_time": "2022-12-06T13:07:42.933Z"
   },
   {
    "duration": 159,
    "start_time": "2022-12-06T13:08:11.414Z"
   },
   {
    "duration": 4,
    "start_time": "2022-12-06T13:09:17.272Z"
   },
   {
    "duration": 70,
    "start_time": "2022-12-06T13:09:27.290Z"
   },
   {
    "duration": 6,
    "start_time": "2022-12-06T13:13:25.023Z"
   },
   {
    "duration": 27,
    "start_time": "2022-12-06T13:13:59.326Z"
   },
   {
    "duration": 22,
    "start_time": "2022-12-06T13:14:29.416Z"
   },
   {
    "duration": 5,
    "start_time": "2022-12-06T13:15:33.773Z"
   },
   {
    "duration": 1245,
    "start_time": "2022-12-06T13:15:47.656Z"
   },
   {
    "duration": 72,
    "start_time": "2022-12-06T13:15:48.904Z"
   },
   {
    "duration": 15,
    "start_time": "2022-12-06T13:15:48.978Z"
   },
   {
    "duration": 51,
    "start_time": "2022-12-06T13:15:48.994Z"
   },
   {
    "duration": 2052,
    "start_time": "2022-12-06T13:15:49.048Z"
   },
   {
    "duration": 3,
    "start_time": "2022-12-06T13:15:51.103Z"
   },
   {
    "duration": 23,
    "start_time": "2022-12-06T13:15:51.107Z"
   },
   {
    "duration": 55,
    "start_time": "2022-12-06T13:15:51.132Z"
   },
   {
    "duration": 6,
    "start_time": "2022-12-06T13:15:51.189Z"
   },
   {
    "duration": 27,
    "start_time": "2022-12-06T13:15:51.196Z"
   },
   {
    "duration": 31,
    "start_time": "2022-12-06T13:15:51.225Z"
   },
   {
    "duration": 10,
    "start_time": "2022-12-06T13:15:51.261Z"
   },
   {
    "duration": 0,
    "start_time": "2022-12-06T13:15:51.272Z"
   },
   {
    "duration": 0,
    "start_time": "2022-12-06T13:15:51.274Z"
   },
   {
    "duration": 0,
    "start_time": "2022-12-06T13:15:51.275Z"
   },
   {
    "duration": 0,
    "start_time": "2022-12-06T13:15:51.276Z"
   },
   {
    "duration": 0,
    "start_time": "2022-12-06T13:15:51.277Z"
   },
   {
    "duration": 0,
    "start_time": "2022-12-06T13:15:51.278Z"
   },
   {
    "duration": 0,
    "start_time": "2022-12-06T13:15:51.280Z"
   },
   {
    "duration": 0,
    "start_time": "2022-12-06T13:15:51.281Z"
   },
   {
    "duration": 0,
    "start_time": "2022-12-06T13:15:51.282Z"
   },
   {
    "duration": 0,
    "start_time": "2022-12-06T13:15:51.284Z"
   },
   {
    "duration": 0,
    "start_time": "2022-12-06T13:15:51.285Z"
   },
   {
    "duration": 0,
    "start_time": "2022-12-06T13:15:51.286Z"
   },
   {
    "duration": 0,
    "start_time": "2022-12-06T13:15:51.288Z"
   },
   {
    "duration": 0,
    "start_time": "2022-12-06T13:15:51.289Z"
   },
   {
    "duration": 0,
    "start_time": "2022-12-06T13:15:51.291Z"
   },
   {
    "duration": 5,
    "start_time": "2022-12-06T13:18:41.648Z"
   },
   {
    "duration": 19,
    "start_time": "2022-12-06T13:19:09.807Z"
   },
   {
    "duration": 5,
    "start_time": "2022-12-06T13:19:31.434Z"
   },
   {
    "duration": 19,
    "start_time": "2022-12-06T13:19:35.703Z"
   },
   {
    "duration": 118,
    "start_time": "2022-12-06T13:19:49.650Z"
   },
   {
    "duration": 154,
    "start_time": "2022-12-06T13:20:01.816Z"
   },
   {
    "duration": 135,
    "start_time": "2022-12-06T13:21:16.470Z"
   },
   {
    "duration": 162,
    "start_time": "2022-12-06T13:21:32.717Z"
   },
   {
    "duration": 1142,
    "start_time": "2022-12-06T13:23:04.677Z"
   },
   {
    "duration": 73,
    "start_time": "2022-12-06T13:23:05.822Z"
   },
   {
    "duration": 15,
    "start_time": "2022-12-06T13:23:05.897Z"
   },
   {
    "duration": 73,
    "start_time": "2022-12-06T13:23:05.914Z"
   },
   {
    "duration": 2085,
    "start_time": "2022-12-06T13:23:05.989Z"
   },
   {
    "duration": 3,
    "start_time": "2022-12-06T13:23:08.076Z"
   },
   {
    "duration": 22,
    "start_time": "2022-12-06T13:23:08.081Z"
   },
   {
    "duration": 32,
    "start_time": "2022-12-06T13:23:08.104Z"
   },
   {
    "duration": 6,
    "start_time": "2022-12-06T13:23:08.139Z"
   },
   {
    "duration": 28,
    "start_time": "2022-12-06T13:23:08.149Z"
   },
   {
    "duration": 25,
    "start_time": "2022-12-06T13:23:08.179Z"
   },
   {
    "duration": 16,
    "start_time": "2022-12-06T13:23:08.206Z"
   },
   {
    "duration": 35,
    "start_time": "2022-12-06T13:23:08.223Z"
   },
   {
    "duration": 17,
    "start_time": "2022-12-06T13:23:08.260Z"
   },
   {
    "duration": 20,
    "start_time": "2022-12-06T13:23:08.278Z"
   },
   {
    "duration": 271,
    "start_time": "2022-12-06T13:23:08.300Z"
   },
   {
    "duration": 0,
    "start_time": "2022-12-06T13:23:08.573Z"
   },
   {
    "duration": 0,
    "start_time": "2022-12-06T13:23:08.574Z"
   },
   {
    "duration": 0,
    "start_time": "2022-12-06T13:23:08.576Z"
   },
   {
    "duration": 0,
    "start_time": "2022-12-06T13:23:08.577Z"
   },
   {
    "duration": 0,
    "start_time": "2022-12-06T13:23:08.579Z"
   },
   {
    "duration": 0,
    "start_time": "2022-12-06T13:23:08.580Z"
   },
   {
    "duration": 0,
    "start_time": "2022-12-06T13:23:08.581Z"
   },
   {
    "duration": 0,
    "start_time": "2022-12-06T13:23:08.583Z"
   },
   {
    "duration": 0,
    "start_time": "2022-12-06T13:23:08.584Z"
   },
   {
    "duration": 0,
    "start_time": "2022-12-06T13:23:08.585Z"
   },
   {
    "duration": 0,
    "start_time": "2022-12-06T13:23:08.587Z"
   },
   {
    "duration": 0,
    "start_time": "2022-12-06T13:23:08.589Z"
   },
   {
    "duration": 1288,
    "start_time": "2022-12-06T13:27:17.602Z"
   },
   {
    "duration": 73,
    "start_time": "2022-12-06T13:27:18.892Z"
   },
   {
    "duration": 18,
    "start_time": "2022-12-06T13:27:18.968Z"
   },
   {
    "duration": 56,
    "start_time": "2022-12-06T13:27:18.988Z"
   },
   {
    "duration": 2185,
    "start_time": "2022-12-06T13:27:19.046Z"
   },
   {
    "duration": 170,
    "start_time": "2022-12-06T13:27:21.233Z"
   },
   {
    "duration": 0,
    "start_time": "2022-12-06T13:27:21.405Z"
   },
   {
    "duration": 0,
    "start_time": "2022-12-06T13:27:21.406Z"
   },
   {
    "duration": 0,
    "start_time": "2022-12-06T13:27:21.408Z"
   },
   {
    "duration": 0,
    "start_time": "2022-12-06T13:27:21.409Z"
   },
   {
    "duration": 0,
    "start_time": "2022-12-06T13:27:21.410Z"
   },
   {
    "duration": 0,
    "start_time": "2022-12-06T13:27:21.411Z"
   },
   {
    "duration": 0,
    "start_time": "2022-12-06T13:27:21.412Z"
   },
   {
    "duration": 0,
    "start_time": "2022-12-06T13:27:21.413Z"
   },
   {
    "duration": 0,
    "start_time": "2022-12-06T13:27:21.414Z"
   },
   {
    "duration": 0,
    "start_time": "2022-12-06T13:27:21.416Z"
   },
   {
    "duration": 0,
    "start_time": "2022-12-06T13:27:21.435Z"
   },
   {
    "duration": 1,
    "start_time": "2022-12-06T13:27:21.437Z"
   },
   {
    "duration": 0,
    "start_time": "2022-12-06T13:27:21.439Z"
   },
   {
    "duration": 0,
    "start_time": "2022-12-06T13:27:21.441Z"
   },
   {
    "duration": 0,
    "start_time": "2022-12-06T13:27:21.442Z"
   },
   {
    "duration": 0,
    "start_time": "2022-12-06T13:27:21.444Z"
   },
   {
    "duration": 0,
    "start_time": "2022-12-06T13:27:21.445Z"
   },
   {
    "duration": 1,
    "start_time": "2022-12-06T13:27:21.446Z"
   },
   {
    "duration": 0,
    "start_time": "2022-12-06T13:27:21.448Z"
   },
   {
    "duration": 0,
    "start_time": "2022-12-06T13:27:21.449Z"
   },
   {
    "duration": 0,
    "start_time": "2022-12-06T13:27:21.450Z"
   },
   {
    "duration": 0,
    "start_time": "2022-12-06T13:27:21.461Z"
   },
   {
    "duration": 0,
    "start_time": "2022-12-06T13:27:21.463Z"
   },
   {
    "duration": 0,
    "start_time": "2022-12-06T13:27:21.464Z"
   },
   {
    "duration": 150,
    "start_time": "2022-12-06T13:27:31.974Z"
   },
   {
    "duration": 265,
    "start_time": "2022-12-06T13:30:09.930Z"
   },
   {
    "duration": 1588,
    "start_time": "2022-12-06T13:30:23.081Z"
   },
   {
    "duration": 256,
    "start_time": "2022-12-06T13:30:30.032Z"
   },
   {
    "duration": 1529,
    "start_time": "2022-12-06T13:31:30.429Z"
   },
   {
    "duration": 66,
    "start_time": "2022-12-06T13:31:31.960Z"
   },
   {
    "duration": 16,
    "start_time": "2022-12-06T13:31:32.028Z"
   },
   {
    "duration": 22,
    "start_time": "2022-12-06T13:31:32.047Z"
   },
   {
    "duration": 44,
    "start_time": "2022-12-06T13:31:32.071Z"
   },
   {
    "duration": 1838,
    "start_time": "2022-12-06T13:31:32.117Z"
   },
   {
    "duration": 309,
    "start_time": "2022-12-06T13:31:33.957Z"
   },
   {
    "duration": 3,
    "start_time": "2022-12-06T13:31:34.268Z"
   },
   {
    "duration": 64,
    "start_time": "2022-12-06T13:31:34.273Z"
   },
   {
    "duration": 35,
    "start_time": "2022-12-06T13:31:34.341Z"
   },
   {
    "duration": 4,
    "start_time": "2022-12-06T13:31:34.378Z"
   },
   {
    "duration": 57,
    "start_time": "2022-12-06T13:31:34.384Z"
   },
   {
    "duration": 29,
    "start_time": "2022-12-06T13:31:34.443Z"
   },
   {
    "duration": 7,
    "start_time": "2022-12-06T13:31:34.475Z"
   },
   {
    "duration": 247,
    "start_time": "2022-12-06T13:31:34.536Z"
   },
   {
    "duration": 7,
    "start_time": "2022-12-06T13:31:34.834Z"
   },
   {
    "duration": 325,
    "start_time": "2022-12-06T13:31:34.844Z"
   },
   {
    "duration": 5,
    "start_time": "2022-12-06T13:31:35.170Z"
   },
   {
    "duration": 306,
    "start_time": "2022-12-06T13:31:35.176Z"
   },
   {
    "duration": 77,
    "start_time": "2022-12-06T13:31:35.484Z"
   },
   {
    "duration": 4,
    "start_time": "2022-12-06T13:31:35.563Z"
   },
   {
    "duration": 84,
    "start_time": "2022-12-06T13:31:35.569Z"
   },
   {
    "duration": 12,
    "start_time": "2022-12-06T13:31:35.655Z"
   },
   {
    "duration": 69,
    "start_time": "2022-12-06T13:31:35.668Z"
   },
   {
    "duration": 8,
    "start_time": "2022-12-06T13:31:35.738Z"
   },
   {
    "duration": 15,
    "start_time": "2022-12-06T13:31:35.749Z"
   },
   {
    "duration": 8,
    "start_time": "2022-12-06T13:31:35.766Z"
   },
   {
    "duration": 10,
    "start_time": "2022-12-06T13:31:35.778Z"
   },
   {
    "duration": 48,
    "start_time": "2022-12-06T13:31:35.790Z"
   },
   {
    "duration": 38,
    "start_time": "2022-12-06T13:31:35.840Z"
   },
   {
    "duration": 326,
    "start_time": "2022-12-06T13:31:35.880Z"
   },
   {
    "duration": 914,
    "start_time": "2022-12-06T13:34:46.265Z"
   },
   {
    "duration": 3,
    "start_time": "2022-12-06T13:40:44.714Z"
   },
   {
    "duration": 17,
    "start_time": "2022-12-06T13:42:22.473Z"
   },
   {
    "duration": 55,
    "start_time": "2022-12-06T13:44:25.530Z"
   },
   {
    "duration": 12,
    "start_time": "2022-12-06T13:44:31.850Z"
   },
   {
    "duration": 426,
    "start_time": "2022-12-06T13:44:44.959Z"
   },
   {
    "duration": 45,
    "start_time": "2022-12-06T13:45:34.801Z"
   },
   {
    "duration": 1654,
    "start_time": "2022-12-06T13:45:58.315Z"
   },
   {
    "duration": 1007,
    "start_time": "2022-12-06T13:46:57.881Z"
   },
   {
    "duration": 20,
    "start_time": "2022-12-06T13:48:43.944Z"
   },
   {
    "duration": 1073,
    "start_time": "2022-12-06T13:48:52.360Z"
   },
   {
    "duration": 1656,
    "start_time": "2022-12-06T14:06:02.046Z"
   },
   {
    "duration": 22,
    "start_time": "2022-12-06T14:48:08.255Z"
   },
   {
    "duration": 1572,
    "start_time": "2022-12-06T14:50:07.949Z"
   },
   {
    "duration": 71,
    "start_time": "2022-12-06T14:50:09.523Z"
   },
   {
    "duration": 13,
    "start_time": "2022-12-06T14:50:09.596Z"
   },
   {
    "duration": 18,
    "start_time": "2022-12-06T14:50:09.611Z"
   },
   {
    "duration": 69,
    "start_time": "2022-12-06T14:50:09.631Z"
   },
   {
    "duration": 1639,
    "start_time": "2022-12-06T14:50:09.702Z"
   },
   {
    "duration": 144,
    "start_time": "2022-12-06T14:50:11.343Z"
   },
   {
    "duration": 4,
    "start_time": "2022-12-06T14:50:11.489Z"
   },
   {
    "duration": 37,
    "start_time": "2022-12-06T14:50:11.495Z"
   },
   {
    "duration": 58,
    "start_time": "2022-12-06T14:50:11.536Z"
   },
   {
    "duration": 20,
    "start_time": "2022-12-06T14:50:11.596Z"
   },
   {
    "duration": 38,
    "start_time": "2022-12-06T14:50:11.618Z"
   },
   {
    "duration": 31,
    "start_time": "2022-12-06T14:50:11.659Z"
   },
   {
    "duration": 33,
    "start_time": "2022-12-06T14:50:11.692Z"
   },
   {
    "duration": 5,
    "start_time": "2022-12-06T14:50:11.728Z"
   },
   {
    "duration": 151,
    "start_time": "2022-12-06T14:50:11.735Z"
   },
   {
    "duration": 5,
    "start_time": "2022-12-06T14:50:11.888Z"
   },
   {
    "duration": 36,
    "start_time": "2022-12-06T14:50:11.894Z"
   },
   {
    "duration": 29,
    "start_time": "2022-12-06T14:50:11.932Z"
   },
   {
    "duration": 31,
    "start_time": "2022-12-06T14:50:11.964Z"
   },
   {
    "duration": 29,
    "start_time": "2022-12-06T14:50:11.997Z"
   },
   {
    "duration": 57,
    "start_time": "2022-12-06T14:50:12.028Z"
   },
   {
    "duration": 1665,
    "start_time": "2022-12-06T14:50:12.087Z"
   },
   {
    "duration": 6,
    "start_time": "2022-12-06T14:50:13.755Z"
   },
   {
    "duration": 31,
    "start_time": "2022-12-06T14:50:13.762Z"
   },
   {
    "duration": 26,
    "start_time": "2022-12-06T14:50:13.795Z"
   },
   {
    "duration": 53,
    "start_time": "2022-12-06T14:50:13.822Z"
   },
   {
    "duration": 24,
    "start_time": "2022-12-06T14:50:13.878Z"
   },
   {
    "duration": 26,
    "start_time": "2022-12-06T14:50:13.904Z"
   },
   {
    "duration": 190,
    "start_time": "2022-12-06T14:50:13.933Z"
   },
   {
    "duration": 4,
    "start_time": "2022-12-06T15:09:23.101Z"
   },
   {
    "duration": 18,
    "start_time": "2022-12-06T15:11:40.686Z"
   },
   {
    "duration": 1492,
    "start_time": "2022-12-06T15:12:12.866Z"
   },
   {
    "duration": 55,
    "start_time": "2022-12-06T15:12:14.360Z"
   },
   {
    "duration": 14,
    "start_time": "2022-12-06T15:12:14.416Z"
   },
   {
    "duration": 8,
    "start_time": "2022-12-06T15:12:14.432Z"
   },
   {
    "duration": 51,
    "start_time": "2022-12-06T15:12:14.442Z"
   },
   {
    "duration": 1636,
    "start_time": "2022-12-06T15:12:14.495Z"
   },
   {
    "duration": 153,
    "start_time": "2022-12-06T15:12:16.132Z"
   },
   {
    "duration": 3,
    "start_time": "2022-12-06T15:12:16.286Z"
   },
   {
    "duration": 23,
    "start_time": "2022-12-06T15:12:16.290Z"
   },
   {
    "duration": 27,
    "start_time": "2022-12-06T15:12:16.315Z"
   },
   {
    "duration": 19,
    "start_time": "2022-12-06T15:12:16.344Z"
   },
   {
    "duration": 31,
    "start_time": "2022-12-06T15:12:16.366Z"
   },
   {
    "duration": 26,
    "start_time": "2022-12-06T15:12:16.399Z"
   },
   {
    "duration": 4,
    "start_time": "2022-12-06T15:12:16.426Z"
   },
   {
    "duration": 156,
    "start_time": "2022-12-06T15:12:16.436Z"
   },
   {
    "duration": 4,
    "start_time": "2022-12-06T15:12:16.594Z"
   },
   {
    "duration": 37,
    "start_time": "2022-12-06T15:12:16.600Z"
   },
   {
    "duration": 47,
    "start_time": "2022-12-06T15:12:16.639Z"
   },
   {
    "duration": 243,
    "start_time": "2022-12-06T15:12:16.687Z"
   },
   {
    "duration": 1511,
    "start_time": "2022-12-06T15:13:20.675Z"
   },
   {
    "duration": 64,
    "start_time": "2022-12-06T15:13:22.189Z"
   },
   {
    "duration": 19,
    "start_time": "2022-12-06T15:13:22.256Z"
   },
   {
    "duration": 9,
    "start_time": "2022-12-06T15:13:22.278Z"
   },
   {
    "duration": 61,
    "start_time": "2022-12-06T15:13:22.289Z"
   },
   {
    "duration": 2309,
    "start_time": "2022-12-06T15:13:22.353Z"
   },
   {
    "duration": 385,
    "start_time": "2022-12-06T15:13:24.664Z"
   },
   {
    "duration": 4,
    "start_time": "2022-12-06T15:13:25.052Z"
   },
   {
    "duration": 23,
    "start_time": "2022-12-06T15:13:25.057Z"
   },
   {
    "duration": 55,
    "start_time": "2022-12-06T15:13:25.083Z"
   },
   {
    "duration": 24,
    "start_time": "2022-12-06T15:13:25.142Z"
   },
   {
    "duration": 68,
    "start_time": "2022-12-06T15:13:25.168Z"
   },
   {
    "duration": 35,
    "start_time": "2022-12-06T15:13:25.239Z"
   },
   {
    "duration": 5,
    "start_time": "2022-12-06T15:13:25.276Z"
   },
   {
    "duration": 248,
    "start_time": "2022-12-06T15:13:25.335Z"
   },
   {
    "duration": 12,
    "start_time": "2022-12-06T15:13:25.635Z"
   },
   {
    "duration": 28,
    "start_time": "2022-12-06T15:13:25.652Z"
   },
   {
    "duration": 4,
    "start_time": "2022-12-06T15:13:25.682Z"
   },
   {
    "duration": 355,
    "start_time": "2022-12-06T15:13:25.688Z"
   },
   {
    "duration": 1518,
    "start_time": "2022-12-06T15:15:54.835Z"
   },
   {
    "duration": 59,
    "start_time": "2022-12-06T15:15:56.354Z"
   },
   {
    "duration": 14,
    "start_time": "2022-12-06T15:15:56.414Z"
   },
   {
    "duration": 26,
    "start_time": "2022-12-06T15:15:56.430Z"
   },
   {
    "duration": 50,
    "start_time": "2022-12-06T15:15:56.618Z"
   },
   {
    "duration": 1662,
    "start_time": "2022-12-06T15:15:57.110Z"
   },
   {
    "duration": 138,
    "start_time": "2022-12-06T15:15:58.774Z"
   },
   {
    "duration": 3,
    "start_time": "2022-12-06T15:15:58.914Z"
   },
   {
    "duration": 31,
    "start_time": "2022-12-06T15:15:58.919Z"
   },
   {
    "duration": 15,
    "start_time": "2022-12-06T15:15:58.952Z"
   },
   {
    "duration": 28,
    "start_time": "2022-12-06T15:15:58.968Z"
   },
   {
    "duration": 12,
    "start_time": "2022-12-06T15:15:58.998Z"
   },
   {
    "duration": 22,
    "start_time": "2022-12-06T15:15:59.284Z"
   },
   {
    "duration": 8,
    "start_time": "2022-12-06T15:16:00.032Z"
   },
   {
    "duration": 142,
    "start_time": "2022-12-06T15:16:01.380Z"
   },
   {
    "duration": 5,
    "start_time": "2022-12-06T15:16:02.100Z"
   },
   {
    "duration": 29,
    "start_time": "2022-12-06T15:16:02.433Z"
   },
   {
    "duration": 5,
    "start_time": "2022-12-06T15:16:02.694Z"
   },
   {
    "duration": 241,
    "start_time": "2022-12-06T15:16:02.934Z"
   },
   {
    "duration": 1353,
    "start_time": "2022-12-06T15:16:28.696Z"
   },
   {
    "duration": 54,
    "start_time": "2022-12-06T15:16:30.052Z"
   },
   {
    "duration": 12,
    "start_time": "2022-12-06T15:16:30.108Z"
   },
   {
    "duration": 6,
    "start_time": "2022-12-06T15:16:30.330Z"
   },
   {
    "duration": 34,
    "start_time": "2022-12-06T15:16:30.570Z"
   },
   {
    "duration": 1559,
    "start_time": "2022-12-06T15:16:31.023Z"
   },
   {
    "duration": 166,
    "start_time": "2022-12-06T15:16:32.584Z"
   },
   {
    "duration": 4,
    "start_time": "2022-12-06T15:16:32.752Z"
   },
   {
    "duration": 18,
    "start_time": "2022-12-06T15:16:32.758Z"
   },
   {
    "duration": 5,
    "start_time": "2022-12-06T15:16:32.917Z"
   },
   {
    "duration": 26,
    "start_time": "2022-12-06T15:16:34.036Z"
   },
   {
    "duration": 14,
    "start_time": "2022-12-06T15:16:36.690Z"
   },
   {
    "duration": 21,
    "start_time": "2022-12-06T15:16:37.847Z"
   },
   {
    "duration": 4,
    "start_time": "2022-12-06T15:16:40.470Z"
   },
   {
    "duration": 114,
    "start_time": "2022-12-06T15:16:41.376Z"
   },
   {
    "duration": 4,
    "start_time": "2022-12-06T15:16:48.498Z"
   },
   {
    "duration": 20,
    "start_time": "2022-12-06T15:16:49.902Z"
   },
   {
    "duration": 5,
    "start_time": "2022-12-06T15:16:52.584Z"
   },
   {
    "duration": 233,
    "start_time": "2022-12-06T15:16:58.102Z"
   },
   {
    "duration": 138,
    "start_time": "2022-12-06T15:17:05.848Z"
   },
   {
    "duration": 6,
    "start_time": "2022-12-06T15:19:06.217Z"
   },
   {
    "duration": 15,
    "start_time": "2022-12-06T15:19:15.785Z"
   },
   {
    "duration": 6,
    "start_time": "2022-12-06T15:19:47.567Z"
   },
   {
    "duration": 3,
    "start_time": "2022-12-06T15:19:58.461Z"
   },
   {
    "duration": 16,
    "start_time": "2022-12-06T15:20:03.450Z"
   },
   {
    "duration": 1417,
    "start_time": "2022-12-06T15:20:13.837Z"
   },
   {
    "duration": 60,
    "start_time": "2022-12-06T15:20:15.256Z"
   },
   {
    "duration": 13,
    "start_time": "2022-12-06T15:20:15.318Z"
   },
   {
    "duration": 9,
    "start_time": "2022-12-06T15:20:15.333Z"
   },
   {
    "duration": 69,
    "start_time": "2022-12-06T15:20:15.344Z"
   },
   {
    "duration": 1626,
    "start_time": "2022-12-06T15:20:15.415Z"
   },
   {
    "duration": 139,
    "start_time": "2022-12-06T15:20:17.043Z"
   },
   {
    "duration": 3,
    "start_time": "2022-12-06T15:20:17.184Z"
   },
   {
    "duration": 16,
    "start_time": "2022-12-06T15:20:17.189Z"
   },
   {
    "duration": 8,
    "start_time": "2022-12-06T15:20:17.208Z"
   },
   {
    "duration": 30,
    "start_time": "2022-12-06T15:20:17.237Z"
   },
   {
    "duration": 11,
    "start_time": "2022-12-06T15:20:17.269Z"
   },
   {
    "duration": 20,
    "start_time": "2022-12-06T15:20:17.282Z"
   },
   {
    "duration": 5,
    "start_time": "2022-12-06T15:20:17.304Z"
   },
   {
    "duration": 151,
    "start_time": "2022-12-06T15:20:17.310Z"
   },
   {
    "duration": 3,
    "start_time": "2022-12-06T15:20:17.464Z"
   },
   {
    "duration": 24,
    "start_time": "2022-12-06T15:20:17.469Z"
   },
   {
    "duration": 4,
    "start_time": "2022-12-06T15:20:17.495Z"
   },
   {
    "duration": 250,
    "start_time": "2022-12-06T15:20:17.501Z"
   },
   {
    "duration": 1452,
    "start_time": "2022-12-06T15:20:58.408Z"
   },
   {
    "duration": 67,
    "start_time": "2022-12-06T15:20:59.925Z"
   },
   {
    "duration": 13,
    "start_time": "2022-12-06T15:21:00.855Z"
   },
   {
    "duration": 7,
    "start_time": "2022-12-06T15:21:01.182Z"
   },
   {
    "duration": 48,
    "start_time": "2022-12-06T15:21:01.522Z"
   },
   {
    "duration": 1721,
    "start_time": "2022-12-06T15:21:02.171Z"
   },
   {
    "duration": 148,
    "start_time": "2022-12-06T15:21:03.894Z"
   },
   {
    "duration": 4,
    "start_time": "2022-12-06T15:21:04.046Z"
   },
   {
    "duration": 23,
    "start_time": "2022-12-06T15:21:04.052Z"
   },
   {
    "duration": 17,
    "start_time": "2022-12-06T15:21:04.077Z"
   },
   {
    "duration": 25,
    "start_time": "2022-12-06T15:21:04.096Z"
   },
   {
    "duration": 13,
    "start_time": "2022-12-06T15:21:06.889Z"
   },
   {
    "duration": 27,
    "start_time": "2022-12-06T15:21:09.535Z"
   },
   {
    "duration": 6,
    "start_time": "2022-12-06T15:21:12.987Z"
   },
   {
    "duration": 124,
    "start_time": "2022-12-06T15:21:13.667Z"
   },
   {
    "duration": 4,
    "start_time": "2022-12-06T15:21:14.870Z"
   },
   {
    "duration": 21,
    "start_time": "2022-12-06T15:21:15.885Z"
   },
   {
    "duration": 4,
    "start_time": "2022-12-06T15:21:16.780Z"
   },
   {
    "duration": 244,
    "start_time": "2022-12-06T15:21:17.813Z"
   },
   {
    "duration": 1486,
    "start_time": "2022-12-06T15:22:15.880Z"
   },
   {
    "duration": 56,
    "start_time": "2022-12-06T15:22:17.369Z"
   },
   {
    "duration": 22,
    "start_time": "2022-12-06T15:22:17.426Z"
   },
   {
    "duration": 13,
    "start_time": "2022-12-06T15:22:17.451Z"
   },
   {
    "duration": 61,
    "start_time": "2022-12-06T15:22:17.465Z"
   },
   {
    "duration": 1642,
    "start_time": "2022-12-06T15:22:17.528Z"
   },
   {
    "duration": 153,
    "start_time": "2022-12-06T15:22:19.172Z"
   },
   {
    "duration": 9,
    "start_time": "2022-12-06T15:22:19.327Z"
   },
   {
    "duration": 39,
    "start_time": "2022-12-06T15:22:19.338Z"
   },
   {
    "duration": 29,
    "start_time": "2022-12-06T15:22:19.380Z"
   },
   {
    "duration": 35,
    "start_time": "2022-12-06T15:22:19.410Z"
   },
   {
    "duration": 17,
    "start_time": "2022-12-06T15:22:19.450Z"
   },
   {
    "duration": 38,
    "start_time": "2022-12-06T15:22:19.468Z"
   },
   {
    "duration": 6,
    "start_time": "2022-12-06T15:22:19.508Z"
   },
   {
    "duration": 149,
    "start_time": "2022-12-06T15:22:19.515Z"
   },
   {
    "duration": 3,
    "start_time": "2022-12-06T15:22:19.666Z"
   },
   {
    "duration": 89,
    "start_time": "2022-12-06T15:22:19.670Z"
   },
   {
    "duration": 26,
    "start_time": "2022-12-06T15:22:19.761Z"
   },
   {
    "duration": 276,
    "start_time": "2022-12-06T15:22:19.788Z"
   },
   {
    "duration": 2,
    "start_time": "2022-12-06T15:22:20.066Z"
   },
   {
    "duration": 33,
    "start_time": "2022-12-06T15:22:20.070Z"
   },
   {
    "duration": 43,
    "start_time": "2022-12-06T15:22:20.105Z"
   },
   {
    "duration": 16,
    "start_time": "2022-12-06T15:22:20.150Z"
   },
   {
    "duration": 30,
    "start_time": "2022-12-06T15:22:20.168Z"
   },
   {
    "duration": 30,
    "start_time": "2022-12-06T15:22:20.199Z"
   },
   {
    "duration": 60,
    "start_time": "2022-12-06T15:22:20.231Z"
   },
   {
    "duration": 25,
    "start_time": "2022-12-06T15:22:20.293Z"
   },
   {
    "duration": 28,
    "start_time": "2022-12-06T15:22:20.321Z"
   },
   {
    "duration": 165,
    "start_time": "2022-12-06T15:22:20.351Z"
   },
   {
    "duration": 11,
    "start_time": "2022-12-06T15:25:22.493Z"
   },
   {
    "duration": 10,
    "start_time": "2022-12-06T15:25:30.158Z"
   },
   {
    "duration": 24,
    "start_time": "2022-12-06T15:25:31.511Z"
   },
   {
    "duration": 17,
    "start_time": "2022-12-06T15:26:40.659Z"
   },
   {
    "duration": 17,
    "start_time": "2022-12-06T15:27:00.878Z"
   },
   {
    "duration": 22,
    "start_time": "2022-12-06T15:29:45.504Z"
   },
   {
    "duration": 30,
    "start_time": "2022-12-06T15:32:24.009Z"
   },
   {
    "duration": 18,
    "start_time": "2022-12-06T15:34:23.072Z"
   },
   {
    "duration": 1512,
    "start_time": "2022-12-06T15:34:42.819Z"
   },
   {
    "duration": 70,
    "start_time": "2022-12-06T15:34:44.333Z"
   },
   {
    "duration": 14,
    "start_time": "2022-12-06T15:34:44.405Z"
   },
   {
    "duration": 6,
    "start_time": "2022-12-06T15:34:44.421Z"
   },
   {
    "duration": 55,
    "start_time": "2022-12-06T15:34:44.429Z"
   },
   {
    "duration": 1590,
    "start_time": "2022-12-06T15:34:44.485Z"
   },
   {
    "duration": 138,
    "start_time": "2022-12-06T15:34:46.077Z"
   },
   {
    "duration": 3,
    "start_time": "2022-12-06T15:34:46.217Z"
   },
   {
    "duration": 40,
    "start_time": "2022-12-06T15:34:46.221Z"
   },
   {
    "duration": 26,
    "start_time": "2022-12-06T15:34:46.264Z"
   },
   {
    "duration": 34,
    "start_time": "2022-12-06T15:34:46.292Z"
   },
   {
    "duration": 15,
    "start_time": "2022-12-06T15:34:46.328Z"
   },
   {
    "duration": 36,
    "start_time": "2022-12-06T15:34:46.345Z"
   },
   {
    "duration": 5,
    "start_time": "2022-12-06T15:34:46.383Z"
   },
   {
    "duration": 149,
    "start_time": "2022-12-06T15:34:46.390Z"
   },
   {
    "duration": 8,
    "start_time": "2022-12-06T15:34:46.542Z"
   },
   {
    "duration": 41,
    "start_time": "2022-12-06T15:34:46.552Z"
   },
   {
    "duration": 17,
    "start_time": "2022-12-06T15:34:46.596Z"
   },
   {
    "duration": 299,
    "start_time": "2022-12-06T15:34:46.615Z"
   },
   {
    "duration": 2,
    "start_time": "2022-12-06T15:34:46.916Z"
   },
   {
    "duration": 183,
    "start_time": "2022-12-06T15:34:46.920Z"
   },
   {
    "duration": 0,
    "start_time": "2022-12-06T15:34:47.105Z"
   },
   {
    "duration": 0,
    "start_time": "2022-12-06T15:34:47.106Z"
   },
   {
    "duration": 0,
    "start_time": "2022-12-06T15:34:47.108Z"
   },
   {
    "duration": 0,
    "start_time": "2022-12-06T15:34:47.109Z"
   },
   {
    "duration": 0,
    "start_time": "2022-12-06T15:34:47.110Z"
   },
   {
    "duration": 0,
    "start_time": "2022-12-06T15:34:47.111Z"
   },
   {
    "duration": 0,
    "start_time": "2022-12-06T15:34:47.112Z"
   },
   {
    "duration": 0,
    "start_time": "2022-12-06T15:34:47.114Z"
   },
   {
    "duration": 0,
    "start_time": "2022-12-06T15:34:47.115Z"
   },
   {
    "duration": 0,
    "start_time": "2022-12-06T15:34:47.136Z"
   },
   {
    "duration": 0,
    "start_time": "2022-12-06T15:34:47.137Z"
   },
   {
    "duration": 0,
    "start_time": "2022-12-06T15:34:47.141Z"
   },
   {
    "duration": 0,
    "start_time": "2022-12-06T15:34:47.142Z"
   },
   {
    "duration": 1572,
    "start_time": "2022-12-06T15:36:43.325Z"
   },
   {
    "duration": 70,
    "start_time": "2022-12-06T15:36:44.899Z"
   },
   {
    "duration": 15,
    "start_time": "2022-12-06T15:36:44.973Z"
   },
   {
    "duration": 25,
    "start_time": "2022-12-06T15:36:44.991Z"
   },
   {
    "duration": 83,
    "start_time": "2022-12-06T15:36:45.018Z"
   },
   {
    "duration": 1776,
    "start_time": "2022-12-06T15:36:45.103Z"
   },
   {
    "duration": 149,
    "start_time": "2022-12-06T15:36:46.881Z"
   },
   {
    "duration": 6,
    "start_time": "2022-12-06T15:36:47.032Z"
   },
   {
    "duration": 55,
    "start_time": "2022-12-06T15:36:47.042Z"
   },
   {
    "duration": 14,
    "start_time": "2022-12-06T15:36:47.101Z"
   },
   {
    "duration": 71,
    "start_time": "2022-12-06T15:36:47.117Z"
   },
   {
    "duration": 14,
    "start_time": "2022-12-06T15:36:47.190Z"
   },
   {
    "duration": 50,
    "start_time": "2022-12-06T15:36:47.205Z"
   },
   {
    "duration": 37,
    "start_time": "2022-12-06T15:36:47.257Z"
   },
   {
    "duration": 154,
    "start_time": "2022-12-06T15:36:47.296Z"
   },
   {
    "duration": 5,
    "start_time": "2022-12-06T15:36:47.453Z"
   },
   {
    "duration": 50,
    "start_time": "2022-12-06T15:36:47.460Z"
   },
   {
    "duration": 16,
    "start_time": "2022-12-06T15:36:47.512Z"
   },
   {
    "duration": 39,
    "start_time": "2022-12-06T15:36:47.529Z"
   },
   {
    "duration": 44,
    "start_time": "2022-12-06T15:36:47.570Z"
   },
   {
    "duration": 14,
    "start_time": "2022-12-06T15:36:47.616Z"
   },
   {
    "duration": 73,
    "start_time": "2022-12-06T15:36:47.632Z"
   },
   {
    "duration": 20,
    "start_time": "2022-12-06T15:36:47.707Z"
   },
   {
    "duration": 56,
    "start_time": "2022-12-06T15:36:47.729Z"
   },
   {
    "duration": 45,
    "start_time": "2022-12-06T15:36:47.787Z"
   },
   {
    "duration": 54,
    "start_time": "2022-12-06T15:36:47.834Z"
   },
   {
    "duration": 21,
    "start_time": "2022-12-06T15:36:47.890Z"
   },
   {
    "duration": 11,
    "start_time": "2022-12-06T15:36:47.916Z"
   },
   {
    "duration": 61,
    "start_time": "2022-12-06T15:36:47.930Z"
   },
   {
    "duration": 41,
    "start_time": "2022-12-06T15:36:47.994Z"
   },
   {
    "duration": 45,
    "start_time": "2022-12-06T15:36:48.042Z"
   },
   {
    "duration": 19,
    "start_time": "2022-12-06T15:36:48.089Z"
   },
   {
    "duration": 19,
    "start_time": "2022-12-06T15:36:48.110Z"
   },
   {
    "duration": 3165,
    "start_time": "2022-12-06T15:36:48.131Z"
   },
   {
    "duration": 854,
    "start_time": "2022-12-06T15:38:27.890Z"
   },
   {
    "duration": 182,
    "start_time": "2022-12-06T15:39:08.191Z"
   },
   {
    "duration": 173,
    "start_time": "2022-12-06T15:40:10.372Z"
   },
   {
    "duration": 386,
    "start_time": "2022-12-06T15:44:22.487Z"
   },
   {
    "duration": 625,
    "start_time": "2022-12-06T15:45:08.319Z"
   },
   {
    "duration": 584,
    "start_time": "2022-12-06T15:45:26.167Z"
   },
   {
    "duration": 3137,
    "start_time": "2022-12-06T15:45:46.001Z"
   },
   {
    "duration": 204,
    "start_time": "2022-12-06T15:46:08.705Z"
   },
   {
    "duration": 196,
    "start_time": "2022-12-06T15:48:32.788Z"
   },
   {
    "duration": 2920,
    "start_time": "2022-12-06T15:52:55.980Z"
   },
   {
    "duration": 621,
    "start_time": "2022-12-06T15:53:35.826Z"
   },
   {
    "duration": 175,
    "start_time": "2022-12-06T15:54:11.947Z"
   },
   {
    "duration": 106,
    "start_time": "2022-12-06T15:59:50.163Z"
   },
   {
    "duration": 22,
    "start_time": "2022-12-06T16:00:19.448Z"
   },
   {
    "duration": 25,
    "start_time": "2022-12-06T16:02:20.048Z"
   },
   {
    "duration": 1537,
    "start_time": "2022-12-12T09:25:52.622Z"
   },
   {
    "duration": 170,
    "start_time": "2022-12-12T09:25:54.161Z"
   },
   {
    "duration": 11,
    "start_time": "2022-12-12T09:25:54.333Z"
   },
   {
    "duration": 6,
    "start_time": "2022-12-12T09:25:54.346Z"
   },
   {
    "duration": 34,
    "start_time": "2022-12-12T09:25:54.353Z"
   },
   {
    "duration": 1390,
    "start_time": "2022-12-12T09:25:54.388Z"
   },
   {
    "duration": 122,
    "start_time": "2022-12-12T09:25:55.780Z"
   },
   {
    "duration": 2,
    "start_time": "2022-12-12T09:25:55.904Z"
   },
   {
    "duration": 40,
    "start_time": "2022-12-12T09:25:55.908Z"
   },
   {
    "duration": 31,
    "start_time": "2022-12-12T09:25:55.950Z"
   },
   {
    "duration": 22,
    "start_time": "2022-12-12T09:25:55.983Z"
   },
   {
    "duration": 13,
    "start_time": "2022-12-12T09:25:56.007Z"
   },
   {
    "duration": 20,
    "start_time": "2022-12-12T09:25:56.021Z"
   },
   {
    "duration": 6,
    "start_time": "2022-12-12T09:25:56.043Z"
   },
   {
    "duration": 114,
    "start_time": "2022-12-12T09:25:56.050Z"
   },
   {
    "duration": 3,
    "start_time": "2022-12-12T09:25:56.165Z"
   },
   {
    "duration": 21,
    "start_time": "2022-12-12T09:25:56.170Z"
   },
   {
    "duration": 5,
    "start_time": "2022-12-12T09:25:56.193Z"
   },
   {
    "duration": 7,
    "start_time": "2022-12-12T09:25:56.200Z"
   },
   {
    "duration": 32,
    "start_time": "2022-12-12T09:25:56.209Z"
   },
   {
    "duration": 2,
    "start_time": "2022-12-12T09:25:56.242Z"
   },
   {
    "duration": 8,
    "start_time": "2022-12-12T09:25:56.246Z"
   },
   {
    "duration": 5,
    "start_time": "2022-12-12T09:25:56.256Z"
   },
   {
    "duration": 5,
    "start_time": "2022-12-12T09:25:56.263Z"
   },
   {
    "duration": 4,
    "start_time": "2022-12-12T09:25:56.269Z"
   },
   {
    "duration": 6,
    "start_time": "2022-12-12T09:25:56.275Z"
   },
   {
    "duration": 5,
    "start_time": "2022-12-12T09:25:56.283Z"
   },
   {
    "duration": 36,
    "start_time": "2022-12-12T09:25:56.291Z"
   },
   {
    "duration": 12,
    "start_time": "2022-12-12T09:25:56.328Z"
   },
   {
    "duration": 30,
    "start_time": "2022-12-12T09:25:56.342Z"
   },
   {
    "duration": 19,
    "start_time": "2022-12-12T09:25:56.373Z"
   },
   {
    "duration": 33,
    "start_time": "2022-12-12T09:25:56.393Z"
   },
   {
    "duration": 154,
    "start_time": "2022-12-12T09:25:56.427Z"
   },
   {
    "duration": 115,
    "start_time": "2022-12-12T09:25:56.582Z"
   },
   {
    "duration": 0,
    "start_time": "2022-12-12T09:25:56.698Z"
   },
   {
    "duration": 0,
    "start_time": "2022-12-12T09:25:56.699Z"
   },
   {
    "duration": 17,
    "start_time": "2022-12-12T09:30:20.807Z"
   },
   {
    "duration": 2525,
    "start_time": "2022-12-12T09:30:52.202Z"
   },
   {
    "duration": 2443,
    "start_time": "2022-12-12T09:31:25.855Z"
   },
   {
    "duration": 2495,
    "start_time": "2022-12-12T09:31:52.667Z"
   },
   {
    "duration": 779,
    "start_time": "2022-12-12T09:31:57.791Z"
   },
   {
    "duration": 656,
    "start_time": "2022-12-12T09:32:09.173Z"
   },
   {
    "duration": 535,
    "start_time": "2022-12-12T09:32:18.293Z"
   },
   {
    "duration": 2829,
    "start_time": "2022-12-12T09:32:43.374Z"
   },
   {
    "duration": 157,
    "start_time": "2022-12-12T09:33:04.408Z"
   },
   {
    "duration": 1312,
    "start_time": "2022-12-12T09:33:18.151Z"
   },
   {
    "duration": 52,
    "start_time": "2022-12-12T09:33:19.465Z"
   },
   {
    "duration": 12,
    "start_time": "2022-12-12T09:33:19.519Z"
   },
   {
    "duration": 5,
    "start_time": "2022-12-12T09:33:19.533Z"
   },
   {
    "duration": 43,
    "start_time": "2022-12-12T09:33:19.540Z"
   },
   {
    "duration": 1391,
    "start_time": "2022-12-12T09:33:19.585Z"
   },
   {
    "duration": 123,
    "start_time": "2022-12-12T09:33:20.978Z"
   },
   {
    "duration": 3,
    "start_time": "2022-12-12T09:33:21.102Z"
   },
   {
    "duration": 22,
    "start_time": "2022-12-12T09:33:21.106Z"
   },
   {
    "duration": 10,
    "start_time": "2022-12-12T09:33:21.131Z"
   },
   {
    "duration": 18,
    "start_time": "2022-12-12T09:33:21.143Z"
   },
   {
    "duration": 10,
    "start_time": "2022-12-12T09:33:21.163Z"
   },
   {
    "duration": 20,
    "start_time": "2022-12-12T09:33:21.174Z"
   },
   {
    "duration": 4,
    "start_time": "2022-12-12T09:33:21.195Z"
   },
   {
    "duration": 136,
    "start_time": "2022-12-12T09:33:21.201Z"
   },
   {
    "duration": 3,
    "start_time": "2022-12-12T09:33:21.338Z"
   },
   {
    "duration": 22,
    "start_time": "2022-12-12T09:33:21.343Z"
   },
   {
    "duration": 13,
    "start_time": "2022-12-12T09:33:21.366Z"
   },
   {
    "duration": 11,
    "start_time": "2022-12-12T09:33:21.381Z"
   },
   {
    "duration": 19,
    "start_time": "2022-12-12T09:33:21.393Z"
   },
   {
    "duration": 2,
    "start_time": "2022-12-12T09:33:21.414Z"
   },
   {
    "duration": 5,
    "start_time": "2022-12-12T09:33:21.426Z"
   },
   {
    "duration": 14,
    "start_time": "2022-12-12T09:33:21.432Z"
   },
   {
    "duration": 5,
    "start_time": "2022-12-12T09:33:21.448Z"
   },
   {
    "duration": 6,
    "start_time": "2022-12-12T09:33:21.455Z"
   },
   {
    "duration": 6,
    "start_time": "2022-12-12T09:33:21.462Z"
   },
   {
    "duration": 8,
    "start_time": "2022-12-12T09:33:21.469Z"
   },
   {
    "duration": 4,
    "start_time": "2022-12-12T09:33:21.480Z"
   },
   {
    "duration": 10,
    "start_time": "2022-12-12T09:33:21.485Z"
   },
   {
    "duration": 38,
    "start_time": "2022-12-12T09:33:21.497Z"
   },
   {
    "duration": 19,
    "start_time": "2022-12-12T09:33:21.537Z"
   },
   {
    "duration": 17,
    "start_time": "2022-12-12T09:33:21.558Z"
   },
   {
    "duration": 185,
    "start_time": "2022-12-12T09:33:21.577Z"
   },
   {
    "duration": 2555,
    "start_time": "2022-12-12T09:33:21.763Z"
   },
   {
    "duration": 609,
    "start_time": "2022-12-12T09:33:24.319Z"
   },
   {
    "duration": 155,
    "start_time": "2022-12-12T09:34:45.506Z"
   },
   {
    "duration": 106,
    "start_time": "2022-12-12T09:46:26.920Z"
   },
   {
    "duration": 6,
    "start_time": "2022-12-12T09:48:52.537Z"
   },
   {
    "duration": 88,
    "start_time": "2022-12-12T09:49:34.517Z"
   },
   {
    "duration": 92,
    "start_time": "2022-12-12T09:49:42.491Z"
   },
   {
    "duration": 93,
    "start_time": "2022-12-12T09:49:56.298Z"
   },
   {
    "duration": 5,
    "start_time": "2022-12-12T10:40:56.338Z"
   },
   {
    "duration": 30,
    "start_time": "2022-12-12T10:41:26.444Z"
   },
   {
    "duration": 27,
    "start_time": "2022-12-12T10:42:26.210Z"
   },
   {
    "duration": 26,
    "start_time": "2022-12-12T10:44:14.497Z"
   },
   {
    "duration": 29,
    "start_time": "2022-12-12T10:44:38.481Z"
   },
   {
    "duration": 26,
    "start_time": "2022-12-12T10:46:06.118Z"
   },
   {
    "duration": 70,
    "start_time": "2022-12-12T10:48:44.683Z"
   },
   {
    "duration": 47,
    "start_time": "2022-12-12T10:49:22.814Z"
   },
   {
    "duration": 27,
    "start_time": "2022-12-12T10:52:11.939Z"
   },
   {
    "duration": 56,
    "start_time": "2022-12-12T10:54:01.645Z"
   },
   {
    "duration": 93,
    "start_time": "2022-12-12T10:59:21.278Z"
   },
   {
    "duration": 94,
    "start_time": "2022-12-12T10:59:36.492Z"
   },
   {
    "duration": 76,
    "start_time": "2022-12-12T11:01:41.922Z"
   },
   {
    "duration": 77,
    "start_time": "2022-12-12T11:01:50.699Z"
   },
   {
    "duration": 150,
    "start_time": "2022-12-12T11:03:04.479Z"
   },
   {
    "duration": 101,
    "start_time": "2022-12-12T11:11:10.874Z"
   },
   {
    "duration": 16,
    "start_time": "2022-12-12T11:11:30.510Z"
   },
   {
    "duration": 31,
    "start_time": "2022-12-12T11:12:56.019Z"
   },
   {
    "duration": 33,
    "start_time": "2022-12-12T11:13:41.901Z"
   },
   {
    "duration": 39,
    "start_time": "2022-12-12T11:14:48.634Z"
   },
   {
    "duration": 38,
    "start_time": "2022-12-12T11:15:01.022Z"
   },
   {
    "duration": 36,
    "start_time": "2022-12-12T11:17:02.486Z"
   },
   {
    "duration": 45,
    "start_time": "2022-12-12T11:17:41.540Z"
   },
   {
    "duration": 39,
    "start_time": "2022-12-12T11:17:57.091Z"
   },
   {
    "duration": 53,
    "start_time": "2022-12-12T11:18:53.144Z"
   },
   {
    "duration": 43,
    "start_time": "2022-12-12T11:20:47.093Z"
   },
   {
    "duration": 10,
    "start_time": "2022-12-12T11:24:59.060Z"
   },
   {
    "duration": 17,
    "start_time": "2022-12-12T11:25:40.822Z"
   },
   {
    "duration": 349,
    "start_time": "2022-12-12T11:27:30.177Z"
   },
   {
    "duration": 77,
    "start_time": "2022-12-12T11:43:04.546Z"
   },
   {
    "duration": 158,
    "start_time": "2022-12-12T11:43:18.677Z"
   },
   {
    "duration": 89,
    "start_time": "2022-12-12T11:57:37.160Z"
   },
   {
    "duration": 4,
    "start_time": "2022-12-12T11:57:44.958Z"
   },
   {
    "duration": 424,
    "start_time": "2022-12-12T11:58:03.246Z"
   },
   {
    "duration": 493,
    "start_time": "2022-12-12T11:58:34.485Z"
   },
   {
    "duration": 42463,
    "start_time": "2022-12-12T12:08:35.234Z"
   },
   {
    "duration": 12454,
    "start_time": "2022-12-12T12:09:20.531Z"
   },
   {
    "duration": 103649,
    "start_time": "2022-12-12T12:11:32.103Z"
   },
   {
    "duration": 4,
    "start_time": "2022-12-12T13:10:07.396Z"
   },
   {
    "duration": 3,
    "start_time": "2022-12-12T13:10:24.492Z"
   },
   {
    "duration": 1295,
    "start_time": "2022-12-12T13:11:09.758Z"
   },
   {
    "duration": 52,
    "start_time": "2022-12-12T13:11:11.055Z"
   },
   {
    "duration": 11,
    "start_time": "2022-12-12T13:11:11.109Z"
   },
   {
    "duration": 34,
    "start_time": "2022-12-12T13:11:11.121Z"
   },
   {
    "duration": 50,
    "start_time": "2022-12-12T13:11:11.157Z"
   },
   {
    "duration": 1409,
    "start_time": "2022-12-12T13:11:11.209Z"
   },
   {
    "duration": 117,
    "start_time": "2022-12-12T13:11:12.620Z"
   },
   {
    "duration": 3,
    "start_time": "2022-12-12T13:11:12.739Z"
   },
   {
    "duration": 20,
    "start_time": "2022-12-12T13:11:12.743Z"
   },
   {
    "duration": 16,
    "start_time": "2022-12-12T13:11:12.766Z"
   },
   {
    "duration": 18,
    "start_time": "2022-12-12T13:11:12.784Z"
   },
   {
    "duration": 11,
    "start_time": "2022-12-12T13:11:12.803Z"
   },
   {
    "duration": 28,
    "start_time": "2022-12-12T13:11:12.815Z"
   },
   {
    "duration": 4,
    "start_time": "2022-12-12T13:11:12.845Z"
   },
   {
    "duration": 123,
    "start_time": "2022-12-12T13:11:12.850Z"
   },
   {
    "duration": 3,
    "start_time": "2022-12-12T13:11:12.975Z"
   },
   {
    "duration": 27,
    "start_time": "2022-12-12T13:11:12.979Z"
   },
   {
    "duration": 6,
    "start_time": "2022-12-12T13:11:13.008Z"
   },
   {
    "duration": 12,
    "start_time": "2022-12-12T13:11:13.015Z"
   },
   {
    "duration": 18,
    "start_time": "2022-12-12T13:11:13.028Z"
   },
   {
    "duration": 2,
    "start_time": "2022-12-12T13:11:13.048Z"
   },
   {
    "duration": 8,
    "start_time": "2022-12-12T13:11:13.051Z"
   },
   {
    "duration": 6,
    "start_time": "2022-12-12T13:11:13.061Z"
   },
   {
    "duration": 5,
    "start_time": "2022-12-12T13:11:13.068Z"
   },
   {
    "duration": 8,
    "start_time": "2022-12-12T13:11:13.074Z"
   },
   {
    "duration": 6,
    "start_time": "2022-12-12T13:11:13.083Z"
   },
   {
    "duration": 5,
    "start_time": "2022-12-12T13:11:13.090Z"
   },
   {
    "duration": 3,
    "start_time": "2022-12-12T13:11:13.098Z"
   },
   {
    "duration": 7,
    "start_time": "2022-12-12T13:11:13.126Z"
   },
   {
    "duration": 43,
    "start_time": "2022-12-12T13:11:13.134Z"
   },
   {
    "duration": 17,
    "start_time": "2022-12-12T13:11:13.178Z"
   },
   {
    "duration": 16,
    "start_time": "2022-12-12T13:11:13.196Z"
   },
   {
    "duration": 141,
    "start_time": "2022-12-12T13:11:13.214Z"
   },
   {
    "duration": 2509,
    "start_time": "2022-12-12T13:11:13.357Z"
   },
   {
    "duration": 659,
    "start_time": "2022-12-12T13:11:15.868Z"
   },
   {
    "duration": 177,
    "start_time": "2022-12-12T13:11:16.529Z"
   },
   {
    "duration": 5,
    "start_time": "2022-12-12T13:11:16.707Z"
   },
   {
    "duration": 56,
    "start_time": "2022-12-12T13:11:16.726Z"
   },
   {
    "duration": 93,
    "start_time": "2022-12-12T13:11:16.783Z"
   },
   {
    "duration": 169,
    "start_time": "2022-12-12T13:11:16.877Z"
   },
   {
    "duration": 105,
    "start_time": "2022-12-12T13:11:17.127Z"
   },
   {
    "duration": 34,
    "start_time": "2022-12-12T13:11:17.233Z"
   },
   {
    "duration": 65,
    "start_time": "2022-12-12T13:11:17.269Z"
   },
   {
    "duration": 90,
    "start_time": "2022-12-12T13:11:17.336Z"
   },
   {
    "duration": 104,
    "start_time": "2022-12-12T13:11:17.428Z"
   },
   {
    "duration": 296,
    "start_time": "2022-12-12T13:11:17.534Z"
   },
   {
    "duration": 547,
    "start_time": "2022-12-12T13:11:17.831Z"
   },
   {
    "duration": 2,
    "start_time": "2022-12-12T13:11:18.380Z"
   },
   {
    "duration": 12380,
    "start_time": "2022-12-12T13:11:18.383Z"
   },
   {
    "duration": 3,
    "start_time": "2022-12-12T13:11:30.765Z"
   },
   {
    "duration": 4,
    "start_time": "2022-12-12T13:11:38.812Z"
   },
   {
    "duration": 5120,
    "start_time": "2022-12-12T13:11:56.669Z"
   },
   {
    "duration": 4373,
    "start_time": "2022-12-12T13:12:33.523Z"
   },
   {
    "duration": 4250,
    "start_time": "2022-12-12T13:15:30.476Z"
   },
   {
    "duration": 72,
    "start_time": "2022-12-12T13:16:04.120Z"
   },
   {
    "duration": 3205,
    "start_time": "2022-12-12T13:16:15.768Z"
   },
   {
    "duration": 1307,
    "start_time": "2022-12-12T13:18:07.048Z"
   },
   {
    "duration": 53,
    "start_time": "2022-12-12T13:18:08.357Z"
   },
   {
    "duration": 14,
    "start_time": "2022-12-12T13:18:08.411Z"
   },
   {
    "duration": 6,
    "start_time": "2022-12-12T13:18:08.427Z"
   },
   {
    "duration": 33,
    "start_time": "2022-12-12T13:18:08.435Z"
   },
   {
    "duration": 1377,
    "start_time": "2022-12-12T13:18:08.470Z"
   },
   {
    "duration": 115,
    "start_time": "2022-12-12T13:18:09.849Z"
   },
   {
    "duration": 3,
    "start_time": "2022-12-12T13:18:09.966Z"
   },
   {
    "duration": 18,
    "start_time": "2022-12-12T13:18:09.970Z"
   },
   {
    "duration": 8,
    "start_time": "2022-12-12T13:18:09.990Z"
   },
   {
    "duration": 34,
    "start_time": "2022-12-12T13:18:09.999Z"
   },
   {
    "duration": 11,
    "start_time": "2022-12-12T13:18:10.035Z"
   },
   {
    "duration": 23,
    "start_time": "2022-12-12T13:18:10.047Z"
   },
   {
    "duration": 4,
    "start_time": "2022-12-12T13:18:10.071Z"
   },
   {
    "duration": 138,
    "start_time": "2022-12-12T13:18:10.077Z"
   },
   {
    "duration": 9,
    "start_time": "2022-12-12T13:18:10.217Z"
   },
   {
    "duration": 21,
    "start_time": "2022-12-12T13:18:10.228Z"
   },
   {
    "duration": 7,
    "start_time": "2022-12-12T13:18:10.250Z"
   },
   {
    "duration": 10,
    "start_time": "2022-12-12T13:18:10.258Z"
   },
   {
    "duration": 25,
    "start_time": "2022-12-12T13:18:10.270Z"
   },
   {
    "duration": 3,
    "start_time": "2022-12-12T13:18:10.296Z"
   },
   {
    "duration": 10,
    "start_time": "2022-12-12T13:18:10.300Z"
   },
   {
    "duration": 18,
    "start_time": "2022-12-12T13:18:10.311Z"
   },
   {
    "duration": 11,
    "start_time": "2022-12-12T13:18:10.330Z"
   },
   {
    "duration": 4,
    "start_time": "2022-12-12T13:18:10.343Z"
   },
   {
    "duration": 5,
    "start_time": "2022-12-12T13:18:10.349Z"
   },
   {
    "duration": 10,
    "start_time": "2022-12-12T13:18:10.355Z"
   },
   {
    "duration": 9,
    "start_time": "2022-12-12T13:18:10.368Z"
   },
   {
    "duration": 12,
    "start_time": "2022-12-12T13:18:10.379Z"
   },
   {
    "duration": 34,
    "start_time": "2022-12-12T13:18:10.393Z"
   },
   {
    "duration": 17,
    "start_time": "2022-12-12T13:18:10.429Z"
   },
   {
    "duration": 15,
    "start_time": "2022-12-12T13:18:10.447Z"
   },
   {
    "duration": 161,
    "start_time": "2022-12-12T13:18:10.464Z"
   },
   {
    "duration": 2490,
    "start_time": "2022-12-12T13:18:10.626Z"
   },
   {
    "duration": 517,
    "start_time": "2022-12-12T13:18:13.118Z"
   },
   {
    "duration": 289,
    "start_time": "2022-12-12T13:18:13.637Z"
   },
   {
    "duration": 5,
    "start_time": "2022-12-12T13:18:13.928Z"
   },
   {
    "duration": 57,
    "start_time": "2022-12-12T13:18:13.934Z"
   },
   {
    "duration": 95,
    "start_time": "2022-12-12T13:18:13.993Z"
   },
   {
    "duration": 236,
    "start_time": "2022-12-12T13:18:14.090Z"
   },
   {
    "duration": 104,
    "start_time": "2022-12-12T13:18:14.330Z"
   },
   {
    "duration": 33,
    "start_time": "2022-12-12T13:18:14.436Z"
   },
   {
    "duration": 68,
    "start_time": "2022-12-12T13:18:14.471Z"
   },
   {
    "duration": 89,
    "start_time": "2022-12-12T13:18:14.541Z"
   },
   {
    "duration": 104,
    "start_time": "2022-12-12T13:18:14.632Z"
   },
   {
    "duration": 290,
    "start_time": "2022-12-12T13:18:14.737Z"
   },
   {
    "duration": 555,
    "start_time": "2022-12-12T13:18:15.029Z"
   },
   {
    "duration": 3,
    "start_time": "2022-12-12T13:18:15.585Z"
   },
   {
    "duration": 12556,
    "start_time": "2022-12-12T13:18:15.590Z"
   },
   {
    "duration": 80599,
    "start_time": "2022-12-12T13:18:28.148Z"
   },
   {
    "duration": 27961,
    "start_time": "2022-12-12T13:19:48.749Z"
   },
   {
    "duration": 1,
    "start_time": "2022-12-12T13:20:16.711Z"
   },
   {
    "duration": 4555,
    "start_time": "2022-12-12T13:20:23.764Z"
   },
   {
    "duration": 4199,
    "start_time": "2022-12-12T13:21:17.831Z"
   },
   {
    "duration": 46,
    "start_time": "2022-12-12T13:21:32.648Z"
   },
   {
    "duration": 4203,
    "start_time": "2022-12-12T13:21:41.532Z"
   },
   {
    "duration": 9107,
    "start_time": "2022-12-12T13:22:20.520Z"
   },
   {
    "duration": 3627,
    "start_time": "2022-12-12T13:23:16.005Z"
   },
   {
    "duration": 63180,
    "start_time": "2022-12-12T13:23:34.830Z"
   },
   {
    "duration": 2619,
    "start_time": "2022-12-12T13:24:42.378Z"
   },
   {
    "duration": 4071,
    "start_time": "2022-12-12T13:24:55.956Z"
   },
   {
    "duration": 2440,
    "start_time": "2022-12-12T13:26:01.172Z"
   },
   {
    "duration": 2504,
    "start_time": "2022-12-12T13:26:31.164Z"
   },
   {
    "duration": 10952,
    "start_time": "2022-12-12T13:26:45.417Z"
   },
   {
    "duration": 10512,
    "start_time": "2022-12-12T13:28:10.619Z"
   },
   {
    "duration": 88,
    "start_time": "2022-12-12T13:35:53.850Z"
   },
   {
    "duration": 1095,
    "start_time": "2022-12-12T13:36:02.144Z"
   },
   {
    "duration": 1081,
    "start_time": "2022-12-12T13:38:26.356Z"
   },
   {
    "duration": 81,
    "start_time": "2022-12-12T13:40:41.357Z"
   },
   {
    "duration": 73,
    "start_time": "2022-12-12T13:40:51.107Z"
   },
   {
    "duration": 95,
    "start_time": "2022-12-12T13:41:15.876Z"
   },
   {
    "duration": 1064,
    "start_time": "2022-12-12T13:41:39.725Z"
   },
   {
    "duration": 1384,
    "start_time": "2022-12-12T13:49:09.753Z"
   },
   {
    "duration": 1298,
    "start_time": "2022-12-12T13:53:36.993Z"
   },
   {
    "duration": 4662,
    "start_time": "2022-12-13T12:10:30.267Z"
   },
   {
    "duration": 199,
    "start_time": "2022-12-13T12:10:34.931Z"
   },
   {
    "duration": 19,
    "start_time": "2022-12-13T12:10:35.131Z"
   },
   {
    "duration": 23,
    "start_time": "2022-12-13T12:10:35.154Z"
   },
   {
    "duration": 37,
    "start_time": "2022-12-13T12:10:35.181Z"
   },
   {
    "duration": 1753,
    "start_time": "2022-12-13T12:10:35.220Z"
   },
   {
    "duration": 151,
    "start_time": "2022-12-13T12:10:36.975Z"
   },
   {
    "duration": 3,
    "start_time": "2022-12-13T12:10:37.127Z"
   },
   {
    "duration": 27,
    "start_time": "2022-12-13T12:10:37.137Z"
   },
   {
    "duration": 14,
    "start_time": "2022-12-13T12:10:37.166Z"
   },
   {
    "duration": 23,
    "start_time": "2022-12-13T12:10:37.182Z"
   },
   {
    "duration": 16,
    "start_time": "2022-12-13T12:10:37.207Z"
   },
   {
    "duration": 42,
    "start_time": "2022-12-13T12:10:37.224Z"
   },
   {
    "duration": 4,
    "start_time": "2022-12-13T12:10:37.269Z"
   },
   {
    "duration": 6,
    "start_time": "2022-12-13T12:10:42.672Z"
   },
   {
    "duration": 4,
    "start_time": "2022-12-13T12:10:45.372Z"
   },
   {
    "duration": 4,
    "start_time": "2022-12-13T12:10:46.700Z"
   },
   {
    "duration": 5,
    "start_time": "2022-12-13T12:10:54.302Z"
   },
   {
    "duration": 8,
    "start_time": "2022-12-13T12:10:59.078Z"
   },
   {
    "duration": 91,
    "start_time": "2022-12-13T12:11:10.602Z"
   },
   {
    "duration": 8,
    "start_time": "2022-12-13T12:11:13.457Z"
   },
   {
    "duration": 4,
    "start_time": "2022-12-13T12:11:16.303Z"
   },
   {
    "duration": 4,
    "start_time": "2022-12-13T12:11:18.183Z"
   },
   {
    "duration": 5,
    "start_time": "2022-12-13T12:11:19.872Z"
   },
   {
    "duration": 4,
    "start_time": "2022-12-13T12:11:21.682Z"
   },
   {
    "duration": 1663,
    "start_time": "2022-12-23T12:28:53.428Z"
   },
   {
    "duration": 202,
    "start_time": "2022-12-23T12:28:55.093Z"
   },
   {
    "duration": 20,
    "start_time": "2022-12-23T12:28:55.297Z"
   },
   {
    "duration": 25,
    "start_time": "2022-12-23T12:28:55.320Z"
   },
   {
    "duration": 59,
    "start_time": "2022-12-23T12:28:55.347Z"
   },
   {
    "duration": 1645,
    "start_time": "2022-12-23T12:28:55.408Z"
   },
   {
    "duration": 153,
    "start_time": "2022-12-23T12:28:57.055Z"
   },
   {
    "duration": 4,
    "start_time": "2022-12-23T12:28:57.211Z"
   },
   {
    "duration": 53,
    "start_time": "2022-12-23T12:28:57.216Z"
   },
   {
    "duration": 31,
    "start_time": "2022-12-23T12:28:57.274Z"
   },
   {
    "duration": 30,
    "start_time": "2022-12-23T12:28:57.307Z"
   },
   {
    "duration": 43,
    "start_time": "2022-12-23T12:28:57.339Z"
   },
   {
    "duration": 26,
    "start_time": "2022-12-23T12:28:57.385Z"
   },
   {
    "duration": 60,
    "start_time": "2022-12-23T12:28:57.415Z"
   },
   {
    "duration": 161,
    "start_time": "2022-12-23T12:28:57.477Z"
   },
   {
    "duration": 14,
    "start_time": "2022-12-23T12:28:57.640Z"
   },
   {
    "duration": 61,
    "start_time": "2022-12-23T12:28:57.655Z"
   },
   {
    "duration": 33,
    "start_time": "2022-12-23T12:28:57.718Z"
   },
   {
    "duration": 20,
    "start_time": "2022-12-23T12:28:57.753Z"
   },
   {
    "duration": 46,
    "start_time": "2022-12-23T12:28:57.775Z"
   },
   {
    "duration": 50,
    "start_time": "2022-12-23T12:28:57.823Z"
   },
   {
    "duration": 18,
    "start_time": "2022-12-23T12:28:57.875Z"
   },
   {
    "duration": 56,
    "start_time": "2022-12-23T12:28:57.895Z"
   },
   {
    "duration": 40,
    "start_time": "2022-12-23T12:28:57.953Z"
   },
   {
    "duration": 30,
    "start_time": "2022-12-23T12:28:57.995Z"
   },
   {
    "duration": 23,
    "start_time": "2022-12-23T12:28:58.027Z"
   },
   {
    "duration": 24,
    "start_time": "2022-12-23T12:28:58.052Z"
   },
   {
    "duration": 35,
    "start_time": "2022-12-23T12:28:58.080Z"
   },
   {
    "duration": 46,
    "start_time": "2022-12-23T12:28:58.117Z"
   },
   {
    "duration": 66,
    "start_time": "2022-12-23T12:28:58.165Z"
   },
   {
    "duration": 20,
    "start_time": "2022-12-23T12:28:58.233Z"
   },
   {
    "duration": 29,
    "start_time": "2022-12-23T12:28:58.255Z"
   },
   {
    "duration": 170,
    "start_time": "2022-12-23T12:28:58.286Z"
   },
   {
    "duration": 2991,
    "start_time": "2022-12-23T12:28:58.459Z"
   },
   {
    "duration": 505,
    "start_time": "2022-12-23T12:29:01.453Z"
   },
   {
    "duration": 273,
    "start_time": "2022-12-23T12:29:01.960Z"
   },
   {
    "duration": 19,
    "start_time": "2022-12-23T12:29:02.235Z"
   },
   {
    "duration": 100,
    "start_time": "2022-12-23T12:29:02.256Z"
   },
   {
    "duration": 103,
    "start_time": "2022-12-23T12:29:02.359Z"
   },
   {
    "duration": 194,
    "start_time": "2022-12-23T12:29:02.464Z"
   },
   {
    "duration": 94,
    "start_time": "2022-12-23T12:29:02.659Z"
   },
   {
    "duration": 47,
    "start_time": "2022-12-23T12:29:02.755Z"
   },
   {
    "duration": 94,
    "start_time": "2022-12-23T12:29:02.804Z"
   },
   {
    "duration": 163,
    "start_time": "2022-12-23T12:29:02.900Z"
   },
   {
    "duration": 91,
    "start_time": "2022-12-23T12:29:03.065Z"
   },
   {
    "duration": 396,
    "start_time": "2022-12-23T12:29:03.158Z"
   },
   {
    "duration": 591,
    "start_time": "2022-12-23T12:29:03.557Z"
   },
   {
    "duration": 3,
    "start_time": "2022-12-23T12:29:04.150Z"
   },
   {
    "duration": 12147,
    "start_time": "2022-12-23T12:29:04.154Z"
   },
   {
    "duration": 4750,
    "start_time": "2022-12-23T12:29:16.303Z"
   },
   {
    "duration": 1148,
    "start_time": "2022-12-23T12:29:21.055Z"
   },
   {
    "duration": 1489,
    "start_time": "2022-12-23T12:29:22.206Z"
   },
   {
    "duration": 416,
    "start_time": "2022-12-23T12:34:50.379Z"
   },
   {
    "duration": 313,
    "start_time": "2022-12-23T14:11:07.423Z"
   },
   {
    "duration": 290,
    "start_time": "2022-12-23T14:11:28.189Z"
   },
   {
    "duration": 5,
    "start_time": "2022-12-23T14:11:39.823Z"
   },
   {
    "duration": 5,
    "start_time": "2022-12-23T14:34:13.862Z"
   },
   {
    "duration": 116,
    "start_time": "2022-12-23T14:34:20.166Z"
   },
   {
    "duration": 1250,
    "start_time": "2022-12-23T14:35:02.307Z"
   },
   {
    "duration": 575,
    "start_time": "2022-12-23T14:41:23.228Z"
   },
   {
    "duration": 71,
    "start_time": "2022-12-23T14:47:26.711Z"
   },
   {
    "duration": 11,
    "start_time": "2022-12-23T14:51:45.391Z"
   },
   {
    "duration": 285,
    "start_time": "2022-12-23T14:54:19.133Z"
   },
   {
    "duration": 283,
    "start_time": "2022-12-23T14:54:58.783Z"
   }
  ],
  "kernelspec": {
   "display_name": "Python 3 (ipykernel)",
   "language": "python",
   "name": "python3"
  },
  "language_info": {
   "codemirror_mode": {
    "name": "ipython",
    "version": 3
   },
   "file_extension": ".py",
   "mimetype": "text/x-python",
   "name": "python",
   "nbconvert_exporter": "python",
   "pygments_lexer": "ipython3",
   "version": "3.9.12"
  },
  "toc": {
   "base_numbering": 1,
   "nav_menu": {},
   "number_sections": true,
   "sideBar": true,
   "skip_h1_title": true,
   "title_cell": "Содержание",
   "title_sidebar": "Contents",
   "toc_cell": true,
   "toc_position": {
    "height": "calc(100% - 180px)",
    "left": "10px",
    "top": "150px",
    "width": "354.594px"
   },
   "toc_section_display": true,
   "toc_window_display": true
  }
 },
 "nbformat": 4,
 "nbformat_minor": 2
}
